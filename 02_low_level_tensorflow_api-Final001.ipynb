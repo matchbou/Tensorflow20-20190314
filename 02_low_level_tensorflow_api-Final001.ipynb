{
  "nbformat": 4,
  "nbformat_minor": 0,
  "metadata": {
    "colab": {
      "name": "02_low_level_tensorflow_api.ipynb",
      "version": "0.3.2",
      "provenance": [],
      "toc_visible": true,
      "include_colab_link": true
    },
    "kernelspec": {
      "name": "python3",
      "display_name": "Python 3"
    },
    "accelerator": "TPU"
  },
  "cells": [
    {
      "cell_type": "markdown",
      "metadata": {
        "id": "view-in-github",
        "colab_type": "text"
      },
      "source": [
        "<a href=\"https://colab.research.google.com/github/matchbou/Tensorflow20-20190314/blob/master/02_low_level_tensorflow_api-Final001.ipynb\" target=\"_parent\"><img src=\"https://colab.research.google.com/assets/colab-badge.svg\" alt=\"Open In Colab\"/></a>"
      ]
    },
    {
      "metadata": {
        "id": "XUjYEWYdMxVu",
        "colab_type": "text"
      },
      "cell_type": "markdown",
      "source": [
        "# Low-Level TensorFlow API"
      ]
    },
    {
      "metadata": {
        "id": "dTD3ON1XMxVw",
        "colab_type": "text"
      },
      "cell_type": "markdown",
      "source": [
        "In this notebook you will learn how to use TensorFlow's low-level API, then use it to build custom loss functions, as well as custom Keras layers and models."
      ]
    },
    {
      "metadata": {
        "id": "0fDg77Z0MxVx",
        "colab_type": "text"
      },
      "cell_type": "markdown",
      "source": [
        "## Imports"
      ]
    },
    {
      "metadata": {
        "id": "RKuxNcdLO_dO",
        "colab_type": "code",
        "colab": {
          "base_uri": "https://localhost:8080/",
          "height": 346
        },
        "outputId": "e6237b9d-b78c-4dff-c6ec-e0e8a7224272"
      },
      "cell_type": "code",
      "source": [
        "!pip install tf-nightly-gpu-2.0-preview"
      ],
      "execution_count": 1,
      "outputs": [
        {
          "output_type": "stream",
          "text": [
            "Requirement already satisfied: tf-nightly-gpu-2.0-preview in /usr/local/lib/python3.6/dist-packages (2.0.0.dev20190313)\n",
            "Requirement already satisfied: numpy<2.0,>=1.14.5 in /usr/local/lib/python3.6/dist-packages (from tf-nightly-gpu-2.0-preview) (1.14.6)\n",
            "Requirement already satisfied: keras-preprocessing>=1.0.5 in /usr/local/lib/python3.6/dist-packages (from tf-nightly-gpu-2.0-preview) (1.0.9)\n",
            "Requirement already satisfied: six>=1.10.0 in /usr/local/lib/python3.6/dist-packages (from tf-nightly-gpu-2.0-preview) (1.11.0)\n",
            "Requirement already satisfied: gast>=0.2.0 in /usr/local/lib/python3.6/dist-packages (from tf-nightly-gpu-2.0-preview) (0.2.2)\n",
            "Requirement already satisfied: keras-applications>=1.0.6 in /usr/local/lib/python3.6/dist-packages (from tf-nightly-gpu-2.0-preview) (1.0.7)\n",
            "Requirement already satisfied: google-pasta>=0.1.2 in /usr/local/lib/python3.6/dist-packages (from tf-nightly-gpu-2.0-preview) (0.1.4)\n",
            "Requirement already satisfied: astor>=0.6.0 in /usr/local/lib/python3.6/dist-packages (from tf-nightly-gpu-2.0-preview) (0.7.1)\n",
            "Requirement already satisfied: protobuf>=3.6.1 in /usr/local/lib/python3.6/dist-packages (from tf-nightly-gpu-2.0-preview) (3.6.1)\n",
            "Requirement already satisfied: tb-nightly<1.15.0a0,>=1.14.0a0 in /usr/local/lib/python3.6/dist-packages (from tf-nightly-gpu-2.0-preview) (1.14.0a20190313)\n",
            "Requirement already satisfied: grpcio>=1.8.6 in /usr/local/lib/python3.6/dist-packages (from tf-nightly-gpu-2.0-preview) (1.15.0)\n",
            "Requirement already satisfied: wheel>=0.26 in /usr/local/lib/python3.6/dist-packages (from tf-nightly-gpu-2.0-preview) (0.33.1)\n",
            "Requirement already satisfied: absl-py>=0.7.0 in /usr/local/lib/python3.6/dist-packages (from tf-nightly-gpu-2.0-preview) (0.7.0)\n",
            "Requirement already satisfied: tensorflow-estimator-2.0-preview in /usr/local/lib/python3.6/dist-packages (from tf-nightly-gpu-2.0-preview) (1.14.0.dev2019031400)\n",
            "Requirement already satisfied: termcolor>=1.1.0 in /usr/local/lib/python3.6/dist-packages (from tf-nightly-gpu-2.0-preview) (1.1.0)\n",
            "Requirement already satisfied: h5py in /usr/local/lib/python3.6/dist-packages (from keras-applications>=1.0.6->tf-nightly-gpu-2.0-preview) (2.8.0)\n",
            "Requirement already satisfied: setuptools in /usr/local/lib/python3.6/dist-packages (from protobuf>=3.6.1->tf-nightly-gpu-2.0-preview) (40.8.0)\n",
            "Requirement already satisfied: werkzeug>=0.11.15 in /usr/local/lib/python3.6/dist-packages (from tb-nightly<1.15.0a0,>=1.14.0a0->tf-nightly-gpu-2.0-preview) (0.14.1)\n",
            "Requirement already satisfied: markdown>=2.6.8 in /usr/local/lib/python3.6/dist-packages (from tb-nightly<1.15.0a0,>=1.14.0a0->tf-nightly-gpu-2.0-preview) (3.0.1)\n"
          ],
          "name": "stdout"
        }
      ]
    },
    {
      "metadata": {
        "id": "F6aXAPhBMxVy",
        "colab_type": "code",
        "colab": {}
      },
      "cell_type": "code",
      "source": [
        "%matplotlib inline"
      ],
      "execution_count": 0,
      "outputs": []
    },
    {
      "metadata": {
        "id": "FTxNiljCMxV1",
        "colab_type": "code",
        "colab": {}
      },
      "cell_type": "code",
      "source": [
        "import matplotlib as mpl\n",
        "import matplotlib.pyplot as plt\n",
        "import numpy as np\n",
        "import os\n",
        "import pandas as pd\n",
        "import sklearn\n",
        "import sys\n",
        "import tensorflow as tf\n",
        "from tensorflow import keras\n",
        "import time"
      ],
      "execution_count": 0,
      "outputs": []
    },
    {
      "metadata": {
        "id": "NX-9MQ23MxV3",
        "colab_type": "code",
        "outputId": "5f00cf39-79da-45ee-bc6d-5ac13ae90638",
        "colab": {
          "base_uri": "https://localhost:8080/",
          "height": 147
        }
      },
      "cell_type": "code",
      "source": [
        "print(\"python\", sys.version)\n",
        "for module in mpl, np, pd, sklearn, tf, keras:\n",
        "    print(module.__name__, module.__version__)"
      ],
      "execution_count": 4,
      "outputs": [
        {
          "output_type": "stream",
          "text": [
            "python 3.6.7 (default, Oct 22 2018, 11:32:17) \n",
            "[GCC 8.2.0]\n",
            "matplotlib 3.0.3\n",
            "numpy 1.14.6\n",
            "pandas 0.22.0\n",
            "sklearn 0.20.3\n",
            "tensorflow 2.0.0-dev20190313\n",
            "tensorflow.python.keras.api._v2.keras 2.2.4-tf\n"
          ],
          "name": "stdout"
        }
      ]
    },
    {
      "metadata": {
        "id": "GA4TUhpdMxV6",
        "colab_type": "code",
        "colab": {}
      },
      "cell_type": "code",
      "source": [
        "assert sys.version_info >= (3, 5) # Python ≥3.5 required\n",
        "assert tf.__version__ >= \"2.0\"    # TensorFlow ≥2.0 required"
      ],
      "execution_count": 0,
      "outputs": []
    },
    {
      "metadata": {
        "id": "D6sEUQ3pMxV8",
        "colab_type": "text"
      },
      "cell_type": "markdown",
      "source": [
        "## Tensors and operations"
      ]
    },
    {
      "metadata": {
        "id": "wRmzVpTkMxV8",
        "colab_type": "text"
      },
      "cell_type": "markdown",
      "source": [
        "You can browse through the code examples or jump directly to the exercises."
      ]
    },
    {
      "metadata": {
        "id": "lQQyJ0FKMxV9",
        "colab_type": "text"
      },
      "cell_type": "markdown",
      "source": [
        "### Tensors"
      ]
    },
    {
      "metadata": {
        "id": "jBXqvl3OMxV9",
        "colab_type": "code",
        "outputId": "36cb7450-bcfc-49ea-8e82-425241494fec",
        "colab": {
          "base_uri": "https://localhost:8080/",
          "height": 66
        }
      },
      "cell_type": "code",
      "source": [
        "t = tf.constant([[1., 2., 3.], [4., 5., 6.]])\n",
        "t"
      ],
      "execution_count": 6,
      "outputs": [
        {
          "output_type": "execute_result",
          "data": {
            "text/plain": [
              "<tf.Tensor: id=0, shape=(2, 3), dtype=float32, numpy=\n",
              "array([[1., 2., 3.],\n",
              "       [4., 5., 6.]], dtype=float32)>"
            ]
          },
          "metadata": {
            "tags": []
          },
          "execution_count": 6
        }
      ]
    },
    {
      "metadata": {
        "id": "nXuZTNXlMxWA",
        "colab_type": "code",
        "outputId": "bc1ab9c1-d20e-4ff0-f8ec-706084d32ea5",
        "colab": {
          "base_uri": "https://localhost:8080/",
          "height": 33
        }
      },
      "cell_type": "code",
      "source": [
        "t.shape"
      ],
      "execution_count": 7,
      "outputs": [
        {
          "output_type": "execute_result",
          "data": {
            "text/plain": [
              "TensorShape([2, 3])"
            ]
          },
          "metadata": {
            "tags": []
          },
          "execution_count": 7
        }
      ]
    },
    {
      "metadata": {
        "id": "jq4zrHAWMxWI",
        "colab_type": "code",
        "outputId": "2aa34b4f-6b55-4a65-853c-64f2d90d9ae3",
        "colab": {
          "base_uri": "https://localhost:8080/",
          "height": 33
        }
      },
      "cell_type": "code",
      "source": [
        "t.dtype"
      ],
      "execution_count": 8,
      "outputs": [
        {
          "output_type": "execute_result",
          "data": {
            "text/plain": [
              "tf.float32"
            ]
          },
          "metadata": {
            "tags": []
          },
          "execution_count": 8
        }
      ]
    },
    {
      "metadata": {
        "id": "HYDJis1dMxWN",
        "colab_type": "text"
      },
      "cell_type": "markdown",
      "source": [
        "### Indexing"
      ]
    },
    {
      "metadata": {
        "id": "5me3_21sMxWO",
        "colab_type": "code",
        "outputId": "3de26ed6-5177-4b5f-e677-850bcc1ff6cb",
        "colab": {
          "base_uri": "https://localhost:8080/",
          "height": 66
        }
      },
      "cell_type": "code",
      "source": [
        "t[:, 1:]"
      ],
      "execution_count": 9,
      "outputs": [
        {
          "output_type": "execute_result",
          "data": {
            "text/plain": [
              "<tf.Tensor: id=5, shape=(2, 2), dtype=float32, numpy=\n",
              "array([[2., 3.],\n",
              "       [5., 6.]], dtype=float32)>"
            ]
          },
          "metadata": {
            "tags": []
          },
          "execution_count": 9
        }
      ]
    },
    {
      "metadata": {
        "id": "Fe0AFiCNMxWR",
        "colab_type": "code",
        "outputId": "4d3adaa9-c298-4020-a242-d4ebeb88e69a",
        "colab": {
          "base_uri": "https://localhost:8080/",
          "height": 66
        }
      },
      "cell_type": "code",
      "source": [
        "t[..., 1, tf.newaxis]"
      ],
      "execution_count": 10,
      "outputs": [
        {
          "output_type": "execute_result",
          "data": {
            "text/plain": [
              "<tf.Tensor: id=10, shape=(2, 1), dtype=float32, numpy=\n",
              "array([[2.],\n",
              "       [5.]], dtype=float32)>"
            ]
          },
          "metadata": {
            "tags": []
          },
          "execution_count": 10
        }
      ]
    },
    {
      "metadata": {
        "id": "2ZVSw2ybMxWV",
        "colab_type": "text"
      },
      "cell_type": "markdown",
      "source": [
        "### Ops"
      ]
    },
    {
      "metadata": {
        "id": "WN_W04w2MxWV",
        "colab_type": "code",
        "outputId": "ddc54bde-3560-4703-a8cb-aa2c6c839582",
        "colab": {
          "base_uri": "https://localhost:8080/",
          "height": 66
        }
      },
      "cell_type": "code",
      "source": [
        "t + 10"
      ],
      "execution_count": 11,
      "outputs": [
        {
          "output_type": "execute_result",
          "data": {
            "text/plain": [
              "<tf.Tensor: id=13, shape=(2, 3), dtype=float32, numpy=\n",
              "array([[11., 12., 13.],\n",
              "       [14., 15., 16.]], dtype=float32)>"
            ]
          },
          "metadata": {
            "tags": []
          },
          "execution_count": 11
        }
      ]
    },
    {
      "metadata": {
        "id": "1XvXbTbeMxWZ",
        "colab_type": "code",
        "outputId": "93f565e1-ebe4-4403-ff2c-9590f1b0ae2f",
        "colab": {
          "base_uri": "https://localhost:8080/",
          "height": 66
        }
      },
      "cell_type": "code",
      "source": [
        "tf.square(t)"
      ],
      "execution_count": 12,
      "outputs": [
        {
          "output_type": "execute_result",
          "data": {
            "text/plain": [
              "<tf.Tensor: id=15, shape=(2, 3), dtype=float32, numpy=\n",
              "array([[ 1.,  4.,  9.],\n",
              "       [16., 25., 36.]], dtype=float32)>"
            ]
          },
          "metadata": {
            "tags": []
          },
          "execution_count": 12
        }
      ]
    },
    {
      "metadata": {
        "id": "E9Djw2HDMxWh",
        "colab_type": "code",
        "outputId": "a3d5ff48-4408-4b24-bb01-3711867527c7",
        "colab": {
          "base_uri": "https://localhost:8080/",
          "height": 66
        }
      },
      "cell_type": "code",
      "source": [
        "t @ tf.transpose(t)"
      ],
      "execution_count": 13,
      "outputs": [
        {
          "output_type": "execute_result",
          "data": {
            "text/plain": [
              "<tf.Tensor: id=19, shape=(2, 2), dtype=float32, numpy=\n",
              "array([[14., 32.],\n",
              "       [32., 77.]], dtype=float32)>"
            ]
          },
          "metadata": {
            "tags": []
          },
          "execution_count": 13
        }
      ]
    },
    {
      "metadata": {
        "id": "9xhU2JMjMxWl",
        "colab_type": "text"
      },
      "cell_type": "markdown",
      "source": [
        "### To/From NumPy"
      ]
    },
    {
      "metadata": {
        "id": "ph8JGjhCMxWl",
        "colab_type": "code",
        "outputId": "49e0040a-dfc9-4f62-b355-33d784f41345",
        "colab": {
          "base_uri": "https://localhost:8080/",
          "height": 50
        }
      },
      "cell_type": "code",
      "source": [
        "t.numpy()"
      ],
      "execution_count": 14,
      "outputs": [
        {
          "output_type": "execute_result",
          "data": {
            "text/plain": [
              "array([[1., 2., 3.],\n",
              "       [4., 5., 6.]], dtype=float32)"
            ]
          },
          "metadata": {
            "tags": []
          },
          "execution_count": 14
        }
      ]
    },
    {
      "metadata": {
        "id": "vOMdDMi5MxWq",
        "colab_type": "code",
        "outputId": "1bae04a4-1a03-40c7-b45b-71539bccbd00",
        "colab": {
          "base_uri": "https://localhost:8080/",
          "height": 66
        }
      },
      "cell_type": "code",
      "source": [
        "a = np.array([[1., 2., 3.], [4., 5., 6.]])\n",
        "tf.constant(a)"
      ],
      "execution_count": 15,
      "outputs": [
        {
          "output_type": "execute_result",
          "data": {
            "text/plain": [
              "<tf.Tensor: id=22, shape=(2, 3), dtype=float64, numpy=\n",
              "array([[1., 2., 3.],\n",
              "       [4., 5., 6.]])>"
            ]
          },
          "metadata": {
            "tags": []
          },
          "execution_count": 15
        }
      ]
    },
    {
      "metadata": {
        "id": "UanpWGv_MxWt",
        "colab_type": "code",
        "outputId": "dacaa4d3-7160-48cc-b1c0-1962559081a5",
        "colab": {
          "base_uri": "https://localhost:8080/",
          "height": 50
        }
      },
      "cell_type": "code",
      "source": [
        "t = tf.constant([[1., 2., 3.], [4., 5., 6.]])\n",
        "np.square(t)"
      ],
      "execution_count": 16,
      "outputs": [
        {
          "output_type": "execute_result",
          "data": {
            "text/plain": [
              "array([[ 1.,  4.,  9.],\n",
              "       [16., 25., 36.]], dtype=float32)"
            ]
          },
          "metadata": {
            "tags": []
          },
          "execution_count": 16
        }
      ]
    },
    {
      "metadata": {
        "id": "ULLt-0jcMxWv",
        "colab_type": "text"
      },
      "cell_type": "markdown",
      "source": [
        "### Scalars"
      ]
    },
    {
      "metadata": {
        "id": "Ea1Mv6SWMxWw",
        "colab_type": "code",
        "outputId": "8d1e3bba-796f-46b6-e092-1ba807462273",
        "colab": {
          "base_uri": "https://localhost:8080/",
          "height": 33
        }
      },
      "cell_type": "code",
      "source": [
        "t = tf.constant(2.718)\n",
        "t"
      ],
      "execution_count": 17,
      "outputs": [
        {
          "output_type": "execute_result",
          "data": {
            "text/plain": [
              "<tf.Tensor: id=26, shape=(), dtype=float32, numpy=2.718>"
            ]
          },
          "metadata": {
            "tags": []
          },
          "execution_count": 17
        }
      ]
    },
    {
      "metadata": {
        "id": "TKOxJTmkMxWx",
        "colab_type": "code",
        "outputId": "f446ce0c-4f32-433f-d4d2-7ce2b01b0d25",
        "colab": {
          "base_uri": "https://localhost:8080/",
          "height": 33
        }
      },
      "cell_type": "code",
      "source": [
        "t.shape"
      ],
      "execution_count": 18,
      "outputs": [
        {
          "output_type": "execute_result",
          "data": {
            "text/plain": [
              "TensorShape([])"
            ]
          },
          "metadata": {
            "tags": []
          },
          "execution_count": 18
        }
      ]
    },
    {
      "metadata": {
        "id": "laQu5mAJMxW0",
        "colab_type": "code",
        "outputId": "f0a7d886-4cec-4d7a-9398-ef3effa0c8d8",
        "colab": {
          "base_uri": "https://localhost:8080/",
          "height": 33
        }
      },
      "cell_type": "code",
      "source": [
        "t.numpy()"
      ],
      "execution_count": 19,
      "outputs": [
        {
          "output_type": "execute_result",
          "data": {
            "text/plain": [
              "2.718"
            ]
          },
          "metadata": {
            "tags": []
          },
          "execution_count": 19
        }
      ]
    },
    {
      "metadata": {
        "id": "JV0QV1T1MxW1",
        "colab_type": "text"
      },
      "cell_type": "markdown",
      "source": [
        "### Conflicting Types"
      ]
    },
    {
      "metadata": {
        "id": "3JLMnVF9MxW2",
        "colab_type": "code",
        "outputId": "fefc0f71-227c-4b89-b602-e4769a394ec0",
        "colab": {
          "base_uri": "https://localhost:8080/",
          "height": 53
        }
      },
      "cell_type": "code",
      "source": [
        "try:\n",
        "    tf.constant(1) + tf.constant(1.0)\n",
        "except tf.errors.InvalidArgumentError as ex:\n",
        "    print(ex)"
      ],
      "execution_count": 20,
      "outputs": [
        {
          "output_type": "stream",
          "text": [
            "cannot compute Add as input #1(zero-based) was expected to be a int32 tensor but is a float tensor [Op:Add] name: add/\n"
          ],
          "name": "stdout"
        }
      ]
    },
    {
      "metadata": {
        "id": "VLhQe4znMxW4",
        "colab_type": "code",
        "outputId": "0a167603-cb76-490c-83ad-45fc68be820c",
        "colab": {
          "base_uri": "https://localhost:8080/",
          "height": 53
        }
      },
      "cell_type": "code",
      "source": [
        "try:\n",
        "    tf.constant(1.0, dtype=tf.float64) + tf.constant(1.0)\n",
        "except tf.errors.InvalidArgumentError as ex:\n",
        "    print(ex)"
      ],
      "execution_count": 21,
      "outputs": [
        {
          "output_type": "stream",
          "text": [
            "cannot compute Add as input #1(zero-based) was expected to be a double tensor but is a float tensor [Op:Add] name: add/\n"
          ],
          "name": "stdout"
        }
      ]
    },
    {
      "metadata": {
        "id": "MzYJEl8zMxW6",
        "colab_type": "code",
        "outputId": "aa7e85ff-cd94-4a7d-d1b8-edc27f416d27",
        "colab": {
          "base_uri": "https://localhost:8080/",
          "height": 33
        }
      },
      "cell_type": "code",
      "source": [
        "t = tf.constant(1.0, dtype=tf.float64)\n",
        "tf.cast(t, tf.float32) + tf.constant(1.0)"
      ],
      "execution_count": 22,
      "outputs": [
        {
          "output_type": "execute_result",
          "data": {
            "text/plain": [
              "<tf.Tensor: id=36, shape=(), dtype=float32, numpy=2.0>"
            ]
          },
          "metadata": {
            "tags": []
          },
          "execution_count": 22
        }
      ]
    },
    {
      "metadata": {
        "id": "Tkmy19FOMxW8",
        "colab_type": "text"
      },
      "cell_type": "markdown",
      "source": [
        "### Strings"
      ]
    },
    {
      "metadata": {
        "id": "t3mGpeB4MxW9",
        "colab_type": "code",
        "outputId": "40972021-90b4-4190-a9de-a3a7dc1a87fa",
        "colab": {
          "base_uri": "https://localhost:8080/",
          "height": 33
        }
      },
      "cell_type": "code",
      "source": [
        "t = tf.constant(\"café\")\n",
        "t"
      ],
      "execution_count": 23,
      "outputs": [
        {
          "output_type": "execute_result",
          "data": {
            "text/plain": [
              "<tf.Tensor: id=38, shape=(), dtype=string, numpy=b'caf\\xc3\\xa9'>"
            ]
          },
          "metadata": {
            "tags": []
          },
          "execution_count": 23
        }
      ]
    },
    {
      "metadata": {
        "id": "5jT3LzQ6MxW_",
        "colab_type": "code",
        "outputId": "de84d1d3-59dc-4c93-fc12-67fdbff7ae1b",
        "colab": {
          "base_uri": "https://localhost:8080/",
          "height": 33
        }
      },
      "cell_type": "code",
      "source": [
        "tf.strings.length(t)"
      ],
      "execution_count": 24,
      "outputs": [
        {
          "output_type": "execute_result",
          "data": {
            "text/plain": [
              "<tf.Tensor: id=40, shape=(), dtype=int32, numpy=5>"
            ]
          },
          "metadata": {
            "tags": []
          },
          "execution_count": 24
        }
      ]
    },
    {
      "metadata": {
        "id": "qyrqhG04MxXC",
        "colab_type": "code",
        "outputId": "92b5651b-23ad-49cf-c686-f335930987bd",
        "colab": {
          "base_uri": "https://localhost:8080/",
          "height": 33
        }
      },
      "cell_type": "code",
      "source": [
        "tf.strings.length(t, unit=\"UTF8_CHAR\")"
      ],
      "execution_count": 25,
      "outputs": [
        {
          "output_type": "execute_result",
          "data": {
            "text/plain": [
              "<tf.Tensor: id=42, shape=(), dtype=int32, numpy=4>"
            ]
          },
          "metadata": {
            "tags": []
          },
          "execution_count": 25
        }
      ]
    },
    {
      "metadata": {
        "id": "MaFCChCEMxXE",
        "colab_type": "code",
        "outputId": "8c4748bd-340a-41c1-f213-7eeab73e0e49",
        "colab": {
          "base_uri": "https://localhost:8080/",
          "height": 33
        }
      },
      "cell_type": "code",
      "source": [
        "tf.strings.unicode_decode(t, \"UTF8\")"
      ],
      "execution_count": 26,
      "outputs": [
        {
          "output_type": "execute_result",
          "data": {
            "text/plain": [
              "<tf.Tensor: id=47, shape=(4,), dtype=int32, numpy=array([ 99,  97, 102, 233], dtype=int32)>"
            ]
          },
          "metadata": {
            "tags": []
          },
          "execution_count": 26
        }
      ]
    },
    {
      "metadata": {
        "id": "7a0jZ33zMxXH",
        "colab_type": "text"
      },
      "cell_type": "markdown",
      "source": [
        "### String arrays"
      ]
    },
    {
      "metadata": {
        "id": "ADEOzm4SMxXI",
        "colab_type": "code",
        "colab": {}
      },
      "cell_type": "code",
      "source": [
        "t = tf.constant([\"Café\", \"Coffee\", \"caffè\", \"咖啡\"])"
      ],
      "execution_count": 0,
      "outputs": []
    },
    {
      "metadata": {
        "id": "HqbD_saiMxXJ",
        "colab_type": "code",
        "outputId": "f9a99c34-ee34-4729-82b5-14f9f8ad8be4",
        "colab": {
          "base_uri": "https://localhost:8080/",
          "height": 33
        }
      },
      "cell_type": "code",
      "source": [
        "tf.strings.length(t, unit=\"UTF8_CHAR\")"
      ],
      "execution_count": 28,
      "outputs": [
        {
          "output_type": "execute_result",
          "data": {
            "text/plain": [
              "<tf.Tensor: id=50, shape=(4,), dtype=int32, numpy=array([4, 6, 5, 2], dtype=int32)>"
            ]
          },
          "metadata": {
            "tags": []
          },
          "execution_count": 28
        }
      ]
    },
    {
      "metadata": {
        "id": "qWAth5aXMxXL",
        "colab_type": "code",
        "outputId": "5e0d2fa1-119e-41ae-8915-59d1f0b7a5b9",
        "colab": {
          "base_uri": "https://localhost:8080/",
          "height": 86
        }
      },
      "cell_type": "code",
      "source": [
        "r = tf.strings.unicode_decode(t, \"UTF8\")\n",
        "r"
      ],
      "execution_count": 29,
      "outputs": [
        {
          "output_type": "execute_result",
          "data": {
            "text/plain": [
              "tf.RaggedTensor(values=tf.Tensor(\n",
              "[   67    97   102   233    67   111   102   102   101   101    99    97\n",
              "   102   102   232 21654 21857], shape=(17,), dtype=int32), row_splits=tf.Tensor([ 0  4 10 15 17], shape=(5,), dtype=int64))"
            ]
          },
          "metadata": {
            "tags": []
          },
          "execution_count": 29
        }
      ]
    },
    {
      "metadata": {
        "id": "xyiZ_RiaMxXM",
        "colab_type": "text"
      },
      "cell_type": "markdown",
      "source": [
        "### Ragged tensors"
      ]
    },
    {
      "metadata": {
        "id": "dzqtcdqyMxXN",
        "colab_type": "code",
        "outputId": "047a0956-59f6-40bf-c212-842c8f9fcd8a",
        "colab": {
          "base_uri": "https://localhost:8080/",
          "height": 53
        }
      },
      "cell_type": "code",
      "source": [
        "r = tf.ragged.constant([[11, 12], [21, 22, 23], [], [41]])\n",
        "r"
      ],
      "execution_count": 30,
      "outputs": [
        {
          "output_type": "execute_result",
          "data": {
            "text/plain": [
              "tf.RaggedTensor(values=tf.Tensor([11 12 21 22 23 41], shape=(6,), dtype=int32), row_splits=tf.Tensor([0 2 5 5 6], shape=(5,), dtype=int64))"
            ]
          },
          "metadata": {
            "tags": []
          },
          "execution_count": 30
        }
      ]
    },
    {
      "metadata": {
        "id": "BdXppzH-MxXP",
        "colab_type": "code",
        "outputId": "20232d22-77fb-4371-f2e8-4367b7d6cb33",
        "colab": {
          "base_uri": "https://localhost:8080/",
          "height": 33
        }
      },
      "cell_type": "code",
      "source": [
        "print(r)"
      ],
      "execution_count": 31,
      "outputs": [
        {
          "output_type": "stream",
          "text": [
            "<tf.RaggedTensor [[11, 12], [21, 22, 23], [], [41]]>\n"
          ],
          "name": "stdout"
        }
      ]
    },
    {
      "metadata": {
        "id": "wl9Nr1IuMxXR",
        "colab_type": "code",
        "outputId": "8b387439-9786-4b4a-d6cb-d923697ee84a",
        "colab": {
          "base_uri": "https://localhost:8080/",
          "height": 33
        }
      },
      "cell_type": "code",
      "source": [
        "print(r[1])"
      ],
      "execution_count": 32,
      "outputs": [
        {
          "output_type": "stream",
          "text": [
            "tf.Tensor([21 22 23], shape=(3,), dtype=int32)\n"
          ],
          "name": "stdout"
        }
      ]
    },
    {
      "metadata": {
        "id": "5Ofm7jdzMxXW",
        "colab_type": "code",
        "outputId": "06eb9b03-fcdb-4951-d1bf-25bf491079d6",
        "colab": {
          "base_uri": "https://localhost:8080/",
          "height": 33
        }
      },
      "cell_type": "code",
      "source": [
        "print(r[1:2])"
      ],
      "execution_count": 33,
      "outputs": [
        {
          "output_type": "stream",
          "text": [
            "<tf.RaggedTensor [[21, 22, 23]]>\n"
          ],
          "name": "stdout"
        }
      ]
    },
    {
      "metadata": {
        "id": "wrlVeucuMxXZ",
        "colab_type": "code",
        "outputId": "d29924b6-e13d-4113-dc89-86196eab764e",
        "colab": {
          "base_uri": "https://localhost:8080/",
          "height": 33
        }
      },
      "cell_type": "code",
      "source": [
        "r2 = tf.ragged.constant([[51, 52], [], [71]])\n",
        "print(tf.concat([r, r2], axis=0))"
      ],
      "execution_count": 34,
      "outputs": [
        {
          "output_type": "stream",
          "text": [
            "<tf.RaggedTensor [[11, 12], [21, 22, 23], [], [41], [51, 52], [], [71]]>\n"
          ],
          "name": "stdout"
        }
      ]
    },
    {
      "metadata": {
        "id": "U8u-K1qLMxXd",
        "colab_type": "code",
        "outputId": "fa11469f-fbe1-4697-f874-39d2d4f5700f",
        "colab": {
          "base_uri": "https://localhost:8080/",
          "height": 33
        }
      },
      "cell_type": "code",
      "source": [
        "r3 = tf.ragged.constant([[13, 14, 15], [24], [], [42, 43]])\n",
        "print(tf.concat([r, r3], axis=1))"
      ],
      "execution_count": 35,
      "outputs": [
        {
          "output_type": "stream",
          "text": [
            "<tf.RaggedTensor [[11, 12, 13, 14, 15], [21, 22, 23, 24], [], [41, 42, 43]]>\n"
          ],
          "name": "stdout"
        }
      ]
    },
    {
      "metadata": {
        "id": "-hgsHF8IMxXi",
        "colab_type": "code",
        "outputId": "70b26bf8-08c6-4fed-e367-60d73c2b0828",
        "colab": {
          "base_uri": "https://localhost:8080/",
          "height": 98
        }
      },
      "cell_type": "code",
      "source": [
        "r.to_tensor()"
      ],
      "execution_count": 36,
      "outputs": [
        {
          "output_type": "execute_result",
          "data": {
            "text/plain": [
              "<tf.Tensor: id=281, shape=(4, 3), dtype=int32, numpy=\n",
              "array([[11, 12,  0],\n",
              "       [21, 22, 23],\n",
              "       [ 0,  0,  0],\n",
              "       [41,  0,  0]], dtype=int32)>"
            ]
          },
          "metadata": {
            "tags": []
          },
          "execution_count": 36
        }
      ]
    },
    {
      "metadata": {
        "id": "FIQvJsZTMxXj",
        "colab_type": "text"
      },
      "cell_type": "markdown",
      "source": [
        "### Sparse tensors"
      ]
    },
    {
      "metadata": {
        "id": "i75P33m3MxXk",
        "colab_type": "code",
        "outputId": "1350ba02-a509-46a5-e358-ef8f2c5c911f",
        "colab": {
          "base_uri": "https://localhost:8080/",
          "height": 102
        }
      },
      "cell_type": "code",
      "source": [
        "s = tf.SparseTensor(indices=[[0, 1], [1, 0], [2, 3]],\n",
        "                    values=[1., 2., 3.],\n",
        "                    dense_shape=[3, 4])\n",
        "print(s)"
      ],
      "execution_count": 37,
      "outputs": [
        {
          "output_type": "stream",
          "text": [
            "SparseTensor(indices=tf.Tensor(\n",
            "[[0 1]\n",
            " [1 0]\n",
            " [2 3]], shape=(3, 2), dtype=int64), values=tf.Tensor([1. 2. 3.], shape=(3,), dtype=float32), dense_shape=tf.Tensor([3 4], shape=(2,), dtype=int64))\n"
          ],
          "name": "stdout"
        }
      ]
    },
    {
      "metadata": {
        "id": "yzJjT5zTMxXp",
        "colab_type": "code",
        "outputId": "16d5bd75-2eb1-4848-c79e-bac8309bf9f5",
        "colab": {
          "base_uri": "https://localhost:8080/",
          "height": 82
        }
      },
      "cell_type": "code",
      "source": [
        "tf.sparse.to_dense(s)"
      ],
      "execution_count": 38,
      "outputs": [
        {
          "output_type": "execute_result",
          "data": {
            "text/plain": [
              "<tf.Tensor: id=290, shape=(3, 4), dtype=float32, numpy=\n",
              "array([[0., 1., 0., 0.],\n",
              "       [2., 0., 0., 0.],\n",
              "       [0., 0., 0., 3.]], dtype=float32)>"
            ]
          },
          "metadata": {
            "tags": []
          },
          "execution_count": 38
        }
      ]
    },
    {
      "metadata": {
        "id": "CE8e_oIGMxXr",
        "colab_type": "code",
        "colab": {}
      },
      "cell_type": "code",
      "source": [
        "s2 = s * 2.0"
      ],
      "execution_count": 0,
      "outputs": []
    },
    {
      "metadata": {
        "id": "obw7wPg6MxXs",
        "colab_type": "code",
        "outputId": "f0dccfad-5211-42f0-d949-a6dca1de8bab",
        "colab": {
          "base_uri": "https://localhost:8080/",
          "height": 33
        }
      },
      "cell_type": "code",
      "source": [
        "try:\n",
        "    s3 = s + 1.\n",
        "except TypeError as ex:\n",
        "    print(ex)"
      ],
      "execution_count": 40,
      "outputs": [
        {
          "output_type": "stream",
          "text": [
            "unsupported operand type(s) for +: 'SparseTensor' and 'float'\n"
          ],
          "name": "stdout"
        }
      ]
    },
    {
      "metadata": {
        "id": "amwvfkRlMxXu",
        "colab_type": "code",
        "outputId": "0928d0c7-8fc9-4c57-e930-54fc7ef195ac",
        "colab": {
          "base_uri": "https://localhost:8080/",
          "height": 82
        }
      },
      "cell_type": "code",
      "source": [
        "s4 = tf.constant([[10., 20.], [30., 40.], [50., 60.], [70., 80.]])\n",
        "tf.sparse.sparse_dense_matmul(s, s4)"
      ],
      "execution_count": 41,
      "outputs": [
        {
          "output_type": "execute_result",
          "data": {
            "text/plain": [
              "<tf.Tensor: id=295, shape=(3, 2), dtype=float32, numpy=\n",
              "array([[ 30.,  40.],\n",
              "       [ 20.,  40.],\n",
              "       [210., 240.]], dtype=float32)>"
            ]
          },
          "metadata": {
            "tags": []
          },
          "execution_count": 41
        }
      ]
    },
    {
      "metadata": {
        "id": "3fR5B2Z5MxXx",
        "colab_type": "code",
        "outputId": "10585c09-33cf-48dd-e57a-51599eb4b9b6",
        "colab": {
          "base_uri": "https://localhost:8080/",
          "height": 86
        }
      },
      "cell_type": "code",
      "source": [
        "s5 = tf.SparseTensor(indices=[[0, 2], [0, 1]],\n",
        "                     values=[1., 2.],\n",
        "                     dense_shape=[3, 4])\n",
        "print(s5)"
      ],
      "execution_count": 42,
      "outputs": [
        {
          "output_type": "stream",
          "text": [
            "SparseTensor(indices=tf.Tensor(\n",
            "[[0 2]\n",
            " [0 1]], shape=(2, 2), dtype=int64), values=tf.Tensor([1. 2.], shape=(2,), dtype=float32), dense_shape=tf.Tensor([3 4], shape=(2,), dtype=int64))\n"
          ],
          "name": "stdout"
        }
      ]
    },
    {
      "metadata": {
        "id": "O8KBTz_RMxX0",
        "colab_type": "code",
        "outputId": "b98ef458-cfa3-4167-a208-ab260092ec1a",
        "colab": {
          "base_uri": "https://localhost:8080/",
          "height": 33
        }
      },
      "cell_type": "code",
      "source": [
        "try:\n",
        "    tf.sparse.to_dense(s5)\n",
        "except tf.errors.InvalidArgumentError as ex:\n",
        "    print(ex)"
      ],
      "execution_count": 43,
      "outputs": [
        {
          "output_type": "stream",
          "text": [
            "indices[1] = [0,1] is out of order [Op:SparseToDense]\n"
          ],
          "name": "stdout"
        }
      ]
    },
    {
      "metadata": {
        "id": "pakqUG4oMxX2",
        "colab_type": "code",
        "outputId": "4ccd8972-644f-4325-c957-df3bf1c6c40a",
        "colab": {
          "base_uri": "https://localhost:8080/",
          "height": 82
        }
      },
      "cell_type": "code",
      "source": [
        "s6 = tf.sparse.reorder(s5)\n",
        "tf.sparse.to_dense(s6)"
      ],
      "execution_count": 44,
      "outputs": [
        {
          "output_type": "execute_result",
          "data": {
            "text/plain": [
              "<tf.Tensor: id=310, shape=(3, 4), dtype=float32, numpy=\n",
              "array([[0., 2., 1., 0.],\n",
              "       [0., 0., 0., 0.],\n",
              "       [0., 0., 0., 0.]], dtype=float32)>"
            ]
          },
          "metadata": {
            "tags": []
          },
          "execution_count": 44
        }
      ]
    },
    {
      "metadata": {
        "id": "Zred_XkeMxX4",
        "colab_type": "text"
      },
      "cell_type": "markdown",
      "source": [
        "### Variables"
      ]
    },
    {
      "metadata": {
        "id": "FenkMqMvMxX5",
        "colab_type": "code",
        "outputId": "61955e85-15e4-45fd-afa4-19c45aa27178",
        "colab": {
          "base_uri": "https://localhost:8080/",
          "height": 66
        }
      },
      "cell_type": "code",
      "source": [
        "v = tf.Variable([[1., 2., 3.], [4., 5., 6.]])\n",
        "v"
      ],
      "execution_count": 46,
      "outputs": [
        {
          "output_type": "execute_result",
          "data": {
            "text/plain": [
              "<tf.Variable 'Variable:0' shape=(2, 3) dtype=float32, numpy=\n",
              "array([[1., 2., 3.],\n",
              "       [4., 5., 6.]], dtype=float32)>"
            ]
          },
          "metadata": {
            "tags": []
          },
          "execution_count": 46
        }
      ]
    },
    {
      "metadata": {
        "id": "w7Pmml0AMxX7",
        "colab_type": "code",
        "outputId": "4da56e5e-47aa-4c8f-8d5b-edef04f13aa0",
        "colab": {
          "base_uri": "https://localhost:8080/",
          "height": 66
        }
      },
      "cell_type": "code",
      "source": [
        "v.value()"
      ],
      "execution_count": 47,
      "outputs": [
        {
          "output_type": "execute_result",
          "data": {
            "text/plain": [
              "<tf.Tensor: id=331, shape=(2, 3), dtype=float32, numpy=\n",
              "array([[1., 2., 3.],\n",
              "       [4., 5., 6.]], dtype=float32)>"
            ]
          },
          "metadata": {
            "tags": []
          },
          "execution_count": 47
        }
      ]
    },
    {
      "metadata": {
        "id": "mplwzXIiMxX8",
        "colab_type": "code",
        "outputId": "67345736-8411-45c6-a0d9-035ce6b6803b",
        "colab": {
          "base_uri": "https://localhost:8080/",
          "height": 50
        }
      },
      "cell_type": "code",
      "source": [
        "v.numpy()"
      ],
      "execution_count": 48,
      "outputs": [
        {
          "output_type": "execute_result",
          "data": {
            "text/plain": [
              "array([[1., 2., 3.],\n",
              "       [4., 5., 6.]], dtype=float32)"
            ]
          },
          "metadata": {
            "tags": []
          },
          "execution_count": 48
        }
      ]
    },
    {
      "metadata": {
        "id": "cUPcE3zwMxX-",
        "colab_type": "code",
        "outputId": "233ad013-1fb1-4e2c-d599-b74390a0bce1",
        "colab": {
          "base_uri": "https://localhost:8080/",
          "height": 66
        }
      },
      "cell_type": "code",
      "source": [
        "v.assign(2 * v)"
      ],
      "execution_count": 49,
      "outputs": [
        {
          "output_type": "execute_result",
          "data": {
            "text/plain": [
              "<tf.Variable 'UnreadVariable' shape=(2, 3) dtype=float32, numpy=\n",
              "array([[ 2.,  4.,  6.],\n",
              "       [ 8., 10., 12.]], dtype=float32)>"
            ]
          },
          "metadata": {
            "tags": []
          },
          "execution_count": 49
        }
      ]
    },
    {
      "metadata": {
        "id": "_ZRskPlzMxX_",
        "colab_type": "code",
        "outputId": "67b67b1d-eea9-49ed-fbca-fcd19d203b1b",
        "colab": {
          "base_uri": "https://localhost:8080/",
          "height": 66
        }
      },
      "cell_type": "code",
      "source": [
        "v[0, 1].assign(42)"
      ],
      "execution_count": 50,
      "outputs": [
        {
          "output_type": "execute_result",
          "data": {
            "text/plain": [
              "<tf.Variable 'UnreadVariable' shape=(2, 3) dtype=float32, numpy=\n",
              "array([[ 2., 42.,  6.],\n",
              "       [ 8., 10., 12.]], dtype=float32)>"
            ]
          },
          "metadata": {
            "tags": []
          },
          "execution_count": 50
        }
      ]
    },
    {
      "metadata": {
        "id": "iKhGVpieMxYB",
        "colab_type": "code",
        "outputId": "e5455dfe-44f3-4470-95e2-21725949c217",
        "colab": {
          "base_uri": "https://localhost:8080/",
          "height": 66
        }
      },
      "cell_type": "code",
      "source": [
        "v[1].assign([7., 8., 9.])"
      ],
      "execution_count": 51,
      "outputs": [
        {
          "output_type": "execute_result",
          "data": {
            "text/plain": [
              "<tf.Variable 'UnreadVariable' shape=(2, 3) dtype=float32, numpy=\n",
              "array([[ 2., 42.,  6.],\n",
              "       [ 7.,  8.,  9.]], dtype=float32)>"
            ]
          },
          "metadata": {
            "tags": []
          },
          "execution_count": 51
        }
      ]
    },
    {
      "metadata": {
        "id": "hgTeN3vqMxYD",
        "colab_type": "code",
        "outputId": "a4b62c99-1175-414d-996b-aa488b8d74fc",
        "colab": {
          "base_uri": "https://localhost:8080/",
          "height": 33
        }
      },
      "cell_type": "code",
      "source": [
        "try:\n",
        "    v[1] = [7., 8., 9.]\n",
        "except TypeError as ex:\n",
        "    print(ex)"
      ],
      "execution_count": 52,
      "outputs": [
        {
          "output_type": "stream",
          "text": [
            "'ResourceVariable' object does not support item assignment\n"
          ],
          "name": "stdout"
        }
      ]
    },
    {
      "metadata": {
        "id": "o1PaXAs_MxYF",
        "colab_type": "code",
        "outputId": "93800785-34a6-48b6-8b17-a8127fef20eb",
        "colab": {
          "base_uri": "https://localhost:8080/",
          "height": 66
        }
      },
      "cell_type": "code",
      "source": [
        "sparse_delta = tf.IndexedSlices(values=[[1., 2., 3.], [4., 5., 6.]],\n",
        "                                indices=[1, 0])\n",
        "v.scatter_update(sparse_delta)"
      ],
      "execution_count": 53,
      "outputs": [
        {
          "output_type": "execute_result",
          "data": {
            "text/plain": [
              "<tf.Variable 'UnreadVariable' shape=(2, 3) dtype=float32, numpy=\n",
              "array([[4., 5., 6.],\n",
              "       [1., 2., 3.]], dtype=float32)>"
            ]
          },
          "metadata": {
            "tags": []
          },
          "execution_count": 53
        }
      ]
    },
    {
      "metadata": {
        "id": "FcwzZKHcMxYH",
        "colab_type": "code",
        "outputId": "e4db73cb-6d32-48d5-d478-e94b33d30db6",
        "colab": {
          "base_uri": "https://localhost:8080/",
          "height": 66
        }
      },
      "cell_type": "code",
      "source": [
        "v.scatter_nd_update(indices=[[0, 0], [1, 2]],\n",
        "                    updates=[100., 200.])"
      ],
      "execution_count": 54,
      "outputs": [
        {
          "output_type": "execute_result",
          "data": {
            "text/plain": [
              "<tf.Variable 'UnreadVariable' shape=(2, 3) dtype=float32, numpy=\n",
              "array([[100.,   5.,   6.],\n",
              "       [  1.,   2., 200.]], dtype=float32)>"
            ]
          },
          "metadata": {
            "tags": []
          },
          "execution_count": 54
        }
      ]
    },
    {
      "metadata": {
        "id": "HvGugst8MxYJ",
        "colab_type": "text"
      },
      "cell_type": "markdown",
      "source": [
        "### Devices"
      ]
    },
    {
      "metadata": {
        "id": "6-atgcTcMxYJ",
        "colab_type": "code",
        "colab": {}
      },
      "cell_type": "code",
      "source": [
        "with tf.device(\"/cpu:0\"):\n",
        "    t = tf.constant([[1., 2., 3.], [4., 5., 6.]])"
      ],
      "execution_count": 0,
      "outputs": []
    },
    {
      "metadata": {
        "id": "xZjGDmUDMxYK",
        "colab_type": "code",
        "outputId": "cc148213-f350-4096-9b3d-046d74b391c5",
        "colab": {
          "base_uri": "https://localhost:8080/",
          "height": 33
        }
      },
      "cell_type": "code",
      "source": [
        "t.device"
      ],
      "execution_count": 56,
      "outputs": [
        {
          "output_type": "execute_result",
          "data": {
            "text/plain": [
              "'/job:localhost/replica:0/task:0/device:CPU:0'"
            ]
          },
          "metadata": {
            "tags": []
          },
          "execution_count": 56
        }
      ]
    },
    {
      "metadata": {
        "id": "tMz9EXTsMxYM",
        "colab_type": "code",
        "colab": {}
      },
      "cell_type": "code",
      "source": [
        "if tf.test.is_gpu_available():\n",
        "    with tf.device(\"/gpu:0\"):\n",
        "        t2 = tf.constant([[1., 2., 3.], [4., 5., 6.]])\n",
        "    print(t2.device)"
      ],
      "execution_count": 0,
      "outputs": []
    },
    {
      "metadata": {
        "id": "0ggjQ4DWMxYO",
        "colab_type": "text"
      },
      "cell_type": "markdown",
      "source": [
        "![Exercise](https://c1.staticflickr.com/9/8101/8553474140_c50cf08708_b.jpg)"
      ]
    },
    {
      "metadata": {
        "id": "hdj7MG-tMxYO",
        "colab_type": "text"
      },
      "cell_type": "markdown",
      "source": [
        "## Exercise 1 – Custom loss function"
      ]
    },
    {
      "metadata": {
        "id": "3JDG41jrMxYP",
        "colab_type": "text"
      },
      "cell_type": "markdown",
      "source": [
        "Let's start by loading and preparing the California housing dataset. We first load it, then split it into a training set, a validation set and a test set, and finally we scale it:"
      ]
    },
    {
      "metadata": {
        "id": "-_3l5gJnMxYP",
        "colab_type": "code",
        "colab": {
          "base_uri": "https://localhost:8080/",
          "height": 86
        },
        "outputId": "15a3040c-9c54-470e-b2c2-760a51470017"
      },
      "cell_type": "code",
      "source": [
        "from sklearn.datasets import fetch_california_housing\n",
        "from sklearn.model_selection import train_test_split\n",
        "from sklearn.preprocessing import StandardScaler\n",
        "\n",
        "housing = fetch_california_housing()\n",
        "X_train_full, X_test, y_train_full, y_test = train_test_split(\n",
        "    housing.data, housing.target.reshape(-1, 1), random_state=42)\n",
        "X_train, X_valid, y_train, y_valid = train_test_split(\n",
        "    X_train_full, y_train_full, random_state=42)\n",
        "\n",
        "scaler = StandardScaler()\n",
        "X_train_scaled = scaler.fit_transform(X_train)\n",
        "X_valid_scaled = scaler.transform(X_valid)\n",
        "X_test_scaled = scaler.transform(X_test)"
      ],
      "execution_count": 58,
      "outputs": [
        {
          "output_type": "stream",
          "text": [
            "Downloading Cal. housing from https://ndownloader.figshare.com/files/5976036 to /root/scikit_learn_data\n",
            "WARNING: Logging before flag parsing goes to stderr.\n",
            "I0314 08:19:58.486531 140613205387136 california_housing.py:114] Downloading Cal. housing from https://ndownloader.figshare.com/files/5976036 to /root/scikit_learn_data\n"
          ],
          "name": "stderr"
        }
      ]
    },
    {
      "metadata": {
        "id": "SMK1YX-SMxYR",
        "colab_type": "text"
      },
      "cell_type": "markdown",
      "source": [
        "### 1.1)\n",
        "Create an `my_mse()` function with two arguments: the true labels `y_true` and the model predictions `y_pred`. Make it return the mean squared error using TensorFlow operations. Note that you could write your own custom metrics in exactly the same way. **Tip**: recall that the MSE is the mean of the squares of prediction errors, which are the differences between the predictions and the labels, so you will need to use `tf.reduce_mean()` and `tf.square()`."
      ]
    },
    {
      "metadata": {
        "id": "EkE3K-swMxYR",
        "colab_type": "code",
        "colab": {}
      },
      "cell_type": "code",
      "source": [
        ""
      ],
      "execution_count": 0,
      "outputs": []
    },
    {
      "metadata": {
        "id": "7MQ108QfMxYS",
        "colab_type": "code",
        "colab": {}
      },
      "cell_type": "code",
      "source": [
        ""
      ],
      "execution_count": 0,
      "outputs": []
    },
    {
      "metadata": {
        "id": "zdyIIwb8MxYT",
        "colab_type": "code",
        "colab": {}
      },
      "cell_type": "code",
      "source": [
        ""
      ],
      "execution_count": 0,
      "outputs": []
    },
    {
      "metadata": {
        "id": "J5V5Fo3pMxYU",
        "colab_type": "text"
      },
      "cell_type": "markdown",
      "source": [
        "### 1.2)\n",
        "Compile the following model, passing it your custom loss function, then train it and evaluate it. **Tip**: don't forget to use the scaled sets."
      ]
    },
    {
      "metadata": {
        "id": "hDfA_W5JMxYU",
        "colab_type": "code",
        "colab": {}
      },
      "cell_type": "code",
      "source": [
        "model = keras.models.Sequential([\n",
        "    keras.layers.Dense(30, activation=\"relu\", input_shape=X_train.shape[1:]),\n",
        "    keras.layers.Dense(1),\n",
        "])"
      ],
      "execution_count": 0,
      "outputs": []
    },
    {
      "metadata": {
        "id": "g_eSi3bwMxYX",
        "colab_type": "code",
        "colab": {}
      },
      "cell_type": "code",
      "source": [
        ""
      ],
      "execution_count": 0,
      "outputs": []
    },
    {
      "metadata": {
        "id": "1oRUvZXUMxYa",
        "colab_type": "code",
        "colab": {}
      },
      "cell_type": "code",
      "source": [
        ""
      ],
      "execution_count": 0,
      "outputs": []
    },
    {
      "metadata": {
        "id": "op-BuHVgMxYb",
        "colab_type": "code",
        "colab": {}
      },
      "cell_type": "code",
      "source": [
        ""
      ],
      "execution_count": 0,
      "outputs": []
    },
    {
      "metadata": {
        "id": "sZnEmwKqMxYc",
        "colab_type": "text"
      },
      "cell_type": "markdown",
      "source": [
        "### 1.3)\n",
        "Try building and compiling the model again, this time adding `\"mse\"` (or equivalently `\"mean_squared_error\"` or `keras.losses.mean_squared_error`) to the list of additional metrics, then train the model and make sure the `my_mse` is equal to the standard `mse`."
      ]
    },
    {
      "metadata": {
        "id": "bpi5ijQlMxYd",
        "colab_type": "code",
        "colab": {}
      },
      "cell_type": "code",
      "source": [
        ""
      ],
      "execution_count": 0,
      "outputs": []
    },
    {
      "metadata": {
        "id": "uxdKoOU9MxYf",
        "colab_type": "code",
        "colab": {}
      },
      "cell_type": "code",
      "source": [
        ""
      ],
      "execution_count": 0,
      "outputs": []
    },
    {
      "metadata": {
        "id": "ecUIMWT9MxYg",
        "colab_type": "code",
        "colab": {}
      },
      "cell_type": "code",
      "source": [
        ""
      ],
      "execution_count": 0,
      "outputs": []
    },
    {
      "metadata": {
        "id": "MDCZt0NvMxYh",
        "colab_type": "text"
      },
      "cell_type": "markdown",
      "source": [
        "### 1.4)\n",
        "If you want your code to be portable to other Python implementations of the Keras API, you should use the operations in `keras.backend` rather than TensorFlow operations directly. This package contains thin wrappers around the backend's operations (for example, `keras.backend.square()` simply calls `tf.square()`). Try reimplementing the `my_mse()` function this way and use it to train and evaluate your model again. **Tip**: people frequently define `K = keras.backend` to make their code more readable."
      ]
    },
    {
      "metadata": {
        "id": "q-k9cX6nMxYi",
        "colab_type": "code",
        "colab": {}
      },
      "cell_type": "code",
      "source": [
        ""
      ],
      "execution_count": 0,
      "outputs": []
    },
    {
      "metadata": {
        "id": "CJd-wtG_MxYk",
        "colab_type": "code",
        "colab": {}
      },
      "cell_type": "code",
      "source": [
        ""
      ],
      "execution_count": 0,
      "outputs": []
    },
    {
      "metadata": {
        "id": "cJoiwxzwMxYl",
        "colab_type": "code",
        "colab": {}
      },
      "cell_type": "code",
      "source": [
        ""
      ],
      "execution_count": 0,
      "outputs": []
    },
    {
      "metadata": {
        "id": "HWo3ki-XMxYm",
        "colab_type": "text"
      },
      "cell_type": "markdown",
      "source": [
        "![Exercise solution](https://camo.githubusercontent.com/250388fde3fac9135ead9471733ee28e049f7a37/68747470733a2f2f75706c6f61642e77696b696d656469612e6f72672f77696b6970656469612f636f6d6d6f6e732f302f30362f46696c6f735f736567756e646f5f6c6f676f5f253238666c69707065642532392e6a7067)"
      ]
    },
    {
      "metadata": {
        "id": "3B86eFCzMxYm",
        "colab_type": "text"
      },
      "cell_type": "markdown",
      "source": [
        "### 1.1)\n",
        "Create an `my_mse()` function with two arguments: the true labels `y_true` and the model predictions `y_pred`. Make it return the mean squared error using TensorFlow operations. Note that you could write your own custom metrics in exactly the same way. **Tip**: recall that the MSE is the mean of the squares of prediction errors, which are the differences between the predictions and the labels, so you will need to use `tf.reduce_mean()` and `tf.square()`."
      ]
    },
    {
      "metadata": {
        "id": "CWj7ZrKvMxYm",
        "colab_type": "code",
        "colab": {}
      },
      "cell_type": "code",
      "source": [
        "def my_mse(y_true, y_pred):\n",
        "    return tf.reduce_mean(tf.square(y_pred - y_true))"
      ],
      "execution_count": 0,
      "outputs": []
    },
    {
      "metadata": {
        "id": "iDoivi96MxYn",
        "colab_type": "text"
      },
      "cell_type": "markdown",
      "source": [
        "### 1.2)\n",
        "Compile your model, passing it your custom loss function, then train it and evaluate it. **Tip**: don't forget to use the scaled sets."
      ]
    },
    {
      "metadata": {
        "id": "Xe7L45cEMxYo",
        "colab_type": "code",
        "colab": {}
      },
      "cell_type": "code",
      "source": [
        "model = keras.models.Sequential([\n",
        "    keras.layers.Dense(30, activation=\"relu\", input_shape=X_train.shape[1:]),\n",
        "    keras.layers.Dense(1),\n",
        "])"
      ],
      "execution_count": 0,
      "outputs": []
    },
    {
      "metadata": {
        "id": "dkN4ruj7MxYo",
        "colab_type": "code",
        "colab": {}
      },
      "cell_type": "code",
      "source": [
        "model.compile(loss=my_mse, optimizer=\"sgd\")"
      ],
      "execution_count": 0,
      "outputs": []
    },
    {
      "metadata": {
        "id": "twlPqYrMMxYp",
        "colab_type": "code",
        "outputId": "b4a9f18e-7c5d-45e9-88d9-0c62ee10893a",
        "colab": {
          "base_uri": "https://localhost:8080/",
          "height": 375
        }
      },
      "cell_type": "code",
      "source": [
        "model.fit(X_train_scaled, y_train, epochs=10,\n",
        "          validation_data=(X_valid_scaled, y_valid))"
      ],
      "execution_count": 62,
      "outputs": [
        {
          "output_type": "stream",
          "text": [
            "Train on 11610 samples, validate on 3870 samples\n",
            "Epoch 1/10\n",
            "11610/11610 [==============================] - 1s 51us/sample - loss: 2.0960 - val_loss: 0.8389\n",
            "Epoch 2/10\n",
            "11610/11610 [==============================] - 1s 49us/sample - loss: 0.7000 - val_loss: 0.7270\n",
            "Epoch 3/10\n",
            "11610/11610 [==============================] - 1s 48us/sample - loss: 0.6227 - val_loss: 0.5742\n",
            "Epoch 4/10\n",
            "11610/11610 [==============================] - 1s 44us/sample - loss: 0.5868 - val_loss: 0.5345\n",
            "Epoch 5/10\n",
            "11610/11610 [==============================] - 1s 45us/sample - loss: 0.5621 - val_loss: 0.5641\n",
            "Epoch 6/10\n",
            "11610/11610 [==============================] - 1s 45us/sample - loss: 0.5443 - val_loss: 0.5029\n",
            "Epoch 7/10\n",
            "11610/11610 [==============================] - 1s 44us/sample - loss: 0.5270 - val_loss: 0.4885\n",
            "Epoch 8/10\n",
            "11610/11610 [==============================] - 0s 42us/sample - loss: 0.5133 - val_loss: 0.4737\n",
            "Epoch 9/10\n",
            "11610/11610 [==============================] - 0s 43us/sample - loss: 0.5015 - val_loss: 0.4917\n",
            "Epoch 10/10\n",
            "11610/11610 [==============================] - 1s 43us/sample - loss: 0.4913 - val_loss: 0.4616\n"
          ],
          "name": "stdout"
        },
        {
          "output_type": "execute_result",
          "data": {
            "text/plain": [
              "<tensorflow.python.keras.callbacks.History at 0x7fe290b1c588>"
            ]
          },
          "metadata": {
            "tags": []
          },
          "execution_count": 62
        }
      ]
    },
    {
      "metadata": {
        "id": "GwiMGf82MxYr",
        "colab_type": "code",
        "outputId": "3dba68d7-519b-472a-ecc9-1d5a615b6fb1",
        "colab": {
          "base_uri": "https://localhost:8080/",
          "height": 50
        }
      },
      "cell_type": "code",
      "source": [
        "model.evaluate(X_test_scaled, y_test)"
      ],
      "execution_count": 63,
      "outputs": [
        {
          "output_type": "stream",
          "text": [
            "5160/5160 [==============================] - 0s 23us/sample - loss: 0.4796\n"
          ],
          "name": "stdout"
        },
        {
          "output_type": "execute_result",
          "data": {
            "text/plain": [
              "0.47957916832709496"
            ]
          },
          "metadata": {
            "tags": []
          },
          "execution_count": 63
        }
      ]
    },
    {
      "metadata": {
        "id": "cQL0ZzKbMxYs",
        "colab_type": "text"
      },
      "cell_type": "markdown",
      "source": [
        "### 1.3)\n",
        "Try building and compiling the model again, this time adding `\"mse\"` (or equivalently `\"mean_squared_error\"` or `keras.losses.mean_squared_error`) to the list of additional metrics, then train the model and make sure the `my_mse` is equal to the standard `mse`."
      ]
    },
    {
      "metadata": {
        "id": "A-CumkR9MxYs",
        "colab_type": "code",
        "outputId": "af3347db-b86c-4f39-9dfd-fb805f68a842",
        "colab": {
          "base_uri": "https://localhost:8080/",
          "height": 411
        }
      },
      "cell_type": "code",
      "source": [
        "model = keras.models.Sequential([\n",
        "    keras.layers.Dense(30, activation=\"relu\", input_shape=X_train.shape[1:]),\n",
        "    keras.layers.Dense(1),\n",
        "])\n",
        "model.compile(loss=my_mse, optimizer=\"sgd\", metrics=[\"mean_squared_error\"])\n",
        "model.fit(X_train_scaled, y_train, epochs=10,\n",
        "          validation_data=(X_valid_scaled, y_valid))\n",
        "model.evaluate(X_test_scaled, y_test)"
      ],
      "execution_count": 64,
      "outputs": [
        {
          "output_type": "stream",
          "text": [
            "Train on 11610 samples, validate on 3870 samples\n",
            "Epoch 1/10\n",
            "11610/11610 [==============================] - 1s 50us/sample - loss: 1.9710 - mean_squared_error: 1.9710 - val_loss: 1.0816 - val_mean_squared_error: 1.0816\n",
            "Epoch 2/10\n",
            "11610/11610 [==============================] - 1s 46us/sample - loss: 0.8371 - mean_squared_error: 0.8371 - val_loss: 0.7468 - val_mean_squared_error: 0.7468\n",
            "Epoch 3/10\n",
            "11610/11610 [==============================] - 1s 43us/sample - loss: 0.7347 - mean_squared_error: 0.7347 - val_loss: 0.6879 - val_mean_squared_error: 0.6879\n",
            "Epoch 4/10\n",
            "11610/11610 [==============================] - 1s 45us/sample - loss: 0.6812 - mean_squared_error: 0.6812 - val_loss: 0.6435 - val_mean_squared_error: 0.6435\n",
            "Epoch 5/10\n",
            "11610/11610 [==============================] - 1s 45us/sample - loss: 0.6386 - mean_squared_error: 0.6386 - val_loss: 0.6169 - val_mean_squared_error: 0.6169\n",
            "Epoch 6/10\n",
            "11610/11610 [==============================] - 1s 44us/sample - loss: 0.6038 - mean_squared_error: 0.6038 - val_loss: 0.5848 - val_mean_squared_error: 0.5848\n",
            "Epoch 7/10\n",
            "11610/11610 [==============================] - 1s 45us/sample - loss: 0.5747 - mean_squared_error: 0.5747 - val_loss: 0.5510 - val_mean_squared_error: 0.5510\n",
            "Epoch 8/10\n",
            "11610/11610 [==============================] - 1s 44us/sample - loss: 0.5503 - mean_squared_error: 0.5503 - val_loss: 0.5210 - val_mean_squared_error: 0.5210\n",
            "Epoch 9/10\n",
            "11610/11610 [==============================] - 1s 45us/sample - loss: 0.5300 - mean_squared_error: 0.5300 - val_loss: 0.5022 - val_mean_squared_error: 0.5022\n",
            "Epoch 10/10\n",
            "11610/11610 [==============================] - 1s 44us/sample - loss: 0.5132 - mean_squared_error: 0.5132 - val_loss: 0.4863 - val_mean_squared_error: 0.4863\n",
            "5160/5160 [==============================] - 0s 23us/sample - loss: 0.4859 - mean_squared_error: 0.4859\n"
          ],
          "name": "stdout"
        },
        {
          "output_type": "execute_result",
          "data": {
            "text/plain": [
              "[0.4858548085818919, 0.48585472]"
            ]
          },
          "metadata": {
            "tags": []
          },
          "execution_count": 64
        }
      ]
    },
    {
      "metadata": {
        "id": "CD_voYVoMxYt",
        "colab_type": "text"
      },
      "cell_type": "markdown",
      "source": [
        "### 1.4)\n",
        "If you want your code to be portable to other Python implementations of the Keras API, you should use the operations in `keras.backend` rather than TensorFlow operations directly. This package contains thin wrappers around the backend's operations (for example, `keras.backend.square()` simply calls `tf.square()`). Try reimplementing the `my_mse()` function this way and use it to train and evaluate your model again. **Tip**: people frequently define `K = keras.backend` to make their code more readable."
      ]
    },
    {
      "metadata": {
        "id": "NxVoRqvoMxYu",
        "colab_type": "code",
        "colab": {}
      },
      "cell_type": "code",
      "source": [
        "def my_portable_mse(y_true, y_pred):\n",
        "    K = keras.backend\n",
        "    return K.mean(K.square(y_pred - y_true))"
      ],
      "execution_count": 0,
      "outputs": []
    },
    {
      "metadata": {
        "scrolled": true,
        "id": "BA4oT12YMxYu",
        "colab_type": "code",
        "outputId": "742b4029-11a3-45ad-9168-6314424abe6b",
        "colab": {
          "base_uri": "https://localhost:8080/",
          "height": 411
        }
      },
      "cell_type": "code",
      "source": [
        "model = keras.models.Sequential([\n",
        "    keras.layers.Dense(30, activation=\"relu\", input_shape=X_train.shape[1:]),\n",
        "    keras.layers.Dense(1),\n",
        "])\n",
        "model.compile(loss=my_portable_mse, optimizer=\"sgd\", metrics=[\"mean_squared_error\"])\n",
        "model.fit(X_train_scaled, y_train, epochs=10,\n",
        "          validation_data=(X_valid_scaled, y_valid))\n",
        "model.evaluate(X_test_scaled, y_test)"
      ],
      "execution_count": 66,
      "outputs": [
        {
          "output_type": "stream",
          "text": [
            "Train on 11610 samples, validate on 3870 samples\n",
            "Epoch 1/10\n",
            "11610/11610 [==============================] - 1s 49us/sample - loss: 2.1048 - mean_squared_error: 2.1048 - val_loss: 1.6027 - val_mean_squared_error: 1.6027\n",
            "Epoch 2/10\n",
            "11610/11610 [==============================] - 0s 43us/sample - loss: 0.8447 - mean_squared_error: 0.8447 - val_loss: 0.8894 - val_mean_squared_error: 0.8894\n",
            "Epoch 3/10\n",
            "11610/11610 [==============================] - 1s 44us/sample - loss: 0.7645 - mean_squared_error: 0.7645 - val_loss: 0.7394 - val_mean_squared_error: 0.7394\n",
            "Epoch 4/10\n",
            "11610/11610 [==============================] - 1s 44us/sample - loss: 0.7096 - mean_squared_error: 0.7096 - val_loss: 0.6522 - val_mean_squared_error: 0.6522\n",
            "Epoch 5/10\n",
            "11610/11610 [==============================] - 1s 43us/sample - loss: 0.6664 - mean_squared_error: 0.6664 - val_loss: 0.6112 - val_mean_squared_error: 0.6112\n",
            "Epoch 6/10\n",
            "11610/11610 [==============================] - 0s 43us/sample - loss: 0.6303 - mean_squared_error: 0.6303 - val_loss: 0.5758 - val_mean_squared_error: 0.5758\n",
            "Epoch 7/10\n",
            "11610/11610 [==============================] - 1s 43us/sample - loss: 0.6002 - mean_squared_error: 0.6002 - val_loss: 0.5489 - val_mean_squared_error: 0.5489\n",
            "Epoch 8/10\n",
            "11610/11610 [==============================] - 0s 43us/sample - loss: 0.5743 - mean_squared_error: 0.5743 - val_loss: 0.5267 - val_mean_squared_error: 0.5267\n",
            "Epoch 9/10\n",
            "11610/11610 [==============================] - 1s 43us/sample - loss: 0.5528 - mean_squared_error: 0.5528 - val_loss: 0.5108 - val_mean_squared_error: 0.5108\n",
            "Epoch 10/10\n",
            "11610/11610 [==============================] - 1s 43us/sample - loss: 0.5348 - mean_squared_error: 0.5348 - val_loss: 0.4993 - val_mean_squared_error: 0.4993\n",
            "5160/5160 [==============================] - 0s 25us/sample - loss: 0.5185 - mean_squared_error: 0.5185\n"
          ],
          "name": "stdout"
        },
        {
          "output_type": "execute_result",
          "data": {
            "text/plain": [
              "[0.5185358572837918, 0.51853585]"
            ]
          },
          "metadata": {
            "tags": []
          },
          "execution_count": 66
        }
      ]
    },
    {
      "metadata": {
        "id": "AHZsolkaMxYw",
        "colab_type": "text"
      },
      "cell_type": "markdown",
      "source": [
        "![Exercise](https://c1.staticflickr.com/9/8101/8553474140_c50cf08708_b.jpg)"
      ]
    },
    {
      "metadata": {
        "id": "qb8hUniWMxYw",
        "colab_type": "text"
      },
      "cell_type": "markdown",
      "source": [
        "## Exercise 2 – Custom layer"
      ]
    },
    {
      "metadata": {
        "id": "I-k-UcxNMxYw",
        "colab_type": "text"
      },
      "cell_type": "markdown",
      "source": [
        "### 2.1)\n",
        "Some layers have no weights, such as `keras.layers.Flatten` or `keras.layers.ReLU`. If you want to create a custom layer without any weights, the simplest option is to create a `keras.layers.Lambda` layer and pass it the function to perform. For example, try creating a custom layer that applies the softplus function (log(exp(X) + 1), and try calling this layer like a regular function.\n",
        "\n",
        "**Tip**: you can use `tf.math.softplus()` rather than computing the log and the exponential manually."
      ]
    },
    {
      "metadata": {
        "id": "TRTHM-TDMxYx",
        "colab_type": "code",
        "colab": {}
      },
      "cell_type": "code",
      "source": [
        ""
      ],
      "execution_count": 0,
      "outputs": []
    },
    {
      "metadata": {
        "id": "WYklzg2EMxYy",
        "colab_type": "code",
        "colab": {}
      },
      "cell_type": "code",
      "source": [
        ""
      ],
      "execution_count": 0,
      "outputs": []
    },
    {
      "metadata": {
        "id": "Rv38BGJnMxYy",
        "colab_type": "code",
        "colab": {}
      },
      "cell_type": "code",
      "source": [
        ""
      ],
      "execution_count": 0,
      "outputs": []
    },
    {
      "metadata": {
        "id": "OFJZY-IGMxYz",
        "colab_type": "text"
      },
      "cell_type": "markdown",
      "source": [
        "### 2.2)\n",
        "Create a regression model like in exercise 1, but add your softplus layer at the top (i.e., after the existing 1-unit dense layer). This can be useful to ensure that your model never predicts negative values."
      ]
    },
    {
      "metadata": {
        "id": "ZheaAhgUMxYz",
        "colab_type": "code",
        "colab": {}
      },
      "cell_type": "code",
      "source": [
        ""
      ],
      "execution_count": 0,
      "outputs": []
    },
    {
      "metadata": {
        "id": "qUz4CCMsMxY1",
        "colab_type": "code",
        "colab": {}
      },
      "cell_type": "code",
      "source": [
        ""
      ],
      "execution_count": 0,
      "outputs": []
    },
    {
      "metadata": {
        "id": "iBOL3HHaMxY2",
        "colab_type": "code",
        "colab": {}
      },
      "cell_type": "code",
      "source": [
        ""
      ],
      "execution_count": 0,
      "outputs": []
    },
    {
      "metadata": {
        "id": "fc3TCVvKMxY4",
        "colab_type": "text"
      },
      "cell_type": "markdown",
      "source": [
        "### 2.3)\n",
        "Alternatively, try using this softplus layer as the activation function of the output layer.\n",
        "\n",
        "**Notes**:\n",
        "* setting a layer's activation function is just a handy way of adding an extra weightless layer.\n",
        "* Keras supports the softplus activation function out of the box:\n",
        "  * set `activation=\"softplus\"`\n",
        "  * or set `activation=keras.activations.softplus`\n",
        "  * or add a `keras.layers.Activation(\"softplus\")` layer to your model."
      ]
    },
    {
      "metadata": {
        "id": "NRB22ZdKMxY4",
        "colab_type": "code",
        "colab": {}
      },
      "cell_type": "code",
      "source": [
        ""
      ],
      "execution_count": 0,
      "outputs": []
    },
    {
      "metadata": {
        "id": "_uOhQBS-MxY5",
        "colab_type": "code",
        "colab": {}
      },
      "cell_type": "code",
      "source": [
        ""
      ],
      "execution_count": 0,
      "outputs": []
    },
    {
      "metadata": {
        "id": "RxgSRAMqMxY6",
        "colab_type": "code",
        "colab": {}
      },
      "cell_type": "code",
      "source": [
        ""
      ],
      "execution_count": 0,
      "outputs": []
    },
    {
      "metadata": {
        "id": "IuJZEFuXMxY8",
        "colab_type": "text"
      },
      "cell_type": "markdown",
      "source": [
        "### 2.4)\n",
        "Now let's create a custom layer with its own weights. Use the following template to create a `MyDense` layer that computes $\\phi(\\mathbf{X} \\mathbf{W}) + \\mathbf{b}$, where $\\phi$ is the (optional) activation function, $\\mathbf{X}$ is the input data, $\\mathbf{W}$ represents the kernel (i.e., connection weights), and $\\mathbf{b}$ represents the biases, then train and evaluate a model using this instead of a regular `Dense` layer.\n",
        "\n",
        "**Tips**:\n",
        "* The constructor `__init__()`:\n",
        "  * It must have all your layer's hyperparameters as arguments, and save them to instance variables. You will need the number of `units` and the optional `activation` function. To support all kinds of activation functions (strings or functions), simply create a `keras.layers.Activation` passing it the `activation` argument.\n",
        "  * The `**kwargs` argument must be passed to the base class's constructor (`super().__init__()`) so your class can support the `input_shape` argument, and more.\n",
        "* The `build()` method:\n",
        "  * The `build()` method will be called automatically by Keras when it knows the shape of the inputs. Note that the argument should really be called `batch_input_shape` since it includes the batch size.\n",
        "  * You must call `self.add_weight()` for each weight you want to create, specifying its `name`, `shape` (which often depends on the `input_shape`), how to initialize it, and whether or not it is `trainable`. You need two weights: the `kernel` (connection weights) and the `biases`. The kernel must be initialized randomly. The biases are usually initialized with zeros. **Note**: you can find many initializers in `keras.initializers`.\n",
        "  * Do not forget to call `super().build()`, so Keras knows that the model has been built.\n",
        "  * Note: you could create the weights in the constructor, but it is preferable to create them in the `build()` method, because users of your class may not always know the `input_shape` when creating the model. The first time the model is used on some actual data, the `build()` method will automatically be called with the actual `input_shape`.\n",
        "* The `call()` method:\n",
        "  * This is where to code your layer's actual computations. As before, you can use TensorFlow operations directly, or use `keras.backend` operations if you want the layer to be portable to other Keras implementations.\n",
        "* The `compute_output_shape()` method:\n",
        "  * You do not need to implement this method when using tf.keras, as the `Layer` class provides a good implementation.\n",
        "  * However, if want to port your code to another Keras implementation (such as keras-team), and if the output shape is different from the input shape, then you need to implement this method. Note that the input shape is actually the batch input shape, and the ouptut shape must be the batch output shape."
      ]
    },
    {
      "metadata": {
        "id": "sCTcD2eBMxY8",
        "colab_type": "code",
        "colab": {}
      },
      "cell_type": "code",
      "source": [
        "# This template was copied from https://keras.io/layers/writing-your-own-keras-layers/\n",
        "# I just removed the imports and replaced Layer with keras.layers.Layer.\n",
        "\n",
        "class MyLayer(keras.layers.Layer):\n",
        "    def __init__(self, output_dim, **kwargs):\n",
        "        self.output_dim = output_dim\n",
        "        super(MyLayer, self).__init__(**kwargs)\n",
        "\n",
        "    def build(self, input_shape):\n",
        "        # Create a trainable weight variable for this layer.\n",
        "        self.kernel = self.add_weight(name='kernel', \n",
        "                                      shape=(input_shape[1], self.output_dim),\n",
        "                                      initializer='uniform',\n",
        "                                      trainable=True)\n",
        "        super(MyLayer, self).build(input_shape)  # Be sure to call this at the end\n",
        "\n",
        "    def call(self, x):\n",
        "        return K.dot(x, self.kernel)\n",
        "\n",
        "    def compute_output_shape(self, input_shape):\n",
        "        return (input_shape[0], self.output_dim)"
      ],
      "execution_count": 0,
      "outputs": []
    },
    {
      "metadata": {
        "id": "9n4HyGm5MxY9",
        "colab_type": "code",
        "colab": {}
      },
      "cell_type": "code",
      "source": [
        ""
      ],
      "execution_count": 0,
      "outputs": []
    },
    {
      "metadata": {
        "id": "gOQVG_RLMxY-",
        "colab_type": "code",
        "colab": {}
      },
      "cell_type": "code",
      "source": [
        ""
      ],
      "execution_count": 0,
      "outputs": []
    },
    {
      "metadata": {
        "id": "yuMoe1_dMxY_",
        "colab_type": "code",
        "colab": {}
      },
      "cell_type": "code",
      "source": [
        ""
      ],
      "execution_count": 0,
      "outputs": []
    },
    {
      "metadata": {
        "id": "ojq63-tVMxZB",
        "colab_type": "text"
      },
      "cell_type": "markdown",
      "source": [
        "![Exercise solution](https://camo.githubusercontent.com/250388fde3fac9135ead9471733ee28e049f7a37/68747470733a2f2f75706c6f61642e77696b696d656469612e6f72672f77696b6970656469612f636f6d6d6f6e732f302f30362f46696c6f735f736567756e646f5f6c6f676f5f253238666c69707065642532392e6a7067)"
      ]
    },
    {
      "metadata": {
        "id": "eUharwVgMxZD",
        "colab_type": "text"
      },
      "cell_type": "markdown",
      "source": [
        "## Exercise 2 – Solution"
      ]
    },
    {
      "metadata": {
        "id": "qAQg6PzpMxZD",
        "colab_type": "text"
      },
      "cell_type": "markdown",
      "source": [
        "### 2.1)\n",
        "Some layers have no weights, such as `keras.layers.Flatten` or `keras.layers.ReLU`. If you want to create a custom layer without any weights, the simplest option is to create a `keras.layers.Lambda` layer and pass it the function to perform. For example, try creating a custom layer that applies the softplus function (log(exp(X) + 1), and try calling this layer like a regular function."
      ]
    },
    {
      "metadata": {
        "id": "n1v18-ZNMxZD",
        "colab_type": "code",
        "colab": {}
      },
      "cell_type": "code",
      "source": [
        "my_softplus = keras.layers.Lambda(lambda X: tf.nn.softplus(X))"
      ],
      "execution_count": 0,
      "outputs": []
    },
    {
      "metadata": {
        "id": "HBgnQO_CMxZE",
        "colab_type": "code",
        "outputId": "6dc14bbe-df5d-4d25-d024-aa9621ed228b",
        "colab": {
          "base_uri": "https://localhost:8080/",
          "height": 66
        }
      },
      "cell_type": "code",
      "source": [
        "my_softplus([-10., -5., 0., 5., 10.])"
      ],
      "execution_count": 68,
      "outputs": [
        {
          "output_type": "execute_result",
          "data": {
            "text/plain": [
              "<tf.Tensor: id=107453, shape=(5,), dtype=float32, numpy=\n",
              "array([4.5417706e-05, 6.7153489e-03, 6.9314718e-01, 5.0067153e+00,\n",
              "       1.0000046e+01], dtype=float32)>"
            ]
          },
          "metadata": {
            "tags": []
          },
          "execution_count": 68
        }
      ]
    },
    {
      "metadata": {
        "id": "vBC02SGhMxZF",
        "colab_type": "text"
      },
      "cell_type": "markdown",
      "source": [
        "### 2.2)\n",
        "Create a regression model like in exercise 1, but add your softplus layer at the top (i.e., after the existing 1-unit dense layer). This can be useful to ensure that your model never predicts negative values."
      ]
    },
    {
      "metadata": {
        "id": "-j2y9CRRMxZF",
        "colab_type": "code",
        "outputId": "a1905164-8a58-49e6-90dc-5ca87991cf5e",
        "colab": {
          "base_uri": "https://localhost:8080/",
          "height": 391
        }
      },
      "cell_type": "code",
      "source": [
        "model = keras.models.Sequential([\n",
        "    keras.layers.Dense(30, activation=\"relu\", input_shape=X_train.shape[1:]),\n",
        "    keras.layers.Dense(1),\n",
        "    my_softplus\n",
        "])\n",
        "model.compile(loss=my_portable_mse, optimizer=\"sgd\")\n",
        "model.fit(X_train_scaled, y_train, epochs=10,\n",
        "          validation_data=(X_valid_scaled, y_valid))\n",
        "model.evaluate(X_test_scaled, y_test)"
      ],
      "execution_count": 69,
      "outputs": [
        {
          "output_type": "stream",
          "text": [
            "Train on 11610 samples, validate on 3870 samples\n",
            "Epoch 1/10\n",
            "11610/11610 [==============================] - 1s 49us/sample - loss: 1.8912 - val_loss: 1.4184\n",
            "Epoch 2/10\n",
            "11610/11610 [==============================] - 1s 43us/sample - loss: 0.7745 - val_loss: 0.6651\n",
            "Epoch 3/10\n",
            "11610/11610 [==============================] - 0s 42us/sample - loss: 0.6793 - val_loss: 0.6144\n",
            "Epoch 4/10\n",
            "11610/11610 [==============================] - 1s 43us/sample - loss: 0.6400 - val_loss: 0.5781\n",
            "Epoch 5/10\n",
            "11610/11610 [==============================] - 0s 43us/sample - loss: 0.6085 - val_loss: 0.5504\n",
            "Epoch 6/10\n",
            "11610/11610 [==============================] - 0s 43us/sample - loss: 0.5815 - val_loss: 0.5271\n",
            "Epoch 7/10\n",
            "11610/11610 [==============================] - 0s 42us/sample - loss: 0.5585 - val_loss: 0.5062\n",
            "Epoch 8/10\n",
            "11610/11610 [==============================] - 0s 42us/sample - loss: 0.5385 - val_loss: 0.4888\n",
            "Epoch 9/10\n",
            "11610/11610 [==============================] - 0s 42us/sample - loss: 0.5213 - val_loss: 0.4740\n",
            "Epoch 10/10\n",
            "11610/11610 [==============================] - 0s 42us/sample - loss: 0.5069 - val_loss: 0.4607\n",
            "5160/5160 [==============================] - 0s 22us/sample - loss: 0.4848\n"
          ],
          "name": "stdout"
        },
        {
          "output_type": "execute_result",
          "data": {
            "text/plain": [
              "0.4848032793333364"
            ]
          },
          "metadata": {
            "tags": []
          },
          "execution_count": 69
        }
      ]
    },
    {
      "metadata": {
        "id": "Zq2dXjeFMxZG",
        "colab_type": "text"
      },
      "cell_type": "markdown",
      "source": [
        "### 2.3)\n",
        "Alternatively, try using this softplus layer as the activation function of the output layer."
      ]
    },
    {
      "metadata": {
        "id": "0zYI1CTdMxZG",
        "colab_type": "code",
        "outputId": "6c078e39-0333-4145-9a47-553d03d705ae",
        "colab": {
          "base_uri": "https://localhost:8080/",
          "height": 391
        }
      },
      "cell_type": "code",
      "source": [
        "model = keras.models.Sequential([\n",
        "    keras.layers.Dense(30, activation=\"relu\", input_shape=X_train.shape[1:]),\n",
        "    keras.layers.Dense(1, activation=my_softplus)\n",
        "#   A few alternatives...\n",
        "#   keras.layers.Dense(1, activation=tf.function(lambda X: my_softplus(X)))\n",
        "#   keras.layers.Dense(1, activation=\"softplus\")\n",
        "#   keras.layers.Dense(1, activation=keras.activations.softplus)\n",
        "#   keras.layers.Dense(1), keras.layers.Activation(\"softplus\")\n",
        "])\n",
        "\n",
        "model.compile(loss=my_portable_mse, optimizer=\"sgd\")\n",
        "model.fit(X_train_scaled, y_train, epochs=10,\n",
        "          validation_data=(X_valid_scaled, y_valid))\n",
        "model.evaluate(X_test_scaled, y_test)"
      ],
      "execution_count": 70,
      "outputs": [
        {
          "output_type": "stream",
          "text": [
            "Train on 11610 samples, validate on 3870 samples\n",
            "Epoch 1/10\n",
            "11610/11610 [==============================] - 1s 49us/sample - loss: 2.1431 - val_loss: 3.8932\n",
            "Epoch 2/10\n",
            "11610/11610 [==============================] - 0s 42us/sample - loss: 1.0142 - val_loss: 0.7985\n",
            "Epoch 3/10\n",
            "11610/11610 [==============================] - 0s 41us/sample - loss: 0.7577 - val_loss: 0.6860\n",
            "Epoch 4/10\n",
            "11610/11610 [==============================] - 0s 42us/sample - loss: 0.6835 - val_loss: 0.6282\n",
            "Epoch 5/10\n",
            "11610/11610 [==============================] - 0s 42us/sample - loss: 0.6372 - val_loss: 0.5880\n",
            "Epoch 6/10\n",
            "11610/11610 [==============================] - 0s 42us/sample - loss: 0.6017 - val_loss: 0.5563\n",
            "Epoch 7/10\n",
            "11610/11610 [==============================] - 0s 42us/sample - loss: 0.5734 - val_loss: 0.5304\n",
            "Epoch 8/10\n",
            "11610/11610 [==============================] - 0s 41us/sample - loss: 0.5505 - val_loss: 0.5102\n",
            "Epoch 9/10\n",
            "11610/11610 [==============================] - 1s 44us/sample - loss: 0.5314 - val_loss: 0.4918\n",
            "Epoch 10/10\n",
            "11610/11610 [==============================] - 1s 43us/sample - loss: 0.5152 - val_loss: 0.4765\n",
            "5160/5160 [==============================] - 0s 22us/sample - loss: 0.4943\n"
          ],
          "name": "stdout"
        },
        {
          "output_type": "execute_result",
          "data": {
            "text/plain": [
              "0.49429484476414765"
            ]
          },
          "metadata": {
            "tags": []
          },
          "execution_count": 70
        }
      ]
    },
    {
      "metadata": {
        "id": "Q2W5Qv2NMxZJ",
        "colab_type": "text"
      },
      "cell_type": "markdown",
      "source": [
        "### 2.4)\n",
        "Now let's create a custom layer with its own weights. Use the following template to create a `MyDense` layer that computes $\\phi(\\mathbf{X} \\mathbf{W}) + \\mathbf{b}$, where $\\phi$ is the (optional) activation function, $\\mathbf{X}$ is the input data, $\\mathbf{W}$ represents the kernel (i.e., connection weights), and $\\mathbf{b}$ represents the biases, then train and evaluate a model using this instead of a regular `Dense` layer."
      ]
    },
    {
      "metadata": {
        "id": "y3231CQ3MxZJ",
        "colab_type": "code",
        "colab": {}
      },
      "cell_type": "code",
      "source": [
        "class MyDense(keras.layers.Layer):\n",
        "    def __init__(self, units, activation=None, **kwargs):\n",
        "        self.units = units\n",
        "        self.activation = keras.layers.Activation(activation)\n",
        "        super(MyDense, self).__init__(**kwargs)\n",
        "\n",
        "    def build(self, input_shape):\n",
        "        self.kernel = self.add_weight(name='kernel', \n",
        "                                      shape=(input_shape[1], self.units),\n",
        "                                      initializer='uniform',\n",
        "                                      trainable=True)\n",
        "        self.biases = self.add_weight(name='bias', \n",
        "                                      shape=(self.units,),\n",
        "                                      initializer='zeros',\n",
        "                                      trainable=True)\n",
        "        super(MyDense, self).build(input_shape)\n",
        "\n",
        "    def call(self, X):\n",
        "        return self.activation(X @ self.kernel + self.biases)"
      ],
      "execution_count": 0,
      "outputs": []
    },
    {
      "metadata": {
        "id": "j8_knyRvMxZK",
        "colab_type": "code",
        "colab": {}
      },
      "cell_type": "code",
      "source": [
        "model = keras.models.Sequential([\n",
        "    MyDense(30, activation=\"relu\", input_shape=X_train.shape[1:]),\n",
        "    MyDense(1)\n",
        "])"
      ],
      "execution_count": 0,
      "outputs": []
    },
    {
      "metadata": {
        "scrolled": false,
        "id": "NEnMEJHuMxZL",
        "colab_type": "code",
        "outputId": "831ab192-bc3d-4fac-d53f-1a0023275790",
        "colab": {
          "base_uri": "https://localhost:8080/",
          "height": 391
        }
      },
      "cell_type": "code",
      "source": [
        "model.compile(loss=\"mse\", optimizer=\"sgd\")\n",
        "model.fit(X_train_scaled, y_train, epochs=10,\n",
        "          validation_data=(X_valid_scaled, y_valid))\n",
        "model.evaluate(X_test_scaled, y_test)"
      ],
      "execution_count": 73,
      "outputs": [
        {
          "output_type": "stream",
          "text": [
            "Train on 11610 samples, validate on 3870 samples\n",
            "Epoch 1/10\n",
            "11610/11610 [==============================] - 1s 57us/sample - loss: 3.5569 - val_loss: 2.0988\n",
            "Epoch 2/10\n",
            "11610/11610 [==============================] - 1s 46us/sample - loss: 1.6426 - val_loss: 1.1945\n",
            "Epoch 3/10\n",
            "11610/11610 [==============================] - 1s 47us/sample - loss: 1.0316 - val_loss: 0.8478\n",
            "Epoch 4/10\n",
            "11610/11610 [==============================] - 1s 50us/sample - loss: 0.7911 - val_loss: 0.7104\n",
            "Epoch 5/10\n",
            "11610/11610 [==============================] - 1s 48us/sample - loss: 0.7002 - val_loss: 0.6504\n",
            "Epoch 6/10\n",
            "11610/11610 [==============================] - 1s 47us/sample - loss: 0.6583 - val_loss: 0.6157\n",
            "Epoch 7/10\n",
            "11610/11610 [==============================] - 1s 47us/sample - loss: 0.6320 - val_loss: 0.5901\n",
            "Epoch 8/10\n",
            "11610/11610 [==============================] - 1s 46us/sample - loss: 0.6112 - val_loss: 0.5687\n",
            "Epoch 9/10\n",
            "11610/11610 [==============================] - 1s 48us/sample - loss: 0.5927 - val_loss: 0.5496\n",
            "Epoch 10/10\n",
            "11610/11610 [==============================] - 1s 47us/sample - loss: 0.5755 - val_loss: 0.5324\n",
            "5160/5160 [==============================] - 0s 27us/sample - loss: 0.5570\n"
          ],
          "name": "stdout"
        },
        {
          "output_type": "execute_result",
          "data": {
            "text/plain": [
              "0.5569877719694329"
            ]
          },
          "metadata": {
            "tags": []
          },
          "execution_count": 73
        }
      ]
    },
    {
      "metadata": {
        "id": "eu-1MUCwMxZM",
        "colab_type": "text"
      },
      "cell_type": "markdown",
      "source": [
        "![Exercise](https://c1.staticflickr.com/9/8101/8553474140_c50cf08708_b.jpg)"
      ]
    },
    {
      "metadata": {
        "id": "eG61w_-HMxZM",
        "colab_type": "text"
      },
      "cell_type": "markdown",
      "source": [
        "## Exercise 3 – TensorFlow Functions"
      ]
    },
    {
      "metadata": {
        "id": "FeGBT4d1MxZN",
        "colab_type": "text"
      },
      "cell_type": "markdown",
      "source": [
        "### 3.1)\n",
        "Examine and run the following code examples."
      ]
    },
    {
      "metadata": {
        "id": "GMXf2PI9MxZN",
        "colab_type": "code",
        "colab": {}
      },
      "cell_type": "code",
      "source": [
        "def scaled_elu(z, scale=1.0, alpha=1.0):\n",
        "    is_positive = tf.greater_equal(z, 0.0)\n",
        "    return scale * tf.where(is_positive, z, alpha * tf.nn.elu(z))"
      ],
      "execution_count": 0,
      "outputs": []
    },
    {
      "metadata": {
        "id": "ckBYIhfcMxZO",
        "colab_type": "code",
        "outputId": "172e7780-75b6-4cfb-e5c9-890fbcd2e135",
        "colab": {
          "base_uri": "https://localhost:8080/",
          "height": 33
        }
      },
      "cell_type": "code",
      "source": [
        "scaled_elu(tf.constant(-3.))"
      ],
      "execution_count": 78,
      "outputs": [
        {
          "output_type": "execute_result",
          "data": {
            "text/plain": [
              "<tf.Tensor: id=194595, shape=(), dtype=float32, numpy=-0.95021296>"
            ]
          },
          "metadata": {
            "tags": []
          },
          "execution_count": 78
        }
      ]
    },
    {
      "metadata": {
        "id": "58qENFngMxZO",
        "colab_type": "code",
        "outputId": "45dd26e8-f874-41b3-b2e1-d9211aeace78",
        "colab": {
          "base_uri": "https://localhost:8080/",
          "height": 53
        }
      },
      "cell_type": "code",
      "source": [
        "scaled_elu(tf.constant([-3., 2.5]))"
      ],
      "execution_count": 79,
      "outputs": [
        {
          "output_type": "execute_result",
          "data": {
            "text/plain": [
              "<tf.Tensor: id=194605, shape=(2,), dtype=float32, numpy=array([-0.95021296,  2.5       ], dtype=float32)>"
            ]
          },
          "metadata": {
            "tags": []
          },
          "execution_count": 79
        }
      ]
    },
    {
      "metadata": {
        "id": "tlIoWUqZMxZP",
        "colab_type": "code",
        "outputId": "6965940f-467a-4e58-b15b-5a239f79c3d3",
        "colab": {
          "base_uri": "https://localhost:8080/",
          "height": 33
        }
      },
      "cell_type": "code",
      "source": [
        "scaled_elu_tf = tf.function(scaled_elu)\n",
        "scaled_elu_tf"
      ],
      "execution_count": 80,
      "outputs": [
        {
          "output_type": "execute_result",
          "data": {
            "text/plain": [
              "<tensorflow.python.eager.def_function.Function at 0x7fe28fe53f28>"
            ]
          },
          "metadata": {
            "tags": []
          },
          "execution_count": 80
        }
      ]
    },
    {
      "metadata": {
        "id": "xTqQc3pqMxZQ",
        "colab_type": "code",
        "outputId": "aabe2da2-583c-4e76-a1fa-39095ec5f032",
        "colab": {
          "base_uri": "https://localhost:8080/",
          "height": 33
        }
      },
      "cell_type": "code",
      "source": [
        "scaled_elu_tf(tf.constant(-3.))"
      ],
      "execution_count": 82,
      "outputs": [
        {
          "output_type": "execute_result",
          "data": {
            "text/plain": [
              "<tf.Tensor: id=194624, shape=(), dtype=float32, numpy=-0.95021296>"
            ]
          },
          "metadata": {
            "tags": []
          },
          "execution_count": 82
        }
      ]
    },
    {
      "metadata": {
        "id": "dO4yH452MxZS",
        "colab_type": "code",
        "outputId": "71979186-42ba-4d49-d2e1-0dd14116ca4c",
        "colab": {
          "base_uri": "https://localhost:8080/",
          "height": 53
        }
      },
      "cell_type": "code",
      "source": [
        "scaled_elu_tf(tf.constant([-3., 2.5]))"
      ],
      "execution_count": 83,
      "outputs": [
        {
          "output_type": "execute_result",
          "data": {
            "text/plain": [
              "<tf.Tensor: id=194639, shape=(2,), dtype=float32, numpy=array([-0.95021296,  2.5       ], dtype=float32)>"
            ]
          },
          "metadata": {
            "tags": []
          },
          "execution_count": 83
        }
      ]
    },
    {
      "metadata": {
        "id": "y5suq57DMxZS",
        "colab_type": "code",
        "outputId": "f02db806-fd77-4ee5-a0f1-b24e1d424404",
        "colab": {
          "base_uri": "https://localhost:8080/",
          "height": 33
        }
      },
      "cell_type": "code",
      "source": [
        "scaled_elu_tf.python_function is scaled_elu"
      ],
      "execution_count": 84,
      "outputs": [
        {
          "output_type": "execute_result",
          "data": {
            "text/plain": [
              "True"
            ]
          },
          "metadata": {
            "tags": []
          },
          "execution_count": 84
        }
      ]
    },
    {
      "metadata": {
        "id": "8zF5D_mvMxZU",
        "colab_type": "code",
        "outputId": "656a3529-bf38-4745-b48d-db0f65ab74fe",
        "colab": {
          "base_uri": "https://localhost:8080/",
          "height": 33
        }
      },
      "cell_type": "code",
      "source": [
        "%timeit scaled_elu(tf.random.normal((1000, 1000)))"
      ],
      "execution_count": 85,
      "outputs": [
        {
          "output_type": "stream",
          "text": [
            "10 loops, best of 3: 26.2 ms per loop\n"
          ],
          "name": "stdout"
        }
      ]
    },
    {
      "metadata": {
        "id": "PORWM0ZGMxZV",
        "colab_type": "code",
        "outputId": "05da53d5-8958-463f-c054-0b69803cae92",
        "colab": {
          "base_uri": "https://localhost:8080/",
          "height": 70
        }
      },
      "cell_type": "code",
      "source": [
        "%timeit scaled_elu_tf(tf.random.normal((1000, 1000)))"
      ],
      "execution_count": 86,
      "outputs": [
        {
          "output_type": "stream",
          "text": [
            "The slowest run took 4.99 times longer than the fastest. This could mean that an intermediate result is being cached.\n",
            "10 loops, best of 3: 22.8 ms per loop\n"
          ],
          "name": "stdout"
        }
      ]
    },
    {
      "metadata": {
        "id": "4AgexmrTMxZW",
        "colab_type": "code",
        "colab": {}
      },
      "cell_type": "code",
      "source": [
        "def display_tf_code(func):\n",
        "    from IPython.display import display, Markdown\n",
        "    if hasattr(func, \"python_function\"):\n",
        "        func = func.python_function\n",
        "    code = tf.autograph.to_code(func, experimental_optional_features=None)\n",
        "    display(Markdown('```python\\n{}\\n```'.format(code)))"
      ],
      "execution_count": 0,
      "outputs": []
    },
    {
      "metadata": {
        "id": "bkqhnUjSMxZZ",
        "colab_type": "code",
        "outputId": "7c5ff82e-d118-418f-906a-5b49ddcb786e",
        "colab": {
          "base_uri": "https://localhost:8080/",
          "height": 33
        }
      },
      "cell_type": "code",
      "source": [
        "display_tf_code(scaled_elu)"
      ],
      "execution_count": 88,
      "outputs": [
        {
          "output_type": "display_data",
          "data": {
            "text/markdown": "```python\nfrom __future__ import print_function\n\ndef tf__scaled_elu(z, scale=None, alpha=None):\n  do_return = False\n  retval_ = None\n  is_positive = ag__.converted_call('greater_equal', tf, ag__.ConversionOptions(recursive=True, force_conversion=False, optional_features=(), internal_convert_user_code=True), (z, 0.0), {})\n  do_return = True\n  retval_ = scale * ag__.converted_call('where', tf, ag__.ConversionOptions(recursive=True, force_conversion=False, optional_features=(), internal_convert_user_code=True), (is_positive, z, alpha * tf.nn.elu(z)), {})\n  return retval_\n\n\n\ntf__scaled_elu.autograph_info__ = {}\n\n```",
            "text/plain": [
              "<IPython.core.display.Markdown object>"
            ]
          },
          "metadata": {
            "tags": []
          }
        }
      ]
    },
    {
      "metadata": {
        "id": "IDdHuwP-MxZa",
        "colab_type": "code",
        "colab": {}
      },
      "cell_type": "code",
      "source": [
        "var = tf.Variable(0)\n",
        "\n",
        "@tf.function\n",
        "def add_21():\n",
        "    return var.assign_add(21)\n",
        "\n",
        "@tf.function\n",
        "def times_2():\n",
        "    return var.assign(var * 2)"
      ],
      "execution_count": 0,
      "outputs": []
    },
    {
      "metadata": {
        "id": "8R8utDxhMxZb",
        "colab_type": "code",
        "outputId": "fe476b55-1c0d-4777-e376-0ee08ef23d45",
        "colab": {
          "base_uri": "https://localhost:8080/",
          "height": 33
        }
      },
      "cell_type": "code",
      "source": [
        "add_21()\n",
        "times_2()"
      ],
      "execution_count": 90,
      "outputs": [
        {
          "output_type": "execute_result",
          "data": {
            "text/plain": [
              "<tf.Tensor: id=195540, shape=(), dtype=int32, numpy=42>"
            ]
          },
          "metadata": {
            "tags": []
          },
          "execution_count": 90
        }
      ]
    },
    {
      "metadata": {
        "id": "zJDEy1m1MxZc",
        "colab_type": "code",
        "colab": {}
      },
      "cell_type": "code",
      "source": [
        "def times_4(x):\n",
        "    return 4. * x\n",
        "\n",
        "@tf.function\n",
        "def times_4_plus_22(x):\n",
        "    return times_4(x) + 22."
      ],
      "execution_count": 0,
      "outputs": []
    },
    {
      "metadata": {
        "id": "PhRImnmwMxZd",
        "colab_type": "code",
        "outputId": "fffde432-a788-431c-c511-55df8f9e1f53",
        "colab": {
          "base_uri": "https://localhost:8080/",
          "height": 33
        }
      },
      "cell_type": "code",
      "source": [
        "times_4_plus_22(tf.constant(5.))"
      ],
      "execution_count": 92,
      "outputs": [
        {
          "output_type": "execute_result",
          "data": {
            "text/plain": [
              "<tf.Tensor: id=195552, shape=(), dtype=float32, numpy=42.0>"
            ]
          },
          "metadata": {
            "tags": []
          },
          "execution_count": 92
        }
      ]
    },
    {
      "metadata": {
        "id": "vXMbUoCoMxZf",
        "colab_type": "text"
      },
      "cell_type": "markdown",
      "source": [
        "Compute 1 + 1/2 + 1/4 + ...: the order of execution of the operations with side-effects (e.g., `assign()`) is preserved (in TF 1.x, `tf.control_dependencies()` was needed in such cases):"
      ]
    },
    {
      "metadata": {
        "id": "dDqXcuDlMxZh",
        "colab_type": "code",
        "outputId": "b03d1665-eb1a-4a2d-c04c-01f2354acedd",
        "colab": {
          "base_uri": "https://localhost:8080/",
          "height": 33
        }
      },
      "cell_type": "code",
      "source": [
        "total = tf.Variable(0.)\n",
        "increment = tf.Variable(1.)\n",
        "\n",
        "@tf.function\n",
        "def converge_to_2(n_iterations):\n",
        "    for i in tf.range(n_iterations):\n",
        "        total.assign_add(increment)\n",
        "        increment.assign(increment / 2.0)\n",
        "    return total\n",
        "\n",
        "converge_to_2(20)"
      ],
      "execution_count": 93,
      "outputs": [
        {
          "output_type": "execute_result",
          "data": {
            "text/plain": [
              "<tf.Tensor: id=195636, shape=(), dtype=float32, numpy=1.9999981>"
            ]
          },
          "metadata": {
            "tags": []
          },
          "execution_count": 93
        }
      ]
    },
    {
      "metadata": {
        "id": "yfZ18H-rMxZj",
        "colab_type": "text"
      },
      "cell_type": "markdown",
      "source": [
        "### 3.2)\n",
        "Write a function that computes the sum of squares from 1 to n, where n is an argument. Convert it to a graph function by using `tf.function` as a decorator. Display the code generated by autograph using the `display_tf_code()` function. Use `%timeit` to see how must faster the TensorFlow `Function` is compared to the Python function."
      ]
    },
    {
      "metadata": {
        "id": "yl3xdtKjMxZj",
        "colab_type": "code",
        "colab": {}
      },
      "cell_type": "code",
      "source": [
        ""
      ],
      "execution_count": 0,
      "outputs": []
    },
    {
      "metadata": {
        "id": "xo5sJ_AyMxZk",
        "colab_type": "code",
        "colab": {}
      },
      "cell_type": "code",
      "source": [
        ""
      ],
      "execution_count": 0,
      "outputs": []
    },
    {
      "metadata": {
        "id": "ZyO3UVSwMxZl",
        "colab_type": "code",
        "colab": {}
      },
      "cell_type": "code",
      "source": [
        ""
      ],
      "execution_count": 0,
      "outputs": []
    },
    {
      "metadata": {
        "id": "2gGIl3q3MxZm",
        "colab_type": "text"
      },
      "cell_type": "markdown",
      "source": [
        "### 3.3)\n",
        "Examine and run the following code examples."
      ]
    },
    {
      "metadata": {
        "id": "EzwvTeN8MxZm",
        "colab_type": "code",
        "colab": {}
      },
      "cell_type": "code",
      "source": [
        "@tf.function\n",
        "def square(x):\n",
        "    tf.print(\"Calling\", x)  # part of the TF Function\n",
        "    print(\"Tracing\")  # NOT part of the TF Function\n",
        "    return tf.square(x)"
      ],
      "execution_count": 0,
      "outputs": []
    },
    {
      "metadata": {
        "id": "hB3ghxWUMxZn",
        "colab_type": "code",
        "outputId": "bb74370c-3da7-4837-8242-f307d76bed97",
        "colab": {
          "base_uri": "https://localhost:8080/",
          "height": 115
        }
      },
      "cell_type": "code",
      "source": [
        "for i in range(5):\n",
        "    square(tf.constant(i))"
      ],
      "execution_count": 100,
      "outputs": [
        {
          "output_type": "stream",
          "text": [
            "Tracing\n",
            "Calling 0\n",
            "Calling 1\n",
            "Calling 2Calling 3Calling 4\n",
            "\n",
            "\n"
          ],
          "name": "stdout"
        }
      ]
    },
    {
      "metadata": {
        "id": "ey2-I7NyMxZo",
        "colab_type": "code",
        "outputId": "04811113-6f19-4139-a330-bc15243dc125",
        "colab": {
          "base_uri": "https://localhost:8080/",
          "height": 115
        }
      },
      "cell_type": "code",
      "source": [
        "for i in range(5):\n",
        "    square(tf.constant(i, dtype=tf.float32))"
      ],
      "execution_count": 101,
      "outputs": [
        {
          "output_type": "stream",
          "text": [
            "Tracing\n",
            "Calling 0\n",
            "Calling 1\n",
            "Calling 2\n",
            "Calling 3\n",
            "Calling 4\n"
          ],
          "name": "stdout"
        }
      ]
    },
    {
      "metadata": {
        "id": "WaltDwUTMxZq",
        "colab_type": "code",
        "outputId": "9850c78f-b991-438c-cc95-caa79dbe4256",
        "colab": {
          "base_uri": "https://localhost:8080/",
          "height": 115
        }
      },
      "cell_type": "code",
      "source": [
        "for i in range(5):\n",
        "    square(tf.constant([i, i], dtype=tf.float32))"
      ],
      "execution_count": 102,
      "outputs": [
        {
          "output_type": "stream",
          "text": [
            "Tracing\n",
            "Calling [0 0]\n",
            "Calling [1 1]\n",
            "Calling [2 2]\n",
            "Calling [3 3]\n",
            "Calling [4 4]\n"
          ],
          "name": "stdout"
        }
      ]
    },
    {
      "metadata": {
        "id": "WfpPBKHBMxZq",
        "colab_type": "code",
        "outputId": "c11359c2-7a83-4ca1-a82b-3db02befd8b4",
        "colab": {
          "base_uri": "https://localhost:8080/",
          "height": 180
        }
      },
      "cell_type": "code",
      "source": [
        "# WARNING: when passing non-tensor values, a trace happens for any new value!\n",
        "# This is to allow optimization in case this value determines e.g., number of layers.\n",
        "for i in range(5):\n",
        "    square(i)"
      ],
      "execution_count": 103,
      "outputs": [
        {
          "output_type": "stream",
          "text": [
            "Tracing\n",
            "Calling 0\n",
            "Tracing\n",
            "Calling 1\n",
            "Tracing\n",
            "Calling 2\n",
            "Tracing\n",
            "Calling 3\n",
            "Tracing\n",
            "Calling 4\n"
          ],
          "name": "stdout"
        }
      ]
    },
    {
      "metadata": {
        "id": "-WUV7YNkMxZr",
        "colab_type": "text"
      },
      "cell_type": "markdown",
      "source": [
        "### 3.4)\n",
        "When you give Keras a custom loss function, it actually creates a graph function based on it, and then uses that graph function during training. The same is true of custom metric functions, and the `call()` method of custom layers and models. Create a `my_mse()` function, like you did earlier, but add an instruction to log a message inside it (use `print()`, *not* `tf.print()`!), and verify that the message is only logged once when you compile and train the model. Optionally, you can also find out when Keras converts custom metrics, layers and models."
      ]
    },
    {
      "metadata": {
        "id": "oi-Hmpj7MxZr",
        "colab_type": "code",
        "colab": {}
      },
      "cell_type": "code",
      "source": [
        ""
      ],
      "execution_count": 0,
      "outputs": []
    },
    {
      "metadata": {
        "id": "V47_Cz7kMxZs",
        "colab_type": "code",
        "colab": {}
      },
      "cell_type": "code",
      "source": [
        ""
      ],
      "execution_count": 0,
      "outputs": []
    },
    {
      "metadata": {
        "id": "FJGNdSgAMxZs",
        "colab_type": "code",
        "colab": {}
      },
      "cell_type": "code",
      "source": [
        ""
      ],
      "execution_count": 0,
      "outputs": []
    },
    {
      "metadata": {
        "id": "v0wDpdfsMxZs",
        "colab_type": "text"
      },
      "cell_type": "markdown",
      "source": [
        "### 3.5)\n",
        "Examine the following function, and try to call it with various argument types and shapes. Notice that only tensors of type `int32` and one dimension (of any size) are accepted now that we have specified the `input_signature`."
      ]
    },
    {
      "metadata": {
        "id": "g7zNb3aUMxZt",
        "colab_type": "code",
        "colab": {}
      },
      "cell_type": "code",
      "source": [
        "@tf.function(input_signature=[tf.TensorSpec([None], tf.int32, name=\"x\")])\n",
        "def cube(z):\n",
        "    return tf.pow(z, 3)"
      ],
      "execution_count": 0,
      "outputs": []
    },
    {
      "metadata": {
        "id": "SnreBJEoMxZt",
        "colab_type": "code",
        "colab": {}
      },
      "cell_type": "code",
      "source": [
        ""
      ],
      "execution_count": 0,
      "outputs": []
    },
    {
      "metadata": {
        "id": "cSV3Ae0CMxZu",
        "colab_type": "code",
        "colab": {}
      },
      "cell_type": "code",
      "source": [
        ""
      ],
      "execution_count": 0,
      "outputs": []
    },
    {
      "metadata": {
        "id": "MwI5dJ59MxZu",
        "colab_type": "code",
        "colab": {}
      },
      "cell_type": "code",
      "source": [
        ""
      ],
      "execution_count": 0,
      "outputs": []
    },
    {
      "metadata": {
        "id": "9UWrJUggMxZv",
        "colab_type": "text"
      },
      "cell_type": "markdown",
      "source": [
        "![Exercise solution](https://camo.githubusercontent.com/250388fde3fac9135ead9471733ee28e049f7a37/68747470733a2f2f75706c6f61642e77696b696d656469612e6f72672f77696b6970656469612f636f6d6d6f6e732f302f30362f46696c6f735f736567756e646f5f6c6f676f5f253238666c69707065642532392e6a7067)"
      ]
    },
    {
      "metadata": {
        "id": "ktcVvvGlMxZv",
        "colab_type": "text"
      },
      "cell_type": "markdown",
      "source": [
        "## Exercise 3 – Solution"
      ]
    },
    {
      "metadata": {
        "id": "tb0UthmbMxZw",
        "colab_type": "text"
      },
      "cell_type": "markdown",
      "source": [
        "### 3.1)\n",
        "Examine the code examples."
      ]
    },
    {
      "metadata": {
        "id": "sjMCyI6KMxZw",
        "colab_type": "text"
      },
      "cell_type": "markdown",
      "source": [
        "Done."
      ]
    },
    {
      "metadata": {
        "id": "lpTVU9tbMxZw",
        "colab_type": "text"
      },
      "cell_type": "markdown",
      "source": [
        "### 3.2)\n",
        "Write a function that computes the sum of squares from 1 to n, where n is an argument. Convert it to a graph function by using `tf.function` as a decorator. Display the code generated by autograph using the `display_tf_code()` function. Use `%timeit` to see how must faster the TensorFlow `Function` is compared to the Python function."
      ]
    },
    {
      "metadata": {
        "id": "qzOxqnQFMxZw",
        "colab_type": "code",
        "colab": {}
      },
      "cell_type": "code",
      "source": [
        "@tf.function\n",
        "def sum_squares(n):\n",
        "    s = tf.constant(0)\n",
        "    for i in range(1, n + 1):\n",
        "        s = s + i ** 2\n",
        "    return s"
      ],
      "execution_count": 0,
      "outputs": []
    },
    {
      "metadata": {
        "id": "LIk6k8lKMxZx",
        "colab_type": "code",
        "outputId": "09505f27-f3b4-4d22-ef1d-38867802bf3c",
        "colab": {
          "base_uri": "https://localhost:8080/",
          "height": 33
        }
      },
      "cell_type": "code",
      "source": [
        "sum_squares(tf.constant(5))"
      ],
      "execution_count": 95,
      "outputs": [
        {
          "output_type": "execute_result",
          "data": {
            "text/plain": [
              "<tf.Tensor: id=195639, shape=(), dtype=int32, numpy=55>"
            ]
          },
          "metadata": {
            "tags": []
          },
          "execution_count": 95
        }
      ]
    },
    {
      "metadata": {
        "id": "kBgFdVauMxZy",
        "colab_type": "code",
        "outputId": "bc5633fd-63a3-4e29-8bf9-45aeb1b8cbf6",
        "colab": {
          "base_uri": "https://localhost:8080/",
          "height": 33
        }
      },
      "cell_type": "code",
      "source": [
        "display_tf_code(sum_squares.python_function)"
      ],
      "execution_count": 94,
      "outputs": [
        {
          "output_type": "display_data",
          "data": {
            "text/markdown": "```python\nfrom __future__ import print_function\n\ndef tf__sum_squares(n):\n  do_return = False\n  retval_ = None\n  s = ag__.converted_call('constant', tf, ag__.ConversionOptions(recursive=True, force_conversion=False, optional_features=(), internal_convert_user_code=True), (0,), {})\n\n  def loop_body(loop_vars, s_1):\n    i = loop_vars\n    s_1 = s_1 + i ** 2\n    return s_1,\n  s, = ag__.for_stmt(ag__.converted_call(range, None, ag__.ConversionOptions(recursive=True, force_conversion=False, optional_features=(), internal_convert_user_code=True), (1, n + 1), {}), None, loop_body, (s,))\n  do_return = True\n  retval_ = s\n  return retval_\n\n\n\ntf__sum_squares.autograph_info__ = {}\n\n```",
            "text/plain": [
              "<IPython.core.display.Markdown object>"
            ]
          },
          "metadata": {
            "tags": []
          }
        }
      ]
    },
    {
      "metadata": {
        "id": "Icm5MFl3MxZy",
        "colab_type": "code",
        "outputId": "3da55ff4-0342-47ae-ac3e-9231f6028350",
        "colab": {
          "base_uri": "https://localhost:8080/",
          "height": 70
        }
      },
      "cell_type": "code",
      "source": [
        "%timeit sum_squares(10000)"
      ],
      "execution_count": 97,
      "outputs": [
        {
          "output_type": "stream",
          "text": [
            "The slowest run took 80770.69 times longer than the fastest. This could mean that an intermediate result is being cached.\n",
            "1 loop, best of 3: 205 µs per loop\n"
          ],
          "name": "stdout"
        }
      ]
    },
    {
      "metadata": {
        "id": "QXCQE7P7MxZz",
        "colab_type": "code",
        "outputId": "27ccb5a5-24a5-4f11-956a-b95c3c30e6f2",
        "colab": {
          "base_uri": "https://localhost:8080/",
          "height": 33
        }
      },
      "cell_type": "code",
      "source": [
        "%timeit sum_squares.python_function(10000)"
      ],
      "execution_count": 98,
      "outputs": [
        {
          "output_type": "stream",
          "text": [
            "1 loop, best of 3: 300 ms per loop\n"
          ],
          "name": "stdout"
        }
      ]
    },
    {
      "metadata": {
        "id": "L9TlpP7QMxZ0",
        "colab_type": "text"
      },
      "cell_type": "markdown",
      "source": [
        "### 3.3)\n",
        "Examine the code examples."
      ]
    },
    {
      "metadata": {
        "id": "A01k-qWOMxZ1",
        "colab_type": "text"
      },
      "cell_type": "markdown",
      "source": [
        "Done."
      ]
    },
    {
      "metadata": {
        "id": "CRiW5XnCMxZ1",
        "colab_type": "text"
      },
      "cell_type": "markdown",
      "source": [
        "### 3.4)\n",
        "When you give Keras a custom loss function, it actually creates a graph function based on it, and then uses that graph function during training. The same is true of custom metric functions, and the `call()` method of custom layers and models. Create a `my_mse()` function, like you did earlier, but add an instruction to log a message inside it (use `print()`, *not* `tf.print()`!), and verify that the message is only logged once when you compile and train the model. Optionally, you can also find out when Keras converts custom metrics, layers and models."
      ]
    },
    {
      "metadata": {
        "id": "UaL5bGWAMxZ2",
        "colab_type": "code",
        "colab": {}
      },
      "cell_type": "code",
      "source": [
        "# Custom loss function\n",
        "def my_mse(y_true, y_pred):\n",
        "    print(\"Tracing loss my_mse()\")\n",
        "    return tf.reduce_mean(tf.square(y_pred - y_true))"
      ],
      "execution_count": 0,
      "outputs": []
    },
    {
      "metadata": {
        "id": "maw4y5lyMxZ2",
        "colab_type": "code",
        "colab": {}
      },
      "cell_type": "code",
      "source": [
        "# Custom metric function\n",
        "def my_mae(y_true, y_pred):\n",
        "    print(\"Tracing metric my_mae()\")\n",
        "    return tf.reduce_mean(tf.abs(y_pred - y_true))"
      ],
      "execution_count": 0,
      "outputs": []
    },
    {
      "metadata": {
        "id": "uKSeTKfFMxZ3",
        "colab_type": "code",
        "colab": {}
      },
      "cell_type": "code",
      "source": [
        "# Custom layer\n",
        "class MyDense(keras.layers.Layer):\n",
        "    def __init__(self, units, activation=None, **kwargs):\n",
        "        self.units = units\n",
        "        self.activation = keras.layers.Activation(activation)\n",
        "        super(MyDense, self).__init__(**kwargs)\n",
        "\n",
        "    def build(self, input_shape):\n",
        "        self.kernel = self.add_weight(name='kernel', \n",
        "                                      shape=(input_shape[1], self.units),\n",
        "                                      initializer='uniform',\n",
        "                                      trainable=True)\n",
        "        self.biases = self.add_weight(name='bias', \n",
        "                                      shape=(self.units,),\n",
        "                                      initializer='zeros',\n",
        "                                      trainable=True)\n",
        "        super(MyDense, self).build(input_shape)\n",
        "\n",
        "    def call(self, X):\n",
        "        print(\"Tracing MyDense.call()\")\n",
        "        return self.activation(X @ self.kernel + self.biases)"
      ],
      "execution_count": 0,
      "outputs": []
    },
    {
      "metadata": {
        "id": "NCGOZHhiMxZ3",
        "colab_type": "code",
        "colab": {}
      },
      "cell_type": "code",
      "source": [
        "# Custom model\n",
        "class MyModel(keras.models.Model):\n",
        "    def __init__(self):\n",
        "        super(MyModel, self).__init__()\n",
        "        self.hidden1 = MyDense(30, activation=\"relu\")\n",
        "        self.hidden2 = MyDense(30, activation=\"relu\")\n",
        "        self.output_ = MyDense(1)\n",
        "\n",
        "    def call(self, input):\n",
        "        print(\"Tracing MyModel.call()\")\n",
        "        hidden1 = self.hidden1(input)\n",
        "        hidden2 = self.hidden2(hidden1)\n",
        "        concat = keras.layers.concatenate([input, hidden2])\n",
        "        output = self.output_(concat)\n",
        "        return output\n",
        "\n",
        "model = MyModel()"
      ],
      "execution_count": 0,
      "outputs": []
    },
    {
      "metadata": {
        "id": "ZOtG1vjfMxZ4",
        "colab_type": "code",
        "colab": {}
      },
      "cell_type": "code",
      "source": [
        "model.compile(loss=my_mse, optimizer=\"sgd\", metrics=[my_mae])"
      ],
      "execution_count": 0,
      "outputs": []
    },
    {
      "metadata": {
        "id": "np_Gc1NUMxZ4",
        "colab_type": "code",
        "outputId": "4372af6b-acf9-46cb-9ecf-70cf669227fe",
        "colab": {
          "base_uri": "https://localhost:8080/",
          "height": 248
        }
      },
      "cell_type": "code",
      "source": [
        "model.fit(X_train_scaled, y_train, epochs=2,\n",
        "          validation_data=(X_valid_scaled, y_valid))\n",
        "model.evaluate(X_test_scaled, y_test)"
      ],
      "execution_count": 109,
      "outputs": [
        {
          "output_type": "stream",
          "text": [
            "Tracing MyModel.call()\n",
            "Tracing MyDense.call()\n",
            "Tracing MyDense.call()\n",
            "Tracing MyDense.call()\n",
            "Tracing metric my_mae()\n",
            "Tracing loss my_mse()\n",
            "Train on 11610 samples, validate on 3870 samples\n",
            "Epoch 1/2\n",
            "11610/11610 [==============================] - 1s 59us/sample - loss: 3.2727 - my_mae: 1.4729 - val_loss: 1.8131 - val_my_mae: 0.9809\n",
            "Epoch 2/2\n",
            "11610/11610 [==============================] - 1s 50us/sample - loss: 1.2096 - my_mae: 0.7808 - val_loss: 0.9686 - val_my_mae: 0.6281\n",
            "5160/5160 [==============================] - 0s 25us/sample - loss: 0.8405 - my_mae: 0.6347\n"
          ],
          "name": "stdout"
        },
        {
          "output_type": "execute_result",
          "data": {
            "text/plain": [
              "[0.8405076354048973, 0.6346769]"
            ]
          },
          "metadata": {
            "tags": []
          },
          "execution_count": 109
        }
      ]
    },
    {
      "metadata": {
        "id": "XpJyckqGMxZ5",
        "colab_type": "text"
      },
      "cell_type": "markdown",
      "source": [
        "Notice that each custom function is traced just once, except for the metric function. That's a bit odd."
      ]
    },
    {
      "metadata": {
        "id": "qzh9zqJRMxZ5",
        "colab_type": "text"
      },
      "cell_type": "markdown",
      "source": [
        "### 3.5)\n",
        "Examine the following function, and try to call it with various argument types and shapes. Notice that only tensors of type `int32` and one dimension (of any size) are accepted now that we have specified the `input_signature`."
      ]
    },
    {
      "metadata": {
        "id": "Pb3ycL4bMxZ5",
        "colab_type": "code",
        "colab": {}
      },
      "cell_type": "code",
      "source": [
        "@tf.function(input_signature=[tf.TensorSpec([None], tf.int32, name=\"x\")])\n",
        "def cube(z):\n",
        "    return tf.pow(z, 3)"
      ],
      "execution_count": 0,
      "outputs": []
    },
    {
      "metadata": {
        "id": "TDCdeJQfMxZ6",
        "colab_type": "code",
        "outputId": "576ec89b-8f57-4a83-c630-929ffb107b7e",
        "colab": {
          "base_uri": "https://localhost:8080/",
          "height": 33
        }
      },
      "cell_type": "code",
      "source": [
        "cube(tf.constant([1, 2, 3]))"
      ],
      "execution_count": 111,
      "outputs": [
        {
          "output_type": "execute_result",
          "data": {
            "text/plain": [
              "<tf.Tensor: id=304892, shape=(3,), dtype=int32, numpy=array([ 1,  8, 27], dtype=int32)>"
            ]
          },
          "metadata": {
            "tags": []
          },
          "execution_count": 111
        }
      ]
    },
    {
      "metadata": {
        "id": "zB3ns46wMxZ6",
        "colab_type": "code",
        "outputId": "4a8d75eb-2a2d-4d7e-c826-1867c07afd22",
        "colab": {
          "base_uri": "https://localhost:8080/",
          "height": 53
        }
      },
      "cell_type": "code",
      "source": [
        "cube(tf.constant([1, 2, 3, 4, 5]))"
      ],
      "execution_count": 112,
      "outputs": [
        {
          "output_type": "execute_result",
          "data": {
            "text/plain": [
              "<tf.Tensor: id=304895, shape=(5,), dtype=int32, numpy=array([  1,   8,  27,  64, 125], dtype=int32)>"
            ]
          },
          "metadata": {
            "tags": []
          },
          "execution_count": 112
        }
      ]
    },
    {
      "metadata": {
        "id": "7k8x2lC3MxZ7",
        "colab_type": "code",
        "colab": {}
      },
      "cell_type": "code",
      "source": [
        "try:\n",
        "    cube([1, 2, 3])\n",
        "except ValueError as ex:\n",
        "    print(ex)"
      ],
      "execution_count": 0,
      "outputs": []
    },
    {
      "metadata": {
        "id": "i7AhQK-uMxZ8",
        "colab_type": "code",
        "outputId": "92c53bbe-6456-4d9b-8a31-f19b5d8a5a34",
        "colab": {
          "base_uri": "https://localhost:8080/",
          "height": 53
        }
      },
      "cell_type": "code",
      "source": [
        "try:\n",
        "    cube(tf.constant([1., 2., 3]))\n",
        "except ValueError as ex:\n",
        "    print(ex)"
      ],
      "execution_count": 114,
      "outputs": [
        {
          "output_type": "stream",
          "text": [
            "Python inputs incompatible with input_signature: inputs ((<tf.Tensor: id=304899, shape=(3,), dtype=float32, numpy=array([1., 2., 3.], dtype=float32)>,)), input_signature ((TensorSpec(shape=(None,), dtype=tf.int32, name='x'),))\n"
          ],
          "name": "stdout"
        }
      ]
    },
    {
      "metadata": {
        "scrolled": true,
        "id": "d4J8qJaoMxZ-",
        "colab_type": "code",
        "outputId": "cb8b6951-eda0-41ed-ca6e-f84bbc1a811b",
        "colab": {
          "base_uri": "https://localhost:8080/",
          "height": 86
        }
      },
      "cell_type": "code",
      "source": [
        "try:\n",
        "    cube(tf.constant([[1, 2], [3, 4]]))\n",
        "except ValueError as ex:\n",
        "    print(ex)"
      ],
      "execution_count": 115,
      "outputs": [
        {
          "output_type": "stream",
          "text": [
            "Python inputs incompatible with input_signature: inputs ((<tf.Tensor: id=304901, shape=(2, 2), dtype=int32, numpy=\n",
            "array([[1, 2],\n",
            "       [3, 4]], dtype=int32)>,)), input_signature ((TensorSpec(shape=(None,), dtype=tf.int32, name='x'),))\n"
          ],
          "name": "stdout"
        }
      ]
    },
    {
      "metadata": {
        "id": "F2aVHBesMxZ_",
        "colab_type": "text"
      },
      "cell_type": "markdown",
      "source": [
        "![Exercise](https://c1.staticflickr.com/9/8101/8553474140_c50cf08708_b.jpg)"
      ]
    },
    {
      "metadata": {
        "id": "t1oMvEMiMxZ_",
        "colab_type": "text"
      },
      "cell_type": "markdown",
      "source": [
        "## Exercise 4 – Function Graphs"
      ]
    },
    {
      "metadata": {
        "id": "OhagoCzlMxaB",
        "colab_type": "text"
      },
      "cell_type": "markdown",
      "source": [
        "### 4.1)\n",
        "Examine and run the following code examples."
      ]
    },
    {
      "metadata": {
        "id": "y2LI1o2XMxaB",
        "colab_type": "code",
        "colab": {}
      },
      "cell_type": "code",
      "source": [
        "@tf.function(input_signature=[tf.TensorSpec([None], tf.int32, name=\"x\")])\n",
        "def cube(z):\n",
        "    return tf.pow(z, 3)"
      ],
      "execution_count": 0,
      "outputs": []
    },
    {
      "metadata": {
        "id": "HnW_lAqZMxaB",
        "colab_type": "code",
        "outputId": "ded8c6e1-0940-4457-bdb2-09fd517bc7c5",
        "colab": {
          "base_uri": "https://localhost:8080/",
          "height": 33
        }
      },
      "cell_type": "code",
      "source": [
        "cube_func_int32 = cube.get_concrete_function(tf.TensorSpec([None], tf.int32))\n",
        "cube_func_int32"
      ],
      "execution_count": 117,
      "outputs": [
        {
          "output_type": "execute_result",
          "data": {
            "text/plain": [
              "<tensorflow.python.eager.function.ConcreteFunction at 0x7fe283a9eda0>"
            ]
          },
          "metadata": {
            "tags": []
          },
          "execution_count": 117
        }
      ]
    },
    {
      "metadata": {
        "id": "V-acH3ghMxaC",
        "colab_type": "code",
        "outputId": "e99ea764-be98-4427-d164-932e3ca4ac82",
        "colab": {
          "base_uri": "https://localhost:8080/",
          "height": 33
        }
      },
      "cell_type": "code",
      "source": [
        "cube_func_int32 is cube.get_concrete_function(tf.TensorSpec([5], tf.int32))"
      ],
      "execution_count": 118,
      "outputs": [
        {
          "output_type": "execute_result",
          "data": {
            "text/plain": [
              "True"
            ]
          },
          "metadata": {
            "tags": []
          },
          "execution_count": 118
        }
      ]
    },
    {
      "metadata": {
        "id": "Oi1BfQseMxaC",
        "colab_type": "code",
        "outputId": "69563f78-3843-4e75-8216-a2ee779eb735",
        "colab": {
          "base_uri": "https://localhost:8080/",
          "height": 33
        }
      },
      "cell_type": "code",
      "source": [
        "cube_func_int32 is cube.get_concrete_function(tf.constant([1, 2, 3]))"
      ],
      "execution_count": 119,
      "outputs": [
        {
          "output_type": "execute_result",
          "data": {
            "text/plain": [
              "True"
            ]
          },
          "metadata": {
            "tags": []
          },
          "execution_count": 119
        }
      ]
    },
    {
      "metadata": {
        "id": "9YoWDJ9xMxaE",
        "colab_type": "code",
        "outputId": "29fd8f7f-95a9-4a2a-8a25-81c9910ce2da",
        "colab": {
          "base_uri": "https://localhost:8080/",
          "height": 33
        }
      },
      "cell_type": "code",
      "source": [
        "cube_func_int32.graph"
      ],
      "execution_count": 120,
      "outputs": [
        {
          "output_type": "execute_result",
          "data": {
            "text/plain": [
              "<tensorflow.python.framework.func_graph.FuncGraph at 0x7fe283afb9e8>"
            ]
          },
          "metadata": {
            "tags": []
          },
          "execution_count": 120
        }
      ]
    },
    {
      "metadata": {
        "id": "6kmyraD1MxaE",
        "colab_type": "text"
      },
      "cell_type": "markdown",
      "source": [
        "### 4.2)\n",
        "The function's graph is represented on the following diagram. Call the graph's `get_operations()` method to get the list of operations. Each operation has an `inputs` attribute that returns an iterator over its input tensors (these are symbolic: contrary to tensors we have used up to now, they have no value). It also has an `outputs` attribute that returns the list of output tensors. Each tensor has an `op` attribute that returns the operation it comes from. Try navigating through the graph using these methods and attributes."
      ]
    },
    {
      "metadata": {
        "id": "OgO0M-NLMxaE",
        "colab_type": "text"
      },
      "cell_type": "markdown",
      "source": [
        "<img src=\"https://github.com/ageron/tf2_course/blob/master/images/cube_graph.png?raw=1\" width=\"600\" />"
      ]
    },
    {
      "metadata": {
        "id": "KsmLtBmRMxaE",
        "colab_type": "code",
        "colab": {}
      },
      "cell_type": "code",
      "source": [
        ""
      ],
      "execution_count": 0,
      "outputs": []
    },
    {
      "metadata": {
        "id": "HKHgptajMxaF",
        "colab_type": "code",
        "colab": {}
      },
      "cell_type": "code",
      "source": [
        ""
      ],
      "execution_count": 0,
      "outputs": []
    },
    {
      "metadata": {
        "id": "yYeAwS7GMxaF",
        "colab_type": "code",
        "colab": {}
      },
      "cell_type": "code",
      "source": [
        ""
      ],
      "execution_count": 0,
      "outputs": []
    },
    {
      "metadata": {
        "id": "d8l3bcYGMxaG",
        "colab_type": "text"
      },
      "cell_type": "markdown",
      "source": [
        "### 4.3)\n",
        "Each operation has a default name, such as `\"pow\"` (you can override it by setting the `name` attribute when you call the operation). In case of a name conflict, TensorFlow adds an underscore and anindex to make the name unique (e.g. `\"pow_1\"`). Moreover, each tensor has the same name as the operation that outputs it, followed by a colon `:` and the tensor's `index` (e.g., `\"pow:0\"`). Most operations have a single output tensor, so most tensors have a name that ends with `:0`. Try using `get_operation_by_name()` and `get_tensor_by_name()` to access any op and tensor you wish."
      ]
    },
    {
      "metadata": {
        "id": "FQpwUZl5MxaG",
        "colab_type": "code",
        "colab": {}
      },
      "cell_type": "code",
      "source": [
        ""
      ],
      "execution_count": 0,
      "outputs": []
    },
    {
      "metadata": {
        "id": "koAz9xjwMxaG",
        "colab_type": "code",
        "colab": {}
      },
      "cell_type": "code",
      "source": [
        ""
      ],
      "execution_count": 0,
      "outputs": []
    },
    {
      "metadata": {
        "id": "hAoXO9nbMxaH",
        "colab_type": "code",
        "colab": {}
      },
      "cell_type": "code",
      "source": [
        ""
      ],
      "execution_count": 0,
      "outputs": []
    },
    {
      "metadata": {
        "id": "1Wc4mz5jMxaI",
        "colab_type": "text"
      },
      "cell_type": "markdown",
      "source": [
        "### 4.4)\n",
        "Call the graph's `as_graph_def()` method and print the output. This is a protobuf representation of the computation graph: it is what makes TensorFlow models so portable."
      ]
    },
    {
      "metadata": {
        "id": "sPsooQY7MxaI",
        "colab_type": "code",
        "colab": {}
      },
      "cell_type": "code",
      "source": [
        ""
      ],
      "execution_count": 0,
      "outputs": []
    },
    {
      "metadata": {
        "id": "3Z2FiJLFMxaI",
        "colab_type": "code",
        "colab": {}
      },
      "cell_type": "code",
      "source": [
        ""
      ],
      "execution_count": 0,
      "outputs": []
    },
    {
      "metadata": {
        "id": "yd1nlGhZMxaJ",
        "colab_type": "code",
        "colab": {}
      },
      "cell_type": "code",
      "source": [
        ""
      ],
      "execution_count": 0,
      "outputs": []
    },
    {
      "metadata": {
        "id": "hkKhU3d2MxaJ",
        "colab_type": "text"
      },
      "cell_type": "markdown",
      "source": [
        "### 4.5)\n",
        "Get the concrete function's `function_def`, and look at its `signature`. This shows the names and types of the nodes in the graph that correspond to the function's inputs and outputs. This will come in handy when you deploy models to TensorFlow Serving or Google Cloud ML Engine."
      ]
    },
    {
      "metadata": {
        "id": "zJA5eRHAMxaJ",
        "colab_type": "code",
        "colab": {}
      },
      "cell_type": "code",
      "source": [
        ""
      ],
      "execution_count": 0,
      "outputs": []
    },
    {
      "metadata": {
        "id": "x9eyEd3HMxaJ",
        "colab_type": "code",
        "colab": {}
      },
      "cell_type": "code",
      "source": [
        ""
      ],
      "execution_count": 0,
      "outputs": []
    },
    {
      "metadata": {
        "id": "S5qu6v4MMxaK",
        "colab_type": "code",
        "colab": {}
      },
      "cell_type": "code",
      "source": [
        ""
      ],
      "execution_count": 0,
      "outputs": []
    },
    {
      "metadata": {
        "id": "QxdZCk09MxaL",
        "colab_type": "text"
      },
      "cell_type": "markdown",
      "source": [
        "![Exercise solution](https://camo.githubusercontent.com/250388fde3fac9135ead9471733ee28e049f7a37/68747470733a2f2f75706c6f61642e77696b696d656469612e6f72672f77696b6970656469612f636f6d6d6f6e732f302f30362f46696c6f735f736567756e646f5f6c6f676f5f253238666c69707065642532392e6a7067)"
      ]
    },
    {
      "metadata": {
        "id": "louMsp6bMxaL",
        "colab_type": "text"
      },
      "cell_type": "markdown",
      "source": [
        "## Exercise 4 – Solution"
      ]
    },
    {
      "metadata": {
        "id": "9ZbDuhQqMxaL",
        "colab_type": "text"
      },
      "cell_type": "markdown",
      "source": [
        "### 4.1)\n",
        "Examine the code examples."
      ]
    },
    {
      "metadata": {
        "id": "dEpsDFARMxaM",
        "colab_type": "text"
      },
      "cell_type": "markdown",
      "source": [
        "Done."
      ]
    },
    {
      "metadata": {
        "id": "eKT5NX_JMxaM",
        "colab_type": "text"
      },
      "cell_type": "markdown",
      "source": [
        "### 4.2)\n",
        "The function's graph is represented on the following diagram. Call the graph's `get_operations()` method to get the list of operations. Each operation has an `inputs` attribute that returns an iterator over its input tensors (these are symbolic: contrary to tensors we have used up to now, they have no value). It also has an `outputs` attribute that returns the list of output tensors. Each tensor has an `op` attribute that returns the operation it comes from. Try navigating through the graph using these methods and attributes."
      ]
    },
    {
      "metadata": {
        "id": "dlYbTgagMxaM",
        "colab_type": "text"
      },
      "cell_type": "markdown",
      "source": [
        "<img src=\"https://github.com/ageron/tf2_course/blob/master/images/cube_graph.png?raw=1\" width=\"600\" />"
      ]
    },
    {
      "metadata": {
        "id": "nH5LUt99MxaM",
        "colab_type": "code",
        "outputId": "e096a4f2-933d-4b6f-b7e7-9596998fab55",
        "colab": {
          "base_uri": "https://localhost:8080/",
          "height": 82
        }
      },
      "cell_type": "code",
      "source": [
        "cube_func_int32.graph.get_operations()"
      ],
      "execution_count": 122,
      "outputs": [
        {
          "output_type": "execute_result",
          "data": {
            "text/plain": [
              "[<tf.Operation 'x' type=Placeholder>,\n",
              " <tf.Operation 'Pow/y' type=Const>,\n",
              " <tf.Operation 'Pow' type=Pow>,\n",
              " <tf.Operation 'Identity' type=Identity>]"
            ]
          },
          "metadata": {
            "tags": []
          },
          "execution_count": 122
        }
      ]
    },
    {
      "metadata": {
        "id": "lyvyiA7sMxaN",
        "colab_type": "code",
        "outputId": "a425950d-e6bb-4a74-c8e7-49a7d14e3520",
        "colab": {
          "base_uri": "https://localhost:8080/",
          "height": 33
        }
      },
      "cell_type": "code",
      "source": [
        "pow_op = cube_func_int32.graph.get_operations()[2]\n",
        "pow_op"
      ],
      "execution_count": 123,
      "outputs": [
        {
          "output_type": "execute_result",
          "data": {
            "text/plain": [
              "<tf.Operation 'Pow' type=Pow>"
            ]
          },
          "metadata": {
            "tags": []
          },
          "execution_count": 123
        }
      ]
    },
    {
      "metadata": {
        "id": "uh-vOciUMxaN",
        "colab_type": "code",
        "outputId": "4a1640bd-4706-4098-aed3-90f95d1b92b7",
        "colab": {
          "base_uri": "https://localhost:8080/",
          "height": 50
        }
      },
      "cell_type": "code",
      "source": [
        "pow_in = list(pow_op.inputs)\n",
        "pow_in"
      ],
      "execution_count": 124,
      "outputs": [
        {
          "output_type": "execute_result",
          "data": {
            "text/plain": [
              "[<tf.Tensor 'x:0' shape=(None,) dtype=int32>,\n",
              " <tf.Tensor 'Pow/y:0' shape=() dtype=int32>]"
            ]
          },
          "metadata": {
            "tags": []
          },
          "execution_count": 124
        }
      ]
    },
    {
      "metadata": {
        "id": "EJiGCQsYMxaQ",
        "colab_type": "code",
        "outputId": "07dcd9f3-f8a8-4a08-e48c-f1f3a850481d",
        "colab": {
          "base_uri": "https://localhost:8080/",
          "height": 33
        }
      },
      "cell_type": "code",
      "source": [
        "pow_out = list(pow_op.outputs)\n",
        "pow_out"
      ],
      "execution_count": 125,
      "outputs": [
        {
          "output_type": "execute_result",
          "data": {
            "text/plain": [
              "[<tf.Tensor 'Pow:0' shape=(None,) dtype=int32>]"
            ]
          },
          "metadata": {
            "tags": []
          },
          "execution_count": 125
        }
      ]
    },
    {
      "metadata": {
        "id": "yDNYUYwaMxaQ",
        "colab_type": "code",
        "outputId": "2007b5f2-b812-4d7c-ec09-78c1a1eccfa6",
        "colab": {
          "base_uri": "https://localhost:8080/",
          "height": 50
        }
      },
      "cell_type": "code",
      "source": [
        "pow_in = list(pow_op.inputs)\n",
        "pow_in"
      ],
      "execution_count": 126,
      "outputs": [
        {
          "output_type": "execute_result",
          "data": {
            "text/plain": [
              "[<tf.Tensor 'x:0' shape=(None,) dtype=int32>,\n",
              " <tf.Tensor 'Pow/y:0' shape=() dtype=int32>]"
            ]
          },
          "metadata": {
            "tags": []
          },
          "execution_count": 126
        }
      ]
    },
    {
      "metadata": {
        "id": "4ZFdx_FHMxaR",
        "colab_type": "code",
        "outputId": "bcc4fee4-2713-48f5-e0b6-355951003745",
        "colab": {
          "base_uri": "https://localhost:8080/",
          "height": 33
        }
      },
      "cell_type": "code",
      "source": [
        "pow_in[0].op"
      ],
      "execution_count": 127,
      "outputs": [
        {
          "output_type": "execute_result",
          "data": {
            "text/plain": [
              "<tf.Operation 'x' type=Placeholder>"
            ]
          },
          "metadata": {
            "tags": []
          },
          "execution_count": 127
        }
      ]
    },
    {
      "metadata": {
        "id": "Yvp_gUWiMxaS",
        "colab_type": "text"
      },
      "cell_type": "markdown",
      "source": [
        "### 4.3)\n",
        "Each operation has a default name, such as `\"pow\"` (you can override it by setting the `name` attribute when you call the operation). In case of a name conflict, TensorFlow adds an underscore and anindex to make the name unique (e.g. `\"pow_1\"`). Moreover, each tensor has the same name as the operation that outputs it, followed by a colon `:` and the tensor's `index` (e.g., `\"pow:0\"`). Most operations have a single output tensor, so most tensors have a name that ends with `:0`. Try using `get_operation_by_name()` and `get_tensor_by_name()` to access any op and tensor you wish."
      ]
    },
    {
      "metadata": {
        "id": "RV2XarO5MxaS",
        "colab_type": "code",
        "outputId": "3daca477-a3fd-4c15-b693-79adc75944ea",
        "colab": {
          "base_uri": "https://localhost:8080/",
          "height": 33
        }
      },
      "cell_type": "code",
      "source": [
        "cube_func_int32.graph.get_operation_by_name(\"x\")"
      ],
      "execution_count": 128,
      "outputs": [
        {
          "output_type": "execute_result",
          "data": {
            "text/plain": [
              "<tf.Operation 'x' type=Placeholder>"
            ]
          },
          "metadata": {
            "tags": []
          },
          "execution_count": 128
        }
      ]
    },
    {
      "metadata": {
        "id": "ml3yDBfmMxaT",
        "colab_type": "code",
        "outputId": "48d8a5c5-14e4-43af-ea72-5ad451574112",
        "colab": {
          "base_uri": "https://localhost:8080/",
          "height": 33
        }
      },
      "cell_type": "code",
      "source": [
        "cube_func_int32.graph.get_tensor_by_name(\"x:0\")"
      ],
      "execution_count": 129,
      "outputs": [
        {
          "output_type": "execute_result",
          "data": {
            "text/plain": [
              "<tf.Tensor 'x:0' shape=(None,) dtype=int32>"
            ]
          },
          "metadata": {
            "tags": []
          },
          "execution_count": 129
        }
      ]
    },
    {
      "metadata": {
        "id": "B8_80Z2NMxaU",
        "colab_type": "text"
      },
      "cell_type": "markdown",
      "source": [
        "### 4.4)\n",
        "Call the graph's `as_graph_def()` method and print the output. This is a protobuf representation of the computation graph: it is what makes TensorFlow models so portable."
      ]
    },
    {
      "metadata": {
        "id": "qzII5KoNMxaU",
        "colab_type": "code",
        "outputId": "e07be3ac-6489-4556-aacf-a4820bb7108c",
        "colab": {
          "base_uri": "https://localhost:8080/",
          "height": 1203
        }
      },
      "cell_type": "code",
      "source": [
        "cube_func_int32.graph.as_graph_def()"
      ],
      "execution_count": 130,
      "outputs": [
        {
          "output_type": "execute_result",
          "data": {
            "text/plain": [
              "node {\n",
              "  name: \"x\"\n",
              "  op: \"Placeholder\"\n",
              "  attr {\n",
              "    key: \"_user_specified_name\"\n",
              "    value {\n",
              "      s: \"x\"\n",
              "    }\n",
              "  }\n",
              "  attr {\n",
              "    key: \"dtype\"\n",
              "    value {\n",
              "      type: DT_INT32\n",
              "    }\n",
              "  }\n",
              "  attr {\n",
              "    key: \"shape\"\n",
              "    value {\n",
              "      shape {\n",
              "        dim {\n",
              "          size: -1\n",
              "        }\n",
              "      }\n",
              "    }\n",
              "  }\n",
              "}\n",
              "node {\n",
              "  name: \"Pow/y\"\n",
              "  op: \"Const\"\n",
              "  attr {\n",
              "    key: \"dtype\"\n",
              "    value {\n",
              "      type: DT_INT32\n",
              "    }\n",
              "  }\n",
              "  attr {\n",
              "    key: \"value\"\n",
              "    value {\n",
              "      tensor {\n",
              "        dtype: DT_INT32\n",
              "        tensor_shape {\n",
              "        }\n",
              "        int_val: 3\n",
              "      }\n",
              "    }\n",
              "  }\n",
              "}\n",
              "node {\n",
              "  name: \"Pow\"\n",
              "  op: \"Pow\"\n",
              "  input: \"x\"\n",
              "  input: \"Pow/y\"\n",
              "  attr {\n",
              "    key: \"T\"\n",
              "    value {\n",
              "      type: DT_INT32\n",
              "    }\n",
              "  }\n",
              "}\n",
              "node {\n",
              "  name: \"Identity\"\n",
              "  op: \"Identity\"\n",
              "  input: \"Pow\"\n",
              "  attr {\n",
              "    key: \"T\"\n",
              "    value {\n",
              "      type: DT_INT32\n",
              "    }\n",
              "  }\n",
              "}\n",
              "versions {\n",
              "  producer: 27\n",
              "}"
            ]
          },
          "metadata": {
            "tags": []
          },
          "execution_count": 130
        }
      ]
    },
    {
      "metadata": {
        "id": "MWCIpttdMxaX",
        "colab_type": "text"
      },
      "cell_type": "markdown",
      "source": [
        "### 4.5)\n",
        "Get the concrete function's `function_def`, and look at its `signature`. This shows the names and types of the nodes in the graph that correspond to the function's inputs and outputs. This will come in handy when you deploy models to TensorFlow Serving or Google Cloud ML Engine."
      ]
    },
    {
      "metadata": {
        "scrolled": false,
        "id": "ldNejcJzMxaX",
        "colab_type": "code",
        "outputId": "b1d12754-db22-4575-e959-e5ea5b10268d",
        "colab": {
          "base_uri": "https://localhost:8080/",
          "height": 163
        }
      },
      "cell_type": "code",
      "source": [
        "cube_func_int32.function_def.signature"
      ],
      "execution_count": 131,
      "outputs": [
        {
          "output_type": "execute_result",
          "data": {
            "text/plain": [
              "name: \"__inference_cube_304909\"\n",
              "input_arg {\n",
              "  name: \"x\"\n",
              "  type: DT_INT32\n",
              "}\n",
              "output_arg {\n",
              "  name: \"identity\"\n",
              "  type: DT_INT32\n",
              "}"
            ]
          },
          "metadata": {
            "tags": []
          },
          "execution_count": 131
        }
      ]
    },
    {
      "metadata": {
        "id": "n_Lvjjm7MxaY",
        "colab_type": "text"
      },
      "cell_type": "markdown",
      "source": [
        "![Exercise](https://c1.staticflickr.com/9/8101/8553474140_c50cf08708_b.jpg)"
      ]
    },
    {
      "metadata": {
        "id": "M9RGjQMHMxaY",
        "colab_type": "text"
      },
      "cell_type": "markdown",
      "source": [
        "## Exercise 5 – Autodiff"
      ]
    },
    {
      "metadata": {
        "id": "VdcHbgW6MxaY",
        "colab_type": "text"
      },
      "cell_type": "markdown",
      "source": [
        "### 5.1)\n",
        "Examine and run the following code examples."
      ]
    },
    {
      "metadata": {
        "id": "a1xADqdYMxaY",
        "colab_type": "code",
        "colab": {}
      },
      "cell_type": "code",
      "source": [
        "def f(x):\n",
        "    return 3. * x ** 2 + 2. * x - 1."
      ],
      "execution_count": 0,
      "outputs": []
    },
    {
      "metadata": {
        "id": "RrBxN57TMxaY",
        "colab_type": "code",
        "colab": {}
      },
      "cell_type": "code",
      "source": [
        "def approximate_derivative(f, x, eps=1e-3):\n",
        "    return (f(x + eps) - f(x - eps)) / (2. * eps)"
      ],
      "execution_count": 0,
      "outputs": []
    },
    {
      "metadata": {
        "id": "hetLYuadMxaZ",
        "colab_type": "code",
        "outputId": "e3a792d9-7dae-4bbd-caaa-b43c591adb9d",
        "colab": {
          "base_uri": "https://localhost:8080/",
          "height": 33
        }
      },
      "cell_type": "code",
      "source": [
        "approximate_derivative(f, 1.0) # true derivative = 8"
      ],
      "execution_count": 134,
      "outputs": [
        {
          "output_type": "execute_result",
          "data": {
            "text/plain": [
              "7.999999999999119"
            ]
          },
          "metadata": {
            "tags": []
          },
          "execution_count": 134
        }
      ]
    },
    {
      "metadata": {
        "id": "X5XiWeWXMxaa",
        "colab_type": "code",
        "outputId": "a7165c58-2938-41bb-eaec-80161470b452",
        "colab": {
          "base_uri": "https://localhost:8080/",
          "height": 287
        }
      },
      "cell_type": "code",
      "source": [
        "xs = np.linspace(-2, 2, 200)\n",
        "fs = f(xs)\n",
        "x0 = 0.5\n",
        "df_x0 = approximate_derivative(f, x0)\n",
        "tangent_x0 = df_x0 * (xs - x0) + f(x0)\n",
        "plt.plot([-2, 2], [0, 0], \"k-\", linewidth=1)\n",
        "plt.plot([0, 0], [-5, 15], \"k-\", linewidth=1)\n",
        "plt.plot(xs, fs)\n",
        "plt.plot(xs, tangent_x0, \"r--\")\n",
        "plt.plot(x0, f(x0), \"ro\")\n",
        "plt.grid(True)\n",
        "plt.xlabel(\"x\", fontsize=14)\n",
        "plt.ylabel(\"f(x)\", fontsize=14, rotation=0)\n",
        "plt.axis([-2, 2, -5, 15])\n",
        "plt.show()"
      ],
      "execution_count": 135,
      "outputs": [
        {
          "output_type": "display_data",
          "data": {
            "image/png": "[encoded data removed]",
            "text/plain": [
              "<Figure size 432x288 with 1 Axes>"
            ]
          },
          "metadata": {
            "tags": []
          }
        }
      ]
    },
    {
      "metadata": {
        "id": "C32cwdheMxaa",
        "colab_type": "code",
        "colab": {}
      },
      "cell_type": "code",
      "source": [
        "def g(x1, x2):\n",
        "    return (x1 + 5) * (x2 ** 2)"
      ],
      "execution_count": 0,
      "outputs": []
    },
    {
      "metadata": {
        "id": "WW4z7cYMMxab",
        "colab_type": "code",
        "colab": {}
      },
      "cell_type": "code",
      "source": [
        "def approximate_gradient(f, x1, x2, eps=1e-3):\n",
        "    df_x1 = approximate_derivative(lambda x: f(x, x2), x1, eps)\n",
        "    df_x2 = approximate_derivative(lambda x: f(x1, x), x2, eps)\n",
        "    return df_x1, df_x2"
      ],
      "execution_count": 0,
      "outputs": []
    },
    {
      "metadata": {
        "id": "VZeyEMeMMxab",
        "colab_type": "code",
        "outputId": "9091b67a-f38b-4fe6-b370-f4ef86755309",
        "colab": {
          "base_uri": "https://localhost:8080/",
          "height": 33
        }
      },
      "cell_type": "code",
      "source": [
        "approximate_gradient(g, 2.0, 3.0) # true gradient = (9, 42)"
      ],
      "execution_count": 138,
      "outputs": [
        {
          "output_type": "execute_result",
          "data": {
            "text/plain": [
              "(8.999999999993236, 41.999999999994486)"
            ]
          },
          "metadata": {
            "tags": []
          },
          "execution_count": 138
        }
      ]
    },
    {
      "metadata": {
        "id": "jin75OvoMxac",
        "colab_type": "code",
        "outputId": "dc7a8a90-7ff1-4194-e363-3bbf13b4690c",
        "colab": {
          "base_uri": "https://localhost:8080/",
          "height": 50
        }
      },
      "cell_type": "code",
      "source": [
        "x1 = tf.Variable(2.0)\n",
        "x2 = tf.Variable(3.0)\n",
        "with tf.GradientTape() as tape:\n",
        "    z = g(x1, x2)\n",
        "grads = tape.gradient(z, [x1, x2])\n",
        "grads"
      ],
      "execution_count": 139,
      "outputs": [
        {
          "output_type": "execute_result",
          "data": {
            "text/plain": [
              "[<tf.Tensor: id=304935, shape=(), dtype=float32, numpy=9.0>,\n",
              " <tf.Tensor: id=304947, shape=(), dtype=float32, numpy=42.0>]"
            ]
          },
          "metadata": {
            "tags": []
          },
          "execution_count": 139
        }
      ]
    },
    {
      "metadata": {
        "id": "Erxup3hzMxad",
        "colab_type": "code",
        "outputId": "326628e5-e328-4d1e-e8ec-6ed8d6ad7fcd",
        "colab": {
          "base_uri": "https://localhost:8080/",
          "height": 33
        }
      },
      "cell_type": "code",
      "source": [
        "x1 = tf.Variable(2.0)\n",
        "x2 = tf.Variable(3.0)\n",
        "with tf.GradientTape() as tape:\n",
        "    z = g(x1, x2)\n",
        "\n",
        "dz_x1 = tape.gradient(z, x1)\n",
        "try:\n",
        "    dz_x2 = tape.gradient(z, x2)\n",
        "except RuntimeError as ex:\n",
        "    print(ex)"
      ],
      "execution_count": 140,
      "outputs": [
        {
          "output_type": "stream",
          "text": [
            "GradientTape.gradient can only be called once on non-persistent tapes.\n"
          ],
          "name": "stdout"
        }
      ]
    },
    {
      "metadata": {
        "id": "jNBCglAFMxad",
        "colab_type": "code",
        "outputId": "ddc6c411-7ee9-48d1-d501-b004e4fe5fdd",
        "colab": {
          "base_uri": "https://localhost:8080/",
          "height": 50
        }
      },
      "cell_type": "code",
      "source": [
        "x1 = tf.Variable(2.0)\n",
        "x2 = tf.Variable(3.0)\n",
        "with tf.GradientTape(persistent=True) as tape:\n",
        "    z = g(x1, x2)\n",
        "\n",
        "dz_x1 = tape.gradient(z, x1)\n",
        "dz_x2 = tape.gradient(z, x2)\n",
        "del tape\n",
        "dz_x1, dz_x2"
      ],
      "execution_count": 142,
      "outputs": [
        {
          "output_type": "execute_result",
          "data": {
            "text/plain": [
              "(<tf.Tensor: id=305110, shape=(), dtype=float32, numpy=9.0>,\n",
              " <tf.Tensor: id=305149, shape=(), dtype=float32, numpy=42.0>)"
            ]
          },
          "metadata": {
            "tags": []
          },
          "execution_count": 142
        }
      ]
    },
    {
      "metadata": {
        "id": "AHMN9-hUMxae",
        "colab_type": "code",
        "outputId": "e29922c0-9035-4544-d0cf-c97df7273e30",
        "colab": {
          "base_uri": "https://localhost:8080/",
          "height": 33
        }
      },
      "cell_type": "code",
      "source": [
        "x1 = tf.constant(2.0) # <= not Variable\n",
        "x2 = tf.constant(3.0) # <= not Variable\n",
        "with tf.GradientTape() as tape:\n",
        "    z = g(x1, x2)\n",
        "\n",
        "grads = tape.gradient(z, [x1, x2])\n",
        "grads"
      ],
      "execution_count": 143,
      "outputs": [
        {
          "output_type": "execute_result",
          "data": {
            "text/plain": [
              "[None, None]"
            ]
          },
          "metadata": {
            "tags": []
          },
          "execution_count": 143
        }
      ]
    },
    {
      "metadata": {
        "id": "tmjs6DlhMxae",
        "colab_type": "code",
        "outputId": "29166a3d-fd4c-4b44-f891-3d54925159bb",
        "colab": {
          "base_uri": "https://localhost:8080/",
          "height": 50
        }
      },
      "cell_type": "code",
      "source": [
        "x1 = tf.constant(2.0)\n",
        "x2 = tf.constant(3.0)\n",
        "with tf.GradientTape() as tape:\n",
        "    tape.watch(x1)\n",
        "    tape.watch(x2)\n",
        "    z = g(x1, x2)\n",
        "\n",
        "grads = tape.gradient(z, [x1, x2])\n",
        "grads"
      ],
      "execution_count": 144,
      "outputs": [
        {
          "output_type": "execute_result",
          "data": {
            "text/plain": [
              "[<tf.Tensor: id=305180, shape=(), dtype=float32, numpy=9.0>,\n",
              " <tf.Tensor: id=305192, shape=(), dtype=float32, numpy=42.0>]"
            ]
          },
          "metadata": {
            "tags": []
          },
          "execution_count": 144
        }
      ]
    },
    {
      "metadata": {
        "id": "TVySCj_ZMxaf",
        "colab_type": "code",
        "outputId": "11eda3b3-b76a-43c9-8e33-cdca3ec3abbd",
        "colab": {
          "base_uri": "https://localhost:8080/",
          "height": 33
        }
      },
      "cell_type": "code",
      "source": [
        "x = tf.Variable(5.0)\n",
        "with tf.GradientTape() as tape:\n",
        "    z1 = 3 * x\n",
        "    z2 = x ** 2\n",
        "tape.gradient([z1, z2], x) # dz1_x + dz2_x = 3 + 2x = 3 + 2*5 = 13"
      ],
      "execution_count": 145,
      "outputs": [
        {
          "output_type": "execute_result",
          "data": {
            "text/plain": [
              "<tf.Tensor: id=305249, shape=(), dtype=float32, numpy=13.0>"
            ]
          },
          "metadata": {
            "tags": []
          },
          "execution_count": 145
        }
      ]
    },
    {
      "metadata": {
        "id": "w_0yzc8zMxag",
        "colab_type": "code",
        "outputId": "84fa18f5-710e-4c9b-af76-6c91887044aa",
        "colab": {
          "base_uri": "https://localhost:8080/",
          "height": 66
        }
      },
      "cell_type": "code",
      "source": [
        "x1 = tf.Variable(2.0)\n",
        "x2 = tf.Variable(3.0)\n",
        "with tf.GradientTape(persistent=True) as hessian_tape:\n",
        "    with tf.GradientTape() as jacobian_tape:\n",
        "        z = g(x1, x2)\n",
        "    jacobians = jacobian_tape.gradient(z, [x1, x2])\n",
        "hessians = [hessian_tape.gradient(jacobian, [x1, x2])\n",
        "            for jacobian in jacobians]\n",
        "del hessian_tape\n",
        "hessians"
      ],
      "execution_count": 146,
      "outputs": [
        {
          "output_type": "execute_result",
          "data": {
            "text/plain": [
              "[[None, <tf.Tensor: id=305312, shape=(), dtype=float32, numpy=6.0>],\n",
              " [<tf.Tensor: id=305366, shape=(), dtype=float32, numpy=6.0>,\n",
              "  <tf.Tensor: id=305349, shape=(), dtype=float32, numpy=14.0>]]"
            ]
          },
          "metadata": {
            "tags": []
          },
          "execution_count": 146
        }
      ]
    },
    {
      "metadata": {
        "id": "e8cGkpjGMxag",
        "colab_type": "text"
      },
      "cell_type": "markdown",
      "source": [
        "### 5.2)\n",
        "Implement Gradient Descent manually to find the value of `x` that minimizes the following function `f(x)`.\n",
        "\n",
        "**Tips**:\n",
        "* Define a variable `x` and initialize it to 0.\n",
        "* Define the `learning_rate` (e.g., 0.1).\n",
        "* Write a loop that will repeatedly (1) compute the gradient of `f` (actually a derivative in this case) at the current value of `x`, and (2) tweak `x` slightly in the opposite direction (by subtracting `learning_rate * df_dx`). You can use `x.assign_sub(...)` for this.\n",
        "* Using calculus, we can find that the algorithm should converge to $x = -\\frac{1}{3}$. Indeed, the derivative of $f(x) = 3 x^2 + 2x -1$ is $f'(x) = 6x + 2$, so the minimum is reached when $f'(x) = 0$ (slope is 0), so $6x + 2 = 0$, which leads to $x = -\\frac{1}{3}$.\n"
      ]
    },
    {
      "metadata": {
        "id": "hTwsDI4IMxag",
        "colab_type": "code",
        "colab": {}
      },
      "cell_type": "code",
      "source": [
        "def f(x):\n",
        "    return 3. * x ** 2 + 2. * x - 1."
      ],
      "execution_count": 0,
      "outputs": []
    },
    {
      "metadata": {
        "id": "XkQDUL0eMxah",
        "colab_type": "code",
        "colab": {}
      },
      "cell_type": "code",
      "source": [
        ""
      ],
      "execution_count": 0,
      "outputs": []
    },
    {
      "metadata": {
        "id": "z8p1RwzbMxah",
        "colab_type": "code",
        "colab": {}
      },
      "cell_type": "code",
      "source": [
        ""
      ],
      "execution_count": 0,
      "outputs": []
    },
    {
      "metadata": {
        "id": "5cB1YZ2gMxah",
        "colab_type": "code",
        "colab": {}
      },
      "cell_type": "code",
      "source": [
        ""
      ],
      "execution_count": 0,
      "outputs": []
    },
    {
      "metadata": {
        "id": "Kj2zqqPMMxai",
        "colab_type": "text"
      },
      "cell_type": "markdown",
      "source": [
        "### 5.3)\n",
        "Now use an `SGD` optimizer instead of manually tweaking `x`.\n",
        "\n",
        "**Tips**:\n",
        "* You first need to create an `SGD` optimizer, optionally specifying the learning_rate (e.g., `lr=0.1`).\n",
        "* Next replace the manual tweaking of `x` in your previous code to use `optimizer.apply_gradients()` instead. You need to pass it a list of gradient/variable pairs (just one pair in this example)."
      ]
    },
    {
      "metadata": {
        "id": "Y3mWomPsMxai",
        "colab_type": "code",
        "colab": {}
      },
      "cell_type": "code",
      "source": [
        ""
      ],
      "execution_count": 0,
      "outputs": []
    },
    {
      "metadata": {
        "id": "IUFAmuMFMxai",
        "colab_type": "code",
        "colab": {}
      },
      "cell_type": "code",
      "source": [
        ""
      ],
      "execution_count": 0,
      "outputs": []
    },
    {
      "metadata": {
        "id": "FIaqVsMdMxai",
        "colab_type": "code",
        "colab": {}
      },
      "cell_type": "code",
      "source": [
        ""
      ],
      "execution_count": 0,
      "outputs": []
    },
    {
      "metadata": {
        "id": "JX8injXWMxaj",
        "colab_type": "text"
      },
      "cell_type": "markdown",
      "source": [
        "### 5.4)\n",
        "Create a `Sequential` model for the California housing problem (no need to compile it), and train it using your own training loop, instead of using `fit()`. Evaluate your model on the validation set at the end of each epoch, and display the result.\n",
        "\n",
        "**Tips**:\n",
        "* You can use the following `random_batch()` function to get a new batch of training data at each iteration (the Data API would be much preferable, as we will see in the next notebook).\n",
        "* You can use the model like a function to make predictions: `y_pred = model(X_batch)`\n",
        "* You can use `keras.losses.mean_squared_error()` to compute the loss. Note that it returns one loss per instance, so you need to use `tf.reduce_mean()` to get the mean loss. \n",
        "* You can use `model.trainable_variables` to get the full list of trainable variables in your model.\n",
        "* You can use `zip(gradients, variables)` to create a list containing all the gradient/variable pairs."
      ]
    },
    {
      "metadata": {
        "id": "kSG2X9snMxaj",
        "colab_type": "code",
        "colab": {}
      },
      "cell_type": "code",
      "source": [
        "def random_batch(X, y, batch_size = 32):\n",
        "    idx = np.random.randint(0, len(X), size=batch_size)\n",
        "    return X[idx], y[idx]"
      ],
      "execution_count": 0,
      "outputs": []
    },
    {
      "metadata": {
        "id": "qt-NfcvfMxaj",
        "colab_type": "code",
        "colab": {}
      },
      "cell_type": "code",
      "source": [
        ""
      ],
      "execution_count": 0,
      "outputs": []
    },
    {
      "metadata": {
        "id": "ldvRLuzBMxaj",
        "colab_type": "code",
        "colab": {}
      },
      "cell_type": "code",
      "source": [
        ""
      ],
      "execution_count": 0,
      "outputs": []
    },
    {
      "metadata": {
        "id": "sHR0t1i8Mxak",
        "colab_type": "code",
        "colab": {}
      },
      "cell_type": "code",
      "source": [
        ""
      ],
      "execution_count": 0,
      "outputs": []
    },
    {
      "metadata": {
        "id": "0roMkPNwMxak",
        "colab_type": "text"
      },
      "cell_type": "markdown",
      "source": [
        "### 5.5)\n",
        "Examine and run the following code examples, then update your training loop to display the training loss at each iteration.\n",
        "\n",
        "**Tips**:\n",
        "* You can use a `keras.metrics.MeanSquaredError` instance to efficiently track the running mean squared error at each iteration.\n",
        "* Make sure you reset the metric's states at the start of each epoch.\n",
        "* You can use `print(\"\\r\", mse, end=\"\")` to display the MSE on the same line at each iteration."
      ]
    },
    {
      "metadata": {
        "id": "6ak4WilkMxak",
        "colab_type": "code",
        "outputId": "45333d75-eb24-420a-bd2a-7f23446a072c",
        "colab": {
          "base_uri": "https://localhost:8080/",
          "height": 33
        }
      },
      "cell_type": "code",
      "source": [
        "metric = keras.metrics.MeanSquaredError()\n",
        "metric([5.], [2.])  # error = (2 - 5)**2 = 9\n",
        "metric([0.], [1.])  # error = (1 - 0)**2 = 1\n",
        "metric.result()     # mean error = (9 + 1) / 2 = 5"
      ],
      "execution_count": 148,
      "outputs": [
        {
          "output_type": "execute_result",
          "data": {
            "text/plain": [
              "<tf.Tensor: id=305410, shape=(), dtype=float32, numpy=5.0>"
            ]
          },
          "metadata": {
            "tags": []
          },
          "execution_count": 148
        }
      ]
    },
    {
      "metadata": {
        "id": "KOIYJqfGMxal",
        "colab_type": "code",
        "outputId": "02c3d1c3-27c3-4cd2-f886-5b2b7cade792",
        "colab": {
          "base_uri": "https://localhost:8080/",
          "height": 33
        }
      },
      "cell_type": "code",
      "source": [
        "metric.reset_states()\n",
        "metric.result()"
      ],
      "execution_count": 149,
      "outputs": [
        {
          "output_type": "execute_result",
          "data": {
            "text/plain": [
              "<tf.Tensor: id=305416, shape=(), dtype=float32, numpy=0.0>"
            ]
          },
          "metadata": {
            "tags": []
          },
          "execution_count": 149
        }
      ]
    },
    {
      "metadata": {
        "id": "BW9rdNUFMxal",
        "colab_type": "code",
        "outputId": "994d6cb4-8879-4304-9724-0b6b591dfc16",
        "colab": {
          "base_uri": "https://localhost:8080/",
          "height": 33
        }
      },
      "cell_type": "code",
      "source": [
        "metric([1.], [3.])  # error = (3 - 1)**2 = 4\n",
        "metric.result()     # mean error = 4 / 1 = 4"
      ],
      "execution_count": 150,
      "outputs": [
        {
          "output_type": "execute_result",
          "data": {
            "text/plain": [
              "<tf.Tensor: id=305432, shape=(), dtype=float32, numpy=4.0>"
            ]
          },
          "metadata": {
            "tags": []
          },
          "execution_count": 150
        }
      ]
    },
    {
      "metadata": {
        "id": "z0jB06e8Mxam",
        "colab_type": "code",
        "colab": {}
      },
      "cell_type": "code",
      "source": [
        ""
      ],
      "execution_count": 0,
      "outputs": []
    },
    {
      "metadata": {
        "id": "QoCgidrXMxam",
        "colab_type": "code",
        "colab": {}
      },
      "cell_type": "code",
      "source": [
        ""
      ],
      "execution_count": 0,
      "outputs": []
    },
    {
      "metadata": {
        "id": "NBfP4uomMxan",
        "colab_type": "code",
        "colab": {}
      },
      "cell_type": "code",
      "source": [
        ""
      ],
      "execution_count": 0,
      "outputs": []
    },
    {
      "metadata": {
        "id": "kxQ7uzihMxan",
        "colab_type": "text"
      },
      "cell_type": "markdown",
      "source": [
        "![Exercise solution](https://camo.githubusercontent.com/250388fde3fac9135ead9471733ee28e049f7a37/68747470733a2f2f75706c6f61642e77696b696d656469612e6f72672f77696b6970656469612f636f6d6d6f6e732f302f30362f46696c6f735f736567756e646f5f6c6f676f5f253238666c69707065642532392e6a7067)"
      ]
    },
    {
      "metadata": {
        "id": "f_QwqUppMxao",
        "colab_type": "text"
      },
      "cell_type": "markdown",
      "source": [
        "## Exercise 5 – Solution"
      ]
    },
    {
      "metadata": {
        "id": "n7ZjmvhwMxao",
        "colab_type": "text"
      },
      "cell_type": "markdown",
      "source": [
        "### 5.1)\n",
        "Examine the code examples."
      ]
    },
    {
      "metadata": {
        "id": "Y2bVLnaKMxao",
        "colab_type": "text"
      },
      "cell_type": "markdown",
      "source": [
        "Done"
      ]
    },
    {
      "metadata": {
        "id": "KN-d2DUMMxao",
        "colab_type": "text"
      },
      "cell_type": "markdown",
      "source": [
        "### 5.2)\n",
        "Implement Gradient Descent manually to find the value of `x` that minimizes the following function `f(x)`."
      ]
    },
    {
      "metadata": {
        "id": "pAK9qyPaMxap",
        "colab_type": "code",
        "colab": {}
      },
      "cell_type": "code",
      "source": [
        "def f(x):\n",
        "    return 3. * x ** 2 + 2. * x - 1."
      ],
      "execution_count": 0,
      "outputs": []
    },
    {
      "metadata": {
        "id": "hLuop6YLMxap",
        "colab_type": "code",
        "outputId": "873dee66-e362-4c15-e311-b742fa5246bb",
        "colab": {
          "base_uri": "https://localhost:8080/",
          "height": 33
        }
      },
      "cell_type": "code",
      "source": [
        "learning_rate = 0.1\n",
        "x = tf.Variable(0.0)\n",
        "\n",
        "for iteration in range(100):\n",
        "    with tf.GradientTape() as tape:\n",
        "        z = f(x)\n",
        "    dz_dx = tape.gradient(z, x)\n",
        "    x.assign_sub(learning_rate * dz_dx)\n",
        "x"
      ],
      "execution_count": 152,
      "outputs": [
        {
          "output_type": "execute_result",
          "data": {
            "text/plain": [
              "<tf.Variable 'Variable:0' shape=() dtype=float32, numpy=-0.3333333>"
            ]
          },
          "metadata": {
            "tags": []
          },
          "execution_count": 152
        }
      ]
    },
    {
      "metadata": {
        "id": "gB6yuFArMxaq",
        "colab_type": "text"
      },
      "cell_type": "markdown",
      "source": [
        "### 5.3)\n",
        "Now use an `SGD` optimizer instead of manually tweaking `x`."
      ]
    },
    {
      "metadata": {
        "id": "baK8LvBiMxaq",
        "colab_type": "code",
        "outputId": "265bb07f-16c5-4dfa-8bde-a68d9bb1afcb",
        "colab": {
          "base_uri": "https://localhost:8080/",
          "height": 33
        }
      },
      "cell_type": "code",
      "source": [
        "x = tf.Variable(0.0)\n",
        "optimizer = keras.optimizers.SGD(lr=0.1)\n",
        "\n",
        "for iteration in range(100):\n",
        "    with tf.GradientTape() as tape:\n",
        "        z = f(x)\n",
        "    dz_dx = tape.gradient(z, x)\n",
        "    optimizer.apply_gradients([(dz_dx, x)])\n",
        "x"
      ],
      "execution_count": 153,
      "outputs": [
        {
          "output_type": "execute_result",
          "data": {
            "text/plain": [
              "<tf.Variable 'Variable:0' shape=() dtype=float32, numpy=-0.3333333>"
            ]
          },
          "metadata": {
            "tags": []
          },
          "execution_count": 153
        }
      ]
    },
    {
      "metadata": {
        "id": "i_Sw_uNKMxar",
        "colab_type": "text"
      },
      "cell_type": "markdown",
      "source": [
        "### 5.4)\n",
        "Create a `Sequential` model for the California housing problem (no need to compile it), and train it using your own training loop, instead of using `fit()`. Evaluate your model on the validation set at the end of each epoch, and display the result."
      ]
    },
    {
      "metadata": {
        "id": "s86exCuGMxar",
        "colab_type": "code",
        "colab": {}
      },
      "cell_type": "code",
      "source": [
        "def random_batch(X, y, batch_size = 32):\n",
        "    idx = np.random.randint(0, len(X), size=batch_size)\n",
        "    return X[idx], y[idx]"
      ],
      "execution_count": 0,
      "outputs": []
    },
    {
      "metadata": {
        "id": "3K_TGa3_Mxar",
        "colab_type": "code",
        "outputId": "235d3016-c454-4981-e198-8ab42e509615",
        "colab": {
          "base_uri": "https://localhost:8080/",
          "height": 180
        }
      },
      "cell_type": "code",
      "source": [
        "epochs = 10\n",
        "batch_size = 32\n",
        "steps_per_epoch = len(X_train) // batch_size\n",
        "optimizer = keras.optimizers.SGD()\n",
        "loss_fn = keras.losses.mean_squared_error\n",
        "\n",
        "model = keras.models.Sequential([\n",
        "    keras.layers.Dense(30, activation=\"relu\", input_shape=X_train.shape[1:]),\n",
        "    keras.layers.Dense(1)\n",
        "])\n",
        "\n",
        "for epoch in range(epochs):\n",
        "    for step in range(steps_per_epoch):\n",
        "        X_batch, y_batch = random_batch(X_train_scaled, y_train, batch_size)\n",
        "        with tf.GradientTape() as tape:\n",
        "            y_pred = model(X_batch)\n",
        "            loss = tf.reduce_mean(loss_fn(y_batch, y_pred))\n",
        "        grads = tape.gradient(loss, model.variables)\n",
        "        grads_and_vars = zip(grads, model.variables)\n",
        "        optimizer.apply_gradients(grads_and_vars)\n",
        "    y_pred = model(X_valid_scaled)\n",
        "    valid_loss = tf.reduce_mean(loss_fn(y_valid, y_pred))\n",
        "    print(\"Epoch\", epoch, \"valid mse:\", valid_loss.numpy())"
      ],
      "execution_count": 155,
      "outputs": [
        {
          "output_type": "stream",
          "text": [
            "Epoch 0 valid mse: 30.471529\n",
            "Epoch 1 valid mse: 20.924212\n",
            "Epoch 2 valid mse: 0.63842565\n",
            "Epoch 3 valid mse: 0.56702113\n",
            "Epoch 4 valid mse: 0.5337755\n",
            "Epoch 5 valid mse: 0.5650766\n",
            "Epoch 6 valid mse: 0.481518\n",
            "Epoch 7 valid mse: 0.48423582\n",
            "Epoch 8 valid mse: 0.44841424\n",
            "Epoch 9 valid mse: 0.44813433\n"
          ],
          "name": "stdout"
        }
      ]
    },
    {
      "metadata": {
        "id": "5spNpZ6LMxas",
        "colab_type": "text"
      },
      "cell_type": "markdown",
      "source": [
        "### 5.5)\n",
        "Examine and run the following code examples, then update your training loop to display the training loss at each iteration."
      ]
    },
    {
      "metadata": {
        "id": "e6slWbi5Mxas",
        "colab_type": "code",
        "outputId": "11a51cfc-fa29-4e6a-a5e1-e589c68df936",
        "colab": {
          "base_uri": "https://localhost:8080/",
          "height": 33
        }
      },
      "cell_type": "code",
      "source": [
        "metric = keras.metrics.MeanSquaredError()\n",
        "metric([5.], [2.])  # error = (2 - 5)**2 = 9\n",
        "metric([0.], [1.])  # error = (1 - 0)**2 = 1\n",
        "metric.result()     # mean error = (9 + 1) / 2 = 5"
      ],
      "execution_count": 156,
      "outputs": [
        {
          "output_type": "execute_result",
          "data": {
            "text/plain": [
              "<tf.Tensor: id=542657, shape=(), dtype=float32, numpy=5.0>"
            ]
          },
          "metadata": {
            "tags": []
          },
          "execution_count": 156
        }
      ]
    },
    {
      "metadata": {
        "id": "HK8AwHXsMxat",
        "colab_type": "code",
        "outputId": "7d7951d6-e931-4c5e-f6bb-f142c70532d9",
        "colab": {
          "base_uri": "https://localhost:8080/",
          "height": 33
        }
      },
      "cell_type": "code",
      "source": [
        "metric.reset_states()\n",
        "metric.result()"
      ],
      "execution_count": 157,
      "outputs": [
        {
          "output_type": "execute_result",
          "data": {
            "text/plain": [
              "<tf.Tensor: id=542663, shape=(), dtype=float32, numpy=0.0>"
            ]
          },
          "metadata": {
            "tags": []
          },
          "execution_count": 157
        }
      ]
    },
    {
      "metadata": {
        "id": "39yxwPX2Mxat",
        "colab_type": "code",
        "outputId": "b6f72ba0-ed2a-4519-a18e-6d1bbd635595",
        "colab": {
          "base_uri": "https://localhost:8080/",
          "height": 33
        }
      },
      "cell_type": "code",
      "source": [
        "metric([1.], [3.])  # error = (3 - 1)**2 = 4\n",
        "metric.result()     # mean error = 4 / 1 = 4"
      ],
      "execution_count": 158,
      "outputs": [
        {
          "output_type": "execute_result",
          "data": {
            "text/plain": [
              "<tf.Tensor: id=542679, shape=(), dtype=float32, numpy=4.0>"
            ]
          },
          "metadata": {
            "tags": []
          },
          "execution_count": 158
        }
      ]
    },
    {
      "metadata": {
        "scrolled": true,
        "id": "NFkQgDevMxau",
        "colab_type": "code",
        "outputId": "1124b40e-4696-40e9-a99c-327f377ebf52",
        "colab": {
          "base_uri": "https://localhost:8080/",
          "height": 180
        }
      },
      "cell_type": "code",
      "source": [
        "epochs = 10\n",
        "batch_size = 32\n",
        "steps_per_epoch = len(X_train) // batch_size\n",
        "optimizer = keras.optimizers.SGD()\n",
        "loss_fn = keras.losses.mean_squared_error\n",
        "metric = keras.metrics.MeanSquaredError()  # ADDED\n",
        "\n",
        "model = keras.models.Sequential([\n",
        "    keras.layers.Dense(30, activation=\"relu\", input_shape=X_train.shape[1:]),\n",
        "    keras.layers.Dense(1)\n",
        "])\n",
        "\n",
        "for epoch in range(epochs):\n",
        "    metric.reset_states()  # ADDED\n",
        "    for step in range(steps_per_epoch):\n",
        "        X_batch, y_batch = random_batch(X_train_scaled, y_train, batch_size)\n",
        "        with tf.GradientTape() as tape:\n",
        "            y_pred = model(X_batch)\n",
        "            loss = tf.reduce_mean(loss_fn(y_batch, y_pred))\n",
        "            metric(y_batch, y_pred)  # ADDED\n",
        "        grads = tape.gradient(loss, model.trainable_variables)\n",
        "        grads_and_vars = zip(grads, model.trainable_variables)\n",
        "        optimizer.apply_gradients(grads_and_vars)\n",
        "        print(\"\\rEpoch\", epoch, \" train mse:\", metric.result().numpy(), end=\"\")  # ADDED\n",
        "    y_pred = model(X_valid_scaled)\n",
        "    valid_loss = tf.reduce_mean(loss_fn(y_valid, y_pred))\n",
        "    print(\"\\tvalid mse:\", valid_loss.numpy())"
      ],
      "execution_count": 159,
      "outputs": [
        {
          "output_type": "stream",
          "text": [
            "Epoch 0  train mse: 2.0958748\tvalid mse: 3.3555372\n",
            "Epoch 1  train mse: 0.7938086\tvalid mse: 0.7449163\n",
            "Epoch 2  train mse: 0.6757279\tvalid mse: 0.6176483\n",
            "Epoch 3  train mse: 0.6242042\tvalid mse: 0.63415337\n",
            "Epoch 4  train mse: 0.5926178\tvalid mse: 0.54852915\n",
            "Epoch 5  train mse: 0.5650415\tvalid mse: 0.51948327\n",
            "Epoch 6  train mse: 0.53548235\tvalid mse: 0.5196277\n",
            "Epoch 7  train mse: 0.5157734\tvalid mse: 0.57819164\n",
            "Epoch 8  train mse: 0.49284768\tvalid mse: 0.5852734\n",
            "Epoch 9  train mse: 0.482289\tvalid mse: 0.452873\n"
          ],
          "name": "stdout"
        }
      ]
    },
    {
      "metadata": {
        "id": "TuQYUDwcMxav",
        "colab_type": "text"
      },
      "cell_type": "markdown",
      "source": [
        "## Conclusion"
      ]
    },
    {
      "metadata": {
        "id": "w-ybeWMbMxav",
        "colab_type": "text"
      },
      "cell_type": "markdown",
      "source": [
        "Great! You now know how to use TensorFlow's low-level API to write custom loss functions, layers, and models. You also learned how to optimize your functions by converting them to graphs: this allows TensorFlow to run operations in parallel and to perform various optimizations. Next, you learned how TensorFlow Functions and graphs are structured, and how to navigate through them. Finally, you learned how to use autodiff and write your own custom training loops."
      ]
    },
    {
      "metadata": {
        "id": "WDxSQ_9DUh_-",
        "colab_type": "text"
      },
      "cell_type": "markdown",
      "source": [
        "すばらしいです！ これで、TensorFlowの低レベルAPIを使用してカスタム損失関数、レイヤ、およびモデルを作成する方法がわかりました。 関数をグラフに変換することによって関数を最適化する方法も学びました。これによりTensorFlowはオペレーションを並列に実行し、さまざまな最適化を実行することができます。 次に、TensorFlowの関数とグラフがどのように構成されているか、そしてそれらをナビゲートする方法を学びました。 最後に、autodiffの使い方と独自のカスタムトレーニングループの書き方を学びました。"
      ]
    }
  ]
}