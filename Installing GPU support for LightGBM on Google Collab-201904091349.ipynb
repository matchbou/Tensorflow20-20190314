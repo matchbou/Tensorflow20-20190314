{
  "nbformat": 4,
  "nbformat_minor": 0,
  "metadata": {
    "colab": {
      "name": "Colaboratory へようこそ",
      "version": "0.3.2",
      "provenance": [],
      "collapsed_sections": [],
      "toc_visible": true,
      "include_colab_link": true
    },
    "kernelspec": {
      "name": "python3",
      "display_name": "Python 3"
    },
    "accelerator": "GPU"
  },
  "cells": [
    {
      "cell_type": "markdown",
      "metadata": {
        "id": "view-in-github",
        "colab_type": "text"
      },
      "source": [
        "<a href=\"https://colab.research.google.com/github/matchbou/Tensorflow20-20190314/blob/master/Installing%20GPU%20support%20for%20LightGBM%20on%20Google%20Collab-201904091349.ipynb\" target=\"_parent\"><img src=\"https://colab.research.google.com/assets/colab-badge.svg\" alt=\"Open In Colab\"/></a>"
      ]
    },
    {
      "metadata": {
        "colab_type": "text",
        "id": "-Rh3-Vt9Nev9"
      },
      "cell_type": "markdown",
      "source": [
        "## その他のリソース\n",
        "\n",
        "Python、Jupyter、Colaboratory、関連するツールを最大限に活用する方法については、以下のリソースをご覧ください。\n",
        "\n",
        "### 機械学習集中講座\n",
        "Google の機械学習に関するオンライン コースからいくつかのノートブックをご紹介します。詳しくは、[全コースのウェブサイト](https://developers.google.com/machine-learning/crash-course/)をご覧ください。\n",
        "- [Intro to Pandas](/notebooks/mlcc/intro_to_pandas.ipynb)\n",
        "- [Tensorflow concepts](/notebooks/mlcc/tensorflow_programming_concepts.ipynb)\n",
        "- [First steps with TensorFlow](/notebooks/mlcc/first_steps_with_tensor_flow.ipynb)\n",
        "- [Intro to neural nets](/notebooks/mlcc/intro_to_neural_nets.ipynb)\n",
        "- [Intro to sparse data and embeddings](/notebooks/mlcc/intro_to_sparse_data_and_embeddings.ipynb)\n",
        "\n",
        "### 機械学習の例: Seedbank\n",
        "\n",
        "Colaboratory で実現したインタラクティブな機械学習解析のさまざまな例を確認するには、[Seedbank](https://research.google.com/seedbank/)プロジェクトをご覧ください。\n",
        "\n",
        "おすすめの例をご紹介します。\n",
        "\n",
        "- [Neural Style Transfer](https://research.google.com/seedbank/seed/neural_style_transfer_with_tfkeras): ディープ ラーニングを使用して画像間でスタイルを転送します。\n",
        "- [EZ NSynth](https://research.google.com/seedbank/seed/ez_nsynth): 音声と WaveNet オート エンコーダを合成します。\n",
        "- [Fashion MNIST with Keras and TPUs](https://research.google.com/seedbank/seed/fashion_mnist_with_keras_and_tpus): ファッション関連の画像をディープ ラーニングで分類します。\n",
        "- [DeepDream](https://research.google.com/seedbank/seed/deepdream): 独自の写真から DeepDream 画像を生成します。\n",
        "- [Convolutional VAE](https://research.google.com/seedbank/seed/convolutional_vae): 手書きの数字の生成モデルを作成します。"
      ]
    },
    {
      "metadata": {
        "id": "AnNSSLfMZuNL",
        "colab_type": "code",
        "colab": {}
      },
      "cell_type": "code",
      "source": [
        "#Installing GPU support for LightGBM on Google Collab\n",
        "#https://stackoverflow.com/questions/49606886/installing-gpu-support-for-lightgbm-on-google-collab"
      ],
      "execution_count": 0,
      "outputs": []
    },
    {
      "metadata": {
        "id": "RCZCw5UmZu7L",
        "colab_type": "code",
        "outputId": "acf1dd36-8784-4f78-813a-f5ce79ff62e4",
        "colab": {
          "base_uri": "https://localhost:8080/",
          "height": 622
        }
      },
      "cell_type": "code",
      "source": [
        "!apt-get -qq install --no-install-recommends nvidia-375\n",
        "  \n",
        "!apt-get -qq install --no-install-recommends nvidia-opencl-icd-375 nvidia-opencl-dev opencl-headers\n",
        "\n",
        "!apt-get -qq install --no-install-recommends git cmake build-essential libboost-dev libboost-system-dev libboost-filesystem-dev\n",
        "  \n",
        "!pip3 install -qq lightgbm --install-option=--gpu"
      ],
      "execution_count": 0,
      "outputs": [
        {
          "output_type": "stream",
          "text": [
            "Selecting previously unselected package nvidia-384.\n",
            "(Reading database ... 131304 files and directories currently installed.)\n",
            "Preparing to unpack .../nvidia-384_418.40.04-0ubuntu1_amd64.deb ...\n",
            "Unpacking nvidia-384 (418.40.04-0ubuntu1) ...\n",
            "Selecting previously unselected package nvidia-375.\n",
            "Preparing to unpack .../nvidia-375_384.111-0ubuntu1_amd64.deb ...\n",
            "Unpacking nvidia-375 (384.111-0ubuntu1) ...\n",
            "Setting up nvidia-384 (418.40.04-0ubuntu1) ...\n",
            "Setting up nvidia-375 (384.111-0ubuntu1) ...\n",
            "Selecting previously unselected package nvidia-headless-no-dkms-418.\n",
            "(Reading database ... 131310 files and directories currently installed.)\n",
            "Preparing to unpack .../0-nvidia-headless-no-dkms-418_418.56-0ubuntu0~gpu18.04.1_amd64.deb ...\n",
            "Unpacking nvidia-headless-no-dkms-418 (418.56-0ubuntu0~gpu18.04.1) ...\n",
            "Selecting previously unselected package nvidia-headless-418.\n",
            "Preparing to unpack .../1-nvidia-headless-418_418.56-0ubuntu0~gpu18.04.1_amd64.deb ...\n",
            "Unpacking nvidia-headless-418 (418.56-0ubuntu0~gpu18.04.1) ...\n",
            "Selecting previously unselected package nvidia-opencl-icd-384.\n",
            "Preparing to unpack .../2-nvidia-opencl-icd-384_418.40.04-0ubuntu1_amd64.deb ...\n",
            "Unpacking nvidia-opencl-icd-384 (418.40.04-0ubuntu1) ...\n",
            "Selecting previously unselected package nvidia-opencl-icd-375.\n",
            "Preparing to unpack .../3-nvidia-opencl-icd-375_384.111-0ubuntu1_amd64.deb ...\n",
            "Unpacking nvidia-opencl-icd-375 (384.111-0ubuntu1) ...\n",
            "Selecting previously unselected package opencl-clhpp-headers.\n",
            "Preparing to unpack .../4-opencl-clhpp-headers_2.0.10+git12-g5dd8bb9-1_all.deb ...\n",
            "Unpacking opencl-clhpp-headers (2.0.10+git12-g5dd8bb9-1) ...\n",
            "Selecting previously unselected package opencl-headers.\n",
            "Preparing to unpack .../5-opencl-headers_2.2~2018.02.21-gb5c3680-1_all.deb ...\n",
            "Unpacking opencl-headers (2.2~2018.02.21-gb5c3680-1) ...\n",
            "Setting up opencl-clhpp-headers (2.0.10+git12-g5dd8bb9-1) ...\n",
            "Setting up nvidia-headless-no-dkms-418 (418.56-0ubuntu0~gpu18.04.1) ...\n",
            "Setting up nvidia-headless-418 (418.56-0ubuntu0~gpu18.04.1) ...\n",
            "Setting up nvidia-opencl-icd-384 (418.40.04-0ubuntu1) ...\n",
            "Setting up opencl-headers (2.2~2018.02.21-gb5c3680-1) ...\n",
            "Setting up nvidia-opencl-icd-375 (384.111-0ubuntu1) ...\n",
            "/usr/local/lib/python3.6/dist-packages/pip/_internal/commands/install.py:207: UserWarning: Disabling all use of wheels due to the use of --build-options / --global-options / --install-options.\n",
            "  cmdoptions.check_install_build_global(options)\n"
          ],
          "name": "stdout"
        }
      ]
    },
    {
      "metadata": {
        "id": "Irdy8BIoZu97",
        "colab_type": "code",
        "outputId": "5ac86e89-a802-4d73-83df-670bcc8299e5",
        "colab": {
          "base_uri": "https://localhost:8080/",
          "height": 346
        }
      },
      "cell_type": "code",
      "source": [
        "!git clone --recursive https://github.com/Microsoft/LightGBM\n",
        "%cd LightGBM\n",
        "!mkdir build\n",
        "!cd build\n",
        "!cmake ./LightGBM\n",
        "!make -j4"
      ],
      "execution_count": 0,
      "outputs": [
        {
          "output_type": "stream",
          "text": [
            "Cloning into 'LightGBM'...\n",
            "remote: Enumerating objects: 1, done.\u001b[K\n",
            "remote: Counting objects: 100% (1/1), done.\u001b[K\n",
            "remote: Total 13225 (delta 0), reused 0 (delta 0), pack-reused 13224\u001b[K\n",
            "Receiving objects: 100% (13225/13225), 9.42 MiB | 23.89 MiB/s, done.\n",
            "Resolving deltas: 100% (9415/9415), done.\n",
            "Submodule 'include/boost/compute' (https://github.com/boostorg/compute) registered for path 'compute'\n",
            "Cloning into '/content/LightGBM/compute'...\n",
            "remote: Enumerating objects: 33, done.        \n",
            "remote: Counting objects: 100% (33/33), done.        \n",
            "remote: Compressing objects: 100% (21/21), done.        \n",
            "remote: Total 21689 (delta 12), reused 23 (delta 9), pack-reused 21656        \n",
            "Receiving objects: 100% (21689/21689), 8.51 MiB | 27.16 MiB/s, done.\n",
            "Resolving deltas: 100% (17532/17532), done.\n",
            "Submodule path 'compute': checked out '36c89134d4013b2e5e45bc55656a18bd6141995a'\n",
            "/content/LightGBM\n",
            "CMake Error: The source directory \"/content/LightGBM/LightGBM\" does not exist.\n",
            "Specify --help for usage, or press the help button on the CMake GUI.\n",
            "make: *** No targets specified and no makefile found.  Stop.\n"
          ],
          "name": "stdout"
        }
      ]
    },
    {
      "metadata": {
        "id": "y3VEh6xma7kp",
        "colab_type": "code",
        "outputId": "063203b9-6526-453a-a500-85faa34305d3",
        "colab": {
          "base_uri": "https://localhost:8080/",
          "height": 372
        }
      },
      "cell_type": "code",
      "source": [
        "!git clone --recursive https://github.com/Microsoft/LightGBM.git\n",
        "%cd LightGBM/python-package\n",
        "!python3 setup.py install --gpu"
      ],
      "execution_count": 0,
      "outputs": [
        {
          "output_type": "stream",
          "text": [
            "Cloning into 'LightGBM'...\n",
            "remote: Enumerating objects: 1, done.\u001b[K\n",
            "remote: Counting objects: 100% (1/1), done.\u001b[K\n",
            "remote: Total 13225 (delta 0), reused 0 (delta 0), pack-reused 13224\u001b[K\n",
            "Receiving objects: 100% (13225/13225), 9.42 MiB | 25.73 MiB/s, done.\n",
            "Resolving deltas: 100% (9415/9415), done.\n",
            "Submodule 'include/boost/compute' (https://github.com/boostorg/compute) registered for path 'compute'\n",
            "Cloning into '/content/LightGBM/LightGBM/compute'...\n",
            "remote: Enumerating objects: 33, done.        \n",
            "remote: Counting objects: 100% (33/33), done.        \n",
            "remote: Compressing objects: 100% (21/21), done.        \n",
            "remote: Total 21689 (delta 12), reused 23 (delta 9), pack-reused 21656        \n",
            "Receiving objects: 100% (21689/21689), 8.51 MiB | 28.04 MiB/s, done.\n",
            "Resolving deltas: 100% (17532/17532), done.\n",
            "Submodule path 'compute': checked out '36c89134d4013b2e5e45bc55656a18bd6141995a'\n",
            "/content/LightGBM/LightGBM/python-package\n",
            "running install\n",
            "INFO:LightGBM:Starting to compile the library.\n",
            "INFO:LightGBM:Starting to compile with CMake.\n"
          ],
          "name": "stdout"
        }
      ]
    },
    {
      "metadata": {
        "id": "WhO-quIGbC2i",
        "colab_type": "code",
        "colab": {}
      },
      "cell_type": "code",
      "source": [
        "!pip install cmake"
      ],
      "execution_count": 0,
      "outputs": []
    },
    {
      "metadata": {
        "id": "ljVgxMKabHcZ",
        "colab_type": "code",
        "colab": {}
      },
      "cell_type": "code",
      "source": [
        "!pip install lightgbm --install-option=--gpu"
      ],
      "execution_count": 0,
      "outputs": []
    },
    {
      "metadata": {
        "id": "wmd2bG2TbIzx",
        "colab_type": "code",
        "colab": {}
      },
      "cell_type": "code",
      "source": [
        "!pip install lightgbm --install-option=--gpu --install-option=\"--opencl-include-dir=/usr/local/cuda/include/\" --install-option=\"--opencl-library=/usr/local/cuda/lib64/libOpenCL.so\""
      ],
      "execution_count": 0,
      "outputs": []
    }
  ]
}