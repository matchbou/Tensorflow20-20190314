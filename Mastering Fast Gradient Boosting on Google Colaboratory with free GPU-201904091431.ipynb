{
  "nbformat": 4,
  "nbformat_minor": 0,
  "metadata": {
    "colab": {
      "name": "Colaboratory へようこそ",
      "version": "0.3.2",
      "provenance": [],
      "collapsed_sections": [],
      "toc_visible": true,
      "include_colab_link": true
    },
    "kernelspec": {
      "name": "python3",
      "display_name": "Python 3"
    },
    "accelerator": "GPU"
  },
  "cells": [
    {
      "cell_type": "markdown",
      "metadata": {
        "id": "view-in-github",
        "colab_type": "text"
      },
      "source": [
        "<a href=\"https://colab.research.google.com/github/matchbou/Tensorflow20-20190314/blob/master/Mastering%20Fast%20Gradient%20Boosting%20on%20Google%20Colaboratory%20with%20free%20GPU-201904091431.ipynb\" target=\"_parent\"><img src=\"https://colab.research.google.com/assets/colab-badge.svg\" alt=\"Open In Colab\"/></a>"
      ]
    },
    {
      "metadata": {
        "colab_type": "text",
        "id": "-Rh3-Vt9Nev9"
      },
      "cell_type": "markdown",
      "source": [
        "## その他のリソース\n",
        "\n",
        "Python、Jupyter、Colaboratory、関連するツールを最大限に活用する方法については、以下のリソースをご覧ください。\n",
        "\n",
        "### 機械学習集中講座\n",
        "Google の機械学習に関するオンライン コースからいくつかのノートブックをご紹介します。詳しくは、[全コースのウェブサイト](https://developers.google.com/machine-learning/crash-course/)をご覧ください。\n",
        "- [Intro to Pandas](/notebooks/mlcc/intro_to_pandas.ipynb)\n",
        "- [Tensorflow concepts](/notebooks/mlcc/tensorflow_programming_concepts.ipynb)\n",
        "- [First steps with TensorFlow](/notebooks/mlcc/first_steps_with_tensor_flow.ipynb)\n",
        "- [Intro to neural nets](/notebooks/mlcc/intro_to_neural_nets.ipynb)\n",
        "- [Intro to sparse data and embeddings](/notebooks/mlcc/intro_to_sparse_data_and_embeddings.ipynb)\n",
        "\n",
        "### 機械学習の例: Seedbank\n",
        "\n",
        "Colaboratory で実現したインタラクティブな機械学習解析のさまざまな例を確認するには、[Seedbank](https://research.google.com/seedbank/)プロジェクトをご覧ください。\n",
        "\n",
        "おすすめの例をご紹介します。\n",
        "\n",
        "- [Neural Style Transfer](https://research.google.com/seedbank/seed/neural_style_transfer_with_tfkeras): ディープ ラーニングを使用して画像間でスタイルを転送します。\n",
        "- [EZ NSynth](https://research.google.com/seedbank/seed/ez_nsynth): 音声と WaveNet オート エンコーダを合成します。\n",
        "- [Fashion MNIST with Keras and TPUs](https://research.google.com/seedbank/seed/fashion_mnist_with_keras_and_tpus): ファッション関連の画像をディープ ラーニングで分類します。\n",
        "- [DeepDream](https://research.google.com/seedbank/seed/deepdream): 独自の写真から DeepDream 画像を生成します。\n",
        "- [Convolutional VAE](https://research.google.com/seedbank/seed/convolutional_vae): 手書きの数字の生成モデルを作成します。"
      ]
    },
    {
      "metadata": {
        "id": "AnNSSLfMZuNL",
        "colab_type": "code",
        "colab": {}
      },
      "cell_type": "code",
      "source": [
        "#Mastering Fast Gradient Boosting on Google Colaboratory with free GPU\n",
        "\n",
        "\n",
        "#https://medium.com/mlreview/mastering-fast-gradient-boosting-on-google-colaboratory-with-free-gpu-51abbbf4b860\n",
        "\n",
        "\n"
      ],
      "execution_count": 0,
      "outputs": []
    },
    {
      "metadata": {
        "id": "d54w-TtYcMh4",
        "colab_type": "code",
        "colab": {}
      },
      "cell_type": "code",
      "source": [
        ""
      ],
      "execution_count": 0,
      "outputs": []
    },
    {
      "metadata": {
        "id": "RCZCw5UmZu7L",
        "colab_type": "code",
        "colab": {
          "base_uri": "https://localhost:8080/",
          "height": 622
        },
        "outputId": "acf1dd36-8784-4f78-813a-f5ce79ff62e4"
      },
      "cell_type": "code",
      "source": [
        "!apt-get -qq install --no-install-recommends nvidia-375\n",
        "  \n",
        "!apt-get -qq install --no-install-recommends nvidia-opencl-icd-375 nvidia-opencl-dev opencl-headers\n",
        "\n",
        "!apt-get -qq install --no-install-recommends git cmake build-essential libboost-dev libboost-system-dev libboost-filesystem-dev\n",
        "  \n",
        "!pip3 install -qq lightgbm --install-option=--gpu"
      ],
      "execution_count": 5,
      "outputs": [
        {
          "output_type": "stream",
          "text": [
            "Selecting previously unselected package nvidia-384.\n",
            "(Reading database ... 131304 files and directories currently installed.)\n",
            "Preparing to unpack .../nvidia-384_418.40.04-0ubuntu1_amd64.deb ...\n",
            "Unpacking nvidia-384 (418.40.04-0ubuntu1) ...\n",
            "Selecting previously unselected package nvidia-375.\n",
            "Preparing to unpack .../nvidia-375_384.111-0ubuntu1_amd64.deb ...\n",
            "Unpacking nvidia-375 (384.111-0ubuntu1) ...\n",
            "Setting up nvidia-384 (418.40.04-0ubuntu1) ...\n",
            "Setting up nvidia-375 (384.111-0ubuntu1) ...\n",
            "Selecting previously unselected package nvidia-headless-no-dkms-418.\n",
            "(Reading database ... 131310 files and directories currently installed.)\n",
            "Preparing to unpack .../0-nvidia-headless-no-dkms-418_418.56-0ubuntu0~gpu18.04.1_amd64.deb ...\n",
            "Unpacking nvidia-headless-no-dkms-418 (418.56-0ubuntu0~gpu18.04.1) ...\n",
            "Selecting previously unselected package nvidia-headless-418.\n",
            "Preparing to unpack .../1-nvidia-headless-418_418.56-0ubuntu0~gpu18.04.1_amd64.deb ...\n",
            "Unpacking nvidia-headless-418 (418.56-0ubuntu0~gpu18.04.1) ...\n",
            "Selecting previously unselected package nvidia-opencl-icd-384.\n",
            "Preparing to unpack .../2-nvidia-opencl-icd-384_418.40.04-0ubuntu1_amd64.deb ...\n",
            "Unpacking nvidia-opencl-icd-384 (418.40.04-0ubuntu1) ...\n",
            "Selecting previously unselected package nvidia-opencl-icd-375.\n",
            "Preparing to unpack .../3-nvidia-opencl-icd-375_384.111-0ubuntu1_amd64.deb ...\n",
            "Unpacking nvidia-opencl-icd-375 (384.111-0ubuntu1) ...\n",
            "Selecting previously unselected package opencl-clhpp-headers.\n",
            "Preparing to unpack .../4-opencl-clhpp-headers_2.0.10+git12-g5dd8bb9-1_all.deb ...\n",
            "Unpacking opencl-clhpp-headers (2.0.10+git12-g5dd8bb9-1) ...\n",
            "Selecting previously unselected package opencl-headers.\n",
            "Preparing to unpack .../5-opencl-headers_2.2~2018.02.21-gb5c3680-1_all.deb ...\n",
            "Unpacking opencl-headers (2.2~2018.02.21-gb5c3680-1) ...\n",
            "Setting up opencl-clhpp-headers (2.0.10+git12-g5dd8bb9-1) ...\n",
            "Setting up nvidia-headless-no-dkms-418 (418.56-0ubuntu0~gpu18.04.1) ...\n",
            "Setting up nvidia-headless-418 (418.56-0ubuntu0~gpu18.04.1) ...\n",
            "Setting up nvidia-opencl-icd-384 (418.40.04-0ubuntu1) ...\n",
            "Setting up opencl-headers (2.2~2018.02.21-gb5c3680-1) ...\n",
            "Setting up nvidia-opencl-icd-375 (384.111-0ubuntu1) ...\n",
            "/usr/local/lib/python3.6/dist-packages/pip/_internal/commands/install.py:207: UserWarning: Disabling all use of wheels due to the use of --build-options / --global-options / --install-options.\n",
            "  cmdoptions.check_install_build_global(options)\n"
          ],
          "name": "stdout"
        }
      ]
    },
    {
      "metadata": {
        "id": "Irdy8BIoZu97",
        "colab_type": "code",
        "colab": {
          "base_uri": "https://localhost:8080/",
          "height": 346
        },
        "outputId": "5ac86e89-a802-4d73-83df-670bcc8299e5"
      },
      "cell_type": "code",
      "source": [
        "!git clone --recursive https://github.com/Microsoft/LightGBM\n",
        "%cd LightGBM\n",
        "!mkdir build\n",
        "!cd build\n",
        "!cmake ./LightGBM\n",
        "!make -j4"
      ],
      "execution_count": 6,
      "outputs": [
        {
          "output_type": "stream",
          "text": [
            "Cloning into 'LightGBM'...\n",
            "remote: Enumerating objects: 1, done.\u001b[K\n",
            "remote: Counting objects: 100% (1/1), done.\u001b[K\n",
            "remote: Total 13225 (delta 0), reused 0 (delta 0), pack-reused 13224\u001b[K\n",
            "Receiving objects: 100% (13225/13225), 9.42 MiB | 23.89 MiB/s, done.\n",
            "Resolving deltas: 100% (9415/9415), done.\n",
            "Submodule 'include/boost/compute' (https://github.com/boostorg/compute) registered for path 'compute'\n",
            "Cloning into '/content/LightGBM/compute'...\n",
            "remote: Enumerating objects: 33, done.        \n",
            "remote: Counting objects: 100% (33/33), done.        \n",
            "remote: Compressing objects: 100% (21/21), done.        \n",
            "remote: Total 21689 (delta 12), reused 23 (delta 9), pack-reused 21656        \n",
            "Receiving objects: 100% (21689/21689), 8.51 MiB | 27.16 MiB/s, done.\n",
            "Resolving deltas: 100% (17532/17532), done.\n",
            "Submodule path 'compute': checked out '36c89134d4013b2e5e45bc55656a18bd6141995a'\n",
            "/content/LightGBM\n",
            "CMake Error: The source directory \"/content/LightGBM/LightGBM\" does not exist.\n",
            "Specify --help for usage, or press the help button on the CMake GUI.\n",
            "make: *** No targets specified and no makefile found.  Stop.\n"
          ],
          "name": "stdout"
        }
      ]
    },
    {
      "metadata": {
        "id": "y3VEh6xma7kp",
        "colab_type": "code",
        "colab": {
          "base_uri": "https://localhost:8080/",
          "height": 1223
        },
        "outputId": "063203b9-6526-453a-a500-85faa34305d3"
      },
      "cell_type": "code",
      "source": [
        "!git clone --recursive https://github.com/Microsoft/LightGBM.git\n",
        "%cd LightGBM/python-package\n",
        "!python3 setup.py install --gpu"
      ],
      "execution_count": 7,
      "outputs": [
        {
          "output_type": "stream",
          "text": [
            "Cloning into 'LightGBM'...\n",
            "remote: Enumerating objects: 1, done.\u001b[K\n",
            "remote: Counting objects: 100% (1/1), done.\u001b[K\n",
            "remote: Total 13225 (delta 0), reused 0 (delta 0), pack-reused 13224\u001b[K\n",
            "Receiving objects: 100% (13225/13225), 9.42 MiB | 25.73 MiB/s, done.\n",
            "Resolving deltas: 100% (9415/9415), done.\n",
            "Submodule 'include/boost/compute' (https://github.com/boostorg/compute) registered for path 'compute'\n",
            "Cloning into '/content/LightGBM/LightGBM/compute'...\n",
            "remote: Enumerating objects: 33, done.        \n",
            "remote: Counting objects: 100% (33/33), done.        \n",
            "remote: Compressing objects: 100% (21/21), done.        \n",
            "remote: Total 21689 (delta 12), reused 23 (delta 9), pack-reused 21656        \n",
            "Receiving objects: 100% (21689/21689), 8.51 MiB | 28.04 MiB/s, done.\n",
            "Resolving deltas: 100% (17532/17532), done.\n",
            "Submodule path 'compute': checked out '36c89134d4013b2e5e45bc55656a18bd6141995a'\n",
            "/content/LightGBM/LightGBM/python-package\n",
            "running install\n",
            "INFO:LightGBM:Starting to compile the library.\n",
            "INFO:LightGBM:Starting to compile with CMake.\n",
            "running build\n",
            "running build_py\n",
            "INFO:root:Generating grammar tables from /usr/lib/python3.6/lib2to3/Grammar.txt\n",
            "INFO:root:Generating grammar tables from /usr/lib/python3.6/lib2to3/PatternGrammar.txt\n",
            "creating build\n",
            "creating build/lib\n",
            "creating build/lib/lightgbm\n",
            "copying lightgbm/compat.py -> build/lib/lightgbm\n",
            "copying lightgbm/libpath.py -> build/lib/lightgbm\n",
            "copying lightgbm/basic.py -> build/lib/lightgbm\n",
            "copying lightgbm/callback.py -> build/lib/lightgbm\n",
            "copying lightgbm/sklearn.py -> build/lib/lightgbm\n",
            "copying lightgbm/plotting.py -> build/lib/lightgbm\n",
            "copying lightgbm/__init__.py -> build/lib/lightgbm\n",
            "copying lightgbm/engine.py -> build/lib/lightgbm\n",
            "running egg_info\n",
            "creating lightgbm.egg-info\n",
            "writing lightgbm.egg-info/PKG-INFO\n",
            "writing dependency_links to lightgbm.egg-info/dependency_links.txt\n",
            "writing requirements to lightgbm.egg-info/requires.txt\n",
            "writing top-level names to lightgbm.egg-info/top_level.txt\n",
            "writing manifest file 'lightgbm.egg-info/SOURCES.txt'\n",
            "reading manifest template 'MANIFEST.in'\n",
            "no previously-included directories found matching 'build'\n",
            "warning: no files found matching '*.txt'\n",
            "warning: no files found matching '*.so' under directory 'lightgbm'\n",
            "warning: no files found matching '*.dll' under directory 'compile/Release'\n",
            "warning: no files found matching '*.dll' under directory 'compile/windows/x64/DLL'\n",
            "warning: no previously-included files matching '*.py[co]' found anywhere in distribution\n",
            "writing manifest file 'lightgbm.egg-info/SOURCES.txt'\n",
            "copying lightgbm/VERSION.txt -> build/lib/lightgbm\n",
            "running install_lib\n",
            "copying build/lib/lightgbm/compat.py -> /usr/local/lib/python3.6/dist-packages/lightgbm\n",
            "copying build/lib/lightgbm/libpath.py -> /usr/local/lib/python3.6/dist-packages/lightgbm\n",
            "copying build/lib/lightgbm/basic.py -> /usr/local/lib/python3.6/dist-packages/lightgbm\n",
            "copying build/lib/lightgbm/callback.py -> /usr/local/lib/python3.6/dist-packages/lightgbm\n",
            "copying build/lib/lightgbm/VERSION.txt -> /usr/local/lib/python3.6/dist-packages/lightgbm\n",
            "copying build/lib/lightgbm/sklearn.py -> /usr/local/lib/python3.6/dist-packages/lightgbm\n",
            "copying build/lib/lightgbm/plotting.py -> /usr/local/lib/python3.6/dist-packages/lightgbm\n",
            "copying build/lib/lightgbm/__init__.py -> /usr/local/lib/python3.6/dist-packages/lightgbm\n",
            "copying build/lib/lightgbm/engine.py -> /usr/local/lib/python3.6/dist-packages/lightgbm\n",
            "INFO:LightGBM:Installing lib_lightgbm from: ['compile/lib_lightgbm.so']\n",
            "copying compile/lib_lightgbm.so -> /usr/local/lib/python3.6/dist-packages/lightgbm\n",
            "byte-compiling /usr/local/lib/python3.6/dist-packages/lightgbm/compat.py to compat.cpython-36.pyc\n",
            "byte-compiling /usr/local/lib/python3.6/dist-packages/lightgbm/libpath.py to libpath.cpython-36.pyc\n",
            "byte-compiling /usr/local/lib/python3.6/dist-packages/lightgbm/basic.py to basic.cpython-36.pyc\n",
            "byte-compiling /usr/local/lib/python3.6/dist-packages/lightgbm/callback.py to callback.cpython-36.pyc\n",
            "byte-compiling /usr/local/lib/python3.6/dist-packages/lightgbm/sklearn.py to sklearn.cpython-36.pyc\n",
            "byte-compiling /usr/local/lib/python3.6/dist-packages/lightgbm/plotting.py to plotting.cpython-36.pyc\n",
            "byte-compiling /usr/local/lib/python3.6/dist-packages/lightgbm/__init__.py to __init__.cpython-36.pyc\n",
            "byte-compiling /usr/local/lib/python3.6/dist-packages/lightgbm/engine.py to engine.cpython-36.pyc\n",
            "running install_egg_info\n",
            "Copying lightgbm.egg-info to /usr/local/lib/python3.6/dist-packages/lightgbm-2.2.4-py3.6.egg-info\n",
            "running install_scripts\n"
          ],
          "name": "stdout"
        }
      ]
    },
    {
      "metadata": {
        "id": "WhO-quIGbC2i",
        "colab_type": "code",
        "colab": {
          "base_uri": "https://localhost:8080/",
          "height": 33
        },
        "outputId": "f2a5c0b7-f438-40f0-c160-8272fc01595e"
      },
      "cell_type": "code",
      "source": [
        "!pip install cmake"
      ],
      "execution_count": 8,
      "outputs": [
        {
          "output_type": "stream",
          "text": [
            "Requirement already satisfied: cmake in /usr/local/lib/python3.6/dist-packages (3.12.0)\n"
          ],
          "name": "stdout"
        }
      ]
    },
    {
      "metadata": {
        "id": "ljVgxMKabHcZ",
        "colab_type": "code",
        "colab": {
          "base_uri": "https://localhost:8080/",
          "height": 135
        },
        "outputId": "c550244b-82ef-43cf-e21c-54659a59567d"
      },
      "cell_type": "code",
      "source": [
        "!pip install lightgbm --install-option=--gpu"
      ],
      "execution_count": 9,
      "outputs": [
        {
          "output_type": "stream",
          "text": [
            "/usr/local/lib/python3.6/dist-packages/pip/_internal/commands/install.py:207: UserWarning: Disabling all use of wheels due to the use of --build-options / --global-options / --install-options.\n",
            "  cmdoptions.check_install_build_global(options)\n",
            "Requirement already satisfied: lightgbm in /usr/local/lib/python3.6/dist-packages (2.2.4)\n",
            "Requirement already satisfied: numpy in /usr/local/lib/python3.6/dist-packages (from lightgbm) (1.14.6)\n",
            "Requirement already satisfied: scipy in /usr/local/lib/python3.6/dist-packages (from lightgbm) (1.1.0)\n",
            "Requirement already satisfied: scikit-learn in /usr/local/lib/python3.6/dist-packages (from lightgbm) (0.20.3)\n"
          ],
          "name": "stdout"
        }
      ]
    },
    {
      "metadata": {
        "id": "wmd2bG2TbIzx",
        "colab_type": "code",
        "colab": {
          "base_uri": "https://localhost:8080/",
          "height": 135
        },
        "outputId": "bdf85829-3a73-4c34-9afe-a67ef1b71061"
      },
      "cell_type": "code",
      "source": [
        "!pip install lightgbm --install-option=--gpu --install-option=\"--opencl-include-dir=/usr/local/cuda/include/\" --install-option=\"--opencl-library=/usr/local/cuda/lib64/libOpenCL.so\""
      ],
      "execution_count": 10,
      "outputs": [
        {
          "output_type": "stream",
          "text": [
            "/usr/local/lib/python3.6/dist-packages/pip/_internal/commands/install.py:207: UserWarning: Disabling all use of wheels due to the use of --build-options / --global-options / --install-options.\n",
            "  cmdoptions.check_install_build_global(options)\n",
            "Requirement already satisfied: lightgbm in /usr/local/lib/python3.6/dist-packages (2.2.4)\n",
            "Requirement already satisfied: numpy in /usr/local/lib/python3.6/dist-packages (from lightgbm) (1.14.6)\n",
            "Requirement already satisfied: scipy in /usr/local/lib/python3.6/dist-packages (from lightgbm) (1.1.0)\n",
            "Requirement already satisfied: scikit-learn in /usr/local/lib/python3.6/dist-packages (from lightgbm) (0.20.3)\n"
          ],
          "name": "stdout"
        }
      ]
    },
    {
      "metadata": {
        "id": "SufvfaXSb703",
        "colab_type": "code",
        "colab": {
          "base_uri": "https://localhost:8080/",
          "height": 216
        },
        "outputId": "b4fed370-05fc-4f8e-fc6a-a9bfa60ef96e"
      },
      "cell_type": "code",
      "source": [
        "#Importing CatBoost\n",
        "!pip install catboost"
      ],
      "execution_count": 11,
      "outputs": [
        {
          "output_type": "stream",
          "text": [
            "Collecting catboost\n",
            "\u001b[?25l  Downloading https://files.pythonhosted.org/packages/dc/52/0c1effc03f55058ef9b530b751590919d7b7da433e2110914154d7152c24/catboost-0.14-cp36-none-manylinux1_x86_64.whl (60.6MB)\n",
            "\u001b[K    100% |████████████████████████████████| 60.6MB 789kB/s \n",
            "\u001b[?25hRequirement already satisfied: pandas>=0.19.1 in /usr/local/lib/python3.6/dist-packages (from catboost) (0.22.0)\n",
            "Requirement already satisfied: enum34 in /usr/local/lib/python3.6/dist-packages (from catboost) (1.1.6)\n",
            "Requirement already satisfied: numpy>=1.11.1 in /usr/local/lib/python3.6/dist-packages (from catboost) (1.14.6)\n",
            "Requirement already satisfied: six in /usr/local/lib/python3.6/dist-packages (from catboost) (1.11.0)\n",
            "Requirement already satisfied: pytz>=2011k in /usr/local/lib/python3.6/dist-packages (from pandas>=0.19.1->catboost) (2018.9)\n",
            "Requirement already satisfied: python-dateutil>=2 in /usr/local/lib/python3.6/dist-packages (from pandas>=0.19.1->catboost) (2.5.3)\n",
            "Installing collected packages: catboost\n",
            "Successfully installed catboost-0.14\n"
          ],
          "name": "stdout"
        }
      ]
    },
    {
      "metadata": {
        "id": "uwCNbpsQcN3w",
        "colab_type": "code",
        "colab": {}
      },
      "cell_type": "code",
      "source": [
        "#Download and prepare dataset\n",
        "from catboost.datasets import epsilon\n",
        "\n",
        "train, test = epsilon()\n",
        "\n",
        "X_train, y_train = train.iloc[:,1:], train[0]\n",
        "X_test, y_test = train.iloc[:,1:], train[0]"
      ],
      "execution_count": 0,
      "outputs": []
    },
    {
      "metadata": {
        "id": "GFxf30NUe95W",
        "colab_type": "code",
        "colab": {
          "base_uri": "https://localhost:8080/",
          "height": 297
        },
        "outputId": "43031b65-2c11-43f3-8a0d-15a6950e75d3"
      },
      "cell_type": "code",
      "source": [
        "from catboost import CatBoostClassifier\n",
        "import timeit\n",
        "\n",
        "def train_on_cpu():  \n",
        "  model = CatBoostClassifier(\n",
        "    iterations=100,\n",
        "    learning_rate=0.03\n",
        "  )\n",
        "  \n",
        "  model.fit(\n",
        "      X_train, y_train,\n",
        "      eval_set=(X_test, y_test),\n",
        "      verbose=10\n",
        "  );   \n",
        "      \n",
        "cpu_time = timeit.timeit('train_on_cpu()', \n",
        "                         setup=\"from __main__ import train_on_cpu\", \n",
        "                         number=1)\n",
        "\n",
        "print('Time to fit model on CPU: {} sec'.format(int(cpu_time)))"
      ],
      "execution_count": 13,
      "outputs": [
        {
          "output_type": "stream",
          "text": [
            "0:\tlearn: 0.6878004\ttest: 0.6878004\tbest: 0.6878004 (0)\ttotal: 8.22s\tremaining: 13m 33s\n",
            "10:\tlearn: 0.6459486\ttest: 0.6459486\tbest: 0.6459486 (10)\ttotal: 1m 27s\tremaining: 11m 51s\n",
            "20:\tlearn: 0.6170315\ttest: 0.6170315\tbest: 0.6170315 (20)\ttotal: 2m 43s\tremaining: 10m 13s\n",
            "30:\tlearn: 0.5947894\ttest: 0.5947894\tbest: 0.5947894 (30)\ttotal: 3m 56s\tremaining: 8m 46s\n",
            "40:\tlearn: 0.5766997\ttest: 0.5766997\tbest: 0.5766997 (40)\ttotal: 5m 9s\tremaining: 7m 25s\n",
            "50:\tlearn: 0.5616803\ttest: 0.5616803\tbest: 0.5616803 (50)\ttotal: 6m 20s\tremaining: 6m 5s\n",
            "60:\tlearn: 0.5485252\ttest: 0.5485252\tbest: 0.5485252 (60)\ttotal: 7m 30s\tremaining: 4m 48s\n",
            "70:\tlearn: 0.5371519\ttest: 0.5371519\tbest: 0.5371519 (70)\ttotal: 8m 42s\tremaining: 3m 33s\n",
            "80:\tlearn: 0.5267357\ttest: 0.5267357\tbest: 0.5267357 (80)\ttotal: 9m 52s\tremaining: 2m 19s\n",
            "90:\tlearn: 0.5175479\ttest: 0.5175479\tbest: 0.5175479 (90)\ttotal: 11m 3s\tremaining: 1m 5s\n",
            "99:\tlearn: 0.5100183\ttest: 0.5100183\tbest: 0.5100183 (99)\ttotal: 12m 10s\tremaining: 0us\n",
            "\n",
            "bestTest = 0.510018322\n",
            "bestIteration = 99\n",
            "\n",
            "Time to fit model on CPU: 923 sec\n"
          ],
          "name": "stdout"
        }
      ]
    },
    {
      "metadata": {
        "id": "rOh5FvYLilCP",
        "colab_type": "code",
        "colab": {
          "base_uri": "https://localhost:8080/",
          "height": 297
        },
        "outputId": "675e1e18-90d5-4938-b525-b817e73d8962"
      },
      "cell_type": "code",
      "source": [
        "def train_on_gpu():  \n",
        "  model = CatBoostClassifier(\n",
        "    iterations=100,\n",
        "    learning_rate=0.03,\n",
        "    task_type='GPU'\n",
        "  )\n",
        "  \n",
        "  model.fit(\n",
        "      X_train, y_train,\n",
        "      eval_set=(X_test, y_test),\n",
        "      verbose=10\n",
        "  );     \n",
        "      \n",
        "gpu_time = timeit.timeit('train_on_gpu()', \n",
        "                         setup=\"from __main__ import train_on_gpu\", \n",
        "                         number=1)\n",
        "\n",
        "print('Time to fit model on GPU: {} sec'.format(int(gpu_time)))\n",
        "print('GPU speedup over CPU: ' + '%.2f' % (cpu_time/gpu_time) + 'x')"
      ],
      "execution_count": 14,
      "outputs": [
        {
          "output_type": "stream",
          "text": [
            "0:\tlearn: 0.6877672\ttest: 0.6877672\tbest: 0.6877672 (0)\ttotal: 341ms\tremaining: 33.7s\n",
            "10:\tlearn: 0.6457420\ttest: 0.6457421\tbest: 0.6457421 (10)\ttotal: 2.61s\tremaining: 21.1s\n",
            "20:\tlearn: 0.6163265\ttest: 0.6163265\tbest: 0.6163265 (20)\ttotal: 4.73s\tremaining: 17.8s\n",
            "30:\tlearn: 0.5943037\ttest: 0.5943037\tbest: 0.5943037 (30)\ttotal: 6.76s\tremaining: 15s\n",
            "40:\tlearn: 0.5763304\ttest: 0.5763304\tbest: 0.5763304 (40)\ttotal: 8.78s\tremaining: 12.6s\n",
            "50:\tlearn: 0.5607698\ttest: 0.5607698\tbest: 0.5607698 (50)\ttotal: 10.8s\tremaining: 10.4s\n",
            "60:\tlearn: 0.5478190\ttest: 0.5478190\tbest: 0.5478190 (60)\ttotal: 12.8s\tremaining: 8.21s\n",
            "70:\tlearn: 0.5360012\ttest: 0.5360012\tbest: 0.5360012 (70)\ttotal: 14.8s\tremaining: 6.03s\n",
            "80:\tlearn: 0.5258045\ttest: 0.5258044\tbest: 0.5258044 (80)\ttotal: 16.8s\tremaining: 3.93s\n",
            "90:\tlearn: 0.5165441\ttest: 0.5165440\tbest: 0.5165440 (90)\ttotal: 18.8s\tremaining: 1.86s\n",
            "99:\tlearn: 0.5089646\ttest: 0.5089646\tbest: 0.5089646 (99)\ttotal: 20.5s\tremaining: 0us\n",
            "bestTest = 0.5089646094\n",
            "bestIteration = 99\n",
            "Shrink model to first 100 iterations.\n",
            "Time to fit model on GPU: 199 sec\n",
            "GPU speedup over CPU: 4.64x\n"
          ],
          "name": "stdout"
        }
      ]
    },
    {
      "metadata": {
        "id": "diVPa1OAksTT",
        "colab_type": "code",
        "colab": {
          "base_uri": "https://localhost:8080/",
          "height": 603
        },
        "outputId": "4f2b36a8-80ea-4d3e-8d62-d5cb819dba04"
      },
      "cell_type": "code",
      "source": [
        "import xgboost as xgb\n",
        "import timeit\n",
        "\n",
        "def train_on_cpu():  \n",
        "  dtrain = xgb.DMatrix(train)\n",
        "\n",
        "  param = {'objective': 'binary:logistic', \n",
        "           'silent': 1, \n",
        "           'tree_method': 'hist', \n",
        "           'num_boost_round' : 100} \n",
        " \n",
        "  model = xgb.XGBClassifier(**param)\n",
        "\n",
        "  model.fit(dtrain, dtrain.get_label())\n",
        "      \n",
        "cpu_time = timeit.timeit('train_on_cpu()', \n",
        "                         setup=\"from __main__ import train_on_cpu\", \n",
        "                         number=1)\n",
        "\n",
        "print('Time to fit model on CPU: {} sec'.format(int(cpu_time)))"
      ],
      "execution_count": 1,
      "outputs": [
        {
          "output_type": "error",
          "ename": "NameError",
          "evalue": "ignored",
          "traceback": [
            "\u001b[0;31m---------------------------------------------------------------------------\u001b[0m",
            "\u001b[0;31mNameError\u001b[0m                                 Traceback (most recent call last)",
            "\u001b[0;32m<ipython-input-1-a2229ed9a090>\u001b[0m in \u001b[0;36m<module>\u001b[0;34m()\u001b[0m\n\u001b[1;32m     16\u001b[0m cpu_time = timeit.timeit('train_on_cpu()', \n\u001b[1;32m     17\u001b[0m                          \u001b[0msetup\u001b[0m\u001b[0;34m=\u001b[0m\u001b[0;34m\"from __main__ import train_on_cpu\"\u001b[0m\u001b[0;34m,\u001b[0m\u001b[0;34m\u001b[0m\u001b[0;34m\u001b[0m\u001b[0m\n\u001b[0;32m---> 18\u001b[0;31m                          number=1)\n\u001b[0m\u001b[1;32m     19\u001b[0m \u001b[0;34m\u001b[0m\u001b[0m\n\u001b[1;32m     20\u001b[0m \u001b[0mprint\u001b[0m\u001b[0;34m(\u001b[0m\u001b[0;34m'Time to fit model on CPU: {} sec'\u001b[0m\u001b[0;34m.\u001b[0m\u001b[0mformat\u001b[0m\u001b[0;34m(\u001b[0m\u001b[0mint\u001b[0m\u001b[0;34m(\u001b[0m\u001b[0mcpu_time\u001b[0m\u001b[0;34m)\u001b[0m\u001b[0;34m)\u001b[0m\u001b[0;34m)\u001b[0m\u001b[0;34m\u001b[0m\u001b[0;34m\u001b[0m\u001b[0m\n",
            "\u001b[0;32m/usr/lib/python3.6/timeit.py\u001b[0m in \u001b[0;36mtimeit\u001b[0;34m(stmt, setup, timer, number, globals)\u001b[0m\n\u001b[1;32m    231\u001b[0m            number=default_number, globals=None):\n\u001b[1;32m    232\u001b[0m     \u001b[0;34m\"\"\"Convenience function to create Timer object and call timeit method.\"\"\"\u001b[0m\u001b[0;34m\u001b[0m\u001b[0;34m\u001b[0m\u001b[0m\n\u001b[0;32m--> 233\u001b[0;31m     \u001b[0;32mreturn\u001b[0m \u001b[0mTimer\u001b[0m\u001b[0;34m(\u001b[0m\u001b[0mstmt\u001b[0m\u001b[0;34m,\u001b[0m \u001b[0msetup\u001b[0m\u001b[0;34m,\u001b[0m \u001b[0mtimer\u001b[0m\u001b[0;34m,\u001b[0m \u001b[0mglobals\u001b[0m\u001b[0;34m)\u001b[0m\u001b[0;34m.\u001b[0m\u001b[0mtimeit\u001b[0m\u001b[0;34m(\u001b[0m\u001b[0mnumber\u001b[0m\u001b[0;34m)\u001b[0m\u001b[0;34m\u001b[0m\u001b[0;34m\u001b[0m\u001b[0m\n\u001b[0m\u001b[1;32m    234\u001b[0m \u001b[0;34m\u001b[0m\u001b[0m\n\u001b[1;32m    235\u001b[0m def repeat(stmt=\"pass\", setup=\"pass\", timer=default_timer,\n",
            "\u001b[0;32m/usr/lib/python3.6/timeit.py\u001b[0m in \u001b[0;36mtimeit\u001b[0;34m(self, number)\u001b[0m\n\u001b[1;32m    176\u001b[0m         \u001b[0mgc\u001b[0m\u001b[0;34m.\u001b[0m\u001b[0mdisable\u001b[0m\u001b[0;34m(\u001b[0m\u001b[0;34m)\u001b[0m\u001b[0;34m\u001b[0m\u001b[0;34m\u001b[0m\u001b[0m\n\u001b[1;32m    177\u001b[0m         \u001b[0;32mtry\u001b[0m\u001b[0;34m:\u001b[0m\u001b[0;34m\u001b[0m\u001b[0;34m\u001b[0m\u001b[0m\n\u001b[0;32m--> 178\u001b[0;31m             \u001b[0mtiming\u001b[0m \u001b[0;34m=\u001b[0m \u001b[0mself\u001b[0m\u001b[0;34m.\u001b[0m\u001b[0minner\u001b[0m\u001b[0;34m(\u001b[0m\u001b[0mit\u001b[0m\u001b[0;34m,\u001b[0m \u001b[0mself\u001b[0m\u001b[0;34m.\u001b[0m\u001b[0mtimer\u001b[0m\u001b[0;34m)\u001b[0m\u001b[0;34m\u001b[0m\u001b[0;34m\u001b[0m\u001b[0m\n\u001b[0m\u001b[1;32m    179\u001b[0m         \u001b[0;32mfinally\u001b[0m\u001b[0;34m:\u001b[0m\u001b[0;34m\u001b[0m\u001b[0;34m\u001b[0m\u001b[0m\n\u001b[1;32m    180\u001b[0m             \u001b[0;32mif\u001b[0m \u001b[0mgcold\u001b[0m\u001b[0;34m:\u001b[0m\u001b[0;34m\u001b[0m\u001b[0;34m\u001b[0m\u001b[0m\n",
            "\u001b[0;32m/usr/lib/python3.6/timeit.py\u001b[0m in \u001b[0;36minner\u001b[0;34m(_it, _timer)\u001b[0m\n",
            "\u001b[0;32m<ipython-input-1-a2229ed9a090>\u001b[0m in \u001b[0;36mtrain_on_cpu\u001b[0;34m()\u001b[0m\n\u001b[1;32m      3\u001b[0m \u001b[0;34m\u001b[0m\u001b[0m\n\u001b[1;32m      4\u001b[0m \u001b[0;32mdef\u001b[0m \u001b[0mtrain_on_cpu\u001b[0m\u001b[0;34m(\u001b[0m\u001b[0;34m)\u001b[0m\u001b[0;34m:\u001b[0m\u001b[0;34m\u001b[0m\u001b[0;34m\u001b[0m\u001b[0m\n\u001b[0;32m----> 5\u001b[0;31m   \u001b[0mdtrain\u001b[0m \u001b[0;34m=\u001b[0m \u001b[0mxgb\u001b[0m\u001b[0;34m.\u001b[0m\u001b[0mDMatrix\u001b[0m\u001b[0;34m(\u001b[0m\u001b[0mtrain\u001b[0m\u001b[0;34m)\u001b[0m\u001b[0;34m\u001b[0m\u001b[0;34m\u001b[0m\u001b[0m\n\u001b[0m\u001b[1;32m      6\u001b[0m \u001b[0;34m\u001b[0m\u001b[0m\n\u001b[1;32m      7\u001b[0m   param = {'objective': 'binary:logistic', \n",
            "\u001b[0;31mNameError\u001b[0m: name 'train' is not defined"
          ]
        }
      ]
    },
    {
      "metadata": {
        "id": "T7dpf7D9khfL",
        "colab_type": "code",
        "colab": {}
      },
      "cell_type": "code",
      "source": [
        "# Light GBM -- Session Crush\n",
        "\n",
        "import lightgbm as lgb\n",
        "import timeit\n",
        "\n",
        "def train_on_cpu():  \n",
        "  params = {\n",
        "      'task': 'train',\n",
        "      'boosting_type': 'gbdt',\n",
        "      'objective': 'binary',\n",
        "      'num_leaves': 64,\n",
        "      'verbose': 2 }\n",
        "\n",
        "  lgb_train = lgb.Dataset(X_train, y_train)\n",
        "\n",
        "  gbm = lgb.train(params, lgb_train, num_boost_round=100)\n",
        "  \n",
        "      \n",
        "cpu_time = timeit.timeit('train_on_cpu()', \n",
        "                         setup=\"from __main__ import train_on_cpu\", \n",
        "                         number=1)\n",
        "\n",
        "print('Time to fit model on CPU: {} sec'.format(int(cpu_time)))\n",
        "\n"
      ],
      "execution_count": 0,
      "outputs": []
    },
    {
      "metadata": {
        "id": "0EDKmXqAkxbw",
        "colab_type": "code",
        "colab": {
          "base_uri": "https://localhost:8080/",
          "height": 66
        },
        "outputId": "0db622d5-5d0b-4d07-8801-458601f2c097"
      },
      "cell_type": "code",
      "source": [
        "!ls -a  ./sample_data"
      ],
      "execution_count": 4,
      "outputs": [
        {
          "output_type": "stream",
          "text": [
            ".\t       california_housing_test.csv   mnist_train_small.csv\n",
            "..\t       california_housing_train.csv  README.md\n",
            "anscombe.json  mnist_test.csv\n"
          ],
          "name": "stdout"
        }
      ]
    }
  ]
}