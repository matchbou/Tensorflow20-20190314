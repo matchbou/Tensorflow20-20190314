{
  "nbformat": 4,
  "nbformat_minor": 0,
  "metadata": {
    "colab": {
      "name": "04_deploy_and_distribute_tf2.ipynb",
      "version": "0.3.2",
      "provenance": [],
      "include_colab_link": true
    },
    "kernelspec": {
      "display_name": "Python 3",
      "language": "python",
      "name": "python3"
    }
  },
  "cells": [
    {
      "cell_type": "markdown",
      "metadata": {
        "id": "view-in-github",
        "colab_type": "text"
      },
      "source": [
        "<a href=\"https://colab.research.google.com/github/matchbou/Tensorflow20-20190314/blob/master/04_deploy_and_distribute_tf2-Original.ipynb\" target=\"_parent\"><img src=\"https://colab.research.google.com/assets/colab-badge.svg\" alt=\"Open In Colab\"/></a>"
      ]
    },
    {
      "metadata": {
        "id": "-plDXul-cmkC",
        "colab_type": "text"
      },
      "cell_type": "markdown",
      "source": [
        "# Deploy and Distribute TensorFlow"
      ]
    },
    {
      "metadata": {
        "id": "DKM20fGOcmkE",
        "colab_type": "text"
      },
      "cell_type": "markdown",
      "source": [
        "In this notebook you will learn how to deploy TensorFlow models to TensorFlow Serving (TFS), using the REST API or the gRPC API, and how to train a model across multiple devices."
      ]
    },
    {
      "metadata": {
        "id": "_f1Grm72cmkF",
        "colab_type": "text"
      },
      "cell_type": "markdown",
      "source": [
        "## Imports"
      ]
    },
    {
      "metadata": {
        "id": "sA3tfawvcmkF",
        "colab_type": "code",
        "colab": {}
      },
      "cell_type": "code",
      "source": [
        "%matplotlib inline"
      ],
      "execution_count": 0,
      "outputs": []
    },
    {
      "metadata": {
        "id": "7PhSBLu9cmkI",
        "colab_type": "code",
        "colab": {}
      },
      "cell_type": "code",
      "source": [
        "import matplotlib as mpl\n",
        "import matplotlib.pyplot as plt\n",
        "import numpy as np\n",
        "import os\n",
        "import pandas as pd\n",
        "import sklearn\n",
        "import sys\n",
        "import tensorflow as tf\n",
        "from tensorflow import keras\n",
        "import time"
      ],
      "execution_count": 0,
      "outputs": []
    },
    {
      "metadata": {
        "id": "WTwhQbAIcmkK",
        "colab_type": "code",
        "colab": {}
      },
      "cell_type": "code",
      "source": [
        "print(\"python\", sys.version)\n",
        "for module in mpl, np, pd, sklearn, tf, keras:\n",
        "    print(module.__name__, module.__version__)"
      ],
      "execution_count": 0,
      "outputs": []
    },
    {
      "metadata": {
        "id": "zH3TBsf2cmkL",
        "colab_type": "code",
        "colab": {}
      },
      "cell_type": "code",
      "source": [
        "assert sys.version_info >= (3, 5) # Python ≥3.5 required\n",
        "assert tf.__version__ >= \"2.0\"    # TensorFlow ≥2.0 required"
      ],
      "execution_count": 0,
      "outputs": []
    },
    {
      "metadata": {
        "id": "-NoSLSphcmkN",
        "colab_type": "text"
      },
      "cell_type": "markdown",
      "source": [
        "![Exercise](https://c1.staticflickr.com/9/8101/8553474140_c50cf08708_b.jpg)"
      ]
    },
    {
      "metadata": {
        "id": "cuDm6Vx1cmkN",
        "colab_type": "text"
      },
      "cell_type": "markdown",
      "source": [
        "## Exercise 1 – Deploying a Model to TensorFlow Serving"
      ]
    },
    {
      "metadata": {
        "id": "nMEaWuMecmkO",
        "colab_type": "text"
      },
      "cell_type": "markdown",
      "source": [
        "## Save/Load a `SavedModel`"
      ]
    },
    {
      "metadata": {
        "id": "vb3tY7mDcmkP",
        "colab_type": "code",
        "colab": {}
      },
      "cell_type": "code",
      "source": [
        "(X_train_full, y_train_full), (X_test, y_test) = keras.datasets.fashion_mnist.load_data()\n",
        "X_train_full = X_train_full / 255.\n",
        "X_test = X_test / 255.\n",
        "X_valid, X_train = X_train_full[:5000], X_train_full[5000:]\n",
        "y_valid, y_train = y_train_full[:5000], y_train_full[5000:]"
      ],
      "execution_count": 0,
      "outputs": []
    },
    {
      "metadata": {
        "id": "6iNGvT1ocmkQ",
        "colab_type": "code",
        "colab": {}
      },
      "cell_type": "code",
      "source": [
        "model = keras.models.Sequential([\n",
        "    keras.layers.Flatten(input_shape=[28, 28]),\n",
        "    keras.layers.Dense(100, activation=\"relu\"),\n",
        "    keras.layers.Dense(10, activation=\"softmax\")\n",
        "])\n",
        "model.compile(loss=\"sparse_categorical_crossentropy\", optimizer=\"sgd\",\n",
        "              metrics=[\"accuracy\"])\n",
        "model.fit(X_train, y_train, epochs=10, validation_data=(X_valid, y_valid))"
      ],
      "execution_count": 0,
      "outputs": []
    },
    {
      "metadata": {
        "id": "fdDR-pJAcmkS",
        "colab_type": "code",
        "colab": {}
      },
      "cell_type": "code",
      "source": [
        "MODEL_NAME = \"my_fashion_mnist\"\n",
        "!rm -rf {MODEL_NAME}"
      ],
      "execution_count": 0,
      "outputs": []
    },
    {
      "metadata": {
        "id": "fKaEMrZ3cmkX",
        "colab_type": "code",
        "colab": {}
      },
      "cell_type": "code",
      "source": [
        "import time\n",
        "\n",
        "model_version = int(time.time())\n",
        "model_path = os.path.join(MODEL_NAME, str(model_version))\n",
        "os.makedirs(model_path)"
      ],
      "execution_count": 0,
      "outputs": []
    },
    {
      "metadata": {
        "id": "k9ttTQcrcmkf",
        "colab_type": "code",
        "colab": {}
      },
      "cell_type": "code",
      "source": [
        "tf.saved_model.save(model, model_path)"
      ],
      "execution_count": 0,
      "outputs": []
    },
    {
      "metadata": {
        "id": "DcPWa-xdcmkh",
        "colab_type": "code",
        "colab": {}
      },
      "cell_type": "code",
      "source": [
        "for root, dirs, files in os.walk(MODEL_NAME):\n",
        "    indent = '    ' * root.count(os.sep)\n",
        "    print('{}{}/'.format(indent, os.path.basename(root)))\n",
        "    for filename in files:\n",
        "        print('{}{}'.format(indent + '    ', filename))"
      ],
      "execution_count": 0,
      "outputs": []
    },
    {
      "metadata": {
        "id": "3WpkEJakcmkk",
        "colab_type": "code",
        "colab": {}
      },
      "cell_type": "code",
      "source": [
        "!saved_model_cli show --dir {model_path}"
      ],
      "execution_count": 0,
      "outputs": []
    },
    {
      "metadata": {
        "id": "2yUZI3g8cmkn",
        "colab_type": "code",
        "colab": {}
      },
      "cell_type": "code",
      "source": [
        "!saved_model_cli show --dir {model_path} --tag_set serve"
      ],
      "execution_count": 0,
      "outputs": []
    },
    {
      "metadata": {
        "id": "WCdTKqodcmkq",
        "colab_type": "code",
        "colab": {}
      },
      "cell_type": "code",
      "source": [
        "!saved_model_cli show --dir {model_path} --tag_set serve \\\n",
        "                      --signature_def serving_default"
      ],
      "execution_count": 0,
      "outputs": []
    },
    {
      "metadata": {
        "id": "HHMOZSHxcmkt",
        "colab_type": "code",
        "colab": {}
      },
      "cell_type": "code",
      "source": [
        "!saved_model_cli show --dir {model_path} --all"
      ],
      "execution_count": 0,
      "outputs": []
    },
    {
      "metadata": {
        "id": "GC_ARkzicmkw",
        "colab_type": "text"
      },
      "cell_type": "markdown",
      "source": [
        "**Warning**: as you can see, the method name is empty. This is [a bug](https://github.com/tensorflow/tensorflow/issues/25235), hopefully it will be fixed shortly. In the meantime, you must use `keras.experimental.export()` instead of `tf.saved_model.save()`:"
      ]
    },
    {
      "metadata": {
        "id": "f8vL-M1Scmk0",
        "colab_type": "code",
        "colab": {}
      },
      "cell_type": "code",
      "source": [
        "!rm -rf {MODEL_NAME}\n",
        "model_path = keras.experimental.export(model, MODEL_NAME).decode(\"utf-8\")\n",
        "!saved_model_cli show --dir {model_path} --all"
      ],
      "execution_count": 0,
      "outputs": []
    },
    {
      "metadata": {
        "id": "vXuDN54mcmk2",
        "colab_type": "text"
      },
      "cell_type": "markdown",
      "source": [
        "Let's write a few test instances to a `npy` file so we can pass them easily to our model:"
      ]
    },
    {
      "metadata": {
        "id": "nVzTr_rmcmk3",
        "colab_type": "code",
        "colab": {}
      },
      "cell_type": "code",
      "source": [
        "X_new = X_test[:3]\n",
        "np.save(\"my_fashion_mnist_tests.npy\", X_new, allow_pickle=False)"
      ],
      "execution_count": 0,
      "outputs": []
    },
    {
      "metadata": {
        "id": "AypJJgClcmk8",
        "colab_type": "code",
        "colab": {}
      },
      "cell_type": "code",
      "source": [
        "input_name = model.input_names[0]\n",
        "input_name"
      ],
      "execution_count": 0,
      "outputs": []
    },
    {
      "metadata": {
        "id": "U2stshACcmk-",
        "colab_type": "text"
      },
      "cell_type": "markdown",
      "source": [
        "And now let's use `saved_model_cli` to make predictions for the instances we just saved:"
      ]
    },
    {
      "metadata": {
        "id": "UVF22WSNcmk-",
        "colab_type": "code",
        "colab": {}
      },
      "cell_type": "code",
      "source": [
        "!saved_model_cli run --dir {model_path} --tag_set serve \\\n",
        "                     --signature_def serving_default    \\\n",
        "                     --inputs {input_name}=my_fashion_mnist_tests.npy"
      ],
      "execution_count": 0,
      "outputs": []
    },
    {
      "metadata": {
        "id": "H29JNaubcmlA",
        "colab_type": "text"
      },
      "cell_type": "markdown",
      "source": [
        "## TensorFlow Serving"
      ]
    },
    {
      "metadata": {
        "id": "bitzSYLhcmlA",
        "colab_type": "text"
      },
      "cell_type": "markdown",
      "source": [
        "Install [Docker](https://docs.docker.com/install/) if you don't have it already. Then run:\n",
        "\n",
        "```bash\n",
        "docker pull tensorflow/serving\n",
        "\n",
        "docker run -it --rm -p 8501:8501 \\\n",
        "   -v \"`pwd`/my_fashion_mnist:/models/my_fashion_mnist\" \\\n",
        "   -e MODEL_NAME=my_fashion_mnist \\\n",
        "   tensorflow/serving\n",
        "```\n",
        "\n",
        "Once you are finished using it, press Ctrl-C to shut down the server."
      ]
    },
    {
      "metadata": {
        "id": "VC7jwuoscmlB",
        "colab_type": "code",
        "colab": {}
      },
      "cell_type": "code",
      "source": [
        "import json\n",
        "\n",
        "input_data_json = json.dumps({\n",
        "    \"signature_name\": \"serving_default\",\n",
        "    \"instances\": X_new.tolist(),\n",
        "})\n",
        "print(input_data_json[:200] + \"...\" + input_data_json[-200:])"
      ],
      "execution_count": 0,
      "outputs": []
    },
    {
      "metadata": {
        "id": "YwULIeBbcmlC",
        "colab_type": "text"
      },
      "cell_type": "markdown",
      "source": [
        "Now let's use TensorFlow Serving's REST API to make predictions:"
      ]
    },
    {
      "metadata": {
        "id": "ygyEApx9cmlD",
        "colab_type": "code",
        "colab": {}
      },
      "cell_type": "code",
      "source": [
        "import requests\n",
        "\n",
        "SERVER_URL = 'http://localhost:8501/v1/models/my_fashion_mnist:predict'\n",
        "            \n",
        "response = requests.post(SERVER_URL, data=input_data_json)\n",
        "response.raise_for_status()\n",
        "response = response.json()"
      ],
      "execution_count": 0,
      "outputs": []
    },
    {
      "metadata": {
        "id": "JoT3Iv8wcmlE",
        "colab_type": "code",
        "colab": {}
      },
      "cell_type": "code",
      "source": [
        "response.keys()"
      ],
      "execution_count": 0,
      "outputs": []
    },
    {
      "metadata": {
        "id": "5QOmVSExcmlG",
        "colab_type": "code",
        "colab": {}
      },
      "cell_type": "code",
      "source": [
        "y_proba = np.array(response[\"predictions\"])\n",
        "y_proba.round(2)"
      ],
      "execution_count": 0,
      "outputs": []
    },
    {
      "metadata": {
        "id": "25Hqe9tdcmlH",
        "colab_type": "text"
      },
      "cell_type": "markdown",
      "source": [
        "### Using Serialized Examples"
      ]
    },
    {
      "metadata": {
        "id": "2GSfCb5tcmlI",
        "colab_type": "code",
        "colab": {}
      },
      "cell_type": "code",
      "source": [
        "serialized = []\n",
        "for image in X_new:\n",
        "    image_data = tf.train.FloatList(value=image.ravel())\n",
        "    features = tf.train.Features(\n",
        "        feature={\n",
        "            \"image\": tf.train.Feature(float_list=image_data),\n",
        "        }\n",
        "    )\n",
        "    example = tf.train.Example(features=features)\n",
        "    serialized.append(example.SerializeToString())"
      ],
      "execution_count": 0,
      "outputs": []
    },
    {
      "metadata": {
        "id": "ShE4LGbOcmlK",
        "colab_type": "code",
        "colab": {}
      },
      "cell_type": "code",
      "source": [
        "[data[:100]+b'...' for data in serialized]"
      ],
      "execution_count": 0,
      "outputs": []
    },
    {
      "metadata": {
        "id": "S5sldVBacmlL",
        "colab_type": "code",
        "colab": {}
      },
      "cell_type": "code",
      "source": [
        "def parse_images(serialized):\n",
        "    expected_features = {\n",
        "        \"image\": tf.io.FixedLenFeature([28 * 28], dtype=tf.float32)\n",
        "    }\n",
        "    examples = tf.io.parse_example(serialized, expected_features)\n",
        "    return tf.reshape(examples[\"image\"], (-1, 28, 28))"
      ],
      "execution_count": 0,
      "outputs": []
    },
    {
      "metadata": {
        "id": "xG42Sa4RcmlN",
        "colab_type": "code",
        "colab": {}
      },
      "cell_type": "code",
      "source": [
        "parse_images(serialized)"
      ],
      "execution_count": 0,
      "outputs": []
    },
    {
      "metadata": {
        "id": "hq1GhSHKcmlQ",
        "colab_type": "code",
        "colab": {}
      },
      "cell_type": "code",
      "source": [
        "serialized_inputs = keras.layers.Input(shape=[], dtype=tf.string)\n",
        "images = keras.layers.Lambda(lambda serialized: parse_images(serialized))(serialized_inputs)\n",
        "y_proba = model(images)\n",
        "ser_model = keras.models.Model(inputs=[serialized_inputs], outputs=[y_proba])"
      ],
      "execution_count": 0,
      "outputs": []
    },
    {
      "metadata": {
        "id": "9MDjZ865cmlT",
        "colab_type": "code",
        "colab": {}
      },
      "cell_type": "code",
      "source": [
        "SER_MODEL_NAME = \"my_ser_fashion_mnist\"\n",
        "!rm -rf {SER_MODEL_NAME}\n",
        "ser_model_path = keras.experimental.export(ser_model, SER_MODEL_NAME).decode(\"utf-8\")\n",
        "!saved_model_cli show --dir {ser_model_path} --all"
      ],
      "execution_count": 0,
      "outputs": []
    },
    {
      "metadata": {
        "id": "VJk-Y4O0cmlU",
        "colab_type": "text"
      },
      "cell_type": "markdown",
      "source": [
        "```bash\n",
        "docker run -it --rm -p 8500:8500 -p 8501:8501 \\\n",
        "   -v \"`pwd`/my_ser_fashion_mnist:/models/my_ser_fashion_mnist\" \\\n",
        "   -e MODEL_NAME=my_ser_fashion_mnist \\\n",
        "   tensorflow/serving\n",
        "```"
      ]
    },
    {
      "metadata": {
        "id": "R40o3GmjcmlW",
        "colab_type": "code",
        "colab": {}
      },
      "cell_type": "code",
      "source": [
        "import base64\n",
        "import json\n",
        "\n",
        "ser_input_data_json = json.dumps({\n",
        "    \"signature_name\": \"serving_default\",\n",
        "    \"instances\": [{\"b64\": base64.b64encode(data).decode(\"utf-8\")}\n",
        "                  for data in serialized],\n",
        "})\n",
        "print(ser_input_data_json[:200] + \"...\" + ser_input_data_json[-200:])"
      ],
      "execution_count": 0,
      "outputs": []
    },
    {
      "metadata": {
        "id": "hLUJF3rjcmlX",
        "colab_type": "code",
        "colab": {}
      },
      "cell_type": "code",
      "source": [
        "import requests\n",
        "\n",
        "SER_SERVER_URL = 'http://localhost:8501/v1/models/my_ser_fashion_mnist:predict'\n",
        "            \n",
        "response = requests.post(SER_SERVER_URL, data=ser_input_data_json)\n",
        "response.raise_for_status()\n",
        "response = response.json()"
      ],
      "execution_count": 0,
      "outputs": []
    },
    {
      "metadata": {
        "id": "NaC5IH2DcmlZ",
        "colab_type": "code",
        "colab": {}
      },
      "cell_type": "code",
      "source": [
        "response.keys()"
      ],
      "execution_count": 0,
      "outputs": []
    },
    {
      "metadata": {
        "id": "QtzuDAZGcmla",
        "colab_type": "code",
        "colab": {}
      },
      "cell_type": "code",
      "source": [
        "y_proba = np.array(response[\"predictions\"])\n",
        "y_proba.round(2)"
      ],
      "execution_count": 0,
      "outputs": []
    },
    {
      "metadata": {
        "id": "CifUqev8cmlb",
        "colab_type": "code",
        "colab": {}
      },
      "cell_type": "code",
      "source": [
        "!python3 -m pip install --no-deps tensorflow-serving-api"
      ],
      "execution_count": 0,
      "outputs": []
    },
    {
      "metadata": {
        "id": "YSE0CmcHcmlc",
        "colab_type": "code",
        "colab": {}
      },
      "cell_type": "code",
      "source": [
        "import grpc\n",
        "from tensorflow_serving.apis import predict_pb2\n",
        "from tensorflow_serving.apis import prediction_service_pb2_grpc\n",
        "\n",
        "channel = grpc.insecure_channel('localhost:8500')\n",
        "predict_service = prediction_service_pb2_grpc.PredictionServiceStub(channel)\n",
        "\n",
        "request = predict_pb2.PredictRequest()\n",
        "request.model_spec.name = SER_MODEL_NAME\n",
        "request.model_spec.signature_name = \"serving_default\"\n",
        "input_name = ser_model.input_names[0]\n",
        "request.inputs[input_name].CopyFrom(tf.compat.v1.make_tensor_proto(serialized))\n",
        "\n",
        "result = predict_service.Predict(request, 10.0)"
      ],
      "execution_count": 0,
      "outputs": []
    },
    {
      "metadata": {
        "id": "O6jHok1Mcmld",
        "colab_type": "code",
        "colab": {}
      },
      "cell_type": "code",
      "source": [
        "result"
      ],
      "execution_count": 0,
      "outputs": []
    },
    {
      "metadata": {
        "id": "yDN1w2H8cmlf",
        "colab_type": "code",
        "colab": {}
      },
      "cell_type": "code",
      "source": [
        "output_name = ser_model.output_names[0]\n",
        "output_name"
      ],
      "execution_count": 0,
      "outputs": []
    },
    {
      "metadata": {
        "id": "Vk2LvX9Ucmli",
        "colab_type": "code",
        "colab": {}
      },
      "cell_type": "code",
      "source": [
        "shape = [dim.size for dim in result.outputs[output_name].tensor_shape.dim]\n",
        "shape"
      ],
      "execution_count": 0,
      "outputs": []
    },
    {
      "metadata": {
        "id": "wHI5e0Udcmlj",
        "colab_type": "code",
        "colab": {}
      },
      "cell_type": "code",
      "source": [
        "y_proba = np.array(result.outputs[output_name].float_val).reshape(shape)\n",
        "y_proba.round(2)"
      ],
      "execution_count": 0,
      "outputs": []
    },
    {
      "metadata": {
        "id": "KwYqrHT_cmll",
        "colab_type": "text"
      },
      "cell_type": "markdown",
      "source": [
        "![Exercise](https://c1.staticflickr.com/9/8101/8553474140_c50cf08708_b.jpg)"
      ]
    },
    {
      "metadata": {
        "id": "4gJg-n2Dcmll",
        "colab_type": "text"
      },
      "cell_type": "markdown",
      "source": [
        "## Exercise 2 – Distributed Training"
      ]
    },
    {
      "metadata": {
        "id": "70yxrk65cmll",
        "colab_type": "code",
        "colab": {}
      },
      "cell_type": "code",
      "source": [
        "keras.backend.clear_session()"
      ],
      "execution_count": 0,
      "outputs": []
    },
    {
      "metadata": {
        "id": "dteWJ8Y8cmln",
        "colab_type": "code",
        "colab": {}
      },
      "cell_type": "code",
      "source": [
        "distribution = tf.distribute.MirroredStrategy()\n",
        "\n",
        "with distribution.scope():\n",
        "    model = keras.models.Sequential([\n",
        "        keras.layers.Flatten(input_shape=[28, 28]),\n",
        "        keras.layers.Dense(100, activation=\"relu\"),\n",
        "        keras.layers.Dense(10, activation=\"softmax\")\n",
        "    ])\n",
        "    model.compile(loss=\"sparse_categorical_crossentropy\", optimizer=\"sgd\",\n",
        "                  metrics=[\"accuracy\"])"
      ],
      "execution_count": 0,
      "outputs": []
    },
    {
      "metadata": {
        "id": "_bnsQNRVcmlo",
        "colab_type": "code",
        "colab": {}
      },
      "cell_type": "code",
      "source": [
        "model.fit(X_train, y_train, epochs=10, validation_data=(X_valid, y_valid), batch_size=25)"
      ],
      "execution_count": 0,
      "outputs": []
    }
  ]
}