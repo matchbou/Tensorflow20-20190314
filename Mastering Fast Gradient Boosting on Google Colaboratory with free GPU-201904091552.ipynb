{
  "nbformat": 4,
  "nbformat_minor": 0,
  "metadata": {
    "colab": {
      "name": "Untitled11.ipynb",
      "version": "0.3.2",
      "provenance": [],
      "include_colab_link": true
    },
    "kernelspec": {
      "name": "python3",
      "display_name": "Python 3"
    },
    "accelerator": "GPU"
  },
  "cells": [
    {
      "cell_type": "markdown",
      "metadata": {
        "id": "view-in-github",
        "colab_type": "text"
      },
      "source": [
        "<a href=\"https://colab.research.google.com/github/matchbou/Tensorflow20-20190314/blob/master/Mastering%20Fast%20Gradient%20Boosting%20on%20Google%20Colaboratory%20with%20free%20GPU-201904091552.ipynb\" target=\"_parent\"><img src=\"https://colab.research.google.com/assets/colab-badge.svg\" alt=\"Open In Colab\"/></a>"
      ]
    },
    {
      "metadata": {
        "id": "fblfczocwdNq",
        "colab_type": "code",
        "colab": {}
      },
      "cell_type": "code",
      "source": [
        "#Mastering Fast Gradient Boosting on Google Colaboratory with free GPU\n",
        "\n",
        "\n",
        "#https://medium.com/mlreview/mastering-fast-gradient-boosting-on-google-colaboratory-with-free-gpu-51abbbf4b860\n"
      ],
      "execution_count": 0,
      "outputs": []
    },
    {
      "metadata": {
        "id": "1-O0NvAlwkuG",
        "colab_type": "code",
        "colab": {
          "base_uri": "https://localhost:8080/",
          "height": 131
        },
        "outputId": "a0609f68-e4bb-4b50-db07-0b0da47dc5a5"
      },
      "cell_type": "code",
      "source": [
        "#Importing CatBoost\n",
        "!pip install catboost"
      ],
      "execution_count": 4,
      "outputs": [
        {
          "output_type": "stream",
          "text": [
            "Requirement already satisfied: catboost in /usr/local/lib/python3.6/dist-packages (0.14)\n",
            "Requirement already satisfied: six in /usr/local/lib/python3.6/dist-packages (from catboost) (1.11.0)\n",
            "Requirement already satisfied: enum34 in /usr/local/lib/python3.6/dist-packages (from catboost) (1.1.6)\n",
            "Requirement already satisfied: numpy>=1.11.1 in /usr/local/lib/python3.6/dist-packages (from catboost) (1.14.6)\n",
            "Requirement already satisfied: pandas>=0.19.1 in /usr/local/lib/python3.6/dist-packages (from catboost) (0.22.0)\n",
            "Requirement already satisfied: pytz>=2011k in /usr/local/lib/python3.6/dist-packages (from pandas>=0.19.1->catboost) (2018.9)\n",
            "Requirement already satisfied: python-dateutil>=2 in /usr/local/lib/python3.6/dist-packages (from pandas>=0.19.1->catboost) (2.5.3)\n"
          ],
          "name": "stdout"
        }
      ]
    },
    {
      "metadata": {
        "id": "rvxE2CPUwwDd",
        "colab_type": "code",
        "colab": {
          "base_uri": "https://localhost:8080/",
          "height": 33
        },
        "outputId": "62f4a22e-f596-4869-d1e7-ad6e019e430e"
      },
      "cell_type": "code",
      "source": [
        "!pwd"
      ],
      "execution_count": 5,
      "outputs": [
        {
          "output_type": "stream",
          "text": [
            "/content\n"
          ],
          "name": "stdout"
        }
      ]
    },
    {
      "metadata": {
        "id": "HsO2xa0bwzDl",
        "colab_type": "code",
        "colab": {
          "base_uri": "https://localhost:8080/",
          "height": 33
        },
        "outputId": "5fb68552-ce49-48b0-bba0-e61de65ae7a0"
      },
      "cell_type": "code",
      "source": [
        "!ls -a  ./"
      ],
      "execution_count": 6,
      "outputs": [
        {
          "output_type": "stream",
          "text": [
            ".  ..  catboost_cached_datasets  .config  sample_data\n"
          ],
          "name": "stdout"
        }
      ]
    },
    {
      "metadata": {
        "id": "8HR0-Az-w2bv",
        "colab_type": "code",
        "colab": {}
      },
      "cell_type": "code",
      "source": [
        "#Download and prepare dataset\n",
        "from catboost.datasets import epsilon"
      ],
      "execution_count": 0,
      "outputs": []
    },
    {
      "metadata": {
        "id": "bRc59675w6pm",
        "colab_type": "code",
        "colab": {
          "base_uri": "https://localhost:8080/",
          "height": 33
        },
        "outputId": "d6089721-0e55-4543-8a23-3c3203758adb"
      },
      "cell_type": "code",
      "source": [
        "!pwd"
      ],
      "execution_count": 8,
      "outputs": [
        {
          "output_type": "stream",
          "text": [
            "/content\n"
          ],
          "name": "stdout"
        }
      ]
    },
    {
      "metadata": {
        "id": "oVU1rKmoxBfe",
        "colab_type": "code",
        "colab": {}
      },
      "cell_type": "code",
      "source": [
        "train, test = epsilon()\n",
        "\n",
        "X_train, y_train = train.iloc[:,1:], train[0]\n",
        "X_test, y_test = train.iloc[:,1:], train[0]"
      ],
      "execution_count": 0,
      "outputs": []
    },
    {
      "metadata": {
        "id": "FXDiF8YO1WRm",
        "colab_type": "code",
        "colab": {}
      },
      "cell_type": "code",
      "source": [
        "from catboost import CatBoostClassifier\n",
        "import timeit\n",
        "\n"
      ],
      "execution_count": 0,
      "outputs": []
    },
    {
      "metadata": {
        "id": "r46oTa7h1Ple",
        "colab_type": "code",
        "colab": {
          "base_uri": "https://localhost:8080/",
          "height": 441
        },
        "outputId": "c441e9c1-36d5-4bb2-c317-0588c964d208"
      },
      "cell_type": "code",
      "source": [
        "def train_on_gpu():  \n",
        "  model = CatBoostClassifier(\n",
        "    iterations=100,\n",
        "    learning_rate=0.03,\n",
        "    task_type='GPU'\n",
        "  )\n",
        "  \n",
        "  model.fit(\n",
        "      X_train, y_train,\n",
        "      eval_set=(X_test, y_test),\n",
        "      verbose=10\n",
        "  );     \n",
        "      \n",
        "gpu_time = timeit.timeit('train_on_gpu()', \n",
        "                         setup=\"from __main__ import train_on_gpu\", \n",
        "                         number=1)\n",
        "\n",
        "print('Time to fit model on GPU: {} sec'.format(int(gpu_time)))\n",
        "print('GPU speedup over CPU: ' + '%.2f' % (cpu_time/gpu_time) + 'x')"
      ],
      "execution_count": 13,
      "outputs": [
        {
          "output_type": "stream",
          "text": [
            "0:\tlearn: 0.6877672\ttest: 0.6877673\tbest: 0.6877673 (0)\ttotal: 353ms\tremaining: 35s\n",
            "10:\tlearn: 0.6457421\ttest: 0.6457422\tbest: 0.6457422 (10)\ttotal: 2.62s\tremaining: 21.2s\n",
            "20:\tlearn: 0.6163283\ttest: 0.6163283\tbest: 0.6163283 (20)\ttotal: 4.75s\tremaining: 17.9s\n",
            "30:\tlearn: 0.5943064\ttest: 0.5943063\tbest: 0.5943063 (30)\ttotal: 6.77s\tremaining: 15.1s\n",
            "40:\tlearn: 0.5763326\ttest: 0.5763326\tbest: 0.5763326 (40)\ttotal: 8.8s\tremaining: 12.7s\n",
            "50:\tlearn: 0.5607712\ttest: 0.5607713\tbest: 0.5607713 (50)\ttotal: 10.9s\tremaining: 10.4s\n",
            "60:\tlearn: 0.5478200\ttest: 0.5478200\tbest: 0.5478200 (60)\ttotal: 12.9s\tremaining: 8.23s\n",
            "70:\tlearn: 0.5360019\ttest: 0.5360018\tbest: 0.5360018 (70)\ttotal: 14.8s\tremaining: 6.05s\n",
            "80:\tlearn: 0.5258053\ttest: 0.5258052\tbest: 0.5258052 (80)\ttotal: 16.8s\tremaining: 3.94s\n",
            "90:\tlearn: 0.5165444\ttest: 0.5165444\tbest: 0.5165444 (90)\ttotal: 18.8s\tremaining: 1.86s\n",
            "99:\tlearn: 0.5089650\ttest: 0.5089650\tbest: 0.5089650 (99)\ttotal: 20.5s\tremaining: 0us\n",
            "bestTest = 0.508965\n",
            "bestIteration = 99\n",
            "Shrink model to first 100 iterations.\n",
            "Time to fit model on GPU: 205 sec\n"
          ],
          "name": "stdout"
        },
        {
          "output_type": "error",
          "ename": "NameError",
          "evalue": "ignored",
          "traceback": [
            "\u001b[0;31m---------------------------------------------------------------------------\u001b[0m",
            "\u001b[0;31mNameError\u001b[0m                                 Traceback (most recent call last)",
            "\u001b[0;32m<ipython-input-13-9656f62632de>\u001b[0m in \u001b[0;36m<module>\u001b[0;34m()\u001b[0m\n\u001b[1;32m     17\u001b[0m \u001b[0;34m\u001b[0m\u001b[0m\n\u001b[1;32m     18\u001b[0m \u001b[0mprint\u001b[0m\u001b[0;34m(\u001b[0m\u001b[0;34m'Time to fit model on GPU: {} sec'\u001b[0m\u001b[0;34m.\u001b[0m\u001b[0mformat\u001b[0m\u001b[0;34m(\u001b[0m\u001b[0mint\u001b[0m\u001b[0;34m(\u001b[0m\u001b[0mgpu_time\u001b[0m\u001b[0;34m)\u001b[0m\u001b[0;34m)\u001b[0m\u001b[0;34m)\u001b[0m\u001b[0;34m\u001b[0m\u001b[0;34m\u001b[0m\u001b[0m\n\u001b[0;32m---> 19\u001b[0;31m \u001b[0mprint\u001b[0m\u001b[0;34m(\u001b[0m\u001b[0;34m'GPU speedup over CPU: '\u001b[0m \u001b[0;34m+\u001b[0m \u001b[0;34m'%.2f'\u001b[0m \u001b[0;34m%\u001b[0m \u001b[0;34m(\u001b[0m\u001b[0mcpu_time\u001b[0m\u001b[0;34m/\u001b[0m\u001b[0mgpu_time\u001b[0m\u001b[0;34m)\u001b[0m \u001b[0;34m+\u001b[0m \u001b[0;34m'x'\u001b[0m\u001b[0;34m)\u001b[0m\u001b[0;34m\u001b[0m\u001b[0;34m\u001b[0m\u001b[0m\n\u001b[0m",
            "\u001b[0;31mNameError\u001b[0m: name 'cpu_time' is not defined"
          ]
        }
      ]
    },
    {
      "metadata": {
        "id": "TgVzEVGn22pL",
        "colab_type": "code",
        "colab": {}
      },
      "cell_type": "code",
      "source": [
        "import xgboost as xgb\n",
        "import timeit\n",
        "\n",
        "def train_on_gpu():  \n",
        "  dtrain = xgb.DMatrix(train)\n",
        "\n",
        "  param = {'objective': 'binary:logistic', \n",
        "           'silent': 1, \n",
        "           'tree_method': 'gpu_hist', \n",
        "           'gpu_id': '0',            \n",
        "           'max_bin': 16,            \n",
        "           'num_boost_round' : 100} \n",
        " \n",
        "  model = xgb.XGBClassifier(**param)\n",
        "\n",
        "  model.fit(dtrain, dtrain.get_label())\n",
        "      \n",
        "gpu_time = timeit.timeit('train_on_gpu()', \n",
        "                         setup=\"from __main__ import train_on_gpu\", \n",
        "                         number=1)\n",
        "\n",
        "print('Time to fit model on GPU: {} sec'.format(int(gpu_time)))"
      ],
      "execution_count": 0,
      "outputs": []
    }
  ]
}