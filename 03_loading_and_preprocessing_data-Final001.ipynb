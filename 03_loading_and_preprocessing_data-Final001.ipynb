{
  "nbformat": 4,
  "nbformat_minor": 0,
  "metadata": {
    "colab": {
      "name": "03_loading_and_preprocessing_data.ipynb",
      "version": "0.3.2",
      "provenance": [],
      "include_colab_link": true
    },
    "kernelspec": {
      "name": "python3",
      "display_name": "Python 3"
    },
    "accelerator": "GPU"
  },
  "cells": [
    {
      "cell_type": "markdown",
      "metadata": {
        "id": "view-in-github",
        "colab_type": "text"
      },
      "source": [
        "<a href=\"https://colab.research.google.com/github/matchbou/Tensorflow20-20190314/blob/master/03_loading_and_preprocessing_data-Final001.ipynb\" target=\"_parent\"><img src=\"https://colab.research.google.com/assets/colab-badge.svg\" alt=\"Open In Colab\"/></a>"
      ]
    },
    {
      "metadata": {
        "id": "KiJZ96OFVFXD",
        "colab_type": "text"
      },
      "cell_type": "markdown",
      "source": [
        "# Loading and Preprocessing Data"
      ]
    },
    {
      "metadata": {
        "id": "s3-aoDELVFXF",
        "colab_type": "text"
      },
      "cell_type": "markdown",
      "source": [
        "In this notebook you will learn how to use TensorFlow's Data API to load and preprocess data efficiently, then you will learn about the efficient `TFRecord` binary format for storing your data."
      ]
    },
    {
      "metadata": {
        "id": "4u5dCWaXVFXG",
        "colab_type": "text"
      },
      "cell_type": "markdown",
      "source": [
        "## Imports"
      ]
    },
    {
      "metadata": {
        "id": "ZA5QxdLgVqSl",
        "colab_type": "code",
        "colab": {
          "base_uri": "https://localhost:8080/",
          "height": 508
        },
        "outputId": "d89904b2-243f-4243-814d-8359fd2ca4cb"
      },
      "cell_type": "code",
      "source": [
        "!pip install tf-nightly-gpu-2.0-preview"
      ],
      "execution_count": 1,
      "outputs": [
        {
          "output_type": "stream",
          "text": [
            "Collecting tf-nightly-gpu-2.0-preview\n",
            "\u001b[?25l  Downloading https://files.pythonhosted.org/packages/5e/a4/41de6127c389e3f2de81224c54534cd6de677ac4a90c0bf8f1f86e9b8054/tf_nightly_gpu_2.0_preview-2.0.0.dev20190313-cp36-cp36m-manylinux1_x86_64.whl (336.9MB)\n",
            "\u001b[K    100% |████████████████████████████████| 336.9MB 51kB/s \n",
            "\u001b[?25hRequirement already satisfied: absl-py>=0.7.0 in /usr/local/lib/python3.6/dist-packages (from tf-nightly-gpu-2.0-preview) (0.7.0)\n",
            "Requirement already satisfied: keras-applications>=1.0.6 in /usr/local/lib/python3.6/dist-packages (from tf-nightly-gpu-2.0-preview) (1.0.7)\n",
            "Collecting tb-nightly<1.15.0a0,>=1.14.0a0 (from tf-nightly-gpu-2.0-preview)\n",
            "\u001b[?25l  Downloading https://files.pythonhosted.org/packages/56/ed/81c0a17476a99b81477e3308adaa6129e055ad4a6c35b268cc8b01e54686/tb_nightly-1.14.0a20190313-py3-none-any.whl (3.0MB)\n",
            "\u001b[K    100% |████████████████████████████████| 3.0MB 6.0MB/s \n",
            "\u001b[?25hRequirement already satisfied: six>=1.10.0 in /usr/local/lib/python3.6/dist-packages (from tf-nightly-gpu-2.0-preview) (1.11.0)\n",
            "Requirement already satisfied: wheel>=0.26 in /usr/local/lib/python3.6/dist-packages (from tf-nightly-gpu-2.0-preview) (0.33.1)\n",
            "Requirement already satisfied: termcolor>=1.1.0 in /usr/local/lib/python3.6/dist-packages (from tf-nightly-gpu-2.0-preview) (1.1.0)\n",
            "Collecting tensorflow-estimator-2.0-preview (from tf-nightly-gpu-2.0-preview)\n",
            "\u001b[?25l  Downloading https://files.pythonhosted.org/packages/0b/b9/8a77aa7434096e7c8e62d14d62dbc0da624e74290cecba5cff0ded1e7721/tensorflow_estimator_2.0_preview-1.14.0.dev2019031400-py2.py3-none-any.whl (351kB)\n",
            "\u001b[K    100% |████████████████████████████████| 358kB 10.7MB/s \n",
            "\u001b[?25hRequirement already satisfied: grpcio>=1.8.6 in /usr/local/lib/python3.6/dist-packages (from tf-nightly-gpu-2.0-preview) (1.15.0)\n",
            "Requirement already satisfied: astor>=0.6.0 in /usr/local/lib/python3.6/dist-packages (from tf-nightly-gpu-2.0-preview) (0.7.1)\n",
            "Collecting google-pasta>=0.1.2 (from tf-nightly-gpu-2.0-preview)\n",
            "\u001b[?25l  Downloading https://files.pythonhosted.org/packages/8c/96/adbd4eafe72ce9b5ca6f168fbf109386e1b601f7c59926a11e9d7b7a5b44/google_pasta-0.1.4-py3-none-any.whl (51kB)\n",
            "\u001b[K    100% |████████████████████████████████| 61kB 22.7MB/s \n",
            "\u001b[?25hRequirement already satisfied: numpy<2.0,>=1.14.5 in /usr/local/lib/python3.6/dist-packages (from tf-nightly-gpu-2.0-preview) (1.14.6)\n",
            "Requirement already satisfied: gast>=0.2.0 in /usr/local/lib/python3.6/dist-packages (from tf-nightly-gpu-2.0-preview) (0.2.2)\n",
            "Requirement already satisfied: keras-preprocessing>=1.0.5 in /usr/local/lib/python3.6/dist-packages (from tf-nightly-gpu-2.0-preview) (1.0.9)\n",
            "Requirement already satisfied: protobuf>=3.6.1 in /usr/local/lib/python3.6/dist-packages (from tf-nightly-gpu-2.0-preview) (3.6.1)\n",
            "Requirement already satisfied: h5py in /usr/local/lib/python3.6/dist-packages (from keras-applications>=1.0.6->tf-nightly-gpu-2.0-preview) (2.8.0)\n",
            "Requirement already satisfied: werkzeug>=0.11.15 in /usr/local/lib/python3.6/dist-packages (from tb-nightly<1.15.0a0,>=1.14.0a0->tf-nightly-gpu-2.0-preview) (0.14.1)\n",
            "Requirement already satisfied: markdown>=2.6.8 in /usr/local/lib/python3.6/dist-packages (from tb-nightly<1.15.0a0,>=1.14.0a0->tf-nightly-gpu-2.0-preview) (3.0.1)\n",
            "Requirement already satisfied: setuptools in /usr/local/lib/python3.6/dist-packages (from protobuf>=3.6.1->tf-nightly-gpu-2.0-preview) (40.8.0)\n",
            "Installing collected packages: tb-nightly, tensorflow-estimator-2.0-preview, google-pasta, tf-nightly-gpu-2.0-preview\n",
            "Successfully installed google-pasta-0.1.4 tb-nightly-1.14.0a20190313 tensorflow-estimator-2.0-preview-1.14.0.dev2019031400 tf-nightly-gpu-2.0-preview-2.0.0.dev20190313\n"
          ],
          "name": "stdout"
        }
      ]
    },
    {
      "metadata": {
        "id": "W4uW8WXVVFXH",
        "colab_type": "code",
        "colab": {}
      },
      "cell_type": "code",
      "source": [
        "%matplotlib inline"
      ],
      "execution_count": 0,
      "outputs": []
    },
    {
      "metadata": {
        "id": "XdYilR5WVFXK",
        "colab_type": "code",
        "colab": {}
      },
      "cell_type": "code",
      "source": [
        "import matplotlib as mpl\n",
        "import matplotlib.pyplot as plt\n",
        "import numpy as np\n",
        "import os\n",
        "import pandas as pd\n",
        "import sklearn\n",
        "import sys\n",
        "import tensorflow as tf\n",
        "from tensorflow import keras\n",
        "import time"
      ],
      "execution_count": 0,
      "outputs": []
    },
    {
      "metadata": {
        "id": "0VB5Llx0VFXN",
        "colab_type": "code",
        "colab": {
          "base_uri": "https://localhost:8080/",
          "height": 147
        },
        "outputId": "e9b22948-e43b-427c-8bd9-15399ce2a694"
      },
      "cell_type": "code",
      "source": [
        "print(\"python\", sys.version)\n",
        "for module in mpl, np, pd, sklearn, tf, keras:\n",
        "    print(module.__name__, module.__version__)"
      ],
      "execution_count": 4,
      "outputs": [
        {
          "output_type": "stream",
          "text": [
            "python 3.6.7 (default, Oct 22 2018, 11:32:17) \n",
            "[GCC 8.2.0]\n",
            "matplotlib 3.0.3\n",
            "numpy 1.14.6\n",
            "pandas 0.22.0\n",
            "sklearn 0.20.3\n",
            "tensorflow 2.0.0-dev20190313\n",
            "tensorflow.python.keras.api._v2.keras 2.2.4-tf\n"
          ],
          "name": "stdout"
        }
      ]
    },
    {
      "metadata": {
        "id": "iqLWD2T2VFXP",
        "colab_type": "code",
        "colab": {}
      },
      "cell_type": "code",
      "source": [
        "assert sys.version_info >= (3, 5) # Python ≥3.5 required\n",
        "assert tf.__version__ >= \"2.0\"    # TensorFlow ≥2.0 required"
      ],
      "execution_count": 0,
      "outputs": []
    },
    {
      "metadata": {
        "id": "8N91zZLOVFXR",
        "colab_type": "text"
      },
      "cell_type": "markdown",
      "source": [
        "## Code examples"
      ]
    },
    {
      "metadata": {
        "id": "8swh_1NEVFXS",
        "colab_type": "text"
      },
      "cell_type": "markdown",
      "source": [
        "You can browse through the code examples or jump directly to the exercises."
      ]
    },
    {
      "metadata": {
        "id": "Epsy7g0xVFXT",
        "colab_type": "code",
        "colab": {
          "base_uri": "https://localhost:8080/",
          "height": 33
        },
        "outputId": "cb7ca9a9-5efe-4f8b-a05e-77a3ec6e2737"
      },
      "cell_type": "code",
      "source": [
        "dataset = tf.data.Dataset.from_tensor_slices(np.arange(10))\n",
        "dataset"
      ],
      "execution_count": 6,
      "outputs": [
        {
          "output_type": "execute_result",
          "data": {
            "text/plain": [
              "<TensorSliceDataset shapes: (), types: tf.int64>"
            ]
          },
          "metadata": {
            "tags": []
          },
          "execution_count": 6
        }
      ]
    },
    {
      "metadata": {
        "id": "hleCg1dbVFXV",
        "colab_type": "code",
        "colab": {
          "base_uri": "https://localhost:8080/",
          "height": 180
        },
        "outputId": "b7e878ff-a2a7-4ed0-e15e-236246a97745"
      },
      "cell_type": "code",
      "source": [
        "for item in dataset:\n",
        "    print(item)"
      ],
      "execution_count": 7,
      "outputs": [
        {
          "output_type": "stream",
          "text": [
            "tf.Tensor(0, shape=(), dtype=int64)\n",
            "tf.Tensor(1, shape=(), dtype=int64)\n",
            "tf.Tensor(2, shape=(), dtype=int64)\n",
            "tf.Tensor(3, shape=(), dtype=int64)\n",
            "tf.Tensor(4, shape=(), dtype=int64)\n",
            "tf.Tensor(5, shape=(), dtype=int64)\n",
            "tf.Tensor(6, shape=(), dtype=int64)\n",
            "tf.Tensor(7, shape=(), dtype=int64)\n",
            "tf.Tensor(8, shape=(), dtype=int64)\n",
            "tf.Tensor(9, shape=(), dtype=int64)\n"
          ],
          "name": "stdout"
        }
      ]
    },
    {
      "metadata": {
        "id": "zuyaJLh_VFXY",
        "colab_type": "code",
        "colab": {}
      },
      "cell_type": "code",
      "source": [
        "dataset = dataset.repeat(3).batch(7)"
      ],
      "execution_count": 0,
      "outputs": []
    },
    {
      "metadata": {
        "tags": [
          "raises-exception"
        ],
        "id": "V9hjnU8sVFXb",
        "colab_type": "code",
        "colab": {
          "base_uri": "https://localhost:8080/",
          "height": 98
        },
        "outputId": "4afc6a23-7480-4f75-bf1b-4cb3af90b8ba"
      },
      "cell_type": "code",
      "source": [
        "for item in dataset:\n",
        "    print(item)"
      ],
      "execution_count": 9,
      "outputs": [
        {
          "output_type": "stream",
          "text": [
            "tf.Tensor([0 1 2 3 4 5 6], shape=(7,), dtype=int64)\n",
            "tf.Tensor([7 8 9 0 1 2 3], shape=(7,), dtype=int64)\n",
            "tf.Tensor([4 5 6 7 8 9 0], shape=(7,), dtype=int64)\n",
            "tf.Tensor([1 2 3 4 5 6 7], shape=(7,), dtype=int64)\n",
            "tf.Tensor([8 9], shape=(2,), dtype=int64)\n"
          ],
          "name": "stdout"
        }
      ]
    },
    {
      "metadata": {
        "id": "Bm9eiIxRVFXd",
        "colab_type": "code",
        "colab": {}
      },
      "cell_type": "code",
      "source": [
        "dataset = dataset.interleave(\n",
        "    lambda v: tf.data.Dataset.from_tensor_slices(v),\n",
        "    cycle_length=3,\n",
        "    block_length=2)"
      ],
      "execution_count": 0,
      "outputs": []
    },
    {
      "metadata": {
        "tags": [
          "raises-exception"
        ],
        "id": "CoBQ5r2PVFXf",
        "colab_type": "code",
        "colab": {
          "base_uri": "https://localhost:8080/",
          "height": 33
        },
        "outputId": "e15eeaa8-193e-4949-eb87-76059a18ad65"
      },
      "cell_type": "code",
      "source": [
        "for item in dataset:\n",
        "    print(item.numpy(), end=\" \")"
      ],
      "execution_count": 11,
      "outputs": [
        {
          "output_type": "stream",
          "text": [
            "0 1 7 8 4 5 2 3 9 0 6 7 4 5 1 2 8 9 6 3 0 1 2 8 9 3 4 5 6 7 "
          ],
          "name": "stdout"
        }
      ]
    },
    {
      "metadata": {
        "id": "rK-ykcsEVFXi",
        "colab_type": "code",
        "colab": {
          "base_uri": "https://localhost:8080/",
          "height": 33
        },
        "outputId": "645bf691-db2a-45ca-c374-6a3ea188dd82"
      },
      "cell_type": "code",
      "source": [
        "X = np.array([[2, 3], [4, 5], [6, 7]])\n",
        "y = np.array([\"cat\", \"dog\", \"fox\"])\n",
        "dataset = tf.data.Dataset.from_tensor_slices((X, y))\n",
        "dataset"
      ],
      "execution_count": 12,
      "outputs": [
        {
          "output_type": "execute_result",
          "data": {
            "text/plain": [
              "<TensorSliceDataset shapes: ((2,), ()), types: (tf.int64, tf.string)>"
            ]
          },
          "metadata": {
            "tags": []
          },
          "execution_count": 12
        }
      ]
    },
    {
      "metadata": {
        "id": "NFaalPDnVFXk",
        "colab_type": "code",
        "colab": {
          "base_uri": "https://localhost:8080/",
          "height": 66
        },
        "outputId": "c6925379-ddab-4179-ed8e-9af1415480b6"
      },
      "cell_type": "code",
      "source": [
        "for item_x, item_y in dataset:\n",
        "    print(item_x.numpy(), item_y.numpy())"
      ],
      "execution_count": 13,
      "outputs": [
        {
          "output_type": "stream",
          "text": [
            "[2 3] b'cat'\n",
            "[4 5] b'dog'\n",
            "[6 7] b'fox'\n"
          ],
          "name": "stdout"
        }
      ]
    },
    {
      "metadata": {
        "id": "DpKoYSKsVFXl",
        "colab_type": "code",
        "colab": {
          "base_uri": "https://localhost:8080/",
          "height": 33
        },
        "outputId": "a31e5f39-c07d-42b0-fbb1-b2552895bbf0"
      },
      "cell_type": "code",
      "source": [
        "dataset = tf.data.Dataset.from_tensor_slices({\"features\": X, \"label\": y})\n",
        "dataset"
      ],
      "execution_count": 14,
      "outputs": [
        {
          "output_type": "execute_result",
          "data": {
            "text/plain": [
              "<TensorSliceDataset shapes: {features: (2,), label: ()}, types: {features: tf.int64, label: tf.string}>"
            ]
          },
          "metadata": {
            "tags": []
          },
          "execution_count": 14
        }
      ]
    },
    {
      "metadata": {
        "id": "JyfhHKFAVFXn",
        "colab_type": "code",
        "colab": {
          "base_uri": "https://localhost:8080/",
          "height": 66
        },
        "outputId": "b4d32210-1eb5-4be1-c1a0-3862b2e82089"
      },
      "cell_type": "code",
      "source": [
        "for item in dataset:\n",
        "    print(item[\"features\"].numpy(), item[\"label\"].numpy())"
      ],
      "execution_count": 15,
      "outputs": [
        {
          "output_type": "stream",
          "text": [
            "[2 3] b'cat'\n",
            "[4 5] b'dog'\n",
            "[6 7] b'fox'\n"
          ],
          "name": "stdout"
        }
      ]
    },
    {
      "metadata": {
        "id": "-vERq5zAVFXo",
        "colab_type": "text"
      },
      "cell_type": "markdown",
      "source": [
        "## Split the California dataset to multiple CSV files"
      ]
    },
    {
      "metadata": {
        "id": "LyZglpeyVFXp",
        "colab_type": "text"
      },
      "cell_type": "markdown",
      "source": [
        "Let's start by loading and preparing the California housing dataset. We first load it, then split it into a training set, a validation set and a test set, and finally we scale it:"
      ]
    },
    {
      "metadata": {
        "id": "TNEFyy23VFXp",
        "colab_type": "code",
        "colab": {
          "base_uri": "https://localhost:8080/",
          "height": 86
        },
        "outputId": "50ce6519-b7eb-4c9e-f013-edbdb5c7e526"
      },
      "cell_type": "code",
      "source": [
        "from sklearn.datasets import fetch_california_housing\n",
        "from sklearn.model_selection import train_test_split\n",
        "from sklearn.preprocessing import StandardScaler\n",
        "\n",
        "housing = fetch_california_housing()\n",
        "X_train_full, X_test, y_train_full, y_test = train_test_split(\n",
        "    housing.data, housing.target.reshape(-1, 1), random_state=42)\n",
        "X_train, X_valid, y_train, y_valid = train_test_split(\n",
        "    X_train_full, y_train_full, random_state=42)\n",
        "\n",
        "scaler = StandardScaler()\n",
        "X_train_scaled = scaler.fit_transform(X_train)\n",
        "X_valid_scaled = scaler.transform(X_valid)\n",
        "X_test_scaled = scaler.transform(X_test)"
      ],
      "execution_count": 16,
      "outputs": [
        {
          "output_type": "stream",
          "text": [
            "Downloading Cal. housing from https://ndownloader.figshare.com/files/5976036 to /root/scikit_learn_data\n",
            "WARNING: Logging before flag parsing goes to stderr.\n",
            "I0314 08:39:28.583281 139902075590528 california_housing.py:114] Downloading Cal. housing from https://ndownloader.figshare.com/files/5976036 to /root/scikit_learn_data\n"
          ],
          "name": "stderr"
        }
      ]
    },
    {
      "metadata": {
        "id": "4h2stA1tVFXr",
        "colab_type": "text"
      },
      "cell_type": "markdown",
      "source": [
        "For very large datasets that do not fit in memory, you will typically want to split it into many files first, then have TensorFlow read these files in parallel. To demonstrate this, let's start by splitting the scaled housing dataset and saving it to 20 CSV files:"
      ]
    },
    {
      "metadata": {
        "id": "twKvSewtVFXs",
        "colab_type": "code",
        "colab": {}
      },
      "cell_type": "code",
      "source": [
        "def save_to_multiple_csv_files(data, name_prefix, header=None, n_parts=10):\n",
        "    housing_dir = os.path.join(\"datasets\", \"housing\")\n",
        "    os.makedirs(housing_dir, exist_ok=True)\n",
        "    path_format = os.path.join(housing_dir, \"my_{}_{:02d}.csv\")\n",
        "\n",
        "    filenames = []\n",
        "    m = len(data)\n",
        "    for file_idx, row_indices in enumerate(np.array_split(np.arange(m), n_parts)):\n",
        "        part_csv = path_format.format(name_prefix, file_idx)\n",
        "        filenames.append(part_csv)\n",
        "        with open(part_csv, \"wt\", encoding=\"utf-8\") as f:\n",
        "            if header is not None:\n",
        "                f.write(header)\n",
        "                f.write(\"\\n\")\n",
        "            for row_idx in row_indices:\n",
        "                f.write(\",\".join([repr(col) for col in data[row_idx]]))\n",
        "                f.write(\"\\n\")\n",
        "    return filenames"
      ],
      "execution_count": 0,
      "outputs": []
    },
    {
      "metadata": {
        "id": "SbPcbfXTVFXv",
        "colab_type": "code",
        "colab": {}
      },
      "cell_type": "code",
      "source": [
        "train_data = np.c_[X_train_scaled, y_train]\n",
        "valid_data = np.c_[X_valid_scaled, y_valid]\n",
        "test_data = np.c_[X_test_scaled, y_test]\n",
        "header_cols = [\"Scaled\" + name for name in housing.feature_names] + [\"MedianHouseValue\"]\n",
        "header = \",\".join(header_cols)\n",
        "\n",
        "train_filenames = save_to_multiple_csv_files(train_data, \"train\", header, n_parts=20)\n",
        "valid_filenames = save_to_multiple_csv_files(valid_data, \"valid\", header, n_parts=10)\n",
        "test_filenames = save_to_multiple_csv_files(test_data, \"test\", header, n_parts=10)"
      ],
      "execution_count": 0,
      "outputs": []
    },
    {
      "metadata": {
        "id": "AXdYK2iVVFXx",
        "colab_type": "text"
      },
      "cell_type": "markdown",
      "source": [
        "Okay, now let's take a peek at the first few lines of one of these CSV files:"
      ]
    },
    {
      "metadata": {
        "id": "3ZnYlkqkVFXy",
        "colab_type": "code",
        "colab": {
          "base_uri": "https://localhost:8080/",
          "height": 86
        },
        "outputId": "dec15b71-761f-4ee7-851e-597a288881d7"
      },
      "cell_type": "code",
      "source": [
        "with open(train_filenames[0]) as f:\n",
        "    for i in range(3):\n",
        "        print(f.readline(), end=\"\")"
      ],
      "execution_count": 19,
      "outputs": [
        {
          "output_type": "stream",
          "text": [
            "ScaledMedInc,ScaledHouseAge,ScaledAveRooms,ScaledAveBedrms,ScaledPopulation,ScaledAveOccup,ScaledLatitude,ScaledLongitude,MedianHouseValue\n",
            "-0.1939788334343112,-1.0778131900560315,-0.9433854492905827,0.01485313784785944,0.020733351231179677,-0.5729162417603235,0.9292604730832086,-1.4221552292446311,1.442\n",
            "0.7519831792363448,-1.8688949973875395,0.4054779316683507,-0.2332768194594582,1.861464900604635,0.20516532460775205,-0.9165473773933427,1.096669692658571,1.687\n"
          ],
          "name": "stdout"
        }
      ]
    },
    {
      "metadata": {
        "id": "jylY5MY7VFX0",
        "colab_type": "text"
      },
      "cell_type": "markdown",
      "source": [
        "![Exercise](https://c1.staticflickr.com/9/8101/8553474140_c50cf08708_b.jpg)"
      ]
    },
    {
      "metadata": {
        "id": "Y336YiaRVFX1",
        "colab_type": "text"
      },
      "cell_type": "markdown",
      "source": [
        "## Exercise 1 – Data API"
      ]
    },
    {
      "metadata": {
        "id": "gd8hEj-NVFX1",
        "colab_type": "text"
      },
      "cell_type": "markdown",
      "source": [
        "### 1.1)\n",
        "Use `tf.data.Dataset.list_files()` to create a dataset that will simply list the training filenames. Iterate through its items and print them."
      ]
    },
    {
      "metadata": {
        "id": "AbJKfBWzVFX2",
        "colab_type": "code",
        "colab": {}
      },
      "cell_type": "code",
      "source": [
        ""
      ],
      "execution_count": 0,
      "outputs": []
    },
    {
      "metadata": {
        "id": "hzu5a03BVFX3",
        "colab_type": "code",
        "colab": {}
      },
      "cell_type": "code",
      "source": [
        ""
      ],
      "execution_count": 0,
      "outputs": []
    },
    {
      "metadata": {
        "id": "vz-n3suYVFX4",
        "colab_type": "code",
        "colab": {}
      },
      "cell_type": "code",
      "source": [
        ""
      ],
      "execution_count": 0,
      "outputs": []
    },
    {
      "metadata": {
        "id": "E5tmAh0xVFX6",
        "colab_type": "text"
      },
      "cell_type": "markdown",
      "source": [
        "### 1.2)\n",
        "Use the filename dataset's `interleave()` method to create a dataset that will read from these CSV files, interleaving their lines. The first argument needs to be a function (e.g., a `lambda`) that creates a `tf.data.TextLineDataset` based on a filename, and you must also set `cycle_length=5` so that the reader interleaves data from 5 files at a time. Print the first 15 elements from this dataset to see that you do indeed get interleaved lines from multiple CSV files (you should get the first line from 5 files, then the second line from these same files, then the third lines). **Tip**: To get only the first 15 elements, you can call the dataset's `take()` method."
      ]
    },
    {
      "metadata": {
        "id": "gpgWeKMDVFX7",
        "colab_type": "code",
        "colab": {}
      },
      "cell_type": "code",
      "source": [
        ""
      ],
      "execution_count": 0,
      "outputs": []
    },
    {
      "metadata": {
        "id": "m0yraVUAVFX8",
        "colab_type": "code",
        "colab": {}
      },
      "cell_type": "code",
      "source": [
        ""
      ],
      "execution_count": 0,
      "outputs": []
    },
    {
      "metadata": {
        "id": "gdzY2WfSVFX9",
        "colab_type": "code",
        "colab": {}
      },
      "cell_type": "code",
      "source": [
        ""
      ],
      "execution_count": 0,
      "outputs": []
    },
    {
      "metadata": {
        "id": "E7CpkaHcVFX_",
        "colab_type": "text"
      },
      "cell_type": "markdown",
      "source": [
        "### 1.3)\n",
        "We do not care about the header lines, so let's skip them. You can use the `skip()` method for this. Print the first five elements of your final dataset to make sure it does not print any header lines. **Tip**: make sure to call `skip()` for each `TextLineDataset`, not for the interleave dataset."
      ]
    },
    {
      "metadata": {
        "id": "LWRiNBEhVFYA",
        "colab_type": "code",
        "colab": {}
      },
      "cell_type": "code",
      "source": [
        ""
      ],
      "execution_count": 0,
      "outputs": []
    },
    {
      "metadata": {
        "id": "GS7QFUN3VFYB",
        "colab_type": "code",
        "colab": {}
      },
      "cell_type": "code",
      "source": [
        ""
      ],
      "execution_count": 0,
      "outputs": []
    },
    {
      "metadata": {
        "id": "wdp_cKNQVFYC",
        "colab_type": "code",
        "colab": {}
      },
      "cell_type": "code",
      "source": [
        ""
      ],
      "execution_count": 0,
      "outputs": []
    },
    {
      "metadata": {
        "id": "hXe2NeNbVFYE",
        "colab_type": "text"
      },
      "cell_type": "markdown",
      "source": [
        "### 1.4)\n",
        "We need to parse these CSV lines. First, experiment with the `tf.io.decode_csv()` function using the example below (e.g., look at the types, try changing or removing some field values, etc.).\n",
        "* You need to pass it the line to parse, and set the `record_defaults` argument. This must be an array containing the default value for each field, in case it is missing. This also tells TensorFlow the number of fields to expect, and the type of each field. If you do not want a default value for a given field, you must use an empty tensor of the appropriate type (e.g., `tf.constant([])` for a `float32` field, or `tf.constant([], dtype=tf.int64` for an `int64` field)."
      ]
    },
    {
      "metadata": {
        "id": "lD48X4DAVFYF",
        "colab_type": "code",
        "colab": {
          "base_uri": "https://localhost:8080/",
          "height": 98
        },
        "outputId": "3c23a5e3-9d0e-429f-f440-7c88167181c1"
      },
      "cell_type": "code",
      "source": [
        "record_defaults=[0, np.nan, tf.constant(np.nan, dtype=tf.float64), \"Hello\", tf.constant([])]\n",
        "parsed_fields = tf.io.decode_csv('1,2,3,4,5', record_defaults)\n",
        "parsed_fields"
      ],
      "execution_count": 20,
      "outputs": [
        {
          "output_type": "execute_result",
          "data": {
            "text/plain": [
              "[<tf.Tensor: id=163, shape=(), dtype=int32, numpy=1>,\n",
              " <tf.Tensor: id=164, shape=(), dtype=float32, numpy=2.0>,\n",
              " <tf.Tensor: id=165, shape=(), dtype=float64, numpy=3.0>,\n",
              " <tf.Tensor: id=166, shape=(), dtype=string, numpy=b'4'>,\n",
              " <tf.Tensor: id=167, shape=(), dtype=float32, numpy=5.0>]"
            ]
          },
          "metadata": {
            "tags": []
          },
          "execution_count": 20
        }
      ]
    },
    {
      "metadata": {
        "id": "UuPSBhG3VFYG",
        "colab_type": "code",
        "colab": {}
      },
      "cell_type": "code",
      "source": [
        ""
      ],
      "execution_count": 0,
      "outputs": []
    },
    {
      "metadata": {
        "id": "Lxg8gOwGVFYI",
        "colab_type": "code",
        "colab": {}
      },
      "cell_type": "code",
      "source": [
        ""
      ],
      "execution_count": 0,
      "outputs": []
    },
    {
      "metadata": {
        "id": "OqfI6bxZVFYJ",
        "colab_type": "code",
        "colab": {}
      },
      "cell_type": "code",
      "source": [
        ""
      ],
      "execution_count": 0,
      "outputs": []
    },
    {
      "metadata": {
        "id": "KrJnf0qrVFYK",
        "colab_type": "text"
      },
      "cell_type": "markdown",
      "source": [
        "### 1.5)\n",
        "Now you are ready to create a function to parse a CSV line:\n",
        "* Create a `parse_csv_line()` function that takes a single line as argument.\n",
        "* Call `tf.io.decode_csv()` to parse that line.\n",
        "* Call `tf.stack()` to create a single tensor containing all the input features (i.e., all fields except the last one).\n",
        "* Reshape the labels field (i.e., the last field) to give it a shape of `[1]` instead of `[]` (i.e., it must not be a scalar). You can use `tf.reshape(label_field, [1])`, or call `tf.stack([label_field])`, or use `label_field[tf.newaxis]`.\n",
        "* Return a tuple with both tensors (input features and labels).\n",
        "* Try calling it on a single line from one of the CSV files."
      ]
    },
    {
      "metadata": {
        "id": "Pbqa1HMGVFYK",
        "colab_type": "code",
        "colab": {}
      },
      "cell_type": "code",
      "source": [
        ""
      ],
      "execution_count": 0,
      "outputs": []
    },
    {
      "metadata": {
        "id": "trmIqjwyVFYM",
        "colab_type": "code",
        "colab": {}
      },
      "cell_type": "code",
      "source": [
        ""
      ],
      "execution_count": 0,
      "outputs": []
    },
    {
      "metadata": {
        "id": "JY_rNDk-VFYN",
        "colab_type": "code",
        "colab": {}
      },
      "cell_type": "code",
      "source": [
        ""
      ],
      "execution_count": 0,
      "outputs": []
    },
    {
      "metadata": {
        "id": "kwUmWcq3VFYP",
        "colab_type": "text"
      },
      "cell_type": "markdown",
      "source": [
        "### 1.6)\n",
        "Now create a `csv_reader_dataset()` function that takes a list of CSV filenames and returns a dataset that will provide batches of parsed and shuffled data from these files, including the features and labels, repeating the whole data once per epoch.\n",
        "\n",
        "**Tips**:\n",
        "* Copy your code from above to get a dataset that returns interleaved lines from the given CSV files. Your function will need an argument for the `filenames`, and another for the number of files read in parallel at any given time (e.g., `n_reader`).\n",
        "* The training algorithm will need to go through the dataset many times, so you should call `repeat()` on the filenames dataset. You do not need to specify a number of repetitions, as we will tell Keras the number of iterations to run later on.\n",
        "* Gradient descent works best when the data is IID (independent and identically distributed), so you should call the `shuffle()` method. It will require the shuffling buffer size, which you can add as an argument to your function (e.g., `shuffle_buffer_size`).\n",
        "* Use the `map()` method to apply the `parse_csv_line()` function to each CSV line. You can set the `num_parallel_calls` argument to the number of threads that will parse lines in parallel. This should probably be an argument of your function (e.g., `n_parse_threads`).\n",
        "* Use the `batch()` method to bundle records into batches. You will need to specify the batch size. This should probably be an argument of your function (e.g., `batch_size`).\n",
        "* Call `prefetch(1)` on your final dataset to ensure that the next batch is loaded and parsed while the rest of your computations take place in parallel (to avoid blocking for I/O).\n",
        "* Return the resulting dataset.\n",
        "* Give every argument a reasonable default value (except for the filenames).\n",
        "* Test your function by calling it with a small batch size and printing the first couple of batches.\n",
        "* For higher performance, you can replace `dataset.map(...).batch(...)` with `dataset.apply(map_and_batch(...))`, where `map_and_batch()` is an experimental function located in `tf.data.experimental`. It will be deprecated in future versions of TensorFlow when such pipeline optimizations become automatic."
      ]
    },
    {
      "metadata": {
        "id": "ZdJC1HqiVFYP",
        "colab_type": "code",
        "colab": {}
      },
      "cell_type": "code",
      "source": [
        ""
      ],
      "execution_count": 0,
      "outputs": []
    },
    {
      "metadata": {
        "id": "QBJ40EiZVFYQ",
        "colab_type": "code",
        "colab": {}
      },
      "cell_type": "code",
      "source": [
        ""
      ],
      "execution_count": 0,
      "outputs": []
    },
    {
      "metadata": {
        "id": "AqnJCIuAVFYW",
        "colab_type": "code",
        "colab": {}
      },
      "cell_type": "code",
      "source": [
        ""
      ],
      "execution_count": 0,
      "outputs": []
    },
    {
      "metadata": {
        "id": "Ti6aJsXQVFYY",
        "colab_type": "text"
      },
      "cell_type": "markdown",
      "source": [
        "### 1.7)\n",
        "Build a training set, a validation set and a test set using your `csv_reader_dataset()` function."
      ]
    },
    {
      "metadata": {
        "id": "V8WcpwnbVFYY",
        "colab_type": "code",
        "colab": {}
      },
      "cell_type": "code",
      "source": [
        ""
      ],
      "execution_count": 0,
      "outputs": []
    },
    {
      "metadata": {
        "id": "-fZDionOVFYb",
        "colab_type": "code",
        "colab": {}
      },
      "cell_type": "code",
      "source": [
        ""
      ],
      "execution_count": 0,
      "outputs": []
    },
    {
      "metadata": {
        "id": "ABaiDqa4VFYe",
        "colab_type": "code",
        "colab": {}
      },
      "cell_type": "code",
      "source": [
        ""
      ],
      "execution_count": 0,
      "outputs": []
    },
    {
      "metadata": {
        "id": "kI2YTrloVFYg",
        "colab_type": "text"
      },
      "cell_type": "markdown",
      "source": [
        "### 1.8)\n",
        "Build and compile a Keras model for this regression task, and use your datasets to train it, evaluate it and make predictions for the test set.\n",
        "\n",
        "**Tips**\n",
        "* Instead of passing `X_train_scaled, y_train` to the `fit()` method, pass the training dataset and specify the `steps_per_epoch` argument. This should be set to the number of instances in the training set divided by the batch size.\n",
        "* Similarly, pass the validation dataset instead of `(X_valid_scaled, y_valid)` and `y_valid`, and set the `validation_steps`.\n",
        "* For the `evaluate()` and `predict()` methods, you need to pass the test dataset, and specify the `steps` argument.\n",
        "* The `predict()` method ignores the labels in the test dataset, but if you want to be extra sure that it does not cheat, you can create a new dataset by stripping away the labels from the test set (e.g., `test_set.map(lambda X, y: X)`)."
      ]
    },
    {
      "metadata": {
        "id": "kWTnQHnwVFYj",
        "colab_type": "code",
        "colab": {}
      },
      "cell_type": "code",
      "source": [
        ""
      ],
      "execution_count": 0,
      "outputs": []
    },
    {
      "metadata": {
        "id": "I5fLxHf3VFYl",
        "colab_type": "code",
        "colab": {}
      },
      "cell_type": "code",
      "source": [
        ""
      ],
      "execution_count": 0,
      "outputs": []
    },
    {
      "metadata": {
        "id": "OTs0IdmnVFYm",
        "colab_type": "code",
        "colab": {}
      },
      "cell_type": "code",
      "source": [
        ""
      ],
      "execution_count": 0,
      "outputs": []
    },
    {
      "metadata": {
        "id": "2ekyySdFVFYo",
        "colab_type": "text"
      },
      "cell_type": "markdown",
      "source": [
        "![Exercise solution](https://camo.githubusercontent.com/250388fde3fac9135ead9471733ee28e049f7a37/68747470733a2f2f75706c6f61642e77696b696d656469612e6f72672f77696b6970656469612f636f6d6d6f6e732f302f30362f46696c6f735f736567756e646f5f6c6f676f5f253238666c69707065642532392e6a7067)"
      ]
    },
    {
      "metadata": {
        "id": "HILwE28hVFYp",
        "colab_type": "text"
      },
      "cell_type": "markdown",
      "source": [
        "## Exercise 1 – Solution"
      ]
    },
    {
      "metadata": {
        "id": "1GxT14OYVFYp",
        "colab_type": "text"
      },
      "cell_type": "markdown",
      "source": [
        "### 1.1)\n",
        "Use `tf.data.Dataset.list_files()` to create a dataset that will simply list the training filenames. Iterate through its items and print them."
      ]
    },
    {
      "metadata": {
        "id": "gxi6BXAzVFYp",
        "colab_type": "code",
        "colab": {}
      },
      "cell_type": "code",
      "source": [
        "filename_dataset = tf.data.Dataset.list_files(train_filenames)"
      ],
      "execution_count": 0,
      "outputs": []
    },
    {
      "metadata": {
        "id": "j8e1Lh4yVFYr",
        "colab_type": "code",
        "colab": {
          "base_uri": "https://localhost:8080/",
          "height": 342
        },
        "outputId": "9ac1794c-bca7-4188-f2b8-86e3c8e5961f"
      },
      "cell_type": "code",
      "source": [
        "for filename in filename_dataset:\n",
        "    print(filename)"
      ],
      "execution_count": 22,
      "outputs": [
        {
          "output_type": "stream",
          "text": [
            "tf.Tensor(b'datasets/housing/my_train_09.csv', shape=(), dtype=string)\n",
            "tf.Tensor(b'datasets/housing/my_train_06.csv', shape=(), dtype=string)\n",
            "tf.Tensor(b'datasets/housing/my_train_18.csv', shape=(), dtype=string)\n",
            "tf.Tensor(b'datasets/housing/my_train_02.csv', shape=(), dtype=string)\n",
            "tf.Tensor(b'datasets/housing/my_train_11.csv', shape=(), dtype=string)\n",
            "tf.Tensor(b'datasets/housing/my_train_15.csv', shape=(), dtype=string)\n",
            "tf.Tensor(b'datasets/housing/my_train_05.csv', shape=(), dtype=string)\n",
            "tf.Tensor(b'datasets/housing/my_train_13.csv', shape=(), dtype=string)\n",
            "tf.Tensor(b'datasets/housing/my_train_00.csv', shape=(), dtype=string)\n",
            "tf.Tensor(b'datasets/housing/my_train_14.csv', shape=(), dtype=string)\n",
            "tf.Tensor(b'datasets/housing/my_train_16.csv', shape=(), dtype=string)\n",
            "tf.Tensor(b'datasets/housing/my_train_17.csv', shape=(), dtype=string)\n",
            "tf.Tensor(b'datasets/housing/my_train_12.csv', shape=(), dtype=string)\n",
            "tf.Tensor(b'datasets/housing/my_train_04.csv', shape=(), dtype=string)\n",
            "tf.Tensor(b'datasets/housing/my_train_01.csv', shape=(), dtype=string)\n",
            "tf.Tensor(b'datasets/housing/my_train_10.csv', shape=(), dtype=string)\n",
            "tf.Tensor(b'datasets/housing/my_train_08.csv', shape=(), dtype=string)\n",
            "tf.Tensor(b'datasets/housing/my_train_03.csv', shape=(), dtype=string)\n",
            "tf.Tensor(b'datasets/housing/my_train_19.csv', shape=(), dtype=string)\n",
            "tf.Tensor(b'datasets/housing/my_train_07.csv', shape=(), dtype=string)\n"
          ],
          "name": "stdout"
        }
      ]
    },
    {
      "metadata": {
        "id": "A8pzq-yIVFYs",
        "colab_type": "text"
      },
      "cell_type": "markdown",
      "source": [
        "### 1.2)\n",
        "Use the filename dataset's `interleave()` method to create a dataset that will read from these CSV files, interleaving their lines. The first argument needs to be a function (e.g., a `lambda`) that creates a `tf.data.TextLineDataset` based on a filename, and you must also set `cycle_length=5` so that the reader interleaves data from 5 files at a time. Print the first 15 elements from this dataset to see that you do indeed get interleaved lines from multiple CSV files (you should get the first line from 5 files, then the second line from these same files, then the third lines). **Tip**: To get only the first 15 elements, you can call the dataset's `take()` method."
      ]
    },
    {
      "metadata": {
        "id": "0ea3FTYJVFYs",
        "colab_type": "code",
        "colab": {}
      },
      "cell_type": "code",
      "source": [
        "n_readers = 5\n",
        "dataset = filename_dataset.interleave(\n",
        "    lambda filename: tf.data.TextLineDataset(filename),\n",
        "    cycle_length=n_readers)"
      ],
      "execution_count": 0,
      "outputs": []
    },
    {
      "metadata": {
        "id": "74UB1jaQVFYv",
        "colab_type": "code",
        "colab": {
          "base_uri": "https://localhost:8080/",
          "height": 281
        },
        "outputId": "bcbd1c5c-eb2a-4ffe-e4c1-4a298913420d"
      },
      "cell_type": "code",
      "source": [
        "for line in dataset.take(15):\n",
        "    print(line.numpy())"
      ],
      "execution_count": 24,
      "outputs": [
        {
          "output_type": "stream",
          "text": [
            "b'ScaledMedInc,ScaledHouseAge,ScaledAveRooms,ScaledAveBedrms,ScaledPopulation,ScaledAveOccup,ScaledLatitude,ScaledLongitude,MedianHouseValue'\n",
            "b'ScaledMedInc,ScaledHouseAge,ScaledAveRooms,ScaledAveBedrms,ScaledPopulation,ScaledAveOccup,ScaledLatitude,ScaledLongitude,MedianHouseValue'\n",
            "b'ScaledMedInc,ScaledHouseAge,ScaledAveRooms,ScaledAveBedrms,ScaledPopulation,ScaledAveOccup,ScaledLatitude,ScaledLongitude,MedianHouseValue'\n",
            "b'ScaledMedInc,ScaledHouseAge,ScaledAveRooms,ScaledAveBedrms,ScaledPopulation,ScaledAveOccup,ScaledLatitude,ScaledLongitude,MedianHouseValue'\n",
            "b'ScaledMedInc,ScaledHouseAge,ScaledAveRooms,ScaledAveBedrms,ScaledPopulation,ScaledAveOccup,ScaledLatitude,ScaledLongitude,MedianHouseValue'\n",
            "b'-0.024176007174509982,0.5043504246069844,0.00212128454489414,-0.30513623525742406,-0.2466609690298131,-0.03432783615893503,1.0838585925393653,-1.2322438264027185,1.598'\n",
            "b'0.040351161842169386,0.9789995090058892,-0.07691011512531241,-0.2752211829745268,-0.4638618162042714,0.12743389367534086,-0.7806884239318712,0.7568282349414766,1.698'\n",
            "b'-0.3486973864174858,1.849189497070548,-0.03272723737549597,-0.3271307378214623,-0.24392314322509304,-0.26118675558589094,1.0838585925393653,-0.8624163577105846,1.076'\n",
            "b'-1.1704236483514832,0.42524224387383364,-0.3924748357220255,-0.02568858296662803,-0.06048881430884885,0.1097421245508374,1.074489009542021,-1.3821738812779074,1.052'\n",
            "b'1.079175731872057,-0.2076232019913727,0.29038221171575174,-0.19911096326528077,0.04993682648152701,-0.16375703079978124,-0.5370792660009547,-0.08278007235959324,4.384'\n",
            "b'0.41326791784765465,-0.3658395634576743,-0.07742256595420528,-0.15877566648584598,0.45969808858796307,-0.298086570677949,-0.9352865433880281,0.8417885993707449,2.455'\n",
            "b'-0.6061775510976777,-0.8404886478565791,0.6388150598489173,1.1032179099732906,-0.388115302273683,-0.22368679653603313,1.2993590014782521,-0.41762386158085274,0.919'\n",
            "b'0.6120346438365335,-0.2076232019913727,0.3325242577238029,-0.17968184847856714,-0.9840487191010833,-0.08082838420841365,-1.3288090292764276,1.2066183995670436,1.857'\n",
            "b'-0.13704617700482194,-1.7106786359212378,0.12184594280275339,-0.06307880222008,2.714753943075721,0.056106892772399004,-1.1226782033348852,1.1316533721294526,1.709'\n",
            "b'1.288836655227388,-0.8404886478565791,0.3436545033445117,-0.2506770906876236,-0.3068931367336545,0.05591751260913,-1.221058824806986,1.1616393831044847,2.783'\n"
          ],
          "name": "stdout"
        }
      ]
    },
    {
      "metadata": {
        "id": "gVSVfgiPVFYw",
        "colab_type": "text"
      },
      "cell_type": "markdown",
      "source": [
        "### 1.3)\n",
        "We do not care about the header lines, so let's skip them. You can use the `skip()` method for this. Print the first five elements of your final dataset to make sure it does not print any header lines. **Tip**: make sure to call `skip()` for each `TextLineDataset`, not for the interleave dataset."
      ]
    },
    {
      "metadata": {
        "id": "uXuz0SD2VFYw",
        "colab_type": "code",
        "colab": {}
      },
      "cell_type": "code",
      "source": [
        "dataset = filename_dataset.interleave(\n",
        "    lambda filename: tf.data.TextLineDataset(filename).skip(1),\n",
        "    cycle_length=n_readers)"
      ],
      "execution_count": 0,
      "outputs": []
    },
    {
      "metadata": {
        "id": "nxKgnNkWVFYx",
        "colab_type": "code",
        "colab": {
          "base_uri": "https://localhost:8080/",
          "height": 118
        },
        "outputId": "22761cdc-fb3a-4380-d9d9-895bdd09a21b"
      },
      "cell_type": "code",
      "source": [
        "for line in dataset.take(5):\n",
        "    print(line.numpy())"
      ],
      "execution_count": 26,
      "outputs": [
        {
          "output_type": "stream",
          "text": [
            "b'-0.024176007174509982,0.5043504246069844,0.00212128454489414,-0.30513623525742406,-0.2466609690298131,-0.03432783615893503,1.0838585925393653,-1.2322438264027185,1.598'\n",
            "b'0.040351161842169386,0.9789995090058892,-0.07691011512531241,-0.2752211829745268,-0.4638618162042714,0.12743389367534086,-0.7806884239318712,0.7568282349414766,1.698'\n",
            "b'-0.3486973864174858,1.849189497070548,-0.03272723737549597,-0.3271307378214623,-0.24392314322509304,-0.26118675558589094,1.0838585925393653,-0.8624163577105846,1.076'\n",
            "b'-1.1704236483514832,0.42524224387383364,-0.3924748357220255,-0.02568858296662803,-0.06048881430884885,0.1097421245508374,1.074489009542021,-1.3821738812779074,1.052'\n",
            "b'1.079175731872057,-0.2076232019913727,0.29038221171575174,-0.19911096326528077,0.04993682648152701,-0.16375703079978124,-0.5370792660009547,-0.08278007235959324,4.384'\n"
          ],
          "name": "stdout"
        }
      ]
    },
    {
      "metadata": {
        "id": "QbnC4dn7VFYy",
        "colab_type": "text"
      },
      "cell_type": "markdown",
      "source": [
        "### 1.4)\n",
        "We need to parse these CSV lines. First, experiment with the `tf.io.decode_csv()` function using the example below (e.g., look at the types, try removing some field values, etc.)."
      ]
    },
    {
      "metadata": {
        "id": "B-xEDBmcVFYz",
        "colab_type": "text"
      },
      "cell_type": "markdown",
      "source": [
        "Notice that field 4 is interpreted as a string."
      ]
    },
    {
      "metadata": {
        "id": "HHsmQf-2VFY0",
        "colab_type": "code",
        "colab": {
          "base_uri": "https://localhost:8080/",
          "height": 98
        },
        "outputId": "80f21567-9408-4791-c36a-2b1e2f746fab"
      },
      "cell_type": "code",
      "source": [
        "record_defaults=[0, np.nan, tf.constant(np.nan, dtype=tf.float64), \"Hello\", tf.constant([])]\n",
        "parsed_fields = tf.io.decode_csv('1,2,3,4,5', record_defaults)\n",
        "parsed_fields"
      ],
      "execution_count": 27,
      "outputs": [
        {
          "output_type": "execute_result",
          "data": {
            "text/plain": [
              "[<tf.Tensor: id=322, shape=(), dtype=int32, numpy=1>,\n",
              " <tf.Tensor: id=323, shape=(), dtype=float32, numpy=2.0>,\n",
              " <tf.Tensor: id=324, shape=(), dtype=float64, numpy=3.0>,\n",
              " <tf.Tensor: id=325, shape=(), dtype=string, numpy=b'4'>,\n",
              " <tf.Tensor: id=326, shape=(), dtype=float32, numpy=5.0>]"
            ]
          },
          "metadata": {
            "tags": []
          },
          "execution_count": 27
        }
      ]
    },
    {
      "metadata": {
        "id": "QDaJr1XlVFY2",
        "colab_type": "text"
      },
      "cell_type": "markdown",
      "source": [
        "Notice that all missing fields are replaced with their default value, when provided:"
      ]
    },
    {
      "metadata": {
        "id": "RgkHG7h_VFY2",
        "colab_type": "code",
        "colab": {
          "base_uri": "https://localhost:8080/",
          "height": 98
        },
        "outputId": "0631d1f4-b86a-456f-afdd-6fa6304ca621"
      },
      "cell_type": "code",
      "source": [
        "parsed_fields = tf.io.decode_csv(',,,,5', record_defaults)\n",
        "parsed_fields"
      ],
      "execution_count": 28,
      "outputs": [
        {
          "output_type": "execute_result",
          "data": {
            "text/plain": [
              "[<tf.Tensor: id=336, shape=(), dtype=int32, numpy=0>,\n",
              " <tf.Tensor: id=337, shape=(), dtype=float32, numpy=nan>,\n",
              " <tf.Tensor: id=338, shape=(), dtype=float64, numpy=nan>,\n",
              " <tf.Tensor: id=339, shape=(), dtype=string, numpy=b'Hello'>,\n",
              " <tf.Tensor: id=340, shape=(), dtype=float32, numpy=5.0>]"
            ]
          },
          "metadata": {
            "tags": []
          },
          "execution_count": 28
        }
      ]
    },
    {
      "metadata": {
        "id": "6b2YVyCMVFY4",
        "colab_type": "text"
      },
      "cell_type": "markdown",
      "source": [
        "The 5th field is compulsory (since we provided `tf.constant([])` as the \"default value\"), so we get an exception if we do not provide it:"
      ]
    },
    {
      "metadata": {
        "id": "pZD-Plz0VFY4",
        "colab_type": "code",
        "colab": {
          "base_uri": "https://localhost:8080/",
          "height": 33
        },
        "outputId": "cd799aa5-0ea2-406c-a9ef-d7297efdfda6"
      },
      "cell_type": "code",
      "source": [
        "try:\n",
        "    parsed_fields = tf.io.decode_csv(',,,,', record_defaults)\n",
        "except tf.errors.InvalidArgumentError as ex:\n",
        "    print(ex)"
      ],
      "execution_count": 29,
      "outputs": [
        {
          "output_type": "stream",
          "text": [
            "Field 4 is required but missing in record 0! [Op:DecodeCSV]\n"
          ],
          "name": "stdout"
        }
      ]
    },
    {
      "metadata": {
        "id": "s9SXRoqEVFY5",
        "colab_type": "text"
      },
      "cell_type": "markdown",
      "source": [
        "The number of fields should match exactly the number of fields in the `record_defaults`:"
      ]
    },
    {
      "metadata": {
        "id": "_L9HzT3xVFY6",
        "colab_type": "code",
        "colab": {
          "base_uri": "https://localhost:8080/",
          "height": 33
        },
        "outputId": "b4bb6a57-045d-461b-b5bd-5b9a648e8179"
      },
      "cell_type": "code",
      "source": [
        "try:\n",
        "    parsed_fields = tf.io.decode_csv('1,2,3,4,5,6,7', record_defaults)\n",
        "except tf.errors.InvalidArgumentError as ex:\n",
        "    print(ex)"
      ],
      "execution_count": 30,
      "outputs": [
        {
          "output_type": "stream",
          "text": [
            "Expect 5 fields but have 7 in record 0 [Op:DecodeCSV]\n"
          ],
          "name": "stdout"
        }
      ]
    },
    {
      "metadata": {
        "id": "3oJ2p4VDVFY8",
        "colab_type": "text"
      },
      "cell_type": "markdown",
      "source": [
        "### 1.5)\n",
        "Now you are ready to create a function to parse a CSV line:\n",
        "* Create a `parse_csv_line()` function that takes a single line as argument.\n",
        "* Call `tf.io.decode_csv()` to parse that line.\n",
        "* Call `tf.stack()` to create a single tensor containing all the input features (i.e., all fields except the last one).\n",
        "* Reshape the labels field (i.e., the last field) to give it a shape of `[1]` instead of `[]` (i.e., it must not be a scalar). You can use `tf.reshape(label_field, [1])`, or call `tf.stack([label_field])`, or use `label_field[tf.newaxis]`.\n",
        "* Return a tuple with both tensors (input features and labels).\n",
        "* Try calling it on a single line from one of the CSV files."
      ]
    },
    {
      "metadata": {
        "scrolled": false,
        "id": "KwAQVS3vVFY8",
        "colab_type": "code",
        "colab": {}
      },
      "cell_type": "code",
      "source": [
        "n_inputs = X_train.shape[1]\n",
        "\n",
        "def parse_csv_line(line, n_inputs=n_inputs):\n",
        "    defs = [tf.constant(np.nan)] * (n_inputs + 1)\n",
        "    fields = tf.io.decode_csv(line, record_defaults=defs)\n",
        "    x = tf.stack(fields[:-1])\n",
        "    y = tf.stack(fields[-1:])\n",
        "    return x, y"
      ],
      "execution_count": 0,
      "outputs": []
    },
    {
      "metadata": {
        "id": "YspXzqHzVFY-",
        "colab_type": "code",
        "colab": {
          "base_uri": "https://localhost:8080/",
          "height": 82
        },
        "outputId": "2ef70265-67a2-473f-ad7d-6282570c22e7"
      },
      "cell_type": "code",
      "source": [
        "parse_csv_line(b'-0.739840972632228,-0.3658395634576743,-0.784679995482575,0.07414513752253027,0.7544706668961565,0.407700592469922,-0.686992593958441,0.6019005115704453,2.0')"
      ],
      "execution_count": 32,
      "outputs": [
        {
          "output_type": "execute_result",
          "data": {
            "text/plain": [
              "(<tf.Tensor: id=365, shape=(8,), dtype=float32, numpy=\n",
              " array([-0.739841  , -0.36583957, -0.78468   ,  0.07414514,  0.75447065,\n",
              "         0.4077006 , -0.6869926 ,  0.6019005 ], dtype=float32)>,\n",
              " <tf.Tensor: id=366, shape=(1,), dtype=float32, numpy=array([2.], dtype=float32)>)"
            ]
          },
          "metadata": {
            "tags": []
          },
          "execution_count": 32
        }
      ]
    },
    {
      "metadata": {
        "id": "7nviA6MxVFY_",
        "colab_type": "text"
      },
      "cell_type": "markdown",
      "source": [
        "### 1.6)\n",
        "Now create a `csv_reader_dataset()` function that takes a list of CSV filenames and returns a dataset that will provide batches of parsed and shuffled data from these files, including the features and labels, repeating the whole data once per epoch."
      ]
    },
    {
      "metadata": {
        "id": "nH405JY3VFY_",
        "colab_type": "code",
        "colab": {}
      },
      "cell_type": "code",
      "source": [
        "def csv_reader_dataset(filenames, n_parse_threads=5, batch_size=32,\n",
        "                       shuffle_buffer_size=10000, n_readers=5):\n",
        "    dataset = tf.data.Dataset.list_files(filenames)\n",
        "    dataset = dataset.repeat()\n",
        "    dataset = dataset.interleave(\n",
        "        lambda filename: tf.data.TextLineDataset(filename).skip(1),\n",
        "        cycle_length=n_readers)\n",
        "    dataset = dataset.shuffle(shuffle_buffer_size)\n",
        "    dataset = dataset.map(parse_csv_line, num_parallel_calls=n_parse_threads)\n",
        "    dataset = dataset.batch(batch_size)\n",
        "    return dataset.prefetch(1)"
      ],
      "execution_count": 0,
      "outputs": []
    },
    {
      "metadata": {
        "id": "zpVi2p-GVFZB",
        "colab_type": "text"
      },
      "cell_type": "markdown",
      "source": [
        "This version uses `map_and_batch()` to get a performance boost (but remember that this feature is experimental and will eventually be deprecated, as explained earlier):"
      ]
    },
    {
      "metadata": {
        "id": "ZUtRQOTUVFZB",
        "colab_type": "code",
        "colab": {}
      },
      "cell_type": "code",
      "source": [
        "def csv_reader_dataset(filenames, batch_size=32,\n",
        "                       shuffle_buffer_size=10000, n_readers=5):\n",
        "    dataset = tf.data.Dataset.list_files(filenames)\n",
        "    dataset = dataset.repeat()\n",
        "    dataset = dataset.interleave(\n",
        "        lambda filename: tf.data.TextLineDataset(filename).skip(1),\n",
        "        cycle_length=n_readers)\n",
        "    dataset = dataset.shuffle(shuffle_buffer_size)\n",
        "    dataset = dataset.apply(\n",
        "        tf.data.experimental.map_and_batch(\n",
        "            parse_csv_line,\n",
        "            batch_size,\n",
        "            num_parallel_calls=tf.data.experimental.AUTOTUNE))\n",
        "    return dataset.prefetch(1)"
      ],
      "execution_count": 0,
      "outputs": []
    },
    {
      "metadata": {
        "id": "6GaCyfFuVFZC",
        "colab_type": "code",
        "colab": {
          "base_uri": "https://localhost:8080/",
          "height": 476
        },
        "outputId": "e459803a-b63a-4e61-a1a1-967400a32b85"
      },
      "cell_type": "code",
      "source": [
        "train_set = csv_reader_dataset(train_filenames, batch_size=3)\n",
        "for X_batch, y_batch in train_set.take(2):\n",
        "    print(\"X =\", X_batch)\n",
        "    print(\"y =\", y_batch)\n",
        "    print()"
      ],
      "execution_count": 35,
      "outputs": [
        {
          "output_type": "stream",
          "text": [
            "W0314 08:41:08.260618 139902075590528 deprecation.py:323] From <ipython-input-34-94bb0b055570>:13: map_and_batch (from tensorflow.python.data.experimental.ops.batching) is deprecated and will be removed in a future version.\n",
            "Instructions for updating:\n",
            "Use `tf.data.Dataset.map(map_func, num_parallel_calls)` followed by `tf.data.Dataset.batch(batch_size, drop_remainder)`. Static tf.data optimizations will take care of using the fused implementation.\n"
          ],
          "name": "stderr"
        },
        {
          "output_type": "stream",
          "text": [
            "X = tf.Tensor(\n",
            "[[-1.4272753   0.6625668  -0.5619336  -0.26302308 -0.2713014   0.10670014\n",
            "  -0.71510136  1.136651  ]\n",
            " [-0.34209803 -0.6031641  -0.34395382  0.04649562 -0.39085314 -0.35560456\n",
            "  -0.6916774   0.5669168 ]\n",
            " [ 0.307678   -1.0778131  -0.18597586 -0.13511217  0.09374204  0.44423482\n",
            "   0.7793471  -1.1122998 ]], shape=(3, 8), dtype=float32)\n",
            "y = tf.Tensor(\n",
            "[[0.709]\n",
            " [2.773]\n",
            " [2.125]], shape=(3, 1), dtype=float32)\n",
            "\n",
            "X = tf.Tensor(\n",
            "[[-0.3386412  -0.91959685  0.15120742  0.10699835  0.55825984 -0.28425157\n",
            "   1.3743156  -1.622062  ]\n",
            " [-0.90519184  0.5834586  -0.16617443 -0.12777483 -0.4492601   0.33205378\n",
            "  -0.06860012  0.20208703]\n",
            " [ 0.6750429  -1.5524622  -0.40761745 -0.13951427  0.09647986 -0.4501417\n",
            "  -0.8650147   0.7118492 ]], shape=(3, 8), dtype=float32)\n",
            "y = tf.Tensor(\n",
            "[[1.688]\n",
            " [1.104]\n",
            " [1.75 ]], shape=(3, 1), dtype=float32)\n",
            "\n"
          ],
          "name": "stdout"
        }
      ]
    },
    {
      "metadata": {
        "id": "HBRhKoTOVFZD",
        "colab_type": "text"
      },
      "cell_type": "markdown",
      "source": [
        "### 1.7)\n",
        "Build a training set, a validation set and a test set using your `csv_reader_dataset()` function."
      ]
    },
    {
      "metadata": {
        "id": "AfnRz4-MVFZD",
        "colab_type": "code",
        "colab": {}
      },
      "cell_type": "code",
      "source": [
        "batch_size = 32\n",
        "train_set = csv_reader_dataset(train_filenames, batch_size)\n",
        "valid_set = csv_reader_dataset(valid_filenames, batch_size)\n",
        "test_set = csv_reader_dataset(test_filenames, batch_size)"
      ],
      "execution_count": 0,
      "outputs": []
    },
    {
      "metadata": {
        "id": "Dgb7kIzaVFZE",
        "colab_type": "text"
      },
      "cell_type": "markdown",
      "source": [
        "### 1.8)\n",
        "Build and compile a Keras model for this regression task, and use your datasets to train it, evaluate it and make predictions for the test set."
      ]
    },
    {
      "metadata": {
        "id": "ljJTn5yAVFZF",
        "colab_type": "code",
        "colab": {}
      },
      "cell_type": "code",
      "source": [
        "model = keras.models.Sequential([\n",
        "    keras.layers.Dense(30, activation=\"relu\", input_shape=[n_inputs]),\n",
        "    keras.layers.Dense(1),\n",
        "])"
      ],
      "execution_count": 0,
      "outputs": []
    },
    {
      "metadata": {
        "id": "RBftZVsXVFZG",
        "colab_type": "code",
        "colab": {}
      },
      "cell_type": "code",
      "source": [
        "model.compile(loss=\"mse\", optimizer=\"sgd\")"
      ],
      "execution_count": 0,
      "outputs": []
    },
    {
      "metadata": {
        "id": "gGcFrCsJVFZH",
        "colab_type": "code",
        "colab": {
          "base_uri": "https://localhost:8080/",
          "height": 358
        },
        "outputId": "3fa6e18e-35af-4ea7-d3dd-e26260a34e84"
      },
      "cell_type": "code",
      "source": [
        "model.fit(train_set, steps_per_epoch=len(X_train) // batch_size, epochs=10,\n",
        "          validation_data=valid_set, validation_steps=len(X_valid) // batch_size)"
      ],
      "execution_count": 39,
      "outputs": [
        {
          "output_type": "stream",
          "text": [
            "Epoch 1/10\n",
            "362/362 [==============================] - 3s 8ms/step - loss: 2.4179 - val_loss: 5.3323\n",
            "Epoch 2/10\n",
            "362/362 [==============================] - 2s 7ms/step - loss: 0.9409 - val_loss: 0.8925\n",
            "Epoch 3/10\n",
            "362/362 [==============================] - 2s 7ms/step - loss: 0.7633 - val_loss: 1.9583\n",
            "Epoch 4/10\n",
            "362/362 [==============================] - 2s 7ms/step - loss: 0.7610 - val_loss: 0.6942\n",
            "Epoch 5/10\n",
            "362/362 [==============================] - 2s 7ms/step - loss: 0.6727 - val_loss: 0.6536\n",
            "Epoch 6/10\n",
            "362/362 [==============================] - 2s 7ms/step - loss: 0.6425 - val_loss: 0.5722\n",
            "Epoch 7/10\n",
            "362/362 [==============================] - 2s 7ms/step - loss: 0.5967 - val_loss: 1.0798\n",
            "Epoch 8/10\n",
            "362/362 [==============================] - 2s 7ms/step - loss: 0.5664 - val_loss: 0.5199\n",
            "Epoch 9/10\n",
            "362/362 [==============================] - 2s 7ms/step - loss: 0.5715 - val_loss: 0.5985\n",
            "Epoch 10/10\n",
            "362/362 [==============================] - 2s 7ms/step - loss: 0.5458 - val_loss: 0.4857\n"
          ],
          "name": "stdout"
        },
        {
          "output_type": "execute_result",
          "data": {
            "text/plain": [
              "<tensorflow.python.keras.callbacks.History at 0x7f3ce84aea90>"
            ]
          },
          "metadata": {
            "tags": []
          },
          "execution_count": 39
        }
      ]
    },
    {
      "metadata": {
        "id": "tdzwzg0MVFZI",
        "colab_type": "code",
        "colab": {
          "base_uri": "https://localhost:8080/",
          "height": 50
        },
        "outputId": "dccb8a0c-6481-4314-8e90-239083958330"
      },
      "cell_type": "code",
      "source": [
        "model.evaluate(test_set, steps=len(X_test) // batch_size)"
      ],
      "execution_count": 40,
      "outputs": [
        {
          "output_type": "stream",
          "text": [
            "161/161 [==============================] - 1s 3ms/step - loss: 0.5081\n"
          ],
          "name": "stdout"
        },
        {
          "output_type": "execute_result",
          "data": {
            "text/plain": [
              "0.50808290174659"
            ]
          },
          "metadata": {
            "tags": []
          },
          "execution_count": 40
        }
      ]
    },
    {
      "metadata": {
        "scrolled": true,
        "id": "c0VdRcEQVFZK",
        "colab_type": "code",
        "colab": {
          "base_uri": "https://localhost:8080/",
          "height": 131
        },
        "outputId": "00d47061-ecd3-4e61-dc21-10df9008c7da"
      },
      "cell_type": "code",
      "source": [
        "new_set = test_set.map(lambda X, y: X)\n",
        "model.predict(new_set, steps=len(X_test) // batch_size)"
      ],
      "execution_count": 41,
      "outputs": [
        {
          "output_type": "execute_result",
          "data": {
            "text/plain": [
              "array([[1.3673422],\n",
              "       [1.659324 ],\n",
              "       [3.731946 ],\n",
              "       ...,\n",
              "       [1.6220117],\n",
              "       [1.6652967],\n",
              "       [3.197764 ]], dtype=float32)"
            ]
          },
          "metadata": {
            "tags": []
          },
          "execution_count": 41
        }
      ]
    },
    {
      "metadata": {
        "id": "jVx7JlitVFZM",
        "colab_type": "text"
      },
      "cell_type": "markdown",
      "source": [
        "![Exercise](https://c1.staticflickr.com/9/8101/8553474140_c50cf08708_b.jpg)"
      ]
    },
    {
      "metadata": {
        "id": "aXSOFTbsVFZN",
        "colab_type": "text"
      },
      "cell_type": "markdown",
      "source": [
        "## Exercise 2 – The `TFRecord` binary format"
      ]
    },
    {
      "metadata": {
        "id": "xnMxbyIfVFZN",
        "colab_type": "text"
      },
      "cell_type": "markdown",
      "source": [
        "### Code examples"
      ]
    },
    {
      "metadata": {
        "id": "OVLlyVk1VFZO",
        "colab_type": "text"
      },
      "cell_type": "markdown",
      "source": [
        "You can walk through these code examples or jump down to the [actual exercise](#Actual-exercise) below."
      ]
    },
    {
      "metadata": {
        "id": "ALKSHVArVFZO",
        "colab_type": "code",
        "colab": {
          "base_uri": "https://localhost:8080/",
          "height": 66
        },
        "outputId": "0604f5bb-0308-4b5d-d263-4164641e5be6"
      },
      "cell_type": "code",
      "source": [
        "favorite_books = [name.encode(\"utf-8\")\n",
        "                  for name in [\"Arluk\", \"Fahrenheit 451\", \"L'étranger\"]]\n",
        "favorite_books = tf.train.BytesList(value=favorite_books)\n",
        "favorite_books"
      ],
      "execution_count": 42,
      "outputs": [
        {
          "output_type": "execute_result",
          "data": {
            "text/plain": [
              "value: \"Arluk\"\n",
              "value: \"Fahrenheit 451\"\n",
              "value: \"L\\'\\303\\251tranger\""
            ]
          },
          "metadata": {
            "tags": []
          },
          "execution_count": 42
        }
      ]
    },
    {
      "metadata": {
        "id": "OCDAlujAVFZS",
        "colab_type": "code",
        "colab": {
          "base_uri": "https://localhost:8080/",
          "height": 98
        },
        "outputId": "c66be327-a25e-4bc1-ea1a-655cd90f5db0"
      },
      "cell_type": "code",
      "source": [
        "hours_per_month = tf.train.FloatList(value=[15.5, 9.5, np.nan, 6.0, 9.0])\n",
        "hours_per_month"
      ],
      "execution_count": 43,
      "outputs": [
        {
          "output_type": "execute_result",
          "data": {
            "text/plain": [
              "value: 15.5\n",
              "value: 9.5\n",
              "value: nan\n",
              "value: 6.0\n",
              "value: 9.0"
            ]
          },
          "metadata": {
            "tags": []
          },
          "execution_count": 43
        }
      ]
    },
    {
      "metadata": {
        "id": "l7mZexgPVFZU",
        "colab_type": "code",
        "colab": {
          "base_uri": "https://localhost:8080/",
          "height": 33
        },
        "outputId": "69aa4f57-b104-4430-f5e9-61fa336cf002"
      },
      "cell_type": "code",
      "source": [
        "age = tf.train.Int64List(value=[42])\n",
        "age"
      ],
      "execution_count": 44,
      "outputs": [
        {
          "output_type": "execute_result",
          "data": {
            "text/plain": [
              "value: 42"
            ]
          },
          "metadata": {
            "tags": []
          },
          "execution_count": 44
        }
      ]
    },
    {
      "metadata": {
        "id": "3gPnO6RxVFZX",
        "colab_type": "code",
        "colab": {
          "base_uri": "https://localhost:8080/",
          "height": 50
        },
        "outputId": "bd7500c6-b7f9-4aa5-ecb4-434f6f000372"
      },
      "cell_type": "code",
      "source": [
        "coordinates = tf.train.FloatList(value=[1.2834, 103.8607])\n",
        "coordinates"
      ],
      "execution_count": 45,
      "outputs": [
        {
          "output_type": "execute_result",
          "data": {
            "text/plain": [
              "value: 1.283400058746338\n",
              "value: 103.86070251464844"
            ]
          },
          "metadata": {
            "tags": []
          },
          "execution_count": 45
        }
      ]
    },
    {
      "metadata": {
        "id": "3ahmZ1oHVFZY",
        "colab_type": "code",
        "colab": {
          "base_uri": "https://localhost:8080/",
          "height": 651
        },
        "outputId": "86ed5b5a-dd9e-45f4-ec39-fbbb2b11968a"
      },
      "cell_type": "code",
      "source": [
        "features = tf.train.Features(\n",
        "    feature={\n",
        "        \"favorite_books\": tf.train.Feature(bytes_list=favorite_books),\n",
        "        \"hours_per_month\": tf.train.Feature(float_list=hours_per_month),\n",
        "        \"age\": tf.train.Feature(int64_list=age),\n",
        "        \"coordinates\": tf.train.Feature(float_list=coordinates),\n",
        "    }\n",
        ")\n",
        "features"
      ],
      "execution_count": 46,
      "outputs": [
        {
          "output_type": "execute_result",
          "data": {
            "text/plain": [
              "feature {\n",
              "  key: \"age\"\n",
              "  value {\n",
              "    int64_list {\n",
              "      value: 42\n",
              "    }\n",
              "  }\n",
              "}\n",
              "feature {\n",
              "  key: \"coordinates\"\n",
              "  value {\n",
              "    float_list {\n",
              "      value: 1.283400058746338\n",
              "      value: 103.86070251464844\n",
              "    }\n",
              "  }\n",
              "}\n",
              "feature {\n",
              "  key: \"favorite_books\"\n",
              "  value {\n",
              "    bytes_list {\n",
              "      value: \"Arluk\"\n",
              "      value: \"Fahrenheit 451\"\n",
              "      value: \"L\\'\\303\\251tranger\"\n",
              "    }\n",
              "  }\n",
              "}\n",
              "feature {\n",
              "  key: \"hours_per_month\"\n",
              "  value {\n",
              "    float_list {\n",
              "      value: 15.5\n",
              "      value: 9.5\n",
              "      value: nan\n",
              "      value: 6.0\n",
              "      value: 9.0\n",
              "    }\n",
              "  }\n",
              "}"
            ]
          },
          "metadata": {
            "tags": []
          },
          "execution_count": 46
        }
      ]
    },
    {
      "metadata": {
        "id": "gX3dQlObVFZZ",
        "colab_type": "code",
        "colab": {
          "base_uri": "https://localhost:8080/",
          "height": 683
        },
        "outputId": "01234839-c032-486c-f67c-ff54ebd0f794"
      },
      "cell_type": "code",
      "source": [
        "example = tf.train.Example(features=features)\n",
        "example"
      ],
      "execution_count": 47,
      "outputs": [
        {
          "output_type": "execute_result",
          "data": {
            "text/plain": [
              "features {\n",
              "  feature {\n",
              "    key: \"age\"\n",
              "    value {\n",
              "      int64_list {\n",
              "        value: 42\n",
              "      }\n",
              "    }\n",
              "  }\n",
              "  feature {\n",
              "    key: \"coordinates\"\n",
              "    value {\n",
              "      float_list {\n",
              "        value: 1.283400058746338\n",
              "        value: 103.86070251464844\n",
              "      }\n",
              "    }\n",
              "  }\n",
              "  feature {\n",
              "    key: \"favorite_books\"\n",
              "    value {\n",
              "      bytes_list {\n",
              "        value: \"Arluk\"\n",
              "        value: \"Fahrenheit 451\"\n",
              "        value: \"L\\'\\303\\251tranger\"\n",
              "      }\n",
              "    }\n",
              "  }\n",
              "  feature {\n",
              "    key: \"hours_per_month\"\n",
              "    value {\n",
              "      float_list {\n",
              "        value: 15.5\n",
              "        value: 9.5\n",
              "        value: nan\n",
              "        value: 6.0\n",
              "        value: 9.0\n",
              "      }\n",
              "    }\n",
              "  }\n",
              "}"
            ]
          },
          "metadata": {
            "tags": []
          },
          "execution_count": 47
        }
      ]
    },
    {
      "metadata": {
        "id": "wtSIiyffVFZb",
        "colab_type": "code",
        "colab": {
          "base_uri": "https://localhost:8080/",
          "height": 53
        },
        "outputId": "082e3097-1b18-4279-defd-f0e2ebc1c27b"
      },
      "cell_type": "code",
      "source": [
        "serialized_example = example.SerializeToString()\n",
        "serialized_example"
      ],
      "execution_count": 48,
      "outputs": [
        {
          "output_type": "execute_result",
          "data": {
            "text/plain": [
              "b\"\\n\\x92\\x01\\n+\\n\\x0fhours_per_month\\x12\\x18\\x12\\x16\\n\\x14\\x00\\x00xA\\x00\\x00\\x18A\\x00\\x00\\xc0\\x7f\\x00\\x00\\xc0@\\x00\\x00\\x10A\\n\\x0c\\n\\x03age\\x12\\x05\\x1a\\x03\\n\\x01*\\n8\\n\\x0efavorite_books\\x12&\\n$\\n\\x05Arluk\\n\\x0eFahrenheit 451\\n\\x0bL'\\xc3\\xa9tranger\\n\\x1b\\n\\x0bcoordinates\\x12\\x0c\\x12\\n\\n\\x08tF\\xa4?\\xae\\xb8\\xcfB\""
            ]
          },
          "metadata": {
            "tags": []
          },
          "execution_count": 48
        }
      ]
    },
    {
      "metadata": {
        "id": "bQHRbJChVFZf",
        "colab_type": "code",
        "colab": {}
      },
      "cell_type": "code",
      "source": [
        "filename = \"my_reading_data.tfrecords\"\n",
        "with tf.io.TFRecordWriter(filename) as writer:\n",
        "    for i in range(3): # you should save different examples instead! :)\n",
        "        writer.write(serialized_example)"
      ],
      "execution_count": 0,
      "outputs": []
    },
    {
      "metadata": {
        "id": "svXQF992VFZh",
        "colab_type": "code",
        "colab": {
          "base_uri": "https://localhost:8080/",
          "height": 86
        },
        "outputId": "411ef210-8532-46f8-a677-ddd17396661c"
      },
      "cell_type": "code",
      "source": [
        "for serialized_example_tensor in tf.data.TFRecordDataset([filename]):\n",
        "    print(serialized_example_tensor)"
      ],
      "execution_count": 50,
      "outputs": [
        {
          "output_type": "stream",
          "text": [
            "tf.Tensor(b\"\\n\\x92\\x01\\n+\\n\\x0fhours_per_month\\x12\\x18\\x12\\x16\\n\\x14\\x00\\x00xA\\x00\\x00\\x18A\\x00\\x00\\xc0\\x7f\\x00\\x00\\xc0@\\x00\\x00\\x10A\\n\\x0c\\n\\x03age\\x12\\x05\\x1a\\x03\\n\\x01*\\n8\\n\\x0efavorite_books\\x12&\\n$\\n\\x05Arluk\\n\\x0eFahrenheit 451\\n\\x0bL'\\xc3\\xa9tranger\\n\\x1b\\n\\x0bcoordinates\\x12\\x0c\\x12\\n\\n\\x08tF\\xa4?\\xae\\xb8\\xcfB\", shape=(), dtype=string)\n",
            "tf.Tensor(b\"\\n\\x92\\x01\\n+\\n\\x0fhours_per_month\\x12\\x18\\x12\\x16\\n\\x14\\x00\\x00xA\\x00\\x00\\x18A\\x00\\x00\\xc0\\x7f\\x00\\x00\\xc0@\\x00\\x00\\x10A\\n\\x0c\\n\\x03age\\x12\\x05\\x1a\\x03\\n\\x01*\\n8\\n\\x0efavorite_books\\x12&\\n$\\n\\x05Arluk\\n\\x0eFahrenheit 451\\n\\x0bL'\\xc3\\xa9tranger\\n\\x1b\\n\\x0bcoordinates\\x12\\x0c\\x12\\n\\n\\x08tF\\xa4?\\xae\\xb8\\xcfB\", shape=(), dtype=string)\n",
            "tf.Tensor(b\"\\n\\x92\\x01\\n+\\n\\x0fhours_per_month\\x12\\x18\\x12\\x16\\n\\x14\\x00\\x00xA\\x00\\x00\\x18A\\x00\\x00\\xc0\\x7f\\x00\\x00\\xc0@\\x00\\x00\\x10A\\n\\x0c\\n\\x03age\\x12\\x05\\x1a\\x03\\n\\x01*\\n8\\n\\x0efavorite_books\\x12&\\n$\\n\\x05Arluk\\n\\x0eFahrenheit 451\\n\\x0bL'\\xc3\\xa9tranger\\n\\x1b\\n\\x0bcoordinates\\x12\\x0c\\x12\\n\\n\\x08tF\\xa4?\\xae\\xb8\\xcfB\", shape=(), dtype=string)\n"
          ],
          "name": "stdout"
        }
      ]
    },
    {
      "metadata": {
        "id": "203SVpjFVFZi",
        "colab_type": "code",
        "colab": {}
      },
      "cell_type": "code",
      "source": [
        "filename = \"my_reading_data.tfrecords\"\n",
        "options = tf.io.TFRecordOptions(compression_type=\"GZIP\")\n",
        "with tf.io.TFRecordWriter(filename, options) as writer:\n",
        "    for i in range(3): # you should save different examples instead! :)\n",
        "        writer.write(serialized_example)"
      ],
      "execution_count": 0,
      "outputs": []
    },
    {
      "metadata": {
        "id": "kMlt0GJLVFZj",
        "colab_type": "code",
        "colab": {
          "base_uri": "https://localhost:8080/",
          "height": 86
        },
        "outputId": "7ac98caf-7aa8-4816-bdce-670339e1c293"
      },
      "cell_type": "code",
      "source": [
        "dataset = tf.data.TFRecordDataset([filename], compression_type=\"GZIP\")\n",
        "for serialized_example_tensor in dataset:\n",
        "    print(serialized_example_tensor)"
      ],
      "execution_count": 52,
      "outputs": [
        {
          "output_type": "stream",
          "text": [
            "tf.Tensor(b\"\\n\\x92\\x01\\n+\\n\\x0fhours_per_month\\x12\\x18\\x12\\x16\\n\\x14\\x00\\x00xA\\x00\\x00\\x18A\\x00\\x00\\xc0\\x7f\\x00\\x00\\xc0@\\x00\\x00\\x10A\\n\\x0c\\n\\x03age\\x12\\x05\\x1a\\x03\\n\\x01*\\n8\\n\\x0efavorite_books\\x12&\\n$\\n\\x05Arluk\\n\\x0eFahrenheit 451\\n\\x0bL'\\xc3\\xa9tranger\\n\\x1b\\n\\x0bcoordinates\\x12\\x0c\\x12\\n\\n\\x08tF\\xa4?\\xae\\xb8\\xcfB\", shape=(), dtype=string)\n",
            "tf.Tensor(b\"\\n\\x92\\x01\\n+\\n\\x0fhours_per_month\\x12\\x18\\x12\\x16\\n\\x14\\x00\\x00xA\\x00\\x00\\x18A\\x00\\x00\\xc0\\x7f\\x00\\x00\\xc0@\\x00\\x00\\x10A\\n\\x0c\\n\\x03age\\x12\\x05\\x1a\\x03\\n\\x01*\\n8\\n\\x0efavorite_books\\x12&\\n$\\n\\x05Arluk\\n\\x0eFahrenheit 451\\n\\x0bL'\\xc3\\xa9tranger\\n\\x1b\\n\\x0bcoordinates\\x12\\x0c\\x12\\n\\n\\x08tF\\xa4?\\xae\\xb8\\xcfB\", shape=(), dtype=string)\n",
            "tf.Tensor(b\"\\n\\x92\\x01\\n+\\n\\x0fhours_per_month\\x12\\x18\\x12\\x16\\n\\x14\\x00\\x00xA\\x00\\x00\\x18A\\x00\\x00\\xc0\\x7f\\x00\\x00\\xc0@\\x00\\x00\\x10A\\n\\x0c\\n\\x03age\\x12\\x05\\x1a\\x03\\n\\x01*\\n8\\n\\x0efavorite_books\\x12&\\n$\\n\\x05Arluk\\n\\x0eFahrenheit 451\\n\\x0bL'\\xc3\\xa9tranger\\n\\x1b\\n\\x0bcoordinates\\x12\\x0c\\x12\\n\\n\\x08tF\\xa4?\\xae\\xb8\\xcfB\", shape=(), dtype=string)\n"
          ],
          "name": "stdout"
        }
      ]
    },
    {
      "metadata": {
        "id": "zJss_1YjVFZj",
        "colab_type": "code",
        "colab": {
          "base_uri": "https://localhost:8080/",
          "height": 66
        },
        "outputId": "5689c0d6-642b-45c4-ed5d-8d90b641d574"
      },
      "cell_type": "code",
      "source": [
        "expected_features = {\n",
        "    \"favorite_books\": tf.io.VarLenFeature(dtype=tf.string),\n",
        "    \"hours_per_month\": tf.io.VarLenFeature(dtype=tf.float32),\n",
        "    \"age\": tf.io.FixedLenFeature([], dtype=tf.int64),\n",
        "    \"coordinates\": tf.io.FixedLenFeature([2], dtype=tf.float32),\n",
        "}\n",
        "\n",
        "for serialized_example_tensor in tf.data.TFRecordDataset(\n",
        "        [filename], compression_type=\"GZIP\"):\n",
        "    example = tf.io.parse_single_example(serialized_example_tensor,\n",
        "                                         expected_features)\n",
        "    books = tf.sparse.to_dense(example[\"favorite_books\"],\n",
        "                               default_value=b\"\")\n",
        "    for book in books:\n",
        "        print(book.numpy().decode('UTF-8'), end=\"\\t\")\n",
        "    print()"
      ],
      "execution_count": 53,
      "outputs": [
        {
          "output_type": "stream",
          "text": [
            "Arluk\tFahrenheit 451\tL'étranger\t\n",
            "Arluk\tFahrenheit 451\tL'étranger\t\n",
            "Arluk\tFahrenheit 451\tL'étranger\t\n"
          ],
          "name": "stdout"
        }
      ]
    },
    {
      "metadata": {
        "id": "8QrhPw2nVFZk",
        "colab_type": "text"
      },
      "cell_type": "markdown",
      "source": [
        "## Actual exercise"
      ]
    },
    {
      "metadata": {
        "id": "nueQIg2uVFZk",
        "colab_type": "text"
      },
      "cell_type": "markdown",
      "source": [
        "### 2.1)\n",
        "Write a `csv_to_tfrecords()` function that will read from a given CSV dataset (e.g., such as `train_set`, passed as an argument), and write the instances to multiple TFRecord files. The number of files should be defined by an `n_shards` argument. If there are, say, 20 shards, then the files should be named `my_train_00000-to-00019.tfrecords` to `my_train_00019-to-00019.tfrecords`, where the `my_train` prefix should be defined by an argument.\n",
        "\n",
        "**Tips**:\n",
        "* since the CSV dataset repeats the dataset forever, the function should take an argument defining the number of steps per shard, and you should use `take()` to pull only the appropriate number of batches from the CSV dataset for each shard.\n",
        "* to format 19 as `\"00019\"`, you can use `\"{:05d}\".format(19)`."
      ]
    },
    {
      "metadata": {
        "id": "IPUeQEfGVFZm",
        "colab_type": "code",
        "colab": {}
      },
      "cell_type": "code",
      "source": [
        ""
      ],
      "execution_count": 0,
      "outputs": []
    },
    {
      "metadata": {
        "id": "MYUDYXuiVFZm",
        "colab_type": "code",
        "colab": {}
      },
      "cell_type": "code",
      "source": [
        ""
      ],
      "execution_count": 0,
      "outputs": []
    },
    {
      "metadata": {
        "id": "8CWLk8LsVFZn",
        "colab_type": "code",
        "colab": {}
      },
      "cell_type": "code",
      "source": [
        ""
      ],
      "execution_count": 0,
      "outputs": []
    },
    {
      "metadata": {
        "id": "HdpwheBLVFZo",
        "colab_type": "text"
      },
      "cell_type": "markdown",
      "source": [
        "### 2.2)\n",
        "Use this function to write the training set, validation set and test set to multiple TFRecord files."
      ]
    },
    {
      "metadata": {
        "id": "zo3NltPPVFZo",
        "colab_type": "code",
        "colab": {}
      },
      "cell_type": "code",
      "source": [
        ""
      ],
      "execution_count": 0,
      "outputs": []
    },
    {
      "metadata": {
        "id": "IjgaHpMxVFZp",
        "colab_type": "code",
        "colab": {}
      },
      "cell_type": "code",
      "source": [
        ""
      ],
      "execution_count": 0,
      "outputs": []
    },
    {
      "metadata": {
        "id": "BsccHC_bVFZq",
        "colab_type": "code",
        "colab": {}
      },
      "cell_type": "code",
      "source": [
        ""
      ],
      "execution_count": 0,
      "outputs": []
    },
    {
      "metadata": {
        "id": "1Eo9SsMyVFZr",
        "colab_type": "text"
      },
      "cell_type": "markdown",
      "source": [
        "### 2.3)\n",
        "Write a `tfrecords_reader_dataset()` function, very similar to `csv_reader_dataset()`, that will read from multiple TFRecord files. For convenience, it should take a file prefix (such as `\"my_train\"`) and use `os.listdir()` to look for all the TFRecord files with that prefix.\n",
        "\n",
        "**Tips**:\n",
        "* You can mostly reuse `csv_reader_dataset()`, except it will use a different parsing function (based on `tf.io.parse_single_example()` instead of `tf.io.parse_csv_line()`).\n",
        "* The parsing function should return `(input features, label)`, not a `tf.train.Example`."
      ]
    },
    {
      "metadata": {
        "id": "pir3ud4cVFZr",
        "colab_type": "code",
        "colab": {}
      },
      "cell_type": "code",
      "source": [
        ""
      ],
      "execution_count": 0,
      "outputs": []
    },
    {
      "metadata": {
        "id": "I_da28xwVFZs",
        "colab_type": "code",
        "colab": {}
      },
      "cell_type": "code",
      "source": [
        ""
      ],
      "execution_count": 0,
      "outputs": []
    },
    {
      "metadata": {
        "id": "ihnoR8_hVFZs",
        "colab_type": "code",
        "colab": {}
      },
      "cell_type": "code",
      "source": [
        ""
      ],
      "execution_count": 0,
      "outputs": []
    },
    {
      "metadata": {
        "id": "Ay27OIOLVFZt",
        "colab_type": "text"
      },
      "cell_type": "markdown",
      "source": [
        "### 2.4)\n",
        "Create one dataset for each dataset (`tfrecords_train_set`, `tfrecords_valid_set` and `tfrecords_test_set`), and build, train and evaluate a Keras model using them."
      ]
    },
    {
      "metadata": {
        "id": "Vz0BCGLMVFZt",
        "colab_type": "code",
        "colab": {}
      },
      "cell_type": "code",
      "source": [
        ""
      ],
      "execution_count": 0,
      "outputs": []
    },
    {
      "metadata": {
        "id": "R4Du7fJOVFZu",
        "colab_type": "code",
        "colab": {}
      },
      "cell_type": "code",
      "source": [
        ""
      ],
      "execution_count": 0,
      "outputs": []
    },
    {
      "metadata": {
        "id": "fUQC0d1LVFZu",
        "colab_type": "code",
        "colab": {}
      },
      "cell_type": "code",
      "source": [
        ""
      ],
      "execution_count": 0,
      "outputs": []
    },
    {
      "metadata": {
        "id": "uL6XJHiRVFZv",
        "colab_type": "text"
      },
      "cell_type": "markdown",
      "source": [
        "![Exercise solution](https://camo.githubusercontent.com/250388fde3fac9135ead9471733ee28e049f7a37/68747470733a2f2f75706c6f61642e77696b696d656469612e6f72672f77696b6970656469612f636f6d6d6f6e732f302f30362f46696c6f735f736567756e646f5f6c6f676f5f253238666c69707065642532392e6a7067)"
      ]
    },
    {
      "metadata": {
        "id": "TcD5JFCyVFZv",
        "colab_type": "text"
      },
      "cell_type": "markdown",
      "source": [
        "## Exercise 2 – Solution"
      ]
    },
    {
      "metadata": {
        "id": "H_pykXBtVFZv",
        "colab_type": "text"
      },
      "cell_type": "markdown",
      "source": [
        "### 2.1)\n",
        "Write a `csv_to_tfrecords()` function that will read from a given CSV dataset (e.g., such as `train_set`, passed as an argument), and write the instances to multiple TFRecord files. The number of files should be defined by an `n_shards` argument. If there are, say, 20 shards, then the files should be named `my_train_00000-to-00019.tfrecords` to `my_train_00019-to-00019.tfrecords`, where the `my_train` prefix should be defined by an argument."
      ]
    },
    {
      "metadata": {
        "id": "Fq5MhuM7VFZv",
        "colab_type": "code",
        "colab": {}
      },
      "cell_type": "code",
      "source": [
        "def serialize_example(x, y):\n",
        "    input_features = tf.train.FloatList(value=x)\n",
        "    label = tf.train.FloatList(value=y)\n",
        "    features = tf.train.Features(\n",
        "        feature = {\n",
        "            \"input_features\": tf.train.Feature(float_list=input_features),\n",
        "            \"label\": tf.train.Feature(float_list=label),\n",
        "        }\n",
        "    )\n",
        "    example = tf.train.Example(features=features)\n",
        "    return example.SerializeToString()"
      ],
      "execution_count": 0,
      "outputs": []
    },
    {
      "metadata": {
        "id": "zC_v7sdJVFZw",
        "colab_type": "code",
        "colab": {}
      },
      "cell_type": "code",
      "source": [
        "def csv_to_tfrecords(filename, csv_reader_dataset, n_shards, steps_per_shard,\n",
        "                     compression_type=None):\n",
        "    options = tf.io.TFRecordOptions(compression_type=compression_type)\n",
        "    for shard in range(n_shards):\n",
        "        path = \"{}_{:05d}-of-{:05d}.tfrecords\".format(filename, shard, n_shards)\n",
        "        with tf.io.TFRecordWriter(path, options) as writer:\n",
        "            for X_batch, y_batch in csv_reader_dataset.take(steps_per_shard):\n",
        "                for x_instance, y_instance in zip(X_batch, y_batch):\n",
        "                    writer.write(serialize_example(x_instance, y_instance))"
      ],
      "execution_count": 0,
      "outputs": []
    },
    {
      "metadata": {
        "id": "qiEyvQZmVFZx",
        "colab_type": "text"
      },
      "cell_type": "markdown",
      "source": [
        "### 2.2)\n",
        "Use this function to write the training set, validation set and test set to multiple TFRecord files."
      ]
    },
    {
      "metadata": {
        "id": "LNhN19Z4VFZx",
        "colab_type": "code",
        "colab": {}
      },
      "cell_type": "code",
      "source": [
        "batch_size = 32\n",
        "n_shards = 20\n",
        "steps_per_shard = len(X_train) // batch_size // n_shards\n",
        "csv_to_tfrecords(\"my_train.tfrecords\", train_set, n_shards, steps_per_shard)\n",
        "\n",
        "n_shards = 1\n",
        "steps_per_shard = len(X_valid) // batch_size // n_shards\n",
        "csv_to_tfrecords(\"my_valid.tfrecords\", valid_set, n_shards, steps_per_shard)\n",
        "\n",
        "n_shards = 1\n",
        "steps_per_shard = len(X_test) // batch_size // n_shards\n",
        "csv_to_tfrecords(\"my_test.tfrecords\", test_set, n_shards, steps_per_shard)"
      ],
      "execution_count": 0,
      "outputs": []
    },
    {
      "metadata": {
        "id": "PxRL93efVFZy",
        "colab_type": "text"
      },
      "cell_type": "markdown",
      "source": [
        "### 2.3)\n",
        "Write a `tfrecords_reader_dataset()` function, very similar to `csv_reader_dataset()`, that will read from multiple TFRecord files. For convenience, it should take a file prefix (such as `\"my_train\"`) and use `os.listdir()` to look for all the TFRecord files with that prefix."
      ]
    },
    {
      "metadata": {
        "id": "piFInLxXVFZz",
        "colab_type": "code",
        "colab": {}
      },
      "cell_type": "code",
      "source": [
        "expected_features = {\n",
        "    \"input_features\": tf.io.FixedLenFeature([n_inputs], dtype=tf.float32),\n",
        "    \"label\": tf.io.FixedLenFeature([1], dtype=tf.float32),\n",
        "}\n",
        "\n",
        "def parse_tfrecord(serialized_example):\n",
        "    example = tf.io.parse_single_example(serialized_example,\n",
        "                                         expected_features)\n",
        "    return example[\"input_features\"], example[\"label\"]"
      ],
      "execution_count": 0,
      "outputs": []
    },
    {
      "metadata": {
        "id": "CC06ZInWVFZ0",
        "colab_type": "code",
        "colab": {}
      },
      "cell_type": "code",
      "source": [
        "def tfrecords_reader_dataset(filename, batch_size=32,\n",
        "                             shuffle_buffer_size=10000, n_readers=5):\n",
        "    filenames = [name for name in os.listdir() if name.startswith(filename)\n",
        "                                              and name.endswith(\".tfrecords\")]\n",
        "    dataset = tf.data.Dataset.list_files(filenames)\n",
        "    dataset = dataset.repeat()\n",
        "    dataset = dataset.interleave(\n",
        "        lambda filename: tf.data.TFRecordDataset(filename),\n",
        "        cycle_length=n_readers)\n",
        "    dataset.shuffle(shuffle_buffer_size)\n",
        "    dataset = dataset.apply(\n",
        "        tf.data.experimental.map_and_batch(\n",
        "            parse_tfrecord,\n",
        "            batch_size,\n",
        "            num_parallel_calls=tf.data.experimental.AUTOTUNE))\n",
        "    return dataset.prefetch(1)"
      ],
      "execution_count": 0,
      "outputs": []
    },
    {
      "metadata": {
        "id": "94HEIp55VFZ1",
        "colab_type": "code",
        "colab": {
          "base_uri": "https://localhost:8080/",
          "height": 407
        },
        "outputId": "11e58bec-0b51-4c2f-c643-744628b89d48"
      },
      "cell_type": "code",
      "source": [
        "tfrecords_train_set = tfrecords_reader_dataset(\"my_train\", batch_size=3)\n",
        "for X_batch, y_batch in tfrecords_train_set.take(2):\n",
        "    print(\"X =\", X_batch)\n",
        "    print(\"y =\", y_batch)\n",
        "    print()"
      ],
      "execution_count": 59,
      "outputs": [
        {
          "output_type": "stream",
          "text": [
            "X = tf.Tensor(\n",
            "[[-0.9176573   0.2670259  -0.7299422  -0.01909381  1.033729    0.6737396\n",
            "  -0.8696995   0.68686086]\n",
            " [-0.9176573   0.2670259  -0.7299422  -0.01909381  1.033729    0.6737396\n",
            "  -0.8696995   0.68686086]\n",
            " [-0.9176573   0.2670259  -0.7299422  -0.01909381  1.033729    0.6737396\n",
            "  -0.8696995   0.68686086]], shape=(3, 8), dtype=float32)\n",
            "y = tf.Tensor(\n",
            "[[1.453]\n",
            " [1.453]\n",
            " [1.453]], shape=(3, 1), dtype=float32)\n",
            "\n",
            "X = tf.Tensor(\n",
            "[[-0.9176573   0.2670259  -0.7299422  -0.01909381  1.033729    0.6737396\n",
            "  -0.8696995   0.68686086]\n",
            " [-0.9176573   0.2670259  -0.7299422  -0.01909381  1.033729    0.6737396\n",
            "  -0.8696995   0.68686086]\n",
            " [-0.21011062  0.8998913   0.08891055 -0.10043851 -0.41640615 -0.26761612\n",
            "  -0.70573175  1.151644  ]], shape=(3, 8), dtype=float32)\n",
            "y = tf.Tensor(\n",
            "[[1.453]\n",
            " [1.453]\n",
            " [0.933]], shape=(3, 1), dtype=float32)\n",
            "\n"
          ],
          "name": "stdout"
        }
      ]
    },
    {
      "metadata": {
        "id": "hD-gYnJEVFZ1",
        "colab_type": "text"
      },
      "cell_type": "markdown",
      "source": [
        "### 2.4)\n",
        "Create one dataset for each dataset (`tfrecords_train_set`, `tfrecords_valid_set` and `tfrecords_test_set`), and build, train and evaluate a Keras model using them."
      ]
    },
    {
      "metadata": {
        "id": "M4XyjoyDVFZ2",
        "colab_type": "code",
        "colab": {}
      },
      "cell_type": "code",
      "source": [
        "batch_size = 32\n",
        "tfrecords_train_set = tfrecords_reader_dataset(\"my_train\", batch_size)\n",
        "tfrecords_valid_set = tfrecords_reader_dataset(\"my_valid\", batch_size)\n",
        "tfrecords_test_set = tfrecords_reader_dataset(\"my_test\", batch_size)"
      ],
      "execution_count": 0,
      "outputs": []
    },
    {
      "metadata": {
        "id": "iHGISYrDVFZ2",
        "colab_type": "code",
        "colab": {}
      },
      "cell_type": "code",
      "source": [
        "model = keras.models.Sequential([\n",
        "    keras.layers.Dense(30, activation=\"relu\", input_shape=[n_inputs]),\n",
        "    keras.layers.Dense(1),\n",
        "])"
      ],
      "execution_count": 0,
      "outputs": []
    },
    {
      "metadata": {
        "id": "Vt6PYOhrVFZ3",
        "colab_type": "code",
        "colab": {}
      },
      "cell_type": "code",
      "source": [
        "model.compile(loss=\"mse\", optimizer=\"sgd\")"
      ],
      "execution_count": 0,
      "outputs": []
    },
    {
      "metadata": {
        "id": "ILR5wx8BVFZ4",
        "colab_type": "code",
        "colab": {
          "base_uri": "https://localhost:8080/",
          "height": 358
        },
        "outputId": "300d39f1-a139-4996-816c-41c985c4e81f"
      },
      "cell_type": "code",
      "source": [
        "model.fit(tfrecords_train_set, steps_per_epoch=len(X_train) // batch_size, epochs=10,\n",
        "          validation_data=tfrecords_valid_set, validation_steps=len(X_valid) // batch_size)"
      ],
      "execution_count": 63,
      "outputs": [
        {
          "output_type": "stream",
          "text": [
            "Epoch 1/10\n",
            "362/362 [==============================] - 2s 6ms/step - loss: 2.3303 - val_loss: 3.7039\n",
            "Epoch 2/10\n",
            "362/362 [==============================] - 2s 6ms/step - loss: 0.7091 - val_loss: 7.6505\n",
            "Epoch 3/10\n",
            "362/362 [==============================] - 2s 6ms/step - loss: 0.5605 - val_loss: 14.1197\n",
            "Epoch 4/10\n",
            "362/362 [==============================] - 2s 6ms/step - loss: 0.5118 - val_loss: 20.0452\n",
            "Epoch 5/10\n",
            "362/362 [==============================] - 2s 6ms/step - loss: 0.4834 - val_loss: 25.5063\n",
            "Epoch 6/10\n",
            "362/362 [==============================] - 2s 6ms/step - loss: 0.4626 - val_loss: 30.5775\n",
            "Epoch 7/10\n",
            "362/362 [==============================] - 2s 6ms/step - loss: 0.4464 - val_loss: 34.9663\n",
            "Epoch 8/10\n",
            "362/362 [==============================] - 2s 6ms/step - loss: 0.4336 - val_loss: 38.5474\n",
            "Epoch 9/10\n",
            "362/362 [==============================] - 2s 6ms/step - loss: 0.4244 - val_loss: 41.5708\n",
            "Epoch 10/10\n",
            "362/362 [==============================] - 2s 6ms/step - loss: 0.4133 - val_loss: 43.7188\n"
          ],
          "name": "stdout"
        },
        {
          "output_type": "execute_result",
          "data": {
            "text/plain": [
              "<tensorflow.python.keras.callbacks.History at 0x7f3cea9229e8>"
            ]
          },
          "metadata": {
            "tags": []
          },
          "execution_count": 63
        }
      ]
    },
    {
      "metadata": {
        "id": "CRMeWEfzVFZ4",
        "colab_type": "code",
        "colab": {
          "base_uri": "https://localhost:8080/",
          "height": 50
        },
        "outputId": "41a3ff8f-c77d-4b2a-a461-473a572ec3b9"
      },
      "cell_type": "code",
      "source": [
        "model.evaluate(tfrecords_test_set, steps=len(X_test) // batch_size)"
      ],
      "execution_count": 64,
      "outputs": [
        {
          "output_type": "stream",
          "text": [
            "161/161 [==============================] - 1s 4ms/step - loss: 0.5606\n"
          ],
          "name": "stdout"
        },
        {
          "output_type": "execute_result",
          "data": {
            "text/plain": [
              "0.560559815686682"
            ]
          },
          "metadata": {
            "tags": []
          },
          "execution_count": 64
        }
      ]
    },
    {
      "metadata": {
        "scrolled": true,
        "id": "9uaceHYKVFZ5",
        "colab_type": "code",
        "colab": {
          "base_uri": "https://localhost:8080/",
          "height": 131
        },
        "outputId": "fa73fe48-b303-42e1-b338-20bcb6835a2c"
      },
      "cell_type": "code",
      "source": [
        "new_set = test_set.map(lambda X, y: X)\n",
        "model.predict(new_set, steps=len(X_test) // batch_size)"
      ],
      "execution_count": 65,
      "outputs": [
        {
          "output_type": "execute_result",
          "data": {
            "text/plain": [
              "array([[1.3488383],\n",
              "       [1.5601014],\n",
              "       [3.540647 ],\n",
              "       ...,\n",
              "       [1.8842049],\n",
              "       [1.7772894],\n",
              "       [3.075144 ]], dtype=float32)"
            ]
          },
          "metadata": {
            "tags": []
          },
          "execution_count": 65
        }
      ]
    }
  ]
}