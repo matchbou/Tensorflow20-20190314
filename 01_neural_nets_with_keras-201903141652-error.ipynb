{
  "nbformat": 4,
  "nbformat_minor": 0,
  "metadata": {
    "colab": {
      "name": "01_neural_nets_with_keras.ipynb",
      "version": "0.3.2",
      "provenance": [],
      "collapsed_sections": [
        "qzKmBz4mRPSa",
        "tcDTlaesRPSa",
        "QFcxV-QZRPSg",
        "8SxpWWjLRPSl",
        "a7UfTAiIRPSq",
        "-echLrjrRPSw",
        "FDZdcs90RPS1",
        "tkV3R0f9RPS7",
        "MGRJAGE2RPTB",
        "NbsfVKPDRPTF",
        "NRT_prycRPTJ",
        "HkHovWq6RPTO",
        "sWTzbNH3RPTS",
        "A1Jf4x_URPTW",
        "TeCspcfPRPTc",
        "K76S__jbRPTd",
        "o826oACKRPTg",
        "qtWWGCqsRPTi",
        "y_MwSMbORPTo",
        "zjKiJ4HqRPTs",
        "f8RWZjDkRPTt",
        "_eFqYMAARPTv",
        "5_eewosXRPTw",
        "FQ75RKXbRPTy",
        "0TS0offQRPTz",
        "jmlHeqeWRPT2",
        "4WfPVC2-RPT4",
        "uDOQNtGPRPT6",
        "69UqxP0bRPT8",
        "8dXCkemVRPT-",
        "EdsgSzdSRPUA",
        "bwjFFv2kRPUE",
        "ZkC5WxjXRPUE",
        "EOGYbFicRPUI",
        "4eW2GR0dRPUJ",
        "xhuImJtfRPUJ",
        "MTbUE9DJRPUM",
        "CPv5oiYiRPUP",
        "VSHSbodvRPUS",
        "fnv07ZWURPUV",
        "Dm92YfodRPUV",
        "AKqc9QTnRPUX",
        "S33kKUQURPUb",
        "sUkhb3UHRPUb",
        "iZ3sB1IaRPUb",
        "4xtrYRwlRPUe",
        "azQG_QByRPUh",
        "OJ2r6xLNRPUm",
        "Z4pRXEx1RPUr",
        "Q2tMju8wRPUr",
        "_eV0doc1RPUu",
        "zXVlGI4BRPUx",
        "G3ebysIFRPUx",
        "spC-tgEkRPU3",
        "KXVy4tICRPU3",
        "VHNI4KtiRPU5",
        "GK5cEbagRPU8",
        "aSz_7o9uRPU_",
        "rz9MEwcYRPVB",
        "YxWcFsviRPVD",
        "ZPiVESaMRPVK",
        "aBczbliMRPVL",
        "EgrIJrLSRPVM",
        "HbAPUh1_RPVM",
        "dXZFmIpiRPVO",
        "wccJZgORRPVU",
        "AsmW8IYARPVV",
        "c4kqwt-JRPVW",
        "ILFVy2lSRPVW",
        "pZChwbg_RPVY",
        "uUXS2YMcRPVa",
        "NTdf8BRwRPVc",
        "gHHA0Z1SRPVe",
        "fMFQ195BRPVe",
        "MNI_cZCiRPVh",
        "bG44K4tIRPVk",
        "a_Ae7zSYRPVr",
        "-Mnbyys4RPVw",
        "0qIsJPchRPVz",
        "RnBYQTinRPV0",
        "05BPVXNSRPV1",
        "9aXdqod3RPV3",
        "axwsQ3dPRPV4",
        "sNU-eAdlRPV6",
        "tu9qE9Q7RPV6",
        "XIyRv0_zRPV6",
        "8excpNofRPV7",
        "aIVzBXYjRPV8",
        "5FvV9Un-RPV8"
      ],
      "toc_visible": true,
      "include_colab_link": true
    },
    "kernelspec": {
      "name": "python3",
      "display_name": "Python 3"
    },
    "accelerator": "TPU"
  },
  "cells": [
    {
      "cell_type": "markdown",
      "metadata": {
        "id": "view-in-github",
        "colab_type": "text"
      },
      "source": [
        "<a href=\"https://colab.research.google.com/github/matchbou/Tensorflow20-20190314/blob/master/01_neural_nets_with_keras-201903141652-error.ipynb\" target=\"_parent\"><img src=\"https://colab.research.google.com/assets/colab-badge.svg\" alt=\"Open In Colab\"/></a>"
      ]
    },
    {
      "metadata": {
        "collapsed": true,
        "id": "eWbOASpRRPRu",
        "colab_type": "text"
      },
      "cell_type": "markdown",
      "source": [
        "# Neural Nets with Keras"
      ]
    },
    {
      "metadata": {
        "id": "YF9aOsi5RPRw",
        "colab_type": "text"
      },
      "cell_type": "markdown",
      "source": [
        "In this notebook you will learn how to implement neural networks using the Keras API. We will use TensorFlow's own implementation, *tf.keras*, which comes bundled with TensorFlow."
      ]
    },
    {
      "metadata": {
        "id": "qyQQijuVRPRx",
        "colab_type": "text"
      },
      "cell_type": "markdown",
      "source": [
        "Don't hesitate to look at the documentation at [keras.io](https://keras.io/). All the code examples should work fine with tf.keras, the only difference is how to import Keras:\n",
        "\n",
        "```python\n",
        "# keras.io code:\n",
        "from keras.layers import Dense\n",
        "output_layer = Dense(10)\n",
        "\n",
        "# corresponding tf.keras code:\n",
        "from tensorflow import keras\n",
        "Dense = keras.layers.Dense\n",
        "output_layer = Dense(10)\n",
        "\n",
        "# or simply:\n",
        "from tensorflow import keras\n",
        "output_layer = keras.layers.Dense(10)\n",
        "```\n",
        "\n",
        "In this notebook, we will not use any TensorFlow-specific code, so everything you see would run just the same way on [keras-team](https://github.com/keras-team/keras) or any other Python implementation of the Keras API (except for the imports)."
      ]
    },
    {
      "metadata": {
        "id": "7xKDGMWdRPRx",
        "colab_type": "text"
      },
      "cell_type": "markdown",
      "source": [
        "## Imports"
      ]
    },
    {
      "metadata": {
        "id": "lxj0LL4OWwHy",
        "colab_type": "code",
        "outputId": "5c52ed23-0709-46df-c198-243da28930b1",
        "colab": {
          "base_uri": "https://localhost:8080/",
          "height": 508
        }
      },
      "cell_type": "code",
      "source": [
        "!pip install  tf-nightly-2.0-preview"
      ],
      "execution_count": 1,
      "outputs": [
        {
          "output_type": "stream",
          "text": [
            "Collecting tf-nightly-2.0-preview\n",
            "\u001b[?25l  Downloading https://files.pythonhosted.org/packages/00/55/c0e4464689cd80fd662339d00b039542383240ea8c005c6ca6272afd7b02/tf_nightly_2.0_preview-2.0.0.dev20190313-cp36-cp36m-manylinux1_x86_64.whl (80.1MB)\n",
            "\u001b[K    100% |████████████████████████████████| 80.1MB 402kB/s \n",
            "\u001b[?25hRequirement already satisfied: keras-preprocessing>=1.0.5 in /usr/local/lib/python3.6/dist-packages (from tf-nightly-2.0-preview) (1.0.9)\n",
            "Requirement already satisfied: grpcio>=1.8.6 in /usr/local/lib/python3.6/dist-packages (from tf-nightly-2.0-preview) (1.15.0)\n",
            "Requirement already satisfied: protobuf>=3.6.1 in /usr/local/lib/python3.6/dist-packages (from tf-nightly-2.0-preview) (3.6.1)\n",
            "Requirement already satisfied: six>=1.10.0 in /usr/local/lib/python3.6/dist-packages (from tf-nightly-2.0-preview) (1.11.0)\n",
            "Collecting tb-nightly<1.15.0a0,>=1.14.0a0 (from tf-nightly-2.0-preview)\n",
            "\u001b[?25l  Downloading https://files.pythonhosted.org/packages/56/ed/81c0a17476a99b81477e3308adaa6129e055ad4a6c35b268cc8b01e54686/tb_nightly-1.14.0a20190313-py3-none-any.whl (3.0MB)\n",
            "\u001b[K    100% |████████████████████████████████| 3.0MB 8.2MB/s \n",
            "\u001b[?25hRequirement already satisfied: absl-py>=0.7.0 in /usr/local/lib/python3.6/dist-packages (from tf-nightly-2.0-preview) (0.7.0)\n",
            "Requirement already satisfied: termcolor>=1.1.0 in /usr/local/lib/python3.6/dist-packages (from tf-nightly-2.0-preview) (1.1.0)\n",
            "Requirement already satisfied: gast>=0.2.0 in /usr/local/lib/python3.6/dist-packages (from tf-nightly-2.0-preview) (0.2.2)\n",
            "Requirement already satisfied: wheel>=0.26 in /usr/local/lib/python3.6/dist-packages (from tf-nightly-2.0-preview) (0.33.1)\n",
            "Collecting tensorflow-estimator-2.0-preview (from tf-nightly-2.0-preview)\n",
            "\u001b[?25l  Downloading https://files.pythonhosted.org/packages/5c/09/3525d25dba3b8424975ecf3764aca3ac0c27b394bfcf6cc2f61727947511/tensorflow_estimator_2.0_preview-1.14.0.dev2019031300-py2.py3-none-any.whl (351kB)\n",
            "\u001b[K    100% |████████████████████████████████| 358kB 19.2MB/s \n",
            "\u001b[?25hCollecting google-pasta>=0.1.2 (from tf-nightly-2.0-preview)\n",
            "\u001b[?25l  Downloading https://files.pythonhosted.org/packages/8c/96/adbd4eafe72ce9b5ca6f168fbf109386e1b601f7c59926a11e9d7b7a5b44/google_pasta-0.1.4-py3-none-any.whl (51kB)\n",
            "\u001b[K    100% |████████████████████████████████| 61kB 15.2MB/s \n",
            "\u001b[?25hRequirement already satisfied: astor>=0.6.0 in /usr/local/lib/python3.6/dist-packages (from tf-nightly-2.0-preview) (0.7.1)\n",
            "Requirement already satisfied: keras-applications>=1.0.6 in /usr/local/lib/python3.6/dist-packages (from tf-nightly-2.0-preview) (1.0.7)\n",
            "Requirement already satisfied: numpy<2.0,>=1.14.5 in /usr/local/lib/python3.6/dist-packages (from tf-nightly-2.0-preview) (1.14.6)\n",
            "Requirement already satisfied: setuptools in /usr/local/lib/python3.6/dist-packages (from protobuf>=3.6.1->tf-nightly-2.0-preview) (40.8.0)\n",
            "Requirement already satisfied: werkzeug>=0.11.15 in /usr/local/lib/python3.6/dist-packages (from tb-nightly<1.15.0a0,>=1.14.0a0->tf-nightly-2.0-preview) (0.14.1)\n",
            "Requirement already satisfied: markdown>=2.6.8 in /usr/local/lib/python3.6/dist-packages (from tb-nightly<1.15.0a0,>=1.14.0a0->tf-nightly-2.0-preview) (3.0.1)\n",
            "Requirement already satisfied: h5py in /usr/local/lib/python3.6/dist-packages (from keras-applications>=1.0.6->tf-nightly-2.0-preview) (2.8.0)\n",
            "Installing collected packages: tb-nightly, tensorflow-estimator-2.0-preview, google-pasta, tf-nightly-2.0-preview\n",
            "Successfully installed google-pasta-0.1.4 tb-nightly-1.14.0a20190313 tensorflow-estimator-2.0-preview-1.14.0.dev2019031300 tf-nightly-2.0-preview-2.0.0.dev20190313\n"
          ],
          "name": "stdout"
        }
      ]
    },
    {
      "metadata": {
        "id": "tc1lT7E0RPRy",
        "colab_type": "code",
        "colab": {}
      },
      "cell_type": "code",
      "source": [
        "%matplotlib inline"
      ],
      "execution_count": 0,
      "outputs": []
    },
    {
      "metadata": {
        "id": "ZrLAscbXRPR1",
        "colab_type": "code",
        "colab": {}
      },
      "cell_type": "code",
      "source": [
        "import matplotlib as mpl\n",
        "import matplotlib.pyplot as plt\n",
        "import numpy as np\n",
        "import os\n",
        "import pandas as pd\n",
        "import sklearn\n",
        "import sys\n",
        "import tensorflow as tf\n",
        "from tensorflow import keras\n",
        "import time"
      ],
      "execution_count": 0,
      "outputs": []
    },
    {
      "metadata": {
        "id": "xVt5CY4YRPR3",
        "colab_type": "code",
        "outputId": "62757eef-bff6-43b1-b96c-4a89fa2073e5",
        "colab": {
          "base_uri": "https://localhost:8080/",
          "height": 147
        }
      },
      "cell_type": "code",
      "source": [
        "print(\"python\", sys.version)\n",
        "for module in mpl, np, pd, sklearn, tf, keras:\n",
        "    print(module.__name__, module.__version__)"
      ],
      "execution_count": 4,
      "outputs": [
        {
          "output_type": "stream",
          "text": [
            "python 3.6.7 (default, Oct 22 2018, 11:32:17) \n",
            "[GCC 8.2.0]\n",
            "matplotlib 3.0.3\n",
            "numpy 1.14.6\n",
            "pandas 0.22.0\n",
            "sklearn 0.20.3\n",
            "tensorflow 2.0.0-dev20190313\n",
            "tensorflow.python.keras.api._v2.keras 2.2.4-tf\n"
          ],
          "name": "stdout"
        }
      ]
    },
    {
      "metadata": {
        "id": "b3F0GFvyRPR5",
        "colab_type": "code",
        "colab": {}
      },
      "cell_type": "code",
      "source": [
        "assert sys.version_info >= (3, 5) # Python ≥3.5 required\n",
        "assert tf.__version__ >= \"2.0\"    # TensorFlow ≥2.0 required"
      ],
      "execution_count": 0,
      "outputs": []
    },
    {
      "metadata": {
        "id": "NtVjR7Q3RPR6",
        "colab_type": "text"
      },
      "cell_type": "markdown",
      "source": [
        "**Note**: The preview version of TensorFlow 2.0 shows up as version 1.13. That's okay. To test that this behaves like TF 2.0, we verify that `tf.function()` is present."
      ]
    },
    {
      "metadata": {
        "id": "4A1U5LcXRPR7",
        "colab_type": "text"
      },
      "cell_type": "markdown",
      "source": [
        "![Exercise](https://c1.staticflickr.com/9/8101/8553474140_c50cf08708_b.jpg)"
      ]
    },
    {
      "metadata": {
        "id": "SKkIOGI_RPR8",
        "colab_type": "text"
      },
      "cell_type": "markdown",
      "source": [
        "## Exercise 1 – TensorFlow Playground"
      ]
    },
    {
      "metadata": {
        "id": "IuvKcfFIXY1u",
        "colab_type": "text"
      },
      "cell_type": "markdown",
      "source": [
        ""
      ]
    },
    {
      "metadata": {
        "id": "z5qKs0KnRPR8",
        "colab_type": "text"
      },
      "cell_type": "markdown",
      "source": [
        "Visit the [TensorFlow Playground](http://playground.tensorflow.org).\n",
        "* **Layers and patterns**: try training the default neural network by clicking the \"Run\" button (top left). Notice how it quickly finds a good solution for the classification task. Notice that the neurons in the first hidden layer have learned simple patterns, while the neurons in the second hidden layer have learned to combine the simple patterns of the first hidden layer into more complex patterns). In general, the more layers, the more complex the patterns can be.\n",
        "* **Activation function**: try replacing the Tanh activation function with the ReLU activation function, and train the network again. Notice that it finds a solution even faster, but this time the boundaries are linear. This is due to the shape of the ReLU function.\n",
        "* **Local minima**: modify the network architecture to have just one hidden layer with three neurons. Train it multiple times (to reset the network weights, just add and remove a neuron). Notice that the training time varies a lot, and sometimes it even gets stuck in a local minimum.\n",
        "* **Too small**: now remove one neuron to keep just 2. Notice that the neural network is now incapable of finding a good solution, even if you try multiple times. The model has too few parameters and it systematically underfits the training set.\n",
        "* **Large enough**: next, set the number of neurons to 8 and train the network several times. Notice that it is now consistently fast and never gets stuck. This highlights an important finding in neural network theory: large neural networks almost never get stuck in local minima, and even when they do these local optima are almost as good as the global optimum. However, they can still get stuck on long plateaus for a long time.\n",
        "* **Deep net and vanishing gradients**: now change the dataset to be the spiral (bottom right dataset under \"DATA\"). Change the network architecture to have 4 hidden layers with 8 neurons each. Notice that training takes much longer, and often gets stuck on plateaus for long periods of time. Also notice that the neurons in the highest layers (i.e. on the right) tend to evolve faster than the neurons in the lowest layers (i.e. on the left). This problem, called the \"vanishing gradients\" problem, can be alleviated using better weight initialization and other techniques, better optimizers (such as AdaGrad or Adam), or using Batch Normalization.\n",
        "* **More**: go ahead and play with the other parameters to get a feel of what they do. In fact, after this course you should definitely play with this UI for at least one hour, it will grow your intuitions about neural networks significantly."
      ]
    },
    {
      "metadata": {
        "id": "RQQMa8oHRPR9",
        "colab_type": "text"
      },
      "cell_type": "markdown",
      "source": [
        "![Exercise](https://c1.staticflickr.com/9/8101/8553474140_c50cf08708_b.jpg)"
      ]
    },
    {
      "metadata": {
        "id": "1fgfre8-RPR9",
        "colab_type": "text"
      },
      "cell_type": "markdown",
      "source": [
        "## Exercise 2 – Image classification with tf.keras"
      ]
    },
    {
      "metadata": {
        "id": "HqgzqeaSRPR-",
        "colab_type": "text"
      },
      "cell_type": "markdown",
      "source": [
        "### Load the Fashion MNIST dataset"
      ]
    },
    {
      "metadata": {
        "id": "86klRAC7RPR-",
        "colab_type": "text"
      },
      "cell_type": "markdown",
      "source": [
        "Let's start by loading the fashion MNIST dataset. Keras has a number of functions to load popular datasets in `keras.datasets`. The dataset is already split for you between a training set and a test set, but it can be useful to split the training set further to have a validation set:"
      ]
    },
    {
      "metadata": {
        "id": "DQ8mYh7DRPR_",
        "colab_type": "code",
        "outputId": "523ffd25-cbd2-48c4-8345-e275b33fb27f",
        "colab": {
          "base_uri": "https://localhost:8080/",
          "height": 167
        }
      },
      "cell_type": "code",
      "source": [
        "fashion_mnist = keras.datasets.fashion_mnist\n",
        "(X_train_full, y_train_full), (X_test, y_test) = fashion_mnist.load_data()\n",
        "X_valid, X_train = X_train_full[:5000], X_train_full[5000:]\n",
        "y_valid, y_train = y_train_full[:5000], y_train_full[5000:]"
      ],
      "execution_count": 6,
      "outputs": [
        {
          "output_type": "stream",
          "text": [
            "Downloading data from https://storage.googleapis.com/tensorflow/tf-keras-datasets/train-labels-idx1-ubyte.gz\n",
            "32768/29515 [=================================] - 0s 0us/step\n",
            "Downloading data from https://storage.googleapis.com/tensorflow/tf-keras-datasets/train-images-idx3-ubyte.gz\n",
            "26427392/26421880 [==============================] - 0s 0us/step\n",
            "Downloading data from https://storage.googleapis.com/tensorflow/tf-keras-datasets/t10k-labels-idx1-ubyte.gz\n",
            "8192/5148 [===============================================] - 0s 0us/step\n",
            "Downloading data from https://storage.googleapis.com/tensorflow/tf-keras-datasets/t10k-images-idx3-ubyte.gz\n",
            "4423680/4422102 [==============================] - 0s 0us/step\n"
          ],
          "name": "stdout"
        }
      ]
    },
    {
      "metadata": {
        "id": "CTHm6yUsRPSB",
        "colab_type": "text"
      },
      "cell_type": "markdown",
      "source": [
        "The training set contains 55,000 grayscale images, each 28x28 pixels:"
      ]
    },
    {
      "metadata": {
        "id": "afu-ojQdRPSC",
        "colab_type": "code",
        "outputId": "3811464b-f1d1-4d74-8c7f-1735bdae4748",
        "colab": {
          "base_uri": "https://localhost:8080/",
          "height": 33
        }
      },
      "cell_type": "code",
      "source": [
        "X_train.shape"
      ],
      "execution_count": 7,
      "outputs": [
        {
          "output_type": "execute_result",
          "data": {
            "text/plain": [
              "(55000, 28, 28)"
            ]
          },
          "metadata": {
            "tags": []
          },
          "execution_count": 7
        }
      ]
    },
    {
      "metadata": {
        "id": "ItobIk2sRPSE",
        "colab_type": "text"
      },
      "cell_type": "markdown",
      "source": [
        "Each pixel intensity is represented by a uint8 (byte) from 0 to 255:"
      ]
    },
    {
      "metadata": {
        "id": "t75XpEk_RPSE",
        "colab_type": "code",
        "outputId": "9b8c6956-457a-46e9-9452-5a0447835521",
        "colab": {
          "base_uri": "https://localhost:8080/",
          "height": 1382
        }
      },
      "cell_type": "code",
      "source": [
        "X_train[0]"
      ],
      "execution_count": 8,
      "outputs": [
        {
          "output_type": "execute_result",
          "data": {
            "text/plain": [
              "array([[  0,   0,   0,   0,   0,   0,   0,   0,   0,   0,   0,   0,   0,\n",
              "          0,   0,   0,   0,   0,   0,   1,   0,   0,   0,   0,   0,   0,\n",
              "          0,   0],\n",
              "       [  0,   0,   0,   0,   0,   0,   0,   0,   0,   0,   0,  44, 127,\n",
              "        182, 185, 161, 120,  55,   0,   0,   0,   0,   0,   0,   0,   0,\n",
              "          0,   0],\n",
              "       [  0,   0,   0,   0,   0,   0,   0,   0,   0,  42, 198, 251, 255,\n",
              "        251, 249, 247, 255, 252, 214, 100,   0,   0,   0,   0,   0,   0,\n",
              "          0,   0],\n",
              "       [  0,   0,   0,   0,   0,   0,   2,   0,   0, 233, 252, 237, 239,\n",
              "        234, 237, 235, 237, 237, 254, 227,   0,   0,   0,   0,   1,   0,\n",
              "          0,   0],\n",
              "       [  0,   0,   0,   0,   0,   2,   0,   0,  16, 210, 225, 215, 175,\n",
              "        217, 216, 193, 196, 226, 221, 209,  50,   0,   0,   2,   0,   0,\n",
              "          0,   0],\n",
              "       [  0,   0,   0,   0,   2,   0,   0, 199, 229, 232, 230, 245, 204,\n",
              "        219, 253, 245, 207, 194, 223, 231, 236, 235,   0,   0,   3,   0,\n",
              "          0,   0],\n",
              "       [  0,   0,   0,   0,   1,   0, 137, 235, 204, 209, 201, 209, 234,\n",
              "        190, 234, 218, 215, 238, 239, 204, 189, 224, 154,   0,   0,   0,\n",
              "          0,   0],\n",
              "       [  0,   0,   0,   0,   0,   0, 194, 201, 200, 209, 202, 193, 205,\n",
              "        194, 183, 218, 231, 197, 172, 181, 193, 205, 199,   0,   0,   0,\n",
              "          0,   0],\n",
              "       [  0,   0,   0,   0,   0,   3, 212, 203, 188, 189, 196, 198, 198,\n",
              "        201, 196, 217, 179, 167, 183, 217, 197, 202, 219,  30,   0,   0,\n",
              "          0,   0],\n",
              "       [  0,   0,   0,   0,   0,  34, 225, 200, 194, 190, 188, 192, 196,\n",
              "        192, 170, 202, 190, 201, 195, 200, 201, 209, 227,  50,   0,   0,\n",
              "          0,   0],\n",
              "       [  0,   0,   0,   0,   0,  68, 225, 210, 211, 198, 192, 196, 204,\n",
              "        196, 181, 212, 197, 195, 192, 206, 220, 210, 229,  93,   0,   0,\n",
              "          0,   0],\n",
              "       [  0,   0,   0,   0,   0, 111, 223, 227, 253, 209, 196, 204, 211,\n",
              "        206, 183, 216, 206, 210, 203, 215, 244, 224, 227, 150,   0,   0,\n",
              "          0,   0],\n",
              "       [  0,   0,   0,   0,   0, 139, 225, 224, 255, 202, 206, 212, 209,\n",
              "        211, 190, 213, 202, 207, 206, 222, 255, 230, 220, 190,   0,   0,\n",
              "          0,   0],\n",
              "       [  0,   0,   0,   0,   0, 180, 226, 224, 255, 199, 204, 207, 214,\n",
              "        214, 190, 216, 206, 203, 205, 219, 243, 224, 214, 234,   0,   0,\n",
              "          0,   0],\n",
              "       [  0,   0,   0,   0,   0, 225, 223, 228, 254, 209, 206, 208, 213,\n",
              "        210, 191, 215, 207, 204, 208, 211, 249, 226, 214, 255,  38,   0,\n",
              "          0,   0],\n",
              "       [  0,   0,   0,   0,   0, 250, 232, 240, 239, 211, 203, 209, 205,\n",
              "        211, 197, 215, 208, 208, 214, 213, 239, 231, 219, 255,  81,   0,\n",
              "          0,   0],\n",
              "       [  0,   0,   0,   0,   0, 248, 236, 247, 240, 203, 200, 208, 206,\n",
              "        214, 193, 213, 212, 208, 212, 211, 243, 242, 225, 254,  66,   0,\n",
              "          0,   0],\n",
              "       [  0,   0,   0,   0,   0, 247, 230, 252, 226, 199, 211, 202, 211,\n",
              "        213, 182, 213, 212, 206, 202, 219, 207, 247, 222, 237, 104,   0,\n",
              "          0,   0],\n",
              "       [  0,   0,   0,   0,  10, 244, 219, 250, 205, 199, 209, 202, 209,\n",
              "        211, 189, 214, 206, 210, 200, 212, 154, 240, 208, 219, 140,   0,\n",
              "          0,   0],\n",
              "       [  0,   0,   0,   0,  21, 255, 222, 238, 184, 210, 192, 206, 209,\n",
              "        210, 189, 213, 211, 209, 192, 228, 155, 226, 238, 241, 166,   0,\n",
              "          0,   0],\n",
              "       [  0,   0,   0,   0,  37, 245, 226, 241, 150, 197, 189, 204, 209,\n",
              "        210, 183, 213, 213, 201, 184, 215, 146, 216, 236, 225, 154,   0,\n",
              "          0,   0],\n",
              "       [  0,   0,   0,   0,  58, 239, 227, 255, 158, 193, 195, 204, 209,\n",
              "        213, 180, 207, 217, 199, 194, 211, 158, 219, 236, 216, 151,   0,\n",
              "          0,   0],\n",
              "       [  0,   0,   0,   0,  68, 233, 226, 243, 139, 200, 193, 205, 210,\n",
              "        208, 180, 205, 212, 203, 196, 216, 157, 179, 255, 216, 155,   0,\n",
              "          0,   0],\n",
              "       [  0,   0,   0,   0,  81, 225, 224, 211, 138, 219, 185, 201, 213,\n",
              "        207, 197, 226, 212, 200, 190, 215, 183,  90, 255, 211, 147,   0,\n",
              "          0,   0],\n",
              "       [  0,   0,   0,   0,  91, 210, 230, 158, 114, 205, 187, 208, 209,\n",
              "        206, 193, 210, 211, 204, 195, 204, 181,  23, 255, 213, 158,   0,\n",
              "          0,   0],\n",
              "       [  0,   0,   0,   0,  87, 205, 232, 109, 164, 255, 214, 224, 222,\n",
              "        210, 197, 214, 225, 222, 211, 220, 217,   0, 234, 216, 169,   0,\n",
              "          0,   0],\n",
              "       [  0,   0,   0,   0,  92, 213, 232, 146,   5, 134, 151, 162, 170,\n",
              "        183, 182, 164, 166, 178, 162, 156,  98,   0, 240, 225, 210,   0,\n",
              "          0,   0],\n",
              "       [  0,   0,   0,   0,  43, 164, 206, 141,   0,   0,   0,   0,   0,\n",
              "          0,   0,   0,   0,   0,   0,   0,   0,   0, 127, 125,  76,   0,\n",
              "          0,   0]], dtype=uint8)"
            ]
          },
          "metadata": {
            "tags": []
          },
          "execution_count": 8
        }
      ]
    },
    {
      "metadata": {
        "id": "MBUs51RARPSG",
        "colab_type": "text"
      },
      "cell_type": "markdown",
      "source": [
        "You can plot an image using Matplotlib's `imshow()` function, with a `'binary'`\n",
        " color map:"
      ]
    },
    {
      "metadata": {
        "id": "nduLdVaSRPSG",
        "colab_type": "code",
        "outputId": "f6c0e995-7585-483e-f353-cb7ed34effce",
        "colab": {
          "base_uri": "https://localhost:8080/",
          "height": 265
        }
      },
      "cell_type": "code",
      "source": [
        "plt.imshow(X_train[0], cmap=\"binary\")\n",
        "plt.show()"
      ],
      "execution_count": 9,
      "outputs": [
        {
          "output_type": "display_data",
          "data": {
            "image/png": "[encoded data removed]",
            "text/plain": [
              "<Figure size 432x288 with 1 Axes>"
            ]
          },
          "metadata": {
            "tags": []
          }
        }
      ]
    },
    {
      "metadata": {
        "id": "NPXbQQXSRPSI",
        "colab_type": "text"
      },
      "cell_type": "markdown",
      "source": [
        "The labels are the class IDs (represented as uint8), from 0 to 9:"
      ]
    },
    {
      "metadata": {
        "id": "PmB-jdgfRPSJ",
        "colab_type": "code",
        "outputId": "d6062b8f-5fda-4e6c-8330-7bda4264d30a",
        "colab": {
          "base_uri": "https://localhost:8080/",
          "height": 33
        }
      },
      "cell_type": "code",
      "source": [
        "y_train"
      ],
      "execution_count": 10,
      "outputs": [
        {
          "output_type": "execute_result",
          "data": {
            "text/plain": [
              "array([4, 0, 7, ..., 3, 0, 5], dtype=uint8)"
            ]
          },
          "metadata": {
            "tags": []
          },
          "execution_count": 10
        }
      ]
    },
    {
      "metadata": {
        "id": "0h1CYycgRPSK",
        "colab_type": "text"
      },
      "cell_type": "markdown",
      "source": [
        "Here are the corresponding class names:"
      ]
    },
    {
      "metadata": {
        "id": "LfS5xtpsRPSL",
        "colab_type": "code",
        "colab": {}
      },
      "cell_type": "code",
      "source": [
        "class_names = [\"T-shirt/top\", \"Trouser\", \"Pullover\", \"Dress\", \"Coat\",\n",
        "               \"Sandal\", \"Shirt\", \"Sneaker\", \"Bag\", \"Ankle boot\"]"
      ],
      "execution_count": 0,
      "outputs": []
    },
    {
      "metadata": {
        "id": "Cpdrk9MPRPSN",
        "colab_type": "text"
      },
      "cell_type": "markdown",
      "source": [
        "So the first image in the training set is a coat:"
      ]
    },
    {
      "metadata": {
        "id": "Dj2BZMiiRPSN",
        "colab_type": "code",
        "outputId": "df8e81d4-f823-4cd2-997c-9c7311d0d7dc",
        "colab": {
          "base_uri": "https://localhost:8080/",
          "height": 33
        }
      },
      "cell_type": "code",
      "source": [
        "class_names[y_train[0]]"
      ],
      "execution_count": 0,
      "outputs": [
        {
          "output_type": "execute_result",
          "data": {
            "text/plain": [
              "'Coat'"
            ]
          },
          "metadata": {
            "tags": []
          },
          "execution_count": 12
        }
      ]
    },
    {
      "metadata": {
        "id": "7yAt34NHRPSQ",
        "colab_type": "text"
      },
      "cell_type": "markdown",
      "source": [
        "The validation set contains 5,000 images, and the test set contains 10,000 images:"
      ]
    },
    {
      "metadata": {
        "id": "Vuqgx9BhRPSR",
        "colab_type": "code",
        "outputId": "5a3bc173-82b5-4f8f-a34f-ae16ec30373e",
        "colab": {
          "base_uri": "https://localhost:8080/",
          "height": 33
        }
      },
      "cell_type": "code",
      "source": [
        "X_valid.shape"
      ],
      "execution_count": 12,
      "outputs": [
        {
          "output_type": "execute_result",
          "data": {
            "text/plain": [
              "(5000, 28, 28)"
            ]
          },
          "metadata": {
            "tags": []
          },
          "execution_count": 12
        }
      ]
    },
    {
      "metadata": {
        "id": "Dh8llst5RPSU",
        "colab_type": "code",
        "outputId": "4e7af5b8-af90-4251-b765-6ce0e354a1ce",
        "colab": {
          "base_uri": "https://localhost:8080/",
          "height": 33
        }
      },
      "cell_type": "code",
      "source": [
        "X_test.shape"
      ],
      "execution_count": 13,
      "outputs": [
        {
          "output_type": "execute_result",
          "data": {
            "text/plain": [
              "(10000, 28, 28)"
            ]
          },
          "metadata": {
            "tags": []
          },
          "execution_count": 13
        }
      ]
    },
    {
      "metadata": {
        "id": "kX8157fBRPSX",
        "colab_type": "text"
      },
      "cell_type": "markdown",
      "source": [
        "Let's take a look at a sample of the images in the dataset:"
      ]
    },
    {
      "metadata": {
        "id": "5rd5-6bwRPSY",
        "colab_type": "code",
        "outputId": "6bb4734a-2311-45ae-f4f0-79c678249b24",
        "colab": {
          "base_uri": "https://localhost:8080/",
          "height": 510
        }
      },
      "cell_type": "code",
      "source": [
        "n_rows = 5\n",
        "n_cols = 10\n",
        "plt.figure(figsize=(n_cols*1.4, n_rows * 1.6))\n",
        "for row in range(n_rows):\n",
        "    for col in range(n_cols):\n",
        "        index = n_cols * row + col\n",
        "        plt.subplot(n_rows, n_cols, index + 1)\n",
        "        plt.imshow(X_train[index], cmap=\"binary\", interpolation=\"nearest\")\n",
        "        plt.axis('off')\n",
        "        plt.title(class_names[y_train[index]])\n",
        "plt.show()"
      ],
      "execution_count": 14,
      "outputs": [
        {
          "output_type": "display_data",
          "data": {
            "image/png": "[encoded data removed]",
            "text/plain": [
              "<Figure size 1008x576 with 50 Axes>"
            ]
          },
          "metadata": {
            "tags": []
          }
        }
      ]
    },
    {
      "metadata": {
        "id": "DIptZvjbRPSZ",
        "colab_type": "text"
      },
      "cell_type": "markdown",
      "source": [
        "This dataset has the same structure as the famous MNIST dataset (which you can load using `keras.datasets.mnist.load_data()`), except the images represent fashion items rather than handwritten digits, and it is much more challenging. A simple linear model can reach 92% accuracy on MNIST, but only 83% on fashion MNIST."
      ]
    },
    {
      "metadata": {
        "id": "qzKmBz4mRPSa",
        "colab_type": "text"
      },
      "cell_type": "markdown",
      "source": [
        "### Build a classification neural network with Keras"
      ]
    },
    {
      "metadata": {
        "id": "tcDTlaesRPSa",
        "colab_type": "text"
      },
      "cell_type": "markdown",
      "source": [
        "### 2.1)\n",
        "Build a `Sequential` model (`keras.models.Sequential`), without any argument, then and add four layers to it by calling its `add()` method:\n",
        "  * a `Flatten` layer (`keras.layers.Flatten`) to convert each 28x28 image to a single row of 784 pixel values. Since it is the first layer in your model, you should specify the `input_shape` argument, leaving out the batch size: `[28, 28]`.\n",
        "  * a `Dense` layer  (`keras.layers.Dense`) with 300 neurons (aka units), and the `\"relu\"` activation function.\n",
        "  * Another `Dense` layer with 100 neurons, also with the `\"relu\"` activation function.\n",
        "  * A final `Dense` layer with 10 neurons (one per class), and with the `\"softmax\"` activation function to ensure that the sum of all the estimated class probabilities for each image is equal to 1."
      ]
    },
    {
      "metadata": {
        "id": "wIUNCrkgRPSb",
        "colab_type": "code",
        "colab": {}
      },
      "cell_type": "code",
      "source": [
        ""
      ],
      "execution_count": 0,
      "outputs": []
    },
    {
      "metadata": {
        "id": "hYKHUuliRPSc",
        "colab_type": "code",
        "colab": {}
      },
      "cell_type": "code",
      "source": [
        ""
      ],
      "execution_count": 0,
      "outputs": []
    },
    {
      "metadata": {
        "id": "9cnmBhEcRPSe",
        "colab_type": "code",
        "colab": {}
      },
      "cell_type": "code",
      "source": [
        ""
      ],
      "execution_count": 0,
      "outputs": []
    },
    {
      "metadata": {
        "id": "QFcxV-QZRPSg",
        "colab_type": "text"
      },
      "cell_type": "markdown",
      "source": [
        "### 2.2)\n",
        "Alternatively, you can pass a list containing the 4 layers to the constructor of the `Sequential` model. The model's `layers` attribute holds the list of layers."
      ]
    },
    {
      "metadata": {
        "id": "XDC2igFJRPSh",
        "colab_type": "code",
        "colab": {}
      },
      "cell_type": "code",
      "source": [
        ""
      ],
      "execution_count": 0,
      "outputs": []
    },
    {
      "metadata": {
        "id": "2FWvItkERPSi",
        "colab_type": "code",
        "colab": {}
      },
      "cell_type": "code",
      "source": [
        ""
      ],
      "execution_count": 0,
      "outputs": []
    },
    {
      "metadata": {
        "id": "DFQzJibCRPSj",
        "colab_type": "code",
        "colab": {}
      },
      "cell_type": "code",
      "source": [
        ""
      ],
      "execution_count": 0,
      "outputs": []
    },
    {
      "metadata": {
        "id": "8SxpWWjLRPSl",
        "colab_type": "text"
      },
      "cell_type": "markdown",
      "source": [
        "### 2.3)\n",
        "Call the model's `summary()` method and examine the output. Also, try using `keras.utils.plot_model()` to save an image of your model's architecture. Alternatively, you can uncomment the following code to display the image within Jupyter."
      ]
    },
    {
      "metadata": {
        "id": "T9fzaSIpRPSm",
        "colab_type": "text"
      },
      "cell_type": "markdown",
      "source": [
        "**Warning**: you will need `pydot` and `graphviz` to use `plot_model()`."
      ]
    },
    {
      "metadata": {
        "id": "J48OIWRjRPSm",
        "colab_type": "code",
        "colab": {}
      },
      "cell_type": "code",
      "source": [
        ""
      ],
      "execution_count": 0,
      "outputs": []
    },
    {
      "metadata": {
        "id": "TFZquj4rRPSn",
        "colab_type": "code",
        "colab": {}
      },
      "cell_type": "code",
      "source": [
        ""
      ],
      "execution_count": 0,
      "outputs": []
    },
    {
      "metadata": {
        "id": "zm69zOOBRPSp",
        "colab_type": "code",
        "colab": {}
      },
      "cell_type": "code",
      "source": [
        ""
      ],
      "execution_count": 0,
      "outputs": []
    },
    {
      "metadata": {
        "id": "a7UfTAiIRPSq",
        "colab_type": "text"
      },
      "cell_type": "markdown",
      "source": [
        "### 2.4)\n",
        "After a model is created, you must call its `compile()` method to specify the `loss` function and the `optimizer` to use. In this case, you want to use the `\"sparse_categorical_crossentropy\"` loss, and the `\"sgd\"` optimizer (stochastic gradient descent). Moreover, you can optionally specify a list of additional metrics that should be measured during training. In this case you should specify `metrics=[\"accuracy\"]`. **Note**: you can find more loss functions in `keras.losses`, more metrics in `keras.metrics` and more optimizers in `keras.optimizers`."
      ]
    },
    {
      "metadata": {
        "id": "GG3bHksRRPSs",
        "colab_type": "code",
        "colab": {}
      },
      "cell_type": "code",
      "source": [
        ""
      ],
      "execution_count": 0,
      "outputs": []
    },
    {
      "metadata": {
        "id": "cRMMrcFKRPSt",
        "colab_type": "code",
        "colab": {}
      },
      "cell_type": "code",
      "source": [
        ""
      ],
      "execution_count": 0,
      "outputs": []
    },
    {
      "metadata": {
        "id": "y5VWofYnRPSv",
        "colab_type": "code",
        "colab": {}
      },
      "cell_type": "code",
      "source": [
        ""
      ],
      "execution_count": 0,
      "outputs": []
    },
    {
      "metadata": {
        "id": "-echLrjrRPSw",
        "colab_type": "text"
      },
      "cell_type": "markdown",
      "source": [
        "### 2.5)\n",
        "Now your model is ready to be trained. Call its `fit()` method, passing it the input features (`X_train`) and the target classes (`y_train`). Set `epochs=10` (or else it will just run for a single epoch). You can also (optionally) pass the validation data by setting `validation_data=(X_valid, y_valid)`. If you do, Keras will compute the loss and the additional metrics (the accuracy in this case) on the validation set at the end of each epoch. If the performance on the training set is much better than on the validation set, your model is probably overfitting the training set (or there is a bug, such as a mismatch between the training set and the validation set).\n",
        "**Note**: the `fit()` method will return a `History` object containing training stats. Make sure to preserve it (`history = model.fit(...)`)."
      ]
    },
    {
      "metadata": {
        "id": "ncCeB44fRPSx",
        "colab_type": "code",
        "colab": {}
      },
      "cell_type": "code",
      "source": [
        ""
      ],
      "execution_count": 0,
      "outputs": []
    },
    {
      "metadata": {
        "id": "KlqpOpiMRPSy",
        "colab_type": "code",
        "colab": {}
      },
      "cell_type": "code",
      "source": [
        ""
      ],
      "execution_count": 0,
      "outputs": []
    },
    {
      "metadata": {
        "id": "0Lh_lHCjRPSz",
        "colab_type": "code",
        "colab": {}
      },
      "cell_type": "code",
      "source": [
        ""
      ],
      "execution_count": 0,
      "outputs": []
    },
    {
      "metadata": {
        "id": "FDZdcs90RPS1",
        "colab_type": "text"
      },
      "cell_type": "markdown",
      "source": [
        "### 2.6)\n",
        "Try running `pd.DataFrame(history.history).plot()` to plot the learning curves. To make the graph more readable, you can also set `figsize=(8, 5)`, call `plt.grid(True)` and `plt.gca().set_ylim(0, 1)`."
      ]
    },
    {
      "metadata": {
        "id": "OrG-yjABRPS1",
        "colab_type": "code",
        "colab": {}
      },
      "cell_type": "code",
      "source": [
        ""
      ],
      "execution_count": 0,
      "outputs": []
    },
    {
      "metadata": {
        "id": "zM_FrNc7RPS3",
        "colab_type": "code",
        "colab": {}
      },
      "cell_type": "code",
      "source": [
        ""
      ],
      "execution_count": 0,
      "outputs": []
    },
    {
      "metadata": {
        "id": "IogvGR1SRPS6",
        "colab_type": "code",
        "colab": {}
      },
      "cell_type": "code",
      "source": [
        ""
      ],
      "execution_count": 0,
      "outputs": []
    },
    {
      "metadata": {
        "id": "tkV3R0f9RPS7",
        "colab_type": "text"
      },
      "cell_type": "markdown",
      "source": [
        "### 2.7)\n",
        "Try running `model.fit()` again, and notice that training continues where it left off."
      ]
    },
    {
      "metadata": {
        "id": "nn2w-lAxRPS7",
        "colab_type": "code",
        "colab": {}
      },
      "cell_type": "code",
      "source": [
        ""
      ],
      "execution_count": 0,
      "outputs": []
    },
    {
      "metadata": {
        "id": "C7hvYgxJRPS9",
        "colab_type": "code",
        "colab": {}
      },
      "cell_type": "code",
      "source": [
        ""
      ],
      "execution_count": 0,
      "outputs": []
    },
    {
      "metadata": {
        "id": "WalhTz2MRPS_",
        "colab_type": "code",
        "colab": {}
      },
      "cell_type": "code",
      "source": [
        ""
      ],
      "execution_count": 0,
      "outputs": []
    },
    {
      "metadata": {
        "id": "MGRJAGE2RPTB",
        "colab_type": "text"
      },
      "cell_type": "markdown",
      "source": [
        "### 2.8)\n",
        "call the model's `evaluate()` method, passing it the test set (`X_test` and `y_test`). This will compute the loss (cross-entropy) on the test set, as well as all the additional metrics (in this case, the accuracy). Your model should achieve over 80% accuracy on the test set."
      ]
    },
    {
      "metadata": {
        "id": "aBs9kJxVRPTB",
        "colab_type": "code",
        "colab": {}
      },
      "cell_type": "code",
      "source": [
        ""
      ],
      "execution_count": 0,
      "outputs": []
    },
    {
      "metadata": {
        "id": "nAXG0qEsRPTD",
        "colab_type": "code",
        "colab": {}
      },
      "cell_type": "code",
      "source": [
        ""
      ],
      "execution_count": 0,
      "outputs": []
    },
    {
      "metadata": {
        "id": "yrhlOckhRPTE",
        "colab_type": "code",
        "colab": {}
      },
      "cell_type": "code",
      "source": [
        ""
      ],
      "execution_count": 0,
      "outputs": []
    },
    {
      "metadata": {
        "id": "NbsfVKPDRPTF",
        "colab_type": "text"
      },
      "cell_type": "markdown",
      "source": [
        "### 2.9)\n",
        "Define `X_new` as the first 10 instances of the test set. Call the model's `predict()` method to estimate the probability of each class for each instance (for better readability, you may use the output array's `round()` method):"
      ]
    },
    {
      "metadata": {
        "id": "xQmCnrYtRPTF",
        "colab_type": "code",
        "colab": {}
      },
      "cell_type": "code",
      "source": [
        ""
      ],
      "execution_count": 0,
      "outputs": []
    },
    {
      "metadata": {
        "id": "0CZJEsnGRPTG",
        "colab_type": "code",
        "colab": {}
      },
      "cell_type": "code",
      "source": [
        ""
      ],
      "execution_count": 0,
      "outputs": []
    },
    {
      "metadata": {
        "id": "WFu_dp1gRPTI",
        "colab_type": "code",
        "colab": {}
      },
      "cell_type": "code",
      "source": [
        ""
      ],
      "execution_count": 0,
      "outputs": []
    },
    {
      "metadata": {
        "id": "NRT_prycRPTJ",
        "colab_type": "text"
      },
      "cell_type": "markdown",
      "source": [
        "### 2.10)\n",
        "Often, you may only be interested in the most likely class. Use `np.argmax()` to get the class ID of the most likely class for each instance. **Tip**: you want to set `axis=1`."
      ]
    },
    {
      "metadata": {
        "id": "vsCR5ZQGRPTJ",
        "colab_type": "code",
        "colab": {}
      },
      "cell_type": "code",
      "source": [
        ""
      ],
      "execution_count": 0,
      "outputs": []
    },
    {
      "metadata": {
        "id": "mZs-N2WMRPTK",
        "colab_type": "code",
        "colab": {}
      },
      "cell_type": "code",
      "source": [
        ""
      ],
      "execution_count": 0,
      "outputs": []
    },
    {
      "metadata": {
        "id": "cB516E6xRPTM",
        "colab_type": "code",
        "colab": {}
      },
      "cell_type": "code",
      "source": [
        ""
      ],
      "execution_count": 0,
      "outputs": []
    },
    {
      "metadata": {
        "id": "HkHovWq6RPTO",
        "colab_type": "text"
      },
      "cell_type": "markdown",
      "source": [
        "### 2.11)\n",
        "Call the model's `predict_classes()` method for `X_new`. You should get the same result as above."
      ]
    },
    {
      "metadata": {
        "id": "XFnGkW8qRPTO",
        "colab_type": "code",
        "colab": {}
      },
      "cell_type": "code",
      "source": [
        ""
      ],
      "execution_count": 0,
      "outputs": []
    },
    {
      "metadata": {
        "id": "R7LeSftCRPTQ",
        "colab_type": "code",
        "colab": {}
      },
      "cell_type": "code",
      "source": [
        ""
      ],
      "execution_count": 0,
      "outputs": []
    },
    {
      "metadata": {
        "id": "uudcmXWrRPTR",
        "colab_type": "code",
        "colab": {}
      },
      "cell_type": "code",
      "source": [
        ""
      ],
      "execution_count": 0,
      "outputs": []
    },
    {
      "metadata": {
        "id": "sWTzbNH3RPTS",
        "colab_type": "text"
      },
      "cell_type": "markdown",
      "source": [
        "### 2.12)\n",
        "(Optional) It is often useful to know how confident the model is for each prediction. Try finding the estimated probability for each predicted class using `np.max()`."
      ]
    },
    {
      "metadata": {
        "id": "h4niYJ84RPTS",
        "colab_type": "code",
        "colab": {}
      },
      "cell_type": "code",
      "source": [
        ""
      ],
      "execution_count": 0,
      "outputs": []
    },
    {
      "metadata": {
        "id": "P4wprs1tRPTU",
        "colab_type": "code",
        "colab": {}
      },
      "cell_type": "code",
      "source": [
        ""
      ],
      "execution_count": 0,
      "outputs": []
    },
    {
      "metadata": {
        "id": "_OVL1CvURPTV",
        "colab_type": "code",
        "colab": {}
      },
      "cell_type": "code",
      "source": [
        ""
      ],
      "execution_count": 0,
      "outputs": []
    },
    {
      "metadata": {
        "id": "A1Jf4x_URPTW",
        "colab_type": "text"
      },
      "cell_type": "markdown",
      "source": [
        "### 2.13)\n",
        "(Optional) It is frequent to want the top k classes and their estimated probabilities rather just the most likely class. You can use `np.argsort()` for this."
      ]
    },
    {
      "metadata": {
        "id": "iaPdI7BsRPTW",
        "colab_type": "code",
        "colab": {}
      },
      "cell_type": "code",
      "source": [
        ""
      ],
      "execution_count": 0,
      "outputs": []
    },
    {
      "metadata": {
        "id": "r6crm07yRPTZ",
        "colab_type": "code",
        "colab": {}
      },
      "cell_type": "code",
      "source": [
        ""
      ],
      "execution_count": 0,
      "outputs": []
    },
    {
      "metadata": {
        "id": "h3x_UyTnRPTb",
        "colab_type": "code",
        "colab": {}
      },
      "cell_type": "code",
      "source": [
        ""
      ],
      "execution_count": 0,
      "outputs": []
    },
    {
      "metadata": {
        "id": "H5wrnJsSRPTc",
        "colab_type": "text"
      },
      "cell_type": "markdown",
      "source": [
        "![Exercise solution](https://camo.githubusercontent.com/250388fde3fac9135ead9471733ee28e049f7a37/68747470733a2f2f75706c6f61642e77696b696d656469612e6f72672f77696b6970656469612f636f6d6d6f6e732f302f30362f46696c6f735f736567756e646f5f6c6f676f5f253238666c69707065642532392e6a7067)"
      ]
    },
    {
      "metadata": {
        "id": "TeCspcfPRPTc",
        "colab_type": "text"
      },
      "cell_type": "markdown",
      "source": [
        "## Exercise 2 - Solution"
      ]
    },
    {
      "metadata": {
        "id": "K76S__jbRPTd",
        "colab_type": "text"
      },
      "cell_type": "markdown",
      "source": [
        "### 2.1)\n",
        "Build a `Sequential` model (`keras.models.Sequential`), without any argument, then and add four layers to it by calling its `add()` method:\n",
        "  * a `Flatten` layer (`keras.layers.Flatten`) to convert each 28x28 image to a single row of 784 pixel values. Since it is the first layer in your model, you should specify the `input_shape` argument, leaving out the batch size: `[28, 28]`.\n",
        "  * a `Dense` layer  (`keras.layers.Dense`) with 300 neurons (aka units), and the `\"relu\"` activation function.\n",
        "  * Another `Dense` layer with 100 neurons, also with the `\"relu\"` activation function.\n",
        "  * A final `Dense` layer with 10 neurons (one per class), and with the `\"softmax\"` activation function to ensure that the sum of all the estimated class probabilities for each image is equal to 1."
      ]
    },
    {
      "metadata": {
        "id": "mYlZaehTRPTd",
        "colab_type": "code",
        "colab": {}
      },
      "cell_type": "code",
      "source": [
        "model = keras.models.Sequential()\n",
        "model.add(keras.layers.Flatten(input_shape=[28, 28]))\n",
        "model.add(keras.layers.Dense(300, activation=\"relu\"))\n",
        "model.add(keras.layers.Dense(100, activation=\"relu\"))\n",
        "model.add(keras.layers.Dense(10, activation=\"softmax\"))"
      ],
      "execution_count": 0,
      "outputs": []
    },
    {
      "metadata": {
        "id": "o826oACKRPTg",
        "colab_type": "text"
      },
      "cell_type": "markdown",
      "source": [
        "### 2.2)\n",
        "Alternatively, you can pass a list containing the 4 layers to the constructor of the `Sequential` model. The model's `layers` attribute holds the list of layers."
      ]
    },
    {
      "metadata": {
        "id": "PA_-sdlhRPTg",
        "colab_type": "code",
        "colab": {}
      },
      "cell_type": "code",
      "source": [
        "model = keras.models.Sequential([\n",
        "    keras.layers.Flatten(input_shape=[28, 28]),\n",
        "    keras.layers.Dense(300, activation=\"relu\"),\n",
        "    keras.layers.Dense(100, activation=\"relu\"),\n",
        "    keras.layers.Dense(10, activation=\"softmax\")\n",
        "])"
      ],
      "execution_count": 0,
      "outputs": []
    },
    {
      "metadata": {
        "id": "J6hLV-iuRPTh",
        "colab_type": "code",
        "outputId": "612ace95-74c2-4ae0-bdc5-5b7868f8dc91",
        "colab": {
          "base_uri": "https://localhost:8080/",
          "height": 82
        }
      },
      "cell_type": "code",
      "source": [
        "model.layers"
      ],
      "execution_count": 17,
      "outputs": [
        {
          "output_type": "execute_result",
          "data": {
            "text/plain": [
              "[<tensorflow.python.keras.layers.core.Flatten at 0x7f0f76fdd128>,\n",
              " <tensorflow.python.keras.layers.core.Dense at 0x7f0f76fdda90>,\n",
              " <tensorflow.python.keras.layers.core.Dense at 0x7f0f73c939b0>,\n",
              " <tensorflow.python.keras.layers.core.Dense at 0x7f0f73c3a320>]"
            ]
          },
          "metadata": {
            "tags": []
          },
          "execution_count": 17
        }
      ]
    },
    {
      "metadata": {
        "id": "qtWWGCqsRPTi",
        "colab_type": "text"
      },
      "cell_type": "markdown",
      "source": [
        "### 2.3)\n",
        "Call the model's `summary()` method and examine the output. Also, try using `keras.utils.plot_model()` to save an image of your model's architecture. Alternatively, you can uncomment the following code to display the image within Jupyter."
      ]
    },
    {
      "metadata": {
        "id": "2aRb4-RZRPTj",
        "colab_type": "code",
        "outputId": "de9a97ca-b83b-42e4-e676-614924ce5ba9",
        "colab": {
          "base_uri": "https://localhost:8080/",
          "height": 277
        }
      },
      "cell_type": "code",
      "source": [
        "model.summary()"
      ],
      "execution_count": 18,
      "outputs": [
        {
          "output_type": "stream",
          "text": [
            "Model: \"sequential_1\"\n",
            "_________________________________________________________________\n",
            "Layer (type)                 Output Shape              Param #   \n",
            "=================================================================\n",
            "flatten_1 (Flatten)          (None, 784)               0         \n",
            "_________________________________________________________________\n",
            "dense_3 (Dense)              (None, 300)               235500    \n",
            "_________________________________________________________________\n",
            "dense_4 (Dense)              (None, 100)               30100     \n",
            "_________________________________________________________________\n",
            "dense_5 (Dense)              (None, 10)                1010      \n",
            "=================================================================\n",
            "Total params: 266,610\n",
            "Trainable params: 266,610\n",
            "Non-trainable params: 0\n",
            "_________________________________________________________________\n"
          ],
          "name": "stdout"
        }
      ]
    },
    {
      "metadata": {
        "id": "nif3rcLaRPTj",
        "colab_type": "code",
        "outputId": "769a789a-215c-4cbd-d724-cb4f2f635796",
        "colab": {
          "base_uri": "https://localhost:8080/",
          "height": 533
        }
      },
      "cell_type": "code",
      "source": [
        "keras.utils.plot_model(model, \"my_mnist_model.png\", show_shapes=True)"
      ],
      "execution_count": 19,
      "outputs": [
        {
          "output_type": "execute_result",
          "data": {
            "image/png": "[encoded data removed]",
            "text/plain": [
              "<IPython.core.display.Image object>"
            ]
          },
          "metadata": {
            "tags": []
          },
          "execution_count": 19
        }
      ]
    },
    {
      "metadata": {
        "id": "wFHmZr5DRPTl",
        "colab_type": "code",
        "outputId": "439a2336-dc58-4d85-a058-cd3999a10a31",
        "colab": {
          "resources": {
            "http://localhost:8080/my_mnist_model.png": {
              "data": "CjwhRE9DVFlQRSBodG1sPgo8aHRtbCBsYW5nPWVuPgogIDxtZXRhIGNoYXJzZXQ9dXRmLTg+CiAgPG1ldGEgbmFtZT12aWV3cG9ydCBjb250ZW50PSJpbml0aWFsLXNjYWxlPTEsIG1pbmltdW0tc2NhbGU9MSwgd2lkdGg9ZGV2aWNlLXdpZHRoIj4KICA8dGl0bGU+RXJyb3IgNDA0IChOb3QgRm91bmQpISExPC90aXRsZT4KICA8c3R5bGU+CiAgICAqe21hcmdpbjowO3BhZGRpbmc6MH1odG1sLGNvZGV7Zm9udDoxNXB4LzIycHggYXJpYWwsc2Fucy1zZXJpZn1odG1se2JhY2tncm91bmQ6I2ZmZjtjb2xvcjojMjIyO3BhZGRpbmc6MTVweH1ib2R5e21hcmdpbjo3JSBhdXRvIDA7bWF4LXdpZHRoOjM5MHB4O21pbi1oZWlnaHQ6MTgwcHg7cGFkZGluZzozMHB4IDAgMTVweH0qID4gYm9keXtiYWNrZ3JvdW5kOnVybCgvL3d3dy5nb29nbGUuY29tL2ltYWdlcy9lcnJvcnMvcm9ib3QucG5nKSAxMDAlIDVweCBuby1yZXBlYXQ7cGFkZGluZy1yaWdodDoyMDVweH1we21hcmdpbjoxMXB4IDAgMjJweDtvdmVyZmxvdzpoaWRkZW59aW5ze2NvbG9yOiM3Nzc7dGV4dC1kZWNvcmF0aW9uOm5vbmV9YSBpbWd7Ym9yZGVyOjB9QG1lZGlhIHNjcmVlbiBhbmQgKG1heC13aWR0aDo3NzJweCl7Ym9keXtiYWNrZ3JvdW5kOm5vbmU7bWFyZ2luLXRvcDowO21heC13aWR0aDpub25lO3BhZGRpbmctcmlnaHQ6MH19I2xvZ297YmFja2dyb3VuZDp1cmwoLy93d3cuZ29vZ2xlLmNvbS9pbWFnZXMvbG9nb3MvZXJyb3JwYWdlL2Vycm9yX2xvZ28tMTUweDU0LnBuZykgbm8tcmVwZWF0O21hcmdpbi1sZWZ0Oi01cHh9QG1lZGlhIG9ubHkgc2NyZWVuIGFuZCAobWluLXJlc29sdXRpb246MTkyZHBpKXsjbG9nb3tiYWNrZ3JvdW5kOnVybCgvL3d3dy5nb29nbGUuY29tL2ltYWdlcy9sb2dvcy9lcnJvcnBhZ2UvZXJyb3JfbG9nby0xNTB4NTQtMngucG5nKSBuby1yZXBlYXQgMCUgMCUvMTAwJSAxMDAlOy1tb3otYm9yZGVyLWltYWdlOnVybCgvL3d3dy5nb29nbGUuY29tL2ltYWdlcy9sb2dvcy9lcnJvcnBhZ2UvZXJyb3JfbG9nby0xNTB4NTQtMngucG5nKSAwfX1AbWVkaWEgb25seSBzY3JlZW4gYW5kICgtd2Via2l0LW1pbi1kZXZpY2UtcGl4ZWwtcmF0aW86Mil7I2xvZ297YmFja2dyb3VuZDp1cmwoLy93d3cuZ29vZ2xlLmNvbS9pbWFnZXMvbG9nb3MvZXJyb3JwYWdlL2Vycm9yX2xvZ28tMTUweDU0LTJ4LnBuZykgbm8tcmVwZWF0Oy13ZWJraXQtYmFja2dyb3VuZC1zaXplOjEwMCUgMTAwJX19I2xvZ297ZGlzcGxheTppbmxpbmUtYmxvY2s7aGVpZ2h0OjU0cHg7d2lkdGg6MTUwcHh9CiAgPC9zdHlsZT4KICA8YSBocmVmPS8vd3d3Lmdvb2dsZS5jb20vPjxzcGFuIGlkPWxvZ28gYXJpYS1sYWJlbD1Hb29nbGU+PC9zcGFuPjwvYT4KICA8cD48Yj40MDQuPC9iPiA8aW5zPlRoYXTigJlzIGFuIGVycm9yLjwvaW5zPgogIDxwPiAgPGlucz5UaGF04oCZcyBhbGwgd2Uga25vdy48L2lucz4K",
              "ok": false,
              "headers": [
                [
                  "content-length",
                  "1449"
                ],
                [
                  "content-type",
                  "text/html; charset=utf-8"
                ]
              ],
              "status": 404,
              "status_text": "Not Found"
            }
          },
          "base_uri": "https://localhost:8080/",
          "height": 33
        }
      },
      "cell_type": "code",
      "source": [
        "%%html\n",
        "<img src=\"my_mnist_model.png\" />"
      ],
      "execution_count": 20,
      "outputs": [
        {
          "output_type": "display_data",
          "data": {
            "text/html": [
              "<img src=\"my_mnist_model.png\" />"
            ],
            "text/plain": [
              "<IPython.core.display.HTML object>"
            ]
          },
          "metadata": {
            "tags": []
          }
        }
      ]
    },
    {
      "metadata": {
        "id": "THHCfHWqRPTm",
        "colab_type": "text"
      },
      "cell_type": "markdown",
      "source": [
        "**Warning**: at the present, you need `from tensorflow.python.keras.utils.vis_utils import model_to_dot`, instead of simply `keras.utils.model_to_dot`. See [TensorFlow issue 24639](https://github.com/tensorflow/tensorflow/issues/24639)."
      ]
    },
    {
      "metadata": {
        "id": "huHWYxxeRPTn",
        "colab_type": "code",
        "outputId": "76150314-413d-454b-8a70-e4738998b6a4",
        "colab": {
          "base_uri": "https://localhost:8080/",
          "height": 536
        }
      },
      "cell_type": "code",
      "source": [
        "from IPython.display import SVG\n",
        "from tensorflow.python.keras.utils.vis_utils import model_to_dot\n",
        "SVG(model_to_dot(model, show_shapes=True).create(prog='dot', format='svg'))"
      ],
      "execution_count": 21,
      "outputs": [
        {
          "output_type": "execute_result",
          "data": {
            "text/plain": [
              "<IPython.core.display.SVG object>"
            ],
            "image/svg+xml": "<svg height=\"387pt\" viewBox=\"0.00 0.00 353.00 387.00\" width=\"353pt\" xmlns=\"http://www.w3.org/2000/svg\" xmlns:xlink=\"http://www.w3.org/1999/xlink\">\n<g class=\"graph\" id=\"graph0\" transform=\"scale(1 1) rotate(0) translate(4 383)\">\n<title>G</title>\n<polygon fill=\"#ffffff\" points=\"-4,4 -4,-383 349,-383 349,4 -4,4\" stroke=\"transparent\"/>\n<!-- 139704343440856 -->\n<g class=\"node\" id=\"node1\">\n<title>139704343440856</title>\n<polygon fill=\"none\" points=\"0,-332.5 0,-378.5 345,-378.5 345,-332.5 0,-332.5\" stroke=\"#000000\"/>\n<text fill=\"#000000\" font-family=\"Times,serif\" font-size=\"14.00\" text-anchor=\"middle\" x=\"88\" y=\"-351.8\">flatten_1_input: InputLayer</text>\n<polyline fill=\"none\" points=\"176,-332.5 176,-378.5 \" stroke=\"#000000\"/>\n<text fill=\"#000000\" font-family=\"Times,serif\" font-size=\"14.00\" text-anchor=\"middle\" x=\"205\" y=\"-363.3\">input:</text>\n<polyline fill=\"none\" points=\"176,-355.5 234,-355.5 \" stroke=\"#000000\"/>\n<text fill=\"#000000\" font-family=\"Times,serif\" font-size=\"14.00\" text-anchor=\"middle\" x=\"205\" y=\"-340.3\">output:</text>\n<polyline fill=\"none\" points=\"234,-332.5 234,-378.5 \" stroke=\"#000000\"/>\n<text fill=\"#000000\" font-family=\"Times,serif\" font-size=\"14.00\" text-anchor=\"middle\" x=\"289.5\" y=\"-363.3\">[(None, 28, 28)]</text>\n<polyline fill=\"none\" points=\"234,-355.5 345,-355.5 \" stroke=\"#000000\"/>\n<text fill=\"#000000\" font-family=\"Times,serif\" font-size=\"14.00\" text-anchor=\"middle\" x=\"289.5\" y=\"-340.3\">[(None, 28, 28)]</text>\n</g>\n<!-- 139704397582632 -->\n<g class=\"node\" id=\"node2\">\n<title>139704397582632</title>\n<polygon fill=\"none\" points=\"36,-249.5 36,-295.5 309,-295.5 309,-249.5 36,-249.5\" stroke=\"#000000\"/>\n<text fill=\"#000000\" font-family=\"Times,serif\" font-size=\"14.00\" text-anchor=\"middle\" x=\"92.5\" y=\"-268.8\">flatten_1: Flatten</text>\n<polyline fill=\"none\" points=\"149,-249.5 149,-295.5 \" stroke=\"#000000\"/>\n<text fill=\"#000000\" font-family=\"Times,serif\" font-size=\"14.00\" text-anchor=\"middle\" x=\"178\" y=\"-280.3\">input:</text>\n<polyline fill=\"none\" points=\"149,-272.5 207,-272.5 \" stroke=\"#000000\"/>\n<text fill=\"#000000\" font-family=\"Times,serif\" font-size=\"14.00\" text-anchor=\"middle\" x=\"178\" y=\"-257.3\">output:</text>\n<polyline fill=\"none\" points=\"207,-249.5 207,-295.5 \" stroke=\"#000000\"/>\n<text fill=\"#000000\" font-family=\"Times,serif\" font-size=\"14.00\" text-anchor=\"middle\" x=\"258\" y=\"-280.3\">(None, 28, 28)</text>\n<polyline fill=\"none\" points=\"207,-272.5 309,-272.5 \" stroke=\"#000000\"/>\n<text fill=\"#000000\" font-family=\"Times,serif\" font-size=\"14.00\" text-anchor=\"middle\" x=\"258\" y=\"-257.3\">(None, 784)</text>\n</g>\n<!-- 139704343440856&#45;&gt;139704397582632 -->\n<g class=\"edge\" id=\"edge1\">\n<title>139704343440856-&gt;139704397582632</title>\n<path d=\"M172.5,-332.3799C172.5,-324.1745 172.5,-314.7679 172.5,-305.8786\" fill=\"none\" stroke=\"#000000\"/>\n<polygon fill=\"#000000\" points=\"176.0001,-305.784 172.5,-295.784 169.0001,-305.784 176.0001,-305.784\" stroke=\"#000000\"/>\n</g>\n<!-- 139704397585040 -->\n<g class=\"node\" id=\"node3\">\n<title>139704397585040</title>\n<polygon fill=\"none\" points=\"46.5,-166.5 46.5,-212.5 298.5,-212.5 298.5,-166.5 46.5,-166.5\" stroke=\"#000000\"/>\n<text fill=\"#000000\" font-family=\"Times,serif\" font-size=\"14.00\" text-anchor=\"middle\" x=\"100\" y=\"-185.8\">dense_3: Dense</text>\n<polyline fill=\"none\" points=\"153.5,-166.5 153.5,-212.5 \" stroke=\"#000000\"/>\n<text fill=\"#000000\" font-family=\"Times,serif\" font-size=\"14.00\" text-anchor=\"middle\" x=\"182.5\" y=\"-197.3\">input:</text>\n<polyline fill=\"none\" points=\"153.5,-189.5 211.5,-189.5 \" stroke=\"#000000\"/>\n<text fill=\"#000000\" font-family=\"Times,serif\" font-size=\"14.00\" text-anchor=\"middle\" x=\"182.5\" y=\"-174.3\">output:</text>\n<polyline fill=\"none\" points=\"211.5,-166.5 211.5,-212.5 \" stroke=\"#000000\"/>\n<text fill=\"#000000\" font-family=\"Times,serif\" font-size=\"14.00\" text-anchor=\"middle\" x=\"255\" y=\"-197.3\">(None, 784)</text>\n<polyline fill=\"none\" points=\"211.5,-189.5 298.5,-189.5 \" stroke=\"#000000\"/>\n<text fill=\"#000000\" font-family=\"Times,serif\" font-size=\"14.00\" text-anchor=\"middle\" x=\"255\" y=\"-174.3\">(None, 300)</text>\n</g>\n<!-- 139704397582632&#45;&gt;139704397585040 -->\n<g class=\"edge\" id=\"edge2\">\n<title>139704397582632-&gt;139704397585040</title>\n<path d=\"M172.5,-249.3799C172.5,-241.1745 172.5,-231.7679 172.5,-222.8786\" fill=\"none\" stroke=\"#000000\"/>\n<polygon fill=\"#000000\" points=\"176.0001,-222.784 172.5,-212.784 169.0001,-222.784 176.0001,-222.784\" stroke=\"#000000\"/>\n</g>\n<!-- 139704343804336 -->\n<g class=\"node\" id=\"node4\">\n<title>139704343804336</title>\n<polygon fill=\"none\" points=\"46.5,-83.5 46.5,-129.5 298.5,-129.5 298.5,-83.5 46.5,-83.5\" stroke=\"#000000\"/>\n<text fill=\"#000000\" font-family=\"Times,serif\" font-size=\"14.00\" text-anchor=\"middle\" x=\"100\" y=\"-102.8\">dense_4: Dense</text>\n<polyline fill=\"none\" points=\"153.5,-83.5 153.5,-129.5 \" stroke=\"#000000\"/>\n<text fill=\"#000000\" font-family=\"Times,serif\" font-size=\"14.00\" text-anchor=\"middle\" x=\"182.5\" y=\"-114.3\">input:</text>\n<polyline fill=\"none\" points=\"153.5,-106.5 211.5,-106.5 \" stroke=\"#000000\"/>\n<text fill=\"#000000\" font-family=\"Times,serif\" font-size=\"14.00\" text-anchor=\"middle\" x=\"182.5\" y=\"-91.3\">output:</text>\n<polyline fill=\"none\" points=\"211.5,-83.5 211.5,-129.5 \" stroke=\"#000000\"/>\n<text fill=\"#000000\" font-family=\"Times,serif\" font-size=\"14.00\" text-anchor=\"middle\" x=\"255\" y=\"-114.3\">(None, 300)</text>\n<polyline fill=\"none\" points=\"211.5,-106.5 298.5,-106.5 \" stroke=\"#000000\"/>\n<text fill=\"#000000\" font-family=\"Times,serif\" font-size=\"14.00\" text-anchor=\"middle\" x=\"255\" y=\"-91.3\">(None, 100)</text>\n</g>\n<!-- 139704397585040&#45;&gt;139704343804336 -->\n<g class=\"edge\" id=\"edge3\">\n<title>139704397585040-&gt;139704343804336</title>\n<path d=\"M172.5,-166.3799C172.5,-158.1745 172.5,-148.7679 172.5,-139.8786\" fill=\"none\" stroke=\"#000000\"/>\n<polygon fill=\"#000000\" points=\"176.0001,-139.784 172.5,-129.784 169.0001,-139.784 176.0001,-139.784\" stroke=\"#000000\"/>\n</g>\n<!-- 139704343438112 -->\n<g class=\"node\" id=\"node5\">\n<title>139704343438112</title>\n<polygon fill=\"none\" points=\"46.5,-.5 46.5,-46.5 298.5,-46.5 298.5,-.5 46.5,-.5\" stroke=\"#000000\"/>\n<text fill=\"#000000\" font-family=\"Times,serif\" font-size=\"14.00\" text-anchor=\"middle\" x=\"100\" y=\"-19.8\">dense_5: Dense</text>\n<polyline fill=\"none\" points=\"153.5,-.5 153.5,-46.5 \" stroke=\"#000000\"/>\n<text fill=\"#000000\" font-family=\"Times,serif\" font-size=\"14.00\" text-anchor=\"middle\" x=\"182.5\" y=\"-31.3\">input:</text>\n<polyline fill=\"none\" points=\"153.5,-23.5 211.5,-23.5 \" stroke=\"#000000\"/>\n<text fill=\"#000000\" font-family=\"Times,serif\" font-size=\"14.00\" text-anchor=\"middle\" x=\"182.5\" y=\"-8.3\">output:</text>\n<polyline fill=\"none\" points=\"211.5,-.5 211.5,-46.5 \" stroke=\"#000000\"/>\n<text fill=\"#000000\" font-family=\"Times,serif\" font-size=\"14.00\" text-anchor=\"middle\" x=\"255\" y=\"-31.3\">(None, 100)</text>\n<polyline fill=\"none\" points=\"211.5,-23.5 298.5,-23.5 \" stroke=\"#000000\"/>\n<text fill=\"#000000\" font-family=\"Times,serif\" font-size=\"14.00\" text-anchor=\"middle\" x=\"255\" y=\"-8.3\">(None, 10)</text>\n</g>\n<!-- 139704343804336&#45;&gt;139704343438112 -->\n<g class=\"edge\" id=\"edge4\">\n<title>139704343804336-&gt;139704343438112</title>\n<path d=\"M172.5,-83.3799C172.5,-75.1745 172.5,-65.7679 172.5,-56.8786\" fill=\"none\" stroke=\"#000000\"/>\n<polygon fill=\"#000000\" points=\"176.0001,-56.784 172.5,-46.784 169.0001,-56.784 176.0001,-56.784\" stroke=\"#000000\"/>\n</g>\n</g>\n</svg>"
          },
          "metadata": {
            "tags": []
          },
          "execution_count": 21
        }
      ]
    },
    {
      "metadata": {
        "id": "y_MwSMbORPTo",
        "colab_type": "text"
      },
      "cell_type": "markdown",
      "source": [
        "### 2.4)\n",
        "After a model is created, you must call its `compile()` method to specify the `loss` function and the `optimizer` to use. In this case, you want to use the `\"sparse_categorical_crossentropy\"` loss, and the `\"sgd\"` optimizer (stochastic gradient descent). Moreover, you can optionally specify a list of additional metrics that should be measured during training. In this case you should specify `metrics=[\"accuracy\"]`. **Note**: you can find more loss functions in `keras.losses`, more metrics in `keras.metrics` and more optimizers in `keras.optimizers`."
      ]
    },
    {
      "metadata": {
        "id": "NMV_ag8YRPTp",
        "colab_type": "code",
        "colab": {}
      },
      "cell_type": "code",
      "source": [
        "model.compile(loss=\"sparse_categorical_crossentropy\",\n",
        "              optimizer=\"sgd\", metrics=[\"accuracy\"])"
      ],
      "execution_count": 0,
      "outputs": []
    },
    {
      "metadata": {
        "id": "zjKiJ4HqRPTs",
        "colab_type": "text"
      },
      "cell_type": "markdown",
      "source": [
        "### 2.5)\n",
        "Now your model is ready to be trained. Call its `fit()` method, passing it the input features (`X_train`) and the target classes (`y_train`). Set `epochs=10` (or else it will just run for a single epoch). You can also (optionally) pass the validation data by setting `validation_data=(X_valid, y_valid)`. If you do, Keras will compute the loss and the additional metrics (the accuracy in this case) on the validation set at the end of each epoch. If the performance on the training set is much better than on the validation set, your model is probably overfitting the training set (or there is a bug, such as a mismatch between the training set and the validation set).\n",
        "**Note**: the `fit()` method will return a `History` object containing training stats. Make sure to preserve it (`history = model.fit(...)`)."
      ]
    },
    {
      "metadata": {
        "id": "F1X4npqFRPTs",
        "colab_type": "code",
        "outputId": "1f1866c4-969c-4038-d164-f4fb06dc2888",
        "colab": {
          "base_uri": "https://localhost:8080/",
          "height": 378
        }
      },
      "cell_type": "code",
      "source": [
        "history = model.fit(X_train, y_train, epochs=10,\n",
        "                    validation_data=(X_valid, y_valid))"
      ],
      "execution_count": 23,
      "outputs": [
        {
          "output_type": "stream",
          "text": [
            "Train on 55000 samples, validate on 5000 samples\n",
            "Epoch 1/10\n",
            "55000/55000 [==============================] - 7s 136us/sample - loss: 3.1418 - accuracy: 0.6447 - val_loss: 0.7972 - val_accuracy: 0.6984\n",
            "Epoch 2/10\n",
            "55000/55000 [==============================] - 7s 128us/sample - loss: 0.7410 - accuracy: 0.7047 - val_loss: 0.7100 - val_accuracy: 0.7260\n",
            "Epoch 3/10\n",
            "55000/55000 [==============================] - 7s 131us/sample - loss: 0.6764 - accuracy: 0.7204 - val_loss: 0.7126 - val_accuracy: 0.7294\n",
            "Epoch 4/10\n",
            "55000/55000 [==============================] - 7s 131us/sample - loss: 0.6409 - accuracy: 0.7299 - val_loss: 0.7127 - val_accuracy: 0.7338\n",
            "Epoch 5/10\n",
            "55000/55000 [==============================] - 7s 127us/sample - loss: 0.6118 - accuracy: 0.7382 - val_loss: 0.7025 - val_accuracy: 0.7160\n",
            "Epoch 6/10\n",
            "55000/55000 [==============================] - 7s 131us/sample - loss: 0.5909 - accuracy: 0.7439 - val_loss: 0.6374 - val_accuracy: 0.7478\n",
            "Epoch 7/10\n",
            "55000/55000 [==============================] - 7s 134us/sample - loss: 0.5633 - accuracy: 0.7676 - val_loss: 0.5995 - val_accuracy: 0.7916\n",
            "Epoch 8/10\n",
            "55000/55000 [==============================] - 7s 132us/sample - loss: 0.5269 - accuracy: 0.7981 - val_loss: 0.5834 - val_accuracy: 0.8044\n",
            "Epoch 9/10\n",
            "55000/55000 [==============================] - 7s 132us/sample - loss: 0.5063 - accuracy: 0.8059 - val_loss: 0.5690 - val_accuracy: 0.8052\n",
            "Epoch 10/10\n",
            "55000/55000 [==============================] - 7s 133us/sample - loss: 0.4783 - accuracy: 0.8232 - val_loss: 0.5509 - val_accuracy: 0.8224\n"
          ],
          "name": "stdout"
        }
      ]
    },
    {
      "metadata": {
        "id": "f8RWZjDkRPTt",
        "colab_type": "text"
      },
      "cell_type": "markdown",
      "source": [
        "### 2.6)\n",
        "Try running `pd.DataFrame(history.history).plot()` to plot the learning curves. To make the graph more readable, you can also set `figsize=(8, 5)`, call `plt.grid(True)` and `plt.gca().set_ylim(0, 1)`."
      ]
    },
    {
      "metadata": {
        "id": "yho2UR-bRPTt",
        "colab_type": "code",
        "colab": {}
      },
      "cell_type": "code",
      "source": [
        "def plot_learning_curves(history):\n",
        "    pd.DataFrame(history.history).plot(figsize=(8, 5))\n",
        "    plt.grid(True)\n",
        "    plt.gca().set_ylim(0, 1)\n",
        "    plt.show()"
      ],
      "execution_count": 0,
      "outputs": []
    },
    {
      "metadata": {
        "id": "fWuNoI8ZRPTu",
        "colab_type": "code",
        "outputId": "886f2ae7-2c8f-4098-ed9a-ea96e2164ad1",
        "colab": {
          "base_uri": "https://localhost:8080/",
          "height": 325
        }
      },
      "cell_type": "code",
      "source": [
        "plot_learning_curves(history)"
      ],
      "execution_count": 25,
      "outputs": [
        {
          "output_type": "display_data",
          "data": {
            "image/png": "[encoded data removed]",
            "text/plain": [
              "<Figure size 576x360 with 1 Axes>"
            ]
          },
          "metadata": {
            "tags": []
          }
        }
      ]
    },
    {
      "metadata": {
        "id": "_eFqYMAARPTv",
        "colab_type": "text"
      },
      "cell_type": "markdown",
      "source": [
        "### 2.7)\n",
        "Try running `model.fit()` again, and notice that training continues where it left off."
      ]
    },
    {
      "metadata": {
        "id": "-HzM0t9_RPTv",
        "colab_type": "code",
        "outputId": "e7137da6-e9ac-4a62-9f8c-669185cbbacf",
        "colab": {
          "base_uri": "https://localhost:8080/",
          "height": 378
        }
      },
      "cell_type": "code",
      "source": [
        "history = model.fit(X_train, y_train, epochs=10,\n",
        "                    validation_data=(X_valid, y_valid))"
      ],
      "execution_count": 26,
      "outputs": [
        {
          "output_type": "stream",
          "text": [
            "Train on 55000 samples, validate on 5000 samples\n",
            "Epoch 1/10\n",
            "55000/55000 [==============================] - 7s 136us/sample - loss: 0.4507 - accuracy: 0.8368 - val_loss: 0.5274 - val_accuracy: 0.8320\n",
            "Epoch 2/10\n",
            "55000/55000 [==============================] - 7s 133us/sample - loss: 0.4325 - accuracy: 0.8434 - val_loss: 0.5267 - val_accuracy: 0.8252\n",
            "Epoch 3/10\n",
            "55000/55000 [==============================] - 7s 132us/sample - loss: 0.4189 - accuracy: 0.8475 - val_loss: 0.4983 - val_accuracy: 0.8376\n",
            "Epoch 4/10\n",
            "55000/55000 [==============================] - 7s 130us/sample - loss: 0.4051 - accuracy: 0.8525 - val_loss: 0.4917 - val_accuracy: 0.8432\n",
            "Epoch 5/10\n",
            "55000/55000 [==============================] - 7s 128us/sample - loss: 0.3986 - accuracy: 0.8548 - val_loss: 0.4757 - val_accuracy: 0.8434\n",
            "Epoch 6/10\n",
            "55000/55000 [==============================] - 7s 132us/sample - loss: 0.3912 - accuracy: 0.8573 - val_loss: 0.4973 - val_accuracy: 0.8386\n",
            "Epoch 7/10\n",
            "55000/55000 [==============================] - 7s 133us/sample - loss: 0.3828 - accuracy: 0.8605 - val_loss: 0.4793 - val_accuracy: 0.8434\n",
            "Epoch 8/10\n",
            "55000/55000 [==============================] - 7s 132us/sample - loss: 0.3762 - accuracy: 0.8615 - val_loss: 0.4729 - val_accuracy: 0.8492\n",
            "Epoch 9/10\n",
            "55000/55000 [==============================] - 7s 130us/sample - loss: 0.3688 - accuracy: 0.8644 - val_loss: 0.4625 - val_accuracy: 0.8512\n",
            "Epoch 10/10\n",
            "55000/55000 [==============================] - 7s 131us/sample - loss: 0.3643 - accuracy: 0.8648 - val_loss: 0.4682 - val_accuracy: 0.8492\n"
          ],
          "name": "stdout"
        }
      ]
    },
    {
      "metadata": {
        "id": "5_eewosXRPTw",
        "colab_type": "text"
      },
      "cell_type": "markdown",
      "source": [
        "### 2.8)\n",
        "Call the model's `evaluate()` method, passing it the test set (`X_test` and `y_test`). This will compute the loss (cross-entropy) on the test set, as well as all the additional metrics (in this case, the accuracy). Your model should achieve over 80% accuracy on the test set."
      ]
    },
    {
      "metadata": {
        "id": "7_mXDKUmRPTx",
        "colab_type": "code",
        "outputId": "c4fc034a-f22d-434c-cdf7-f7370d69c66b",
        "colab": {
          "base_uri": "https://localhost:8080/",
          "height": 50
        }
      },
      "cell_type": "code",
      "source": [
        "model.evaluate(X_test, y_test)"
      ],
      "execution_count": 27,
      "outputs": [
        {
          "output_type": "stream",
          "text": [
            "10000/10000 [==============================] - 1s 70us/sample - loss: 0.5018 - accuracy: 0.8346\n"
          ],
          "name": "stdout"
        },
        {
          "output_type": "execute_result",
          "data": {
            "text/plain": [
              "[0.5018334259986877, 0.8346]"
            ]
          },
          "metadata": {
            "tags": []
          },
          "execution_count": 27
        }
      ]
    },
    {
      "metadata": {
        "id": "FQ75RKXbRPTy",
        "colab_type": "text"
      },
      "cell_type": "markdown",
      "source": [
        "### 2.9)\n",
        "Define `X_new` as the first 10 instances of the test set. Call the model's `predict()` method to estimate the probability of each class for each instance (for better readability, you may use the output array's `round()` method):"
      ]
    },
    {
      "metadata": {
        "id": "apo-SxVsRPTy",
        "colab_type": "code",
        "outputId": "52f3b93b-3e53-43a2-acb5-09f5397b0a0b",
        "colab": {
          "base_uri": "https://localhost:8080/",
          "height": 196
        }
      },
      "cell_type": "code",
      "source": [
        "n_new = 10\n",
        "X_new = X_test[:n_new]\n",
        "y_proba = model.predict(X_new)\n",
        "y_proba.round(2)"
      ],
      "execution_count": 28,
      "outputs": [
        {
          "output_type": "execute_result",
          "data": {
            "text/plain": [
              "array([[0.  , 0.  , 0.  , 0.  , 0.  , 0.  , 0.  , 0.01, 0.  , 0.99],\n",
              "       [0.  , 0.  , 0.94, 0.  , 0.01, 0.  , 0.05, 0.  , 0.  , 0.  ],\n",
              "       [0.  , 1.  , 0.  , 0.  , 0.  , 0.  , 0.  , 0.  , 0.  , 0.  ],\n",
              "       [0.  , 1.  , 0.  , 0.  , 0.  , 0.  , 0.  , 0.  , 0.  , 0.  ],\n",
              "       [0.38, 0.  , 0.1 , 0.03, 0.02, 0.  , 0.46, 0.  , 0.01, 0.  ],\n",
              "       [0.  , 1.  , 0.  , 0.  , 0.  , 0.  , 0.  , 0.  , 0.  , 0.  ],\n",
              "       [0.  , 0.  , 0.01, 0.  , 0.96, 0.  , 0.02, 0.  , 0.  , 0.  ],\n",
              "       [0.  , 0.  , 0.03, 0.  , 0.51, 0.  , 0.46, 0.  , 0.  , 0.  ],\n",
              "       [0.  , 0.  , 0.  , 0.  , 0.  , 1.  , 0.  , 0.  , 0.  , 0.  ],\n",
              "       [0.  , 0.  , 0.  , 0.  , 0.  , 0.  , 0.  , 1.  , 0.  , 0.  ]],\n",
              "      dtype=float32)"
            ]
          },
          "metadata": {
            "tags": []
          },
          "execution_count": 28
        }
      ]
    },
    {
      "metadata": {
        "id": "0TS0offQRPTz",
        "colab_type": "text"
      },
      "cell_type": "markdown",
      "source": [
        "### 2.10)\n",
        "Often, you may only be interested in the most likely class. Use `np.argmax()` to get the class ID of the most likely class for each instance. **Tip**: you want to set `axis=1`."
      ]
    },
    {
      "metadata": {
        "id": "Xg_P8onGRPT1",
        "colab_type": "code",
        "outputId": "64400b6f-7f8f-44ec-f305-d92d513ea559",
        "colab": {
          "base_uri": "https://localhost:8080/",
          "height": 33
        }
      },
      "cell_type": "code",
      "source": [
        "y_pred = y_proba.argmax(axis=1)\n",
        "y_pred"
      ],
      "execution_count": 29,
      "outputs": [
        {
          "output_type": "execute_result",
          "data": {
            "text/plain": [
              "array([9, 2, 1, 1, 6, 1, 4, 4, 5, 7])"
            ]
          },
          "metadata": {
            "tags": []
          },
          "execution_count": 29
        }
      ]
    },
    {
      "metadata": {
        "id": "jmlHeqeWRPT2",
        "colab_type": "text"
      },
      "cell_type": "markdown",
      "source": [
        "### 2.11)\n",
        "Call the model's `predict_classes()` method for `X_new`. You should get the same result as above."
      ]
    },
    {
      "metadata": {
        "id": "mDfoAE2QRPT3",
        "colab_type": "code",
        "outputId": "200f45b4-b25b-4aca-9506-6d44cb67cfc3",
        "colab": {
          "base_uri": "https://localhost:8080/",
          "height": 33
        }
      },
      "cell_type": "code",
      "source": [
        "y_pred = model.predict_classes(X_new)\n",
        "y_pred"
      ],
      "execution_count": 30,
      "outputs": [
        {
          "output_type": "execute_result",
          "data": {
            "text/plain": [
              "array([9, 2, 1, 1, 6, 1, 4, 4, 5, 7])"
            ]
          },
          "metadata": {
            "tags": []
          },
          "execution_count": 30
        }
      ]
    },
    {
      "metadata": {
        "id": "4WfPVC2-RPT4",
        "colab_type": "text"
      },
      "cell_type": "markdown",
      "source": [
        "### 2.12)\n",
        "(Optional) It is often useful to know how confident the model is for each prediction. Try finding the estimated probability for each predicted class using `np.max()`."
      ]
    },
    {
      "metadata": {
        "id": "NkvgQ6IXRPT5",
        "colab_type": "code",
        "outputId": "64094d00-b526-4b9b-9d2e-ddd2910205d8",
        "colab": {
          "base_uri": "https://localhost:8080/",
          "height": 50
        }
      },
      "cell_type": "code",
      "source": [
        "y_proba.max(axis=1).round(2)"
      ],
      "execution_count": 31,
      "outputs": [
        {
          "output_type": "execute_result",
          "data": {
            "text/plain": [
              "array([0.99, 0.94, 1.  , 1.  , 0.46, 1.  , 0.96, 0.51, 1.  , 1.  ],\n",
              "      dtype=float32)"
            ]
          },
          "metadata": {
            "tags": []
          },
          "execution_count": 31
        }
      ]
    },
    {
      "metadata": {
        "id": "uDOQNtGPRPT6",
        "colab_type": "text"
      },
      "cell_type": "markdown",
      "source": [
        "### 2.13)\n",
        "(Optional) It is frequent to want the top k classes and their estimated probabilities rather just the most likely class. You can use `np.argsort()` for this."
      ]
    },
    {
      "metadata": {
        "id": "G2hi2a61RPT6",
        "colab_type": "code",
        "outputId": "c7b29651-a4aa-489f-ce05-9a1e34b19c96",
        "colab": {
          "base_uri": "https://localhost:8080/",
          "height": 180
        }
      },
      "cell_type": "code",
      "source": [
        "k = 3\n",
        "top_k = np.argsort(-y_proba, axis=1)[:, :k]\n",
        "top_k"
      ],
      "execution_count": 32,
      "outputs": [
        {
          "output_type": "execute_result",
          "data": {
            "text/plain": [
              "array([[9, 7, 5],\n",
              "       [2, 6, 4],\n",
              "       [1, 3, 2],\n",
              "       [1, 0, 6],\n",
              "       [6, 0, 2],\n",
              "       [1, 3, 2],\n",
              "       [4, 6, 2],\n",
              "       [4, 6, 2],\n",
              "       [5, 7, 9],\n",
              "       [7, 5, 8]])"
            ]
          },
          "metadata": {
            "tags": []
          },
          "execution_count": 32
        }
      ]
    },
    {
      "metadata": {
        "id": "gN-S84wtRPT7",
        "colab_type": "code",
        "outputId": "07fa82f2-6cdc-4bb7-e9d6-1c01fe3ab63c",
        "colab": {
          "base_uri": "https://localhost:8080/",
          "height": 180
        }
      },
      "cell_type": "code",
      "source": [
        "row_indices = np.tile(np.arange(len(top_k)), [k, 1]).T\n",
        "y_proba[row_indices, top_k].round(2)"
      ],
      "execution_count": 33,
      "outputs": [
        {
          "output_type": "execute_result",
          "data": {
            "text/plain": [
              "array([[0.99, 0.01, 0.  ],\n",
              "       [0.94, 0.05, 0.01],\n",
              "       [1.  , 0.  , 0.  ],\n",
              "       [1.  , 0.  , 0.  ],\n",
              "       [0.46, 0.38, 0.1 ],\n",
              "       [1.  , 0.  , 0.  ],\n",
              "       [0.96, 0.02, 0.01],\n",
              "       [0.51, 0.46, 0.03],\n",
              "       [1.  , 0.  , 0.  ],\n",
              "       [1.  , 0.  , 0.  ]], dtype=float32)"
            ]
          },
          "metadata": {
            "tags": []
          },
          "execution_count": 33
        }
      ]
    },
    {
      "metadata": {
        "id": "Bha9eJ6oRPT8",
        "colab_type": "text"
      },
      "cell_type": "markdown",
      "source": [
        "![Exercise](https://c1.staticflickr.com/9/8101/8553474140_c50cf08708_b.jpg)"
      ]
    },
    {
      "metadata": {
        "id": "69UqxP0bRPT8",
        "colab_type": "text"
      },
      "cell_type": "markdown",
      "source": [
        "## Exercise 3 – Scale the features"
      ]
    },
    {
      "metadata": {
        "id": "8dXCkemVRPT-",
        "colab_type": "text"
      },
      "cell_type": "markdown",
      "source": [
        "### 3.1)\n",
        "When using Gradient Descent, it is usually best to ensure that the features all have a similar scale, preferably with a Normal distribution. Try to standardize the pixel values and see if this improves the performance of your neural network.\n",
        "\n",
        "**Tips**:\n",
        "* For each feature (pixel intensity), you must subtract the `mean()` of that feature (across all instances, so use `axis=0`) and divide by its standard deviation (`std()`, again `axis=0`). Alternatively, you can use Scikit-Learn's `StandardScaler`.\n",
        "* Make sure you compute the means and standard deviations on the training set, and use these statistics to scale the training set, the validation set and the test set (you should not fit the validation set or the test set, and computing the means and standard deviations counts as \"fitting\")."
      ]
    },
    {
      "metadata": {
        "id": "IM3z3Oe5RPT-",
        "colab_type": "code",
        "colab": {}
      },
      "cell_type": "code",
      "source": [
        ""
      ],
      "execution_count": 0,
      "outputs": []
    },
    {
      "metadata": {
        "id": "BJSMnRZKRPT_",
        "colab_type": "code",
        "colab": {}
      },
      "cell_type": "code",
      "source": [
        ""
      ],
      "execution_count": 0,
      "outputs": []
    },
    {
      "metadata": {
        "id": "wnyW2dHrRPT_",
        "colab_type": "code",
        "colab": {}
      },
      "cell_type": "code",
      "source": [
        ""
      ],
      "execution_count": 0,
      "outputs": []
    },
    {
      "metadata": {
        "id": "EdsgSzdSRPUA",
        "colab_type": "text"
      },
      "cell_type": "markdown",
      "source": [
        "### 3.2)\n",
        "Plot the learning curves. Do they look better than earlier?"
      ]
    },
    {
      "metadata": {
        "id": "1-Jv3WIZRPUA",
        "colab_type": "code",
        "colab": {}
      },
      "cell_type": "code",
      "source": [
        ""
      ],
      "execution_count": 0,
      "outputs": []
    },
    {
      "metadata": {
        "id": "NzLcNABhRPUC",
        "colab_type": "code",
        "colab": {}
      },
      "cell_type": "code",
      "source": [
        ""
      ],
      "execution_count": 0,
      "outputs": []
    },
    {
      "metadata": {
        "id": "S1w1axBuRPUD",
        "colab_type": "code",
        "colab": {}
      },
      "cell_type": "code",
      "source": [
        ""
      ],
      "execution_count": 0,
      "outputs": []
    },
    {
      "metadata": {
        "id": "Q6n527NLRPUD",
        "colab_type": "text"
      },
      "cell_type": "markdown",
      "source": [
        "![Exercise solution](https://camo.githubusercontent.com/250388fde3fac9135ead9471733ee28e049f7a37/68747470733a2f2f75706c6f61642e77696b696d656469612e6f72672f77696b6970656469612f636f6d6d6f6e732f302f30362f46696c6f735f736567756e646f5f6c6f676f5f253238666c69707065642532392e6a7067)"
      ]
    },
    {
      "metadata": {
        "id": "bwjFFv2kRPUE",
        "colab_type": "text"
      },
      "cell_type": "markdown",
      "source": [
        "## Exercise 3 – Solution"
      ]
    },
    {
      "metadata": {
        "id": "ZkC5WxjXRPUE",
        "colab_type": "text"
      },
      "cell_type": "markdown",
      "source": [
        "### 3.1)\n",
        "When using Gradient Descent, it is usually best to ensure that the features all have a similar scale, preferably with a Normal distribution. Try to standardize the pixel values and see if this improves the performance of your neural network."
      ]
    },
    {
      "metadata": {
        "id": "OlUXWhJuRPUE",
        "colab_type": "code",
        "colab": {}
      },
      "cell_type": "code",
      "source": [
        "pixel_means = X_train.mean(axis = 0)\n",
        "pixel_stds = X_train.std(axis = 0)\n",
        "X_train_scaled = (X_train - pixel_means) / pixel_stds\n",
        "X_valid_scaled = (X_valid - pixel_means) / pixel_stds\n",
        "X_test_scaled = (X_test - pixel_means) / pixel_stds"
      ],
      "execution_count": 0,
      "outputs": []
    },
    {
      "metadata": {
        "id": "fOpS4nRvRPUF",
        "colab_type": "code",
        "colab": {}
      },
      "cell_type": "code",
      "source": [
        "from sklearn.preprocessing import StandardScaler\n",
        "\n",
        "scaler = StandardScaler()\n",
        "X_train_scaled = scaler.fit_transform(X_train.astype(np.float32).reshape(-1, 1)).reshape(-1, 28, 28)\n",
        "X_valid_scaled = scaler.transform(X_valid.astype(np.float32).reshape(-1, 1)).reshape(-1, 28, 28)\n",
        "X_test_scaled = scaler.transform(X_test.astype(np.float32).reshape(-1, 1)).reshape(-1, 28, 28)"
      ],
      "execution_count": 0,
      "outputs": []
    },
    {
      "metadata": {
        "id": "PlvU_v98RPUG",
        "colab_type": "code",
        "outputId": "a9e5e40b-6a65-495d-9cbc-44293b5b09f9",
        "colab": {
          "base_uri": "https://localhost:8080/",
          "height": 703
        }
      },
      "cell_type": "code",
      "source": [
        "model = keras.models.Sequential([\n",
        "    keras.layers.Flatten(input_shape=[28, 28]),\n",
        "    keras.layers.Dense(300, activation=\"relu\"),\n",
        "    keras.layers.Dense(100, activation=\"relu\"),\n",
        "    keras.layers.Dense(10, activation=\"softmax\")\n",
        "])\n",
        "model.compile(loss=\"sparse_categorical_crossentropy\",\n",
        "              optimizer=\"sgd\", metrics=[\"accuracy\"])\n",
        "history = model.fit(X_train_scaled, y_train, epochs=20,\n",
        "                    validation_data=(X_valid_scaled, y_valid))"
      ],
      "execution_count": 36,
      "outputs": [
        {
          "output_type": "stream",
          "text": [
            "Train on 55000 samples, validate on 5000 samples\n",
            "Epoch 1/20\n",
            "55000/55000 [==============================] - 8s 144us/sample - loss: 0.8943 - accuracy: 0.7103 - val_loss: 0.6087 - val_accuracy: 0.7948\n",
            "Epoch 2/20\n",
            "55000/55000 [==============================] - 8s 148us/sample - loss: 0.5744 - accuracy: 0.8012 - val_loss: 0.5170 - val_accuracy: 0.8260\n",
            "Epoch 3/20\n",
            "55000/55000 [==============================] - 8s 146us/sample - loss: 0.5095 - accuracy: 0.8219 - val_loss: 0.4783 - val_accuracy: 0.8382\n",
            "Epoch 4/20\n",
            "55000/55000 [==============================] - 8s 146us/sample - loss: 0.4742 - accuracy: 0.8333 - val_loss: 0.4566 - val_accuracy: 0.8460\n",
            "Epoch 5/20\n",
            "55000/55000 [==============================] - 8s 141us/sample - loss: 0.4507 - accuracy: 0.8425 - val_loss: 0.4375 - val_accuracy: 0.8508\n",
            "Epoch 6/20\n",
            "55000/55000 [==============================] - 8s 142us/sample - loss: 0.4329 - accuracy: 0.8476 - val_loss: 0.4233 - val_accuracy: 0.8554\n",
            "Epoch 7/20\n",
            "55000/55000 [==============================] - 8s 144us/sample - loss: 0.4192 - accuracy: 0.8524 - val_loss: 0.4146 - val_accuracy: 0.8592\n",
            "Epoch 8/20\n",
            "55000/55000 [==============================] - 8s 142us/sample - loss: 0.4075 - accuracy: 0.8561 - val_loss: 0.4063 - val_accuracy: 0.8614\n",
            "Epoch 9/20\n",
            "55000/55000 [==============================] - 8s 142us/sample - loss: 0.3982 - accuracy: 0.8600 - val_loss: 0.3971 - val_accuracy: 0.8652\n",
            "Epoch 10/20\n",
            "55000/55000 [==============================] - 8s 143us/sample - loss: 0.3897 - accuracy: 0.8633 - val_loss: 0.3922 - val_accuracy: 0.8650\n",
            "Epoch 11/20\n",
            "55000/55000 [==============================] - 8s 143us/sample - loss: 0.3822 - accuracy: 0.8660 - val_loss: 0.3867 - val_accuracy: 0.8674\n",
            "Epoch 12/20\n",
            "55000/55000 [==============================] - 8s 139us/sample - loss: 0.3753 - accuracy: 0.8677 - val_loss: 0.3823 - val_accuracy: 0.8694\n",
            "Epoch 13/20\n",
            "55000/55000 [==============================] - 8s 146us/sample - loss: 0.3694 - accuracy: 0.8713 - val_loss: 0.3754 - val_accuracy: 0.8688\n",
            "Epoch 14/20\n",
            "55000/55000 [==============================] - 8s 141us/sample - loss: 0.3637 - accuracy: 0.8717 - val_loss: 0.3728 - val_accuracy: 0.8694\n",
            "Epoch 15/20\n",
            "55000/55000 [==============================] - 8s 143us/sample - loss: 0.3585 - accuracy: 0.8739 - val_loss: 0.3745 - val_accuracy: 0.8704\n",
            "Epoch 16/20\n",
            "55000/55000 [==============================] - 8s 142us/sample - loss: 0.3539 - accuracy: 0.8759 - val_loss: 0.3650 - val_accuracy: 0.8730\n",
            "Epoch 17/20\n",
            "55000/55000 [==============================] - 8s 144us/sample - loss: 0.3491 - accuracy: 0.8769 - val_loss: 0.3654 - val_accuracy: 0.8692\n",
            "Epoch 18/20\n",
            "55000/55000 [==============================] - 8s 139us/sample - loss: 0.3449 - accuracy: 0.8783 - val_loss: 0.3590 - val_accuracy: 0.8740\n",
            "Epoch 19/20\n",
            "55000/55000 [==============================] - 8s 148us/sample - loss: 0.3407 - accuracy: 0.8799 - val_loss: 0.3599 - val_accuracy: 0.8734\n",
            "Epoch 20/20\n",
            "55000/55000 [==============================] - 8s 143us/sample - loss: 0.3371 - accuracy: 0.8813 - val_loss: 0.3552 - val_accuracy: 0.8764\n"
          ],
          "name": "stdout"
        }
      ]
    },
    {
      "metadata": {
        "id": "L6r7NtFJRPUG",
        "colab_type": "code",
        "outputId": "4cd0d8cf-5bb8-4234-fd26-910dc0bdd919",
        "colab": {
          "base_uri": "https://localhost:8080/",
          "height": 50
        }
      },
      "cell_type": "code",
      "source": [
        "model.evaluate(X_test_scaled, y_test)"
      ],
      "execution_count": 37,
      "outputs": [
        {
          "output_type": "stream",
          "text": [
            "10000/10000 [==============================] - 1s 85us/sample - loss: 0.3883 - accuracy: 0.8606\n"
          ],
          "name": "stdout"
        },
        {
          "output_type": "execute_result",
          "data": {
            "text/plain": [
              "[0.38833879073858263, 0.8606]"
            ]
          },
          "metadata": {
            "tags": []
          },
          "execution_count": 37
        }
      ]
    },
    {
      "metadata": {
        "id": "EOGYbFicRPUI",
        "colab_type": "text"
      },
      "cell_type": "markdown",
      "source": [
        "### 3.2)\n",
        "Plot the learning curves. Do they look better than earlier?"
      ]
    },
    {
      "metadata": {
        "scrolled": true,
        "id": "YuzOixXaRPUI",
        "colab_type": "code",
        "outputId": "3c4d20a9-91a6-4b13-94cb-542a96e0c4ce",
        "colab": {
          "base_uri": "https://localhost:8080/",
          "height": 325
        }
      },
      "cell_type": "code",
      "source": [
        "plot_learning_curves(history)"
      ],
      "execution_count": 38,
      "outputs": [
        {
          "output_type": "display_data",
          "data": {
            "image/png": "[encoded data removed]",
            "text/plain": [
              "<Figure size 576x360 with 1 Axes>"
            ]
          },
          "metadata": {
            "tags": []
          }
        }
      ]
    },
    {
      "metadata": {
        "id": "HcRJexXlRPUJ",
        "colab_type": "text"
      },
      "cell_type": "markdown",
      "source": [
        "![Exercise](https://c1.staticflickr.com/9/8101/8553474140_c50cf08708_b.jpg)"
      ]
    },
    {
      "metadata": {
        "id": "4eW2GR0dRPUJ",
        "colab_type": "text"
      },
      "cell_type": "markdown",
      "source": [
        "## Exercise 4 – Use Callbacks"
      ]
    },
    {
      "metadata": {
        "id": "xhuImJtfRPUJ",
        "colab_type": "text"
      },
      "cell_type": "markdown",
      "source": [
        "### 4.1)\n",
        "The `fit()` method accepts a `callbacks` argument. Try training your model with a large number of epochs, a validation set, and with a few callbacks from `keras.callbacks`:\n",
        "* `TensorBoard`: specify a log directory. It should be a subdirectory of a root logdir, such as `./my_logs/run_1`, and it should be different every time you train your model. You can use a timestamp in the subdirectory's path to ensure that it changes at every run.\n",
        "* `EarlyStopping`: specify `patience=5`\n",
        "* `ModelCheckpoint`: specify the path of the checkpoint file to save (e.g., `\"my_mnist_model.h5\"`) and set `save_best_only=True`\n",
        "\n",
        "Notice that the `EarlyStopping` callback will interrupt training before it reaches the requested number of epochs. This reduces the risk of overfitting."
      ]
    },
    {
      "metadata": {
        "id": "3Uh0cas-RPUJ",
        "colab_type": "code",
        "colab": {}
      },
      "cell_type": "code",
      "source": [
        ""
      ],
      "execution_count": 0,
      "outputs": []
    },
    {
      "metadata": {
        "id": "qfIiunnqRPUK",
        "colab_type": "code",
        "colab": {}
      },
      "cell_type": "code",
      "source": [
        ""
      ],
      "execution_count": 0,
      "outputs": []
    },
    {
      "metadata": {
        "id": "0dE7fJRsRPUL",
        "colab_type": "code",
        "colab": {}
      },
      "cell_type": "code",
      "source": [
        ""
      ],
      "execution_count": 0,
      "outputs": []
    },
    {
      "metadata": {
        "id": "MTbUE9DJRPUM",
        "colab_type": "text"
      },
      "cell_type": "markdown",
      "source": [
        "### 4.2)\n",
        "Run the following code (from this [StackOverflow answer](https://stackoverflow.com/questions/38189119/simple-way-to-visualize-a-tensorflow-graph-in-jupyter/53978715#53978715)) to start a TensorBoard server and open a new tab to visualize the learning curve. When you are done, you can stop the tensorboard server by running `server.kill()`."
      ]
    },
    {
      "metadata": {
        "id": "kvdwecuERPUM",
        "colab_type": "code",
        "colab": {}
      },
      "cell_type": "code",
      "source": [
        "root_logdir = os.path.join(os.curdir, \"my_logs\")"
      ],
      "execution_count": 0,
      "outputs": []
    },
    {
      "metadata": {
        "id": "gN1YbNsERPUN",
        "colab_type": "code",
        "colab": {}
      },
      "cell_type": "code",
      "source": [
        "def tb(logdir=root_logdir, port=6006, open_tab=True, sleep=2):\n",
        "    import subprocess\n",
        "    proc = subprocess.Popen(\n",
        "        \"tensorboard --logdir={0} --port={1}\".format(logdir, port), shell=True)\n",
        "    if open_tab:\n",
        "        import time\n",
        "        time.sleep(sleep)\n",
        "        import webbrowser\n",
        "        webbrowser.open(\"http://127.0.0.1:{}/\".format(port))\n",
        "    return proc"
      ],
      "execution_count": 0,
      "outputs": []
    },
    {
      "metadata": {
        "id": "vpPfgcHMRPUN",
        "colab_type": "code",
        "colab": {}
      },
      "cell_type": "code",
      "source": [
        "#server = tb() # uncomment and run this to start the TensorBoard server"
      ],
      "execution_count": 0,
      "outputs": []
    },
    {
      "metadata": {
        "id": "fk3F0iTGRPUO",
        "colab_type": "code",
        "colab": {}
      },
      "cell_type": "code",
      "source": [
        "#server.kill() # uncomment and run this to stop the server"
      ],
      "execution_count": 0,
      "outputs": []
    },
    {
      "metadata": {
        "id": "CPv5oiYiRPUP",
        "colab_type": "text"
      },
      "cell_type": "markdown",
      "source": [
        "### 4.3)\n",
        "The early stopping callback only stopped training after 10 epochs without progress, so your model may already have started to overfit the training set. Fortunately, since the `ModelCheckpoint` callback only saved the best models (on the validation set), the last saved model is the best on the validation set, so try loading it using `keras.models.load_model()`. Finally evaluate it on the test set."
      ]
    },
    {
      "metadata": {
        "id": "U-uBMu_KRPUQ",
        "colab_type": "code",
        "colab": {}
      },
      "cell_type": "code",
      "source": [
        ""
      ],
      "execution_count": 0,
      "outputs": []
    },
    {
      "metadata": {
        "id": "JU-DNyVeRPUQ",
        "colab_type": "code",
        "colab": {}
      },
      "cell_type": "code",
      "source": [
        ""
      ],
      "execution_count": 0,
      "outputs": []
    },
    {
      "metadata": {
        "id": "haw9qfblRPUR",
        "colab_type": "code",
        "colab": {}
      },
      "cell_type": "code",
      "source": [
        ""
      ],
      "execution_count": 0,
      "outputs": []
    },
    {
      "metadata": {
        "id": "VSHSbodvRPUS",
        "colab_type": "text"
      },
      "cell_type": "markdown",
      "source": [
        "### 4.4)\n",
        "Look at the list of available callbacks at https://keras.io/callbacks/"
      ]
    },
    {
      "metadata": {
        "id": "3mSJZzYrRPUS",
        "colab_type": "code",
        "colab": {}
      },
      "cell_type": "code",
      "source": [
        ""
      ],
      "execution_count": 0,
      "outputs": []
    },
    {
      "metadata": {
        "id": "J6mWmGomRPUT",
        "colab_type": "code",
        "colab": {}
      },
      "cell_type": "code",
      "source": [
        ""
      ],
      "execution_count": 0,
      "outputs": []
    },
    {
      "metadata": {
        "id": "TUerq00vRPUU",
        "colab_type": "code",
        "colab": {}
      },
      "cell_type": "code",
      "source": [
        ""
      ],
      "execution_count": 0,
      "outputs": []
    },
    {
      "metadata": {
        "id": "_ZI8eYmxRPUV",
        "colab_type": "text"
      },
      "cell_type": "markdown",
      "source": [
        "![Exercise solution](https://camo.githubusercontent.com/250388fde3fac9135ead9471733ee28e049f7a37/68747470733a2f2f75706c6f61642e77696b696d656469612e6f72672f77696b6970656469612f636f6d6d6f6e732f302f30362f46696c6f735f736567756e646f5f6c6f676f5f253238666c69707065642532392e6a7067)"
      ]
    },
    {
      "metadata": {
        "id": "fnv07ZWURPUV",
        "colab_type": "text"
      },
      "cell_type": "markdown",
      "source": [
        "## Exercise 4 – Solution"
      ]
    },
    {
      "metadata": {
        "id": "Dm92YfodRPUV",
        "colab_type": "text"
      },
      "cell_type": "markdown",
      "source": [
        "### 4.1)\n",
        "The `fit()` method accepts a `callbacks` argument. Try training your model with a large number of epochs, a validation set, and with a few callbacks from `keras.callbacks`:\n",
        "* `TensorBoard`: specify a log directory. It should be a subdirectory of a root logdir, such as `./my_logs/run_1`, and it should be different every time you train your model. You can use a timestamp in the subdirectory's path to ensure that it changes at every run.\n",
        "* `EarlyStopping`: specify `patience=5`\n",
        "* `ModelCheckpoint`: specify the path of the checkpoint file to save (e.g., `\"my_mnist_model.h5\"`) and set `save_best_only=True`\n",
        "\n",
        "Notice that the `EarlyStopping` callback will interrupt training before it reaches the requested number of epochs. This reduces the risk of overfitting."
      ]
    },
    {
      "metadata": {
        "id": "kodOM0A1RPUW",
        "colab_type": "code",
        "colab": {}
      },
      "cell_type": "code",
      "source": [
        "model = keras.models.Sequential([\n",
        "    keras.layers.Flatten(input_shape=[28, 28]),\n",
        "    keras.layers.Dense(300, activation=\"relu\"),\n",
        "    keras.layers.Dense(100, activation=\"relu\"),\n",
        "    keras.layers.Dense(10, activation=\"softmax\")\n",
        "])\n",
        "model.compile(loss=\"sparse_categorical_crossentropy\",\n",
        "              optimizer=\"sgd\", metrics=[\"accuracy\"])"
      ],
      "execution_count": 0,
      "outputs": []
    },
    {
      "metadata": {
        "id": "-kO79hDsfS65",
        "colab_type": "code",
        "colab": {}
      },
      "cell_type": "code",
      "source": [
        " root_logdir = './tf_logs'"
      ],
      "execution_count": 0,
      "outputs": []
    },
    {
      "metadata": {
        "id": "CWb7RpkKRPUW",
        "colab_type": "code",
        "outputId": "47977378-08fd-4b77-f049-b3bdb3ba3dde",
        "colab": {
          "base_uri": "https://localhost:8080/",
          "height": 1678
        }
      },
      "cell_type": "code",
      "source": [
        "logdir = os.path.join(root_logdir, \"run_{}\".format(time.time()))\n",
        "\n",
        "callbacks = [\n",
        "    keras.callbacks.TensorBoard(logdir),\n",
        "    keras.callbacks.EarlyStopping(patience=5),\n",
        "    keras.callbacks.ModelCheckpoint(\"my_mnist_model.h5\", save_best_only=True),\n",
        "]\n",
        "history = model.fit(X_train_scaled, y_train, epochs=50,\n",
        "                    validation_data=(X_valid_scaled, y_valid),\n",
        "                    callbacks=callbacks)"
      ],
      "execution_count": 41,
      "outputs": [
        {
          "output_type": "stream",
          "text": [
            "Train on 55000 samples, validate on 5000 samples\n",
            "Epoch 1/50\n",
            "55000/55000 [==============================] - 8s 143us/sample - loss: 0.9055 - accuracy: 0.7004 - val_loss: 0.6318 - val_accuracy: 0.7852\n",
            "Epoch 2/50\n",
            "55000/55000 [==============================] - 7s 133us/sample - loss: 0.5878 - accuracy: 0.7944 - val_loss: 0.5288 - val_accuracy: 0.8154\n",
            "Epoch 3/50\n",
            "55000/55000 [==============================] - 7s 136us/sample - loss: 0.5157 - accuracy: 0.8179 - val_loss: 0.4812 - val_accuracy: 0.8314\n",
            "Epoch 4/50\n",
            "55000/55000 [==============================] - 7s 133us/sample - loss: 0.4779 - accuracy: 0.8296 - val_loss: 0.4526 - val_accuracy: 0.8404\n",
            "Epoch 5/50\n",
            "55000/55000 [==============================] - 7s 134us/sample - loss: 0.4534 - accuracy: 0.8383 - val_loss: 0.4344 - val_accuracy: 0.8436\n",
            "Epoch 6/50\n",
            "55000/55000 [==============================] - 7s 133us/sample - loss: 0.4355 - accuracy: 0.8456 - val_loss: 0.4219 - val_accuracy: 0.8490\n",
            "Epoch 7/50\n",
            "55000/55000 [==============================] - 7s 136us/sample - loss: 0.4215 - accuracy: 0.8504 - val_loss: 0.4107 - val_accuracy: 0.8566\n",
            "Epoch 8/50\n",
            "55000/55000 [==============================] - 7s 133us/sample - loss: 0.4099 - accuracy: 0.8549 - val_loss: 0.4025 - val_accuracy: 0.8580\n",
            "Epoch 9/50\n",
            "55000/55000 [==============================] - 7s 134us/sample - loss: 0.4000 - accuracy: 0.8573 - val_loss: 0.3954 - val_accuracy: 0.8606\n",
            "Epoch 10/50\n",
            "55000/55000 [==============================] - 7s 136us/sample - loss: 0.3916 - accuracy: 0.8606 - val_loss: 0.3879 - val_accuracy: 0.8638\n",
            "Epoch 11/50\n",
            "55000/55000 [==============================] - 8s 137us/sample - loss: 0.3842 - accuracy: 0.8631 - val_loss: 0.3829 - val_accuracy: 0.8644\n",
            "Epoch 12/50\n",
            "55000/55000 [==============================] - 7s 135us/sample - loss: 0.3773 - accuracy: 0.8656 - val_loss: 0.3824 - val_accuracy: 0.8626\n",
            "Epoch 13/50\n",
            "55000/55000 [==============================] - 8s 137us/sample - loss: 0.3711 - accuracy: 0.8676 - val_loss: 0.3729 - val_accuracy: 0.8708\n",
            "Epoch 14/50\n",
            "55000/55000 [==============================] - 8s 140us/sample - loss: 0.3653 - accuracy: 0.8696 - val_loss: 0.3690 - val_accuracy: 0.8700\n",
            "Epoch 15/50\n",
            "55000/55000 [==============================] - 8s 140us/sample - loss: 0.3602 - accuracy: 0.8711 - val_loss: 0.3662 - val_accuracy: 0.8708\n",
            "Epoch 16/50\n",
            "55000/55000 [==============================] - 7s 134us/sample - loss: 0.3554 - accuracy: 0.8729 - val_loss: 0.3623 - val_accuracy: 0.8728\n",
            "Epoch 17/50\n",
            "55000/55000 [==============================] - 8s 137us/sample - loss: 0.3507 - accuracy: 0.8747 - val_loss: 0.3585 - val_accuracy: 0.8734\n",
            "Epoch 18/50\n",
            "55000/55000 [==============================] - 8s 137us/sample - loss: 0.3465 - accuracy: 0.8759 - val_loss: 0.3603 - val_accuracy: 0.8744\n",
            "Epoch 19/50\n",
            "55000/55000 [==============================] - 7s 136us/sample - loss: 0.3424 - accuracy: 0.8776 - val_loss: 0.3532 - val_accuracy: 0.8748\n",
            "Epoch 20/50\n",
            "55000/55000 [==============================] - 7s 136us/sample - loss: 0.3382 - accuracy: 0.8801 - val_loss: 0.3496 - val_accuracy: 0.8748\n",
            "Epoch 21/50\n",
            "55000/55000 [==============================] - 8s 138us/sample - loss: 0.3348 - accuracy: 0.8808 - val_loss: 0.3513 - val_accuracy: 0.8756\n",
            "Epoch 22/50\n",
            "55000/55000 [==============================] - 7s 135us/sample - loss: 0.3314 - accuracy: 0.8817 - val_loss: 0.3466 - val_accuracy: 0.8768\n",
            "Epoch 23/50\n",
            "55000/55000 [==============================] - 7s 136us/sample - loss: 0.3278 - accuracy: 0.8830 - val_loss: 0.3467 - val_accuracy: 0.8798\n",
            "Epoch 24/50\n",
            "55000/55000 [==============================] - 7s 132us/sample - loss: 0.3243 - accuracy: 0.8843 - val_loss: 0.3443 - val_accuracy: 0.8776\n",
            "Epoch 25/50\n",
            "55000/55000 [==============================] - 7s 134us/sample - loss: 0.3213 - accuracy: 0.8841 - val_loss: 0.3388 - val_accuracy: 0.8788\n",
            "Epoch 26/50\n",
            "55000/55000 [==============================] - 8s 138us/sample - loss: 0.3184 - accuracy: 0.8858 - val_loss: 0.3378 - val_accuracy: 0.8786\n",
            "Epoch 27/50\n",
            "55000/55000 [==============================] - 7s 135us/sample - loss: 0.3154 - accuracy: 0.8879 - val_loss: 0.3407 - val_accuracy: 0.8772\n",
            "Epoch 28/50\n",
            "55000/55000 [==============================] - 7s 135us/sample - loss: 0.3127 - accuracy: 0.8882 - val_loss: 0.3364 - val_accuracy: 0.8790\n",
            "Epoch 29/50\n",
            "55000/55000 [==============================] - 7s 135us/sample - loss: 0.3099 - accuracy: 0.8898 - val_loss: 0.3359 - val_accuracy: 0.8802\n",
            "Epoch 30/50\n",
            "55000/55000 [==============================] - 7s 134us/sample - loss: 0.3069 - accuracy: 0.8903 - val_loss: 0.3387 - val_accuracy: 0.8794\n",
            "Epoch 31/50\n",
            "55000/55000 [==============================] - 8s 144us/sample - loss: 0.3045 - accuracy: 0.8907 - val_loss: 0.3304 - val_accuracy: 0.8832\n",
            "Epoch 32/50\n",
            "55000/55000 [==============================] - 9s 156us/sample - loss: 0.3020 - accuracy: 0.8915 - val_loss: 0.3298 - val_accuracy: 0.8808\n",
            "Epoch 33/50\n",
            "55000/55000 [==============================] - 8s 139us/sample - loss: 0.2993 - accuracy: 0.8934 - val_loss: 0.3292 - val_accuracy: 0.8846\n",
            "Epoch 34/50\n",
            "55000/55000 [==============================] - 8s 149us/sample - loss: 0.2972 - accuracy: 0.8945 - val_loss: 0.3285 - val_accuracy: 0.8812\n",
            "Epoch 35/50\n",
            "55000/55000 [==============================] - 8s 140us/sample - loss: 0.2949 - accuracy: 0.8948 - val_loss: 0.3254 - val_accuracy: 0.8848\n",
            "Epoch 36/50\n",
            "55000/55000 [==============================] - 7s 134us/sample - loss: 0.2923 - accuracy: 0.8957 - val_loss: 0.3264 - val_accuracy: 0.8812\n",
            "Epoch 37/50\n",
            "55000/55000 [==============================] - 7s 132us/sample - loss: 0.2901 - accuracy: 0.8963 - val_loss: 0.3247 - val_accuracy: 0.8858\n",
            "Epoch 38/50\n",
            "55000/55000 [==============================] - 7s 133us/sample - loss: 0.2880 - accuracy: 0.8972 - val_loss: 0.3258 - val_accuracy: 0.8832\n",
            "Epoch 39/50\n",
            "55000/55000 [==============================] - 7s 134us/sample - loss: 0.2857 - accuracy: 0.8977 - val_loss: 0.3215 - val_accuracy: 0.8844\n",
            "Epoch 40/50\n",
            "55000/55000 [==============================] - 7s 133us/sample - loss: 0.2838 - accuracy: 0.8991 - val_loss: 0.3207 - val_accuracy: 0.8840\n",
            "Epoch 41/50\n",
            "55000/55000 [==============================] - 7s 132us/sample - loss: 0.2819 - accuracy: 0.8995 - val_loss: 0.3193 - val_accuracy: 0.8848\n",
            "Epoch 42/50\n",
            "55000/55000 [==============================] - 7s 130us/sample - loss: 0.2795 - accuracy: 0.8997 - val_loss: 0.3183 - val_accuracy: 0.8846\n",
            "Epoch 43/50\n",
            "55000/55000 [==============================] - 7s 131us/sample - loss: 0.2776 - accuracy: 0.9005 - val_loss: 0.3167 - val_accuracy: 0.8870\n",
            "Epoch 44/50\n",
            "55000/55000 [==============================] - 7s 129us/sample - loss: 0.2754 - accuracy: 0.9014 - val_loss: 0.3162 - val_accuracy: 0.8866\n",
            "Epoch 45/50\n",
            "55000/55000 [==============================] - 7s 130us/sample - loss: 0.2735 - accuracy: 0.9029 - val_loss: 0.3178 - val_accuracy: 0.8884\n",
            "Epoch 46/50\n",
            "55000/55000 [==============================] - 7s 133us/sample - loss: 0.2714 - accuracy: 0.9032 - val_loss: 0.3144 - val_accuracy: 0.8870\n",
            "Epoch 47/50\n",
            "55000/55000 [==============================] - 7s 133us/sample - loss: 0.2697 - accuracy: 0.9045 - val_loss: 0.3158 - val_accuracy: 0.8866\n",
            "Epoch 48/50\n",
            "55000/55000 [==============================] - 7s 132us/sample - loss: 0.2672 - accuracy: 0.9055 - val_loss: 0.3151 - val_accuracy: 0.8884\n",
            "Epoch 49/50\n",
            "55000/55000 [==============================] - 7s 135us/sample - loss: 0.2658 - accuracy: 0.9057 - val_loss: 0.3118 - val_accuracy: 0.8862\n",
            "Epoch 50/50\n",
            "55000/55000 [==============================] - 7s 132us/sample - loss: 0.2640 - accuracy: 0.9062 - val_loss: 0.3132 - val_accuracy: 0.8852\n"
          ],
          "name": "stdout"
        }
      ]
    },
    {
      "metadata": {
        "id": "AKqc9QTnRPUX",
        "colab_type": "text"
      },
      "cell_type": "markdown",
      "source": [
        "### 4.2)\n",
        "Run the following code (from this [StackOverflow answer](https://stackoverflow.com/questions/38189119/simple-way-to-visualize-a-tensorflow-graph-in-jupyter/53978715#53978715)) to start a TensorBoard server and open a new tab to visualize the learning curve. When you are done, you can stop the tensorboard server by running `server.kill()`."
      ]
    },
    {
      "metadata": {
        "id": "hXDsncf_D8TS",
        "colab_type": "code",
        "colab": {
          "base_uri": "https://localhost:8080/",
          "height": 200
        },
        "outputId": "9c78c083-5d83-4a28-885d-b115573ecec6"
      },
      "cell_type": "code",
      "source": [
        "!pip install tensorboard"
      ],
      "execution_count": 44,
      "outputs": [
        {
          "output_type": "stream",
          "text": [
            "Requirement already satisfied: tensorboard in /usr/local/lib/python3.6/dist-packages (1.13.0)\n",
            "Requirement already satisfied: numpy>=1.12.0 in /usr/local/lib/python3.6/dist-packages (from tensorboard) (1.14.6)\n",
            "Requirement already satisfied: markdown>=2.6.8 in /usr/local/lib/python3.6/dist-packages (from tensorboard) (3.0.1)\n",
            "Requirement already satisfied: wheel>=0.26; python_version >= \"3\" in /usr/local/lib/python3.6/dist-packages (from tensorboard) (0.33.1)\n",
            "Requirement already satisfied: protobuf>=3.6.0 in /usr/local/lib/python3.6/dist-packages (from tensorboard) (3.6.1)\n",
            "Requirement already satisfied: six>=1.10.0 in /usr/local/lib/python3.6/dist-packages (from tensorboard) (1.11.0)\n",
            "Requirement already satisfied: werkzeug>=0.11.15 in /usr/local/lib/python3.6/dist-packages (from tensorboard) (0.14.1)\n",
            "Requirement already satisfied: grpcio>=1.6.3 in /usr/local/lib/python3.6/dist-packages (from tensorboard) (1.15.0)\n",
            "Requirement already satisfied: absl-py>=0.4 in /usr/local/lib/python3.6/dist-packages (from tensorboard) (0.7.0)\n",
            "Requirement already satisfied: setuptools in /usr/local/lib/python3.6/dist-packages (from protobuf>=3.6.0->tensorboard) (40.8.0)\n"
          ],
          "name": "stdout"
        }
      ]
    },
    {
      "metadata": {
        "id": "jj2vhTcmRPUX",
        "colab_type": "code",
        "colab": {}
      },
      "cell_type": "code",
      "source": [
        "\n",
        "import tensorboard as tb\n",
        "\n",
        "\n"
      ],
      "execution_count": 0,
      "outputs": []
    },
    {
      "metadata": {
        "id": "4HW2j_0YEDCQ",
        "colab_type": "code",
        "colab": {
          "base_uri": "https://localhost:8080/",
          "height": 165
        },
        "outputId": "84d4e6a2-5690-4d57-9643-596f0dfbcd72"
      },
      "cell_type": "code",
      "source": [
        "server = tf()"
      ],
      "execution_count": 48,
      "outputs": [
        {
          "output_type": "error",
          "ename": "TypeError",
          "evalue": "ignored",
          "traceback": [
            "\u001b[0;31m---------------------------------------------------------------------------\u001b[0m",
            "\u001b[0;31mTypeError\u001b[0m                                 Traceback (most recent call last)",
            "\u001b[0;32m<ipython-input-48-ac12d5af4d9e>\u001b[0m in \u001b[0;36m<module>\u001b[0;34m()\u001b[0m\n\u001b[0;32m----> 1\u001b[0;31m \u001b[0mserver\u001b[0m \u001b[0;34m=\u001b[0m \u001b[0mtf\u001b[0m\u001b[0;34m(\u001b[0m\u001b[0;34m)\u001b[0m\u001b[0;34m\u001b[0m\u001b[0;34m\u001b[0m\u001b[0m\n\u001b[0m",
            "\u001b[0;31mTypeError\u001b[0m: 'module' object is not callable"
          ]
        }
      ]
    },
    {
      "metadata": {
        "id": "_cGEC4f1RPUY",
        "colab_type": "code",
        "colab": {}
      },
      "cell_type": "code",
      "source": [
        "server.kill()"
      ],
      "execution_count": 0,
      "outputs": []
    },
    {
      "metadata": {
        "id": "oIV7dtF1RPUZ",
        "colab_type": "text"
      },
      "cell_type": "markdown",
      "source": [
        "4.3) The early stopping callback only stopped training after 10 epochs without progress, so your model may already have started to overfit the training set. Fortunately, since the `ModelCheckpoint` callback only saved the best models (on the validation set), the last saved model is the best on the validation set, so try loading it using `keras.models.load_model()`. Finally evaluate it on the test set."
      ]
    },
    {
      "metadata": {
        "id": "pmcQgqONRPUZ",
        "colab_type": "code",
        "colab": {}
      },
      "cell_type": "code",
      "source": [
        "model = keras.models.load_model(\"my_mnist_model.h5\")"
      ],
      "execution_count": 0,
      "outputs": []
    },
    {
      "metadata": {
        "id": "0Pkqmq2dRPUa",
        "colab_type": "code",
        "colab": {
          "base_uri": "https://localhost:8080/",
          "height": 50
        },
        "outputId": "85d13ac7-a26e-49fa-bc0a-0de2732d9adf"
      },
      "cell_type": "code",
      "source": [
        "model.evaluate(X_valid_scaled, y_valid)"
      ],
      "execution_count": 50,
      "outputs": [
        {
          "output_type": "stream",
          "text": [
            "5000/5000 [==============================] - 0s 86us/sample - loss: 0.3118 - accuracy: 0.8862\n"
          ],
          "name": "stdout"
        },
        {
          "output_type": "execute_result",
          "data": {
            "text/plain": [
              "[0.31179461154043675, 0.8862]"
            ]
          },
          "metadata": {
            "tags": []
          },
          "execution_count": 50
        }
      ]
    },
    {
      "metadata": {
        "id": "S33kKUQURPUb",
        "colab_type": "text"
      },
      "cell_type": "markdown",
      "source": [
        "### 4.4)\n",
        "Look at the list of available callbacks at https://keras.io/callbacks/"
      ]
    },
    {
      "metadata": {
        "id": "iW9rFLGPRPUb",
        "colab_type": "text"
      },
      "cell_type": "markdown",
      "source": [
        "![Exercise](https://c1.staticflickr.com/9/8101/8553474140_c50cf08708_b.jpg)"
      ]
    },
    {
      "metadata": {
        "id": "sUkhb3UHRPUb",
        "colab_type": "text"
      },
      "cell_type": "markdown",
      "source": [
        "## Exercise 5 – A neural net for regression"
      ]
    },
    {
      "metadata": {
        "id": "iZ3sB1IaRPUb",
        "colab_type": "text"
      },
      "cell_type": "markdown",
      "source": [
        "### 5.1)\n",
        "Load the California housing dataset using `sklearn.datasets.fetch_california_housing`. This returns an object with a `DESCR` attribute describing the dataset, a `data` attribute with the input features, and a `target` attribute with the labels. The goal is to predict the price of houses in a district (a census block) given some stats about that district. This is a regression task (predicting values)."
      ]
    },
    {
      "metadata": {
        "id": "h52v7Nx6RPUc",
        "colab_type": "code",
        "colab": {}
      },
      "cell_type": "code",
      "source": [
        ""
      ],
      "execution_count": 0,
      "outputs": []
    },
    {
      "metadata": {
        "id": "pQA9lu2YRPUc",
        "colab_type": "code",
        "colab": {}
      },
      "cell_type": "code",
      "source": [
        ""
      ],
      "execution_count": 0,
      "outputs": []
    },
    {
      "metadata": {
        "id": "ZBqKw08kRPUd",
        "colab_type": "code",
        "colab": {}
      },
      "cell_type": "code",
      "source": [
        ""
      ],
      "execution_count": 0,
      "outputs": []
    },
    {
      "metadata": {
        "id": "4xtrYRwlRPUe",
        "colab_type": "text"
      },
      "cell_type": "markdown",
      "source": [
        "### 5.2)\n",
        "Split the dataset into a training set, a validation set and a test set using Scikit-Learn's `sklearn.model_selection.train_test_split()` function."
      ]
    },
    {
      "metadata": {
        "id": "nTTMnElIRPUe",
        "colab_type": "code",
        "colab": {}
      },
      "cell_type": "code",
      "source": [
        ""
      ],
      "execution_count": 0,
      "outputs": []
    },
    {
      "metadata": {
        "id": "tINtK09nRPUf",
        "colab_type": "code",
        "colab": {}
      },
      "cell_type": "code",
      "source": [
        ""
      ],
      "execution_count": 0,
      "outputs": []
    },
    {
      "metadata": {
        "id": "x09BHTxzRPUg",
        "colab_type": "code",
        "colab": {}
      },
      "cell_type": "code",
      "source": [
        ""
      ],
      "execution_count": 0,
      "outputs": []
    },
    {
      "metadata": {
        "id": "azQG_QByRPUh",
        "colab_type": "text"
      },
      "cell_type": "markdown",
      "source": [
        "### 5.3)\n",
        "Scale the input features (e.g., using a `sklearn.preprocessing.StandardScaler`). Once again, don't forget that you should not fit the validation set or the test set, only the training set."
      ]
    },
    {
      "metadata": {
        "id": "pMYad1NXRPUh",
        "colab_type": "code",
        "colab": {}
      },
      "cell_type": "code",
      "source": [
        ""
      ],
      "execution_count": 0,
      "outputs": []
    },
    {
      "metadata": {
        "id": "VFm345geRPUi",
        "colab_type": "code",
        "colab": {}
      },
      "cell_type": "code",
      "source": [
        ""
      ],
      "execution_count": 0,
      "outputs": []
    },
    {
      "metadata": {
        "id": "l4CjYbp1RPUi",
        "colab_type": "code",
        "colab": {}
      },
      "cell_type": "code",
      "source": [
        ""
      ],
      "execution_count": 0,
      "outputs": []
    },
    {
      "metadata": {
        "id": "OJ2r6xLNRPUm",
        "colab_type": "text"
      },
      "cell_type": "markdown",
      "source": [
        "### 5.4)\n",
        "Now build, train and evaluate a neural network to tackle this problem. Then use it to make predictions on the test set.\n",
        "\n",
        "**Tips**:\n",
        "* Since you are predicting a single value per district (the median house price), there should only be one neuron in the output layer.\n",
        "* Usually for regression tasks you don't want to use any activation function in the output layer (in some cases you may want to use `\"relu\"` or `\"softplus\"` if you want to constrain the predicted values to be positive, or `\"sigmoid\"` or `\"tanh\"` if you want to constrain the predicted values to 0-1 or -1-1).\n",
        "* A good loss function for regression is generally the `\"mean_squared_error\"` (aka `\"mse\"`). When there are many outliers in your dataset, you may prefer to use the `\"mean_absolute_error\"` (aka `\"mae\"`), which is a bit less precise but less sensitive to outliers."
      ]
    },
    {
      "metadata": {
        "id": "XU12zPk0RPUm",
        "colab_type": "code",
        "colab": {}
      },
      "cell_type": "code",
      "source": [
        ""
      ],
      "execution_count": 0,
      "outputs": []
    },
    {
      "metadata": {
        "id": "Iw3j8OeLRPUn",
        "colab_type": "code",
        "colab": {}
      },
      "cell_type": "code",
      "source": [
        ""
      ],
      "execution_count": 0,
      "outputs": []
    },
    {
      "metadata": {
        "id": "btQbiNRURPUp",
        "colab_type": "code",
        "colab": {}
      },
      "cell_type": "code",
      "source": [
        ""
      ],
      "execution_count": 0,
      "outputs": []
    },
    {
      "metadata": {
        "id": "SV9ob7e2RPUq",
        "colab_type": "text"
      },
      "cell_type": "markdown",
      "source": [
        "![Exercise solution](https://camo.githubusercontent.com/250388fde3fac9135ead9471733ee28e049f7a37/68747470733a2f2f75706c6f61642e77696b696d656469612e6f72672f77696b6970656469612f636f6d6d6f6e732f302f30362f46696c6f735f736567756e646f5f6c6f676f5f253238666c69707065642532392e6a7067)"
      ]
    },
    {
      "metadata": {
        "id": "Z4pRXEx1RPUr",
        "colab_type": "text"
      },
      "cell_type": "markdown",
      "source": [
        "## Exercise 5 – Solution"
      ]
    },
    {
      "metadata": {
        "id": "Q2tMju8wRPUr",
        "colab_type": "text"
      },
      "cell_type": "markdown",
      "source": [
        "### 5.1)\n",
        "Load the California housing dataset using `sklearn.datasets.fetch_california_housing`. This returns an object with a `DESCR` attribute describing the dataset, a `data` attribute with the input features, and a `target` attribute with the labels. The goal is to predict the price of houses in a district (a census block) given some stats about that district. This is a regression task (predicting values)."
      ]
    },
    {
      "metadata": {
        "id": "Z6u0ZdQSRPUr",
        "colab_type": "code",
        "colab": {
          "base_uri": "https://localhost:8080/",
          "height": 86
        },
        "outputId": "d8d5d5db-393d-42f4-a3fb-5ff25d9b13a5"
      },
      "cell_type": "code",
      "source": [
        "from sklearn.datasets import fetch_california_housing\n",
        "housing = fetch_california_housing()"
      ],
      "execution_count": 51,
      "outputs": [
        {
          "output_type": "stream",
          "text": [
            "Downloading Cal. housing from https://ndownloader.figshare.com/files/5976036 to /root/scikit_learn_data\n",
            "WARNING: Logging before flag parsing goes to stderr.\n",
            "I0314 07:18:23.492846 139705429510016 california_housing.py:114] Downloading Cal. housing from https://ndownloader.figshare.com/files/5976036 to /root/scikit_learn_data\n"
          ],
          "name": "stderr"
        }
      ]
    },
    {
      "metadata": {
        "id": "vHxSrhR1RPUs",
        "colab_type": "code",
        "colab": {
          "base_uri": "https://localhost:8080/",
          "height": 683
        },
        "outputId": "122c28e4-d8aa-43f3-d6dc-a753319aaf05"
      },
      "cell_type": "code",
      "source": [
        "print(housing.DESCR)"
      ],
      "execution_count": 52,
      "outputs": [
        {
          "output_type": "stream",
          "text": [
            ".. _california_housing_dataset:\n",
            "\n",
            "California Housing dataset\n",
            "--------------------------\n",
            "\n",
            "**Data Set Characteristics:**\n",
            "\n",
            "    :Number of Instances: 20640\n",
            "\n",
            "    :Number of Attributes: 8 numeric, predictive attributes and the target\n",
            "\n",
            "    :Attribute Information:\n",
            "        - MedInc        median income in block\n",
            "        - HouseAge      median house age in block\n",
            "        - AveRooms      average number of rooms\n",
            "        - AveBedrms     average number of bedrooms\n",
            "        - Population    block population\n",
            "        - AveOccup      average house occupancy\n",
            "        - Latitude      house block latitude\n",
            "        - Longitude     house block longitude\n",
            "\n",
            "    :Missing Attribute Values: None\n",
            "\n",
            "This dataset was obtained from the StatLib repository.\n",
            "http://lib.stat.cmu.edu/datasets/\n",
            "\n",
            "The target variable is the median house value for California districts.\n",
            "\n",
            "This dataset was derived from the 1990 U.S. census, using one row per census\n",
            "block group. A block group is the smallest geographical unit for which the U.S.\n",
            "Census Bureau publishes sample data (a block group typically has a population\n",
            "of 600 to 3,000 people).\n",
            "\n",
            "It can be downloaded/loaded using the\n",
            ":func:`sklearn.datasets.fetch_california_housing` function.\n",
            "\n",
            ".. topic:: References\n",
            "\n",
            "    - Pace, R. Kelley and Ronald Barry, Sparse Spatial Autoregressions,\n",
            "      Statistics and Probability Letters, 33 (1997) 291-297\n",
            "\n"
          ],
          "name": "stdout"
        }
      ]
    },
    {
      "metadata": {
        "id": "22qGCaCcRPUt",
        "colab_type": "code",
        "colab": {
          "base_uri": "https://localhost:8080/",
          "height": 33
        },
        "outputId": "8a9b1768-e264-4e93-af7d-a9e755fb1601"
      },
      "cell_type": "code",
      "source": [
        "housing.data.shape"
      ],
      "execution_count": 53,
      "outputs": [
        {
          "output_type": "execute_result",
          "data": {
            "text/plain": [
              "(20640, 8)"
            ]
          },
          "metadata": {
            "tags": []
          },
          "execution_count": 53
        }
      ]
    },
    {
      "metadata": {
        "id": "LjKT4fP8RPUt",
        "colab_type": "code",
        "colab": {
          "base_uri": "https://localhost:8080/",
          "height": 33
        },
        "outputId": "ad7236a2-3237-4839-fe68-6afc129d5c39"
      },
      "cell_type": "code",
      "source": [
        "housing.target.shape"
      ],
      "execution_count": 54,
      "outputs": [
        {
          "output_type": "execute_result",
          "data": {
            "text/plain": [
              "(20640,)"
            ]
          },
          "metadata": {
            "tags": []
          },
          "execution_count": 54
        }
      ]
    },
    {
      "metadata": {
        "id": "_eV0doc1RPUu",
        "colab_type": "text"
      },
      "cell_type": "markdown",
      "source": [
        "### 5.2)\n",
        "Split the dataset into a training set, a validation set and a test set using Scikit-Learn's `sklearn.model_selection.train_test_split()` function."
      ]
    },
    {
      "metadata": {
        "id": "b2ki8xx4RPUv",
        "colab_type": "code",
        "colab": {}
      },
      "cell_type": "code",
      "source": [
        "from sklearn.model_selection import train_test_split\n",
        "\n",
        "X_train_full, X_test, y_train_full, y_test = train_test_split(housing.data, housing.target, random_state=42)\n",
        "X_train, X_valid, y_train, y_valid = train_test_split(X_train_full, y_train_full, random_state=42)"
      ],
      "execution_count": 0,
      "outputs": []
    },
    {
      "metadata": {
        "id": "s4qsZAzORPUw",
        "colab_type": "code",
        "colab": {
          "base_uri": "https://localhost:8080/",
          "height": 33
        },
        "outputId": "98a12231-18df-43b2-a93e-4ff4bdece379"
      },
      "cell_type": "code",
      "source": [
        "len(X_train), len(X_valid), len(X_test)"
      ],
      "execution_count": 56,
      "outputs": [
        {
          "output_type": "execute_result",
          "data": {
            "text/plain": [
              "(11610, 3870, 5160)"
            ]
          },
          "metadata": {
            "tags": []
          },
          "execution_count": 56
        }
      ]
    },
    {
      "metadata": {
        "id": "zXVlGI4BRPUx",
        "colab_type": "text"
      },
      "cell_type": "markdown",
      "source": [
        "### 5.3)\n",
        "Scale the input features (e.g., using a `sklearn.preprocessing.StandardScaler`). Once again, don't forget that you should not fit the validation set or the test set, only the training set."
      ]
    },
    {
      "metadata": {
        "id": "oBsFFQ_VRPUx",
        "colab_type": "code",
        "colab": {}
      },
      "cell_type": "code",
      "source": [
        "from sklearn.preprocessing import StandardScaler\n",
        "\n",
        "scaler = StandardScaler()\n",
        "X_train_scaled = scaler.fit_transform(X_train)\n",
        "X_valid_scaled = scaler.transform(X_valid)\n",
        "X_test_scaled = scaler.transform(X_test)"
      ],
      "execution_count": 0,
      "outputs": []
    },
    {
      "metadata": {
        "id": "G3ebysIFRPUx",
        "colab_type": "text"
      },
      "cell_type": "markdown",
      "source": [
        "### 5.4)\n",
        "Now build, train and evaluate a neural network to tackle this problem. Then use it to make predictions on the test set."
      ]
    },
    {
      "metadata": {
        "id": "JpLrSnbkRPUz",
        "colab_type": "code",
        "colab": {}
      },
      "cell_type": "code",
      "source": [
        "model = keras.models.Sequential([\n",
        "    keras.layers.Dense(30, activation=\"relu\", input_shape=X_train.shape[1:]),\n",
        "    keras.layers.Dense(1)\n",
        "])\n",
        "model.compile(loss=\"mean_squared_error\", optimizer=\"sgd\")"
      ],
      "execution_count": 0,
      "outputs": []
    },
    {
      "metadata": {
        "id": "IRmA2uJIRPUz",
        "colab_type": "code",
        "colab": {
          "base_uri": "https://localhost:8080/",
          "height": 3283
        },
        "outputId": "50546838-7406-460c-a23a-bd610367014f"
      },
      "cell_type": "code",
      "source": [
        "callbacks = [keras.callbacks.EarlyStopping(patience=10)]\n",
        "history = model.fit(X_train_scaled, y_train,\n",
        "                    validation_data=(X_test_scaled, y_test), epochs=100,\n",
        "                    callbacks=callbacks)"
      ],
      "execution_count": 59,
      "outputs": [
        {
          "output_type": "stream",
          "text": [
            "Train on 11610 samples, validate on 5160 samples\n",
            "Epoch 1/100\n",
            "11610/11610 [==============================] - 1s 61us/sample - loss: 2.7587 - val_loss: 1.0242\n",
            "Epoch 2/100\n",
            "11610/11610 [==============================] - 1s 50us/sample - loss: 0.8472 - val_loss: 0.7047\n",
            "Epoch 3/100\n",
            "11610/11610 [==============================] - 1s 53us/sample - loss: 0.6823 - val_loss: 0.6489\n",
            "Epoch 4/100\n",
            "11610/11610 [==============================] - 1s 49us/sample - loss: 0.6320 - val_loss: 0.6022\n",
            "Epoch 5/100\n",
            "11610/11610 [==============================] - 1s 49us/sample - loss: 0.5953 - val_loss: 0.5699\n",
            "Epoch 6/100\n",
            "11610/11610 [==============================] - 1s 49us/sample - loss: 0.5680 - val_loss: 0.5506\n",
            "Epoch 7/100\n",
            "11610/11610 [==============================] - 1s 48us/sample - loss: 0.5452 - val_loss: 0.5262\n",
            "Epoch 8/100\n",
            "11610/11610 [==============================] - 1s 48us/sample - loss: 0.5274 - val_loss: 0.5096\n",
            "Epoch 9/100\n",
            "11610/11610 [==============================] - 1s 47us/sample - loss: 0.5127 - val_loss: 0.4965\n",
            "Epoch 10/100\n",
            "11610/11610 [==============================] - 1s 50us/sample - loss: 0.4998 - val_loss: 0.4843\n",
            "Epoch 11/100\n",
            "11610/11610 [==============================] - 1s 48us/sample - loss: 0.4900 - val_loss: 0.4780\n",
            "Epoch 12/100\n",
            "11610/11610 [==============================] - 1s 48us/sample - loss: 0.4802 - val_loss: 0.4680\n",
            "Epoch 13/100\n",
            "11610/11610 [==============================] - 1s 48us/sample - loss: 0.4728 - val_loss: 0.4654\n",
            "Epoch 14/100\n",
            "11610/11610 [==============================] - 1s 48us/sample - loss: 0.4664 - val_loss: 0.4565\n",
            "Epoch 15/100\n",
            "11610/11610 [==============================] - 1s 47us/sample - loss: 0.4600 - val_loss: 0.4546\n",
            "Epoch 16/100\n",
            "11610/11610 [==============================] - 1s 46us/sample - loss: 0.4551 - val_loss: 0.4479\n",
            "Epoch 17/100\n",
            "11610/11610 [==============================] - 1s 47us/sample - loss: 0.4503 - val_loss: 0.4403\n",
            "Epoch 18/100\n",
            "11610/11610 [==============================] - 1s 48us/sample - loss: 0.4473 - val_loss: 0.4385\n",
            "Epoch 19/100\n",
            "11610/11610 [==============================] - 1s 49us/sample - loss: 0.4430 - val_loss: 0.4342\n",
            "Epoch 20/100\n",
            "11610/11610 [==============================] - 1s 47us/sample - loss: 0.4399 - val_loss: 0.4350\n",
            "Epoch 21/100\n",
            "11610/11610 [==============================] - 1s 49us/sample - loss: 0.4369 - val_loss: 0.4289\n",
            "Epoch 22/100\n",
            "11610/11610 [==============================] - 1s 48us/sample - loss: 0.4345 - val_loss: 0.4273\n",
            "Epoch 23/100\n",
            "11610/11610 [==============================] - 1s 48us/sample - loss: 0.4318 - val_loss: 0.4247\n",
            "Epoch 24/100\n",
            "11610/11610 [==============================] - 1s 49us/sample - loss: 0.4292 - val_loss: 0.4214\n",
            "Epoch 25/100\n",
            "11610/11610 [==============================] - 1s 49us/sample - loss: 0.4272 - val_loss: 0.4255\n",
            "Epoch 26/100\n",
            "11610/11610 [==============================] - 1s 48us/sample - loss: 0.4254 - val_loss: 0.4184\n",
            "Epoch 27/100\n",
            "11610/11610 [==============================] - 1s 49us/sample - loss: 0.4237 - val_loss: 0.4167\n",
            "Epoch 28/100\n",
            "11610/11610 [==============================] - 1s 48us/sample - loss: 0.4222 - val_loss: 0.4158\n",
            "Epoch 29/100\n",
            "11610/11610 [==============================] - 1s 49us/sample - loss: 0.4199 - val_loss: 0.4138\n",
            "Epoch 30/100\n",
            "11610/11610 [==============================] - 1s 49us/sample - loss: 0.4191 - val_loss: 0.4133\n",
            "Epoch 31/100\n",
            "11610/11610 [==============================] - 1s 48us/sample - loss: 0.4174 - val_loss: 0.4108\n",
            "Epoch 32/100\n",
            "11610/11610 [==============================] - 1s 49us/sample - loss: 0.4161 - val_loss: 0.4136\n",
            "Epoch 33/100\n",
            "11610/11610 [==============================] - 1s 48us/sample - loss: 0.4150 - val_loss: 0.4109\n",
            "Epoch 34/100\n",
            "11610/11610 [==============================] - 1s 49us/sample - loss: 0.4137 - val_loss: 0.4088\n",
            "Epoch 35/100\n",
            "11610/11610 [==============================] - 1s 49us/sample - loss: 0.4121 - val_loss: 0.4062\n",
            "Epoch 36/100\n",
            "11610/11610 [==============================] - 1s 49us/sample - loss: 0.4110 - val_loss: 0.4052\n",
            "Epoch 37/100\n",
            "11610/11610 [==============================] - 1s 47us/sample - loss: 0.4099 - val_loss: 0.4039\n",
            "Epoch 38/100\n",
            "11610/11610 [==============================] - 1s 48us/sample - loss: 0.4093 - val_loss: 0.4033\n",
            "Epoch 39/100\n",
            "11610/11610 [==============================] - 1s 49us/sample - loss: 0.4069 - val_loss: 0.4062\n",
            "Epoch 40/100\n",
            "11610/11610 [==============================] - 1s 48us/sample - loss: 0.4069 - val_loss: 0.4012\n",
            "Epoch 41/100\n",
            "11610/11610 [==============================] - 1s 50us/sample - loss: 0.4056 - val_loss: 0.4005\n",
            "Epoch 42/100\n",
            "11610/11610 [==============================] - 1s 48us/sample - loss: 0.4043 - val_loss: 0.4002\n",
            "Epoch 43/100\n",
            "11610/11610 [==============================] - 1s 49us/sample - loss: 0.4035 - val_loss: 0.3981\n",
            "Epoch 44/100\n",
            "11610/11610 [==============================] - 1s 48us/sample - loss: 0.4025 - val_loss: 0.3995\n",
            "Epoch 45/100\n",
            "11610/11610 [==============================] - 1s 48us/sample - loss: 0.4014 - val_loss: 0.3964\n",
            "Epoch 46/100\n",
            "11610/11610 [==============================] - 1s 49us/sample - loss: 0.4004 - val_loss: 0.3956\n",
            "Epoch 47/100\n",
            "11610/11610 [==============================] - 1s 49us/sample - loss: 0.3997 - val_loss: 0.3946\n",
            "Epoch 48/100\n",
            "11610/11610 [==============================] - 1s 48us/sample - loss: 0.3986 - val_loss: 0.3960\n",
            "Epoch 49/100\n",
            "11610/11610 [==============================] - 1s 47us/sample - loss: 0.3973 - val_loss: 0.3926\n",
            "Epoch 50/100\n",
            "11610/11610 [==============================] - 1s 48us/sample - loss: 0.3970 - val_loss: 0.3929\n",
            "Epoch 51/100\n",
            "11610/11610 [==============================] - 1s 49us/sample - loss: 0.3957 - val_loss: 0.3912\n",
            "Epoch 52/100\n",
            "11610/11610 [==============================] - 1s 48us/sample - loss: 0.3943 - val_loss: 0.3951\n",
            "Epoch 53/100\n",
            "11610/11610 [==============================] - 1s 49us/sample - loss: 0.3943 - val_loss: 0.3896\n",
            "Epoch 54/100\n",
            "11610/11610 [==============================] - 1s 49us/sample - loss: 0.3933 - val_loss: 0.3894\n",
            "Epoch 55/100\n",
            "11610/11610 [==============================] - 1s 49us/sample - loss: 0.3925 - val_loss: 0.3879\n",
            "Epoch 56/100\n",
            "11610/11610 [==============================] - 1s 48us/sample - loss: 0.3918 - val_loss: 0.3870\n",
            "Epoch 57/100\n",
            "11610/11610 [==============================] - 1s 47us/sample - loss: 0.3909 - val_loss: 0.3867\n",
            "Epoch 58/100\n",
            "11610/11610 [==============================] - 1s 48us/sample - loss: 0.3902 - val_loss: 0.3865\n",
            "Epoch 59/100\n",
            "11610/11610 [==============================] - 1s 48us/sample - loss: 0.3893 - val_loss: 0.3847\n",
            "Epoch 60/100\n",
            "11610/11610 [==============================] - 1s 48us/sample - loss: 0.3887 - val_loss: 0.3857\n",
            "Epoch 61/100\n",
            "11610/11610 [==============================] - 1s 49us/sample - loss: 0.3881 - val_loss: 0.3844\n",
            "Epoch 62/100\n",
            "11610/11610 [==============================] - 1s 48us/sample - loss: 0.3870 - val_loss: 0.3828\n",
            "Epoch 63/100\n",
            "11610/11610 [==============================] - 1s 48us/sample - loss: 0.3859 - val_loss: 0.3821\n",
            "Epoch 64/100\n",
            "11610/11610 [==============================] - 1s 48us/sample - loss: 0.3858 - val_loss: 0.3812\n",
            "Epoch 65/100\n",
            "11610/11610 [==============================] - 1s 47us/sample - loss: 0.3853 - val_loss: 0.3815\n",
            "Epoch 66/100\n",
            "11610/11610 [==============================] - 1s 49us/sample - loss: 0.3848 - val_loss: 0.3805\n",
            "Epoch 67/100\n",
            "11610/11610 [==============================] - 1s 48us/sample - loss: 0.3837 - val_loss: 0.3796\n",
            "Epoch 68/100\n",
            "11610/11610 [==============================] - 1s 49us/sample - loss: 0.3838 - val_loss: 0.3796\n",
            "Epoch 69/100\n",
            "11610/11610 [==============================] - 1s 49us/sample - loss: 0.3827 - val_loss: 0.3783\n",
            "Epoch 70/100\n",
            "11610/11610 [==============================] - 1s 49us/sample - loss: 0.3818 - val_loss: 0.3781\n",
            "Epoch 71/100\n",
            "11610/11610 [==============================] - 1s 49us/sample - loss: 0.3816 - val_loss: 0.3776\n",
            "Epoch 72/100\n",
            "11610/11610 [==============================] - 1s 49us/sample - loss: 0.3811 - val_loss: 0.3779\n",
            "Epoch 73/100\n",
            "11610/11610 [==============================] - 1s 49us/sample - loss: 0.3806 - val_loss: 0.3766\n",
            "Epoch 74/100\n",
            "11610/11610 [==============================] - 1s 52us/sample - loss: 0.3796 - val_loss: 0.3764\n",
            "Epoch 75/100\n",
            "11610/11610 [==============================] - 1s 50us/sample - loss: 0.3794 - val_loss: 0.3756\n",
            "Epoch 76/100\n",
            "11610/11610 [==============================] - 1s 49us/sample - loss: 0.3787 - val_loss: 0.3750\n",
            "Epoch 77/100\n",
            "11610/11610 [==============================] - 1s 49us/sample - loss: 0.3782 - val_loss: 0.3743\n",
            "Epoch 78/100\n",
            "11610/11610 [==============================] - 1s 48us/sample - loss: 0.3776 - val_loss: 0.3741\n",
            "Epoch 79/100\n",
            "11610/11610 [==============================] - 1s 48us/sample - loss: 0.3772 - val_loss: 0.3735\n",
            "Epoch 80/100\n",
            "11610/11610 [==============================] - 1s 48us/sample - loss: 0.3769 - val_loss: 0.3728\n",
            "Epoch 81/100\n",
            "11610/11610 [==============================] - 1s 49us/sample - loss: 0.3765 - val_loss: 0.3725\n",
            "Epoch 82/100\n",
            "11610/11610 [==============================] - 1s 51us/sample - loss: 0.3753 - val_loss: 0.3728\n",
            "Epoch 83/100\n",
            "11610/11610 [==============================] - 1s 58us/sample - loss: 0.3755 - val_loss: 0.3718\n",
            "Epoch 84/100\n",
            "11610/11610 [==============================] - 1s 57us/sample - loss: 0.3750 - val_loss: 0.3713\n",
            "Epoch 85/100\n",
            "11610/11610 [==============================] - 1s 56us/sample - loss: 0.3748 - val_loss: 0.3710\n",
            "Epoch 86/100\n",
            "11610/11610 [==============================] - 1s 58us/sample - loss: 0.3742 - val_loss: 0.3708\n",
            "Epoch 87/100\n",
            "11610/11610 [==============================] - 1s 57us/sample - loss: 0.3740 - val_loss: 0.3704\n",
            "Epoch 88/100\n",
            "11610/11610 [==============================] - 1s 56us/sample - loss: 0.3734 - val_loss: 0.3700\n",
            "Epoch 89/100\n",
            "11610/11610 [==============================] - 1s 57us/sample - loss: 0.3731 - val_loss: 0.3696\n",
            "Epoch 90/100\n",
            "11610/11610 [==============================] - 1s 56us/sample - loss: 0.3724 - val_loss: 0.3693\n",
            "Epoch 91/100\n",
            "11610/11610 [==============================] - 1s 56us/sample - loss: 0.3725 - val_loss: 0.3690\n",
            "Epoch 92/100\n",
            "11610/11610 [==============================] - 1s 55us/sample - loss: 0.3718 - val_loss: 0.3692\n",
            "Epoch 93/100\n",
            "11610/11610 [==============================] - 1s 56us/sample - loss: 0.3710 - val_loss: 0.3690\n",
            "Epoch 94/100\n",
            "11610/11610 [==============================] - 1s 56us/sample - loss: 0.3713 - val_loss: 0.3684\n",
            "Epoch 95/100\n",
            "11610/11610 [==============================] - 1s 56us/sample - loss: 0.3708 - val_loss: 0.3681\n",
            "Epoch 96/100\n",
            "11610/11610 [==============================] - 1s 56us/sample - loss: 0.3707 - val_loss: 0.3679\n",
            "Epoch 97/100\n",
            "11610/11610 [==============================] - 1s 64us/sample - loss: 0.3701 - val_loss: 0.3674\n",
            "Epoch 98/100\n",
            "11610/11610 [==============================] - 1s 67us/sample - loss: 0.3700 - val_loss: 0.3670\n",
            "Epoch 99/100\n",
            "11610/11610 [==============================] - 1s 59us/sample - loss: 0.3696 - val_loss: 0.3670\n",
            "Epoch 100/100\n",
            "11610/11610 [==============================] - 1s 58us/sample - loss: 0.3693 - val_loss: 0.3667\n"
          ],
          "name": "stdout"
        }
      ]
    },
    {
      "metadata": {
        "id": "NjvLzqEKRPU0",
        "colab_type": "code",
        "colab": {
          "base_uri": "https://localhost:8080/",
          "height": 50
        },
        "outputId": "93a22338-5a7c-448f-ebeb-8cf94a58d6cf"
      },
      "cell_type": "code",
      "source": [
        "model.evaluate(X_test_scaled, y_test)"
      ],
      "execution_count": 60,
      "outputs": [
        {
          "output_type": "stream",
          "text": [
            "5160/5160 [==============================] - 0s 25us/sample - loss: 0.3667\n"
          ],
          "name": "stdout"
        },
        {
          "output_type": "execute_result",
          "data": {
            "text/plain": [
              "0.3666810190723848"
            ]
          },
          "metadata": {
            "tags": []
          },
          "execution_count": 60
        }
      ]
    },
    {
      "metadata": {
        "id": "QHFtKObWRPU1",
        "colab_type": "code",
        "colab": {
          "base_uri": "https://localhost:8080/",
          "height": 131
        },
        "outputId": "7a8527fb-be77-47a5-e524-9e7257c9db00"
      },
      "cell_type": "code",
      "source": [
        "model.predict(X_test_scaled)"
      ],
      "execution_count": 61,
      "outputs": [
        {
          "output_type": "execute_result",
          "data": {
            "text/plain": [
              "array([[0.7650698],\n",
              "       [1.7622952],\n",
              "       [3.9009204],\n",
              "       ...,\n",
              "       [1.5346807],\n",
              "       [2.4927392],\n",
              "       [3.9904246]], dtype=float32)"
            ]
          },
          "metadata": {
            "tags": []
          },
          "execution_count": 61
        }
      ]
    },
    {
      "metadata": {
        "scrolled": true,
        "id": "6Z70mSYPRPU2",
        "colab_type": "code",
        "colab": {
          "base_uri": "https://localhost:8080/",
          "height": 325
        },
        "outputId": "aa1410b8-05ba-4497-d413-2a308bca381f"
      },
      "cell_type": "code",
      "source": [
        "plot_learning_curves(history)"
      ],
      "execution_count": 62,
      "outputs": [
        {
          "output_type": "display_data",
          "data": {
            "image/png": "[encoded data removed]",
            "text/plain": [
              "<Figure size 576x360 with 1 Axes>"
            ]
          },
          "metadata": {
            "tags": []
          }
        }
      ]
    },
    {
      "metadata": {
        "id": "h9Vfd0VSRPU3",
        "colab_type": "text"
      },
      "cell_type": "markdown",
      "source": [
        "![Exercise](https://c1.staticflickr.com/9/8101/8553474140_c50cf08708_b.jpg)"
      ]
    },
    {
      "metadata": {
        "id": "spC-tgEkRPU3",
        "colab_type": "text"
      },
      "cell_type": "markdown",
      "source": [
        "## Exercise 6 – Hyperparameter search"
      ]
    },
    {
      "metadata": {
        "id": "KXVy4tICRPU3",
        "colab_type": "text"
      },
      "cell_type": "markdown",
      "source": [
        "### 6.1)\n",
        "Try training your model multiple times, with different a learning rate each time (e.g., 1e-4, 3e-4, 1e-3, 3e-3, 3e-2), and compare the learning curves. For this, you need to create a `keras.optimizers.SGD` optimizer and specify the `learning_rate` in its constructor, then pass this `SGD` instance to the `compile()` method using the `optimizer` argument."
      ]
    },
    {
      "metadata": {
        "id": "RxjiOK7-RPU3",
        "colab_type": "code",
        "colab": {}
      },
      "cell_type": "code",
      "source": [
        ""
      ],
      "execution_count": 0,
      "outputs": []
    },
    {
      "metadata": {
        "id": "gC1gj6CXRPU4",
        "colab_type": "code",
        "colab": {}
      },
      "cell_type": "code",
      "source": [
        ""
      ],
      "execution_count": 0,
      "outputs": []
    },
    {
      "metadata": {
        "id": "bgKL5EssRPU5",
        "colab_type": "code",
        "colab": {}
      },
      "cell_type": "code",
      "source": [
        ""
      ],
      "execution_count": 0,
      "outputs": []
    },
    {
      "metadata": {
        "id": "VHNI4KtiRPU5",
        "colab_type": "text"
      },
      "cell_type": "markdown",
      "source": [
        "### 6.2)\n",
        "Let's look at a more sophisticated way to tune hyperparameters. Create a `build_model()` function that takes three arguments, `n_hidden`, `n_neurons`, `learning_rate`, and builds, compiles and returns a model with the given number of hidden layers, the given number of neurons and the given learning rate. It is good practice to give a reasonable default value to each argument."
      ]
    },
    {
      "metadata": {
        "id": "yzI2uGl6RPU6",
        "colab_type": "code",
        "colab": {}
      },
      "cell_type": "code",
      "source": [
        ""
      ],
      "execution_count": 0,
      "outputs": []
    },
    {
      "metadata": {
        "id": "-wsos2zjRPU7",
        "colab_type": "code",
        "colab": {}
      },
      "cell_type": "code",
      "source": [
        ""
      ],
      "execution_count": 0,
      "outputs": []
    },
    {
      "metadata": {
        "id": "8ZR4wueqRPU8",
        "colab_type": "code",
        "colab": {}
      },
      "cell_type": "code",
      "source": [
        ""
      ],
      "execution_count": 0,
      "outputs": []
    },
    {
      "metadata": {
        "id": "GK5cEbagRPU8",
        "colab_type": "text"
      },
      "cell_type": "markdown",
      "source": [
        "### 6.3)\n",
        "Create a `keras.wrappers.scikit_learn.KerasRegressor` and pass the `build_model` function to the constructor. This gives you a Scikit-Learn compatible predictor. Try training it and using it to make predictions. Note that you can pass the `n_epochs`, `callbacks` and `validation_data` to the `fit()` method."
      ]
    },
    {
      "metadata": {
        "id": "o8ftwuH-RPU9",
        "colab_type": "code",
        "colab": {}
      },
      "cell_type": "code",
      "source": [
        ""
      ],
      "execution_count": 0,
      "outputs": []
    },
    {
      "metadata": {
        "id": "M7dy12aqRPU9",
        "colab_type": "code",
        "colab": {}
      },
      "cell_type": "code",
      "source": [
        ""
      ],
      "execution_count": 0,
      "outputs": []
    },
    {
      "metadata": {
        "id": "Hz6X76_dRPU-",
        "colab_type": "code",
        "colab": {}
      },
      "cell_type": "code",
      "source": [
        ""
      ],
      "execution_count": 0,
      "outputs": []
    },
    {
      "metadata": {
        "id": "aSz_7o9uRPU_",
        "colab_type": "text"
      },
      "cell_type": "markdown",
      "source": [
        "### 6.4)\n",
        "Use a `sklearn.model_selection.RandomizedSearchCV` to search the hyperparameter space of your `KerasRegressor`.\n",
        "\n",
        "**Tips**:\n",
        "* create a `param_distribs` dictionary where each key is the name of a hyperparameter you want to fine-tune (e.g., `\"n_hidden\"`), and each value is the list of values you want to explore (e.g., `[0, 1, 2, 3]`), or a Scipy distribution from `scipy.stats`.\n",
        "* You can use the reciprocal distribution for the learning rate (e.g, `reciprocal(3e-3, 3e-2)`).\n",
        "* Create a `RandomizedSearchCV`, passing the `KerasRegressor` and the `param_distribs` to its constructor, as well as the number of iterations (`n_iter`), and the number of cross-validation folds (`cv`). If you are short on time, you can set `n_iter=10` and `cv=3`. You may also want to set `verbose=2`.\n",
        "* Finally, call the `RandomizedSearchCV`'s `fit()` method on the training set. Once again you can pass it `n_epochs`, `validation_data` and `callbacks` if you want to.\n",
        "* The best parameters found will be available in the `best_params_` attribute, the best score will be in `best_score_`, and the best model will be in `best_estimator_`."
      ]
    },
    {
      "metadata": {
        "id": "4Ha4-pQvRPU_",
        "colab_type": "code",
        "colab": {}
      },
      "cell_type": "code",
      "source": [
        ""
      ],
      "execution_count": 0,
      "outputs": []
    },
    {
      "metadata": {
        "id": "jYSVsgUuRPVA",
        "colab_type": "code",
        "colab": {}
      },
      "cell_type": "code",
      "source": [
        ""
      ],
      "execution_count": 0,
      "outputs": []
    },
    {
      "metadata": {
        "id": "ER2fMw5cRPVB",
        "colab_type": "code",
        "colab": {}
      },
      "cell_type": "code",
      "source": [
        ""
      ],
      "execution_count": 0,
      "outputs": []
    },
    {
      "metadata": {
        "id": "rz9MEwcYRPVB",
        "colab_type": "text"
      },
      "cell_type": "markdown",
      "source": [
        "### 6.5)\n",
        "Evaluate the best model found on the test set. You can either use the best estimator's `score()` method, or get its underlying Keras model *via* its `model` attribute, and call this model's `evaluate()` method. Note that the estimator returns the negative mean square error (it's a score, not a loss, so higher is better)."
      ]
    },
    {
      "metadata": {
        "id": "3RspJiT0RPVC",
        "colab_type": "code",
        "colab": {}
      },
      "cell_type": "code",
      "source": [
        ""
      ],
      "execution_count": 0,
      "outputs": []
    },
    {
      "metadata": {
        "id": "pGsxF1QORPVC",
        "colab_type": "code",
        "colab": {}
      },
      "cell_type": "code",
      "source": [
        ""
      ],
      "execution_count": 0,
      "outputs": []
    },
    {
      "metadata": {
        "id": "42ivTfuGRPVD",
        "colab_type": "code",
        "colab": {}
      },
      "cell_type": "code",
      "source": [
        ""
      ],
      "execution_count": 0,
      "outputs": []
    },
    {
      "metadata": {
        "id": "YxWcFsviRPVD",
        "colab_type": "text"
      },
      "cell_type": "markdown",
      "source": [
        "### 6.6)\n",
        "Finally, save the best Keras model found. **Tip**: it is available via the best estimator's `model` attribute, and just need to call its `save()` method."
      ]
    },
    {
      "metadata": {
        "id": "Wfx0s6FpRPVE",
        "colab_type": "code",
        "colab": {}
      },
      "cell_type": "code",
      "source": [
        ""
      ],
      "execution_count": 0,
      "outputs": []
    },
    {
      "metadata": {
        "id": "vqE3xoTTRPVG",
        "colab_type": "code",
        "colab": {}
      },
      "cell_type": "code",
      "source": [
        ""
      ],
      "execution_count": 0,
      "outputs": []
    },
    {
      "metadata": {
        "id": "DdizSlmpRPVH",
        "colab_type": "code",
        "colab": {}
      },
      "cell_type": "code",
      "source": [
        ""
      ],
      "execution_count": 0,
      "outputs": []
    },
    {
      "metadata": {
        "id": "k1d9T3x8RPVK",
        "colab_type": "text"
      },
      "cell_type": "markdown",
      "source": [
        "**Tip**: while a randomized search is nice and simple, there are more powerful (but complex) options available out there for hyperparameter search, for example:\n",
        "* [Hyperopt](https://github.com/hyperopt/hyperopt)\n",
        "* [Hyperas](https://github.com/maxpumperla/hyperas)\n",
        "* [Sklearn-Deap](https://github.com/rsteca/sklearn-deap)\n",
        "* [Scikit-Optimize](https://scikit-optimize.github.io/)\n",
        "* [Spearmint](https://github.com/JasperSnoek/spearmint)\n",
        "* [PyMC3](https://docs.pymc.io/)\n",
        "* [GPFlow](https://gpflow.readthedocs.io/)\n",
        "* [Yelp/MOE](https://github.com/Yelp/MOE)\n",
        "* Commercial services such as: [Google Cloud ML Engine](https://cloud.google.com/ml-engine/docs/tensorflow/using-hyperparameter-tuning), [Arimo](https://arimo.com/) or [Oscar](http://oscar.calldesk.ai/)"
      ]
    },
    {
      "metadata": {
        "id": "hEV5vY9HRPVK",
        "colab_type": "text"
      },
      "cell_type": "markdown",
      "source": [
        "![Exercise solution](https://camo.githubusercontent.com/250388fde3fac9135ead9471733ee28e049f7a37/68747470733a2f2f75706c6f61642e77696b696d656469612e6f72672f77696b6970656469612f636f6d6d6f6e732f302f30362f46696c6f735f736567756e646f5f6c6f676f5f253238666c69707065642532392e6a7067)"
      ]
    },
    {
      "metadata": {
        "id": "ZPiVESaMRPVK",
        "colab_type": "text"
      },
      "cell_type": "markdown",
      "source": [
        "## Exercise 6 – Solution"
      ]
    },
    {
      "metadata": {
        "id": "aBczbliMRPVL",
        "colab_type": "text"
      },
      "cell_type": "markdown",
      "source": [
        "### 6.1)\n",
        "Try training your model multiple times, with different a learning rate each time (e.g., 1e-4, 3e-4, 1e-3, 3e-3, 3e-2), and compare the learning curves. For this, you need to create a `keras.optimizers.SGD` optimizer and specify the `learning_rate` in its constructor, then pass this `SGD` instance to the `compile()` method using the `optimizer` argument."
      ]
    },
    {
      "metadata": {
        "id": "Wt7wAUMYRPVL",
        "colab_type": "code",
        "colab": {
          "base_uri": "https://localhost:8080/",
          "height": 17405
        },
        "outputId": "677bec9a-7bc8-404c-da25-9ec347348888"
      },
      "cell_type": "code",
      "source": [
        "learning_rates = [1e-4, 3e-4, 1e-3, 3e-3, 1e-2, 3e-2]\n",
        "histories = []\n",
        "for learning_rate in learning_rates:\n",
        "    model = keras.models.Sequential([\n",
        "        keras.layers.Dense(30, activation=\"relu\", input_shape=X_train.shape[1:]),\n",
        "        keras.layers.Dense(1)\n",
        "    ])\n",
        "    optimizer = keras.optimizers.SGD(learning_rate)\n",
        "    model.compile(loss=\"mean_squared_error\", optimizer=optimizer)\n",
        "    callbacks = [keras.callbacks.EarlyStopping(patience=10)]\n",
        "    history = model.fit(X_train_scaled, y_train,\n",
        "                        validation_data=(X_test_scaled, y_test), epochs=100,\n",
        "                        callbacks=callbacks)\n",
        "    histories.append(history)"
      ],
      "execution_count": 64,
      "outputs": [
        {
          "output_type": "stream",
          "text": [
            "Train on 11610 samples, validate on 5160 samples\n",
            "Epoch 1/100\n",
            "11610/11610 [==============================] - 1s 57us/sample - loss: 4.7070 - val_loss: 3.9082\n",
            "Epoch 2/100\n",
            "11610/11610 [==============================] - 1s 47us/sample - loss: 3.4921 - val_loss: 2.9626\n",
            "Epoch 3/100\n",
            "11610/11610 [==============================] - 1s 48us/sample - loss: 2.7114 - val_loss: 2.3413\n",
            "Epoch 4/100\n",
            "11610/11610 [==============================] - 1s 47us/sample - loss: 2.1870 - val_loss: 1.9224\n",
            "Epoch 5/100\n",
            "11610/11610 [==============================] - 1s 47us/sample - loss: 1.8220 - val_loss: 1.6287\n",
            "Epoch 6/100\n",
            "11610/11610 [==============================] - 1s 45us/sample - loss: 1.5632 - val_loss: 1.4202\n",
            "Epoch 7/100\n",
            "11610/11610 [==============================] - 1s 46us/sample - loss: 1.3770 - val_loss: 1.2686\n",
            "Epoch 8/100\n",
            "11610/11610 [==============================] - 1s 46us/sample - loss: 1.2396 - val_loss: 1.1552\n",
            "Epoch 9/100\n",
            "11610/11610 [==============================] - 1s 46us/sample - loss: 1.1360 - val_loss: 1.0699\n",
            "Epoch 10/100\n",
            "11610/11610 [==============================] - 1s 46us/sample - loss: 1.0573 - val_loss: 1.0046\n",
            "Epoch 11/100\n",
            "11610/11610 [==============================] - 1s 46us/sample - loss: 0.9967 - val_loss: 0.9540\n",
            "Epoch 12/100\n",
            "11610/11610 [==============================] - 1s 48us/sample - loss: 0.9494 - val_loss: 0.9142\n",
            "Epoch 13/100\n",
            "11610/11610 [==============================] - 1s 47us/sample - loss: 0.9121 - val_loss: 0.8824\n",
            "Epoch 14/100\n",
            "11610/11610 [==============================] - 1s 48us/sample - loss: 0.8823 - val_loss: 0.8569\n",
            "Epoch 15/100\n",
            "11610/11610 [==============================] - 1s 47us/sample - loss: 0.8583 - val_loss: 0.8360\n",
            "Epoch 16/100\n",
            "11610/11610 [==============================] - 1s 48us/sample - loss: 0.8386 - val_loss: 0.8185\n",
            "Epoch 17/100\n",
            "11610/11610 [==============================] - 1s 46us/sample - loss: 0.8222 - val_loss: 0.8038\n",
            "Epoch 18/100\n",
            "11610/11610 [==============================] - 1s 48us/sample - loss: 0.8083 - val_loss: 0.7910\n",
            "Epoch 19/100\n",
            "11610/11610 [==============================] - 1s 47us/sample - loss: 0.7963 - val_loss: 0.7799\n",
            "Epoch 20/100\n",
            "11610/11610 [==============================] - 1s 48us/sample - loss: 0.7859 - val_loss: 0.7700\n",
            "Epoch 21/100\n",
            "11610/11610 [==============================] - 1s 48us/sample - loss: 0.7766 - val_loss: 0.7611\n",
            "Epoch 22/100\n",
            "11610/11610 [==============================] - 1s 48us/sample - loss: 0.7682 - val_loss: 0.7530\n",
            "Epoch 23/100\n",
            "11610/11610 [==============================] - 1s 49us/sample - loss: 0.7606 - val_loss: 0.7455\n",
            "Epoch 24/100\n",
            "11610/11610 [==============================] - 1s 49us/sample - loss: 0.7536 - val_loss: 0.7385\n",
            "Epoch 25/100\n",
            "11610/11610 [==============================] - 1s 48us/sample - loss: 0.7470 - val_loss: 0.7319\n",
            "Epoch 26/100\n",
            "11610/11610 [==============================] - 1s 48us/sample - loss: 0.7409 - val_loss: 0.7257\n",
            "Epoch 27/100\n",
            "11610/11610 [==============================] - 1s 47us/sample - loss: 0.7351 - val_loss: 0.7198\n",
            "Epoch 28/100\n",
            "11610/11610 [==============================] - 1s 46us/sample - loss: 0.7296 - val_loss: 0.7142\n",
            "Epoch 29/100\n",
            "11610/11610 [==============================] - 1s 47us/sample - loss: 0.7243 - val_loss: 0.7088\n",
            "Epoch 30/100\n",
            "11610/11610 [==============================] - 1s 47us/sample - loss: 0.7193 - val_loss: 0.7036\n",
            "Epoch 31/100\n",
            "11610/11610 [==============================] - 1s 46us/sample - loss: 0.7144 - val_loss: 0.6986\n",
            "Epoch 32/100\n",
            "11610/11610 [==============================] - 1s 46us/sample - loss: 0.7097 - val_loss: 0.6938\n",
            "Epoch 33/100\n",
            "11610/11610 [==============================] - 1s 47us/sample - loss: 0.7052 - val_loss: 0.6891\n",
            "Epoch 34/100\n",
            "11610/11610 [==============================] - 1s 46us/sample - loss: 0.7008 - val_loss: 0.6846\n",
            "Epoch 35/100\n",
            "11610/11610 [==============================] - 1s 46us/sample - loss: 0.6965 - val_loss: 0.6802\n",
            "Epoch 36/100\n",
            "11610/11610 [==============================] - 1s 46us/sample - loss: 0.6924 - val_loss: 0.6759\n",
            "Epoch 37/100\n",
            "11610/11610 [==============================] - 1s 46us/sample - loss: 0.6884 - val_loss: 0.6717\n",
            "Epoch 38/100\n",
            "11610/11610 [==============================] - 1s 46us/sample - loss: 0.6845 - val_loss: 0.6677\n",
            "Epoch 39/100\n",
            "11610/11610 [==============================] - 1s 46us/sample - loss: 0.6806 - val_loss: 0.6637\n",
            "Epoch 40/100\n",
            "11610/11610 [==============================] - 1s 47us/sample - loss: 0.6769 - val_loss: 0.6599\n",
            "Epoch 41/100\n",
            "11610/11610 [==============================] - 1s 47us/sample - loss: 0.6733 - val_loss: 0.6561\n",
            "Epoch 42/100\n",
            "11610/11610 [==============================] - 1s 48us/sample - loss: 0.6697 - val_loss: 0.6524\n",
            "Epoch 43/100\n",
            "11610/11610 [==============================] - 1s 47us/sample - loss: 0.6662 - val_loss: 0.6488\n",
            "Epoch 44/100\n",
            "11610/11610 [==============================] - 1s 46us/sample - loss: 0.6628 - val_loss: 0.6453\n",
            "Epoch 45/100\n",
            "11610/11610 [==============================] - 1s 46us/sample - loss: 0.6594 - val_loss: 0.6418\n",
            "Epoch 46/100\n",
            "11610/11610 [==============================] - 1s 46us/sample - loss: 0.6562 - val_loss: 0.6384\n",
            "Epoch 47/100\n",
            "11610/11610 [==============================] - 1s 47us/sample - loss: 0.6529 - val_loss: 0.6351\n",
            "Epoch 48/100\n",
            "11610/11610 [==============================] - 1s 49us/sample - loss: 0.6497 - val_loss: 0.6318\n",
            "Epoch 49/100\n",
            "11610/11610 [==============================] - 1s 48us/sample - loss: 0.6466 - val_loss: 0.6286\n",
            "Epoch 50/100\n",
            "11610/11610 [==============================] - 1s 47us/sample - loss: 0.6436 - val_loss: 0.6255\n",
            "Epoch 51/100\n",
            "11610/11610 [==============================] - 1s 49us/sample - loss: 0.6406 - val_loss: 0.6224\n",
            "Epoch 52/100\n",
            "11610/11610 [==============================] - 1s 54us/sample - loss: 0.6376 - val_loss: 0.6193\n",
            "Epoch 53/100\n",
            "11610/11610 [==============================] - 1s 55us/sample - loss: 0.6347 - val_loss: 0.6164\n",
            "Epoch 54/100\n",
            "11610/11610 [==============================] - 1s 54us/sample - loss: 0.6319 - val_loss: 0.6134\n",
            "Epoch 55/100\n",
            "11610/11610 [==============================] - 1s 55us/sample - loss: 0.6291 - val_loss: 0.6106\n",
            "Epoch 56/100\n",
            "11610/11610 [==============================] - 1s 67us/sample - loss: 0.6263 - val_loss: 0.6078\n",
            "Epoch 57/100\n",
            "11610/11610 [==============================] - 1s 74us/sample - loss: 0.6236 - val_loss: 0.6050\n",
            "Epoch 58/100\n",
            "11610/11610 [==============================] - 1s 74us/sample - loss: 0.6210 - val_loss: 0.6022\n",
            "Epoch 59/100\n",
            "11610/11610 [==============================] - 1s 74us/sample - loss: 0.6184 - val_loss: 0.5995\n",
            "Epoch 60/100\n",
            "11610/11610 [==============================] - 1s 73us/sample - loss: 0.6158 - val_loss: 0.5969\n",
            "Epoch 61/100\n",
            "11610/11610 [==============================] - 1s 75us/sample - loss: 0.6133 - val_loss: 0.5943\n",
            "Epoch 62/100\n",
            "11610/11610 [==============================] - 1s 73us/sample - loss: 0.6107 - val_loss: 0.5917\n",
            "Epoch 63/100\n",
            "11610/11610 [==============================] - 1s 69us/sample - loss: 0.6083 - val_loss: 0.5892\n",
            "Epoch 64/100\n",
            "11610/11610 [==============================] - 1s 53us/sample - loss: 0.6058 - val_loss: 0.5868\n",
            "Epoch 65/100\n",
            "11610/11610 [==============================] - 1s 52us/sample - loss: 0.6034 - val_loss: 0.5843\n",
            "Epoch 66/100\n",
            "11610/11610 [==============================] - 1s 46us/sample - loss: 0.6011 - val_loss: 0.5819\n",
            "Epoch 67/100\n",
            "11610/11610 [==============================] - 1s 46us/sample - loss: 0.5987 - val_loss: 0.5796\n",
            "Epoch 68/100\n",
            "11610/11610 [==============================] - 1s 45us/sample - loss: 0.5965 - val_loss: 0.5773\n",
            "Epoch 69/100\n",
            "11610/11610 [==============================] - 1s 46us/sample - loss: 0.5942 - val_loss: 0.5750\n",
            "Epoch 70/100\n",
            "11610/11610 [==============================] - 1s 45us/sample - loss: 0.5920 - val_loss: 0.5727\n",
            "Epoch 71/100\n",
            "11610/11610 [==============================] - 1s 47us/sample - loss: 0.5898 - val_loss: 0.5705\n",
            "Epoch 72/100\n",
            "11610/11610 [==============================] - 1s 45us/sample - loss: 0.5876 - val_loss: 0.5683\n",
            "Epoch 73/100\n",
            "11610/11610 [==============================] - 1s 46us/sample - loss: 0.5855 - val_loss: 0.5661\n",
            "Epoch 74/100\n",
            "11610/11610 [==============================] - 1s 48us/sample - loss: 0.5834 - val_loss: 0.5640\n",
            "Epoch 75/100\n",
            "11610/11610 [==============================] - 1s 46us/sample - loss: 0.5813 - val_loss: 0.5619\n",
            "Epoch 76/100\n",
            "11610/11610 [==============================] - 1s 47us/sample - loss: 0.5793 - val_loss: 0.5598\n",
            "Epoch 77/100\n",
            "11610/11610 [==============================] - 1s 47us/sample - loss: 0.5773 - val_loss: 0.5578\n",
            "Epoch 78/100\n",
            "11610/11610 [==============================] - 1s 46us/sample - loss: 0.5753 - val_loss: 0.5558\n",
            "Epoch 79/100\n",
            "11610/11610 [==============================] - 1s 49us/sample - loss: 0.5734 - val_loss: 0.5538\n",
            "Epoch 80/100\n",
            "11610/11610 [==============================] - 1s 48us/sample - loss: 0.5714 - val_loss: 0.5519\n",
            "Epoch 81/100\n",
            "11610/11610 [==============================] - 1s 46us/sample - loss: 0.5695 - val_loss: 0.5500\n",
            "Epoch 82/100\n",
            "11610/11610 [==============================] - 1s 47us/sample - loss: 0.5676 - val_loss: 0.5481\n",
            "Epoch 83/100\n",
            "11610/11610 [==============================] - 1s 46us/sample - loss: 0.5658 - val_loss: 0.5463\n",
            "Epoch 84/100\n",
            "11610/11610 [==============================] - 1s 46us/sample - loss: 0.5639 - val_loss: 0.5445\n",
            "Epoch 85/100\n",
            "11610/11610 [==============================] - 1s 46us/sample - loss: 0.5621 - val_loss: 0.5427\n",
            "Epoch 86/100\n",
            "11610/11610 [==============================] - 1s 46us/sample - loss: 0.5604 - val_loss: 0.5409\n",
            "Epoch 87/100\n",
            "11610/11610 [==============================] - 1s 47us/sample - loss: 0.5586 - val_loss: 0.5392\n",
            "Epoch 88/100\n",
            "11610/11610 [==============================] - 1s 46us/sample - loss: 0.5569 - val_loss: 0.5375\n",
            "Epoch 89/100\n",
            "11610/11610 [==============================] - 1s 46us/sample - loss: 0.5552 - val_loss: 0.5358\n",
            "Epoch 90/100\n",
            "11610/11610 [==============================] - 1s 46us/sample - loss: 0.5536 - val_loss: 0.5342\n",
            "Epoch 91/100\n",
            "11610/11610 [==============================] - 1s 47us/sample - loss: 0.5519 - val_loss: 0.5326\n",
            "Epoch 92/100\n",
            "11610/11610 [==============================] - 1s 46us/sample - loss: 0.5503 - val_loss: 0.5310\n",
            "Epoch 93/100\n",
            "11610/11610 [==============================] - 1s 47us/sample - loss: 0.5487 - val_loss: 0.5294\n",
            "Epoch 94/100\n",
            "11610/11610 [==============================] - 1s 46us/sample - loss: 0.5472 - val_loss: 0.5279\n",
            "Epoch 95/100\n",
            "11610/11610 [==============================] - 1s 47us/sample - loss: 0.5456 - val_loss: 0.5264\n",
            "Epoch 96/100\n",
            "11610/11610 [==============================] - 1s 46us/sample - loss: 0.5441 - val_loss: 0.5248\n",
            "Epoch 97/100\n",
            "11610/11610 [==============================] - 1s 46us/sample - loss: 0.5426 - val_loss: 0.5234\n",
            "Epoch 98/100\n",
            "11610/11610 [==============================] - 1s 47us/sample - loss: 0.5411 - val_loss: 0.5219\n",
            "Epoch 99/100\n",
            "11610/11610 [==============================] - 1s 48us/sample - loss: 0.5396 - val_loss: 0.5205\n",
            "Epoch 100/100\n",
            "11610/11610 [==============================] - 1s 47us/sample - loss: 0.5382 - val_loss: 0.5191\n",
            "Train on 11610 samples, validate on 5160 samples\n",
            "Epoch 1/100\n",
            "11610/11610 [==============================] - 1s 57us/sample - loss: 4.1705 - val_loss: 2.4842\n",
            "Epoch 2/100\n",
            "11610/11610 [==============================] - 1s 48us/sample - loss: 1.8498 - val_loss: 1.3520\n",
            "Epoch 3/100\n",
            "11610/11610 [==============================] - 1s 47us/sample - loss: 1.1466 - val_loss: 0.9624\n",
            "Epoch 4/100\n",
            "11610/11610 [==============================] - 1s 47us/sample - loss: 0.8845 - val_loss: 0.8031\n",
            "Epoch 5/100\n",
            "11610/11610 [==============================] - 1s 46us/sample - loss: 0.7709 - val_loss: 0.7288\n",
            "Epoch 6/100\n",
            "11610/11610 [==============================] - 1s 47us/sample - loss: 0.7156 - val_loss: 0.6885\n",
            "Epoch 7/100\n",
            "11610/11610 [==============================] - 1s 46us/sample - loss: 0.6843 - val_loss: 0.6627\n",
            "Epoch 8/100\n",
            "11610/11610 [==============================] - 1s 46us/sample - loss: 0.6631 - val_loss: 0.6440\n",
            "Epoch 9/100\n",
            "11610/11610 [==============================] - 1s 48us/sample - loss: 0.6469 - val_loss: 0.6289\n",
            "Epoch 10/100\n",
            "11610/11610 [==============================] - 1s 49us/sample - loss: 0.6331 - val_loss: 0.6158\n",
            "Epoch 11/100\n",
            "11610/11610 [==============================] - 1s 46us/sample - loss: 0.6210 - val_loss: 0.6044\n",
            "Epoch 12/100\n",
            "11610/11610 [==============================] - 1s 46us/sample - loss: 0.6099 - val_loss: 0.5937\n",
            "Epoch 13/100\n",
            "11610/11610 [==============================] - 1s 47us/sample - loss: 0.5997 - val_loss: 0.5841\n",
            "Epoch 14/100\n",
            "11610/11610 [==============================] - 1s 46us/sample - loss: 0.5901 - val_loss: 0.5751\n",
            "Epoch 15/100\n",
            "11610/11610 [==============================] - 1s 47us/sample - loss: 0.5811 - val_loss: 0.5667\n",
            "Epoch 16/100\n",
            "11610/11610 [==============================] - 1s 49us/sample - loss: 0.5727 - val_loss: 0.5589\n",
            "Epoch 17/100\n",
            "11610/11610 [==============================] - 1s 45us/sample - loss: 0.5648 - val_loss: 0.5517\n",
            "Epoch 18/100\n",
            "11610/11610 [==============================] - 1s 46us/sample - loss: 0.5574 - val_loss: 0.5448\n",
            "Epoch 19/100\n",
            "11610/11610 [==============================] - 1s 46us/sample - loss: 0.5504 - val_loss: 0.5387\n",
            "Epoch 20/100\n",
            "11610/11610 [==============================] - 1s 46us/sample - loss: 0.5439 - val_loss: 0.5326\n",
            "Epoch 21/100\n",
            "11610/11610 [==============================] - 1s 47us/sample - loss: 0.5377 - val_loss: 0.5269\n",
            "Epoch 22/100\n",
            "11610/11610 [==============================] - 1s 47us/sample - loss: 0.5318 - val_loss: 0.5217\n",
            "Epoch 23/100\n",
            "11610/11610 [==============================] - 1s 46us/sample - loss: 0.5263 - val_loss: 0.5163\n",
            "Epoch 24/100\n",
            "11610/11610 [==============================] - 1s 48us/sample - loss: 0.5210 - val_loss: 0.5116\n",
            "Epoch 25/100\n",
            "11610/11610 [==============================] - 1s 46us/sample - loss: 0.5161 - val_loss: 0.5071\n",
            "Epoch 26/100\n",
            "11610/11610 [==============================] - 1s 45us/sample - loss: 0.5114 - val_loss: 0.5028\n",
            "Epoch 27/100\n",
            "11610/11610 [==============================] - 1s 46us/sample - loss: 0.5069 - val_loss: 0.4989\n",
            "Epoch 28/100\n",
            "11610/11610 [==============================] - 1s 47us/sample - loss: 0.5027 - val_loss: 0.4950\n",
            "Epoch 29/100\n",
            "11610/11610 [==============================] - 1s 46us/sample - loss: 0.4987 - val_loss: 0.4912\n",
            "Epoch 30/100\n",
            "11610/11610 [==============================] - 1s 47us/sample - loss: 0.4949 - val_loss: 0.4882\n",
            "Epoch 31/100\n",
            "11610/11610 [==============================] - 1s 45us/sample - loss: 0.4914 - val_loss: 0.4850\n",
            "Epoch 32/100\n",
            "11610/11610 [==============================] - 1s 46us/sample - loss: 0.4880 - val_loss: 0.4818\n",
            "Epoch 33/100\n",
            "11610/11610 [==============================] - 1s 48us/sample - loss: 0.4848 - val_loss: 0.4787\n",
            "Epoch 34/100\n",
            "11610/11610 [==============================] - 1s 46us/sample - loss: 0.4817 - val_loss: 0.4762\n",
            "Epoch 35/100\n",
            "11610/11610 [==============================] - 1s 48us/sample - loss: 0.4788 - val_loss: 0.4734\n",
            "Epoch 36/100\n",
            "11610/11610 [==============================] - 1s 47us/sample - loss: 0.4760 - val_loss: 0.4709\n",
            "Epoch 37/100\n",
            "11610/11610 [==============================] - 1s 46us/sample - loss: 0.4733 - val_loss: 0.4682\n",
            "Epoch 38/100\n",
            "11610/11610 [==============================] - 1s 47us/sample - loss: 0.4708 - val_loss: 0.4663\n",
            "Epoch 39/100\n",
            "11610/11610 [==============================] - 1s 46us/sample - loss: 0.4684 - val_loss: 0.4640\n",
            "Epoch 40/100\n",
            "11610/11610 [==============================] - 1s 47us/sample - loss: 0.4661 - val_loss: 0.4617\n",
            "Epoch 41/100\n",
            "11610/11610 [==============================] - 1s 46us/sample - loss: 0.4639 - val_loss: 0.4599\n",
            "Epoch 42/100\n",
            "11610/11610 [==============================] - 1s 47us/sample - loss: 0.4618 - val_loss: 0.4574\n",
            "Epoch 43/100\n",
            "11610/11610 [==============================] - 1s 46us/sample - loss: 0.4598 - val_loss: 0.4556\n",
            "Epoch 44/100\n",
            "11610/11610 [==============================] - 1s 46us/sample - loss: 0.4579 - val_loss: 0.4539\n",
            "Epoch 45/100\n",
            "11610/11610 [==============================] - 1s 46us/sample - loss: 0.4560 - val_loss: 0.4522\n",
            "Epoch 46/100\n",
            "11610/11610 [==============================] - 1s 48us/sample - loss: 0.4542 - val_loss: 0.4501\n",
            "Epoch 47/100\n",
            "11610/11610 [==============================] - 1s 46us/sample - loss: 0.4526 - val_loss: 0.4487\n",
            "Epoch 48/100\n",
            "11610/11610 [==============================] - 1s 46us/sample - loss: 0.4509 - val_loss: 0.4471\n",
            "Epoch 49/100\n",
            "11610/11610 [==============================] - 1s 46us/sample - loss: 0.4493 - val_loss: 0.4458\n",
            "Epoch 50/100\n",
            "11610/11610 [==============================] - 1s 46us/sample - loss: 0.4478 - val_loss: 0.4441\n",
            "Epoch 51/100\n",
            "11610/11610 [==============================] - 1s 45us/sample - loss: 0.4464 - val_loss: 0.4426\n",
            "Epoch 52/100\n",
            "11610/11610 [==============================] - 1s 46us/sample - loss: 0.4449 - val_loss: 0.4410\n",
            "Epoch 53/100\n",
            "11610/11610 [==============================] - 1s 48us/sample - loss: 0.4436 - val_loss: 0.4398\n",
            "Epoch 54/100\n",
            "11610/11610 [==============================] - 1s 46us/sample - loss: 0.4423 - val_loss: 0.4388\n",
            "Epoch 55/100\n",
            "11610/11610 [==============================] - 1s 46us/sample - loss: 0.4410 - val_loss: 0.4374\n",
            "Epoch 56/100\n",
            "11610/11610 [==============================] - 1s 47us/sample - loss: 0.4398 - val_loss: 0.4362\n",
            "Epoch 57/100\n",
            "11610/11610 [==============================] - 1s 48us/sample - loss: 0.4386 - val_loss: 0.4352\n",
            "Epoch 58/100\n",
            "11610/11610 [==============================] - 1s 46us/sample - loss: 0.4375 - val_loss: 0.4341\n",
            "Epoch 59/100\n",
            "11610/11610 [==============================] - 1s 46us/sample - loss: 0.4364 - val_loss: 0.4327\n",
            "Epoch 60/100\n",
            "11610/11610 [==============================] - 1s 46us/sample - loss: 0.4354 - val_loss: 0.4316\n",
            "Epoch 61/100\n",
            "11610/11610 [==============================] - 1s 49us/sample - loss: 0.4344 - val_loss: 0.4307\n",
            "Epoch 62/100\n",
            "11610/11610 [==============================] - 1s 46us/sample - loss: 0.4334 - val_loss: 0.4297\n",
            "Epoch 63/100\n",
            "11610/11610 [==============================] - 1s 46us/sample - loss: 0.4324 - val_loss: 0.4290\n",
            "Epoch 64/100\n",
            "11610/11610 [==============================] - 1s 48us/sample - loss: 0.4315 - val_loss: 0.4281\n",
            "Epoch 65/100\n",
            "11610/11610 [==============================] - 1s 47us/sample - loss: 0.4307 - val_loss: 0.4272\n",
            "Epoch 66/100\n",
            "11610/11610 [==============================] - 1s 46us/sample - loss: 0.4298 - val_loss: 0.4263\n",
            "Epoch 67/100\n",
            "11610/11610 [==============================] - 1s 46us/sample - loss: 0.4289 - val_loss: 0.4252\n",
            "Epoch 68/100\n",
            "11610/11610 [==============================] - 1s 46us/sample - loss: 0.4281 - val_loss: 0.4242\n",
            "Epoch 69/100\n",
            "11610/11610 [==============================] - 1s 46us/sample - loss: 0.4273 - val_loss: 0.4236\n",
            "Epoch 70/100\n",
            "11610/11610 [==============================] - 1s 46us/sample - loss: 0.4265 - val_loss: 0.4228\n",
            "Epoch 71/100\n",
            "11610/11610 [==============================] - 1s 46us/sample - loss: 0.4258 - val_loss: 0.4217\n",
            "Epoch 72/100\n",
            "11610/11610 [==============================] - 1s 47us/sample - loss: 0.4250 - val_loss: 0.4210\n",
            "Epoch 73/100\n",
            "11610/11610 [==============================] - 1s 46us/sample - loss: 0.4243 - val_loss: 0.4206\n",
            "Epoch 74/100\n",
            "11610/11610 [==============================] - 1s 46us/sample - loss: 0.4236 - val_loss: 0.4201\n",
            "Epoch 75/100\n",
            "11610/11610 [==============================] - 1s 46us/sample - loss: 0.4229 - val_loss: 0.4190\n",
            "Epoch 76/100\n",
            "11610/11610 [==============================] - 1s 45us/sample - loss: 0.4222 - val_loss: 0.4183\n",
            "Epoch 77/100\n",
            "11610/11610 [==============================] - 1s 46us/sample - loss: 0.4215 - val_loss: 0.4176\n",
            "Epoch 78/100\n",
            "11610/11610 [==============================] - 1s 46us/sample - loss: 0.4209 - val_loss: 0.4171\n",
            "Epoch 79/100\n",
            "11610/11610 [==============================] - 1s 47us/sample - loss: 0.4202 - val_loss: 0.4166\n",
            "Epoch 80/100\n",
            "11610/11610 [==============================] - 1s 46us/sample - loss: 0.4196 - val_loss: 0.4161\n",
            "Epoch 81/100\n",
            "11610/11610 [==============================] - 1s 46us/sample - loss: 0.4189 - val_loss: 0.4154\n",
            "Epoch 82/100\n",
            "11610/11610 [==============================] - 1s 45us/sample - loss: 0.4183 - val_loss: 0.4145\n",
            "Epoch 83/100\n",
            "11610/11610 [==============================] - 1s 46us/sample - loss: 0.4177 - val_loss: 0.4136\n",
            "Epoch 84/100\n",
            "11610/11610 [==============================] - 1s 45us/sample - loss: 0.4171 - val_loss: 0.4131\n",
            "Epoch 85/100\n",
            "11610/11610 [==============================] - 1s 46us/sample - loss: 0.4165 - val_loss: 0.4127\n",
            "Epoch 86/100\n",
            "11610/11610 [==============================] - 1s 46us/sample - loss: 0.4159 - val_loss: 0.4118\n",
            "Epoch 87/100\n",
            "11610/11610 [==============================] - 1s 46us/sample - loss: 0.4154 - val_loss: 0.4113\n",
            "Epoch 88/100\n",
            "11610/11610 [==============================] - 1s 47us/sample - loss: 0.4148 - val_loss: 0.4106\n",
            "Epoch 89/100\n",
            "11610/11610 [==============================] - 1s 48us/sample - loss: 0.4142 - val_loss: 0.4104\n",
            "Epoch 90/100\n",
            "11610/11610 [==============================] - 1s 48us/sample - loss: 0.4137 - val_loss: 0.4097\n",
            "Epoch 91/100\n",
            "11610/11610 [==============================] - 1s 46us/sample - loss: 0.4131 - val_loss: 0.4091\n",
            "Epoch 92/100\n",
            "11610/11610 [==============================] - 1s 48us/sample - loss: 0.4126 - val_loss: 0.4085\n",
            "Epoch 93/100\n",
            "11610/11610 [==============================] - 1s 46us/sample - loss: 0.4120 - val_loss: 0.4080\n",
            "Epoch 94/100\n",
            "11610/11610 [==============================] - 1s 46us/sample - loss: 0.4115 - val_loss: 0.4072\n",
            "Epoch 95/100\n",
            "11610/11610 [==============================] - 1s 46us/sample - loss: 0.4110 - val_loss: 0.4066\n",
            "Epoch 96/100\n",
            "11610/11610 [==============================] - 1s 47us/sample - loss: 0.4105 - val_loss: 0.4060\n",
            "Epoch 97/100\n",
            "11610/11610 [==============================] - 1s 45us/sample - loss: 0.4100 - val_loss: 0.4054\n",
            "Epoch 98/100\n",
            "11610/11610 [==============================] - 1s 47us/sample - loss: 0.4095 - val_loss: 0.4048\n",
            "Epoch 99/100\n",
            "11610/11610 [==============================] - 1s 46us/sample - loss: 0.4089 - val_loss: 0.4045\n",
            "Epoch 100/100\n",
            "11610/11610 [==============================] - 1s 46us/sample - loss: 0.4084 - val_loss: 0.4041\n",
            "Train on 11610 samples, validate on 5160 samples\n",
            "Epoch 1/100\n",
            "11610/11610 [==============================] - 1s 58us/sample - loss: 2.1924 - val_loss: 0.8020\n",
            "Epoch 2/100\n",
            "11610/11610 [==============================] - 1s 46us/sample - loss: 0.6933 - val_loss: 0.6391\n",
            "Epoch 3/100\n",
            "11610/11610 [==============================] - 1s 48us/sample - loss: 0.6123 - val_loss: 0.5890\n",
            "Epoch 4/100\n",
            "11610/11610 [==============================] - 1s 48us/sample - loss: 0.5736 - val_loss: 0.5547\n",
            "Epoch 5/100\n",
            "11610/11610 [==============================] - 1s 48us/sample - loss: 0.5454 - val_loss: 0.5288\n",
            "Epoch 6/100\n",
            "11610/11610 [==============================] - 1s 47us/sample - loss: 0.5229 - val_loss: 0.5093\n",
            "Epoch 7/100\n",
            "11610/11610 [==============================] - 1s 48us/sample - loss: 0.5040 - val_loss: 0.4921\n",
            "Epoch 8/100\n",
            "11610/11610 [==============================] - 1s 49us/sample - loss: 0.4889 - val_loss: 0.4796\n",
            "Epoch 9/100\n",
            "11610/11610 [==============================] - 1s 48us/sample - loss: 0.4762 - val_loss: 0.4671\n",
            "Epoch 10/100\n",
            "11610/11610 [==============================] - 1s 49us/sample - loss: 0.4655 - val_loss: 0.4571\n",
            "Epoch 11/100\n",
            "11610/11610 [==============================] - 1s 48us/sample - loss: 0.4564 - val_loss: 0.4489\n",
            "Epoch 12/100\n",
            "11610/11610 [==============================] - 1s 48us/sample - loss: 0.4485 - val_loss: 0.4444\n",
            "Epoch 13/100\n",
            "11610/11610 [==============================] - 1s 48us/sample - loss: 0.4425 - val_loss: 0.4364\n",
            "Epoch 14/100\n",
            "11610/11610 [==============================] - 1s 49us/sample - loss: 0.4368 - val_loss: 0.4306\n",
            "Epoch 15/100\n",
            "11610/11610 [==============================] - 1s 46us/sample - loss: 0.4320 - val_loss: 0.4279\n",
            "Epoch 16/100\n",
            "11610/11610 [==============================] - 1s 48us/sample - loss: 0.4278 - val_loss: 0.4249\n",
            "Epoch 17/100\n",
            "11610/11610 [==============================] - 1s 48us/sample - loss: 0.4241 - val_loss: 0.4208\n",
            "Epoch 18/100\n",
            "11610/11610 [==============================] - 1s 47us/sample - loss: 0.4208 - val_loss: 0.4167\n",
            "Epoch 19/100\n",
            "11610/11610 [==============================] - 1s 47us/sample - loss: 0.4179 - val_loss: 0.4134\n",
            "Epoch 20/100\n",
            "11610/11610 [==============================] - 1s 48us/sample - loss: 0.4151 - val_loss: 0.4122\n",
            "Epoch 21/100\n",
            "11610/11610 [==============================] - 1s 47us/sample - loss: 0.4127 - val_loss: 0.4102\n",
            "Epoch 22/100\n",
            "11610/11610 [==============================] - 1s 47us/sample - loss: 0.4104 - val_loss: 0.4079\n",
            "Epoch 23/100\n",
            "11610/11610 [==============================] - 1s 46us/sample - loss: 0.4082 - val_loss: 0.4055\n",
            "Epoch 24/100\n",
            "11610/11610 [==============================] - 1s 48us/sample - loss: 0.4063 - val_loss: 0.4036\n",
            "Epoch 25/100\n",
            "11610/11610 [==============================] - 1s 47us/sample - loss: 0.4045 - val_loss: 0.3999\n",
            "Epoch 26/100\n",
            "11610/11610 [==============================] - 1s 46us/sample - loss: 0.4026 - val_loss: 0.3981\n",
            "Epoch 27/100\n",
            "11610/11610 [==============================] - 1s 47us/sample - loss: 0.4009 - val_loss: 0.3971\n",
            "Epoch 28/100\n",
            "11610/11610 [==============================] - 1s 47us/sample - loss: 0.3992 - val_loss: 0.3970\n",
            "Epoch 29/100\n",
            "11610/11610 [==============================] - 1s 48us/sample - loss: 0.3980 - val_loss: 0.3934\n",
            "Epoch 30/100\n",
            "11610/11610 [==============================] - 1s 46us/sample - loss: 0.3967 - val_loss: 0.3930\n",
            "Epoch 31/100\n",
            "11610/11610 [==============================] - 1s 47us/sample - loss: 0.3952 - val_loss: 0.3919\n",
            "Epoch 32/100\n",
            "11610/11610 [==============================] - 1s 46us/sample - loss: 0.3940 - val_loss: 0.3904\n",
            "Epoch 33/100\n",
            "11610/11610 [==============================] - 1s 48us/sample - loss: 0.3929 - val_loss: 0.3891\n",
            "Epoch 34/100\n",
            "11610/11610 [==============================] - 1s 48us/sample - loss: 0.3918 - val_loss: 0.3891\n",
            "Epoch 35/100\n",
            "11610/11610 [==============================] - 1s 47us/sample - loss: 0.3904 - val_loss: 0.3858\n",
            "Epoch 36/100\n",
            "11610/11610 [==============================] - 1s 46us/sample - loss: 0.3895 - val_loss: 0.3866\n",
            "Epoch 37/100\n",
            "11610/11610 [==============================] - 1s 47us/sample - loss: 0.3886 - val_loss: 0.3845\n",
            "Epoch 38/100\n",
            "11610/11610 [==============================] - 1s 46us/sample - loss: 0.3873 - val_loss: 0.3841\n",
            "Epoch 39/100\n",
            "11610/11610 [==============================] - 1s 48us/sample - loss: 0.3864 - val_loss: 0.3822\n",
            "Epoch 40/100\n",
            "11610/11610 [==============================] - 1s 46us/sample - loss: 0.3856 - val_loss: 0.3826\n",
            "Epoch 41/100\n",
            "11610/11610 [==============================] - 1s 46us/sample - loss: 0.3846 - val_loss: 0.3806\n",
            "Epoch 42/100\n",
            "11610/11610 [==============================] - 1s 46us/sample - loss: 0.3839 - val_loss: 0.3801\n",
            "Epoch 43/100\n",
            "11610/11610 [==============================] - 1s 47us/sample - loss: 0.3832 - val_loss: 0.3795\n",
            "Epoch 44/100\n",
            "11610/11610 [==============================] - 1s 46us/sample - loss: 0.3824 - val_loss: 0.3786\n",
            "Epoch 45/100\n",
            "11610/11610 [==============================] - 1s 46us/sample - loss: 0.3814 - val_loss: 0.3784\n",
            "Epoch 46/100\n",
            "11610/11610 [==============================] - 1s 46us/sample - loss: 0.3809 - val_loss: 0.3776\n",
            "Epoch 47/100\n",
            "11610/11610 [==============================] - 1s 46us/sample - loss: 0.3802 - val_loss: 0.3770\n",
            "Epoch 48/100\n",
            "11610/11610 [==============================] - 1s 47us/sample - loss: 0.3795 - val_loss: 0.3765\n",
            "Epoch 49/100\n",
            "11610/11610 [==============================] - 1s 48us/sample - loss: 0.3788 - val_loss: 0.3761\n",
            "Epoch 50/100\n",
            "11610/11610 [==============================] - 1s 48us/sample - loss: 0.3781 - val_loss: 0.3750\n",
            "Epoch 51/100\n",
            "11610/11610 [==============================] - 1s 48us/sample - loss: 0.3777 - val_loss: 0.3749\n",
            "Epoch 52/100\n",
            "11610/11610 [==============================] - 1s 46us/sample - loss: 0.3770 - val_loss: 0.3744\n",
            "Epoch 53/100\n",
            "11610/11610 [==============================] - 1s 47us/sample - loss: 0.3764 - val_loss: 0.3742\n",
            "Epoch 54/100\n",
            "11610/11610 [==============================] - 1s 47us/sample - loss: 0.3760 - val_loss: 0.3731\n",
            "Epoch 55/100\n",
            "11610/11610 [==============================] - 1s 48us/sample - loss: 0.3755 - val_loss: 0.3728\n",
            "Epoch 56/100\n",
            "11610/11610 [==============================] - 1s 48us/sample - loss: 0.3750 - val_loss: 0.3724\n",
            "Epoch 57/100\n",
            "11610/11610 [==============================] - 1s 46us/sample - loss: 0.3744 - val_loss: 0.3717\n",
            "Epoch 58/100\n",
            "11610/11610 [==============================] - 1s 47us/sample - loss: 0.3741 - val_loss: 0.3716\n",
            "Epoch 59/100\n",
            "11610/11610 [==============================] - 1s 46us/sample - loss: 0.3735 - val_loss: 0.3714\n",
            "Epoch 60/100\n",
            "11610/11610 [==============================] - 1s 46us/sample - loss: 0.3732 - val_loss: 0.3712\n",
            "Epoch 61/100\n",
            "11610/11610 [==============================] - 1s 48us/sample - loss: 0.3726 - val_loss: 0.3708\n",
            "Epoch 62/100\n",
            "11610/11610 [==============================] - 1s 48us/sample - loss: 0.3723 - val_loss: 0.3703\n",
            "Epoch 63/100\n",
            "11610/11610 [==============================] - 1s 47us/sample - loss: 0.3717 - val_loss: 0.3702\n",
            "Epoch 64/100\n",
            "11610/11610 [==============================] - 1s 46us/sample - loss: 0.3715 - val_loss: 0.3693\n",
            "Epoch 65/100\n",
            "11610/11610 [==============================] - 1s 47us/sample - loss: 0.3710 - val_loss: 0.3689\n",
            "Epoch 66/100\n",
            "11610/11610 [==============================] - 1s 46us/sample - loss: 0.3706 - val_loss: 0.3693\n",
            "Epoch 67/100\n",
            "11610/11610 [==============================] - 1s 47us/sample - loss: 0.3703 - val_loss: 0.3688\n",
            "Epoch 68/100\n",
            "11610/11610 [==============================] - 1s 47us/sample - loss: 0.3699 - val_loss: 0.3685\n",
            "Epoch 69/100\n",
            "11610/11610 [==============================] - 1s 46us/sample - loss: 0.3696 - val_loss: 0.3678\n",
            "Epoch 70/100\n",
            "11610/11610 [==============================] - 1s 48us/sample - loss: 0.3692 - val_loss: 0.3679\n",
            "Epoch 71/100\n",
            "11610/11610 [==============================] - 1s 48us/sample - loss: 0.3689 - val_loss: 0.3671\n",
            "Epoch 72/100\n",
            "11610/11610 [==============================] - 1s 46us/sample - loss: 0.3683 - val_loss: 0.3674\n",
            "Epoch 73/100\n",
            "11610/11610 [==============================] - 1s 47us/sample - loss: 0.3681 - val_loss: 0.3665\n",
            "Epoch 74/100\n",
            "11610/11610 [==============================] - 1s 46us/sample - loss: 0.3679 - val_loss: 0.3662\n",
            "Epoch 75/100\n",
            "11610/11610 [==============================] - 1s 46us/sample - loss: 0.3676 - val_loss: 0.3661\n",
            "Epoch 76/100\n",
            "11610/11610 [==============================] - 1s 45us/sample - loss: 0.3671 - val_loss: 0.3657\n",
            "Epoch 77/100\n",
            "11610/11610 [==============================] - 1s 47us/sample - loss: 0.3668 - val_loss: 0.3657\n",
            "Epoch 78/100\n",
            "11610/11610 [==============================] - 1s 45us/sample - loss: 0.3665 - val_loss: 0.3652\n",
            "Epoch 79/100\n",
            "11610/11610 [==============================] - 1s 46us/sample - loss: 0.3662 - val_loss: 0.3650\n",
            "Epoch 80/100\n",
            "11610/11610 [==============================] - 1s 45us/sample - loss: 0.3658 - val_loss: 0.3646\n",
            "Epoch 81/100\n",
            "11610/11610 [==============================] - 1s 48us/sample - loss: 0.3655 - val_loss: 0.3652\n",
            "Epoch 82/100\n",
            "11610/11610 [==============================] - 1s 46us/sample - loss: 0.3652 - val_loss: 0.3642\n",
            "Epoch 83/100\n",
            "11610/11610 [==============================] - 1s 46us/sample - loss: 0.3648 - val_loss: 0.3640\n",
            "Epoch 84/100\n",
            "11610/11610 [==============================] - 1s 47us/sample - loss: 0.3646 - val_loss: 0.3635\n",
            "Epoch 85/100\n",
            "11610/11610 [==============================] - 1s 47us/sample - loss: 0.3640 - val_loss: 0.3633\n",
            "Epoch 86/100\n",
            "11610/11610 [==============================] - 1s 47us/sample - loss: 0.3637 - val_loss: 0.3632\n",
            "Epoch 87/100\n",
            "11610/11610 [==============================] - 1s 47us/sample - loss: 0.3632 - val_loss: 0.3631\n",
            "Epoch 88/100\n",
            "11610/11610 [==============================] - 1s 47us/sample - loss: 0.3628 - val_loss: 0.3627\n",
            "Epoch 89/100\n",
            "11610/11610 [==============================] - 1s 48us/sample - loss: 0.3626 - val_loss: 0.3625\n",
            "Epoch 90/100\n",
            "11610/11610 [==============================] - 1s 48us/sample - loss: 0.3622 - val_loss: 0.3622\n",
            "Epoch 91/100\n",
            "11610/11610 [==============================] - 1s 47us/sample - loss: 0.3617 - val_loss: 0.3617\n",
            "Epoch 92/100\n",
            "11610/11610 [==============================] - 1s 46us/sample - loss: 0.3614 - val_loss: 0.3616\n",
            "Epoch 93/100\n",
            "11610/11610 [==============================] - 1s 45us/sample - loss: 0.3610 - val_loss: 0.3613\n",
            "Epoch 94/100\n",
            "11610/11610 [==============================] - 1s 46us/sample - loss: 0.3607 - val_loss: 0.3613\n",
            "Epoch 95/100\n",
            "11610/11610 [==============================] - 1s 47us/sample - loss: 0.3604 - val_loss: 0.3611\n",
            "Epoch 96/100\n",
            "11610/11610 [==============================] - 1s 46us/sample - loss: 0.3599 - val_loss: 0.3611\n",
            "Epoch 97/100\n",
            "11610/11610 [==============================] - 1s 46us/sample - loss: 0.3597 - val_loss: 0.3605\n",
            "Epoch 98/100\n",
            "11610/11610 [==============================] - 1s 46us/sample - loss: 0.3592 - val_loss: 0.3605\n",
            "Epoch 99/100\n",
            "11610/11610 [==============================] - 1s 47us/sample - loss: 0.3589 - val_loss: 0.3603\n",
            "Epoch 100/100\n",
            "11610/11610 [==============================] - 1s 46us/sample - loss: 0.3586 - val_loss: 0.3602\n",
            "Train on 11610 samples, validate on 5160 samples\n",
            "Epoch 1/100\n",
            "11610/11610 [==============================] - 1s 57us/sample - loss: 1.2119 - val_loss: 0.7726\n",
            "Epoch 2/100\n",
            "11610/11610 [==============================] - 1s 47us/sample - loss: 0.8674 - val_loss: 0.5656\n",
            "Epoch 3/100\n",
            "11610/11610 [==============================] - 1s 45us/sample - loss: 0.5253 - val_loss: 0.4804\n",
            "Epoch 4/100\n",
            "11610/11610 [==============================] - 1s 47us/sample - loss: 0.4733 - val_loss: 0.4453\n",
            "Epoch 5/100\n",
            "11610/11610 [==============================] - 1s 46us/sample - loss: 0.4470 - val_loss: 0.4263\n",
            "Epoch 6/100\n",
            "11610/11610 [==============================] - 1s 48us/sample - loss: 0.4315 - val_loss: 0.4136\n",
            "Epoch 7/100\n",
            "11610/11610 [==============================] - 1s 46us/sample - loss: 0.4206 - val_loss: 0.4062\n",
            "Epoch 8/100\n",
            "11610/11610 [==============================] - 1s 46us/sample - loss: 0.4128 - val_loss: 0.4001\n",
            "Epoch 9/100\n",
            "11610/11610 [==============================] - 1s 46us/sample - loss: 0.4071 - val_loss: 0.3947\n",
            "Epoch 10/100\n",
            "11610/11610 [==============================] - 1s 46us/sample - loss: 0.4027 - val_loss: 0.3912\n",
            "Epoch 11/100\n",
            "11610/11610 [==============================] - 1s 46us/sample - loss: 0.3988 - val_loss: 0.3885\n",
            "Epoch 12/100\n",
            "11610/11610 [==============================] - 1s 46us/sample - loss: 0.3959 - val_loss: 0.3857\n",
            "Epoch 13/100\n",
            "11610/11610 [==============================] - 1s 46us/sample - loss: 0.3931 - val_loss: 0.3846\n",
            "Epoch 14/100\n",
            "11610/11610 [==============================] - 1s 48us/sample - loss: 0.3914 - val_loss: 0.3820\n",
            "Epoch 15/100\n",
            "11610/11610 [==============================] - 1s 46us/sample - loss: 0.3890 - val_loss: 0.3806\n",
            "Epoch 16/100\n",
            "11610/11610 [==============================] - 1s 46us/sample - loss: 0.3871 - val_loss: 0.3794\n",
            "Epoch 17/100\n",
            "11610/11610 [==============================] - 1s 49us/sample - loss: 0.3856 - val_loss: 0.3781\n",
            "Epoch 18/100\n",
            "11610/11610 [==============================] - 1s 45us/sample - loss: 0.3839 - val_loss: 0.3760\n",
            "Epoch 19/100\n",
            "11610/11610 [==============================] - 1s 46us/sample - loss: 0.3826 - val_loss: 0.3751\n",
            "Epoch 20/100\n",
            "11610/11610 [==============================] - 1s 47us/sample - loss: 0.3810 - val_loss: 0.3746\n",
            "Epoch 21/100\n",
            "11610/11610 [==============================] - 1s 47us/sample - loss: 0.3803 - val_loss: 0.3721\n",
            "Epoch 22/100\n",
            "11610/11610 [==============================] - 1s 47us/sample - loss: 0.3784 - val_loss: 0.3718\n",
            "Epoch 23/100\n",
            "11610/11610 [==============================] - 1s 46us/sample - loss: 0.3777 - val_loss: 0.3705\n",
            "Epoch 24/100\n",
            "11610/11610 [==============================] - 1s 49us/sample - loss: 0.3762 - val_loss: 0.3692\n",
            "Epoch 25/100\n",
            "11610/11610 [==============================] - 1s 48us/sample - loss: 0.3752 - val_loss: 0.3683\n",
            "Epoch 26/100\n",
            "11610/11610 [==============================] - 1s 47us/sample - loss: 0.3738 - val_loss: 0.3674\n",
            "Epoch 27/100\n",
            "11610/11610 [==============================] - 1s 46us/sample - loss: 0.3724 - val_loss: 0.3684\n",
            "Epoch 28/100\n",
            "11610/11610 [==============================] - 1s 46us/sample - loss: 0.3721 - val_loss: 0.3661\n",
            "Epoch 29/100\n",
            "11610/11610 [==============================] - 1s 47us/sample - loss: 0.3706 - val_loss: 0.3648\n",
            "Epoch 30/100\n",
            "11610/11610 [==============================] - 1s 46us/sample - loss: 0.3699 - val_loss: 0.3643\n",
            "Epoch 31/100\n",
            "11610/11610 [==============================] - 1s 45us/sample - loss: 0.3687 - val_loss: 0.3634\n",
            "Epoch 32/100\n",
            "11610/11610 [==============================] - 1s 46us/sample - loss: 0.3678 - val_loss: 0.3628\n",
            "Epoch 33/100\n",
            "11610/11610 [==============================] - 1s 46us/sample - loss: 0.3669 - val_loss: 0.3630\n",
            "Epoch 34/100\n",
            "11610/11610 [==============================] - 1s 47us/sample - loss: 0.3663 - val_loss: 0.3630\n",
            "Epoch 35/100\n",
            "11610/11610 [==============================] - 1s 46us/sample - loss: 0.3652 - val_loss: 0.3620\n",
            "Epoch 36/100\n",
            "11610/11610 [==============================] - 1s 47us/sample - loss: 0.3649 - val_loss: 0.3608\n",
            "Epoch 37/100\n",
            "11610/11610 [==============================] - 1s 47us/sample - loss: 0.3638 - val_loss: 0.3612\n",
            "Epoch 38/100\n",
            "11610/11610 [==============================] - 1s 46us/sample - loss: 0.3634 - val_loss: 0.3599\n",
            "Epoch 39/100\n",
            "11610/11610 [==============================] - 1s 47us/sample - loss: 0.3628 - val_loss: 0.3594\n",
            "Epoch 40/100\n",
            "11610/11610 [==============================] - 1s 46us/sample - loss: 0.3620 - val_loss: 0.3603\n",
            "Epoch 41/100\n",
            "11610/11610 [==============================] - 1s 48us/sample - loss: 0.3612 - val_loss: 0.3595\n",
            "Epoch 42/100\n",
            "11610/11610 [==============================] - 1s 47us/sample - loss: 0.3608 - val_loss: 0.3587\n",
            "Epoch 43/100\n",
            "11610/11610 [==============================] - 1s 47us/sample - loss: 0.3603 - val_loss: 0.3586\n",
            "Epoch 44/100\n",
            "11610/11610 [==============================] - 1s 46us/sample - loss: 0.3597 - val_loss: 0.3580\n",
            "Epoch 45/100\n",
            "11610/11610 [==============================] - 1s 46us/sample - loss: 0.3589 - val_loss: 0.3576\n",
            "Epoch 46/100\n",
            "11610/11610 [==============================] - 1s 46us/sample - loss: 0.3583 - val_loss: 0.3573\n",
            "Epoch 47/100\n",
            "11610/11610 [==============================] - 1s 46us/sample - loss: 0.3577 - val_loss: 0.3579\n",
            "Epoch 48/100\n",
            "11610/11610 [==============================] - 1s 46us/sample - loss: 0.3573 - val_loss: 0.3564\n",
            "Epoch 49/100\n",
            "11610/11610 [==============================] - 1s 46us/sample - loss: 0.3566 - val_loss: 0.3559\n",
            "Epoch 50/100\n",
            "11610/11610 [==============================] - 1s 46us/sample - loss: 0.3565 - val_loss: 0.3554\n",
            "Epoch 51/100\n",
            "11610/11610 [==============================] - 1s 46us/sample - loss: 0.3557 - val_loss: 0.3566\n",
            "Epoch 52/100\n",
            "11610/11610 [==============================] - 1s 46us/sample - loss: 0.3556 - val_loss: 0.3551\n",
            "Epoch 53/100\n",
            "11610/11610 [==============================] - 1s 46us/sample - loss: 0.3551 - val_loss: 0.3551\n",
            "Epoch 54/100\n",
            "11610/11610 [==============================] - 1s 46us/sample - loss: 0.3551 - val_loss: 0.3549\n",
            "Epoch 55/100\n",
            "11610/11610 [==============================] - 1s 46us/sample - loss: 0.3541 - val_loss: 0.3554\n",
            "Epoch 56/100\n",
            "11610/11610 [==============================] - 1s 46us/sample - loss: 0.3537 - val_loss: 0.3545\n",
            "Epoch 57/100\n",
            "11610/11610 [==============================] - 1s 45us/sample - loss: 0.3536 - val_loss: 0.3539\n",
            "Epoch 58/100\n",
            "11610/11610 [==============================] - 1s 46us/sample - loss: 0.3533 - val_loss: 0.3542\n",
            "Epoch 59/100\n",
            "11610/11610 [==============================] - 1s 45us/sample - loss: 0.3529 - val_loss: 0.3549\n",
            "Epoch 60/100\n",
            "11610/11610 [==============================] - 1s 46us/sample - loss: 0.3522 - val_loss: 0.3525\n",
            "Epoch 61/100\n",
            "11610/11610 [==============================] - 1s 46us/sample - loss: 0.3515 - val_loss: 0.3527\n",
            "Epoch 62/100\n",
            "11610/11610 [==============================] - 1s 46us/sample - loss: 0.3517 - val_loss: 0.3532\n",
            "Epoch 63/100\n",
            "11610/11610 [==============================] - 1s 46us/sample - loss: 0.3513 - val_loss: 0.3519\n",
            "Epoch 64/100\n",
            "11610/11610 [==============================] - 1s 46us/sample - loss: 0.3507 - val_loss: 0.3514\n",
            "Epoch 65/100\n",
            "11610/11610 [==============================] - 1s 47us/sample - loss: 0.3502 - val_loss: 0.3517\n",
            "Epoch 66/100\n",
            "11610/11610 [==============================] - 1s 45us/sample - loss: 0.3495 - val_loss: 0.3513\n",
            "Epoch 67/100\n",
            "11610/11610 [==============================] - 1s 46us/sample - loss: 0.3490 - val_loss: 0.3525\n",
            "Epoch 68/100\n",
            "11610/11610 [==============================] - 1s 46us/sample - loss: 0.3498 - val_loss: 0.3502\n",
            "Epoch 69/100\n",
            "11610/11610 [==============================] - 1s 46us/sample - loss: 0.3488 - val_loss: 0.3501\n",
            "Epoch 70/100\n",
            "11610/11610 [==============================] - 1s 46us/sample - loss: 0.3480 - val_loss: 0.3497\n",
            "Epoch 71/100\n",
            "11610/11610 [==============================] - 1s 46us/sample - loss: 0.3471 - val_loss: 0.3496\n",
            "Epoch 72/100\n",
            "11610/11610 [==============================] - 1s 47us/sample - loss: 0.3476 - val_loss: 0.3499\n",
            "Epoch 73/100\n",
            "11610/11610 [==============================] - 1s 46us/sample - loss: 0.3466 - val_loss: 0.3492\n",
            "Epoch 74/100\n",
            "11610/11610 [==============================] - 1s 47us/sample - loss: 0.3463 - val_loss: 0.3492\n",
            "Epoch 75/100\n",
            "11610/11610 [==============================] - 1s 47us/sample - loss: 0.3457 - val_loss: 0.3484\n",
            "Epoch 76/100\n",
            "11610/11610 [==============================] - 1s 46us/sample - loss: 0.3453 - val_loss: 0.3477\n",
            "Epoch 77/100\n",
            "11610/11610 [==============================] - 1s 46us/sample - loss: 0.3449 - val_loss: 0.3478\n",
            "Epoch 78/100\n",
            "11610/11610 [==============================] - 1s 46us/sample - loss: 0.3441 - val_loss: 0.3474\n",
            "Epoch 79/100\n",
            "11610/11610 [==============================] - 1s 48us/sample - loss: 0.3440 - val_loss: 0.3466\n",
            "Epoch 80/100\n",
            "11610/11610 [==============================] - 1s 48us/sample - loss: 0.3434 - val_loss: 0.3460\n",
            "Epoch 81/100\n",
            "11610/11610 [==============================] - 1s 47us/sample - loss: 0.3433 - val_loss: 0.3456\n",
            "Epoch 82/100\n",
            "11610/11610 [==============================] - 1s 47us/sample - loss: 0.3422 - val_loss: 0.3461\n",
            "Epoch 83/100\n",
            "11610/11610 [==============================] - 1s 48us/sample - loss: 0.3417 - val_loss: 0.3465\n",
            "Epoch 84/100\n",
            "11610/11610 [==============================] - 1s 48us/sample - loss: 0.3417 - val_loss: 0.3455\n",
            "Epoch 85/100\n",
            "11610/11610 [==============================] - 1s 48us/sample - loss: 0.3409 - val_loss: 0.3463\n",
            "Epoch 86/100\n",
            "11610/11610 [==============================] - 1s 47us/sample - loss: 0.3413 - val_loss: 0.3442\n",
            "Epoch 87/100\n",
            "11610/11610 [==============================] - 1s 48us/sample - loss: 0.3404 - val_loss: 0.3447\n",
            "Epoch 88/100\n",
            "11610/11610 [==============================] - 1s 48us/sample - loss: 0.3398 - val_loss: 0.3436\n",
            "Epoch 89/100\n",
            "11610/11610 [==============================] - 1s 47us/sample - loss: 0.3395 - val_loss: 0.3438\n",
            "Epoch 90/100\n",
            "11610/11610 [==============================] - 1s 46us/sample - loss: 0.3395 - val_loss: 0.3434\n",
            "Epoch 91/100\n",
            "11610/11610 [==============================] - 1s 47us/sample - loss: 0.3390 - val_loss: 0.3440\n",
            "Epoch 92/100\n",
            "11610/11610 [==============================] - 1s 46us/sample - loss: 0.3388 - val_loss: 0.3425\n",
            "Epoch 93/100\n",
            "11610/11610 [==============================] - 1s 47us/sample - loss: 0.3376 - val_loss: 0.3433\n",
            "Epoch 94/100\n",
            "11610/11610 [==============================] - 1s 46us/sample - loss: 0.3378 - val_loss: 0.3415\n",
            "Epoch 95/100\n",
            "11610/11610 [==============================] - 1s 46us/sample - loss: 0.3375 - val_loss: 0.3421\n",
            "Epoch 96/100\n",
            "11610/11610 [==============================] - 1s 47us/sample - loss: 0.3368 - val_loss: 0.3410\n",
            "Epoch 97/100\n",
            "11610/11610 [==============================] - 1s 46us/sample - loss: 0.3367 - val_loss: 0.3415\n",
            "Epoch 98/100\n",
            "11610/11610 [==============================] - 1s 48us/sample - loss: 0.3362 - val_loss: 0.3410\n",
            "Epoch 99/100\n",
            "11610/11610 [==============================] - 1s 46us/sample - loss: 0.3364 - val_loss: 0.3404\n",
            "Epoch 100/100\n",
            "11610/11610 [==============================] - 1s 46us/sample - loss: 0.3355 - val_loss: 0.3407\n",
            "Train on 11610 samples, validate on 5160 samples\n",
            "Epoch 1/100\n",
            "11610/11610 [==============================] - 1s 56us/sample - loss: 0.6766 - val_loss: 0.4920\n",
            "Epoch 2/100\n",
            "11610/11610 [==============================] - 1s 45us/sample - loss: 0.4639 - val_loss: 0.4290\n",
            "Epoch 3/100\n",
            "11610/11610 [==============================] - 1s 45us/sample - loss: 0.4313 - val_loss: 0.4786\n",
            "Epoch 4/100\n",
            "11610/11610 [==============================] - 1s 46us/sample - loss: 0.4854 - val_loss: 0.4702\n",
            "Epoch 5/100\n",
            "11610/11610 [==============================] - 1s 46us/sample - loss: 0.5234 - val_loss: 0.4267\n",
            "Epoch 6/100\n",
            "11610/11610 [==============================] - 1s 47us/sample - loss: 0.4500 - val_loss: 0.3994\n",
            "Epoch 7/100\n",
            "11610/11610 [==============================] - 1s 45us/sample - loss: 0.4141 - val_loss: 0.3950\n",
            "Epoch 8/100\n",
            "11610/11610 [==============================] - 1s 46us/sample - loss: 0.3941 - val_loss: 0.3883\n",
            "Epoch 9/100\n",
            "11610/11610 [==============================] - 1s 46us/sample - loss: 0.3909 - val_loss: 0.4177\n",
            "Epoch 10/100\n",
            "11610/11610 [==============================] - 1s 46us/sample - loss: 0.3925 - val_loss: 0.3817\n",
            "Epoch 11/100\n",
            "11610/11610 [==============================] - 1s 46us/sample - loss: 0.3900 - val_loss: 0.3751\n",
            "Epoch 12/100\n",
            "11610/11610 [==============================] - 1s 47us/sample - loss: 0.3790 - val_loss: 0.3721\n",
            "Epoch 13/100\n",
            "11610/11610 [==============================] - 1s 46us/sample - loss: 0.3814 - val_loss: 0.3697\n",
            "Epoch 14/100\n",
            "11610/11610 [==============================] - 1s 46us/sample - loss: 0.3752 - val_loss: 0.3825\n",
            "Epoch 15/100\n",
            "11610/11610 [==============================] - 1s 46us/sample - loss: 0.3723 - val_loss: 0.3651\n",
            "Epoch 16/100\n",
            "11610/11610 [==============================] - 1s 48us/sample - loss: 0.3696 - val_loss: 0.3681\n",
            "Epoch 17/100\n",
            "11610/11610 [==============================] - 1s 47us/sample - loss: 0.3698 - val_loss: 0.3691\n",
            "Epoch 18/100\n",
            "11610/11610 [==============================] - 1s 46us/sample - loss: 0.3664 - val_loss: 0.3618\n",
            "Epoch 19/100\n",
            "11610/11610 [==============================] - 1s 46us/sample - loss: 0.3664 - val_loss: 0.3638\n",
            "Epoch 20/100\n",
            "11610/11610 [==============================] - 1s 47us/sample - loss: 0.3632 - val_loss: 0.3620\n",
            "Epoch 21/100\n",
            "11610/11610 [==============================] - 1s 46us/sample - loss: 0.3615 - val_loss: 0.3607\n",
            "Epoch 22/100\n",
            "11610/11610 [==============================] - 1s 45us/sample - loss: 0.3622 - val_loss: 0.3597\n",
            "Epoch 23/100\n",
            "11610/11610 [==============================] - 1s 47us/sample - loss: 0.3602 - val_loss: 0.3592\n",
            "Epoch 24/100\n",
            "11610/11610 [==============================] - 1s 46us/sample - loss: 0.3591 - val_loss: 0.3582\n",
            "Epoch 25/100\n",
            "11610/11610 [==============================] - 1s 48us/sample - loss: 0.3578 - val_loss: 0.3625\n",
            "Epoch 26/100\n",
            "11610/11610 [==============================] - 1s 47us/sample - loss: 0.3558 - val_loss: 0.3567\n",
            "Epoch 27/100\n",
            "11610/11610 [==============================] - 1s 47us/sample - loss: 0.3538 - val_loss: 0.3516\n",
            "Epoch 28/100\n",
            "11610/11610 [==============================] - 1s 46us/sample - loss: 0.3528 - val_loss: 0.3510\n",
            "Epoch 29/100\n",
            "11610/11610 [==============================] - 1s 46us/sample - loss: 0.3512 - val_loss: 0.3540\n",
            "Epoch 30/100\n",
            "11610/11610 [==============================] - 1s 46us/sample - loss: 0.3502 - val_loss: 0.3479\n",
            "Epoch 31/100\n",
            "11610/11610 [==============================] - 1s 46us/sample - loss: 0.3505 - val_loss: 0.3533\n",
            "Epoch 32/100\n",
            "11610/11610 [==============================] - 1s 48us/sample - loss: 0.3491 - val_loss: 0.3504\n",
            "Epoch 33/100\n",
            "11610/11610 [==============================] - 1s 47us/sample - loss: 0.3464 - val_loss: 0.3459\n",
            "Epoch 34/100\n",
            "11610/11610 [==============================] - 1s 49us/sample - loss: 0.3442 - val_loss: 0.3453\n",
            "Epoch 35/100\n",
            "11610/11610 [==============================] - 1s 48us/sample - loss: 0.3460 - val_loss: 0.3457\n",
            "Epoch 36/100\n",
            "11610/11610 [==============================] - 1s 47us/sample - loss: 0.3415 - val_loss: 0.3430\n",
            "Epoch 37/100\n",
            "11610/11610 [==============================] - 1s 46us/sample - loss: 0.3391 - val_loss: 0.3405\n",
            "Epoch 38/100\n",
            "11610/11610 [==============================] - 1s 47us/sample - loss: 0.3411 - val_loss: 0.3386\n",
            "Epoch 39/100\n",
            "11610/11610 [==============================] - 1s 47us/sample - loss: 0.3379 - val_loss: 0.3382\n",
            "Epoch 40/100\n",
            "11610/11610 [==============================] - 1s 46us/sample - loss: 0.3352 - val_loss: 0.3343\n",
            "Epoch 41/100\n",
            "11610/11610 [==============================] - 1s 47us/sample - loss: 0.3440 - val_loss: 0.3358\n",
            "Epoch 42/100\n",
            "11610/11610 [==============================] - 1s 46us/sample - loss: 0.3330 - val_loss: 0.3316\n",
            "Epoch 43/100\n",
            "11610/11610 [==============================] - 1s 46us/sample - loss: 0.3330 - val_loss: 0.3463\n",
            "Epoch 44/100\n",
            "11610/11610 [==============================] - 1s 48us/sample - loss: 0.3323 - val_loss: 0.3299\n",
            "Epoch 45/100\n",
            "11610/11610 [==============================] - 1s 48us/sample - loss: 0.3383 - val_loss: 0.3354\n",
            "Epoch 46/100\n",
            "11610/11610 [==============================] - 1s 47us/sample - loss: 0.3282 - val_loss: 0.3303\n",
            "Epoch 47/100\n",
            "11610/11610 [==============================] - 1s 48us/sample - loss: 0.3265 - val_loss: 0.3361\n",
            "Epoch 48/100\n",
            "11610/11610 [==============================] - 1s 47us/sample - loss: 0.3261 - val_loss: 0.3316\n",
            "Epoch 49/100\n",
            "11610/11610 [==============================] - 1s 47us/sample - loss: 0.3248 - val_loss: 0.3290\n",
            "Epoch 50/100\n",
            "11610/11610 [==============================] - 1s 48us/sample - loss: 0.3255 - val_loss: 0.3243\n",
            "Epoch 51/100\n",
            "11610/11610 [==============================] - 1s 48us/sample - loss: 0.3254 - val_loss: 0.3253\n",
            "Epoch 52/100\n",
            "11610/11610 [==============================] - 1s 47us/sample - loss: 0.3237 - val_loss: 0.3902\n",
            "Epoch 53/100\n",
            "11610/11610 [==============================] - 1s 46us/sample - loss: 0.3235 - val_loss: 0.3253\n",
            "Epoch 54/100\n",
            "11610/11610 [==============================] - 1s 45us/sample - loss: 0.3192 - val_loss: 0.3235\n",
            "Epoch 55/100\n",
            "11610/11610 [==============================] - 1s 46us/sample - loss: 0.3193 - val_loss: 0.3228\n",
            "Epoch 56/100\n",
            "11610/11610 [==============================] - 1s 47us/sample - loss: 0.3196 - val_loss: 0.3241\n",
            "Epoch 57/100\n",
            "11610/11610 [==============================] - 1s 46us/sample - loss: 0.3240 - val_loss: 0.3266\n",
            "Epoch 58/100\n",
            "11610/11610 [==============================] - 1s 46us/sample - loss: 0.3203 - val_loss: 0.3232\n",
            "Epoch 59/100\n",
            "11610/11610 [==============================] - 1s 46us/sample - loss: 0.3204 - val_loss: 0.3194\n",
            "Epoch 60/100\n",
            "11610/11610 [==============================] - 1s 46us/sample - loss: 0.3163 - val_loss: 0.3209\n",
            "Epoch 61/100\n",
            "11610/11610 [==============================] - 1s 46us/sample - loss: 0.3157 - val_loss: 0.3203\n",
            "Epoch 62/100\n",
            "11610/11610 [==============================] - 1s 46us/sample - loss: 0.3170 - val_loss: 0.3191\n",
            "Epoch 63/100\n",
            "11610/11610 [==============================] - 1s 45us/sample - loss: 0.3178 - val_loss: 0.3203\n",
            "Epoch 64/100\n",
            "11610/11610 [==============================] - 1s 46us/sample - loss: 0.3148 - val_loss: 0.3173\n",
            "Epoch 65/100\n",
            "11610/11610 [==============================] - 1s 46us/sample - loss: 0.3154 - val_loss: 0.3183\n",
            "Epoch 66/100\n",
            "11610/11610 [==============================] - 1s 47us/sample - loss: 0.3145 - val_loss: 0.3537\n",
            "Epoch 67/100\n",
            "11610/11610 [==============================] - 1s 47us/sample - loss: 0.3144 - val_loss: 0.3225\n",
            "Epoch 68/100\n",
            "11610/11610 [==============================] - 1s 46us/sample - loss: 0.3315 - val_loss: 0.3420\n",
            "Epoch 69/100\n",
            "11610/11610 [==============================] - 1s 48us/sample - loss: 0.4675 - val_loss: 0.4087\n",
            "Epoch 70/100\n",
            "11610/11610 [==============================] - 1s 47us/sample - loss: 0.3619 - val_loss: 0.4838\n",
            "Epoch 71/100\n",
            "11610/11610 [==============================] - 1s 48us/sample - loss: 0.5605 - val_loss: 0.3887\n",
            "Epoch 72/100\n",
            "11610/11610 [==============================] - 1s 46us/sample - loss: 0.3968 - val_loss: 0.4027\n",
            "Epoch 73/100\n",
            "11610/11610 [==============================] - 1s 48us/sample - loss: 0.4488 - val_loss: 0.3959\n",
            "Epoch 74/100\n",
            "11610/11610 [==============================] - 1s 47us/sample - loss: 0.3725 - val_loss: 0.3469\n",
            "Train on 11610 samples, validate on 5160 samples\n",
            "Epoch 1/100\n",
            "11610/11610 [==============================] - 1s 56us/sample - loss: 0.5607 - val_loss: 0.5527\n",
            "Epoch 2/100\n",
            "11610/11610 [==============================] - 1s 46us/sample - loss: 0.4215 - val_loss: 0.3910\n",
            "Epoch 3/100\n",
            "11610/11610 [==============================] - 1s 47us/sample - loss: 0.4662 - val_loss: 0.3960\n",
            "Epoch 4/100\n",
            "11610/11610 [==============================] - 1s 47us/sample - loss: 0.4384 - val_loss: 0.4909\n",
            "Epoch 5/100\n",
            "11610/11610 [==============================] - 1s 46us/sample - loss: 0.4522 - val_loss: 0.4030\n",
            "Epoch 6/100\n",
            "11610/11610 [==============================] - 1s 46us/sample - loss: 0.4133 - val_loss: 0.5324\n",
            "Epoch 7/100\n",
            "11610/11610 [==============================] - 1s 46us/sample - loss: 0.4056 - val_loss: 0.3669\n",
            "Epoch 8/100\n",
            "11610/11610 [==============================] - 1s 47us/sample - loss: 0.3831 - val_loss: 0.3589\n",
            "Epoch 9/100\n",
            "11610/11610 [==============================] - 1s 46us/sample - loss: 0.3728 - val_loss: 0.3538\n",
            "Epoch 10/100\n",
            "11610/11610 [==============================] - 1s 46us/sample - loss: 0.3612 - val_loss: 0.3488\n",
            "Epoch 11/100\n",
            "11610/11610 [==============================] - 1s 46us/sample - loss: 0.3594 - val_loss: 0.3519\n",
            "Epoch 12/100\n",
            "11610/11610 [==============================] - 1s 46us/sample - loss: 0.3534 - val_loss: 0.5506\n",
            "Epoch 13/100\n",
            "11610/11610 [==============================] - 1s 46us/sample - loss: 0.3536 - val_loss: 0.3411\n",
            "Epoch 14/100\n",
            "11610/11610 [==============================] - 1s 46us/sample - loss: 0.3527 - val_loss: 0.3458\n",
            "Epoch 15/100\n",
            "11610/11610 [==============================] - 1s 47us/sample - loss: 0.3443 - val_loss: 0.3370\n",
            "Epoch 16/100\n",
            "11610/11610 [==============================] - 1s 46us/sample - loss: 0.3377 - val_loss: 0.3357\n",
            "Epoch 17/100\n",
            "11610/11610 [==============================] - 1s 46us/sample - loss: 0.3354 - val_loss: 0.3298\n",
            "Epoch 18/100\n",
            "11610/11610 [==============================] - 1s 46us/sample - loss: 0.3334 - val_loss: 0.3372\n",
            "Epoch 19/100\n",
            "11610/11610 [==============================] - 1s 46us/sample - loss: 0.3296 - val_loss: 0.3512\n",
            "Epoch 20/100\n",
            "11610/11610 [==============================] - 1s 46us/sample - loss: 0.3310 - val_loss: 0.3302\n",
            "Epoch 21/100\n",
            "11610/11610 [==============================] - 1s 46us/sample - loss: 0.3270 - val_loss: 0.3317\n",
            "Epoch 22/100\n",
            "11610/11610 [==============================] - 1s 46us/sample - loss: 0.3241 - val_loss: 0.3280\n",
            "Epoch 23/100\n",
            "11610/11610 [==============================] - 1s 46us/sample - loss: 0.3244 - val_loss: 0.3285\n",
            "Epoch 24/100\n",
            "11610/11610 [==============================] - 1s 47us/sample - loss: 0.3249 - val_loss: 0.3373\n",
            "Epoch 25/100\n",
            "11610/11610 [==============================] - 1s 46us/sample - loss: 0.3293 - val_loss: 0.3376\n",
            "Epoch 26/100\n",
            "11610/11610 [==============================] - 1s 47us/sample - loss: 0.3280 - val_loss: 0.3242\n",
            "Epoch 27/100\n",
            "11610/11610 [==============================] - 1s 45us/sample - loss: 0.3214 - val_loss: 0.3196\n",
            "Epoch 28/100\n",
            "11610/11610 [==============================] - 1s 46us/sample - loss: 0.3222 - val_loss: 0.3223\n",
            "Epoch 29/100\n",
            "11610/11610 [==============================] - 1s 46us/sample - loss: 0.3193 - val_loss: 0.3156\n",
            "Epoch 30/100\n",
            "11610/11610 [==============================] - 1s 47us/sample - loss: 0.3195 - val_loss: 0.3172\n",
            "Epoch 31/100\n",
            "11610/11610 [==============================] - 1s 47us/sample - loss: 0.3171 - val_loss: 0.3433\n",
            "Epoch 32/100\n",
            "11610/11610 [==============================] - 1s 47us/sample - loss: 0.3154 - val_loss: 0.3241\n",
            "Epoch 33/100\n",
            "11610/11610 [==============================] - 1s 46us/sample - loss: 0.3165 - val_loss: 0.3224\n",
            "Epoch 34/100\n",
            "11610/11610 [==============================] - 1s 46us/sample - loss: 0.3167 - val_loss: 0.3215\n",
            "Epoch 35/100\n",
            "11610/11610 [==============================] - 1s 48us/sample - loss: 0.3214 - val_loss: 0.3221\n",
            "Epoch 36/100\n",
            "11610/11610 [==============================] - 1s 48us/sample - loss: 0.3183 - val_loss: 0.3252\n",
            "Epoch 37/100\n",
            "11610/11610 [==============================] - 1s 48us/sample - loss: 0.3153 - val_loss: 0.3177\n",
            "Epoch 38/100\n",
            "11610/11610 [==============================] - 1s 46us/sample - loss: 0.3145 - val_loss: 0.3137\n",
            "Epoch 39/100\n",
            "11610/11610 [==============================] - 1s 47us/sample - loss: 0.3168 - val_loss: 0.3354\n",
            "Epoch 40/100\n",
            "11610/11610 [==============================] - 1s 47us/sample - loss: 0.3138 - val_loss: 0.3213\n",
            "Epoch 41/100\n",
            "11610/11610 [==============================] - 1s 47us/sample - loss: 0.3155 - val_loss: 0.3332\n",
            "Epoch 42/100\n",
            "11610/11610 [==============================] - 1s 46us/sample - loss: 0.3123 - val_loss: 0.3183\n",
            "Epoch 43/100\n",
            "11610/11610 [==============================] - 1s 47us/sample - loss: 0.3105 - val_loss: 0.3144\n",
            "Epoch 44/100\n",
            "11610/11610 [==============================] - 1s 48us/sample - loss: 0.3094 - val_loss: 0.3302\n",
            "Epoch 45/100\n",
            "11610/11610 [==============================] - 1s 48us/sample - loss: 0.3086 - val_loss: 0.3111\n",
            "Epoch 46/100\n",
            "11610/11610 [==============================] - 1s 48us/sample - loss: 0.3086 - val_loss: 0.3673\n",
            "Epoch 47/100\n",
            "11610/11610 [==============================] - 1s 48us/sample - loss: 0.3085 - val_loss: 0.3152\n",
            "Epoch 48/100\n",
            "11610/11610 [==============================] - 1s 48us/sample - loss: 0.3077 - val_loss: 0.3087\n",
            "Epoch 49/100\n",
            "11610/11610 [==============================] - 1s 48us/sample - loss: 0.3032 - val_loss: 0.3090\n",
            "Epoch 50/100\n",
            "11610/11610 [==============================] - 1s 47us/sample - loss: 0.3041 - val_loss: 0.3241\n",
            "Epoch 51/100\n",
            "11610/11610 [==============================] - 1s 47us/sample - loss: 0.3078 - val_loss: 0.3265\n",
            "Epoch 52/100\n",
            "11610/11610 [==============================] - 1s 48us/sample - loss: 0.3082 - val_loss: 0.3413\n",
            "Epoch 53/100\n",
            "11610/11610 [==============================] - 1s 48us/sample - loss: 0.3021 - val_loss: 0.3203\n",
            "Epoch 54/100\n",
            "11610/11610 [==============================] - 1s 47us/sample - loss: 0.3037 - val_loss: 0.3324\n",
            "Epoch 55/100\n",
            "11610/11610 [==============================] - 1s 46us/sample - loss: 0.3007 - val_loss: 0.3262\n",
            "Epoch 56/100\n",
            "11610/11610 [==============================] - 1s 48us/sample - loss: 0.3042 - val_loss: 0.3129\n",
            "Epoch 57/100\n",
            "11610/11610 [==============================] - 1s 46us/sample - loss: 0.3011 - val_loss: 0.3102\n",
            "Epoch 58/100\n",
            "11610/11610 [==============================] - 1s 47us/sample - loss: 0.3079 - val_loss: 0.3094\n"
          ],
          "name": "stdout"
        }
      ]
    },
    {
      "metadata": {
        "id": "uuatSosvRPVL",
        "colab_type": "code",
        "colab": {
          "base_uri": "https://localhost:8080/",
          "height": 1960
        },
        "outputId": "cc6c6577-2d17-4e59-ffa8-4bed2e8d71cd"
      },
      "cell_type": "code",
      "source": [
        "for learning_rate, history in zip(learning_rates, histories):\n",
        "    print(\"Learning rate:\", learning_rate)\n",
        "    plot_learning_curves(history)"
      ],
      "execution_count": 65,
      "outputs": [
        {
          "output_type": "stream",
          "text": [
            "Learning rate: 0.0001\n"
          ],
          "name": "stdout"
        },
        {
          "output_type": "display_data",
          "data": {
            "image/png": "[encoded data removed]",
            "text/plain": [
              "<Figure size 576x360 with 1 Axes>"
            ]
          },
          "metadata": {
            "tags": []
          }
        },
        {
          "output_type": "stream",
          "text": [
            "Learning rate: 0.0003\n"
          ],
          "name": "stdout"
        },
        {
          "output_type": "display_data",
          "data": {
            "image/png": "[encoded data removed]",
            "text/plain": [
              "<Figure size 576x360 with 1 Axes>"
            ]
          },
          "metadata": {
            "tags": []
          }
        },
        {
          "output_type": "stream",
          "text": [
            "Learning rate: 0.001\n"
          ],
          "name": "stdout"
        },
        {
          "output_type": "display_data",
          "data": {
            "image/png": "[encoded data removed]",
            "text/plain": [
              "<Figure size 576x360 with 1 Axes>"
            ]
          },
          "metadata": {
            "tags": []
          }
        },
        {
          "output_type": "stream",
          "text": [
            "Learning rate: 0.003\n"
          ],
          "name": "stdout"
        },
        {
          "output_type": "display_data",
          "data": {
            "image/png": "[encoded data removed]",
            "text/plain": [
              "<Figure size 576x360 with 1 Axes>"
            ]
          },
          "metadata": {
            "tags": []
          }
        },
        {
          "output_type": "stream",
          "text": [
            "Learning rate: 0.01\n"
          ],
          "name": "stdout"
        },
        {
          "output_type": "display_data",
          "data": {
            "image/png": "[encoded data removed]",
            "text/plain": [
              "<Figure size 576x360 with 1 Axes>"
            ]
          },
          "metadata": {
            "tags": []
          }
        },
        {
          "output_type": "stream",
          "text": [
            "Learning rate: 0.03\n"
          ],
          "name": "stdout"
        },
        {
          "output_type": "display_data",
          "data": {
            "image/png": "[encoded data removed]",
            "text/plain": [
              "<Figure size 576x360 with 1 Axes>"
            ]
          },
          "metadata": {
            "tags": []
          }
        }
      ]
    },
    {
      "metadata": {
        "id": "EgrIJrLSRPVM",
        "colab_type": "text"
      },
      "cell_type": "markdown",
      "source": [
        "### 6.2)\n",
        "Let's look at a more sophisticated way to tune hyperparameters. Create a `build_model()` function that takes three arguments, `n_hidden`, `n_neurons`, `learning_rate`, and builds, compiles and returns a model with the given number of hidden layers, the given number of neurons and the given learning rate. It is good practice to give a reasonable default value to each argument."
      ]
    },
    {
      "metadata": {
        "id": "QQHrfZOWRPVM",
        "colab_type": "code",
        "colab": {}
      },
      "cell_type": "code",
      "source": [
        "def build_model(n_hidden=1, n_neurons=30, learning_rate=3e-3):\n",
        "    model = keras.models.Sequential()\n",
        "    options = {\"input_shape\": X_train.shape[1:]}\n",
        "    for layer in range(n_hidden + 1):\n",
        "        model.add(keras.layers.Dense(n_neurons, activation=\"relu\", **options))\n",
        "        options = {}\n",
        "    model.add(keras.layers.Dense(1, **options))\n",
        "    optimizer = keras.optimizers.SGD(learning_rate)\n",
        "    model.compile(loss=\"mse\", optimizer=optimizer)\n",
        "    return model"
      ],
      "execution_count": 0,
      "outputs": []
    },
    {
      "metadata": {
        "id": "HbAPUh1_RPVM",
        "colab_type": "text"
      },
      "cell_type": "markdown",
      "source": [
        "### 6.3)\n",
        "Create a `keras.wrappers.scikit_learn.KerasRegressor` and pass the `build_model` function to the constructor. This gives you a Scikit-Learn compatible predictor. Try training it and using it to make predictions. Note that you can pass the `n_epochs`, `callbacks` and `validation_data` to the `fit()` method."
      ]
    },
    {
      "metadata": {
        "id": "VAWIMZi9RPVM",
        "colab_type": "code",
        "colab": {}
      },
      "cell_type": "code",
      "source": [
        "keras_reg = keras.wrappers.scikit_learn.KerasRegressor(build_model)"
      ],
      "execution_count": 0,
      "outputs": []
    },
    {
      "metadata": {
        "id": "_MNrfsNlRPVN",
        "colab_type": "code",
        "colab": {
          "base_uri": "https://localhost:8080/",
          "height": 570
        },
        "outputId": "3b139bae-d251-486c-cdc5-9e4ce6cf9991"
      },
      "cell_type": "code",
      "source": [
        "keras_reg.fit(X_train_scaled, y_train, epochs=100,\n",
        "              validation_data=(X_valid_scaled, y_valid),\n",
        "              callbacks=[keras.callbacks.EarlyStopping(patience=10)])"
      ],
      "execution_count": 68,
      "outputs": [
        {
          "output_type": "stream",
          "text": [
            "Train on 11610 samples, validate on 3870 samples\n",
            "Epoch 1/100\n",
            "11610/11610 [==============================] - 1s 62us/sample - loss: 1.1694 - val_loss: 13.0188\n",
            "Epoch 2/100\n",
            "11610/11610 [==============================] - 1s 51us/sample - loss: 0.6143 - val_loss: 43.3472\n",
            "Epoch 3/100\n",
            "11610/11610 [==============================] - 1s 47us/sample - loss: 0.9906 - val_loss: 7.0642\n",
            "Epoch 4/100\n",
            "11610/11610 [==============================] - 1s 49us/sample - loss: 0.5274 - val_loss: 0.4250\n",
            "Epoch 5/100\n",
            "11610/11610 [==============================] - 1s 45us/sample - loss: 0.4449 - val_loss: 0.3991\n",
            "Epoch 6/100\n",
            "11610/11610 [==============================] - 1s 45us/sample - loss: 0.4238 - val_loss: 0.3959\n",
            "Epoch 7/100\n",
            "11610/11610 [==============================] - 1s 45us/sample - loss: 0.4101 - val_loss: 0.4037\n",
            "Epoch 8/100\n",
            "11610/11610 [==============================] - 1s 44us/sample - loss: 0.4014 - val_loss: 0.4117\n",
            "Epoch 9/100\n",
            "11610/11610 [==============================] - 1s 45us/sample - loss: 0.3956 - val_loss: 0.4090\n",
            "Epoch 10/100\n",
            "11610/11610 [==============================] - 1s 45us/sample - loss: 0.3898 - val_loss: 0.4359\n",
            "Epoch 11/100\n",
            "11610/11610 [==============================] - 1s 45us/sample - loss: 0.3872 - val_loss: 0.4333\n",
            "Epoch 12/100\n",
            "11610/11610 [==============================] - 1s 45us/sample - loss: 0.3828 - val_loss: 0.4224\n",
            "Epoch 13/100\n",
            "11610/11610 [==============================] - 1s 45us/sample - loss: 0.3798 - val_loss: 0.4192\n",
            "Epoch 14/100\n",
            "11610/11610 [==============================] - 1s 45us/sample - loss: 0.3780 - val_loss: 0.4283\n",
            "Epoch 15/100\n",
            "11610/11610 [==============================] - 1s 44us/sample - loss: 0.3758 - val_loss: 0.4234\n",
            "Epoch 16/100\n",
            "11610/11610 [==============================] - 1s 46us/sample - loss: 0.3737 - val_loss: 0.4149\n"
          ],
          "name": "stdout"
        },
        {
          "output_type": "execute_result",
          "data": {
            "text/plain": [
              "<tensorflow.python.keras.callbacks.History at 0x7f0f6a039630>"
            ]
          },
          "metadata": {
            "tags": []
          },
          "execution_count": 68
        }
      ]
    },
    {
      "metadata": {
        "id": "wwr_qpZJRPVN",
        "colab_type": "code",
        "colab": {
          "base_uri": "https://localhost:8080/",
          "height": 50
        },
        "outputId": "8486768f-5fdf-40d4-b28e-9014b3cd0c10"
      },
      "cell_type": "code",
      "source": [
        "keras_reg.predict(X_test_scaled)"
      ],
      "execution_count": 69,
      "outputs": [
        {
          "output_type": "execute_result",
          "data": {
            "text/plain": [
              "array([0.9345158, 1.962505 , 3.8466477, ..., 1.4445187, 2.2777581,\n",
              "       4.015122 ], dtype=float32)"
            ]
          },
          "metadata": {
            "tags": []
          },
          "execution_count": 69
        }
      ]
    },
    {
      "metadata": {
        "id": "dXZFmIpiRPVO",
        "colab_type": "text"
      },
      "cell_type": "markdown",
      "source": [
        "### 6.4)\n",
        "Use a `sklearn.model_selection.RandomizedSearchCV` to search the hyperparameter space of your `KerasRegressor`."
      ]
    },
    {
      "metadata": {
        "id": "7mk0MggkRPVO",
        "colab_type": "code",
        "colab": {}
      },
      "cell_type": "code",
      "source": [
        "from scipy.stats import reciprocal\n",
        "\n",
        "param_distribs = {\n",
        "    \"n_hidden\": [0, 1, 2, 3],\n",
        "    \"n_neurons\": np.arange(1, 100),\n",
        "    \"learning_rate\": reciprocal(3e-4, 3e-2),\n",
        "}"
      ],
      "execution_count": 0,
      "outputs": []
    },
    {
      "metadata": {
        "id": "KF9gq0u0RPVP",
        "colab_type": "code",
        "colab": {}
      },
      "cell_type": "code",
      "source": [
        "from sklearn.model_selection import RandomizedSearchCV\n",
        "\n",
        "rnd_search_cv = RandomizedSearchCV(keras_reg, param_distribs, n_iter=10, cv=3, verbose=2)"
      ],
      "execution_count": 0,
      "outputs": []
    },
    {
      "metadata": {
        "id": "GFsZnZD9RPVQ",
        "colab_type": "code",
        "colab": {
          "base_uri": "https://localhost:8080/",
          "height": 52541
        },
        "outputId": "17f5d859-61a1-43d7-fad9-d24b82d2ecd7"
      },
      "cell_type": "code",
      "source": [
        "rnd_search_cv.fit(X_train_scaled, y_train, epochs=100,\n",
        "                  validation_data=(X_valid_scaled, y_valid),\n",
        "                  callbacks=[keras.callbacks.EarlyStopping(patience=10)])"
      ],
      "execution_count": 72,
      "outputs": [
        {
          "output_type": "stream",
          "text": [
            "Fitting 3 folds for each of 10 candidates, totalling 30 fits\n",
            "[CV] learning_rate=0.003612504848156595, n_hidden=2, n_neurons=47 ....\n",
            "Train on 7740 samples, validate on 3870 samples\n"
          ],
          "name": "stdout"
        },
        {
          "output_type": "stream",
          "text": [
            "[Parallel(n_jobs=1)]: Using backend SequentialBackend with 1 concurrent workers.\n"
          ],
          "name": "stderr"
        },
        {
          "output_type": "stream",
          "text": [
            "Epoch 1/100\n",
            "7740/7740 [==============================] - 1s 81us/sample - loss: 1.5314 - val_loss: 4.2895\n",
            "Epoch 2/100\n",
            "7740/7740 [==============================] - 1s 66us/sample - loss: 0.6428 - val_loss: 1.1587\n",
            "Epoch 3/100\n",
            "7740/7740 [==============================] - 0s 57us/sample - loss: 0.5246 - val_loss: 0.6037\n",
            "Epoch 4/100\n",
            "7740/7740 [==============================] - 0s 57us/sample - loss: 0.4681 - val_loss: 0.4564\n",
            "Epoch 5/100\n",
            "7740/7740 [==============================] - 0s 56us/sample - loss: 0.4319 - val_loss: 0.4387\n",
            "Epoch 6/100\n",
            "7740/7740 [==============================] - 0s 54us/sample - loss: 0.4092 - val_loss: 0.4253\n",
            "Epoch 7/100\n",
            "7740/7740 [==============================] - 0s 56us/sample - loss: 0.3944 - val_loss: 0.3925\n",
            "Epoch 8/100\n",
            "7740/7740 [==============================] - 0s 55us/sample - loss: 0.3834 - val_loss: 0.4232\n",
            "Epoch 9/100\n",
            "7740/7740 [==============================] - 0s 56us/sample - loss: 0.3750 - val_loss: 0.3808\n",
            "Epoch 10/100\n",
            "7740/7740 [==============================] - 0s 57us/sample - loss: 0.3680 - val_loss: 0.4036\n",
            "Epoch 11/100\n",
            "7740/7740 [==============================] - 0s 56us/sample - loss: 0.3623 - val_loss: 0.4096\n",
            "Epoch 12/100\n",
            "7740/7740 [==============================] - 0s 54us/sample - loss: 0.3576 - val_loss: 0.3612\n",
            "Epoch 13/100\n",
            "7740/7740 [==============================] - 0s 54us/sample - loss: 0.3533 - val_loss: 0.3535\n",
            "Epoch 14/100\n",
            "7740/7740 [==============================] - 0s 54us/sample - loss: 0.3493 - val_loss: 0.3906\n",
            "Epoch 15/100\n",
            "7740/7740 [==============================] - 0s 56us/sample - loss: 0.3469 - val_loss: 0.3652\n",
            "Epoch 16/100\n",
            "7740/7740 [==============================] - 0s 53us/sample - loss: 0.3440 - val_loss: 0.3781\n",
            "Epoch 17/100\n",
            "7740/7740 [==============================] - 0s 54us/sample - loss: 0.3414 - val_loss: 0.3944\n",
            "Epoch 18/100\n",
            "7740/7740 [==============================] - 0s 56us/sample - loss: 0.3386 - val_loss: 0.3601\n",
            "Epoch 19/100\n",
            "7740/7740 [==============================] - 0s 54us/sample - loss: 0.3368 - val_loss: 0.3868\n",
            "Epoch 20/100\n",
            "7740/7740 [==============================] - 0s 54us/sample - loss: 0.3342 - val_loss: 0.3741\n",
            "Epoch 21/100\n",
            "7740/7740 [==============================] - 0s 54us/sample - loss: 0.3327 - val_loss: 0.3543\n",
            "Epoch 22/100\n",
            "7740/7740 [==============================] - 0s 56us/sample - loss: 0.3313 - val_loss: 0.3717\n",
            "Epoch 23/100\n",
            "7740/7740 [==============================] - 0s 54us/sample - loss: 0.3285 - val_loss: 0.3505\n",
            "Epoch 24/100\n",
            "7740/7740 [==============================] - 0s 55us/sample - loss: 0.3260 - val_loss: 0.3797\n",
            "Epoch 25/100\n",
            "7740/7740 [==============================] - 0s 56us/sample - loss: 0.3254 - val_loss: 0.3322\n",
            "Epoch 26/100\n",
            "7740/7740 [==============================] - 0s 54us/sample - loss: 0.3234 - val_loss: 0.3626\n",
            "Epoch 27/100\n",
            "7740/7740 [==============================] - 0s 54us/sample - loss: 0.3221 - val_loss: 0.3499\n",
            "Epoch 28/100\n",
            "7740/7740 [==============================] - 0s 56us/sample - loss: 0.3209 - val_loss: 0.3625\n",
            "Epoch 29/100\n",
            "7740/7740 [==============================] - 0s 55us/sample - loss: 0.3194 - val_loss: 0.3471\n",
            "Epoch 30/100\n",
            "7740/7740 [==============================] - 0s 58us/sample - loss: 0.3184 - val_loss: 0.3119\n",
            "Epoch 31/100\n",
            "7740/7740 [==============================] - 0s 56us/sample - loss: 0.3167 - val_loss: 0.3522\n",
            "Epoch 32/100\n",
            "7740/7740 [==============================] - 0s 55us/sample - loss: 0.3149 - val_loss: 0.3570\n",
            "Epoch 33/100\n",
            "7740/7740 [==============================] - 0s 56us/sample - loss: 0.3139 - val_loss: 0.3591\n",
            "Epoch 34/100\n",
            "7740/7740 [==============================] - 0s 59us/sample - loss: 0.3149 - val_loss: 0.3375\n",
            "Epoch 35/100\n",
            "7740/7740 [==============================] - 0s 56us/sample - loss: 0.3126 - val_loss: 0.3442\n",
            "Epoch 36/100\n",
            "7740/7740 [==============================] - 0s 55us/sample - loss: 0.3114 - val_loss: 0.3497\n",
            "Epoch 37/100\n",
            "7740/7740 [==============================] - 0s 56us/sample - loss: 0.3096 - val_loss: 0.3393\n",
            "Epoch 38/100\n",
            "7740/7740 [==============================] - 0s 56us/sample - loss: 0.3085 - val_loss: 0.3470\n",
            "Epoch 39/100\n",
            "7740/7740 [==============================] - 0s 55us/sample - loss: 0.3074 - val_loss: 0.3237\n",
            "Epoch 40/100\n",
            "7740/7740 [==============================] - 0s 55us/sample - loss: 0.3067 - val_loss: 0.3183\n",
            "3870/3870 [==============================] - 0s 26us/sample - loss: 0.3345\n",
            "7740/7740 [==============================] - 0s 25us/sample - loss: 0.3023\n",
            "[CV]  learning_rate=0.003612504848156595, n_hidden=2, n_neurons=47, total=  18.0s\n",
            "[CV] learning_rate=0.003612504848156595, n_hidden=2, n_neurons=47 ....\n",
            "Train on 7740 samples, validate on 3870 samples\n"
          ],
          "name": "stdout"
        },
        {
          "output_type": "stream",
          "text": [
            "[Parallel(n_jobs=1)]: Done   1 out of   1 | elapsed:   18.2s remaining:    0.0s\n"
          ],
          "name": "stderr"
        },
        {
          "output_type": "stream",
          "text": [
            "Epoch 1/100\n",
            "7740/7740 [==============================] - 1s 74us/sample - loss: 1.3780 - val_loss: 4.5414\n",
            "Epoch 2/100\n",
            "7740/7740 [==============================] - 0s 54us/sample - loss: 0.6496 - val_loss: 0.8606\n",
            "Epoch 3/100\n",
            "7740/7740 [==============================] - 0s 54us/sample - loss: 0.5526 - val_loss: 0.6098\n",
            "Epoch 4/100\n",
            "7740/7740 [==============================] - 0s 53us/sample - loss: 0.4857 - val_loss: 0.8229\n",
            "Epoch 5/100\n",
            "7740/7740 [==============================] - 0s 53us/sample - loss: 0.4406 - val_loss: 0.8860\n",
            "Epoch 6/100\n",
            "7740/7740 [==============================] - 0s 55us/sample - loss: 0.4150 - val_loss: 0.7754\n",
            "Epoch 7/100\n",
            "7740/7740 [==============================] - 0s 53us/sample - loss: 0.3993 - val_loss: 0.5314\n",
            "Epoch 8/100\n",
            "7740/7740 [==============================] - 0s 54us/sample - loss: 0.3876 - val_loss: 0.4150\n",
            "Epoch 9/100\n",
            "7740/7740 [==============================] - 0s 53us/sample - loss: 0.3791 - val_loss: 0.3585\n",
            "Epoch 10/100\n",
            "7740/7740 [==============================] - 0s 53us/sample - loss: 0.3705 - val_loss: 0.3626\n",
            "Epoch 11/100\n",
            "7740/7740 [==============================] - 0s 53us/sample - loss: 0.3655 - val_loss: 0.3787\n",
            "Epoch 12/100\n",
            "7740/7740 [==============================] - 0s 55us/sample - loss: 0.3613 - val_loss: 0.4334\n",
            "Epoch 13/100\n",
            "7740/7740 [==============================] - 0s 54us/sample - loss: 0.3564 - val_loss: 0.5600\n",
            "Epoch 14/100\n",
            "7740/7740 [==============================] - 0s 54us/sample - loss: 0.3530 - val_loss: 0.5228\n",
            "Epoch 15/100\n",
            "7740/7740 [==============================] - 0s 56us/sample - loss: 0.3499 - val_loss: 0.5530\n",
            "Epoch 16/100\n",
            "7740/7740 [==============================] - 0s 54us/sample - loss: 0.3476 - val_loss: 0.6861\n",
            "Epoch 17/100\n",
            "7740/7740 [==============================] - 0s 55us/sample - loss: 0.3457 - val_loss: 0.5425\n",
            "Epoch 18/100\n",
            "7740/7740 [==============================] - 0s 56us/sample - loss: 0.3426 - val_loss: 0.6672\n",
            "Epoch 19/100\n",
            "7740/7740 [==============================] - 0s 54us/sample - loss: 0.3397 - val_loss: 0.6038\n",
            "3870/3870 [==============================] - 0s 24us/sample - loss: 0.3688\n",
            "7740/7740 [==============================] - 0s 23us/sample - loss: 0.3432\n",
            "[CV]  learning_rate=0.003612504848156595, n_hidden=2, n_neurons=47, total=   8.7s\n",
            "[CV] learning_rate=0.003612504848156595, n_hidden=2, n_neurons=47 ....\n",
            "Train on 7740 samples, validate on 3870 samples\n",
            "Epoch 1/100\n",
            "7740/7740 [==============================] - 1s 73us/sample - loss: 1.3804 - val_loss: 14.8884\n",
            "Epoch 2/100\n",
            "7740/7740 [==============================] - 0s 55us/sample - loss: 0.6633 - val_loss: 1.8063\n",
            "Epoch 3/100\n",
            "7740/7740 [==============================] - 0s 53us/sample - loss: 0.5364 - val_loss: 0.4987\n",
            "Epoch 4/100\n",
            "7740/7740 [==============================] - 0s 54us/sample - loss: 0.4783 - val_loss: 0.4456\n",
            "Epoch 5/100\n",
            "7740/7740 [==============================] - 0s 54us/sample - loss: 0.4446 - val_loss: 0.4259\n",
            "Epoch 6/100\n",
            "7740/7740 [==============================] - 0s 53us/sample - loss: 0.4228 - val_loss: 0.4493\n",
            "Epoch 7/100\n",
            "7740/7740 [==============================] - 0s 55us/sample - loss: 0.4070 - val_loss: 0.4542\n",
            "Epoch 8/100\n",
            "7740/7740 [==============================] - 0s 54us/sample - loss: 0.3970 - val_loss: 0.3725\n",
            "Epoch 9/100\n",
            "7740/7740 [==============================] - 0s 57us/sample - loss: 0.3875 - val_loss: 0.3971\n",
            "Epoch 10/100\n",
            "7740/7740 [==============================] - 0s 55us/sample - loss: 0.3815 - val_loss: 0.4217\n",
            "Epoch 11/100\n",
            "7740/7740 [==============================] - 0s 58us/sample - loss: 0.3772 - val_loss: 0.3505\n",
            "Epoch 12/100\n",
            "7740/7740 [==============================] - 0s 55us/sample - loss: 0.3718 - val_loss: 0.3601\n",
            "Epoch 13/100\n",
            "7740/7740 [==============================] - 0s 56us/sample - loss: 0.3678 - val_loss: 0.4052\n",
            "Epoch 14/100\n",
            "7740/7740 [==============================] - 0s 57us/sample - loss: 0.3651 - val_loss: 0.3457\n",
            "Epoch 15/100\n",
            "7740/7740 [==============================] - 0s 56us/sample - loss: 0.3607 - val_loss: 0.4021\n",
            "Epoch 16/100\n",
            "7740/7740 [==============================] - 0s 55us/sample - loss: 0.3595 - val_loss: 0.3401\n",
            "Epoch 17/100\n",
            "7740/7740 [==============================] - 0s 57us/sample - loss: 0.3568 - val_loss: 0.3485\n",
            "Epoch 18/100\n",
            "7740/7740 [==============================] - 0s 57us/sample - loss: 0.3539 - val_loss: 0.3913\n",
            "Epoch 19/100\n",
            "7740/7740 [==============================] - 0s 57us/sample - loss: 0.3509 - val_loss: 0.3772\n",
            "Epoch 20/100\n",
            "7740/7740 [==============================] - 0s 56us/sample - loss: 0.3496 - val_loss: 0.3886\n",
            "Epoch 21/100\n",
            "7740/7740 [==============================] - 0s 56us/sample - loss: 0.3474 - val_loss: 0.3336\n",
            "Epoch 22/100\n",
            "7740/7740 [==============================] - 0s 54us/sample - loss: 0.3461 - val_loss: 0.3734\n",
            "Epoch 23/100\n",
            "7740/7740 [==============================] - 0s 56us/sample - loss: 0.3435 - val_loss: 0.3447\n",
            "Epoch 24/100\n",
            "7740/7740 [==============================] - 0s 56us/sample - loss: 0.3421 - val_loss: 0.3477\n",
            "Epoch 25/100\n",
            "7740/7740 [==============================] - 0s 57us/sample - loss: 0.3417 - val_loss: 0.3514\n",
            "Epoch 26/100\n",
            "7740/7740 [==============================] - 0s 56us/sample - loss: 0.3389 - val_loss: 0.3789\n",
            "Epoch 27/100\n",
            "7740/7740 [==============================] - 0s 56us/sample - loss: 0.3380 - val_loss: 0.3796\n",
            "Epoch 28/100\n",
            "7740/7740 [==============================] - 0s 56us/sample - loss: 0.3364 - val_loss: 0.3309\n",
            "Epoch 29/100\n",
            "7740/7740 [==============================] - 0s 55us/sample - loss: 0.3344 - val_loss: 0.3616\n",
            "Epoch 30/100\n",
            "7740/7740 [==============================] - 0s 57us/sample - loss: 0.3319 - val_loss: 0.3804\n",
            "Epoch 31/100\n",
            "7740/7740 [==============================] - 0s 57us/sample - loss: 0.3310 - val_loss: 0.3251\n",
            "Epoch 32/100\n",
            "7740/7740 [==============================] - 0s 56us/sample - loss: 0.3302 - val_loss: 0.3552\n",
            "Epoch 33/100\n",
            "7740/7740 [==============================] - 0s 56us/sample - loss: 0.3288 - val_loss: 0.3217\n",
            "Epoch 34/100\n",
            "7740/7740 [==============================] - 0s 56us/sample - loss: 0.3285 - val_loss: 0.3203\n",
            "Epoch 35/100\n",
            "7740/7740 [==============================] - 0s 57us/sample - loss: 0.3261 - val_loss: 0.3238\n",
            "Epoch 36/100\n",
            "7740/7740 [==============================] - 0s 56us/sample - loss: 0.3254 - val_loss: 0.3593\n",
            "Epoch 37/100\n",
            "7740/7740 [==============================] - 0s 55us/sample - loss: 0.3248 - val_loss: 0.3130\n",
            "Epoch 38/100\n",
            "7740/7740 [==============================] - 0s 55us/sample - loss: 0.3243 - val_loss: 0.3785\n",
            "Epoch 39/100\n",
            "7740/7740 [==============================] - 0s 56us/sample - loss: 0.3231 - val_loss: 0.3177\n",
            "Epoch 40/100\n",
            "7740/7740 [==============================] - 0s 56us/sample - loss: 0.3211 - val_loss: 0.3186\n",
            "Epoch 41/100\n",
            "7740/7740 [==============================] - 0s 57us/sample - loss: 0.3205 - val_loss: 0.3117\n",
            "Epoch 42/100\n",
            "7740/7740 [==============================] - 0s 57us/sample - loss: 0.3189 - val_loss: 0.3222\n",
            "Epoch 43/100\n",
            "7740/7740 [==============================] - 0s 56us/sample - loss: 0.3188 - val_loss: 0.3118\n",
            "Epoch 44/100\n",
            "7740/7740 [==============================] - 0s 60us/sample - loss: 0.3161 - val_loss: 0.3483\n",
            "Epoch 45/100\n",
            "7740/7740 [==============================] - 0s 57us/sample - loss: 0.3166 - val_loss: 0.3096\n",
            "Epoch 46/100\n",
            "7740/7740 [==============================] - 0s 57us/sample - loss: 0.3139 - val_loss: 0.3264\n",
            "Epoch 47/100\n",
            "7740/7740 [==============================] - 0s 57us/sample - loss: 0.3134 - val_loss: 0.3082\n",
            "Epoch 48/100\n",
            "7740/7740 [==============================] - 0s 56us/sample - loss: 0.3123 - val_loss: 0.3258\n",
            "Epoch 49/100\n",
            "7740/7740 [==============================] - 0s 55us/sample - loss: 0.3123 - val_loss: 0.3182\n",
            "Epoch 50/100\n",
            "7740/7740 [==============================] - 0s 56us/sample - loss: 0.3113 - val_loss: 0.3078\n",
            "Epoch 51/100\n",
            "7740/7740 [==============================] - 0s 56us/sample - loss: 0.3101 - val_loss: 0.3154\n",
            "Epoch 52/100\n",
            "7740/7740 [==============================] - 0s 55us/sample - loss: 0.3091 - val_loss: 0.3160\n",
            "Epoch 53/100\n",
            "7740/7740 [==============================] - 0s 56us/sample - loss: 0.3088 - val_loss: 0.3622\n",
            "Epoch 54/100\n",
            "7740/7740 [==============================] - 0s 57us/sample - loss: 0.3078 - val_loss: 0.3260\n",
            "Epoch 55/100\n",
            "7740/7740 [==============================] - 0s 57us/sample - loss: 0.3066 - val_loss: 0.3271\n",
            "Epoch 56/100\n",
            "7740/7740 [==============================] - 0s 56us/sample - loss: 0.3054 - val_loss: 0.3082\n",
            "Epoch 57/100\n",
            "7740/7740 [==============================] - 0s 56us/sample - loss: 0.3041 - val_loss: 0.3294\n",
            "Epoch 58/100\n",
            "7740/7740 [==============================] - 0s 56us/sample - loss: 0.3044 - val_loss: 0.2998\n",
            "Epoch 59/100\n",
            "7740/7740 [==============================] - 0s 54us/sample - loss: 0.3034 - val_loss: 0.3008\n",
            "Epoch 60/100\n",
            "7740/7740 [==============================] - 0s 55us/sample - loss: 0.3011 - val_loss: 0.3105\n",
            "Epoch 61/100\n",
            "7740/7740 [==============================] - 0s 56us/sample - loss: 0.3008 - val_loss: 0.3162\n",
            "Epoch 62/100\n",
            "7740/7740 [==============================] - 0s 57us/sample - loss: 0.3015 - val_loss: 0.3239\n",
            "Epoch 63/100\n",
            "7740/7740 [==============================] - 0s 55us/sample - loss: 0.2992 - val_loss: 0.2986\n",
            "Epoch 64/100\n",
            "7740/7740 [==============================] - 0s 57us/sample - loss: 0.2987 - val_loss: 0.3257\n",
            "Epoch 65/100\n",
            "7740/7740 [==============================] - 0s 58us/sample - loss: 0.2974 - val_loss: 0.2977\n",
            "Epoch 66/100\n",
            "7740/7740 [==============================] - 0s 57us/sample - loss: 0.2964 - val_loss: 0.3077\n",
            "Epoch 67/100\n",
            "7740/7740 [==============================] - 0s 54us/sample - loss: 0.2966 - val_loss: 0.2978\n",
            "Epoch 68/100\n",
            "7740/7740 [==============================] - 0s 54us/sample - loss: 0.2948 - val_loss: 0.3775\n",
            "Epoch 69/100\n",
            "7740/7740 [==============================] - 0s 54us/sample - loss: 0.2970 - val_loss: 0.3014\n",
            "Epoch 70/100\n",
            "7740/7740 [==============================] - 0s 56us/sample - loss: 0.2950 - val_loss: 0.3564\n",
            "Epoch 71/100\n",
            "7740/7740 [==============================] - 0s 57us/sample - loss: 0.2939 - val_loss: 0.2940\n",
            "Epoch 72/100\n",
            "7740/7740 [==============================] - 0s 56us/sample - loss: 0.2929 - val_loss: 0.2950\n",
            "Epoch 73/100\n",
            "7740/7740 [==============================] - 0s 56us/sample - loss: 0.2916 - val_loss: 0.3520\n",
            "Epoch 74/100\n",
            "7740/7740 [==============================] - 0s 56us/sample - loss: 0.2927 - val_loss: 0.2942\n",
            "Epoch 75/100\n",
            "7740/7740 [==============================] - 0s 55us/sample - loss: 0.2902 - val_loss: 0.3435\n",
            "Epoch 76/100\n",
            "7740/7740 [==============================] - 0s 57us/sample - loss: 0.2893 - val_loss: 0.2950\n",
            "Epoch 77/100\n",
            "7740/7740 [==============================] - 0s 55us/sample - loss: 0.2887 - val_loss: 0.3061\n",
            "Epoch 78/100\n",
            "7740/7740 [==============================] - 0s 57us/sample - loss: 0.2875 - val_loss: 0.2945\n",
            "Epoch 79/100\n",
            "7740/7740 [==============================] - 0s 54us/sample - loss: 0.2884 - val_loss: 0.2962\n",
            "Epoch 80/100\n",
            "7740/7740 [==============================] - 0s 57us/sample - loss: 0.2867 - val_loss: 0.2914\n",
            "Epoch 81/100\n",
            "7740/7740 [==============================] - 0s 53us/sample - loss: 0.2854 - val_loss: 0.2886\n",
            "Epoch 82/100\n",
            "7740/7740 [==============================] - 0s 56us/sample - loss: 0.2864 - val_loss: 0.3006\n",
            "Epoch 83/100\n",
            "7740/7740 [==============================] - 0s 56us/sample - loss: 0.2857 - val_loss: 0.3471\n",
            "Epoch 84/100\n",
            "7740/7740 [==============================] - 0s 55us/sample - loss: 0.2849 - val_loss: 0.4788\n",
            "Epoch 85/100\n",
            "7740/7740 [==============================] - 0s 57us/sample - loss: 0.2858 - val_loss: 0.5120\n",
            "Epoch 86/100\n",
            "7740/7740 [==============================] - 0s 55us/sample - loss: 0.2860 - val_loss: 0.5672\n",
            "Epoch 87/100\n",
            "7740/7740 [==============================] - 0s 60us/sample - loss: 0.2891 - val_loss: 0.6536\n",
            "Epoch 88/100\n",
            "7740/7740 [==============================] - 0s 54us/sample - loss: 0.2871 - val_loss: 0.5286\n",
            "Epoch 89/100\n",
            "7740/7740 [==============================] - 0s 57us/sample - loss: 0.2842 - val_loss: 0.2930\n",
            "Epoch 90/100\n",
            "7740/7740 [==============================] - 0s 55us/sample - loss: 0.2810 - val_loss: 0.2914\n",
            "Epoch 91/100\n",
            "7740/7740 [==============================] - 0s 56us/sample - loss: 0.2804 - val_loss: 0.2849\n",
            "Epoch 92/100\n",
            "7740/7740 [==============================] - 0s 55us/sample - loss: 0.2809 - val_loss: 0.3443\n",
            "Epoch 93/100\n",
            "7740/7740 [==============================] - 0s 55us/sample - loss: 0.2809 - val_loss: 0.3012\n",
            "Epoch 94/100\n",
            "7740/7740 [==============================] - 0s 56us/sample - loss: 0.2797 - val_loss: 0.2880\n",
            "Epoch 95/100\n",
            "7740/7740 [==============================] - 0s 57us/sample - loss: 0.2784 - val_loss: 0.2978\n",
            "Epoch 96/100\n",
            "7740/7740 [==============================] - 0s 56us/sample - loss: 0.2791 - val_loss: 0.3059\n",
            "Epoch 97/100\n",
            "7740/7740 [==============================] - 0s 56us/sample - loss: 0.2780 - val_loss: 0.2852\n",
            "Epoch 98/100\n",
            "7740/7740 [==============================] - 0s 57us/sample - loss: 0.2765 - val_loss: 0.2981\n",
            "Epoch 99/100\n",
            "7740/7740 [==============================] - 0s 57us/sample - loss: 0.2763 - val_loss: 0.2978\n",
            "Epoch 100/100\n",
            "7740/7740 [==============================] - 0s 55us/sample - loss: 0.2773 - val_loss: 0.3031\n",
            "3870/3870 [==============================] - 0s 25us/sample - loss: 0.3006\n",
            "7740/7740 [==============================] - 0s 25us/sample - loss: 0.2707\n",
            "[CV]  learning_rate=0.003612504848156595, n_hidden=2, n_neurons=47, total=  44.1s\n",
            "[CV] learning_rate=0.0014348734383753808, n_hidden=3, n_neurons=81 ...\n",
            "Train on 7740 samples, validate on 3870 samples\n",
            "Epoch 1/100\n",
            "7740/7740 [==============================] - 1s 89us/sample - loss: 1.8964 - val_loss: 6.3849\n",
            "Epoch 2/100\n",
            "7740/7740 [==============================] - 1s 66us/sample - loss: 0.7451 - val_loss: 1.1888\n",
            "Epoch 3/100\n",
            "7740/7740 [==============================] - 1s 65us/sample - loss: 0.5800 - val_loss: 0.5272\n",
            "Epoch 4/100\n",
            "7740/7740 [==============================] - 1s 65us/sample - loss: 0.5197 - val_loss: 0.4651\n",
            "Epoch 5/100\n",
            "7740/7740 [==============================] - 1s 65us/sample - loss: 0.4797 - val_loss: 0.4401\n",
            "Epoch 6/100\n",
            "7740/7740 [==============================] - 1s 65us/sample - loss: 0.4506 - val_loss: 0.4260\n",
            "Epoch 7/100\n",
            "7740/7740 [==============================] - 1s 66us/sample - loss: 0.4288 - val_loss: 0.4092\n",
            "Epoch 8/100\n",
            "7740/7740 [==============================] - 0s 64us/sample - loss: 0.4125 - val_loss: 0.3988\n",
            "Epoch 9/100\n",
            "7740/7740 [==============================] - 1s 67us/sample - loss: 0.4006 - val_loss: 0.4081\n",
            "Epoch 10/100\n",
            "7740/7740 [==============================] - 1s 65us/sample - loss: 0.3918 - val_loss: 0.3864\n",
            "Epoch 11/100\n",
            "7740/7740 [==============================] - 1s 65us/sample - loss: 0.3846 - val_loss: 0.4164\n",
            "Epoch 12/100\n",
            "7740/7740 [==============================] - 1s 66us/sample - loss: 0.3792 - val_loss: 0.4182\n",
            "Epoch 13/100\n",
            "7740/7740 [==============================] - 1s 66us/sample - loss: 0.3746 - val_loss: 0.3874\n",
            "Epoch 14/100\n",
            "7740/7740 [==============================] - 0s 64us/sample - loss: 0.3704 - val_loss: 0.3646\n",
            "Epoch 15/100\n",
            "7740/7740 [==============================] - 0s 64us/sample - loss: 0.3665 - val_loss: 0.3874\n",
            "Epoch 16/100\n",
            "7740/7740 [==============================] - 1s 66us/sample - loss: 0.3633 - val_loss: 0.3509\n",
            "Epoch 17/100\n",
            "7740/7740 [==============================] - 1s 66us/sample - loss: 0.3602 - val_loss: 0.4083\n",
            "Epoch 18/100\n",
            "7740/7740 [==============================] - 1s 66us/sample - loss: 0.3576 - val_loss: 0.3589\n",
            "Epoch 19/100\n",
            "7740/7740 [==============================] - 1s 65us/sample - loss: 0.3549 - val_loss: 0.3594\n",
            "Epoch 20/100\n",
            "7740/7740 [==============================] - 1s 65us/sample - loss: 0.3529 - val_loss: 0.3500\n",
            "Epoch 21/100\n",
            "7740/7740 [==============================] - 1s 65us/sample - loss: 0.3508 - val_loss: 0.3473\n",
            "Epoch 22/100\n",
            "7740/7740 [==============================] - 0s 64us/sample - loss: 0.3487 - val_loss: 0.3396\n",
            "Epoch 23/100\n",
            "7740/7740 [==============================] - 1s 65us/sample - loss: 0.3458 - val_loss: 0.3586\n",
            "Epoch 24/100\n",
            "7740/7740 [==============================] - 1s 66us/sample - loss: 0.3451 - val_loss: 0.3693\n",
            "Epoch 25/100\n",
            "7740/7740 [==============================] - 1s 65us/sample - loss: 0.3434 - val_loss: 0.3750\n",
            "Epoch 26/100\n",
            "7740/7740 [==============================] - 0s 64us/sample - loss: 0.3414 - val_loss: 0.3494\n",
            "Epoch 27/100\n",
            "7740/7740 [==============================] - 0s 64us/sample - loss: 0.3397 - val_loss: 0.3468\n",
            "Epoch 28/100\n",
            "7740/7740 [==============================] - 1s 65us/sample - loss: 0.3390 - val_loss: 0.3411\n",
            "Epoch 29/100\n",
            "7740/7740 [==============================] - 1s 65us/sample - loss: 0.3376 - val_loss: 0.3929\n",
            "Epoch 30/100\n",
            "7740/7740 [==============================] - 1s 65us/sample - loss: 0.3366 - val_loss: 0.3258\n",
            "Epoch 31/100\n",
            "7740/7740 [==============================] - 0s 64us/sample - loss: 0.3339 - val_loss: 0.4201\n",
            "Epoch 32/100\n",
            "7740/7740 [==============================] - 0s 64us/sample - loss: 0.3341 - val_loss: 0.3221\n",
            "Epoch 33/100\n",
            "7740/7740 [==============================] - 0s 64us/sample - loss: 0.3324 - val_loss: 0.3749\n",
            "Epoch 34/100\n",
            "7740/7740 [==============================] - 0s 64us/sample - loss: 0.3311 - val_loss: 0.3547\n",
            "Epoch 35/100\n",
            "7740/7740 [==============================] - 0s 64us/sample - loss: 0.3304 - val_loss: 0.3205\n",
            "Epoch 36/100\n",
            "7740/7740 [==============================] - 0s 64us/sample - loss: 0.3289 - val_loss: 0.3309\n",
            "Epoch 37/100\n",
            "7740/7740 [==============================] - 0s 64us/sample - loss: 0.3270 - val_loss: 0.3562\n",
            "Epoch 38/100\n",
            "7740/7740 [==============================] - 1s 66us/sample - loss: 0.3268 - val_loss: 0.3198\n",
            "Epoch 39/100\n",
            "7740/7740 [==============================] - 1s 66us/sample - loss: 0.3261 - val_loss: 0.3251\n",
            "Epoch 40/100\n",
            "7740/7740 [==============================] - 0s 63us/sample - loss: 0.3248 - val_loss: 0.3233\n",
            "Epoch 41/100\n",
            "7740/7740 [==============================] - 0s 64us/sample - loss: 0.3236 - val_loss: 0.3419\n",
            "Epoch 42/100\n",
            "7740/7740 [==============================] - 1s 65us/sample - loss: 0.3236 - val_loss: 0.3232\n",
            "Epoch 43/100\n",
            "7740/7740 [==============================] - 1s 65us/sample - loss: 0.3223 - val_loss: 0.3597\n",
            "Epoch 44/100\n",
            "7740/7740 [==============================] - 1s 65us/sample - loss: 0.3214 - val_loss: 0.3396\n",
            "Epoch 45/100\n",
            "7740/7740 [==============================] - 1s 65us/sample - loss: 0.3206 - val_loss: 0.3173\n",
            "Epoch 46/100\n",
            "7740/7740 [==============================] - 0s 64us/sample - loss: 0.3197 - val_loss: 0.3190\n",
            "Epoch 47/100\n",
            "7740/7740 [==============================] - 0s 64us/sample - loss: 0.3194 - val_loss: 0.3379\n",
            "Epoch 48/100\n",
            "7740/7740 [==============================] - 0s 64us/sample - loss: 0.3177 - val_loss: 0.3200\n",
            "Epoch 49/100\n",
            "7740/7740 [==============================] - 0s 63us/sample - loss: 0.3167 - val_loss: 0.3959\n",
            "Epoch 50/100\n",
            "7740/7740 [==============================] - 0s 63us/sample - loss: 0.3164 - val_loss: 0.3199\n",
            "Epoch 51/100\n",
            "7740/7740 [==============================] - 1s 65us/sample - loss: 0.3161 - val_loss: 0.3730\n",
            "Epoch 52/100\n",
            "7740/7740 [==============================] - 1s 66us/sample - loss: 0.3149 - val_loss: 0.3237\n",
            "Epoch 53/100\n",
            "7740/7740 [==============================] - 0s 64us/sample - loss: 0.3140 - val_loss: 0.3300\n",
            "Epoch 54/100\n",
            "7740/7740 [==============================] - 0s 64us/sample - loss: 0.3127 - val_loss: 0.3078\n",
            "Epoch 55/100\n",
            "7740/7740 [==============================] - 1s 65us/sample - loss: 0.3124 - val_loss: 0.3473\n",
            "Epoch 56/100\n",
            "7740/7740 [==============================] - 1s 65us/sample - loss: 0.3118 - val_loss: 0.3137\n",
            "Epoch 57/100\n",
            "7740/7740 [==============================] - 0s 64us/sample - loss: 0.3105 - val_loss: 0.3685\n",
            "Epoch 58/100\n",
            "7740/7740 [==============================] - 1s 65us/sample - loss: 0.3102 - val_loss: 0.3089\n",
            "Epoch 59/100\n",
            "7740/7740 [==============================] - 1s 65us/sample - loss: 0.3098 - val_loss: 0.3662\n",
            "Epoch 60/100\n",
            "7740/7740 [==============================] - 1s 65us/sample - loss: 0.3091 - val_loss: 0.3080\n",
            "Epoch 61/100\n",
            "7740/7740 [==============================] - 0s 63us/sample - loss: 0.3086 - val_loss: 0.3342\n",
            "Epoch 62/100\n",
            "7740/7740 [==============================] - 0s 63us/sample - loss: 0.3076 - val_loss: 0.3384\n",
            "Epoch 63/100\n",
            "7740/7740 [==============================] - 0s 62us/sample - loss: 0.3070 - val_loss: 0.3147\n",
            "Epoch 64/100\n",
            "7740/7740 [==============================] - 1s 65us/sample - loss: 0.3063 - val_loss: 0.3669\n",
            "3870/3870 [==============================] - 0s 32us/sample - loss: 0.3419\n",
            "7740/7740 [==============================] - 0s 29us/sample - loss: 0.3038\n",
            "[CV]  learning_rate=0.0014348734383753808, n_hidden=3, n_neurons=81, total=  33.2s\n",
            "[CV] learning_rate=0.0014348734383753808, n_hidden=3, n_neurons=81 ...\n",
            "Train on 7740 samples, validate on 3870 samples\n",
            "Epoch 1/100\n",
            "7740/7740 [==============================] - 1s 84us/sample - loss: 1.8343 - val_loss: 4.2298\n",
            "Epoch 2/100\n",
            "7740/7740 [==============================] - 1s 65us/sample - loss: 0.6967 - val_loss: 1.9169\n",
            "Epoch 3/100\n",
            "7740/7740 [==============================] - 0s 62us/sample - loss: 0.5931 - val_loss: 1.1640\n",
            "Epoch 4/100\n",
            "7740/7740 [==============================] - 0s 62us/sample - loss: 0.5379 - val_loss: 0.8366\n",
            "Epoch 5/100\n",
            "7740/7740 [==============================] - 0s 63us/sample - loss: 0.4993 - val_loss: 0.6507\n",
            "Epoch 6/100\n",
            "7740/7740 [==============================] - 1s 65us/sample - loss: 0.4711 - val_loss: 0.5545\n",
            "Epoch 7/100\n",
            "7740/7740 [==============================] - 0s 62us/sample - loss: 0.4493 - val_loss: 0.5176\n",
            "Epoch 8/100\n",
            "7740/7740 [==============================] - 0s 63us/sample - loss: 0.4319 - val_loss: 0.4795\n",
            "Epoch 9/100\n",
            "7740/7740 [==============================] - 0s 62us/sample - loss: 0.4186 - val_loss: 0.4738\n",
            "Epoch 10/100\n",
            "7740/7740 [==============================] - 0s 64us/sample - loss: 0.4077 - val_loss: 0.4662\n",
            "Epoch 11/100\n",
            "7740/7740 [==============================] - 1s 65us/sample - loss: 0.3985 - val_loss: 0.4718\n",
            "Epoch 12/100\n",
            "7740/7740 [==============================] - 1s 66us/sample - loss: 0.3911 - val_loss: 0.4732\n",
            "Epoch 13/100\n",
            "7740/7740 [==============================] - 0s 64us/sample - loss: 0.3852 - val_loss: 0.4642\n",
            "Epoch 14/100\n",
            "7740/7740 [==============================] - 0s 64us/sample - loss: 0.3793 - val_loss: 0.4711\n",
            "Epoch 15/100\n",
            "7740/7740 [==============================] - 1s 65us/sample - loss: 0.3754 - val_loss: 0.4760\n",
            "Epoch 16/100\n",
            "7740/7740 [==============================] - 0s 63us/sample - loss: 0.3710 - val_loss: 0.5179\n",
            "Epoch 17/100\n",
            "7740/7740 [==============================] - 0s 62us/sample - loss: 0.3670 - val_loss: 0.5570\n",
            "Epoch 18/100\n",
            "7740/7740 [==============================] - 0s 61us/sample - loss: 0.3643 - val_loss: 0.5438\n",
            "Epoch 19/100\n",
            "7740/7740 [==============================] - 0s 62us/sample - loss: 0.3609 - val_loss: 0.5677\n",
            "Epoch 20/100\n",
            "7740/7740 [==============================] - 0s 62us/sample - loss: 0.3583 - val_loss: 0.5945\n",
            "Epoch 21/100\n",
            "7740/7740 [==============================] - 0s 64us/sample - loss: 0.3556 - val_loss: 0.6518\n",
            "Epoch 22/100\n",
            "7740/7740 [==============================] - 0s 62us/sample - loss: 0.3531 - val_loss: 0.6735\n",
            "Epoch 23/100\n",
            "7740/7740 [==============================] - 0s 63us/sample - loss: 0.3510 - val_loss: 0.7205\n",
            "3870/3870 [==============================] - 0s 31us/sample - loss: 0.3659\n",
            "7740/7740 [==============================] - 0s 29us/sample - loss: 0.3491\n",
            "[CV]  learning_rate=0.0014348734383753808, n_hidden=3, n_neurons=81, total=  12.1s\n",
            "[CV] learning_rate=0.0014348734383753808, n_hidden=3, n_neurons=81 ...\n",
            "Train on 7740 samples, validate on 3870 samples\n",
            "Epoch 1/100\n",
            "7740/7740 [==============================] - 1s 83us/sample - loss: 1.8240 - val_loss: 1.1055\n",
            "Epoch 2/100\n",
            "7740/7740 [==============================] - 0s 64us/sample - loss: 0.7798 - val_loss: 0.7130\n",
            "Epoch 3/100\n",
            "7740/7740 [==============================] - 0s 64us/sample - loss: 0.6660 - val_loss: 0.6110\n",
            "Epoch 4/100\n",
            "7740/7740 [==============================] - 1s 66us/sample - loss: 0.6117 - val_loss: 0.5613\n",
            "Epoch 5/100\n",
            "7740/7740 [==============================] - 0s 64us/sample - loss: 0.5713 - val_loss: 0.5309\n",
            "Epoch 6/100\n",
            "7740/7740 [==============================] - 0s 64us/sample - loss: 0.5362 - val_loss: 0.4982\n",
            "Epoch 7/100\n",
            "7740/7740 [==============================] - 0s 63us/sample - loss: 0.5063 - val_loss: 0.4786\n",
            "Epoch 8/100\n",
            "7740/7740 [==============================] - 1s 66us/sample - loss: 0.4794 - val_loss: 0.4614\n",
            "Epoch 9/100\n",
            "7740/7740 [==============================] - 1s 66us/sample - loss: 0.4563 - val_loss: 0.4421\n",
            "Epoch 10/100\n",
            "7740/7740 [==============================] - 0s 64us/sample - loss: 0.4374 - val_loss: 0.4272\n",
            "Epoch 11/100\n",
            "7740/7740 [==============================] - 0s 63us/sample - loss: 0.4229 - val_loss: 0.4189\n",
            "Epoch 12/100\n",
            "7740/7740 [==============================] - 0s 62us/sample - loss: 0.4106 - val_loss: 0.4311\n",
            "Epoch 13/100\n",
            "7740/7740 [==============================] - 0s 63us/sample - loss: 0.4015 - val_loss: 0.4063\n",
            "Epoch 14/100\n",
            "7740/7740 [==============================] - 0s 64us/sample - loss: 0.3943 - val_loss: 0.4307\n",
            "Epoch 15/100\n",
            "7740/7740 [==============================] - 0s 64us/sample - loss: 0.3879 - val_loss: 0.3936\n",
            "Epoch 16/100\n",
            "7740/7740 [==============================] - 1s 67us/sample - loss: 0.3834 - val_loss: 0.4039\n",
            "Epoch 17/100\n",
            "7740/7740 [==============================] - 0s 64us/sample - loss: 0.3784 - val_loss: 0.4064\n",
            "Epoch 18/100\n",
            "7740/7740 [==============================] - 0s 62us/sample - loss: 0.3755 - val_loss: 0.3935\n",
            "Epoch 19/100\n",
            "7740/7740 [==============================] - 0s 64us/sample - loss: 0.3718 - val_loss: 0.3867\n",
            "Epoch 20/100\n",
            "7740/7740 [==============================] - 0s 64us/sample - loss: 0.3685 - val_loss: 0.3768\n",
            "Epoch 21/100\n",
            "7740/7740 [==============================] - 0s 62us/sample - loss: 0.3661 - val_loss: 0.3714\n",
            "Epoch 22/100\n",
            "7740/7740 [==============================] - 0s 64us/sample - loss: 0.3628 - val_loss: 0.3655\n",
            "Epoch 23/100\n",
            "7740/7740 [==============================] - 0s 62us/sample - loss: 0.3609 - val_loss: 0.4070\n",
            "Epoch 24/100\n",
            "7740/7740 [==============================] - 0s 63us/sample - loss: 0.3588 - val_loss: 0.3683\n",
            "Epoch 25/100\n",
            "7740/7740 [==============================] - 0s 63us/sample - loss: 0.3558 - val_loss: 0.4023\n",
            "Epoch 26/100\n",
            "7740/7740 [==============================] - 1s 65us/sample - loss: 0.3541 - val_loss: 0.3610\n",
            "Epoch 27/100\n",
            "7740/7740 [==============================] - 1s 65us/sample - loss: 0.3519 - val_loss: 0.3566\n",
            "Epoch 28/100\n",
            "7740/7740 [==============================] - 0s 64us/sample - loss: 0.3498 - val_loss: 0.4192\n",
            "Epoch 29/100\n",
            "7740/7740 [==============================] - 1s 65us/sample - loss: 0.3483 - val_loss: 0.3539\n",
            "Epoch 30/100\n",
            "7740/7740 [==============================] - 1s 65us/sample - loss: 0.3466 - val_loss: 0.3846\n",
            "Epoch 31/100\n",
            "7740/7740 [==============================] - 1s 65us/sample - loss: 0.3441 - val_loss: 0.3566\n",
            "Epoch 32/100\n",
            "7740/7740 [==============================] - 1s 65us/sample - loss: 0.3432 - val_loss: 0.3471\n",
            "Epoch 33/100\n",
            "7740/7740 [==============================] - 1s 65us/sample - loss: 0.3414 - val_loss: 0.3991\n",
            "Epoch 34/100\n",
            "7740/7740 [==============================] - 1s 66us/sample - loss: 0.3401 - val_loss: 0.4083\n",
            "Epoch 35/100\n",
            "7740/7740 [==============================] - 0s 63us/sample - loss: 0.3390 - val_loss: 0.3719\n",
            "Epoch 36/100\n",
            "7740/7740 [==============================] - 0s 63us/sample - loss: 0.3372 - val_loss: 0.3945\n",
            "Epoch 37/100\n",
            "7740/7740 [==============================] - 1s 65us/sample - loss: 0.3358 - val_loss: 0.3618\n",
            "Epoch 38/100\n",
            "7740/7740 [==============================] - 1s 65us/sample - loss: 0.3337 - val_loss: 0.3725\n",
            "Epoch 39/100\n",
            "7740/7740 [==============================] - 1s 65us/sample - loss: 0.3325 - val_loss: 0.4082\n",
            "Epoch 40/100\n",
            "7740/7740 [==============================] - 1s 65us/sample - loss: 0.3323 - val_loss: 0.3338\n",
            "Epoch 41/100\n",
            "7740/7740 [==============================] - 1s 65us/sample - loss: 0.3301 - val_loss: 0.3612\n",
            "Epoch 42/100\n",
            "7740/7740 [==============================] - 0s 64us/sample - loss: 0.3293 - val_loss: 0.3326\n",
            "Epoch 43/100\n",
            "7740/7740 [==============================] - 0s 64us/sample - loss: 0.3279 - val_loss: 0.3921\n",
            "Epoch 44/100\n",
            "7740/7740 [==============================] - 1s 65us/sample - loss: 0.3265 - val_loss: 0.4088\n",
            "Epoch 45/100\n",
            "7740/7740 [==============================] - 1s 65us/sample - loss: 0.3258 - val_loss: 0.3667\n",
            "Epoch 46/100\n",
            "7740/7740 [==============================] - 1s 65us/sample - loss: 0.3246 - val_loss: 0.3810\n",
            "Epoch 47/100\n",
            "7740/7740 [==============================] - 1s 65us/sample - loss: 0.3232 - val_loss: 0.3568\n",
            "Epoch 48/100\n",
            "7740/7740 [==============================] - 1s 65us/sample - loss: 0.3224 - val_loss: 0.3414\n",
            "Epoch 49/100\n",
            "7740/7740 [==============================] - 1s 66us/sample - loss: 0.3207 - val_loss: 0.3508\n",
            "Epoch 50/100\n",
            "7740/7740 [==============================] - 0s 64us/sample - loss: 0.3199 - val_loss: 0.3160\n",
            "Epoch 51/100\n",
            "7740/7740 [==============================] - 0s 64us/sample - loss: 0.3186 - val_loss: 0.3932\n",
            "Epoch 52/100\n",
            "7740/7740 [==============================] - 1s 65us/sample - loss: 0.3183 - val_loss: 0.3415\n",
            "Epoch 53/100\n",
            "7740/7740 [==============================] - 1s 65us/sample - loss: 0.3169 - val_loss: 0.3467\n",
            "Epoch 54/100\n",
            "7740/7740 [==============================] - 1s 65us/sample - loss: 0.3162 - val_loss: 0.3196\n",
            "Epoch 55/100\n",
            "7740/7740 [==============================] - 0s 64us/sample - loss: 0.3151 - val_loss: 0.3546\n",
            "Epoch 56/100\n",
            "7740/7740 [==============================] - 0s 64us/sample - loss: 0.3144 - val_loss: 0.3132\n",
            "Epoch 57/100\n",
            "7740/7740 [==============================] - 0s 64us/sample - loss: 0.3126 - val_loss: 0.3868\n",
            "Epoch 58/100\n",
            "7740/7740 [==============================] - 0s 64us/sample - loss: 0.3121 - val_loss: 0.3101\n",
            "Epoch 59/100\n",
            "7740/7740 [==============================] - 0s 64us/sample - loss: 0.3117 - val_loss: 0.3621\n",
            "Epoch 60/100\n",
            "7740/7740 [==============================] - 1s 66us/sample - loss: 0.3107 - val_loss: 0.3353\n",
            "Epoch 61/100\n",
            "7740/7740 [==============================] - 1s 65us/sample - loss: 0.3090 - val_loss: 0.3117\n",
            "Epoch 62/100\n",
            "7740/7740 [==============================] - 0s 64us/sample - loss: 0.3086 - val_loss: 0.3229\n",
            "Epoch 63/100\n",
            "7740/7740 [==============================] - 0s 64us/sample - loss: 0.3077 - val_loss: 0.3005\n",
            "Epoch 64/100\n",
            "7740/7740 [==============================] - 0s 64us/sample - loss: 0.3068 - val_loss: 0.3073\n",
            "Epoch 65/100\n",
            "7740/7740 [==============================] - 0s 63us/sample - loss: 0.3064 - val_loss: 0.3053\n",
            "Epoch 66/100\n",
            "7740/7740 [==============================] - 0s 64us/sample - loss: 0.3048 - val_loss: 0.3686\n",
            "Epoch 67/100\n",
            "7740/7740 [==============================] - 0s 64us/sample - loss: 0.3051 - val_loss: 0.2982\n",
            "Epoch 68/100\n",
            "7740/7740 [==============================] - 1s 67us/sample - loss: 0.3039 - val_loss: 0.3074\n",
            "Epoch 69/100\n",
            "7740/7740 [==============================] - 1s 65us/sample - loss: 0.3035 - val_loss: 0.2971\n",
            "Epoch 70/100\n",
            "7740/7740 [==============================] - 1s 66us/sample - loss: 0.3020 - val_loss: 0.3413\n",
            "Epoch 71/100\n",
            "7740/7740 [==============================] - 0s 64us/sample - loss: 0.3023 - val_loss: 0.2950\n",
            "Epoch 72/100\n",
            "7740/7740 [==============================] - 1s 67us/sample - loss: 0.3010 - val_loss: 0.3171\n",
            "Epoch 73/100\n",
            "7740/7740 [==============================] - 1s 66us/sample - loss: 0.3000 - val_loss: 0.2934\n",
            "Epoch 74/100\n",
            "7740/7740 [==============================] - 1s 66us/sample - loss: 0.2992 - val_loss: 0.3069\n",
            "Epoch 75/100\n",
            "7740/7740 [==============================] - 1s 65us/sample - loss: 0.2989 - val_loss: 0.2971\n",
            "Epoch 76/100\n",
            "7740/7740 [==============================] - 1s 65us/sample - loss: 0.2979 - val_loss: 0.2970\n",
            "Epoch 77/100\n",
            "7740/7740 [==============================] - 1s 67us/sample - loss: 0.2972 - val_loss: 0.3673\n",
            "Epoch 78/100\n",
            "7740/7740 [==============================] - 0s 64us/sample - loss: 0.2967 - val_loss: 0.3088\n",
            "Epoch 79/100\n",
            "7740/7740 [==============================] - 0s 64us/sample - loss: 0.2971 - val_loss: 0.3362\n",
            "Epoch 80/100\n",
            "7740/7740 [==============================] - 0s 63us/sample - loss: 0.2948 - val_loss: 0.3254\n",
            "Epoch 81/100\n",
            "7740/7740 [==============================] - 0s 63us/sample - loss: 0.2936 - val_loss: 0.3314\n",
            "Epoch 82/100\n",
            "7740/7740 [==============================] - 0s 64us/sample - loss: 0.2944 - val_loss: 0.3436\n",
            "Epoch 83/100\n",
            "7740/7740 [==============================] - 0s 64us/sample - loss: 0.2937 - val_loss: 0.3030\n",
            "3870/3870 [==============================] - 0s 30us/sample - loss: 0.3120\n",
            "7740/7740 [==============================] - 0s 30us/sample - loss: 0.2924\n",
            "[CV]  learning_rate=0.0014348734383753808, n_hidden=3, n_neurons=81, total=  42.2s\n",
            "[CV] learning_rate=0.002367221176917048, n_hidden=2, n_neurons=21 ....\n",
            "Train on 7740 samples, validate on 3870 samples\n",
            "Epoch 1/100\n",
            "7740/7740 [==============================] - 1s 73us/sample - loss: 1.5244 - val_loss: 3.4168\n",
            "Epoch 2/100\n",
            "7740/7740 [==============================] - 0s 53us/sample - loss: 0.7166 - val_loss: 0.6878\n",
            "Epoch 3/100\n",
            "7740/7740 [==============================] - 0s 53us/sample - loss: 0.5972 - val_loss: 0.5320\n",
            "Epoch 4/100\n",
            "7740/7740 [==============================] - 0s 53us/sample - loss: 0.5406 - val_loss: 0.4797\n",
            "Epoch 5/100\n",
            "7740/7740 [==============================] - 0s 53us/sample - loss: 0.5002 - val_loss: 0.4482\n",
            "Epoch 6/100\n",
            "7740/7740 [==============================] - 0s 53us/sample - loss: 0.4694 - val_loss: 0.4271\n",
            "Epoch 7/100\n",
            "7740/7740 [==============================] - 0s 52us/sample - loss: 0.4482 - val_loss: 0.4157\n",
            "Epoch 8/100\n",
            "7740/7740 [==============================] - 0s 54us/sample - loss: 0.4324 - val_loss: 0.4139\n",
            "Epoch 9/100\n",
            "7740/7740 [==============================] - 0s 53us/sample - loss: 0.4195 - val_loss: 0.3995\n",
            "Epoch 10/100\n",
            "7740/7740 [==============================] - 0s 54us/sample - loss: 0.4101 - val_loss: 0.4026\n",
            "Epoch 11/100\n",
            "7740/7740 [==============================] - 0s 53us/sample - loss: 0.4023 - val_loss: 0.3882\n",
            "Epoch 12/100\n",
            "7740/7740 [==============================] - 0s 53us/sample - loss: 0.3951 - val_loss: 0.3889\n",
            "Epoch 13/100\n",
            "7740/7740 [==============================] - 0s 53us/sample - loss: 0.3899 - val_loss: 0.3901\n",
            "Epoch 14/100\n",
            "7740/7740 [==============================] - 0s 52us/sample - loss: 0.3836 - val_loss: 0.3725\n",
            "Epoch 15/100\n",
            "7740/7740 [==============================] - 0s 53us/sample - loss: 0.3797 - val_loss: 0.3695\n",
            "Epoch 16/100\n",
            "7740/7740 [==============================] - 0s 52us/sample - loss: 0.3765 - val_loss: 0.3793\n",
            "Epoch 17/100\n",
            "7740/7740 [==============================] - 0s 53us/sample - loss: 0.3746 - val_loss: 0.3713\n",
            "Epoch 18/100\n",
            "7740/7740 [==============================] - 0s 55us/sample - loss: 0.3728 - val_loss: 0.3652\n",
            "Epoch 19/100\n",
            "7740/7740 [==============================] - 0s 52us/sample - loss: 0.3679 - val_loss: 0.3636\n",
            "Epoch 20/100\n",
            "7740/7740 [==============================] - 0s 55us/sample - loss: 0.3666 - val_loss: 0.3812\n",
            "Epoch 21/100\n",
            "7740/7740 [==============================] - 0s 52us/sample - loss: 0.3653 - val_loss: 0.3850\n",
            "Epoch 22/100\n",
            "7740/7740 [==============================] - 0s 52us/sample - loss: 0.3609 - val_loss: 0.3606\n",
            "Epoch 23/100\n",
            "7740/7740 [==============================] - 0s 53us/sample - loss: 0.3611 - val_loss: 0.3838\n",
            "Epoch 24/100\n",
            "7740/7740 [==============================] - 0s 53us/sample - loss: 0.3596 - val_loss: 0.3590\n",
            "Epoch 25/100\n",
            "7740/7740 [==============================] - 0s 55us/sample - loss: 0.3583 - val_loss: 0.3612\n",
            "Epoch 26/100\n",
            "7740/7740 [==============================] - 0s 52us/sample - loss: 0.3547 - val_loss: 0.3575\n",
            "Epoch 27/100\n",
            "7740/7740 [==============================] - 0s 52us/sample - loss: 0.3535 - val_loss: 0.3706\n",
            "Epoch 28/100\n",
            "7740/7740 [==============================] - 0s 55us/sample - loss: 0.3527 - val_loss: 0.3753\n",
            "Epoch 29/100\n",
            "7740/7740 [==============================] - 0s 54us/sample - loss: 0.3524 - val_loss: 0.3661\n",
            "Epoch 30/100\n",
            "7740/7740 [==============================] - 0s 54us/sample - loss: 0.3505 - val_loss: 0.3908\n",
            "Epoch 31/100\n",
            "7740/7740 [==============================] - 0s 53us/sample - loss: 0.3508 - val_loss: 0.3701\n",
            "Epoch 32/100\n",
            "7740/7740 [==============================] - 0s 53us/sample - loss: 0.3482 - val_loss: 0.3598\n",
            "Epoch 33/100\n",
            "7740/7740 [==============================] - 0s 52us/sample - loss: 0.3455 - val_loss: 0.3624\n",
            "Epoch 34/100\n",
            "7740/7740 [==============================] - 0s 52us/sample - loss: 0.3461 - val_loss: 0.3503\n",
            "Epoch 35/100\n",
            "7740/7740 [==============================] - 0s 53us/sample - loss: 0.3450 - val_loss: 0.3580\n",
            "Epoch 36/100\n",
            "7740/7740 [==============================] - 0s 52us/sample - loss: 0.3425 - val_loss: 0.3493\n",
            "Epoch 37/100\n",
            "7740/7740 [==============================] - 0s 53us/sample - loss: 0.3417 - val_loss: 0.3546\n",
            "Epoch 38/100\n",
            "7740/7740 [==============================] - 0s 53us/sample - loss: 0.3414 - val_loss: 0.3623\n",
            "Epoch 39/100\n",
            "7740/7740 [==============================] - 0s 52us/sample - loss: 0.3408 - val_loss: 0.3532\n",
            "Epoch 40/100\n",
            "7740/7740 [==============================] - 0s 52us/sample - loss: 0.3409 - val_loss: 0.3571\n",
            "Epoch 41/100\n",
            "7740/7740 [==============================] - 0s 51us/sample - loss: 0.3390 - val_loss: 0.3544\n",
            "Epoch 42/100\n",
            "7740/7740 [==============================] - 0s 52us/sample - loss: 0.3380 - val_loss: 0.3582\n",
            "Epoch 43/100\n",
            "7740/7740 [==============================] - 0s 53us/sample - loss: 0.3358 - val_loss: 0.3578\n",
            "Epoch 44/100\n",
            "7740/7740 [==============================] - 0s 53us/sample - loss: 0.3369 - val_loss: 0.3510\n",
            "Epoch 45/100\n",
            "7740/7740 [==============================] - 0s 53us/sample - loss: 0.3349 - val_loss: 0.3540\n",
            "Epoch 46/100\n",
            "7740/7740 [==============================] - 0s 53us/sample - loss: 0.3340 - val_loss: 0.3439\n",
            "Epoch 47/100\n",
            "7740/7740 [==============================] - 0s 53us/sample - loss: 0.3340 - val_loss: 0.3455\n",
            "Epoch 48/100\n",
            "7740/7740 [==============================] - 0s 53us/sample - loss: 0.3333 - val_loss: 0.3460\n",
            "Epoch 49/100\n",
            "7740/7740 [==============================] - 0s 52us/sample - loss: 0.3317 - val_loss: 0.3404\n",
            "Epoch 50/100\n",
            "7740/7740 [==============================] - 0s 54us/sample - loss: 0.3308 - val_loss: 0.3442\n",
            "Epoch 51/100\n",
            "7740/7740 [==============================] - 0s 52us/sample - loss: 0.3302 - val_loss: 0.3454\n",
            "Epoch 52/100\n",
            "7740/7740 [==============================] - 0s 54us/sample - loss: 0.3287 - val_loss: 0.3428\n",
            "Epoch 53/100\n",
            "7740/7740 [==============================] - 0s 54us/sample - loss: 0.3302 - val_loss: 0.3389\n",
            "Epoch 54/100\n",
            "7740/7740 [==============================] - 0s 52us/sample - loss: 0.3292 - val_loss: 0.3368\n",
            "Epoch 55/100\n",
            "7740/7740 [==============================] - 0s 54us/sample - loss: 0.3276 - val_loss: 0.3430\n",
            "Epoch 56/100\n",
            "7740/7740 [==============================] - 0s 52us/sample - loss: 0.3273 - val_loss: 0.3478\n",
            "Epoch 57/100\n",
            "7740/7740 [==============================] - 0s 53us/sample - loss: 0.3249 - val_loss: 0.3525\n",
            "Epoch 58/100\n",
            "7740/7740 [==============================] - 0s 53us/sample - loss: 0.3256 - val_loss: 0.3488\n",
            "Epoch 59/100\n",
            "7740/7740 [==============================] - 0s 52us/sample - loss: 0.3244 - val_loss: 0.3502\n",
            "Epoch 60/100\n",
            "7740/7740 [==============================] - 0s 53us/sample - loss: 0.3245 - val_loss: 0.3443\n",
            "Epoch 61/100\n",
            "7740/7740 [==============================] - 0s 53us/sample - loss: 0.3232 - val_loss: 0.3469\n",
            "Epoch 62/100\n",
            "7740/7740 [==============================] - 0s 54us/sample - loss: 0.3226 - val_loss: 0.3547\n",
            "Epoch 63/100\n",
            "7740/7740 [==============================] - 0s 56us/sample - loss: 0.3226 - val_loss: 0.3448\n",
            "Epoch 64/100\n",
            "7740/7740 [==============================] - 0s 53us/sample - loss: 0.3218 - val_loss: 0.3363\n",
            "Epoch 65/100\n",
            "7740/7740 [==============================] - 0s 53us/sample - loss: 0.3213 - val_loss: 0.3343\n",
            "Epoch 66/100\n",
            "7740/7740 [==============================] - 0s 54us/sample - loss: 0.3208 - val_loss: 0.3312\n",
            "Epoch 67/100\n",
            "7740/7740 [==============================] - 0s 52us/sample - loss: 0.3201 - val_loss: 0.3300\n",
            "Epoch 68/100\n",
            "7740/7740 [==============================] - 0s 53us/sample - loss: 0.3198 - val_loss: 0.3316\n",
            "Epoch 69/100\n",
            "7740/7740 [==============================] - 0s 52us/sample - loss: 0.3195 - val_loss: 0.3390\n",
            "Epoch 70/100\n",
            "7740/7740 [==============================] - 0s 54us/sample - loss: 0.3185 - val_loss: 0.3420\n",
            "Epoch 71/100\n",
            "7740/7740 [==============================] - 0s 52us/sample - loss: 0.3179 - val_loss: 0.3351\n",
            "Epoch 72/100\n",
            "7740/7740 [==============================] - 0s 53us/sample - loss: 0.3180 - val_loss: 0.3452\n",
            "Epoch 73/100\n",
            "7740/7740 [==============================] - 0s 53us/sample - loss: 0.3171 - val_loss: 0.3460\n",
            "Epoch 74/100\n",
            "7740/7740 [==============================] - 0s 53us/sample - loss: 0.3168 - val_loss: 0.3477\n",
            "Epoch 75/100\n",
            "7740/7740 [==============================] - 0s 53us/sample - loss: 0.3159 - val_loss: 0.3494\n",
            "Epoch 76/100\n",
            "7740/7740 [==============================] - 0s 53us/sample - loss: 0.3160 - val_loss: 0.3347\n",
            "Epoch 77/100\n",
            "7740/7740 [==============================] - 0s 51us/sample - loss: 0.3155 - val_loss: 0.3325\n",
            "3870/3870 [==============================] - 0s 24us/sample - loss: 0.3467\n",
            "7740/7740 [==============================] - 0s 23us/sample - loss: 0.3161\n",
            "[CV]  learning_rate=0.002367221176917048, n_hidden=2, n_neurons=21, total=  32.4s\n",
            "[CV] learning_rate=0.002367221176917048, n_hidden=2, n_neurons=21 ....\n",
            "Train on 7740 samples, validate on 3870 samples\n",
            "Epoch 1/100\n",
            "7740/7740 [==============================] - 1s 71us/sample - loss: 1.9085 - val_loss: 8.8719\n",
            "Epoch 2/100\n",
            "7740/7740 [==============================] - 0s 56us/sample - loss: 0.8037 - val_loss: 2.8621\n",
            "Epoch 3/100\n",
            "7740/7740 [==============================] - 0s 52us/sample - loss: 0.6466 - val_loss: 1.6228\n",
            "Epoch 4/100\n",
            "7740/7740 [==============================] - 0s 53us/sample - loss: 0.5728 - val_loss: 1.3209\n",
            "Epoch 5/100\n",
            "7740/7740 [==============================] - 0s 52us/sample - loss: 0.5204 - val_loss: 1.0834\n",
            "Epoch 6/100\n",
            "7740/7740 [==============================] - 0s 54us/sample - loss: 0.4842 - val_loss: 1.0393\n",
            "Epoch 7/100\n",
            "7740/7740 [==============================] - 0s 52us/sample - loss: 0.4572 - val_loss: 1.1486\n",
            "Epoch 8/100\n",
            "7740/7740 [==============================] - 0s 52us/sample - loss: 0.4380 - val_loss: 1.0166\n",
            "Epoch 9/100\n",
            "7740/7740 [==============================] - 0s 52us/sample - loss: 0.4231 - val_loss: 1.1458\n",
            "Epoch 10/100\n",
            "7740/7740 [==============================] - 0s 52us/sample - loss: 0.4119 - val_loss: 1.0394\n",
            "Epoch 11/100\n",
            "7740/7740 [==============================] - 0s 52us/sample - loss: 0.4043 - val_loss: 1.1916\n",
            "Epoch 12/100\n",
            "7740/7740 [==============================] - 0s 54us/sample - loss: 0.3972 - val_loss: 1.2391\n",
            "Epoch 13/100\n",
            "7740/7740 [==============================] - 0s 53us/sample - loss: 0.3929 - val_loss: 1.1703\n",
            "Epoch 14/100\n",
            "7740/7740 [==============================] - 0s 55us/sample - loss: 0.3878 - val_loss: 1.2076\n",
            "Epoch 15/100\n",
            "7740/7740 [==============================] - 0s 52us/sample - loss: 0.3842 - val_loss: 1.3306\n",
            "Epoch 16/100\n",
            "7740/7740 [==============================] - 0s 53us/sample - loss: 0.3808 - val_loss: 1.4082\n",
            "Epoch 17/100\n",
            "7740/7740 [==============================] - 0s 53us/sample - loss: 0.3770 - val_loss: 1.3266\n",
            "Epoch 18/100\n",
            "7740/7740 [==============================] - 0s 51us/sample - loss: 0.3752 - val_loss: 1.4458\n",
            "3870/3870 [==============================] - 0s 24us/sample - loss: 0.3984\n",
            "7740/7740 [==============================] - 0s 23us/sample - loss: 0.3703\n",
            "[CV]  learning_rate=0.002367221176917048, n_hidden=2, n_neurons=21, total=   8.1s\n",
            "[CV] learning_rate=0.002367221176917048, n_hidden=2, n_neurons=21 ....\n",
            "Train on 7740 samples, validate on 3870 samples\n",
            "Epoch 1/100\n",
            "7740/7740 [==============================] - 1s 76us/sample - loss: 1.4494 - val_loss: 0.6710\n",
            "Epoch 2/100\n",
            "7740/7740 [==============================] - 0s 52us/sample - loss: 0.6208 - val_loss: 0.5709\n",
            "Epoch 3/100\n",
            "7740/7740 [==============================] - 0s 55us/sample - loss: 0.5519 - val_loss: 0.5224\n",
            "Epoch 4/100\n",
            "7740/7740 [==============================] - 0s 54us/sample - loss: 0.5103 - val_loss: 0.4918\n",
            "Epoch 5/100\n",
            "7740/7740 [==============================] - 0s 55us/sample - loss: 0.4816 - val_loss: 0.4650\n",
            "Epoch 6/100\n",
            "7740/7740 [==============================] - 0s 52us/sample - loss: 0.4604 - val_loss: 0.4496\n",
            "Epoch 7/100\n",
            "7740/7740 [==============================] - 0s 53us/sample - loss: 0.4438 - val_loss: 0.4276\n",
            "Epoch 8/100\n",
            "7740/7740 [==============================] - 0s 53us/sample - loss: 0.4318 - val_loss: 0.4350\n",
            "Epoch 9/100\n",
            "7740/7740 [==============================] - 0s 51us/sample - loss: 0.4213 - val_loss: 0.4285\n",
            "Epoch 10/100\n",
            "7740/7740 [==============================] - 0s 53us/sample - loss: 0.4132 - val_loss: 0.4122\n",
            "Epoch 11/100\n",
            "7740/7740 [==============================] - 0s 53us/sample - loss: 0.4053 - val_loss: 0.4166\n",
            "Epoch 12/100\n",
            "7740/7740 [==============================] - 0s 54us/sample - loss: 0.4003 - val_loss: 0.4401\n",
            "Epoch 13/100\n",
            "7740/7740 [==============================] - 0s 53us/sample - loss: 0.3960 - val_loss: 0.3820\n",
            "Epoch 14/100\n",
            "7740/7740 [==============================] - 0s 52us/sample - loss: 0.3919 - val_loss: 0.4405\n",
            "Epoch 15/100\n",
            "7740/7740 [==============================] - 0s 53us/sample - loss: 0.3892 - val_loss: 0.4112\n",
            "Epoch 16/100\n",
            "7740/7740 [==============================] - 0s 53us/sample - loss: 0.3859 - val_loss: 0.3811\n",
            "Epoch 17/100\n",
            "7740/7740 [==============================] - 0s 53us/sample - loss: 0.3835 - val_loss: 0.3769\n",
            "Epoch 18/100\n",
            "7740/7740 [==============================] - 0s 52us/sample - loss: 0.3816 - val_loss: 0.3745\n",
            "Epoch 19/100\n",
            "7740/7740 [==============================] - 0s 52us/sample - loss: 0.3785 - val_loss: 0.4009\n",
            "Epoch 20/100\n",
            "7740/7740 [==============================] - 0s 53us/sample - loss: 0.3772 - val_loss: 0.3709\n",
            "Epoch 21/100\n",
            "7740/7740 [==============================] - 0s 52us/sample - loss: 0.3751 - val_loss: 0.3989\n",
            "Epoch 22/100\n",
            "7740/7740 [==============================] - 0s 52us/sample - loss: 0.3736 - val_loss: 0.3871\n",
            "Epoch 23/100\n",
            "7740/7740 [==============================] - 0s 53us/sample - loss: 0.3717 - val_loss: 0.3692\n",
            "Epoch 24/100\n",
            "7740/7740 [==============================] - 0s 53us/sample - loss: 0.3702 - val_loss: 0.4142\n",
            "Epoch 25/100\n",
            "7740/7740 [==============================] - 0s 54us/sample - loss: 0.3684 - val_loss: 0.3603\n",
            "Epoch 26/100\n",
            "7740/7740 [==============================] - 0s 53us/sample - loss: 0.3670 - val_loss: 0.3886\n",
            "Epoch 27/100\n",
            "7740/7740 [==============================] - 0s 54us/sample - loss: 0.3662 - val_loss: 0.3724\n",
            "Epoch 28/100\n",
            "7740/7740 [==============================] - 0s 52us/sample - loss: 0.3646 - val_loss: 0.3832\n",
            "Epoch 29/100\n",
            "7740/7740 [==============================] - 0s 54us/sample - loss: 0.3635 - val_loss: 0.3480\n",
            "Epoch 30/100\n",
            "7740/7740 [==============================] - 0s 53us/sample - loss: 0.3625 - val_loss: 0.3667\n",
            "Epoch 31/100\n",
            "7740/7740 [==============================] - 0s 53us/sample - loss: 0.3610 - val_loss: 0.4068\n",
            "Epoch 32/100\n",
            "7740/7740 [==============================] - 0s 53us/sample - loss: 0.3601 - val_loss: 0.3687\n",
            "Epoch 33/100\n",
            "7740/7740 [==============================] - 0s 53us/sample - loss: 0.3588 - val_loss: 0.3795\n",
            "Epoch 34/100\n",
            "7740/7740 [==============================] - 0s 53us/sample - loss: 0.3579 - val_loss: 0.3426\n",
            "Epoch 35/100\n",
            "7740/7740 [==============================] - 0s 53us/sample - loss: 0.3575 - val_loss: 0.3863\n",
            "Epoch 36/100\n",
            "7740/7740 [==============================] - 0s 53us/sample - loss: 0.3566 - val_loss: 0.3450\n",
            "Epoch 37/100\n",
            "7740/7740 [==============================] - 0s 53us/sample - loss: 0.3554 - val_loss: 0.3616\n",
            "Epoch 38/100\n",
            "7740/7740 [==============================] - 0s 53us/sample - loss: 0.3546 - val_loss: 0.3593\n",
            "Epoch 39/100\n",
            "7740/7740 [==============================] - 0s 53us/sample - loss: 0.3542 - val_loss: 0.3758\n",
            "Epoch 40/100\n",
            "7740/7740 [==============================] - 0s 53us/sample - loss: 0.3533 - val_loss: 0.3388\n",
            "Epoch 41/100\n",
            "7740/7740 [==============================] - 0s 53us/sample - loss: 0.3523 - val_loss: 0.3661\n",
            "Epoch 42/100\n",
            "7740/7740 [==============================] - 0s 53us/sample - loss: 0.3521 - val_loss: 0.3523\n",
            "Epoch 43/100\n",
            "7740/7740 [==============================] - 0s 53us/sample - loss: 0.3507 - val_loss: 0.3854\n",
            "Epoch 44/100\n",
            "7740/7740 [==============================] - 0s 53us/sample - loss: 0.3506 - val_loss: 0.3385\n",
            "Epoch 45/100\n",
            "7740/7740 [==============================] - 0s 52us/sample - loss: 0.3495 - val_loss: 0.3723\n",
            "Epoch 46/100\n",
            "7740/7740 [==============================] - 0s 53us/sample - loss: 0.3491 - val_loss: 0.3844\n",
            "Epoch 47/100\n",
            "7740/7740 [==============================] - 0s 53us/sample - loss: 0.3486 - val_loss: 0.3509\n",
            "Epoch 48/100\n",
            "7740/7740 [==============================] - 0s 54us/sample - loss: 0.3479 - val_loss: 0.3382\n",
            "Epoch 49/100\n",
            "7740/7740 [==============================] - 0s 52us/sample - loss: 0.3470 - val_loss: 0.3402\n",
            "Epoch 50/100\n",
            "7740/7740 [==============================] - 0s 53us/sample - loss: 0.3466 - val_loss: 0.3583\n",
            "Epoch 51/100\n",
            "7740/7740 [==============================] - 0s 54us/sample - loss: 0.3465 - val_loss: 0.3939\n",
            "Epoch 52/100\n",
            "7740/7740 [==============================] - 0s 52us/sample - loss: 0.3452 - val_loss: 0.3367\n",
            "Epoch 53/100\n",
            "7740/7740 [==============================] - 0s 53us/sample - loss: 0.3454 - val_loss: 0.3345\n",
            "Epoch 54/100\n",
            "7740/7740 [==============================] - 0s 56us/sample - loss: 0.3442 - val_loss: 0.3652\n",
            "Epoch 55/100\n",
            "7740/7740 [==============================] - 0s 52us/sample - loss: 0.3440 - val_loss: 0.3657\n",
            "Epoch 56/100\n",
            "7740/7740 [==============================] - 0s 54us/sample - loss: 0.3439 - val_loss: 0.3318\n",
            "Epoch 57/100\n",
            "7740/7740 [==============================] - 0s 54us/sample - loss: 0.3437 - val_loss: 0.3390\n",
            "Epoch 58/100\n",
            "7740/7740 [==============================] - 0s 52us/sample - loss: 0.3421 - val_loss: 0.3309\n",
            "Epoch 59/100\n",
            "7740/7740 [==============================] - 0s 54us/sample - loss: 0.3420 - val_loss: 0.3941\n",
            "Epoch 60/100\n",
            "7740/7740 [==============================] - 0s 52us/sample - loss: 0.3420 - val_loss: 0.3291\n",
            "Epoch 61/100\n",
            "7740/7740 [==============================] - 0s 53us/sample - loss: 0.3409 - val_loss: 0.3665\n",
            "Epoch 62/100\n",
            "7740/7740 [==============================] - 0s 52us/sample - loss: 0.3406 - val_loss: 0.3487\n",
            "Epoch 63/100\n",
            "7740/7740 [==============================] - 0s 55us/sample - loss: 0.3398 - val_loss: 0.4755\n",
            "Epoch 64/100\n",
            "7740/7740 [==============================] - 0s 52us/sample - loss: 0.3414 - val_loss: 0.3842\n",
            "Epoch 65/100\n",
            "7740/7740 [==============================] - 0s 53us/sample - loss: 0.3396 - val_loss: 0.4558\n",
            "Epoch 66/100\n",
            "7740/7740 [==============================] - 0s 53us/sample - loss: 0.3388 - val_loss: 0.3886\n",
            "Epoch 67/100\n",
            "7740/7740 [==============================] - 0s 53us/sample - loss: 0.3389 - val_loss: 0.3996\n",
            "Epoch 68/100\n",
            "7740/7740 [==============================] - 0s 52us/sample - loss: 0.3373 - val_loss: 0.4067\n",
            "Epoch 69/100\n",
            "7740/7740 [==============================] - 0s 53us/sample - loss: 0.3381 - val_loss: 0.4244\n",
            "Epoch 70/100\n",
            "7740/7740 [==============================] - 0s 53us/sample - loss: 0.3377 - val_loss: 0.3322\n",
            "3870/3870 [==============================] - 0s 25us/sample - loss: 0.3421\n",
            "7740/7740 [==============================] - 0s 24us/sample - loss: 0.3358\n",
            "[CV]  learning_rate=0.002367221176917048, n_hidden=2, n_neurons=21, total=  29.9s\n",
            "[CV] learning_rate=0.0012710173398986133, n_hidden=1, n_neurons=6 ....\n",
            "Train on 7740 samples, validate on 3870 samples\n",
            "Epoch 1/100\n",
            "7740/7740 [==============================] - 1s 68us/sample - loss: 4.1693 - val_loss: 2.6583\n",
            "Epoch 2/100\n",
            "7740/7740 [==============================] - 0s 48us/sample - loss: 1.8855 - val_loss: 1.6465\n",
            "Epoch 3/100\n",
            "7740/7740 [==============================] - 0s 47us/sample - loss: 1.4527 - val_loss: 1.3266\n",
            "Epoch 4/100\n",
            "7740/7740 [==============================] - 0s 47us/sample - loss: 1.2096 - val_loss: 1.0937\n",
            "Epoch 5/100\n",
            "7740/7740 [==============================] - 0s 46us/sample - loss: 1.0325 - val_loss: 0.9437\n",
            "Epoch 6/100\n",
            "7740/7740 [==============================] - 0s 47us/sample - loss: 0.9154 - val_loss: 0.8471\n",
            "Epoch 7/100\n",
            "7740/7740 [==============================] - 0s 47us/sample - loss: 0.8428 - val_loss: 0.7853\n",
            "Epoch 8/100\n",
            "7740/7740 [==============================] - 0s 48us/sample - loss: 0.7953 - val_loss: 0.7410\n",
            "Epoch 9/100\n",
            "7740/7740 [==============================] - 0s 48us/sample - loss: 0.7611 - val_loss: 0.7076\n",
            "Epoch 10/100\n",
            "7740/7740 [==============================] - 0s 48us/sample - loss: 0.7347 - val_loss: 0.6798\n",
            "Epoch 11/100\n",
            "7740/7740 [==============================] - 0s 48us/sample - loss: 0.7121 - val_loss: 0.6532\n",
            "Epoch 12/100\n",
            "7740/7740 [==============================] - 0s 47us/sample - loss: 0.6918 - val_loss: 0.6318\n",
            "Epoch 13/100\n",
            "7740/7740 [==============================] - 0s 47us/sample - loss: 0.6730 - val_loss: 0.6127\n",
            "Epoch 14/100\n",
            "7740/7740 [==============================] - 0s 48us/sample - loss: 0.6551 - val_loss: 0.5962\n",
            "Epoch 15/100\n",
            "7740/7740 [==============================] - 0s 48us/sample - loss: 0.6383 - val_loss: 0.5814\n",
            "Epoch 16/100\n",
            "7740/7740 [==============================] - 0s 47us/sample - loss: 0.6226 - val_loss: 0.5700\n",
            "Epoch 17/100\n",
            "7740/7740 [==============================] - 0s 47us/sample - loss: 0.6079 - val_loss: 0.5767\n",
            "Epoch 18/100\n",
            "7740/7740 [==============================] - 0s 47us/sample - loss: 0.5948 - val_loss: 0.5871\n",
            "Epoch 19/100\n",
            "7740/7740 [==============================] - 0s 47us/sample - loss: 0.5836 - val_loss: 0.6012\n",
            "Epoch 20/100\n",
            "7740/7740 [==============================] - 0s 49us/sample - loss: 0.5730 - val_loss: 0.6124\n",
            "Epoch 21/100\n",
            "7740/7740 [==============================] - 0s 48us/sample - loss: 0.5642 - val_loss: 0.5994\n",
            "Epoch 22/100\n",
            "7740/7740 [==============================] - 0s 47us/sample - loss: 0.5553 - val_loss: 0.6017\n",
            "Epoch 23/100\n",
            "7740/7740 [==============================] - 0s 49us/sample - loss: 0.5470 - val_loss: 0.5906\n",
            "Epoch 24/100\n",
            "7740/7740 [==============================] - 0s 48us/sample - loss: 0.5388 - val_loss: 0.5718\n",
            "Epoch 25/100\n",
            "7740/7740 [==============================] - 0s 47us/sample - loss: 0.5307 - val_loss: 0.5631\n",
            "Epoch 26/100\n",
            "7740/7740 [==============================] - 0s 50us/sample - loss: 0.5226 - val_loss: 0.5326\n",
            "Epoch 27/100\n",
            "7740/7740 [==============================] - 0s 47us/sample - loss: 0.5143 - val_loss: 0.5103\n",
            "Epoch 28/100\n",
            "7740/7740 [==============================] - 0s 47us/sample - loss: 0.5064 - val_loss: 0.4986\n",
            "Epoch 29/100\n",
            "7740/7740 [==============================] - 0s 49us/sample - loss: 0.4984 - val_loss: 0.4889\n",
            "Epoch 30/100\n",
            "7740/7740 [==============================] - 0s 47us/sample - loss: 0.4910 - val_loss: 0.4728\n",
            "Epoch 31/100\n",
            "7740/7740 [==============================] - 0s 49us/sample - loss: 0.4838 - val_loss: 0.4567\n",
            "Epoch 32/100\n",
            "7740/7740 [==============================] - 0s 48us/sample - loss: 0.4767 - val_loss: 0.4467\n",
            "Epoch 33/100\n",
            "7740/7740 [==============================] - 0s 47us/sample - loss: 0.4698 - val_loss: 0.4417\n",
            "Epoch 34/100\n",
            "7740/7740 [==============================] - 0s 48us/sample - loss: 0.4636 - val_loss: 0.4351\n",
            "Epoch 35/100\n",
            "7740/7740 [==============================] - 0s 47us/sample - loss: 0.4577 - val_loss: 0.4250\n",
            "Epoch 36/100\n",
            "7740/7740 [==============================] - 0s 46us/sample - loss: 0.4522 - val_loss: 0.4192\n",
            "Epoch 37/100\n",
            "7740/7740 [==============================] - 0s 47us/sample - loss: 0.4475 - val_loss: 0.4147\n",
            "Epoch 38/100\n",
            "7740/7740 [==============================] - 0s 47us/sample - loss: 0.4431 - val_loss: 0.4102\n",
            "Epoch 39/100\n",
            "7740/7740 [==============================] - 0s 49us/sample - loss: 0.4391 - val_loss: 0.4063\n",
            "Epoch 40/100\n",
            "7740/7740 [==============================] - 0s 49us/sample - loss: 0.4358 - val_loss: 0.4027\n",
            "Epoch 41/100\n",
            "7740/7740 [==============================] - 0s 50us/sample - loss: 0.4326 - val_loss: 0.4019\n",
            "Epoch 42/100\n",
            "7740/7740 [==============================] - 0s 48us/sample - loss: 0.4300 - val_loss: 0.3982\n",
            "Epoch 43/100\n",
            "7740/7740 [==============================] - 0s 48us/sample - loss: 0.4275 - val_loss: 0.3964\n",
            "Epoch 44/100\n",
            "7740/7740 [==============================] - 0s 47us/sample - loss: 0.4251 - val_loss: 0.3946\n",
            "Epoch 45/100\n",
            "7740/7740 [==============================] - 0s 48us/sample - loss: 0.4231 - val_loss: 0.3930\n",
            "Epoch 46/100\n",
            "7740/7740 [==============================] - 0s 48us/sample - loss: 0.4214 - val_loss: 0.3915\n",
            "Epoch 47/100\n",
            "7740/7740 [==============================] - 0s 48us/sample - loss: 0.4190 - val_loss: 0.3903\n",
            "Epoch 48/100\n",
            "7740/7740 [==============================] - 0s 47us/sample - loss: 0.4170 - val_loss: 0.3894\n",
            "Epoch 49/100\n",
            "7740/7740 [==============================] - 0s 48us/sample - loss: 0.4151 - val_loss: 0.3877\n",
            "Epoch 50/100\n",
            "7740/7740 [==============================] - 0s 48us/sample - loss: 0.4140 - val_loss: 0.3865\n",
            "Epoch 51/100\n",
            "7740/7740 [==============================] - 0s 47us/sample - loss: 0.4124 - val_loss: 0.3852\n",
            "Epoch 52/100\n",
            "7740/7740 [==============================] - 0s 47us/sample - loss: 0.4113 - val_loss: 0.3849\n",
            "Epoch 53/100\n",
            "7740/7740 [==============================] - 0s 47us/sample - loss: 0.4096 - val_loss: 0.3834\n",
            "Epoch 54/100\n",
            "7740/7740 [==============================] - 0s 47us/sample - loss: 0.4089 - val_loss: 0.3827\n",
            "Epoch 55/100\n",
            "7740/7740 [==============================] - 0s 47us/sample - loss: 0.4077 - val_loss: 0.3815\n",
            "Epoch 56/100\n",
            "7740/7740 [==============================] - 0s 48us/sample - loss: 0.4065 - val_loss: 0.3811\n",
            "Epoch 57/100\n",
            "7740/7740 [==============================] - 0s 49us/sample - loss: 0.4054 - val_loss: 0.3803\n",
            "Epoch 58/100\n",
            "7740/7740 [==============================] - 0s 49us/sample - loss: 0.4048 - val_loss: 0.3795\n",
            "Epoch 59/100\n",
            "7740/7740 [==============================] - 0s 48us/sample - loss: 0.4030 - val_loss: 0.3788\n",
            "Epoch 60/100\n",
            "7740/7740 [==============================] - 0s 49us/sample - loss: 0.4030 - val_loss: 0.3778\n",
            "Epoch 61/100\n",
            "7740/7740 [==============================] - 0s 48us/sample - loss: 0.4022 - val_loss: 0.3773\n",
            "Epoch 62/100\n",
            "7740/7740 [==============================] - 0s 47us/sample - loss: 0.4010 - val_loss: 0.3774\n",
            "Epoch 63/100\n",
            "7740/7740 [==============================] - 0s 48us/sample - loss: 0.4006 - val_loss: 0.3762\n",
            "Epoch 64/100\n",
            "7740/7740 [==============================] - 0s 47us/sample - loss: 0.3994 - val_loss: 0.3753\n",
            "Epoch 65/100\n",
            "7740/7740 [==============================] - 0s 48us/sample - loss: 0.3991 - val_loss: 0.3759\n",
            "Epoch 66/100\n",
            "7740/7740 [==============================] - 0s 50us/sample - loss: 0.3983 - val_loss: 0.3749\n",
            "Epoch 67/100\n",
            "7740/7740 [==============================] - 0s 48us/sample - loss: 0.3968 - val_loss: 0.3738\n",
            "Epoch 68/100\n",
            "7740/7740 [==============================] - 0s 48us/sample - loss: 0.3972 - val_loss: 0.3737\n",
            "Epoch 69/100\n",
            "7740/7740 [==============================] - 0s 50us/sample - loss: 0.3959 - val_loss: 0.3726\n",
            "Epoch 70/100\n",
            "7740/7740 [==============================] - 0s 48us/sample - loss: 0.3958 - val_loss: 0.3725\n",
            "Epoch 71/100\n",
            "7740/7740 [==============================] - 0s 48us/sample - loss: 0.3945 - val_loss: 0.3718\n",
            "Epoch 72/100\n",
            "7740/7740 [==============================] - 0s 48us/sample - loss: 0.3949 - val_loss: 0.3721\n",
            "Epoch 73/100\n",
            "7740/7740 [==============================] - 0s 48us/sample - loss: 0.3939 - val_loss: 0.3709\n",
            "Epoch 74/100\n",
            "7740/7740 [==============================] - 0s 49us/sample - loss: 0.3932 - val_loss: 0.3708\n",
            "Epoch 75/100\n",
            "7740/7740 [==============================] - 0s 48us/sample - loss: 0.3933 - val_loss: 0.3704\n",
            "Epoch 76/100\n",
            "7740/7740 [==============================] - 0s 47us/sample - loss: 0.3925 - val_loss: 0.3700\n",
            "Epoch 77/100\n",
            "7740/7740 [==============================] - 0s 48us/sample - loss: 0.3922 - val_loss: 0.3714\n",
            "Epoch 78/100\n",
            "7740/7740 [==============================] - 0s 47us/sample - loss: 0.3917 - val_loss: 0.3705\n",
            "Epoch 79/100\n",
            "7740/7740 [==============================] - 0s 49us/sample - loss: 0.3906 - val_loss: 0.3683\n",
            "Epoch 80/100\n",
            "7740/7740 [==============================] - 0s 48us/sample - loss: 0.3907 - val_loss: 0.3704\n",
            "Epoch 81/100\n",
            "7740/7740 [==============================] - 0s 48us/sample - loss: 0.3907 - val_loss: 0.3689\n",
            "Epoch 82/100\n",
            "7740/7740 [==============================] - 0s 49us/sample - loss: 0.3894 - val_loss: 0.3678\n",
            "Epoch 83/100\n",
            "7740/7740 [==============================] - 0s 48us/sample - loss: 0.3898 - val_loss: 0.3672\n",
            "Epoch 84/100\n",
            "7740/7740 [==============================] - 0s 48us/sample - loss: 0.3895 - val_loss: 0.3684\n",
            "Epoch 85/100\n",
            "7740/7740 [==============================] - 0s 50us/sample - loss: 0.3886 - val_loss: 0.3668\n",
            "Epoch 86/100\n",
            "7740/7740 [==============================] - 0s 48us/sample - loss: 0.3884 - val_loss: 0.3666\n",
            "Epoch 87/100\n",
            "7740/7740 [==============================] - 0s 48us/sample - loss: 0.3883 - val_loss: 0.3667\n",
            "Epoch 88/100\n",
            "7740/7740 [==============================] - 0s 48us/sample - loss: 0.3876 - val_loss: 0.3661\n",
            "Epoch 89/100\n",
            "7740/7740 [==============================] - 0s 47us/sample - loss: 0.3867 - val_loss: 0.3653\n",
            "Epoch 90/100\n",
            "7740/7740 [==============================] - 0s 48us/sample - loss: 0.3872 - val_loss: 0.3649\n",
            "Epoch 91/100\n",
            "7740/7740 [==============================] - 0s 49us/sample - loss: 0.3863 - val_loss: 0.3666\n",
            "Epoch 92/100\n",
            "7740/7740 [==============================] - 0s 48us/sample - loss: 0.3865 - val_loss: 0.3650\n",
            "Epoch 93/100\n",
            "7740/7740 [==============================] - 0s 49us/sample - loss: 0.3864 - val_loss: 0.3655\n",
            "Epoch 94/100\n",
            "7740/7740 [==============================] - 0s 48us/sample - loss: 0.3848 - val_loss: 0.3640\n",
            "Epoch 95/100\n",
            "7740/7740 [==============================] - 0s 49us/sample - loss: 0.3858 - val_loss: 0.3654\n",
            "Epoch 96/100\n",
            "7740/7740 [==============================] - 0s 48us/sample - loss: 0.3843 - val_loss: 0.3634\n",
            "Epoch 97/100\n",
            "7740/7740 [==============================] - 0s 47us/sample - loss: 0.3853 - val_loss: 0.3638\n",
            "Epoch 98/100\n",
            "7740/7740 [==============================] - 0s 50us/sample - loss: 0.3836 - val_loss: 0.3627\n",
            "Epoch 99/100\n",
            "7740/7740 [==============================] - 0s 47us/sample - loss: 0.3841 - val_loss: 0.3635\n",
            "Epoch 100/100\n",
            "7740/7740 [==============================] - 0s 47us/sample - loss: 0.3839 - val_loss: 0.3626\n",
            "3870/3870 [==============================] - 0s 23us/sample - loss: 0.3974\n",
            "7740/7740 [==============================] - 0s 21us/sample - loss: 0.3826\n",
            "[CV]  learning_rate=0.0012710173398986133, n_hidden=1, n_neurons=6, total=  37.8s\n",
            "[CV] learning_rate=0.0012710173398986133, n_hidden=1, n_neurons=6 ....\n",
            "Train on 7740 samples, validate on 3870 samples\n",
            "Epoch 1/100\n",
            "7740/7740 [==============================] - 1s 66us/sample - loss: 3.0218 - val_loss: 27.3764\n",
            "Epoch 2/100\n",
            "7740/7740 [==============================] - 0s 47us/sample - loss: 1.3307 - val_loss: 21.1899\n",
            "Epoch 3/100\n",
            "7740/7740 [==============================] - 0s 47us/sample - loss: 0.8891 - val_loss: 14.7295\n",
            "Epoch 4/100\n",
            "7740/7740 [==============================] - 0s 49us/sample - loss: 0.7499 - val_loss: 11.1584\n",
            "Epoch 5/100\n",
            "7740/7740 [==============================] - 0s 47us/sample - loss: 0.6874 - val_loss: 9.0509\n",
            "Epoch 6/100\n",
            "7740/7740 [==============================] - 0s 48us/sample - loss: 0.6513 - val_loss: 7.6155\n",
            "Epoch 7/100\n",
            "7740/7740 [==============================] - 0s 47us/sample - loss: 0.6255 - val_loss: 6.5412\n",
            "Epoch 8/100\n",
            "7740/7740 [==============================] - 0s 48us/sample - loss: 0.6046 - val_loss: 5.6986\n",
            "Epoch 9/100\n",
            "7740/7740 [==============================] - 0s 49us/sample - loss: 0.5859 - val_loss: 4.9393\n",
            "Epoch 10/100\n",
            "7740/7740 [==============================] - 0s 48us/sample - loss: 0.5692 - val_loss: 4.3585\n",
            "Epoch 11/100\n",
            "7740/7740 [==============================] - 0s 47us/sample - loss: 0.5536 - val_loss: 3.8760\n",
            "Epoch 12/100\n",
            "7740/7740 [==============================] - 0s 48us/sample - loss: 0.5394 - val_loss: 3.4403\n",
            "Epoch 13/100\n",
            "7740/7740 [==============================] - 0s 47us/sample - loss: 0.5261 - val_loss: 3.0756\n",
            "Epoch 14/100\n",
            "7740/7740 [==============================] - 0s 47us/sample - loss: 0.5139 - val_loss: 2.7626\n",
            "Epoch 15/100\n",
            "7740/7740 [==============================] - 0s 48us/sample - loss: 0.5025 - val_loss: 2.4986\n",
            "Epoch 16/100\n",
            "7740/7740 [==============================] - 0s 48us/sample - loss: 0.4918 - val_loss: 2.2689\n",
            "Epoch 17/100\n",
            "7740/7740 [==============================] - 0s 47us/sample - loss: 0.4819 - val_loss: 2.0541\n",
            "Epoch 18/100\n",
            "7740/7740 [==============================] - 0s 47us/sample - loss: 0.4729 - val_loss: 1.9117\n",
            "Epoch 19/100\n",
            "7740/7740 [==============================] - 0s 47us/sample - loss: 0.4648 - val_loss: 1.7145\n",
            "Epoch 20/100\n",
            "7740/7740 [==============================] - 0s 48us/sample - loss: 0.4575 - val_loss: 1.6196\n",
            "Epoch 21/100\n",
            "7740/7740 [==============================] - 0s 47us/sample - loss: 0.4509 - val_loss: 1.4927\n",
            "Epoch 22/100\n",
            "7740/7740 [==============================] - 0s 47us/sample - loss: 0.4449 - val_loss: 1.4115\n",
            "Epoch 23/100\n",
            "7740/7740 [==============================] - 0s 48us/sample - loss: 0.4400 - val_loss: 1.3412\n",
            "Epoch 24/100\n",
            "7740/7740 [==============================] - 0s 48us/sample - loss: 0.4355 - val_loss: 1.3039\n",
            "Epoch 25/100\n",
            "7740/7740 [==============================] - 0s 48us/sample - loss: 0.4315 - val_loss: 1.2690\n",
            "Epoch 26/100\n",
            "7740/7740 [==============================] - 0s 49us/sample - loss: 0.4279 - val_loss: 1.2229\n",
            "Epoch 27/100\n",
            "7740/7740 [==============================] - 0s 48us/sample - loss: 0.4249 - val_loss: 1.2149\n",
            "Epoch 28/100\n",
            "7740/7740 [==============================] - 0s 48us/sample - loss: 0.4221 - val_loss: 1.1952\n",
            "Epoch 29/100\n",
            "7740/7740 [==============================] - 0s 47us/sample - loss: 0.4196 - val_loss: 1.2193\n",
            "Epoch 30/100\n",
            "7740/7740 [==============================] - 0s 47us/sample - loss: 0.4173 - val_loss: 1.2126\n",
            "Epoch 31/100\n",
            "7740/7740 [==============================] - 0s 47us/sample - loss: 0.4155 - val_loss: 1.2092\n",
            "Epoch 32/100\n",
            "7740/7740 [==============================] - 0s 47us/sample - loss: 0.4137 - val_loss: 1.2400\n",
            "Epoch 33/100\n",
            "7740/7740 [==============================] - 0s 47us/sample - loss: 0.4120 - val_loss: 1.2448\n",
            "Epoch 34/100\n",
            "7740/7740 [==============================] - 0s 47us/sample - loss: 0.4104 - val_loss: 1.2713\n",
            "Epoch 35/100\n",
            "7740/7740 [==============================] - 0s 48us/sample - loss: 0.4092 - val_loss: 1.3032\n",
            "Epoch 36/100\n",
            "7740/7740 [==============================] - 0s 48us/sample - loss: 0.4079 - val_loss: 1.3179\n",
            "Epoch 37/100\n",
            "7740/7740 [==============================] - 0s 48us/sample - loss: 0.4067 - val_loss: 1.3121\n",
            "Epoch 38/100\n",
            "7740/7740 [==============================] - 0s 47us/sample - loss: 0.4056 - val_loss: 1.3254\n",
            "3870/3870 [==============================] - 0s 23us/sample - loss: 0.4279\n",
            "7740/7740 [==============================] - 0s 21us/sample - loss: 0.4043\n",
            "[CV]  learning_rate=0.0012710173398986133, n_hidden=1, n_neurons=6, total=  14.7s\n",
            "[CV] learning_rate=0.0012710173398986133, n_hidden=1, n_neurons=6 ....\n",
            "Train on 7740 samples, validate on 3870 samples\n",
            "Epoch 1/100\n",
            "7740/7740 [==============================] - 1s 67us/sample - loss: 2.2865 - val_loss: 3.6270\n",
            "Epoch 2/100\n",
            "7740/7740 [==============================] - 0s 47us/sample - loss: 1.2341 - val_loss: 2.1481\n",
            "Epoch 3/100\n",
            "7740/7740 [==============================] - 0s 48us/sample - loss: 0.9233 - val_loss: 1.3813\n",
            "Epoch 4/100\n",
            "7740/7740 [==============================] - 0s 47us/sample - loss: 0.7560 - val_loss: 0.9845\n",
            "Epoch 5/100\n",
            "7740/7740 [==============================] - 0s 46us/sample - loss: 0.6529 - val_loss: 0.7841\n",
            "Epoch 6/100\n",
            "7740/7740 [==============================] - 0s 47us/sample - loss: 0.5906 - val_loss: 0.6748\n",
            "Epoch 7/100\n",
            "7740/7740 [==============================] - 0s 47us/sample - loss: 0.5517 - val_loss: 0.6080\n",
            "Epoch 8/100\n",
            "7740/7740 [==============================] - 0s 47us/sample - loss: 0.5234 - val_loss: 0.5643\n",
            "Epoch 9/100\n",
            "7740/7740 [==============================] - 0s 48us/sample - loss: 0.5020 - val_loss: 0.5349\n",
            "Epoch 10/100\n",
            "7740/7740 [==============================] - 0s 47us/sample - loss: 0.4848 - val_loss: 0.5122\n",
            "Epoch 11/100\n",
            "7740/7740 [==============================] - 0s 46us/sample - loss: 0.4710 - val_loss: 0.4960\n",
            "Epoch 12/100\n",
            "7740/7740 [==============================] - 0s 48us/sample - loss: 0.4593 - val_loss: 0.4828\n",
            "Epoch 13/100\n",
            "7740/7740 [==============================] - 0s 46us/sample - loss: 0.4501 - val_loss: 0.4715\n",
            "Epoch 14/100\n",
            "7740/7740 [==============================] - 0s 47us/sample - loss: 0.4426 - val_loss: 0.4641\n",
            "Epoch 15/100\n",
            "7740/7740 [==============================] - 0s 46us/sample - loss: 0.4366 - val_loss: 0.4576\n",
            "Epoch 16/100\n",
            "7740/7740 [==============================] - 0s 47us/sample - loss: 0.4322 - val_loss: 0.4540\n",
            "Epoch 17/100\n",
            "7740/7740 [==============================] - 0s 48us/sample - loss: 0.4284 - val_loss: 0.4505\n",
            "Epoch 18/100\n",
            "7740/7740 [==============================] - 0s 48us/sample - loss: 0.4256 - val_loss: 0.4479\n",
            "Epoch 19/100\n",
            "7740/7740 [==============================] - 0s 51us/sample - loss: 0.4235 - val_loss: 0.4473\n",
            "Epoch 20/100\n",
            "7740/7740 [==============================] - 0s 54us/sample - loss: 0.4218 - val_loss: 0.4463\n",
            "Epoch 21/100\n",
            "7740/7740 [==============================] - 0s 55us/sample - loss: 0.4203 - val_loss: 0.4453\n",
            "Epoch 22/100\n",
            "7740/7740 [==============================] - 0s 56us/sample - loss: 0.4187 - val_loss: 0.4441\n",
            "Epoch 23/100\n",
            "7740/7740 [==============================] - 0s 55us/sample - loss: 0.4171 - val_loss: 0.4450\n",
            "Epoch 24/100\n",
            "7740/7740 [==============================] - 0s 56us/sample - loss: 0.4163 - val_loss: 0.4443\n",
            "Epoch 25/100\n",
            "7740/7740 [==============================] - 0s 57us/sample - loss: 0.4151 - val_loss: 0.4448\n",
            "Epoch 26/100\n",
            "7740/7740 [==============================] - 0s 56us/sample - loss: 0.4139 - val_loss: 0.4428\n",
            "Epoch 27/100\n",
            "7740/7740 [==============================] - 0s 56us/sample - loss: 0.4132 - val_loss: 0.4423\n",
            "Epoch 28/100\n",
            "7740/7740 [==============================] - 0s 55us/sample - loss: 0.4121 - val_loss: 0.4425\n",
            "Epoch 29/100\n",
            "7740/7740 [==============================] - 0s 57us/sample - loss: 0.4113 - val_loss: 0.4415\n",
            "Epoch 30/100\n",
            "7740/7740 [==============================] - 0s 59us/sample - loss: 0.4103 - val_loss: 0.4426\n",
            "Epoch 31/100\n",
            "7740/7740 [==============================] - 0s 62us/sample - loss: 0.4099 - val_loss: 0.4414\n",
            "Epoch 32/100\n",
            "7740/7740 [==============================] - 0s 60us/sample - loss: 0.4093 - val_loss: 0.4396\n",
            "Epoch 33/100\n",
            "7740/7740 [==============================] - 0s 53us/sample - loss: 0.4084 - val_loss: 0.4413\n",
            "Epoch 34/100\n",
            "7740/7740 [==============================] - 0s 53us/sample - loss: 0.4081 - val_loss: 0.4393\n",
            "Epoch 35/100\n",
            "7740/7740 [==============================] - 0s 55us/sample - loss: 0.4067 - val_loss: 0.4372\n",
            "Epoch 36/100\n",
            "7740/7740 [==============================] - 0s 53us/sample - loss: 0.4067 - val_loss: 0.4364\n",
            "Epoch 37/100\n",
            "7740/7740 [==============================] - 0s 53us/sample - loss: 0.4057 - val_loss: 0.4369\n",
            "Epoch 38/100\n",
            "7740/7740 [==============================] - 0s 54us/sample - loss: 0.4058 - val_loss: 0.4348\n",
            "Epoch 39/100\n",
            "7740/7740 [==============================] - 0s 54us/sample - loss: 0.4051 - val_loss: 0.4340\n",
            "Epoch 40/100\n",
            "7740/7740 [==============================] - 0s 54us/sample - loss: 0.4045 - val_loss: 0.4335\n",
            "Epoch 41/100\n",
            "7740/7740 [==============================] - 0s 54us/sample - loss: 0.4041 - val_loss: 0.4332\n",
            "Epoch 42/100\n",
            "7740/7740 [==============================] - 0s 54us/sample - loss: 0.4037 - val_loss: 0.4320\n",
            "Epoch 43/100\n",
            "7740/7740 [==============================] - 0s 53us/sample - loss: 0.4032 - val_loss: 0.4307\n",
            "Epoch 44/100\n",
            "7740/7740 [==============================] - 0s 54us/sample - loss: 0.4029 - val_loss: 0.4303\n",
            "Epoch 45/100\n",
            "7740/7740 [==============================] - 0s 55us/sample - loss: 0.4023 - val_loss: 0.4300\n",
            "Epoch 46/100\n",
            "7740/7740 [==============================] - 0s 58us/sample - loss: 0.4017 - val_loss: 0.4286\n",
            "Epoch 47/100\n",
            "7740/7740 [==============================] - 0s 53us/sample - loss: 0.4014 - val_loss: 0.4277\n",
            "Epoch 48/100\n",
            "7740/7740 [==============================] - 0s 52us/sample - loss: 0.4012 - val_loss: 0.4276\n",
            "Epoch 49/100\n",
            "7740/7740 [==============================] - 0s 55us/sample - loss: 0.4007 - val_loss: 0.4275\n",
            "Epoch 50/100\n",
            "7740/7740 [==============================] - 0s 52us/sample - loss: 0.4004 - val_loss: 0.4281\n",
            "Epoch 51/100\n",
            "7740/7740 [==============================] - 0s 53us/sample - loss: 0.3999 - val_loss: 0.4266\n",
            "Epoch 52/100\n",
            "7740/7740 [==============================] - 0s 54us/sample - loss: 0.3995 - val_loss: 0.4263\n",
            "Epoch 53/100\n",
            "7740/7740 [==============================] - 0s 55us/sample - loss: 0.3993 - val_loss: 0.4257\n",
            "Epoch 54/100\n",
            "7740/7740 [==============================] - 0s 56us/sample - loss: 0.3988 - val_loss: 0.4248\n",
            "Epoch 55/100\n",
            "7740/7740 [==============================] - 0s 53us/sample - loss: 0.3983 - val_loss: 0.4252\n",
            "Epoch 56/100\n",
            "7740/7740 [==============================] - 0s 54us/sample - loss: 0.3980 - val_loss: 0.4246\n",
            "Epoch 57/100\n",
            "7740/7740 [==============================] - 0s 49us/sample - loss: 0.3973 - val_loss: 0.4241\n",
            "Epoch 58/100\n",
            "7740/7740 [==============================] - 0s 47us/sample - loss: 0.3971 - val_loss: 0.4232\n",
            "Epoch 59/100\n",
            "7740/7740 [==============================] - 0s 49us/sample - loss: 0.3970 - val_loss: 0.4237\n",
            "Epoch 60/100\n",
            "7740/7740 [==============================] - 0s 46us/sample - loss: 0.3965 - val_loss: 0.4244\n",
            "Epoch 61/100\n",
            "7740/7740 [==============================] - 0s 48us/sample - loss: 0.3962 - val_loss: 0.4237\n",
            "Epoch 62/100\n",
            "7740/7740 [==============================] - 0s 47us/sample - loss: 0.3959 - val_loss: 0.4225\n",
            "Epoch 63/100\n",
            "7740/7740 [==============================] - 0s 48us/sample - loss: 0.3955 - val_loss: 0.4214\n",
            "Epoch 64/100\n",
            "7740/7740 [==============================] - 0s 48us/sample - loss: 0.3951 - val_loss: 0.4205\n",
            "Epoch 65/100\n",
            "7740/7740 [==============================] - 0s 48us/sample - loss: 0.3949 - val_loss: 0.4203\n",
            "Epoch 66/100\n",
            "7740/7740 [==============================] - 0s 49us/sample - loss: 0.3943 - val_loss: 0.4189\n",
            "Epoch 67/100\n",
            "7740/7740 [==============================] - 0s 47us/sample - loss: 0.3941 - val_loss: 0.4181\n",
            "Epoch 68/100\n",
            "7740/7740 [==============================] - 0s 48us/sample - loss: 0.3940 - val_loss: 0.4180\n",
            "Epoch 69/100\n",
            "7740/7740 [==============================] - 0s 48us/sample - loss: 0.3937 - val_loss: 0.4181\n",
            "Epoch 70/100\n",
            "7740/7740 [==============================] - 0s 48us/sample - loss: 0.3934 - val_loss: 0.4172\n",
            "Epoch 71/100\n",
            "7740/7740 [==============================] - 0s 47us/sample - loss: 0.3933 - val_loss: 0.4171\n",
            "Epoch 72/100\n",
            "7740/7740 [==============================] - 0s 47us/sample - loss: 0.3929 - val_loss: 0.4170\n",
            "Epoch 73/100\n",
            "7740/7740 [==============================] - 0s 46us/sample - loss: 0.3920 - val_loss: 0.4181\n",
            "Epoch 74/100\n",
            "7740/7740 [==============================] - 0s 48us/sample - loss: 0.3924 - val_loss: 0.4156\n",
            "Epoch 75/100\n",
            "7740/7740 [==============================] - 0s 48us/sample - loss: 0.3920 - val_loss: 0.4151\n",
            "Epoch 76/100\n",
            "7740/7740 [==============================] - 0s 47us/sample - loss: 0.3917 - val_loss: 0.4145\n",
            "Epoch 77/100\n",
            "7740/7740 [==============================] - 0s 47us/sample - loss: 0.3914 - val_loss: 0.4140\n",
            "Epoch 78/100\n",
            "7740/7740 [==============================] - 0s 47us/sample - loss: 0.3910 - val_loss: 0.4139\n",
            "Epoch 79/100\n",
            "7740/7740 [==============================] - 0s 47us/sample - loss: 0.3909 - val_loss: 0.4136\n",
            "Epoch 80/100\n",
            "7740/7740 [==============================] - 0s 47us/sample - loss: 0.3906 - val_loss: 0.4135\n",
            "Epoch 81/100\n",
            "7740/7740 [==============================] - 0s 47us/sample - loss: 0.3904 - val_loss: 0.4131\n",
            "Epoch 82/100\n",
            "7740/7740 [==============================] - 0s 47us/sample - loss: 0.3901 - val_loss: 0.4123\n",
            "Epoch 83/100\n",
            "7740/7740 [==============================] - 0s 47us/sample - loss: 0.3899 - val_loss: 0.4122\n",
            "Epoch 84/100\n",
            "7740/7740 [==============================] - 0s 47us/sample - loss: 0.3898 - val_loss: 0.4121\n",
            "Epoch 85/100\n",
            "7740/7740 [==============================] - 0s 46us/sample - loss: 0.3897 - val_loss: 0.4114\n",
            "Epoch 86/100\n",
            "7740/7740 [==============================] - 0s 49us/sample - loss: 0.3889 - val_loss: 0.4134\n",
            "Epoch 87/100\n",
            "7740/7740 [==============================] - 0s 46us/sample - loss: 0.3891 - val_loss: 0.4103\n",
            "Epoch 88/100\n",
            "7740/7740 [==============================] - 0s 48us/sample - loss: 0.3888 - val_loss: 0.4107\n",
            "Epoch 89/100\n",
            "7740/7740 [==============================] - 0s 47us/sample - loss: 0.3886 - val_loss: 0.4092\n",
            "Epoch 90/100\n",
            "7740/7740 [==============================] - 0s 47us/sample - loss: 0.3883 - val_loss: 0.4097\n",
            "Epoch 91/100\n",
            "7740/7740 [==============================] - 0s 47us/sample - loss: 0.3884 - val_loss: 0.4091\n",
            "Epoch 92/100\n",
            "7740/7740 [==============================] - 0s 48us/sample - loss: 0.3878 - val_loss: 0.4088\n",
            "Epoch 93/100\n",
            "7740/7740 [==============================] - 0s 47us/sample - loss: 0.3878 - val_loss: 0.4076\n",
            "Epoch 94/100\n",
            "7740/7740 [==============================] - 0s 45us/sample - loss: 0.3876 - val_loss: 0.4084\n",
            "Epoch 95/100\n",
            "7740/7740 [==============================] - 0s 46us/sample - loss: 0.3874 - val_loss: 0.4080\n",
            "Epoch 96/100\n",
            "7740/7740 [==============================] - 0s 47us/sample - loss: 0.3872 - val_loss: 0.4080\n",
            "Epoch 97/100\n",
            "7740/7740 [==============================] - 0s 47us/sample - loss: 0.3871 - val_loss: 0.4066\n",
            "Epoch 98/100\n",
            "7740/7740 [==============================] - 0s 48us/sample - loss: 0.3871 - val_loss: 0.4062\n",
            "Epoch 99/100\n",
            "7740/7740 [==============================] - 0s 47us/sample - loss: 0.3866 - val_loss: 0.4063\n",
            "Epoch 100/100\n",
            "7740/7740 [==============================] - 0s 47us/sample - loss: 0.3865 - val_loss: 0.4075\n",
            "3870/3870 [==============================] - 0s 22us/sample - loss: 0.3809\n",
            "7740/7740 [==============================] - 0s 21us/sample - loss: 0.3861\n",
            "[CV]  learning_rate=0.0012710173398986133, n_hidden=1, n_neurons=6, total=  39.5s\n",
            "[CV] learning_rate=0.02229227827393175, n_hidden=0, n_neurons=65 .....\n",
            "Train on 7740 samples, validate on 3870 samples\n",
            "Epoch 1/100\n",
            "7740/7740 [==============================] - 1s 68us/sample - loss: 0.8516 - val_loss: 9.5115\n",
            "Epoch 2/100\n",
            "7740/7740 [==============================] - 0s 50us/sample - loss: 0.5663 - val_loss: 0.3829\n",
            "Epoch 3/100\n",
            "7740/7740 [==============================] - 0s 49us/sample - loss: 0.4527 - val_loss: 0.3747\n",
            "Epoch 4/100\n",
            "7740/7740 [==============================] - 0s 50us/sample - loss: 0.3736 - val_loss: 0.3494\n",
            "Epoch 5/100\n",
            "7740/7740 [==============================] - 0s 48us/sample - loss: 0.3646 - val_loss: 0.3385\n",
            "Epoch 6/100\n",
            "7740/7740 [==============================] - 0s 50us/sample - loss: 0.3737 - val_loss: 0.5051\n",
            "Epoch 7/100\n",
            "7740/7740 [==============================] - 0s 49us/sample - loss: 0.3646 - val_loss: 0.3373\n",
            "Epoch 8/100\n",
            "7740/7740 [==============================] - 0s 50us/sample - loss: 0.3610 - val_loss: 0.3279\n",
            "Epoch 9/100\n",
            "7740/7740 [==============================] - 0s 50us/sample - loss: 0.3469 - val_loss: 0.3304\n",
            "Epoch 10/100\n",
            "7740/7740 [==============================] - 0s 50us/sample - loss: 0.3414 - val_loss: 0.3568\n",
            "Epoch 11/100\n",
            "7740/7740 [==============================] - 0s 49us/sample - loss: 0.3392 - val_loss: 0.3185\n",
            "Epoch 12/100\n",
            "7740/7740 [==============================] - 0s 51us/sample - loss: 0.3335 - val_loss: 0.3658\n",
            "Epoch 13/100\n",
            "7740/7740 [==============================] - 0s 50us/sample - loss: 0.3305 - val_loss: 0.5862\n",
            "Epoch 14/100\n",
            "7740/7740 [==============================] - 0s 51us/sample - loss: 0.3367 - val_loss: 0.3380\n",
            "Epoch 15/100\n",
            "7740/7740 [==============================] - 0s 48us/sample - loss: 0.3260 - val_loss: 0.3078\n",
            "Epoch 16/100\n",
            "7740/7740 [==============================] - 0s 48us/sample - loss: 0.3258 - val_loss: 0.3368\n",
            "Epoch 17/100\n",
            "7740/7740 [==============================] - 0s 49us/sample - loss: 0.4111 - val_loss: 0.3593\n",
            "Epoch 18/100\n",
            "7740/7740 [==============================] - 0s 49us/sample - loss: 0.3367 - val_loss: 0.3460\n",
            "Epoch 19/100\n",
            "7740/7740 [==============================] - 0s 49us/sample - loss: 0.3331 - val_loss: 0.5185\n",
            "Epoch 20/100\n",
            "7740/7740 [==============================] - 0s 51us/sample - loss: 0.3346 - val_loss: 0.3329\n",
            "Epoch 21/100\n",
            "7740/7740 [==============================] - 0s 50us/sample - loss: 0.3463 - val_loss: 0.3146\n",
            "Epoch 22/100\n",
            "7740/7740 [==============================] - 0s 51us/sample - loss: 0.3227 - val_loss: 0.3154\n",
            "Epoch 23/100\n",
            "7740/7740 [==============================] - 0s 51us/sample - loss: 0.3224 - val_loss: 0.3074\n",
            "Epoch 24/100\n",
            "7740/7740 [==============================] - 0s 51us/sample - loss: 0.3221 - val_loss: 0.3039\n",
            "Epoch 25/100\n",
            "7740/7740 [==============================] - 0s 49us/sample - loss: 0.3177 - val_loss: 0.3080\n",
            "Epoch 26/100\n",
            "7740/7740 [==============================] - 0s 51us/sample - loss: 0.3136 - val_loss: 0.3082\n",
            "Epoch 27/100\n",
            "7740/7740 [==============================] - 0s 49us/sample - loss: 0.3105 - val_loss: 0.3059\n",
            "Epoch 28/100\n",
            "7740/7740 [==============================] - 0s 50us/sample - loss: 0.3144 - val_loss: 0.3187\n",
            "Epoch 29/100\n",
            "7740/7740 [==============================] - 0s 51us/sample - loss: 0.3111 - val_loss: 0.2990\n",
            "Epoch 30/100\n",
            "7740/7740 [==============================] - 0s 51us/sample - loss: 0.3086 - val_loss: 0.3504\n",
            "Epoch 31/100\n",
            "7740/7740 [==============================] - 0s 51us/sample - loss: 0.3082 - val_loss: 0.2972\n",
            "Epoch 32/100\n",
            "7740/7740 [==============================] - 0s 50us/sample - loss: 0.3053 - val_loss: 0.3014\n",
            "Epoch 33/100\n",
            "7740/7740 [==============================] - 0s 50us/sample - loss: 0.3037 - val_loss: 0.3099\n",
            "Epoch 34/100\n",
            "7740/7740 [==============================] - 0s 51us/sample - loss: 0.3037 - val_loss: 0.3103\n",
            "Epoch 35/100\n",
            "7740/7740 [==============================] - 0s 50us/sample - loss: 0.3031 - val_loss: 0.2922\n",
            "Epoch 36/100\n",
            "7740/7740 [==============================] - 0s 49us/sample - loss: 0.3021 - val_loss: 0.2968\n",
            "Epoch 37/100\n",
            "7740/7740 [==============================] - 0s 50us/sample - loss: 0.3002 - val_loss: 0.4677\n",
            "Epoch 38/100\n",
            "7740/7740 [==============================] - 0s 50us/sample - loss: 0.2996 - val_loss: 0.3045\n",
            "Epoch 39/100\n",
            "7740/7740 [==============================] - 0s 49us/sample - loss: 0.2980 - val_loss: 0.2932\n",
            "Epoch 40/100\n",
            "7740/7740 [==============================] - 0s 49us/sample - loss: 0.2989 - val_loss: 0.5640\n",
            "Epoch 41/100\n",
            "7740/7740 [==============================] - 0s 49us/sample - loss: 0.3029 - val_loss: 0.2887\n",
            "Epoch 42/100\n",
            "7740/7740 [==============================] - 0s 51us/sample - loss: 0.3071 - val_loss: 0.3293\n",
            "Epoch 43/100\n",
            "7740/7740 [==============================] - 0s 50us/sample - loss: 0.3000 - val_loss: 0.2927\n",
            "Epoch 44/100\n",
            "7740/7740 [==============================] - 0s 49us/sample - loss: 0.2986 - val_loss: 0.2928\n",
            "Epoch 45/100\n",
            "7740/7740 [==============================] - 0s 49us/sample - loss: 0.2966 - val_loss: 0.3894\n",
            "Epoch 46/100\n",
            "7740/7740 [==============================] - 0s 49us/sample - loss: 0.3002 - val_loss: 0.2950\n",
            "Epoch 47/100\n",
            "7740/7740 [==============================] - 0s 50us/sample - loss: 0.2979 - val_loss: 0.3592\n",
            "Epoch 48/100\n",
            "7740/7740 [==============================] - 0s 49us/sample - loss: 0.2969 - val_loss: 0.2925\n",
            "Epoch 49/100\n",
            "7740/7740 [==============================] - 0s 50us/sample - loss: 0.2977 - val_loss: 0.2882\n",
            "Epoch 50/100\n",
            "7740/7740 [==============================] - 0s 49us/sample - loss: 0.2949 - val_loss: 0.3361\n",
            "Epoch 51/100\n",
            "7740/7740 [==============================] - 0s 49us/sample - loss: 0.2927 - val_loss: 0.2863\n",
            "Epoch 52/100\n",
            "7740/7740 [==============================] - 0s 52us/sample - loss: 0.2944 - val_loss: 0.2888\n",
            "Epoch 53/100\n",
            "7740/7740 [==============================] - 0s 50us/sample - loss: 0.2940 - val_loss: 0.2936\n",
            "Epoch 54/100\n",
            "7740/7740 [==============================] - 0s 50us/sample - loss: 0.2920 - val_loss: 0.3534\n",
            "Epoch 55/100\n",
            "7740/7740 [==============================] - 0s 50us/sample - loss: 0.2921 - val_loss: 0.2856\n",
            "Epoch 56/100\n",
            "7740/7740 [==============================] - 0s 50us/sample - loss: 0.2928 - val_loss: 0.2956\n",
            "Epoch 57/100\n",
            "7740/7740 [==============================] - 0s 50us/sample - loss: 0.2909 - val_loss: 0.2860\n",
            "Epoch 58/100\n",
            "7740/7740 [==============================] - 0s 49us/sample - loss: 0.2886 - val_loss: 0.3221\n",
            "Epoch 59/100\n",
            "7740/7740 [==============================] - 0s 50us/sample - loss: 0.2892 - val_loss: 0.2946\n",
            "Epoch 60/100\n",
            "7740/7740 [==============================] - 0s 49us/sample - loss: 0.2874 - val_loss: 0.3042\n",
            "Epoch 61/100\n",
            "7740/7740 [==============================] - 0s 50us/sample - loss: 0.2863 - val_loss: 0.3004\n",
            "Epoch 62/100\n",
            "7740/7740 [==============================] - 0s 50us/sample - loss: 0.2876 - val_loss: 0.3004\n",
            "Epoch 63/100\n",
            "7740/7740 [==============================] - 0s 51us/sample - loss: 0.2892 - val_loss: 0.4285\n",
            "Epoch 64/100\n",
            "7740/7740 [==============================] - 0s 51us/sample - loss: 0.2879 - val_loss: 0.4487\n",
            "Epoch 65/100\n",
            "7740/7740 [==============================] - 0s 49us/sample - loss: 0.2876 - val_loss: 0.3006\n",
            "3870/3870 [==============================] - 0s 23us/sample - loss: 0.3226\n",
            "7740/7740 [==============================] - 0s 21us/sample - loss: 0.2835\n",
            "[CV]  learning_rate=0.02229227827393175, n_hidden=0, n_neurons=65, total=  25.7s\n",
            "[CV] learning_rate=0.02229227827393175, n_hidden=0, n_neurons=65 .....\n",
            "Train on 7740 samples, validate on 3870 samples\n",
            "Epoch 1/100\n",
            "7740/7740 [==============================] - 1s 66us/sample - loss: 0.6593 - val_loss: 1.9274\n",
            "Epoch 2/100\n",
            "7740/7740 [==============================] - 0s 50us/sample - loss: 0.4241 - val_loss: 0.3817\n",
            "Epoch 3/100\n",
            "7740/7740 [==============================] - 0s 49us/sample - loss: 0.3998 - val_loss: 0.3681\n",
            "Epoch 4/100\n",
            "7740/7740 [==============================] - 0s 50us/sample - loss: 0.3943 - val_loss: 0.4052\n",
            "Epoch 5/100\n",
            "7740/7740 [==============================] - 0s 50us/sample - loss: 0.3818 - val_loss: 0.4978\n",
            "Epoch 6/100\n",
            "7740/7740 [==============================] - 0s 49us/sample - loss: 0.3778 - val_loss: 0.4089\n",
            "Epoch 7/100\n",
            "7740/7740 [==============================] - 0s 49us/sample - loss: 0.3731 - val_loss: 0.4019\n",
            "Epoch 8/100\n",
            "7740/7740 [==============================] - 0s 49us/sample - loss: 0.3670 - val_loss: 0.6145\n",
            "Epoch 9/100\n",
            "7740/7740 [==============================] - 0s 49us/sample - loss: 0.3636 - val_loss: 0.5086\n",
            "Epoch 10/100\n",
            "7740/7740 [==============================] - 0s 50us/sample - loss: 0.3579 - val_loss: 0.5808\n",
            "Epoch 11/100\n",
            "7740/7740 [==============================] - 0s 51us/sample - loss: 0.3595 - val_loss: 0.4036\n",
            "Epoch 12/100\n",
            "7740/7740 [==============================] - 0s 49us/sample - loss: 0.3575 - val_loss: 0.3573\n",
            "Epoch 13/100\n",
            "7740/7740 [==============================] - 0s 49us/sample - loss: 0.3531 - val_loss: 0.4633\n",
            "Epoch 14/100\n",
            "7740/7740 [==============================] - 0s 50us/sample - loss: 0.3680 - val_loss: 1.0989\n",
            "Epoch 15/100\n",
            "7740/7740 [==============================] - 0s 49us/sample - loss: 0.4423 - val_loss: 0.3885\n",
            "Epoch 16/100\n",
            "7740/7740 [==============================] - 0s 51us/sample - loss: 0.3541 - val_loss: 0.3923\n",
            "Epoch 17/100\n",
            "7740/7740 [==============================] - 0s 49us/sample - loss: 0.3487 - val_loss: 0.7111\n",
            "Epoch 18/100\n",
            "7740/7740 [==============================] - 0s 49us/sample - loss: 0.3458 - val_loss: 0.3554\n",
            "Epoch 19/100\n",
            "7740/7740 [==============================] - 0s 48us/sample - loss: 0.3436 - val_loss: 1.0349\n",
            "Epoch 20/100\n",
            "7740/7740 [==============================] - 0s 50us/sample - loss: 0.3413 - val_loss: 0.8843\n",
            "Epoch 21/100\n",
            "7740/7740 [==============================] - 0s 51us/sample - loss: 0.3384 - val_loss: 0.3477\n",
            "Epoch 22/100\n",
            "7740/7740 [==============================] - 0s 50us/sample - loss: 0.3365 - val_loss: 0.3725\n",
            "Epoch 23/100\n",
            "7740/7740 [==============================] - 0s 50us/sample - loss: 0.3336 - val_loss: 0.3680\n",
            "Epoch 24/100\n",
            "7740/7740 [==============================] - 0s 50us/sample - loss: 0.3315 - val_loss: 0.6838\n",
            "Epoch 25/100\n",
            "7740/7740 [==============================] - 0s 48us/sample - loss: 0.3300 - val_loss: 1.1891\n",
            "Epoch 26/100\n",
            "7740/7740 [==============================] - 0s 50us/sample - loss: 0.3287 - val_loss: 1.0475\n",
            "Epoch 27/100\n",
            "7740/7740 [==============================] - 0s 49us/sample - loss: 0.3290 - val_loss: 1.0169\n",
            "Epoch 28/100\n",
            "7740/7740 [==============================] - 0s 48us/sample - loss: 0.3260 - val_loss: 0.6606\n",
            "Epoch 29/100\n",
            "7740/7740 [==============================] - 0s 50us/sample - loss: 0.3239 - val_loss: 0.3384\n",
            "Epoch 30/100\n",
            "7740/7740 [==============================] - 0s 49us/sample - loss: 0.3228 - val_loss: 0.3311\n",
            "Epoch 31/100\n",
            "7740/7740 [==============================] - 0s 49us/sample - loss: 0.3209 - val_loss: 0.6076\n",
            "Epoch 32/100\n",
            "7740/7740 [==============================] - 0s 50us/sample - loss: 0.3197 - val_loss: 1.0622\n",
            "Epoch 33/100\n",
            "7740/7740 [==============================] - 0s 50us/sample - loss: 0.3204 - val_loss: 0.3113\n",
            "Epoch 34/100\n",
            "7740/7740 [==============================] - 0s 49us/sample - loss: 0.3173 - val_loss: 1.2406\n",
            "Epoch 35/100\n",
            "7740/7740 [==============================] - 0s 49us/sample - loss: 0.3178 - val_loss: 0.3691\n",
            "Epoch 36/100\n",
            "7740/7740 [==============================] - 0s 49us/sample - loss: 0.3146 - val_loss: 0.3377\n",
            "Epoch 37/100\n",
            "7740/7740 [==============================] - 0s 49us/sample - loss: 0.3171 - val_loss: 0.3719\n",
            "Epoch 38/100\n",
            "7740/7740 [==============================] - 0s 49us/sample - loss: 0.3140 - val_loss: 0.7175\n",
            "Epoch 39/100\n",
            "7740/7740 [==============================] - 0s 49us/sample - loss: 0.3137 - val_loss: 0.3068\n",
            "Epoch 40/100\n",
            "7740/7740 [==============================] - 0s 49us/sample - loss: 0.3133 - val_loss: 0.3426\n",
            "Epoch 41/100\n",
            "7740/7740 [==============================] - 0s 49us/sample - loss: 0.3123 - val_loss: 0.3082\n",
            "Epoch 42/100\n",
            "7740/7740 [==============================] - 0s 50us/sample - loss: 0.3119 - val_loss: 0.3308\n",
            "Epoch 43/100\n",
            "7740/7740 [==============================] - 0s 49us/sample - loss: 0.3108 - val_loss: 1.7581\n",
            "Epoch 44/100\n",
            "7740/7740 [==============================] - 0s 49us/sample - loss: 0.3111 - val_loss: 0.3050\n",
            "Epoch 45/100\n",
            "7740/7740 [==============================] - 0s 50us/sample - loss: 0.3101 - val_loss: 0.9803\n",
            "Epoch 46/100\n",
            "7740/7740 [==============================] - 0s 50us/sample - loss: 0.3105 - val_loss: 0.5200\n",
            "Epoch 47/100\n",
            "7740/7740 [==============================] - 0s 50us/sample - loss: 0.3100 - val_loss: 0.3867\n",
            "Epoch 48/100\n",
            "7740/7740 [==============================] - 0s 51us/sample - loss: 0.3097 - val_loss: 0.4475\n",
            "Epoch 49/100\n",
            "7740/7740 [==============================] - 0s 49us/sample - loss: 0.3069 - val_loss: 0.9473\n",
            "Epoch 50/100\n",
            "7740/7740 [==============================] - 0s 49us/sample - loss: 0.3087 - val_loss: 0.3045\n",
            "Epoch 51/100\n",
            "7740/7740 [==============================] - 0s 49us/sample - loss: 0.3073 - val_loss: 1.3196\n",
            "Epoch 52/100\n",
            "7740/7740 [==============================] - 0s 49us/sample - loss: 0.3064 - val_loss: 0.6923\n",
            "Epoch 53/100\n",
            "7740/7740 [==============================] - 0s 49us/sample - loss: 0.3073 - val_loss: 1.2063\n",
            "Epoch 54/100\n",
            "7740/7740 [==============================] - 0s 49us/sample - loss: 0.3072 - val_loss: 0.3251\n",
            "Epoch 55/100\n",
            "7740/7740 [==============================] - 0s 49us/sample - loss: 0.3062 - val_loss: 0.5242\n",
            "Epoch 56/100\n",
            "7740/7740 [==============================] - 0s 50us/sample - loss: 0.3038 - val_loss: 0.8890\n",
            "Epoch 57/100\n",
            "7740/7740 [==============================] - 0s 49us/sample - loss: 0.3076 - val_loss: 0.9613\n",
            "Epoch 58/100\n",
            "7740/7740 [==============================] - 0s 50us/sample - loss: 0.3066 - val_loss: 0.5974\n",
            "Epoch 59/100\n",
            "7740/7740 [==============================] - 0s 49us/sample - loss: 0.3041 - val_loss: 0.5559\n",
            "Epoch 60/100\n",
            "7740/7740 [==============================] - 0s 48us/sample - loss: 0.3050 - val_loss: 1.0145\n",
            "3870/3870 [==============================] - 0s 23us/sample - loss: 0.3327\n",
            "7740/7740 [==============================] - 0s 22us/sample - loss: 0.2995\n",
            "[CV]  learning_rate=0.02229227827393175, n_hidden=0, n_neurons=65, total=  23.6s\n",
            "[CV] learning_rate=0.02229227827393175, n_hidden=0, n_neurons=65 .....\n",
            "Train on 7740 samples, validate on 3870 samples\n",
            "Epoch 1/100\n",
            "7740/7740 [==============================] - 1s 68us/sample - loss: 0.6860 - val_loss: 10.8388\n",
            "Epoch 2/100\n",
            "7740/7740 [==============================] - 0s 50us/sample - loss: 1.1168 - val_loss: 1.1471\n",
            "Epoch 3/100\n",
            "7740/7740 [==============================] - 0s 50us/sample - loss: 3.1918 - val_loss: 251.2982\n",
            "Epoch 4/100\n",
            "7740/7740 [==============================] - 0s 50us/sample - loss: 1.5649 - val_loss: 1.2181\n",
            "Epoch 5/100\n",
            "7740/7740 [==============================] - 0s 49us/sample - loss: 0.4214 - val_loss: 0.4133\n",
            "Epoch 6/100\n",
            "7740/7740 [==============================] - 0s 49us/sample - loss: 0.3889 - val_loss: 0.3766\n",
            "Epoch 7/100\n",
            "7740/7740 [==============================] - 0s 49us/sample - loss: 0.3839 - val_loss: 0.4343\n",
            "Epoch 8/100\n",
            "7740/7740 [==============================] - 0s 50us/sample - loss: 0.3759 - val_loss: 0.5151\n",
            "Epoch 9/100\n",
            "7740/7740 [==============================] - 0s 48us/sample - loss: 0.3693 - val_loss: 0.3522\n",
            "Epoch 10/100\n",
            "7740/7740 [==============================] - 0s 48us/sample - loss: 0.3649 - val_loss: 0.4924\n",
            "Epoch 11/100\n",
            "7740/7740 [==============================] - 0s 50us/sample - loss: 0.3626 - val_loss: 0.3657\n",
            "Epoch 12/100\n",
            "7740/7740 [==============================] - 0s 50us/sample - loss: 0.3563 - val_loss: 0.3836\n",
            "Epoch 13/100\n",
            "7740/7740 [==============================] - 0s 50us/sample - loss: 0.3533 - val_loss: 0.3369\n",
            "Epoch 14/100\n",
            "7740/7740 [==============================] - 0s 50us/sample - loss: 0.3501 - val_loss: 0.3324\n",
            "Epoch 15/100\n",
            "7740/7740 [==============================] - 0s 49us/sample - loss: 0.3491 - val_loss: 0.3319\n",
            "Epoch 16/100\n",
            "7740/7740 [==============================] - 0s 50us/sample - loss: 0.3452 - val_loss: 0.3368\n",
            "Epoch 17/100\n",
            "7740/7740 [==============================] - 0s 49us/sample - loss: 0.3444 - val_loss: 0.3590\n",
            "Epoch 18/100\n",
            "7740/7740 [==============================] - 0s 49us/sample - loss: 0.3413 - val_loss: 0.3423\n",
            "Epoch 19/100\n",
            "7740/7740 [==============================] - 0s 51us/sample - loss: 0.3355 - val_loss: 1.2162\n",
            "Epoch 20/100\n",
            "7740/7740 [==============================] - 0s 51us/sample - loss: 0.3462 - val_loss: 0.3357\n",
            "Epoch 21/100\n",
            "7740/7740 [==============================] - 0s 49us/sample - loss: 0.3371 - val_loss: 0.3188\n",
            "Epoch 22/100\n",
            "7740/7740 [==============================] - 0s 50us/sample - loss: 0.3334 - val_loss: 0.4148\n",
            "Epoch 23/100\n",
            "7740/7740 [==============================] - 0s 49us/sample - loss: 0.3353 - val_loss: 0.3246\n",
            "Epoch 24/100\n",
            "7740/7740 [==============================] - 0s 50us/sample - loss: 0.3269 - val_loss: 0.3313\n",
            "Epoch 25/100\n",
            "7740/7740 [==============================] - 0s 49us/sample - loss: 0.3246 - val_loss: 0.3309\n",
            "Epoch 26/100\n",
            "7740/7740 [==============================] - 0s 49us/sample - loss: 0.3281 - val_loss: 0.3213\n",
            "Epoch 27/100\n",
            "7740/7740 [==============================] - 0s 49us/sample - loss: 0.3240 - val_loss: 0.3116\n",
            "Epoch 28/100\n",
            "7740/7740 [==============================] - 0s 50us/sample - loss: 0.3233 - val_loss: 0.3402\n",
            "Epoch 29/100\n",
            "7740/7740 [==============================] - 0s 49us/sample - loss: 0.3208 - val_loss: 0.3124\n",
            "Epoch 30/100\n",
            "7740/7740 [==============================] - 0s 49us/sample - loss: 0.3208 - val_loss: 0.5901\n",
            "Epoch 31/100\n",
            "7740/7740 [==============================] - 0s 50us/sample - loss: 0.3163 - val_loss: 0.3132\n",
            "Epoch 32/100\n",
            "7740/7740 [==============================] - 0s 49us/sample - loss: 0.3168 - val_loss: 0.3249\n",
            "Epoch 33/100\n",
            "7740/7740 [==============================] - 0s 49us/sample - loss: 0.3158 - val_loss: 0.3193\n",
            "Epoch 34/100\n",
            "7740/7740 [==============================] - 0s 49us/sample - loss: 0.3202 - val_loss: 0.3307\n",
            "Epoch 35/100\n",
            "7740/7740 [==============================] - 0s 51us/sample - loss: 0.3148 - val_loss: 0.3065\n",
            "Epoch 36/100\n",
            "7740/7740 [==============================] - 0s 49us/sample - loss: 0.3138 - val_loss: 0.3064\n",
            "Epoch 37/100\n",
            "7740/7740 [==============================] - 0s 49us/sample - loss: 0.3125 - val_loss: 0.3040\n",
            "Epoch 38/100\n",
            "7740/7740 [==============================] - 0s 49us/sample - loss: 0.3144 - val_loss: 0.3227\n",
            "Epoch 39/100\n",
            "7740/7740 [==============================] - 0s 51us/sample - loss: 0.3098 - val_loss: 0.3469\n",
            "Epoch 40/100\n",
            "7740/7740 [==============================] - 0s 49us/sample - loss: 0.3112 - val_loss: 0.3007\n",
            "Epoch 41/100\n",
            "7740/7740 [==============================] - 0s 49us/sample - loss: 0.3099 - val_loss: 0.3053\n",
            "Epoch 42/100\n",
            "7740/7740 [==============================] - 0s 49us/sample - loss: 0.3096 - val_loss: 0.3016\n",
            "Epoch 43/100\n",
            "7740/7740 [==============================] - 0s 49us/sample - loss: 0.3084 - val_loss: 0.3648\n",
            "Epoch 44/100\n",
            "7740/7740 [==============================] - 0s 50us/sample - loss: 0.3082 - val_loss: 0.3049\n",
            "Epoch 45/100\n",
            "7740/7740 [==============================] - 0s 49us/sample - loss: 0.3076 - val_loss: 0.3051\n",
            "Epoch 46/100\n",
            "7740/7740 [==============================] - 0s 49us/sample - loss: 0.3040 - val_loss: 0.3375\n",
            "Epoch 47/100\n",
            "7740/7740 [==============================] - 0s 50us/sample - loss: 0.3040 - val_loss: 0.3003\n",
            "Epoch 48/100\n",
            "7740/7740 [==============================] - 0s 49us/sample - loss: 0.3036 - val_loss: 0.3025\n",
            "Epoch 49/100\n",
            "7740/7740 [==============================] - 0s 51us/sample - loss: 0.3014 - val_loss: 0.3118\n",
            "Epoch 50/100\n",
            "7740/7740 [==============================] - 0s 49us/sample - loss: 0.3012 - val_loss: 0.4027\n",
            "Epoch 51/100\n",
            "7740/7740 [==============================] - 0s 50us/sample - loss: 0.3014 - val_loss: 0.3034\n",
            "Epoch 52/100\n",
            "7740/7740 [==============================] - 0s 51us/sample - loss: 0.3007 - val_loss: 0.4969\n",
            "Epoch 53/100\n",
            "7740/7740 [==============================] - 0s 50us/sample - loss: 0.3030 - val_loss: 0.3046\n",
            "Epoch 54/100\n",
            "7740/7740 [==============================] - 0s 49us/sample - loss: 0.2991 - val_loss: 0.3077\n",
            "Epoch 55/100\n",
            "7740/7740 [==============================] - 0s 49us/sample - loss: 0.2994 - val_loss: 0.3254\n",
            "Epoch 56/100\n",
            "7740/7740 [==============================] - 0s 50us/sample - loss: 0.2991 - val_loss: 0.2973\n",
            "Epoch 57/100\n",
            "7740/7740 [==============================] - 0s 49us/sample - loss: 0.3000 - val_loss: 0.3210\n",
            "Epoch 58/100\n",
            "7740/7740 [==============================] - 0s 49us/sample - loss: 0.2991 - val_loss: 0.3231\n",
            "Epoch 59/100\n",
            "7740/7740 [==============================] - 0s 49us/sample - loss: 0.2975 - val_loss: 0.3456\n",
            "Epoch 60/100\n",
            "7740/7740 [==============================] - 0s 49us/sample - loss: 0.2978 - val_loss: 0.2990\n",
            "Epoch 61/100\n",
            "7740/7740 [==============================] - 0s 50us/sample - loss: 0.2989 - val_loss: 0.3003\n",
            "Epoch 62/100\n",
            "7740/7740 [==============================] - 0s 49us/sample - loss: 0.2945 - val_loss: 0.2959\n",
            "Epoch 63/100\n",
            "7740/7740 [==============================] - 0s 49us/sample - loss: 0.2930 - val_loss: 0.3382\n",
            "Epoch 64/100\n",
            "7740/7740 [==============================] - 0s 49us/sample - loss: 0.2934 - val_loss: 0.3024\n",
            "Epoch 65/100\n",
            "7740/7740 [==============================] - 0s 50us/sample - loss: 0.2926 - val_loss: 0.3236\n",
            "Epoch 66/100\n",
            "7740/7740 [==============================] - 0s 49us/sample - loss: 0.2937 - val_loss: 0.4075\n",
            "Epoch 67/100\n",
            "7740/7740 [==============================] - 0s 49us/sample - loss: 0.2942 - val_loss: 0.2944\n",
            "Epoch 68/100\n",
            "7740/7740 [==============================] - 0s 49us/sample - loss: 0.2963 - val_loss: 0.5344\n",
            "Epoch 69/100\n",
            "7740/7740 [==============================] - 0s 49us/sample - loss: 0.2936 - val_loss: 0.3137\n",
            "Epoch 70/100\n",
            "7740/7740 [==============================] - 0s 50us/sample - loss: 0.2913 - val_loss: 0.2959\n",
            "Epoch 71/100\n",
            "7740/7740 [==============================] - 0s 49us/sample - loss: 0.2902 - val_loss: 0.3182\n",
            "Epoch 72/100\n",
            "7740/7740 [==============================] - 0s 50us/sample - loss: 0.2914 - val_loss: 0.3047\n",
            "Epoch 73/100\n",
            "7740/7740 [==============================] - 0s 50us/sample - loss: 0.2924 - val_loss: 0.2997\n",
            "Epoch 74/100\n",
            "7740/7740 [==============================] - 0s 49us/sample - loss: 0.2898 - val_loss: 0.2981\n",
            "Epoch 75/100\n",
            "7740/7740 [==============================] - 0s 49us/sample - loss: 0.2897 - val_loss: 0.2955\n",
            "Epoch 76/100\n",
            "7740/7740 [==============================] - 0s 50us/sample - loss: 0.2909 - val_loss: 0.2991\n",
            "Epoch 77/100\n",
            "7740/7740 [==============================] - 0s 48us/sample - loss: 0.2893 - val_loss: 0.3606\n",
            "3870/3870 [==============================] - 0s 24us/sample - loss: 0.3033\n",
            "7740/7740 [==============================] - 0s 24us/sample - loss: 0.2824\n",
            "[CV]  learning_rate=0.02229227827393175, n_hidden=0, n_neurons=65, total=  30.5s\n",
            "[CV] learning_rate=0.013389314011285533, n_hidden=0, n_neurons=18 ....\n",
            "Train on 7740 samples, validate on 3870 samples\n",
            "Epoch 1/100\n",
            "7740/7740 [==============================] - 1s 67us/sample - loss: 1.0593 - val_loss: 11.7325\n",
            "Epoch 2/100\n",
            "7740/7740 [==============================] - 0s 49us/sample - loss: 0.5510 - val_loss: 0.4482\n",
            "Epoch 3/100\n",
            "7740/7740 [==============================] - 0s 49us/sample - loss: 0.4472 - val_loss: 0.3993\n",
            "Epoch 4/100\n",
            "7740/7740 [==============================] - 0s 50us/sample - loss: 0.4219 - val_loss: 0.3855\n",
            "Epoch 5/100\n",
            "7740/7740 [==============================] - 0s 50us/sample - loss: 0.4156 - val_loss: 0.3795\n",
            "Epoch 6/100\n",
            "7740/7740 [==============================] - 0s 49us/sample - loss: 0.4128 - val_loss: 0.3747\n",
            "Epoch 7/100\n",
            "7740/7740 [==============================] - 0s 49us/sample - loss: 0.3973 - val_loss: 0.3704\n",
            "Epoch 8/100\n",
            "7740/7740 [==============================] - 0s 50us/sample - loss: 0.3905 - val_loss: 0.3770\n",
            "Epoch 9/100\n",
            "7740/7740 [==============================] - 0s 50us/sample - loss: 0.3913 - val_loss: 0.3773\n",
            "Epoch 10/100\n",
            "7740/7740 [==============================] - 0s 51us/sample - loss: 0.3838 - val_loss: 0.3620\n",
            "Epoch 11/100\n",
            "7740/7740 [==============================] - 0s 50us/sample - loss: 0.3798 - val_loss: 0.3641\n",
            "Epoch 12/100\n",
            "7740/7740 [==============================] - 0s 51us/sample - loss: 0.3754 - val_loss: 0.3543\n",
            "Epoch 13/100\n",
            "7740/7740 [==============================] - 0s 49us/sample - loss: 0.3725 - val_loss: 0.3517\n",
            "Epoch 14/100\n",
            "7740/7740 [==============================] - 0s 49us/sample - loss: 0.3725 - val_loss: 0.3514\n",
            "Epoch 15/100\n",
            "7740/7740 [==============================] - 0s 50us/sample - loss: 0.3725 - val_loss: 0.3508\n",
            "Epoch 16/100\n",
            "7740/7740 [==============================] - 0s 49us/sample - loss: 0.3708 - val_loss: 0.3465\n",
            "Epoch 17/100\n",
            "7740/7740 [==============================] - 0s 49us/sample - loss: 0.3617 - val_loss: 0.3458\n",
            "Epoch 18/100\n",
            "7740/7740 [==============================] - 0s 49us/sample - loss: 0.3595 - val_loss: 0.3463\n",
            "Epoch 19/100\n",
            "7740/7740 [==============================] - 0s 50us/sample - loss: 0.3604 - val_loss: 0.3476\n",
            "Epoch 20/100\n",
            "7740/7740 [==============================] - 0s 49us/sample - loss: 0.3592 - val_loss: 0.3570\n",
            "Epoch 21/100\n",
            "7740/7740 [==============================] - 0s 50us/sample - loss: 0.3558 - val_loss: 0.3486\n",
            "Epoch 22/100\n",
            "7740/7740 [==============================] - 0s 49us/sample - loss: 0.3581 - val_loss: 0.3512\n",
            "Epoch 23/100\n",
            "7740/7740 [==============================] - 0s 50us/sample - loss: 0.3527 - val_loss: 0.3675\n",
            "Epoch 24/100\n",
            "7740/7740 [==============================] - 0s 49us/sample - loss: 0.3580 - val_loss: 0.3459\n",
            "Epoch 25/100\n",
            "7740/7740 [==============================] - 0s 50us/sample - loss: 0.3499 - val_loss: 0.3464\n",
            "Epoch 26/100\n",
            "7740/7740 [==============================] - 0s 49us/sample - loss: 0.3498 - val_loss: 0.3468\n",
            "Epoch 27/100\n",
            "7740/7740 [==============================] - 0s 49us/sample - loss: 0.3511 - val_loss: 0.3493\n",
            "3870/3870 [==============================] - 0s 23us/sample - loss: 0.3725\n",
            "7740/7740 [==============================] - 0s 22us/sample - loss: 0.3440\n",
            "[CV]  learning_rate=0.013389314011285533, n_hidden=0, n_neurons=18, total=  11.0s\n",
            "[CV] learning_rate=0.013389314011285533, n_hidden=0, n_neurons=18 ....\n",
            "Train on 7740 samples, validate on 3870 samples\n",
            "Epoch 1/100\n",
            "7740/7740 [==============================] - 1s 65us/sample - loss: 0.7563 - val_loss: 1.1414\n",
            "Epoch 2/100\n",
            "7740/7740 [==============================] - 0s 50us/sample - loss: 0.4811 - val_loss: 1.0244\n",
            "Epoch 3/100\n",
            "7740/7740 [==============================] - 0s 50us/sample - loss: 0.4440 - val_loss: 0.5283\n",
            "Epoch 4/100\n",
            "7740/7740 [==============================] - 0s 49us/sample - loss: 0.4287 - val_loss: 0.5093\n",
            "Epoch 5/100\n",
            "7740/7740 [==============================] - 0s 49us/sample - loss: 0.4131 - val_loss: 0.4612\n",
            "Epoch 6/100\n",
            "7740/7740 [==============================] - 0s 52us/sample - loss: 0.4109 - val_loss: 0.5532\n",
            "Epoch 7/100\n",
            "7740/7740 [==============================] - 0s 49us/sample - loss: 0.4017 - val_loss: 0.6895\n",
            "Epoch 8/100\n",
            "7740/7740 [==============================] - 0s 49us/sample - loss: 0.3980 - val_loss: 0.7547\n",
            "Epoch 9/100\n",
            "7740/7740 [==============================] - 0s 50us/sample - loss: 0.3936 - val_loss: 0.6264\n",
            "Epoch 10/100\n",
            "7740/7740 [==============================] - 0s 49us/sample - loss: 0.3926 - val_loss: 0.5808\n",
            "Epoch 11/100\n",
            "7740/7740 [==============================] - 0s 50us/sample - loss: 0.3866 - val_loss: 0.7388\n",
            "Epoch 12/100\n",
            "7740/7740 [==============================] - 0s 52us/sample - loss: 0.3862 - val_loss: 0.7180\n",
            "Epoch 13/100\n",
            "7740/7740 [==============================] - 0s 50us/sample - loss: 0.3829 - val_loss: 0.7995\n",
            "Epoch 14/100\n",
            "7740/7740 [==============================] - 0s 49us/sample - loss: 0.3807 - val_loss: 0.4407\n",
            "Epoch 15/100\n",
            "7740/7740 [==============================] - 0s 49us/sample - loss: 0.3780 - val_loss: 0.7536\n",
            "Epoch 16/100\n",
            "7740/7740 [==============================] - 0s 50us/sample - loss: 0.3751 - val_loss: 0.8570\n",
            "Epoch 17/100\n",
            "7740/7740 [==============================] - 0s 49us/sample - loss: 0.3729 - val_loss: 1.2283\n",
            "Epoch 18/100\n",
            "7740/7740 [==============================] - 0s 50us/sample - loss: 0.3713 - val_loss: 0.5836\n",
            "Epoch 19/100\n",
            "7740/7740 [==============================] - 0s 52us/sample - loss: 0.3697 - val_loss: 0.5400\n",
            "Epoch 20/100\n",
            "7740/7740 [==============================] - 0s 49us/sample - loss: 0.3688 - val_loss: 0.4967\n",
            "Epoch 21/100\n",
            "7740/7740 [==============================] - 0s 51us/sample - loss: 0.3670 - val_loss: 0.6235\n",
            "Epoch 22/100\n",
            "7740/7740 [==============================] - 0s 51us/sample - loss: 0.3667 - val_loss: 0.5195\n",
            "Epoch 23/100\n",
            "7740/7740 [==============================] - 0s 50us/sample - loss: 0.3636 - val_loss: 0.6069\n",
            "Epoch 24/100\n",
            "7740/7740 [==============================] - 0s 50us/sample - loss: 0.3667 - val_loss: 0.6849\n",
            "3870/3870 [==============================] - 0s 23us/sample - loss: 0.3966\n",
            "7740/7740 [==============================] - 0s 23us/sample - loss: 0.3660\n",
            "[CV]  learning_rate=0.013389314011285533, n_hidden=0, n_neurons=18, total=   9.9s\n",
            "[CV] learning_rate=0.013389314011285533, n_hidden=0, n_neurons=18 ....\n",
            "Train on 7740 samples, validate on 3870 samples\n",
            "Epoch 1/100\n",
            "7740/7740 [==============================] - 1s 65us/sample - loss: 0.7229 - val_loss: 8.6390\n",
            "Epoch 2/100\n",
            "7740/7740 [==============================] - 0s 49us/sample - loss: 0.4765 - val_loss: 5.4122\n",
            "Epoch 3/100\n",
            "7740/7740 [==============================] - 0s 50us/sample - loss: 0.4765 - val_loss: 12.7885\n",
            "Epoch 4/100\n",
            "7740/7740 [==============================] - 0s 49us/sample - loss: 0.4912 - val_loss: 0.4784\n",
            "Epoch 5/100\n",
            "7740/7740 [==============================] - 0s 49us/sample - loss: 0.5991 - val_loss: 0.3910\n",
            "Epoch 6/100\n",
            "7740/7740 [==============================] - 0s 50us/sample - loss: 0.4132 - val_loss: 0.3882\n",
            "Epoch 7/100\n",
            "7740/7740 [==============================] - 0s 49us/sample - loss: 0.4031 - val_loss: 0.3718\n",
            "Epoch 8/100\n",
            "7740/7740 [==============================] - 0s 51us/sample - loss: 0.3944 - val_loss: 0.3660\n",
            "Epoch 9/100\n",
            "7740/7740 [==============================] - 0s 50us/sample - loss: 0.3923 - val_loss: 0.3606\n",
            "Epoch 10/100\n",
            "7740/7740 [==============================] - 0s 48us/sample - loss: 0.3841 - val_loss: 0.3831\n",
            "Epoch 11/100\n",
            "7740/7740 [==============================] - 0s 49us/sample - loss: 0.3795 - val_loss: 0.3552\n",
            "Epoch 12/100\n",
            "7740/7740 [==============================] - 0s 48us/sample - loss: 0.3781 - val_loss: 0.3523\n",
            "Epoch 13/100\n",
            "7740/7740 [==============================] - 0s 48us/sample - loss: 0.3733 - val_loss: 0.3492\n",
            "Epoch 14/100\n",
            "7740/7740 [==============================] - 0s 50us/sample - loss: 0.3731 - val_loss: 0.3477\n",
            "Epoch 15/100\n",
            "7740/7740 [==============================] - 0s 48us/sample - loss: 0.3768 - val_loss: 0.3829\n",
            "Epoch 16/100\n",
            "7740/7740 [==============================] - 0s 47us/sample - loss: 0.3733 - val_loss: 0.3527\n",
            "Epoch 17/100\n",
            "7740/7740 [==============================] - 0s 49us/sample - loss: 0.3790 - val_loss: 0.3536\n",
            "Epoch 18/100\n",
            "7740/7740 [==============================] - 0s 50us/sample - loss: 0.3692 - val_loss: 0.3427\n",
            "Epoch 19/100\n",
            "7740/7740 [==============================] - 0s 49us/sample - loss: 0.3653 - val_loss: 0.3431\n",
            "Epoch 20/100\n",
            "7740/7740 [==============================] - 0s 51us/sample - loss: 0.3646 - val_loss: 0.3452\n",
            "Epoch 21/100\n",
            "7740/7740 [==============================] - 0s 49us/sample - loss: 0.3633 - val_loss: 0.3534\n",
            "Epoch 22/100\n",
            "7740/7740 [==============================] - 0s 50us/sample - loss: 0.3627 - val_loss: 0.5184\n",
            "Epoch 23/100\n",
            "7740/7740 [==============================] - 0s 49us/sample - loss: 0.3631 - val_loss: 0.3393\n",
            "Epoch 24/100\n",
            "7740/7740 [==============================] - 0s 49us/sample - loss: 0.3595 - val_loss: 0.4513\n",
            "Epoch 25/100\n",
            "7740/7740 [==============================] - 0s 50us/sample - loss: 0.3715 - val_loss: 0.3397\n",
            "Epoch 26/100\n",
            "7740/7740 [==============================] - 0s 49us/sample - loss: 0.3670 - val_loss: 0.3378\n",
            "Epoch 27/100\n",
            "7740/7740 [==============================] - 0s 49us/sample - loss: 0.3606 - val_loss: 0.3388\n",
            "Epoch 28/100\n",
            "7740/7740 [==============================] - 0s 48us/sample - loss: 0.3583 - val_loss: 0.3368\n",
            "Epoch 29/100\n",
            "7740/7740 [==============================] - 0s 49us/sample - loss: 0.3564 - val_loss: 0.3469\n",
            "Epoch 30/100\n",
            "7740/7740 [==============================] - 0s 50us/sample - loss: 0.3553 - val_loss: 0.3497\n",
            "Epoch 31/100\n",
            "7740/7740 [==============================] - 0s 50us/sample - loss: 0.3540 - val_loss: 0.3687\n",
            "Epoch 32/100\n",
            "7740/7740 [==============================] - 0s 49us/sample - loss: 0.3557 - val_loss: 0.3353\n",
            "Epoch 33/100\n",
            "7740/7740 [==============================] - 0s 49us/sample - loss: 0.3521 - val_loss: 0.3454\n",
            "Epoch 34/100\n",
            "7740/7740 [==============================] - 0s 49us/sample - loss: 0.3575 - val_loss: 0.3365\n",
            "Epoch 35/100\n",
            "7740/7740 [==============================] - 0s 49us/sample - loss: 0.3521 - val_loss: 0.3327\n",
            "Epoch 36/100\n",
            "7740/7740 [==============================] - 0s 49us/sample - loss: 0.3495 - val_loss: 0.3432\n",
            "Epoch 37/100\n",
            "7740/7740 [==============================] - 0s 50us/sample - loss: 0.3517 - val_loss: 0.3349\n",
            "Epoch 38/100\n",
            "7740/7740 [==============================] - 0s 48us/sample - loss: 0.3733 - val_loss: 0.3349\n",
            "Epoch 39/100\n",
            "7740/7740 [==============================] - 0s 49us/sample - loss: 0.3557 - val_loss: 0.3383\n",
            "Epoch 40/100\n",
            "7740/7740 [==============================] - 0s 51us/sample - loss: 0.3496 - val_loss: 0.3779\n",
            "Epoch 41/100\n",
            "7740/7740 [==============================] - 0s 48us/sample - loss: 0.3505 - val_loss: 0.4080\n",
            "Epoch 42/100\n",
            "7740/7740 [==============================] - 0s 49us/sample - loss: 0.3478 - val_loss: 0.3311\n",
            "Epoch 43/100\n",
            "7740/7740 [==============================] - 0s 50us/sample - loss: 0.3479 - val_loss: 0.3347\n",
            "Epoch 44/100\n",
            "7740/7740 [==============================] - 0s 49us/sample - loss: 0.3458 - val_loss: 0.3750\n",
            "Epoch 45/100\n",
            "7740/7740 [==============================] - 0s 50us/sample - loss: 0.3469 - val_loss: 0.3304\n",
            "Epoch 46/100\n",
            "7740/7740 [==============================] - 0s 50us/sample - loss: 0.3476 - val_loss: 0.3315\n",
            "Epoch 47/100\n",
            "7740/7740 [==============================] - 0s 48us/sample - loss: 0.3452 - val_loss: 0.3653\n",
            "Epoch 48/100\n",
            "7740/7740 [==============================] - 0s 49us/sample - loss: 0.3457 - val_loss: 0.3692\n",
            "Epoch 49/100\n",
            "7740/7740 [==============================] - 0s 49us/sample - loss: 0.3450 - val_loss: 0.3635\n",
            "Epoch 50/100\n",
            "7740/7740 [==============================] - 0s 49us/sample - loss: 0.3448 - val_loss: 0.3295\n",
            "Epoch 51/100\n",
            "7740/7740 [==============================] - 0s 49us/sample - loss: 0.3483 - val_loss: 0.3298\n",
            "Epoch 52/100\n",
            "7740/7740 [==============================] - 0s 49us/sample - loss: 0.3467 - val_loss: 0.3291\n",
            "Epoch 53/100\n",
            "7740/7740 [==============================] - 0s 51us/sample - loss: 0.3431 - val_loss: 0.3303\n",
            "Epoch 54/100\n",
            "7740/7740 [==============================] - 0s 50us/sample - loss: 0.3495 - val_loss: 0.3260\n",
            "Epoch 55/100\n",
            "7740/7740 [==============================] - 0s 50us/sample - loss: 0.3462 - val_loss: 0.3267\n",
            "Epoch 56/100\n",
            "7740/7740 [==============================] - 0s 49us/sample - loss: 0.3426 - val_loss: 0.3286\n",
            "Epoch 57/100\n",
            "7740/7740 [==============================] - 0s 50us/sample - loss: 0.3399 - val_loss: 0.3236\n",
            "Epoch 58/100\n",
            "7740/7740 [==============================] - 0s 51us/sample - loss: 0.3406 - val_loss: 0.3227\n",
            "Epoch 59/100\n",
            "7740/7740 [==============================] - 0s 50us/sample - loss: 0.3392 - val_loss: 0.3238\n",
            "Epoch 60/100\n",
            "7740/7740 [==============================] - 0s 50us/sample - loss: 0.3413 - val_loss: 0.3726\n",
            "Epoch 61/100\n",
            "7740/7740 [==============================] - 0s 51us/sample - loss: 0.3384 - val_loss: 0.3232\n",
            "Epoch 62/100\n",
            "7740/7740 [==============================] - 0s 49us/sample - loss: 0.3378 - val_loss: 0.3850\n",
            "Epoch 63/100\n",
            "7740/7740 [==============================] - 0s 49us/sample - loss: 0.3384 - val_loss: 0.3270\n",
            "Epoch 64/100\n",
            "7740/7740 [==============================] - 0s 50us/sample - loss: 0.3405 - val_loss: 0.3240\n",
            "Epoch 65/100\n",
            "7740/7740 [==============================] - 0s 49us/sample - loss: 0.3378 - val_loss: 0.3302\n",
            "Epoch 66/100\n",
            "7740/7740 [==============================] - 0s 49us/sample - loss: 0.3359 - val_loss: 0.3239\n",
            "Epoch 67/100\n",
            "7740/7740 [==============================] - 0s 49us/sample - loss: 0.3378 - val_loss: 0.3208\n",
            "Epoch 68/100\n",
            "7740/7740 [==============================] - 0s 49us/sample - loss: 0.3365 - val_loss: 0.3383\n",
            "Epoch 69/100\n",
            "7740/7740 [==============================] - 0s 49us/sample - loss: 0.3351 - val_loss: 0.4702\n",
            "Epoch 70/100\n",
            "7740/7740 [==============================] - 0s 49us/sample - loss: 0.3365 - val_loss: 0.3201\n",
            "Epoch 71/100\n",
            "7740/7740 [==============================] - 0s 49us/sample - loss: 0.3379 - val_loss: 0.3180\n",
            "Epoch 72/100\n",
            "7740/7740 [==============================] - 0s 50us/sample - loss: 0.3346 - val_loss: 0.3312\n",
            "Epoch 73/100\n",
            "7740/7740 [==============================] - 0s 50us/sample - loss: 0.3366 - val_loss: 0.3275\n",
            "Epoch 74/100\n",
            "7740/7740 [==============================] - 0s 49us/sample - loss: 0.3438 - val_loss: 0.3251\n",
            "Epoch 75/100\n",
            "7740/7740 [==============================] - 0s 50us/sample - loss: 0.3363 - val_loss: 0.3195\n",
            "Epoch 76/100\n",
            "7740/7740 [==============================] - 0s 49us/sample - loss: 0.3350 - val_loss: 0.3223\n",
            "Epoch 77/100\n",
            "7740/7740 [==============================] - 0s 50us/sample - loss: 0.3332 - val_loss: 0.3558\n",
            "Epoch 78/100\n",
            "7740/7740 [==============================] - 0s 50us/sample - loss: 0.3349 - val_loss: 0.3211\n",
            "Epoch 79/100\n",
            "7740/7740 [==============================] - 0s 49us/sample - loss: 0.3332 - val_loss: 0.3329\n",
            "Epoch 80/100\n",
            "7740/7740 [==============================] - 0s 50us/sample - loss: 0.3331 - val_loss: 0.4395\n",
            "Epoch 81/100\n",
            "7740/7740 [==============================] - 0s 50us/sample - loss: 0.3337 - val_loss: 0.3186\n",
            "3870/3870 [==============================] - 0s 23us/sample - loss: 0.3297\n",
            "7740/7740 [==============================] - 0s 22us/sample - loss: 0.3294\n",
            "[CV]  learning_rate=0.013389314011285533, n_hidden=0, n_neurons=18, total=  31.6s\n",
            "[CV] learning_rate=0.011696544506002878, n_hidden=3, n_neurons=35 ....\n",
            "Train on 7740 samples, validate on 3870 samples\n",
            "Epoch 1/100\n",
            "7740/7740 [==============================] - 1s 77us/sample - loss: 0.9086 - val_loss: 0.4823\n",
            "Epoch 2/100\n",
            "7740/7740 [==============================] - 0s 57us/sample - loss: 0.4678 - val_loss: 0.4253\n",
            "Epoch 3/100\n",
            "7740/7740 [==============================] - 0s 56us/sample - loss: 0.3994 - val_loss: 0.4096\n",
            "Epoch 4/100\n",
            "7740/7740 [==============================] - 0s 56us/sample - loss: 0.3783 - val_loss: 0.3518\n",
            "Epoch 5/100\n",
            "7740/7740 [==============================] - 0s 54us/sample - loss: 0.3631 - val_loss: 0.3461\n",
            "Epoch 6/100\n",
            "7740/7740 [==============================] - 0s 56us/sample - loss: 0.3582 - val_loss: 0.3657\n",
            "Epoch 7/100\n",
            "7740/7740 [==============================] - 0s 57us/sample - loss: 0.3490 - val_loss: 0.3926\n",
            "Epoch 8/100\n",
            "7740/7740 [==============================] - 0s 57us/sample - loss: 0.3422 - val_loss: 0.3511\n",
            "Epoch 9/100\n",
            "7740/7740 [==============================] - 0s 57us/sample - loss: 0.3396 - val_loss: 0.3583\n",
            "Epoch 10/100\n",
            "7740/7740 [==============================] - 0s 58us/sample - loss: 0.3358 - val_loss: 0.3383\n",
            "Epoch 11/100\n",
            "7740/7740 [==============================] - 0s 57us/sample - loss: 0.3294 - val_loss: 0.3368\n",
            "Epoch 12/100\n",
            "7740/7740 [==============================] - 0s 57us/sample - loss: 0.3267 - val_loss: 0.3469\n",
            "Epoch 13/100\n",
            "7740/7740 [==============================] - 0s 55us/sample - loss: 0.3223 - val_loss: 0.3150\n",
            "Epoch 14/100\n",
            "7740/7740 [==============================] - 0s 57us/sample - loss: 0.3208 - val_loss: 0.3277\n",
            "Epoch 15/100\n",
            "7740/7740 [==============================] - 0s 58us/sample - loss: 0.3136 - val_loss: 0.3235\n",
            "Epoch 16/100\n",
            "7740/7740 [==============================] - 0s 56us/sample - loss: 0.3114 - val_loss: 0.3737\n",
            "Epoch 17/100\n",
            "7740/7740 [==============================] - 0s 57us/sample - loss: 0.3103 - val_loss: 0.2956\n",
            "Epoch 18/100\n",
            "7740/7740 [==============================] - 0s 56us/sample - loss: 0.3076 - val_loss: 0.3105\n",
            "Epoch 19/100\n",
            "7740/7740 [==============================] - 0s 56us/sample - loss: 0.3017 - val_loss: 0.3317\n",
            "Epoch 20/100\n",
            "7740/7740 [==============================] - 0s 56us/sample - loss: 0.3017 - val_loss: 0.3203\n",
            "Epoch 21/100\n",
            "7740/7740 [==============================] - 0s 57us/sample - loss: 0.2991 - val_loss: 0.3214\n",
            "Epoch 22/100\n",
            "7740/7740 [==============================] - 0s 60us/sample - loss: 0.2968 - val_loss: 0.3682\n",
            "Epoch 23/100\n",
            "7740/7740 [==============================] - 0s 57us/sample - loss: 0.2956 - val_loss: 0.3052\n",
            "Epoch 24/100\n",
            "7740/7740 [==============================] - 0s 57us/sample - loss: 0.2915 - val_loss: 0.3090\n",
            "Epoch 25/100\n",
            "7740/7740 [==============================] - 0s 57us/sample - loss: 0.2880 - val_loss: 0.3147\n",
            "Epoch 26/100\n",
            "7740/7740 [==============================] - 0s 59us/sample - loss: 0.2859 - val_loss: 0.3827\n",
            "Epoch 27/100\n",
            "7740/7740 [==============================] - 0s 56us/sample - loss: 0.2876 - val_loss: 0.2774\n",
            "Epoch 28/100\n",
            "7740/7740 [==============================] - 0s 56us/sample - loss: 0.2813 - val_loss: 0.3060\n",
            "Epoch 29/100\n",
            "7740/7740 [==============================] - 0s 57us/sample - loss: 0.2818 - val_loss: 0.2909\n",
            "Epoch 30/100\n",
            "7740/7740 [==============================] - 0s 55us/sample - loss: 0.2790 - val_loss: 0.3043\n",
            "Epoch 31/100\n",
            "7740/7740 [==============================] - 0s 56us/sample - loss: 0.2785 - val_loss: 0.3087\n",
            "Epoch 32/100\n",
            "7740/7740 [==============================] - 0s 57us/sample - loss: 0.2780 - val_loss: 0.3016\n",
            "Epoch 33/100\n",
            "7740/7740 [==============================] - 0s 58us/sample - loss: 0.2768 - val_loss: 0.3127\n",
            "Epoch 34/100\n",
            "7740/7740 [==============================] - 0s 57us/sample - loss: 0.2755 - val_loss: 0.2854\n",
            "Epoch 35/100\n",
            "7740/7740 [==============================] - 0s 57us/sample - loss: 0.2718 - val_loss: 0.3412\n",
            "Epoch 36/100\n",
            "7740/7740 [==============================] - 0s 56us/sample - loss: 0.2737 - val_loss: 0.2710\n",
            "Epoch 37/100\n",
            "7740/7740 [==============================] - 0s 59us/sample - loss: 0.2697 - val_loss: 0.2765\n",
            "Epoch 38/100\n",
            "7740/7740 [==============================] - 0s 56us/sample - loss: 0.2681 - val_loss: 0.3657\n",
            "Epoch 39/100\n",
            "7740/7740 [==============================] - 0s 56us/sample - loss: 0.2909 - val_loss: 0.2730\n",
            "Epoch 40/100\n",
            "7740/7740 [==============================] - 0s 57us/sample - loss: 0.2750 - val_loss: 0.3485\n",
            "Epoch 41/100\n",
            "7740/7740 [==============================] - 0s 56us/sample - loss: 0.2714 - val_loss: 0.4198\n",
            "Epoch 42/100\n",
            "7740/7740 [==============================] - 0s 57us/sample - loss: 0.2682 - val_loss: 0.4332\n",
            "Epoch 43/100\n",
            "7740/7740 [==============================] - 0s 56us/sample - loss: 0.2708 - val_loss: 0.2711\n",
            "Epoch 44/100\n",
            "7740/7740 [==============================] - 0s 56us/sample - loss: 0.2663 - val_loss: 0.2702\n",
            "Epoch 45/100\n",
            "7740/7740 [==============================] - 0s 56us/sample - loss: 0.2662 - val_loss: 0.3660\n",
            "Epoch 46/100\n",
            "7740/7740 [==============================] - 0s 57us/sample - loss: 0.2656 - val_loss: 0.3011\n",
            "Epoch 47/100\n",
            "7740/7740 [==============================] - 0s 58us/sample - loss: 0.2653 - val_loss: 0.3605\n",
            "Epoch 48/100\n",
            "7740/7740 [==============================] - 0s 57us/sample - loss: 0.2612 - val_loss: 0.2833\n",
            "Epoch 49/100\n",
            "7740/7740 [==============================] - 0s 59us/sample - loss: 0.2642 - val_loss: 0.8127\n",
            "Epoch 50/100\n",
            "7740/7740 [==============================] - 0s 57us/sample - loss: 0.2806 - val_loss: 0.4825\n",
            "Epoch 51/100\n",
            "7740/7740 [==============================] - 0s 60us/sample - loss: 0.2707 - val_loss: 1.2207\n",
            "Epoch 52/100\n",
            "7740/7740 [==============================] - 0s 57us/sample - loss: 0.2909 - val_loss: 0.4347\n",
            "Epoch 53/100\n",
            "7740/7740 [==============================] - 0s 56us/sample - loss: 0.2668 - val_loss: 0.4334\n",
            "Epoch 54/100\n",
            "7740/7740 [==============================] - 0s 57us/sample - loss: 0.2618 - val_loss: 0.2961\n",
            "3870/3870 [==============================] - 0s 25us/sample - loss: 0.3189\n",
            "7740/7740 [==============================] - 0s 26us/sample - loss: 0.2638\n",
            "[CV]  learning_rate=0.011696544506002878, n_hidden=3, n_neurons=35, total=  24.6s\n",
            "[CV] learning_rate=0.011696544506002878, n_hidden=3, n_neurons=35 ....\n",
            "Train on 7740 samples, validate on 3870 samples\n",
            "Epoch 1/100\n",
            "7740/7740 [==============================] - 1s 79us/sample - loss: 0.8010 - val_loss: 0.4892\n",
            "Epoch 2/100\n",
            "7740/7740 [==============================] - 0s 56us/sample - loss: 0.4604 - val_loss: 0.3907\n",
            "Epoch 3/100\n",
            "7740/7740 [==============================] - 0s 56us/sample - loss: 0.3973 - val_loss: 0.4431\n",
            "Epoch 4/100\n",
            "7740/7740 [==============================] - 0s 58us/sample - loss: 0.3722 - val_loss: 0.4880\n",
            "Epoch 5/100\n",
            "7740/7740 [==============================] - 0s 56us/sample - loss: 0.3599 - val_loss: 0.8178\n",
            "Epoch 6/100\n",
            "7740/7740 [==============================] - 0s 54us/sample - loss: 0.3542 - val_loss: 0.5536\n",
            "Epoch 7/100\n",
            "7740/7740 [==============================] - 0s 56us/sample - loss: 0.3473 - val_loss: 0.5726\n",
            "Epoch 8/100\n",
            "7740/7740 [==============================] - 0s 57us/sample - loss: 0.3405 - val_loss: 0.5665\n",
            "Epoch 9/100\n",
            "7740/7740 [==============================] - 0s 55us/sample - loss: 0.3349 - val_loss: 0.6424\n",
            "Epoch 10/100\n",
            "7740/7740 [==============================] - 0s 56us/sample - loss: 0.3335 - val_loss: 0.6588\n",
            "Epoch 11/100\n",
            "7740/7740 [==============================] - 0s 57us/sample - loss: 0.3282 - val_loss: 0.7353\n",
            "Epoch 12/100\n",
            "7740/7740 [==============================] - 0s 55us/sample - loss: 0.3242 - val_loss: 0.6900\n",
            "3870/3870 [==============================] - 0s 25us/sample - loss: 0.3488\n",
            "7740/7740 [==============================] - 0s 25us/sample - loss: 0.3207\n",
            "[CV]  learning_rate=0.011696544506002878, n_hidden=3, n_neurons=35, total=   6.0s\n",
            "[CV] learning_rate=0.011696544506002878, n_hidden=3, n_neurons=35 ....\n",
            "Train on 7740 samples, validate on 3870 samples\n",
            "Epoch 1/100\n",
            "7740/7740 [==============================] - 1s 78us/sample - loss: 0.8751 - val_loss: 18.6589\n",
            "Epoch 2/100\n",
            "7740/7740 [==============================] - 0s 57us/sample - loss: 0.9462 - val_loss: 2.4183\n",
            "Epoch 3/100\n",
            "7740/7740 [==============================] - 0s 56us/sample - loss: 0.9008 - val_loss: 0.4897\n",
            "Epoch 4/100\n",
            "7740/7740 [==============================] - 0s 55us/sample - loss: 0.4720 - val_loss: 1.2783\n",
            "Epoch 5/100\n",
            "7740/7740 [==============================] - 0s 55us/sample - loss: 0.4741 - val_loss: 2.6113\n",
            "Epoch 6/100\n",
            "7740/7740 [==============================] - 0s 56us/sample - loss: 0.4262 - val_loss: 3.9008\n",
            "Epoch 7/100\n",
            "7740/7740 [==============================] - 0s 55us/sample - loss: 0.4429 - val_loss: 34.7757\n",
            "Epoch 8/100\n",
            "7740/7740 [==============================] - 0s 56us/sample - loss: 0.4027 - val_loss: 4.3036\n",
            "Epoch 9/100\n",
            "7740/7740 [==============================] - 0s 56us/sample - loss: 0.3895 - val_loss: 3.8143\n",
            "Epoch 10/100\n",
            "7740/7740 [==============================] - 0s 56us/sample - loss: 0.3732 - val_loss: 1.0334\n",
            "Epoch 11/100\n",
            "7740/7740 [==============================] - 0s 57us/sample - loss: 0.3705 - val_loss: 0.5665\n",
            "Epoch 12/100\n",
            "7740/7740 [==============================] - 0s 55us/sample - loss: 0.3588 - val_loss: 0.4122\n",
            "Epoch 13/100\n",
            "7740/7740 [==============================] - 0s 56us/sample - loss: 0.3512 - val_loss: 0.3574\n",
            "Epoch 14/100\n",
            "7740/7740 [==============================] - 0s 56us/sample - loss: 0.3473 - val_loss: 0.3424\n",
            "Epoch 15/100\n",
            "7740/7740 [==============================] - 0s 57us/sample - loss: 0.3434 - val_loss: 0.3615\n",
            "Epoch 16/100\n",
            "7740/7740 [==============================] - 0s 57us/sample - loss: 0.3415 - val_loss: 0.3327\n",
            "Epoch 17/100\n",
            "7740/7740 [==============================] - 0s 55us/sample - loss: 0.3391 - val_loss: 0.3482\n",
            "Epoch 18/100\n",
            "7740/7740 [==============================] - 0s 55us/sample - loss: 0.3338 - val_loss: 0.3192\n",
            "Epoch 19/100\n",
            "7740/7740 [==============================] - 0s 54us/sample - loss: 0.3323 - val_loss: 0.3220\n",
            "Epoch 20/100\n",
            "7740/7740 [==============================] - 0s 56us/sample - loss: 0.3258 - val_loss: 0.3155\n",
            "Epoch 21/100\n",
            "7740/7740 [==============================] - 0s 56us/sample - loss: 0.3260 - val_loss: 0.3389\n",
            "Epoch 22/100\n",
            "7740/7740 [==============================] - 0s 56us/sample - loss: 0.3214 - val_loss: 0.3215\n",
            "Epoch 23/100\n",
            "7740/7740 [==============================] - 0s 57us/sample - loss: 0.3193 - val_loss: 0.3375\n",
            "Epoch 24/100\n",
            "7740/7740 [==============================] - 0s 57us/sample - loss: 0.3156 - val_loss: 0.2966\n",
            "Epoch 25/100\n",
            "7740/7740 [==============================] - 0s 56us/sample - loss: 0.3124 - val_loss: 0.3072\n",
            "Epoch 26/100\n",
            "7740/7740 [==============================] - 0s 55us/sample - loss: 0.3104 - val_loss: 0.3078\n",
            "Epoch 27/100\n",
            "7740/7740 [==============================] - 0s 55us/sample - loss: 0.3079 - val_loss: 0.2968\n",
            "Epoch 28/100\n",
            "7740/7740 [==============================] - 0s 55us/sample - loss: 0.3059 - val_loss: 0.3206\n",
            "Epoch 29/100\n",
            "7740/7740 [==============================] - 0s 57us/sample - loss: 0.3034 - val_loss: 0.3226\n",
            "Epoch 30/100\n",
            "7740/7740 [==============================] - 0s 57us/sample - loss: 0.3026 - val_loss: 0.2865\n",
            "Epoch 31/100\n",
            "7740/7740 [==============================] - 0s 56us/sample - loss: 0.2990 - val_loss: 0.3261\n",
            "Epoch 32/100\n",
            "7740/7740 [==============================] - 0s 57us/sample - loss: 0.2980 - val_loss: 0.2869\n",
            "Epoch 33/100\n",
            "7740/7740 [==============================] - 0s 56us/sample - loss: 0.2964 - val_loss: 0.3033\n",
            "Epoch 34/100\n",
            "7740/7740 [==============================] - 0s 56us/sample - loss: 0.2968 - val_loss: 0.2972\n",
            "Epoch 35/100\n",
            "7740/7740 [==============================] - 0s 56us/sample - loss: 0.2938 - val_loss: 0.2921\n",
            "Epoch 36/100\n",
            "7740/7740 [==============================] - 0s 55us/sample - loss: 0.2907 - val_loss: 0.3055\n",
            "Epoch 37/100\n",
            "7740/7740 [==============================] - 0s 56us/sample - loss: 0.2901 - val_loss: 0.2849\n",
            "Epoch 38/100\n",
            "7740/7740 [==============================] - 0s 58us/sample - loss: 0.2865 - val_loss: 0.2948\n",
            "Epoch 39/100\n",
            "7740/7740 [==============================] - 0s 55us/sample - loss: 0.2856 - val_loss: 0.2998\n",
            "Epoch 40/100\n",
            "7740/7740 [==============================] - 0s 56us/sample - loss: 0.2858 - val_loss: 0.3048\n",
            "Epoch 41/100\n",
            "7740/7740 [==============================] - 0s 56us/sample - loss: 0.2831 - val_loss: 0.2787\n",
            "Epoch 42/100\n",
            "7740/7740 [==============================] - 0s 57us/sample - loss: 0.2825 - val_loss: 0.3031\n",
            "Epoch 43/100\n",
            "7740/7740 [==============================] - 0s 57us/sample - loss: 0.2820 - val_loss: 0.2811\n",
            "Epoch 44/100\n",
            "7740/7740 [==============================] - 0s 57us/sample - loss: 0.2796 - val_loss: 0.3017\n",
            "Epoch 45/100\n",
            "7740/7740 [==============================] - 0s 57us/sample - loss: 0.2789 - val_loss: 0.3086\n",
            "Epoch 46/100\n",
            "7740/7740 [==============================] - 0s 56us/sample - loss: 0.2791 - val_loss: 0.2893\n",
            "Epoch 47/100\n",
            "7740/7740 [==============================] - 0s 57us/sample - loss: 0.2771 - val_loss: 0.2893\n",
            "Epoch 48/100\n",
            "7740/7740 [==============================] - 0s 56us/sample - loss: 0.2764 - val_loss: 0.2889\n",
            "Epoch 49/100\n",
            "7740/7740 [==============================] - 0s 56us/sample - loss: 0.2775 - val_loss: 0.2781\n",
            "Epoch 50/100\n",
            "7740/7740 [==============================] - 0s 56us/sample - loss: 0.2756 - val_loss: 0.2814\n",
            "Epoch 51/100\n",
            "7740/7740 [==============================] - 0s 56us/sample - loss: 0.2736 - val_loss: 0.2838\n",
            "Epoch 52/100\n",
            "7740/7740 [==============================] - 0s 57us/sample - loss: 0.2745 - val_loss: 0.2873\n",
            "Epoch 53/100\n",
            "7740/7740 [==============================] - 0s 55us/sample - loss: 0.2719 - val_loss: 0.3097\n",
            "Epoch 54/100\n",
            "7740/7740 [==============================] - 0s 56us/sample - loss: 0.2729 - val_loss: 0.2870\n",
            "Epoch 55/100\n",
            "7740/7740 [==============================] - 0s 56us/sample - loss: 0.2717 - val_loss: 0.2990\n",
            "Epoch 56/100\n",
            "7740/7740 [==============================] - 0s 58us/sample - loss: 0.2717 - val_loss: 0.2805\n",
            "Epoch 57/100\n",
            "7740/7740 [==============================] - 0s 57us/sample - loss: 0.2708 - val_loss: 0.2888\n",
            "Epoch 58/100\n",
            "7740/7740 [==============================] - 0s 57us/sample - loss: 0.2684 - val_loss: 0.2779\n",
            "Epoch 59/100\n",
            "7740/7740 [==============================] - 0s 57us/sample - loss: 0.2689 - val_loss: 0.2818\n",
            "Epoch 60/100\n",
            "7740/7740 [==============================] - 0s 58us/sample - loss: 0.2690 - val_loss: 0.2743\n",
            "Epoch 61/100\n",
            "7740/7740 [==============================] - 0s 59us/sample - loss: 0.2677 - val_loss: 0.3273\n",
            "Epoch 62/100\n",
            "7740/7740 [==============================] - 0s 58us/sample - loss: 0.2671 - val_loss: 0.2831\n",
            "Epoch 63/100\n",
            "7740/7740 [==============================] - 0s 58us/sample - loss: 0.2664 - val_loss: 0.3209\n",
            "Epoch 64/100\n",
            "7740/7740 [==============================] - 0s 56us/sample - loss: 0.2672 - val_loss: 0.3045\n",
            "Epoch 65/100\n",
            "7740/7740 [==============================] - 0s 57us/sample - loss: 0.2651 - val_loss: 0.3462\n",
            "Epoch 66/100\n",
            "7740/7740 [==============================] - 0s 56us/sample - loss: 0.2662 - val_loss: 0.2769\n",
            "Epoch 67/100\n",
            "7740/7740 [==============================] - 0s 56us/sample - loss: 0.2639 - val_loss: 0.2781\n",
            "Epoch 68/100\n",
            "7740/7740 [==============================] - 0s 55us/sample - loss: 0.2628 - val_loss: 0.2961\n",
            "Epoch 69/100\n",
            "7740/7740 [==============================] - 0s 56us/sample - loss: 0.2632 - val_loss: 0.2890\n",
            "Epoch 70/100\n",
            "7740/7740 [==============================] - 0s 57us/sample - loss: 0.2608 - val_loss: 0.2899\n",
            "3870/3870 [==============================] - 0s 26us/sample - loss: 0.2999\n",
            "7740/7740 [==============================] - 0s 25us/sample - loss: 0.2615\n",
            "[CV]  learning_rate=0.011696544506002878, n_hidden=3, n_neurons=35, total=  31.4s\n",
            "[CV] learning_rate=0.013900679624986843, n_hidden=3, n_neurons=27 ....\n",
            "Train on 7740 samples, validate on 3870 samples\n",
            "Epoch 1/100\n",
            "7740/7740 [==============================] - 1s 79us/sample - loss: 0.8292 - val_loss: 1.5926\n",
            "Epoch 2/100\n",
            "7740/7740 [==============================] - 0s 55us/sample - loss: 0.4481 - val_loss: 0.8813\n",
            "Epoch 3/100\n",
            "7740/7740 [==============================] - 0s 56us/sample - loss: 0.3940 - val_loss: 0.3545\n",
            "Epoch 4/100\n",
            "7740/7740 [==============================] - 0s 56us/sample - loss: 0.3710 - val_loss: 0.3515\n",
            "Epoch 5/100\n",
            "7740/7740 [==============================] - 0s 55us/sample - loss: 0.3601 - val_loss: 0.3477\n",
            "Epoch 6/100\n",
            "7740/7740 [==============================] - 0s 55us/sample - loss: 0.3512 - val_loss: 0.3472\n",
            "Epoch 7/100\n",
            "7740/7740 [==============================] - 0s 56us/sample - loss: 0.3496 - val_loss: 0.3338\n",
            "Epoch 8/100\n",
            "7740/7740 [==============================] - 0s 54us/sample - loss: 0.3457 - val_loss: 0.3453\n",
            "Epoch 9/100\n",
            "7740/7740 [==============================] - 0s 54us/sample - loss: 0.3392 - val_loss: 0.3692\n",
            "Epoch 10/100\n",
            "7740/7740 [==============================] - 0s 54us/sample - loss: 0.3377 - val_loss: 0.3322\n",
            "Epoch 11/100\n",
            "7740/7740 [==============================] - 0s 54us/sample - loss: 0.3301 - val_loss: 0.3161\n",
            "Epoch 12/100\n",
            "7740/7740 [==============================] - 0s 54us/sample - loss: 0.3274 - val_loss: 0.3263\n",
            "Epoch 13/100\n",
            "7740/7740 [==============================] - 0s 55us/sample - loss: 0.3296 - val_loss: 0.3152\n",
            "Epoch 14/100\n",
            "7740/7740 [==============================] - 0s 53us/sample - loss: 0.3258 - val_loss: 0.3301\n",
            "Epoch 15/100\n",
            "7740/7740 [==============================] - 0s 54us/sample - loss: 0.3218 - val_loss: 0.3464\n",
            "Epoch 16/100\n",
            "7740/7740 [==============================] - 0s 56us/sample - loss: 0.3211 - val_loss: 0.3059\n",
            "Epoch 17/100\n",
            "7740/7740 [==============================] - 0s 55us/sample - loss: 0.3167 - val_loss: 0.3529\n",
            "Epoch 18/100\n",
            "7740/7740 [==============================] - 0s 56us/sample - loss: 0.3122 - val_loss: 0.3112\n",
            "Epoch 19/100\n",
            "7740/7740 [==============================] - 0s 54us/sample - loss: 0.3146 - val_loss: 0.3058\n",
            "Epoch 20/100\n",
            "7740/7740 [==============================] - 0s 56us/sample - loss: 0.3078 - val_loss: 0.4648\n",
            "Epoch 21/100\n",
            "7740/7740 [==============================] - 0s 55us/sample - loss: 0.3115 - val_loss: 0.3512\n",
            "Epoch 22/100\n",
            "7740/7740 [==============================] - 0s 54us/sample - loss: 0.3105 - val_loss: 0.2929\n",
            "Epoch 23/100\n",
            "7740/7740 [==============================] - 0s 55us/sample - loss: 0.3054 - val_loss: 0.3072\n",
            "Epoch 24/100\n",
            "7740/7740 [==============================] - 0s 54us/sample - loss: 0.3058 - val_loss: 0.3296\n",
            "Epoch 25/100\n",
            "7740/7740 [==============================] - 0s 55us/sample - loss: 0.3014 - val_loss: 0.3258\n",
            "Epoch 26/100\n",
            "7740/7740 [==============================] - 0s 55us/sample - loss: 0.3003 - val_loss: 0.3150\n",
            "Epoch 27/100\n",
            "7740/7740 [==============================] - 0s 56us/sample - loss: 0.2972 - val_loss: 0.3144\n",
            "Epoch 28/100\n",
            "7740/7740 [==============================] - 0s 56us/sample - loss: 0.2963 - val_loss: 0.4051\n",
            "Epoch 29/100\n",
            "7740/7740 [==============================] - 0s 54us/sample - loss: 0.2972 - val_loss: 0.3333\n",
            "Epoch 30/100\n",
            "7740/7740 [==============================] - 0s 54us/sample - loss: 0.2918 - val_loss: 0.3090\n",
            "Epoch 31/100\n",
            "7740/7740 [==============================] - 0s 54us/sample - loss: 0.2909 - val_loss: 0.3016\n",
            "Epoch 32/100\n",
            "7740/7740 [==============================] - 0s 56us/sample - loss: 0.2909 - val_loss: 0.2954\n",
            "3870/3870 [==============================] - 0s 25us/sample - loss: 0.3098\n",
            "7740/7740 [==============================] - 0s 25us/sample - loss: 0.2766\n",
            "[CV]  learning_rate=0.013900679624986843, n_hidden=3, n_neurons=27, total=  14.8s\n",
            "[CV] learning_rate=0.013900679624986843, n_hidden=3, n_neurons=27 ....\n",
            "Train on 7740 samples, validate on 3870 samples\n",
            "Epoch 1/100\n",
            "7740/7740 [==============================] - 1s 79us/sample - loss: 0.6733 - val_loss: 0.4722\n",
            "Epoch 2/100\n",
            "7740/7740 [==============================] - 0s 54us/sample - loss: 0.4101 - val_loss: 0.6391\n",
            "Epoch 3/100\n",
            "7740/7740 [==============================] - 0s 55us/sample - loss: 0.3823 - val_loss: 0.6468\n",
            "Epoch 4/100\n",
            "7740/7740 [==============================] - 0s 54us/sample - loss: 0.3709 - val_loss: 0.5809\n",
            "Epoch 5/100\n",
            "7740/7740 [==============================] - 0s 55us/sample - loss: 0.3581 - val_loss: 0.4992\n",
            "Epoch 6/100\n",
            "7740/7740 [==============================] - 0s 54us/sample - loss: 0.3524 - val_loss: 0.5538\n",
            "Epoch 7/100\n",
            "7740/7740 [==============================] - 0s 55us/sample - loss: 0.3481 - val_loss: 0.6087\n",
            "Epoch 8/100\n",
            "7740/7740 [==============================] - 0s 55us/sample - loss: 0.3453 - val_loss: 0.4286\n",
            "Epoch 9/100\n",
            "7740/7740 [==============================] - 0s 55us/sample - loss: 0.3397 - val_loss: 0.4154\n",
            "Epoch 10/100\n",
            "7740/7740 [==============================] - 0s 56us/sample - loss: 0.3321 - val_loss: 0.3769\n",
            "Epoch 11/100\n",
            "7740/7740 [==============================] - 0s 55us/sample - loss: 0.3318 - val_loss: 0.3769\n",
            "Epoch 12/100\n",
            "7740/7740 [==============================] - 0s 57us/sample - loss: 0.3292 - val_loss: 0.3568\n",
            "Epoch 13/100\n",
            "7740/7740 [==============================] - 0s 56us/sample - loss: 0.3274 - val_loss: 0.3900\n",
            "Epoch 14/100\n",
            "7740/7740 [==============================] - 0s 54us/sample - loss: 0.3233 - val_loss: 0.3744\n",
            "Epoch 15/100\n",
            "7740/7740 [==============================] - 0s 55us/sample - loss: 0.3224 - val_loss: 0.3589\n",
            "Epoch 16/100\n",
            "7740/7740 [==============================] - 0s 55us/sample - loss: 0.3149 - val_loss: 0.3226\n",
            "Epoch 17/100\n",
            "7740/7740 [==============================] - 0s 55us/sample - loss: 0.3133 - val_loss: 0.3414\n",
            "Epoch 18/100\n",
            "7740/7740 [==============================] - 0s 54us/sample - loss: 0.3129 - val_loss: 0.3137\n",
            "Epoch 19/100\n",
            "7740/7740 [==============================] - 0s 57us/sample - loss: 0.3099 - val_loss: 0.3453\n",
            "Epoch 20/100\n",
            "7740/7740 [==============================] - 0s 56us/sample - loss: 0.3093 - val_loss: 0.3135\n",
            "Epoch 21/100\n",
            "7740/7740 [==============================] - 0s 57us/sample - loss: 0.3055 - val_loss: 0.3021\n",
            "Epoch 22/100\n",
            "7740/7740 [==============================] - 0s 55us/sample - loss: 0.3037 - val_loss: 0.3033\n",
            "Epoch 23/100\n",
            "7740/7740 [==============================] - 0s 54us/sample - loss: 0.3037 - val_loss: 0.2997\n",
            "Epoch 24/100\n",
            "7740/7740 [==============================] - 0s 56us/sample - loss: 0.3032 - val_loss: 0.3086\n",
            "Epoch 25/100\n",
            "7740/7740 [==============================] - 0s 57us/sample - loss: 0.2991 - val_loss: 0.3058\n",
            "Epoch 26/100\n",
            "7740/7740 [==============================] - 0s 56us/sample - loss: 0.2975 - val_loss: 0.3274\n",
            "Epoch 27/100\n",
            "7740/7740 [==============================] - 0s 56us/sample - loss: 0.2953 - val_loss: 0.3004\n",
            "Epoch 28/100\n",
            "7740/7740 [==============================] - 0s 55us/sample - loss: 0.2936 - val_loss: 0.2854\n",
            "Epoch 29/100\n",
            "7740/7740 [==============================] - 0s 56us/sample - loss: 0.2889 - val_loss: 0.3138\n",
            "Epoch 30/100\n",
            "7740/7740 [==============================] - 0s 56us/sample - loss: 0.2902 - val_loss: 0.4046\n",
            "Epoch 31/100\n",
            "7740/7740 [==============================] - 0s 56us/sample - loss: 0.2891 - val_loss: 0.3774\n",
            "Epoch 32/100\n",
            "7740/7740 [==============================] - 0s 54us/sample - loss: 0.2852 - val_loss: 0.3659\n",
            "Epoch 33/100\n",
            "7740/7740 [==============================] - 0s 54us/sample - loss: 0.2853 - val_loss: 0.3041\n",
            "Epoch 34/100\n",
            "7740/7740 [==============================] - 0s 57us/sample - loss: 0.2839 - val_loss: 0.2884\n",
            "Epoch 35/100\n",
            "7740/7740 [==============================] - 0s 55us/sample - loss: 0.2833 - val_loss: 0.2784\n",
            "Epoch 36/100\n",
            "7740/7740 [==============================] - 0s 55us/sample - loss: 0.2794 - val_loss: 0.3235\n",
            "Epoch 37/100\n",
            "7740/7740 [==============================] - 0s 53us/sample - loss: 0.2838 - val_loss: 0.4543\n",
            "Epoch 38/100\n",
            "7740/7740 [==============================] - 0s 56us/sample - loss: 0.2777 - val_loss: 0.4160\n",
            "Epoch 39/100\n",
            "7740/7740 [==============================] - 0s 54us/sample - loss: 0.2768 - val_loss: 0.3792\n",
            "Epoch 40/100\n",
            "7740/7740 [==============================] - 0s 55us/sample - loss: 0.2778 - val_loss: 0.2864\n",
            "Epoch 41/100\n",
            "7740/7740 [==============================] - 0s 56us/sample - loss: 0.2759 - val_loss: 0.2791\n",
            "Epoch 42/100\n",
            "7740/7740 [==============================] - 0s 56us/sample - loss: 0.2723 - val_loss: 0.2813\n",
            "Epoch 43/100\n",
            "7740/7740 [==============================] - 0s 56us/sample - loss: 0.2735 - val_loss: 0.3338\n",
            "Epoch 44/100\n",
            "7740/7740 [==============================] - 0s 55us/sample - loss: 0.2704 - val_loss: 0.2921\n",
            "Epoch 45/100\n",
            "7740/7740 [==============================] - 0s 55us/sample - loss: 0.2714 - val_loss: 0.3320\n",
            "3870/3870 [==============================] - 0s 25us/sample - loss: 0.3222\n",
            "7740/7740 [==============================] - 0s 25us/sample - loss: 0.2693\n",
            "[CV]  learning_rate=0.013900679624986843, n_hidden=3, n_neurons=27, total=  20.1s\n",
            "[CV] learning_rate=0.013900679624986843, n_hidden=3, n_neurons=27 ....\n",
            "Train on 7740 samples, validate on 3870 samples\n",
            "Epoch 1/100\n",
            "7740/7740 [==============================] - 1s 77us/sample - loss: 0.6876 - val_loss: 0.7188\n",
            "Epoch 2/100\n",
            "7740/7740 [==============================] - 0s 55us/sample - loss: 0.4206 - val_loss: 0.4482\n",
            "Epoch 3/100\n",
            "7740/7740 [==============================] - 0s 54us/sample - loss: 0.3963 - val_loss: 0.4052\n",
            "Epoch 4/100\n",
            "7740/7740 [==============================] - 0s 55us/sample - loss: 0.3825 - val_loss: 0.3617\n",
            "Epoch 5/100\n",
            "7740/7740 [==============================] - 0s 55us/sample - loss: 0.3726 - val_loss: 0.3419\n",
            "Epoch 6/100\n",
            "7740/7740 [==============================] - 0s 54us/sample - loss: 0.3663 - val_loss: 0.3492\n",
            "Epoch 7/100\n",
            "7740/7740 [==============================] - 0s 54us/sample - loss: 0.3619 - val_loss: 0.5143\n",
            "Epoch 8/100\n",
            "7740/7740 [==============================] - 0s 54us/sample - loss: 0.3585 - val_loss: 0.3777\n",
            "Epoch 9/100\n",
            "7740/7740 [==============================] - 0s 53us/sample - loss: 0.3514 - val_loss: 0.3902\n",
            "Epoch 10/100\n",
            "7740/7740 [==============================] - 0s 54us/sample - loss: 0.3492 - val_loss: 0.3748\n",
            "Epoch 11/100\n",
            "7740/7740 [==============================] - 0s 54us/sample - loss: 0.3427 - val_loss: 0.4215\n",
            "Epoch 12/100\n",
            "7740/7740 [==============================] - 0s 55us/sample - loss: 0.3388 - val_loss: 0.3500\n",
            "Epoch 13/100\n",
            "7740/7740 [==============================] - 0s 56us/sample - loss: 0.3374 - val_loss: 0.4526\n",
            "Epoch 14/100\n",
            "7740/7740 [==============================] - 0s 54us/sample - loss: 0.3331 - val_loss: 0.3169\n",
            "Epoch 15/100\n",
            "7740/7740 [==============================] - 0s 54us/sample - loss: 0.3315 - val_loss: 0.3324\n",
            "Epoch 16/100\n",
            "7740/7740 [==============================] - 0s 55us/sample - loss: 0.3303 - val_loss: 0.3072\n",
            "Epoch 17/100\n",
            "7740/7740 [==============================] - 0s 54us/sample - loss: 0.3275 - val_loss: 0.3510\n",
            "Epoch 18/100\n",
            "7740/7740 [==============================] - 0s 56us/sample - loss: 0.3237 - val_loss: 0.3663\n",
            "Epoch 19/100\n",
            "7740/7740 [==============================] - 0s 54us/sample - loss: 0.3230 - val_loss: 0.3077\n",
            "Epoch 20/100\n",
            "7740/7740 [==============================] - 0s 53us/sample - loss: 0.3193 - val_loss: 0.3818\n",
            "Epoch 21/100\n",
            "7740/7740 [==============================] - 0s 54us/sample - loss: 0.3174 - val_loss: 0.3072\n",
            "Epoch 22/100\n",
            "7740/7740 [==============================] - 0s 53us/sample - loss: 0.3143 - val_loss: 0.7166\n",
            "Epoch 23/100\n",
            "7740/7740 [==============================] - 0s 54us/sample - loss: 0.3244 - val_loss: 0.5171\n",
            "Epoch 24/100\n",
            "7740/7740 [==============================] - 0s 53us/sample - loss: 0.3174 - val_loss: 0.4320\n",
            "Epoch 25/100\n",
            "7740/7740 [==============================] - 0s 54us/sample - loss: 0.3123 - val_loss: 0.3112\n",
            "Epoch 26/100\n",
            "7740/7740 [==============================] - 0s 56us/sample - loss: 0.3128 - val_loss: 0.3381\n",
            "3870/3870 [==============================] - 0s 25us/sample - loss: 0.3307\n",
            "7740/7740 [==============================] - 0s 25us/sample - loss: 0.3188\n",
            "[CV]  learning_rate=0.013900679624986843, n_hidden=3, n_neurons=27, total=  11.7s\n",
            "[CV] learning_rate=0.018799462448897047, n_hidden=2, n_neurons=35 ....\n",
            "Train on 7740 samples, validate on 3870 samples\n",
            "Epoch 1/100\n",
            "7740/7740 [==============================] - 1s 74us/sample - loss: 0.6989 - val_loss: 0.5622\n",
            "Epoch 2/100\n",
            "7740/7740 [==============================] - 0s 54us/sample - loss: 0.4184 - val_loss: 1.6244\n",
            "Epoch 3/100\n",
            "7740/7740 [==============================] - 0s 52us/sample - loss: 0.3853 - val_loss: 0.6169\n",
            "Epoch 4/100\n",
            "7740/7740 [==============================] - 0s 57us/sample - loss: 0.3641 - val_loss: 0.7823\n",
            "Epoch 5/100\n",
            "7740/7740 [==============================] - 0s 56us/sample - loss: 0.3716 - val_loss: 0.4203\n",
            "Epoch 6/100\n",
            "7740/7740 [==============================] - 0s 54us/sample - loss: 0.3520 - val_loss: 1.7930\n",
            "Epoch 7/100\n",
            "7740/7740 [==============================] - 0s 54us/sample - loss: 0.3733 - val_loss: 0.9484\n",
            "Epoch 8/100\n",
            "7740/7740 [==============================] - 0s 53us/sample - loss: 0.3481 - val_loss: 2.6356\n",
            "Epoch 9/100\n",
            "7740/7740 [==============================] - 0s 53us/sample - loss: 0.3563 - val_loss: 1.5026\n",
            "Epoch 10/100\n",
            "7740/7740 [==============================] - 0s 53us/sample - loss: 0.3446 - val_loss: 0.3640\n",
            "Epoch 11/100\n",
            "7740/7740 [==============================] - 0s 53us/sample - loss: 0.3294 - val_loss: 0.3262\n",
            "Epoch 12/100\n",
            "7740/7740 [==============================] - 0s 54us/sample - loss: 0.3227 - val_loss: 0.3265\n",
            "Epoch 13/100\n",
            "7740/7740 [==============================] - 0s 53us/sample - loss: 0.3185 - val_loss: 0.3699\n",
            "Epoch 14/100\n",
            "7740/7740 [==============================] - 0s 54us/sample - loss: 0.3181 - val_loss: 0.3316\n",
            "Epoch 15/100\n",
            "7740/7740 [==============================] - 0s 53us/sample - loss: 0.3129 - val_loss: 0.2988\n",
            "Epoch 16/100\n",
            "7740/7740 [==============================] - 0s 54us/sample - loss: 0.3086 - val_loss: 0.3452\n",
            "Epoch 17/100\n",
            "7740/7740 [==============================] - 0s 56us/sample - loss: 0.3036 - val_loss: 0.3249\n",
            "Epoch 18/100\n",
            "7740/7740 [==============================] - 0s 55us/sample - loss: 0.3032 - val_loss: 0.4108\n",
            "Epoch 19/100\n",
            "7740/7740 [==============================] - 0s 53us/sample - loss: 0.3012 - val_loss: 0.3686\n",
            "Epoch 20/100\n",
            "7740/7740 [==============================] - 0s 53us/sample - loss: 0.2997 - val_loss: 0.2956\n",
            "Epoch 21/100\n",
            "7740/7740 [==============================] - 0s 53us/sample - loss: 0.2948 - val_loss: 0.2891\n",
            "Epoch 22/100\n",
            "7740/7740 [==============================] - 0s 53us/sample - loss: 0.2936 - val_loss: 0.3071\n",
            "Epoch 23/100\n",
            "7740/7740 [==============================] - 0s 53us/sample - loss: 0.2916 - val_loss: 0.2854\n",
            "Epoch 24/100\n",
            "7740/7740 [==============================] - 0s 53us/sample - loss: 0.2930 - val_loss: 0.3165\n",
            "Epoch 25/100\n",
            "7740/7740 [==============================] - 0s 52us/sample - loss: 0.2891 - val_loss: 0.2989\n",
            "Epoch 26/100\n",
            "7740/7740 [==============================] - 0s 54us/sample - loss: 0.2875 - val_loss: 0.2998\n",
            "Epoch 27/100\n",
            "7740/7740 [==============================] - 0s 53us/sample - loss: 0.2843 - val_loss: 0.3003\n",
            "Epoch 28/100\n",
            "7740/7740 [==============================] - 0s 54us/sample - loss: 0.2869 - val_loss: 0.3094\n",
            "Epoch 29/100\n",
            "7740/7740 [==============================] - 0s 52us/sample - loss: 0.2820 - val_loss: 0.3218\n",
            "Epoch 30/100\n",
            "7740/7740 [==============================] - 0s 54us/sample - loss: 0.2821 - val_loss: 0.3056\n",
            "Epoch 31/100\n",
            "7740/7740 [==============================] - 0s 54us/sample - loss: 0.2815 - val_loss: 0.3036\n",
            "Epoch 32/100\n",
            "7740/7740 [==============================] - 0s 53us/sample - loss: 0.2797 - val_loss: 0.3043\n",
            "Epoch 33/100\n",
            "7740/7740 [==============================] - 0s 56us/sample - loss: 0.2775 - val_loss: 0.2847\n",
            "Epoch 34/100\n",
            "7740/7740 [==============================] - 0s 53us/sample - loss: 0.2799 - val_loss: 0.3019\n",
            "Epoch 35/100\n",
            "7740/7740 [==============================] - 0s 53us/sample - loss: 0.2771 - val_loss: 0.2885\n",
            "Epoch 36/100\n",
            "7740/7740 [==============================] - 0s 54us/sample - loss: 0.2780 - val_loss: 0.3624\n",
            "Epoch 37/100\n",
            "7740/7740 [==============================] - 0s 53us/sample - loss: 0.2734 - val_loss: 0.2873\n",
            "Epoch 38/100\n",
            "7740/7740 [==============================] - 0s 55us/sample - loss: 0.2747 - val_loss: 0.3110\n",
            "Epoch 39/100\n",
            "7740/7740 [==============================] - 0s 54us/sample - loss: 0.2723 - val_loss: 0.2952\n",
            "Epoch 40/100\n",
            "7740/7740 [==============================] - 0s 53us/sample - loss: 0.2706 - val_loss: 0.3212\n",
            "Epoch 41/100\n",
            "7740/7740 [==============================] - 0s 54us/sample - loss: 0.2709 - val_loss: 0.2861\n",
            "Epoch 42/100\n",
            "7740/7740 [==============================] - 0s 57us/sample - loss: 0.2710 - val_loss: 0.3293\n",
            "Epoch 43/100\n",
            "7740/7740 [==============================] - 0s 55us/sample - loss: 0.2729 - val_loss: 0.2745\n",
            "Epoch 44/100\n",
            "7740/7740 [==============================] - 0s 55us/sample - loss: 0.2702 - val_loss: 0.3372\n",
            "Epoch 45/100\n",
            "7740/7740 [==============================] - 0s 53us/sample - loss: 0.2679 - val_loss: 0.3065\n",
            "Epoch 46/100\n",
            "7740/7740 [==============================] - 0s 55us/sample - loss: 0.2704 - val_loss: 0.3448\n",
            "Epoch 47/100\n",
            "7740/7740 [==============================] - 0s 58us/sample - loss: 0.2689 - val_loss: 0.3537\n",
            "Epoch 48/100\n",
            "7740/7740 [==============================] - 0s 56us/sample - loss: 0.2660 - val_loss: 0.3760\n",
            "Epoch 49/100\n",
            "7740/7740 [==============================] - 0s 56us/sample - loss: 0.2661 - val_loss: 0.2838\n",
            "Epoch 50/100\n",
            "7740/7740 [==============================] - 0s 55us/sample - loss: 0.2639 - val_loss: 0.2749\n",
            "Epoch 51/100\n",
            "7740/7740 [==============================] - 0s 52us/sample - loss: 0.2661 - val_loss: 0.2934\n",
            "Epoch 52/100\n",
            "7740/7740 [==============================] - 0s 54us/sample - loss: 0.2650 - val_loss: 0.3786\n",
            "Epoch 53/100\n",
            "7740/7740 [==============================] - 0s 53us/sample - loss: 0.2645 - val_loss: 0.9245\n",
            "3870/3870 [==============================] - 0s 23us/sample - loss: 0.3134\n",
            "7740/7740 [==============================] - 0s 24us/sample - loss: 0.2669\n",
            "[CV]  learning_rate=0.018799462448897047, n_hidden=2, n_neurons=35, total=  22.9s\n",
            "[CV] learning_rate=0.018799462448897047, n_hidden=2, n_neurons=35 ....\n",
            "Train on 7740 samples, validate on 3870 samples\n",
            "Epoch 1/100\n",
            "7740/7740 [==============================] - 1s 73us/sample - loss: 0.6711 - val_loss: 0.3926\n",
            "Epoch 2/100\n",
            "7740/7740 [==============================] - 0s 55us/sample - loss: 0.3953 - val_loss: 0.5509\n",
            "Epoch 3/100\n",
            "7740/7740 [==============================] - 0s 52us/sample - loss: 0.3723 - val_loss: 0.8342\n",
            "Epoch 4/100\n",
            "7740/7740 [==============================] - 0s 55us/sample - loss: 0.3608 - val_loss: 1.0785\n",
            "Epoch 5/100\n",
            "7740/7740 [==============================] - 0s 53us/sample - loss: 0.3508 - val_loss: 0.9770\n",
            "Epoch 6/100\n",
            "7740/7740 [==============================] - 0s 54us/sample - loss: 0.3454 - val_loss: 0.4643\n",
            "Epoch 7/100\n",
            "7740/7740 [==============================] - 0s 55us/sample - loss: 0.3422 - val_loss: 0.6505\n",
            "Epoch 8/100\n",
            "7740/7740 [==============================] - 0s 53us/sample - loss: 0.3360 - val_loss: 0.4274\n",
            "Epoch 9/100\n",
            "7740/7740 [==============================] - 0s 54us/sample - loss: 0.3305 - val_loss: 0.3695\n",
            "Epoch 10/100\n",
            "7740/7740 [==============================] - 0s 54us/sample - loss: 0.3277 - val_loss: 0.7260\n",
            "Epoch 11/100\n",
            "7740/7740 [==============================] - 0s 53us/sample - loss: 0.3228 - val_loss: 0.3394\n",
            "Epoch 12/100\n",
            "7740/7740 [==============================] - 0s 54us/sample - loss: 0.3192 - val_loss: 0.5324\n",
            "Epoch 13/100\n",
            "7740/7740 [==============================] - 0s 54us/sample - loss: 0.3138 - val_loss: 0.4918\n",
            "Epoch 14/100\n",
            "7740/7740 [==============================] - 0s 53us/sample - loss: 0.3139 - val_loss: 0.3292\n",
            "Epoch 15/100\n",
            "7740/7740 [==============================] - 0s 53us/sample - loss: 0.3091 - val_loss: 0.5528\n",
            "Epoch 16/100\n",
            "7740/7740 [==============================] - 0s 55us/sample - loss: 0.3067 - val_loss: 1.2003\n",
            "Epoch 17/100\n",
            "7740/7740 [==============================] - 0s 54us/sample - loss: 0.3067 - val_loss: 0.3027\n",
            "Epoch 18/100\n",
            "7740/7740 [==============================] - 0s 55us/sample - loss: 0.3000 - val_loss: 0.9700\n",
            "Epoch 19/100\n",
            "7740/7740 [==============================] - 0s 52us/sample - loss: 0.2974 - val_loss: 1.5790\n",
            "Epoch 20/100\n",
            "7740/7740 [==============================] - 0s 55us/sample - loss: 0.2955 - val_loss: 0.3116\n",
            "Epoch 21/100\n",
            "7740/7740 [==============================] - 0s 62us/sample - loss: 0.2965 - val_loss: 0.3404\n",
            "Epoch 22/100\n",
            "7740/7740 [==============================] - 0s 64us/sample - loss: 0.2914 - val_loss: 1.2913\n",
            "Epoch 23/100\n",
            "7740/7740 [==============================] - 1s 66us/sample - loss: 0.2911 - val_loss: 0.3033\n",
            "Epoch 24/100\n",
            "7740/7740 [==============================] - 1s 65us/sample - loss: 0.2876 - val_loss: 0.4122\n",
            "Epoch 25/100\n",
            "7740/7740 [==============================] - 0s 64us/sample - loss: 0.2872 - val_loss: 0.7181\n",
            "Epoch 26/100\n",
            "7740/7740 [==============================] - 0s 64us/sample - loss: 0.2849 - val_loss: 0.4278\n",
            "Epoch 27/100\n",
            "7740/7740 [==============================] - 0s 63us/sample - loss: 0.2847 - val_loss: 0.9742\n",
            "3870/3870 [==============================] - 0s 30us/sample - loss: 0.3258\n",
            "7740/7740 [==============================] - 0s 30us/sample - loss: 0.2726\n",
            "[CV]  learning_rate=0.018799462448897047, n_hidden=2, n_neurons=35, total=  12.6s\n",
            "[CV] learning_rate=0.018799462448897047, n_hidden=2, n_neurons=35 ....\n",
            "Train on 7740 samples, validate on 3870 samples\n",
            "Epoch 1/100\n",
            "7740/7740 [==============================] - 1s 86us/sample - loss: 0.6597 - val_loss: 0.5069\n",
            "Epoch 2/100\n",
            "7740/7740 [==============================] - 0s 62us/sample - loss: 0.4304 - val_loss: 1.0330\n",
            "Epoch 3/100\n",
            "7740/7740 [==============================] - 0s 58us/sample - loss: 0.4138 - val_loss: 0.6716\n",
            "Epoch 4/100\n",
            "7740/7740 [==============================] - 0s 55us/sample - loss: 0.3912 - val_loss: 3.1627\n",
            "Epoch 5/100\n",
            "7740/7740 [==============================] - 0s 52us/sample - loss: 0.4019 - val_loss: 0.3290\n",
            "Epoch 6/100\n",
            "7740/7740 [==============================] - 0s 52us/sample - loss: 0.3606 - val_loss: 0.5573\n",
            "Epoch 7/100\n",
            "7740/7740 [==============================] - 0s 52us/sample - loss: 0.3553 - val_loss: 0.6948\n",
            "Epoch 8/100\n",
            "7740/7740 [==============================] - 0s 52us/sample - loss: 0.3535 - val_loss: 0.3987\n",
            "Epoch 9/100\n",
            "7740/7740 [==============================] - 0s 53us/sample - loss: 0.3404 - val_loss: 0.3577\n",
            "Epoch 10/100\n",
            "7740/7740 [==============================] - 0s 53us/sample - loss: 0.3368 - val_loss: 0.3340\n",
            "Epoch 11/100\n",
            "7740/7740 [==============================] - 0s 53us/sample - loss: 0.3287 - val_loss: 0.3359\n",
            "Epoch 12/100\n",
            "7740/7740 [==============================] - 0s 52us/sample - loss: 0.3275 - val_loss: 0.3084\n",
            "Epoch 13/100\n",
            "7740/7740 [==============================] - 0s 58us/sample - loss: 0.3197 - val_loss: 0.3249\n",
            "Epoch 14/100\n",
            "7740/7740 [==============================] - 0s 62us/sample - loss: 0.3195 - val_loss: 0.3200\n",
            "Epoch 15/100\n",
            "7740/7740 [==============================] - 0s 60us/sample - loss: 0.3157 - val_loss: 0.4447\n",
            "Epoch 16/100\n",
            "7740/7740 [==============================] - 0s 62us/sample - loss: 0.3151 - val_loss: 0.3515\n",
            "Epoch 17/100\n",
            "7740/7740 [==============================] - 0s 64us/sample - loss: 0.3133 - val_loss: 0.3235\n",
            "Epoch 18/100\n",
            "7740/7740 [==============================] - 0s 64us/sample - loss: 0.3083 - val_loss: 0.3573\n",
            "Epoch 19/100\n",
            "7740/7740 [==============================] - 1s 65us/sample - loss: 0.3073 - val_loss: 0.3281\n",
            "Epoch 20/100\n",
            "7740/7740 [==============================] - 1s 65us/sample - loss: 0.3047 - val_loss: 0.2989\n",
            "Epoch 21/100\n",
            "7740/7740 [==============================] - 0s 63us/sample - loss: 0.3042 - val_loss: 0.3180\n",
            "Epoch 22/100\n",
            "7740/7740 [==============================] - 0s 64us/sample - loss: 0.3071 - val_loss: 0.3230\n",
            "Epoch 23/100\n",
            "7740/7740 [==============================] - 0s 61us/sample - loss: 0.3065 - val_loss: 0.3500\n",
            "Epoch 24/100\n",
            "7740/7740 [==============================] - 0s 62us/sample - loss: 0.2995 - val_loss: 0.3261\n",
            "Epoch 25/100\n",
            "7740/7740 [==============================] - 0s 61us/sample - loss: 0.2975 - val_loss: 0.3063\n",
            "Epoch 26/100\n",
            "7740/7740 [==============================] - 0s 62us/sample - loss: 0.2958 - val_loss: 0.3234\n",
            "Epoch 27/100\n",
            "7740/7740 [==============================] - 0s 64us/sample - loss: 0.2935 - val_loss: 0.2856\n",
            "Epoch 28/100\n",
            "7740/7740 [==============================] - 0s 61us/sample - loss: 0.2929 - val_loss: 0.4114\n",
            "Epoch 29/100\n",
            "7740/7740 [==============================] - 0s 61us/sample - loss: 0.2941 - val_loss: 0.2859\n",
            "Epoch 30/100\n",
            "7740/7740 [==============================] - 0s 61us/sample - loss: 0.2903 - val_loss: 0.4069\n",
            "Epoch 31/100\n",
            "7740/7740 [==============================] - 0s 64us/sample - loss: 0.2864 - val_loss: 0.3028\n",
            "Epoch 32/100\n",
            "7740/7740 [==============================] - 0s 61us/sample - loss: 0.2852 - val_loss: 0.3033\n",
            "Epoch 33/100\n",
            "7740/7740 [==============================] - 0s 61us/sample - loss: 0.2826 - val_loss: 0.3369\n",
            "Epoch 34/100\n",
            "7740/7740 [==============================] - 0s 62us/sample - loss: 0.2843 - val_loss: 0.3093\n",
            "Epoch 35/100\n",
            "7740/7740 [==============================] - 0s 53us/sample - loss: 0.2824 - val_loss: 0.2769\n",
            "Epoch 36/100\n",
            "7740/7740 [==============================] - 0s 52us/sample - loss: 0.2866 - val_loss: 0.2912\n",
            "Epoch 37/100\n",
            "7740/7740 [==============================] - 0s 53us/sample - loss: 0.2822 - val_loss: 0.3066\n",
            "Epoch 38/100\n",
            "7740/7740 [==============================] - 0s 53us/sample - loss: 0.2816 - val_loss: 0.3115\n",
            "Epoch 39/100\n",
            "7740/7740 [==============================] - 0s 54us/sample - loss: 0.2793 - val_loss: 0.3219\n",
            "Epoch 40/100\n",
            "7740/7740 [==============================] - 0s 53us/sample - loss: 0.2791 - val_loss: 0.2845\n",
            "Epoch 41/100\n",
            "7740/7740 [==============================] - 0s 54us/sample - loss: 0.2816 - val_loss: 0.3036\n",
            "Epoch 42/100\n",
            "7740/7740 [==============================] - 0s 54us/sample - loss: 0.2767 - val_loss: 0.2954\n",
            "Epoch 43/100\n",
            "7740/7740 [==============================] - 0s 57us/sample - loss: 0.2766 - val_loss: 0.2999\n",
            "Epoch 44/100\n",
            "7740/7740 [==============================] - 0s 55us/sample - loss: 0.2729 - val_loss: 0.3001\n",
            "Epoch 45/100\n",
            "7740/7740 [==============================] - 0s 53us/sample - loss: 0.2730 - val_loss: 0.2742\n",
            "Epoch 46/100\n",
            "7740/7740 [==============================] - 0s 54us/sample - loss: 0.2735 - val_loss: 0.2847\n",
            "Epoch 47/100\n",
            "7740/7740 [==============================] - 0s 53us/sample - loss: 0.2725 - val_loss: 0.2859\n",
            "Epoch 48/100\n",
            "7740/7740 [==============================] - 0s 54us/sample - loss: 0.2708 - val_loss: 0.2868\n",
            "Epoch 49/100\n",
            "7740/7740 [==============================] - 0s 54us/sample - loss: 0.2686 - val_loss: 0.3958\n",
            "Epoch 50/100\n",
            "7740/7740 [==============================] - 0s 53us/sample - loss: 0.2711 - val_loss: 0.6530\n",
            "Epoch 51/100\n",
            "7740/7740 [==============================] - 0s 54us/sample - loss: 0.2707 - val_loss: 0.3100\n",
            "Epoch 52/100\n",
            "7740/7740 [==============================] - 0s 53us/sample - loss: 0.2705 - val_loss: 0.3110\n",
            "Epoch 53/100\n",
            "7740/7740 [==============================] - 0s 53us/sample - loss: 0.2797 - val_loss: 0.3426\n",
            "Epoch 54/100\n",
            "7740/7740 [==============================] - 0s 55us/sample - loss: 0.2745 - val_loss: 0.2799\n",
            "Epoch 55/100\n",
            "7740/7740 [==============================] - 0s 53us/sample - loss: 0.2688 - val_loss: 0.3995\n",
            "3870/3870 [==============================] - 0s 26us/sample - loss: 0.2849\n",
            "7740/7740 [==============================] - 0s 24us/sample - loss: 0.2596\n",
            "[CV]  learning_rate=0.018799462448897047, n_hidden=2, n_neurons=35, total=  25.2s\n",
            "[CV] learning_rate=0.021913134075387083, n_hidden=2, n_neurons=93 ....\n",
            "Train on 7740 samples, validate on 3870 samples\n",
            "Epoch 1/100\n",
            "7740/7740 [==============================] - 1s 104us/sample - loss: 0.6469 - val_loss: 2.6595\n",
            "Epoch 2/100\n",
            "7740/7740 [==============================] - 1s 84us/sample - loss: 0.4251 - val_loss: 8.9569\n",
            "Epoch 3/100\n",
            "7740/7740 [==============================] - 1s 81us/sample - loss: 0.5000 - val_loss: 7.9103\n",
            "Epoch 4/100\n",
            "7740/7740 [==============================] - 1s 84us/sample - loss: 0.4943 - val_loss: 0.6539\n",
            "Epoch 5/100\n",
            "7740/7740 [==============================] - 1s 83us/sample - loss: 0.3467 - val_loss: 0.6614\n",
            "Epoch 6/100\n",
            "7740/7740 [==============================] - 1s 86us/sample - loss: 0.3467 - val_loss: 0.8742\n",
            "Epoch 7/100\n",
            "7740/7740 [==============================] - 1s 82us/sample - loss: 0.3344 - val_loss: 0.4656\n",
            "Epoch 8/100\n",
            "7740/7740 [==============================] - 1s 83us/sample - loss: 0.3192 - val_loss: 0.4215\n",
            "Epoch 9/100\n",
            "7740/7740 [==============================] - 1s 80us/sample - loss: 0.3147 - val_loss: 0.4164\n",
            "Epoch 10/100\n",
            "7740/7740 [==============================] - 1s 81us/sample - loss: 0.3062 - val_loss: 0.3001\n",
            "Epoch 11/100\n",
            "7740/7740 [==============================] - 1s 82us/sample - loss: 0.3024 - val_loss: 0.3050\n",
            "Epoch 12/100\n",
            "7740/7740 [==============================] - 1s 82us/sample - loss: 0.2964 - val_loss: 0.3022\n",
            "Epoch 13/100\n",
            "7740/7740 [==============================] - 1s 80us/sample - loss: 0.2892 - val_loss: 0.2751\n",
            "Epoch 14/100\n",
            "7740/7740 [==============================] - 1s 80us/sample - loss: 0.2909 - val_loss: 0.3121\n",
            "Epoch 15/100\n",
            "7740/7740 [==============================] - 1s 80us/sample - loss: 0.2872 - val_loss: 0.2925\n",
            "Epoch 16/100\n",
            "7740/7740 [==============================] - 1s 77us/sample - loss: 0.2877 - val_loss: 0.3592\n",
            "Epoch 17/100\n",
            "7740/7740 [==============================] - 1s 81us/sample - loss: 0.2831 - val_loss: 0.2814\n",
            "Epoch 18/100\n",
            "7740/7740 [==============================] - 1s 79us/sample - loss: 0.2780 - val_loss: 0.2925\n",
            "Epoch 19/100\n",
            "7740/7740 [==============================] - 1s 84us/sample - loss: 0.2757 - val_loss: 0.2776\n",
            "Epoch 20/100\n",
            "7740/7740 [==============================] - 1s 82us/sample - loss: 0.2687 - val_loss: 0.3142\n",
            "Epoch 21/100\n",
            "7740/7740 [==============================] - 1s 87us/sample - loss: 0.2703 - val_loss: 0.2798\n",
            "Epoch 22/100\n",
            "7740/7740 [==============================] - 1s 81us/sample - loss: 0.2703 - val_loss: 0.3033\n",
            "Epoch 23/100\n",
            "7740/7740 [==============================] - 1s 83us/sample - loss: 0.2649 - val_loss: 0.3242\n",
            "3870/3870 [==============================] - 0s 33us/sample - loss: 0.3090\n",
            "7740/7740 [==============================] - 0s 31us/sample - loss: 0.2606\n",
            "[CV]  learning_rate=0.021913134075387083, n_hidden=2, n_neurons=93, total=  15.4s\n",
            "[CV] learning_rate=0.021913134075387083, n_hidden=2, n_neurons=93 ....\n",
            "Train on 7740 samples, validate on 3870 samples\n",
            "Epoch 1/100\n",
            "7740/7740 [==============================] - 1s 109us/sample - loss: 0.6072 - val_loss: 0.5874\n",
            "Epoch 2/100\n",
            "7740/7740 [==============================] - 1s 89us/sample - loss: 0.3900 - val_loss: 0.7366\n",
            "Epoch 3/100\n",
            "7740/7740 [==============================] - 1s 85us/sample - loss: 0.3663 - val_loss: 0.5702\n",
            "Epoch 4/100\n",
            "7740/7740 [==============================] - 1s 82us/sample - loss: 0.3575 - val_loss: 0.3858\n",
            "Epoch 5/100\n",
            "7740/7740 [==============================] - 1s 87us/sample - loss: 0.3473 - val_loss: 0.6435\n",
            "Epoch 6/100\n",
            "7740/7740 [==============================] - 1s 84us/sample - loss: 0.3394 - val_loss: 0.3179\n",
            "Epoch 7/100\n",
            "7740/7740 [==============================] - 1s 82us/sample - loss: 0.3298 - val_loss: 0.7137\n",
            "Epoch 8/100\n",
            "7740/7740 [==============================] - 1s 85us/sample - loss: 0.3274 - val_loss: 0.4322\n",
            "Epoch 9/100\n",
            "7740/7740 [==============================] - 1s 82us/sample - loss: 0.3185 - val_loss: 0.3551\n",
            "Epoch 10/100\n",
            "7740/7740 [==============================] - 1s 81us/sample - loss: 0.3181 - val_loss: 0.3366\n",
            "Epoch 11/100\n",
            "7740/7740 [==============================] - 1s 88us/sample - loss: 0.3121 - val_loss: 0.6015\n",
            "Epoch 12/100\n",
            "7740/7740 [==============================] - 1s 84us/sample - loss: 0.3087 - val_loss: 0.2940\n",
            "Epoch 13/100\n",
            "7740/7740 [==============================] - 1s 87us/sample - loss: 0.3022 - val_loss: 0.3414\n",
            "Epoch 14/100\n",
            "7740/7740 [==============================] - 1s 84us/sample - loss: 0.2987 - val_loss: 0.3174\n",
            "Epoch 15/100\n",
            "7740/7740 [==============================] - 1s 81us/sample - loss: 0.2958 - val_loss: 0.2893\n",
            "Epoch 16/100\n",
            "7740/7740 [==============================] - 1s 82us/sample - loss: 0.2958 - val_loss: 0.2897\n",
            "Epoch 17/100\n",
            "7740/7740 [==============================] - 1s 84us/sample - loss: 0.2912 - val_loss: 0.7236\n",
            "Epoch 18/100\n",
            "7740/7740 [==============================] - 1s 80us/sample - loss: 0.2853 - val_loss: 0.9619\n",
            "Epoch 19/100\n",
            "7740/7740 [==============================] - 1s 78us/sample - loss: 0.2913 - val_loss: 1.1779\n",
            "Epoch 20/100\n",
            "7740/7740 [==============================] - 1s 85us/sample - loss: 0.2838 - val_loss: 0.5353\n",
            "Epoch 21/100\n",
            "7740/7740 [==============================] - 1s 80us/sample - loss: 0.2853 - val_loss: 0.8009\n",
            "Epoch 22/100\n",
            "7740/7740 [==============================] - 1s 80us/sample - loss: 0.2818 - val_loss: 0.5778\n",
            "Epoch 23/100\n",
            "7740/7740 [==============================] - 1s 79us/sample - loss: 0.2774 - val_loss: 0.3491\n",
            "Epoch 24/100\n",
            "7740/7740 [==============================] - 1s 81us/sample - loss: 0.2785 - val_loss: 0.4377\n",
            "Epoch 25/100\n",
            "7740/7740 [==============================] - 1s 79us/sample - loss: 0.2752 - val_loss: 0.4121\n",
            "3870/3870 [==============================] - 0s 33us/sample - loss: 0.3179\n",
            "7740/7740 [==============================] - 0s 30us/sample - loss: 0.2718\n",
            "[CV]  learning_rate=0.021913134075387083, n_hidden=2, n_neurons=93, total=  17.2s\n",
            "[CV] learning_rate=0.021913134075387083, n_hidden=2, n_neurons=93 ....\n",
            "Train on 7740 samples, validate on 3870 samples\n",
            "Epoch 1/100\n",
            "7740/7740 [==============================] - 1s 107us/sample - loss: 0.9672 - val_loss: 2.7182\n",
            "Epoch 2/100\n",
            "7740/7740 [==============================] - 1s 83us/sample - loss: 0.7130 - val_loss: 0.5650\n",
            "Epoch 3/100\n",
            "7740/7740 [==============================] - 1s 88us/sample - loss: 0.4735 - val_loss: 24.6039\n",
            "Epoch 4/100\n",
            "7740/7740 [==============================] - 1s 87us/sample - loss: 0.4430 - val_loss: 11.1749\n",
            "Epoch 5/100\n",
            "7740/7740 [==============================] - 1s 80us/sample - loss: nan - val_loss: nan\n",
            "Epoch 6/100\n",
            "7740/7740 [==============================] - 1s 83us/sample - loss: nan - val_loss: nan\n",
            "Epoch 7/100\n",
            "7740/7740 [==============================] - 1s 85us/sample - loss: nan - val_loss: nan\n",
            "Epoch 8/100\n",
            "7740/7740 [==============================] - 1s 84us/sample - loss: nan - val_loss: nan\n",
            "Epoch 9/100\n",
            "7740/7740 [==============================] - 1s 82us/sample - loss: nan - val_loss: nan\n",
            "Epoch 10/100\n",
            "7740/7740 [==============================] - 1s 89us/sample - loss: nan - val_loss: nan\n",
            "Epoch 11/100\n",
            "7740/7740 [==============================] - 1s 81us/sample - loss: nan - val_loss: nan\n",
            "Epoch 12/100\n",
            "7740/7740 [==============================] - 1s 81us/sample - loss: nan - val_loss: nan\n",
            "3870/3870 [==============================] - 0s 33us/sample - loss: nan\n",
            "7740/7740 [==============================] - 0s 31us/sample - loss: nan\n",
            "[CV]  learning_rate=0.021913134075387083, n_hidden=2, n_neurons=93, total=   8.6s\n",
            "Train on 11610 samples, validate on 3870 samples\n"
          ],
          "name": "stdout"
        },
        {
          "output_type": "stream",
          "text": [
            "[Parallel(n_jobs=1)]: Done  30 out of  30 | elapsed: 11.2min finished\n",
            "/usr/local/lib/python3.6/dist-packages/sklearn/model_selection/_search.py:841: DeprecationWarning: The default of the `iid` parameter will change from True to False in version 0.22 and will be removed in 0.24. This will change numeric results when test-set sizes are unequal.\n",
            "  DeprecationWarning)\n"
          ],
          "name": "stderr"
        },
        {
          "output_type": "stream",
          "text": [
            "Epoch 1/100\n",
            "11610/11610 [==============================] - 1s 65us/sample - loss: 0.5753 - val_loss: 2.2489\n",
            "Epoch 2/100\n",
            "11610/11610 [==============================] - 1s 48us/sample - loss: 0.4066 - val_loss: 3.5797\n",
            "Epoch 3/100\n",
            "11610/11610 [==============================] - 1s 48us/sample - loss: 0.3965 - val_loss: 0.4617\n",
            "Epoch 4/100\n",
            "11610/11610 [==============================] - 1s 47us/sample - loss: 0.3628 - val_loss: 0.3249\n",
            "Epoch 5/100\n",
            "11610/11610 [==============================] - 1s 48us/sample - loss: 0.3472 - val_loss: 0.3803\n",
            "Epoch 6/100\n",
            "11610/11610 [==============================] - 1s 48us/sample - loss: 0.3426 - val_loss: 0.3176\n",
            "Epoch 7/100\n",
            "11610/11610 [==============================] - 1s 50us/sample - loss: 0.3404 - val_loss: 0.3594\n",
            "Epoch 8/100\n",
            "11610/11610 [==============================] - 1s 50us/sample - loss: 0.3306 - val_loss: 0.3028\n",
            "Epoch 9/100\n",
            "11610/11610 [==============================] - 1s 49us/sample - loss: 0.3247 - val_loss: 0.3712\n",
            "Epoch 10/100\n",
            "11610/11610 [==============================] - 1s 49us/sample - loss: 0.3197 - val_loss: 0.3124\n",
            "Epoch 11/100\n",
            "11610/11610 [==============================] - 1s 48us/sample - loss: 0.3134 - val_loss: 0.3167\n",
            "Epoch 12/100\n",
            "11610/11610 [==============================] - 1s 48us/sample - loss: 0.3101 - val_loss: 0.3139\n",
            "Epoch 13/100\n",
            "11610/11610 [==============================] - 1s 48us/sample - loss: 0.3085 - val_loss: 0.2912\n",
            "Epoch 14/100\n",
            "11610/11610 [==============================] - 1s 49us/sample - loss: 0.3052 - val_loss: 0.3382\n",
            "Epoch 15/100\n",
            "11610/11610 [==============================] - 1s 49us/sample - loss: 0.3042 - val_loss: 0.3108\n",
            "Epoch 16/100\n",
            "11610/11610 [==============================] - 1s 50us/sample - loss: 0.2984 - val_loss: 0.2882\n",
            "Epoch 17/100\n",
            "11610/11610 [==============================] - 1s 50us/sample - loss: 0.2983 - val_loss: 0.2931\n",
            "Epoch 18/100\n",
            "11610/11610 [==============================] - 1s 50us/sample - loss: 0.2963 - val_loss: 0.2874\n",
            "Epoch 19/100\n",
            "11610/11610 [==============================] - 1s 49us/sample - loss: 0.2936 - val_loss: 0.2815\n",
            "Epoch 20/100\n",
            "11610/11610 [==============================] - 1s 49us/sample - loss: 0.2922 - val_loss: 0.2799\n",
            "Epoch 21/100\n",
            "11610/11610 [==============================] - 1s 49us/sample - loss: 0.2882 - val_loss: 0.2902\n",
            "Epoch 22/100\n",
            "11610/11610 [==============================] - 1s 50us/sample - loss: 0.2876 - val_loss: 0.3331\n",
            "Epoch 23/100\n",
            "11610/11610 [==============================] - 1s 51us/sample - loss: 0.2865 - val_loss: 0.2740\n",
            "Epoch 24/100\n",
            "11610/11610 [==============================] - 1s 50us/sample - loss: 0.2857 - val_loss: 0.2707\n",
            "Epoch 25/100\n",
            "11610/11610 [==============================] - 1s 50us/sample - loss: 0.2837 - val_loss: 0.2946\n",
            "Epoch 26/100\n",
            "11610/11610 [==============================] - 1s 48us/sample - loss: 0.2841 - val_loss: 0.2900\n",
            "Epoch 27/100\n",
            "11610/11610 [==============================] - 1s 50us/sample - loss: 0.2815 - val_loss: 0.3962\n",
            "Epoch 28/100\n",
            "11610/11610 [==============================] - 1s 49us/sample - loss: 0.2827 - val_loss: 0.2821\n",
            "Epoch 29/100\n",
            "11610/11610 [==============================] - 1s 50us/sample - loss: 0.2807 - val_loss: 0.3251\n",
            "Epoch 30/100\n",
            "11610/11610 [==============================] - 1s 47us/sample - loss: 0.2767 - val_loss: 0.3321\n",
            "Epoch 31/100\n",
            "11610/11610 [==============================] - 1s 50us/sample - loss: 0.2768 - val_loss: 0.2909\n",
            "Epoch 32/100\n",
            "11610/11610 [==============================] - 1s 49us/sample - loss: 0.2754 - val_loss: 0.2872\n",
            "Epoch 33/100\n",
            "11610/11610 [==============================] - 1s 49us/sample - loss: 0.2719 - val_loss: 0.2930\n",
            "Epoch 34/100\n",
            "11610/11610 [==============================] - 1s 48us/sample - loss: 0.2734 - val_loss: 0.2719\n"
          ],
          "name": "stdout"
        },
        {
          "output_type": "execute_result",
          "data": {
            "text/plain": [
              "RandomizedSearchCV(cv=3, error_score='raise-deprecating',\n",
              "          estimator=<tensorflow.python.keras.wrappers.scikit_learn.KerasRegressor object at 0x7f0f6a020198>,\n",
              "          fit_params=None, iid='warn', n_iter=10, n_jobs=None,\n",
              "          param_distributions={'n_hidden': [0, 1, 2, 3], 'n_neurons': array([ 1,  2, ..., 98, 99]), 'learning_rate': <scipy.stats._distn_infrastructure.rv_frozen object at 0x7f0f73dea898>},\n",
              "          pre_dispatch='2*n_jobs', random_state=None, refit=True,\n",
              "          return_train_score='warn', scoring=None, verbose=2)"
            ]
          },
          "metadata": {
            "tags": []
          },
          "execution_count": 72
        }
      ]
    },
    {
      "metadata": {
        "id": "9c4d-Mr-RPVQ",
        "colab_type": "code",
        "colab": {
          "base_uri": "https://localhost:8080/",
          "height": 33
        },
        "outputId": "24041d55-7e17-46b0-8986-7605173b8eed"
      },
      "cell_type": "code",
      "source": [
        "rnd_search_cv.best_params_"
      ],
      "execution_count": 73,
      "outputs": [
        {
          "output_type": "execute_result",
          "data": {
            "text/plain": [
              "{'learning_rate': 0.018799462448897047, 'n_hidden': 2, 'n_neurons': 35}"
            ]
          },
          "metadata": {
            "tags": []
          },
          "execution_count": 73
        }
      ]
    },
    {
      "metadata": {
        "id": "d7K37LWWRPVR",
        "colab_type": "code",
        "colab": {
          "base_uri": "https://localhost:8080/",
          "height": 33
        },
        "outputId": "6264913a-f21d-45ec-a58e-9a485152719f"
      },
      "cell_type": "code",
      "source": [
        "rnd_search_cv.best_score_"
      ],
      "execution_count": 74,
      "outputs": [
        {
          "output_type": "execute_result",
          "data": {
            "text/plain": [
              "-0.30800893278495695"
            ]
          },
          "metadata": {
            "tags": []
          },
          "execution_count": 74
        }
      ]
    },
    {
      "metadata": {
        "id": "RLUYrjIHRPVR",
        "colab_type": "code",
        "colab": {
          "base_uri": "https://localhost:8080/",
          "height": 33
        },
        "outputId": "adb36d6c-1915-465f-b240-9a61c83a8601"
      },
      "cell_type": "code",
      "source": [
        "rnd_search_cv.best_estimator_"
      ],
      "execution_count": 75,
      "outputs": [
        {
          "output_type": "execute_result",
          "data": {
            "text/plain": [
              "<tensorflow.python.keras.wrappers.scikit_learn.KerasRegressor at 0x7f0f742224e0>"
            ]
          },
          "metadata": {
            "tags": []
          },
          "execution_count": 75
        }
      ]
    },
    {
      "metadata": {
        "id": "wccJZgORRPVU",
        "colab_type": "text"
      },
      "cell_type": "markdown",
      "source": [
        "### 6.5)\n",
        "Evaluate the best model found on the test set. You can either use the best estimator's `score()` method, or get its underlying Keras model *via* its `model` attribute, and call this model's `evaluate()` method. Note that the estimator returns the negative mean square error (it's a score, not a loss, so higher is better)."
      ]
    },
    {
      "metadata": {
        "id": "CCfIIQYsRPVU",
        "colab_type": "code",
        "colab": {
          "base_uri": "https://localhost:8080/",
          "height": 50
        },
        "outputId": "b67ed8bb-cf04-478a-f2ee-35004265fce5"
      },
      "cell_type": "code",
      "source": [
        "rnd_search_cv.score(X_test_scaled, y_test)"
      ],
      "execution_count": 76,
      "outputs": [
        {
          "output_type": "stream",
          "text": [
            "5160/5160 [==============================] - 0s 29us/sample - loss: 0.2830\n"
          ],
          "name": "stdout"
        },
        {
          "output_type": "execute_result",
          "data": {
            "text/plain": [
              "-0.28301668686922204"
            ]
          },
          "metadata": {
            "tags": []
          },
          "execution_count": 76
        }
      ]
    },
    {
      "metadata": {
        "id": "u4bsVUNFRPVV",
        "colab_type": "code",
        "colab": {
          "base_uri": "https://localhost:8080/",
          "height": 50
        },
        "outputId": "8b106aab-1ae8-41b1-a1a7-325b1c7255fd"
      },
      "cell_type": "code",
      "source": [
        "model = rnd_search_cv.best_estimator_.model\n",
        "model.evaluate(X_test_scaled, y_test)"
      ],
      "execution_count": 77,
      "outputs": [
        {
          "output_type": "stream",
          "text": [
            "5160/5160 [==============================] - 0s 28us/sample - loss: 0.2830\n"
          ],
          "name": "stdout"
        },
        {
          "output_type": "execute_result",
          "data": {
            "text/plain": [
              "0.28301668686922204"
            ]
          },
          "metadata": {
            "tags": []
          },
          "execution_count": 77
        }
      ]
    },
    {
      "metadata": {
        "id": "AsmW8IYARPVV",
        "colab_type": "text"
      },
      "cell_type": "markdown",
      "source": [
        "### 6.6)\n",
        "Finally, save the best Keras model found. **Tip**: it is available via the best estimator's `model` attribute, and just need to call its `save()` method."
      ]
    },
    {
      "metadata": {
        "id": "AYlt1P3LRPVV",
        "colab_type": "code",
        "colab": {}
      },
      "cell_type": "code",
      "source": [
        "model.save(\"my_fine_tuned_housing_model.h5\")"
      ],
      "execution_count": 0,
      "outputs": []
    },
    {
      "metadata": {
        "id": "P9e9wQIfRPVW",
        "colab_type": "text"
      },
      "cell_type": "markdown",
      "source": [
        "![Exercise](https://c1.staticflickr.com/9/8101/8553474140_c50cf08708_b.jpg)"
      ]
    },
    {
      "metadata": {
        "id": "c4kqwt-JRPVW",
        "colab_type": "text"
      },
      "cell_type": "markdown",
      "source": [
        "## Exercise 7 – The functional API"
      ]
    },
    {
      "metadata": {
        "id": "sZvGXFcsRPVW",
        "colab_type": "text"
      },
      "cell_type": "markdown",
      "source": [
        "Not all neural network models are simply sequential. Some may have complex topologies. Some may have multiple inputs and/or multiple outputs. For example, a Wide & Deep neural network (see [paper](https://ai.google/research/pubs/pub45413)) connects all or part of the inputs directly to the output layer, as shown on the following diagram:"
      ]
    },
    {
      "metadata": {
        "id": "V_S9BInRRPVW",
        "colab_type": "text"
      },
      "cell_type": "markdown",
      "source": [
        "<img src=\"https://github.com/ageron/tf2_course/blob/master/images/wide_and_deep_net.png?raw=1\" title=\"Wide and deep net\" width=300 />"
      ]
    },
    {
      "metadata": {
        "id": "ILFVy2lSRPVW",
        "colab_type": "text"
      },
      "cell_type": "markdown",
      "source": [
        "### 7.1)\n",
        "Use Keras' functional API to implement a Wide & Deep network to tackle the California housing problem.\n",
        "\n",
        "**Tips**:\n",
        "* You need to create a `keras.layers.Input` layer to represent the inputs. Don't forget to specify the input `shape`.\n",
        "* Create the `Dense` layers, and connect them by using them like functions. For example, `hidden1 = keras.layers.Dense(30, activation=\"relu\")(input)` and `hidden2 = keras.layers.Dense(30, activation=\"relu\")(hidden1)`\n",
        "* Use the `keras.layers.concatenate()` function to concatenate the input layer and the second hidden layer's output.\n",
        "* Create a `keras.models.Model` and specify its `inputs` and `outputs` (e.g., `inputs=[input]`).\n",
        "* Then use this model just like a `Sequential` model: you need to compile it, display its summary, train it, evaluate it and use it to make predictions."
      ]
    },
    {
      "metadata": {
        "id": "hUoA2ez1RPVW",
        "colab_type": "code",
        "colab": {}
      },
      "cell_type": "code",
      "source": [
        ""
      ],
      "execution_count": 0,
      "outputs": []
    },
    {
      "metadata": {
        "id": "9a2GqzfKRPVX",
        "colab_type": "code",
        "colab": {}
      },
      "cell_type": "code",
      "source": [
        ""
      ],
      "execution_count": 0,
      "outputs": []
    },
    {
      "metadata": {
        "id": "dKDTLCd2RPVX",
        "colab_type": "code",
        "colab": {}
      },
      "cell_type": "code",
      "source": [
        ""
      ],
      "execution_count": 0,
      "outputs": []
    },
    {
      "metadata": {
        "id": "pZChwbg_RPVY",
        "colab_type": "text"
      },
      "cell_type": "markdown",
      "source": [
        "### 7.2)\n",
        "After the Sequential API and the Functional API, let's try the Subclassing API:\n",
        "* Create a subclass of the `keras.models.Model` class.\n",
        "* Create all the layers you need in the constructor (e.g., `self.hidden1 = keras.layers.Dense(...)`).\n",
        "* Use the layers to process the `input` in the `call()` method, and return the output.\n",
        "* Note that you do not need to create a `keras.layers.Input` in this case.\n",
        "* Also note that `self.output` is used by Keras, so you should use another name for the output layer (e.g., `self.output_layer`).\n",
        "\n",
        "**When should you use the Subclassing API?**\n",
        "* Both the Sequential API and the Functional API are declarative: you first declare the list of layers you need and how they are connected, and only then can you feed your model with actual data. The models that these APIs build are just static graphs of layers. This has many advantages (easy inspection, debugging, saving, loading, sharing, etc.), and they cover the vast majority of use cases, but if you need to build a very dynamic model (e.g., with loops or conditional branching), or if you want to experiment with new ideas using an imperative programming style, then the Subclassing API is for you. You can pretty much do any computation you want in the `call()` method, possibly with loops and conditions, using Keras layers of even low-level TensorFlow operations.\n",
        "* However, this extra flexibility comes at the cost of less transparency. Since the model is defined within the `call()` method, Keras cannot fully inspect it. All it sees is the list of model attributes (which include the layers you define in the constructor), so when you display the model summary you just see a list of unconnected layers. Consequently, you cannot save or load the model without writing extra code. So this API is best used only when you really need the extra flexibility."
      ]
    },
    {
      "metadata": {
        "id": "TWNE3avjRPVZ",
        "colab_type": "code",
        "colab": {}
      },
      "cell_type": "code",
      "source": [
        "class MyModel(keras.models.Model):\n",
        "    def __init__(self):\n",
        "        super(MyModel, self).__init__()\n",
        "        # create layers here\n",
        "\n",
        "    def call(self, input):\n",
        "        # write any code here, using layers or even low-level TF code\n",
        "        return output\n",
        "\n",
        "model = MyModel()"
      ],
      "execution_count": 0,
      "outputs": []
    },
    {
      "metadata": {
        "id": "DIcNUEoZRPVZ",
        "colab_type": "code",
        "colab": {}
      },
      "cell_type": "code",
      "source": [
        ""
      ],
      "execution_count": 0,
      "outputs": []
    },
    {
      "metadata": {
        "id": "0iZVEzjXRPVa",
        "colab_type": "code",
        "colab": {}
      },
      "cell_type": "code",
      "source": [
        ""
      ],
      "execution_count": 0,
      "outputs": []
    },
    {
      "metadata": {
        "id": "MthBD4bnRPVa",
        "colab_type": "code",
        "colab": {}
      },
      "cell_type": "code",
      "source": [
        ""
      ],
      "execution_count": 0,
      "outputs": []
    },
    {
      "metadata": {
        "id": "uUXS2YMcRPVa",
        "colab_type": "text"
      },
      "cell_type": "markdown",
      "source": [
        "### 7.3)\n",
        "Now suppose you want to send only features 0 to 4 directly to the output, and only features 2 to 7 through the hidden layers, as shown on the following diagram. Use the functional API to build, train and evaluate this model.\n",
        "\n",
        "**Tips**:\n",
        "* You need to create two `keras.layers.Input` (`input_A` and `input_B`)\n",
        "* Build the model using the functional API, as above, but when you build the `keras.models.Model`, remember to set `inputs=[input_A, input_B]`\n",
        "* When calling `fit()`, `evaluate()` and  `predict()`, instead of passing `X_train_scaled`, pass `(X_train_scaled_A, X_train_scaled_B)` (two NumPy arrays containing only the appropriate features copied from `X_train_scaled`)."
      ]
    },
    {
      "metadata": {
        "id": "bwVHgk4hRPVb",
        "colab_type": "text"
      },
      "cell_type": "markdown",
      "source": [
        "<img src=\"https://github.com/ageron/tf2_course/blob/master/images/multiple_inputs.png?raw=1\" title=\"Multiple inputs\" width=300 />"
      ]
    },
    {
      "metadata": {
        "id": "yB9YaiQKRPVb",
        "colab_type": "code",
        "colab": {}
      },
      "cell_type": "code",
      "source": [
        ""
      ],
      "execution_count": 0,
      "outputs": []
    },
    {
      "metadata": {
        "id": "1cfwyQYSRPVb",
        "colab_type": "code",
        "colab": {}
      },
      "cell_type": "code",
      "source": [
        ""
      ],
      "execution_count": 0,
      "outputs": []
    },
    {
      "metadata": {
        "id": "WmdGU_nbRPVb",
        "colab_type": "code",
        "colab": {}
      },
      "cell_type": "code",
      "source": [
        ""
      ],
      "execution_count": 0,
      "outputs": []
    },
    {
      "metadata": {
        "id": "NTdf8BRwRPVc",
        "colab_type": "text"
      },
      "cell_type": "markdown",
      "source": [
        "### 7.4)\n",
        "Build the multi-input and multi-output neural net represented in the following diagram.\n",
        "\n",
        "<img src=\"https://github.com/ageron/tf2_course/blob/master/images/multiple_inputs_and_outputs.png?raw=1\" title=\"Multiple inputs and outputs\" width=400 />\n",
        "\n",
        "**Why?**\n",
        "\n",
        "There are many use cases in which having multiple outputs can be useful:\n",
        "* Your task may require multiple outputs, for example, you may want to locate and classify the main object in a picture. This is both a regression task (finding the coordinates of the object's center, as well as its width and height) and a classification task.\n",
        "* Similarly, you may have multiple independent tasks to perform based on the same data. Sure, you could train one neural network per task, but in many cases you will get better results on all tasks by training a single neural network with one output per task. This is because the neural network can learn features in the data that are useful across tasks.\n",
        "* Another use case is as a regularization technique (i.e., a training constraint whose objective is to reduce overfitting and thus improve the model's ability to generalize). For example, you may want to add some auxiliary outputs in a neural network architecture (as shown in the diagram) to ensure that that the underlying part of the network learns something useful on its own, without relying on the rest of the network.\n",
        "\n",
        "**Tips**:\n",
        "* Building the model is pretty straightforward using the functional API. Just make sure you specify both outputs when creating the `keras.models.Model`, for example `outputs=[output, aux_output]`.\n",
        "* Each output has its own loss function. In this scenario, they will be identical, so you can either specify `loss=\"mse\"` (this loss will apply to both outputs) or `loss=[\"mse\", \"mse\"]`, which does the same thing.\n",
        "* The final loss used to train the whole network is just a weighted sum of all loss functions. In this scenario, you want most to give a much smaller weight to the auxiliary output, so when compiling the model, you must specify `loss_weights=[0.9, 0.1]`.\n",
        "* When calling `fit()` or `evaluate()`, you need to pass the labels for all outputs. In this scenario the labels will be the same for the main output and for the auxiliary output, so make sure to pass `(y_train, y_train)` instead of `y_train`.\n",
        "* The `predict()` method will return both the main output and the auxiliary output."
      ]
    },
    {
      "metadata": {
        "id": "7Dq7UdxlRPVc",
        "colab_type": "code",
        "colab": {}
      },
      "cell_type": "code",
      "source": [
        ""
      ],
      "execution_count": 0,
      "outputs": []
    },
    {
      "metadata": {
        "id": "kHDSlR0SRPVc",
        "colab_type": "code",
        "colab": {}
      },
      "cell_type": "code",
      "source": [
        ""
      ],
      "execution_count": 0,
      "outputs": []
    },
    {
      "metadata": {
        "id": "aYXnhDdvRPVd",
        "colab_type": "code",
        "colab": {}
      },
      "cell_type": "code",
      "source": [
        ""
      ],
      "execution_count": 0,
      "outputs": []
    },
    {
      "metadata": {
        "id": "E9nG3_bARPVe",
        "colab_type": "text"
      },
      "cell_type": "markdown",
      "source": [
        "![Exercise solution](https://camo.githubusercontent.com/250388fde3fac9135ead9471733ee28e049f7a37/68747470733a2f2f75706c6f61642e77696b696d656469612e6f72672f77696b6970656469612f636f6d6d6f6e732f302f30362f46696c6f735f736567756e646f5f6c6f676f5f253238666c69707065642532392e6a7067)"
      ]
    },
    {
      "metadata": {
        "id": "gHHA0Z1SRPVe",
        "colab_type": "text"
      },
      "cell_type": "markdown",
      "source": [
        "## Exercise 7 – Solution"
      ]
    },
    {
      "metadata": {
        "id": "fMFQ195BRPVe",
        "colab_type": "text"
      },
      "cell_type": "markdown",
      "source": [
        "### 7.1)\n",
        "Use Keras' functional API to implement a Wide & Deep network to tackle the California housing problem."
      ]
    },
    {
      "metadata": {
        "id": "6ucumLSYRPVe",
        "colab_type": "code",
        "colab": {}
      },
      "cell_type": "code",
      "source": [
        "input = keras.layers.Input(shape=X_train.shape[1:])\n",
        "hidden1 = keras.layers.Dense(30, activation=\"relu\")(input)\n",
        "hidden2 = keras.layers.Dense(30, activation=\"relu\")(hidden1)\n",
        "concat = keras.layers.concatenate([input, hidden2])\n",
        "output = keras.layers.Dense(1)(concat)"
      ],
      "execution_count": 0,
      "outputs": []
    },
    {
      "metadata": {
        "id": "yMHVXShSRPVf",
        "colab_type": "code",
        "colab": {}
      },
      "cell_type": "code",
      "source": [
        "model = keras.models.Model(inputs=[input], outputs=[output])"
      ],
      "execution_count": 0,
      "outputs": []
    },
    {
      "metadata": {
        "id": "bj0nYn-dRPVf",
        "colab_type": "code",
        "colab": {}
      },
      "cell_type": "code",
      "source": [
        "model.compile(loss=\"mean_squared_error\", optimizer=\"sgd\")"
      ],
      "execution_count": 0,
      "outputs": []
    },
    {
      "metadata": {
        "id": "jbJuPB93RPVg",
        "colab_type": "code",
        "colab": {
          "base_uri": "https://localhost:8080/",
          "height": 326
        },
        "outputId": "5102f5f8-205b-4d84-abdc-6f024c8678b8"
      },
      "cell_type": "code",
      "source": [
        "model.summary()"
      ],
      "execution_count": 82,
      "outputs": [
        {
          "output_type": "stream",
          "text": [
            "Model: \"model\"\n",
            "__________________________________________________________________________________________________\n",
            "Layer (type)                    Output Shape         Param #     Connected to                     \n",
            "==================================================================================================\n",
            "input_1 (InputLayer)            [(None, 8)]          0                                            \n",
            "__________________________________________________________________________________________________\n",
            "dense_159 (Dense)               (None, 30)           270         input_1[0][0]                    \n",
            "__________________________________________________________________________________________________\n",
            "dense_160 (Dense)               (None, 30)           930         dense_159[0][0]                  \n",
            "__________________________________________________________________________________________________\n",
            "concatenate (Concatenate)       (None, 38)           0           input_1[0][0]                    \n",
            "                                                                 dense_160[0][0]                  \n",
            "__________________________________________________________________________________________________\n",
            "dense_161 (Dense)               (None, 1)            39          concatenate[0][0]                \n",
            "==================================================================================================\n",
            "Total params: 1,239\n",
            "Trainable params: 1,239\n",
            "Non-trainable params: 0\n",
            "__________________________________________________________________________________________________\n"
          ],
          "name": "stdout"
        }
      ]
    },
    {
      "metadata": {
        "id": "tpQmSUN0RPVg",
        "colab_type": "code",
        "colab": {
          "base_uri": "https://localhost:8080/",
          "height": 358
        },
        "outputId": "10d7b91b-6698-4ad6-bb04-8a81ccbe10f4"
      },
      "cell_type": "code",
      "source": [
        "history = model.fit(X_train_scaled, y_train, epochs=10,\n",
        "                    validation_data=(X_valid_scaled, y_valid))"
      ],
      "execution_count": 83,
      "outputs": [
        {
          "output_type": "stream",
          "text": [
            "Train on 11610 samples, validate on 3870 samples\n",
            "Epoch 1/10\n",
            "11610/11610 [==============================] - 1s 61us/sample - loss: 1.7020 - val_loss: 1.2252\n",
            "Epoch 2/10\n",
            "11610/11610 [==============================] - 1s 46us/sample - loss: 0.6714 - val_loss: 0.6308\n",
            "Epoch 3/10\n",
            "11610/11610 [==============================] - 1s 46us/sample - loss: 0.6209 - val_loss: 0.5736\n",
            "Epoch 4/10\n",
            "11610/11610 [==============================] - 1s 46us/sample - loss: 0.5896 - val_loss: 0.5538\n",
            "Epoch 5/10\n",
            "11610/11610 [==============================] - 1s 46us/sample - loss: 0.5658 - val_loss: 0.5257\n",
            "Epoch 6/10\n",
            "11610/11610 [==============================] - 1s 45us/sample - loss: 0.5462 - val_loss: 0.5314\n",
            "Epoch 7/10\n",
            "11610/11610 [==============================] - 1s 46us/sample - loss: 0.5281 - val_loss: 0.5033\n",
            "Epoch 8/10\n",
            "11610/11610 [==============================] - 1s 45us/sample - loss: 0.5139 - val_loss: 0.4958\n",
            "Epoch 9/10\n",
            "11610/11610 [==============================] - 1s 47us/sample - loss: 0.5004 - val_loss: 0.5170\n",
            "Epoch 10/10\n",
            "11610/11610 [==============================] - 1s 45us/sample - loss: 0.4890 - val_loss: 0.5095\n"
          ],
          "name": "stdout"
        }
      ]
    },
    {
      "metadata": {
        "id": "k5uIya_9RPVg",
        "colab_type": "code",
        "colab": {
          "base_uri": "https://localhost:8080/",
          "height": 50
        },
        "outputId": "322b6af2-b5f0-4623-c94a-fba882d0e1c1"
      },
      "cell_type": "code",
      "source": [
        "model.evaluate(X_test_scaled, y_test)"
      ],
      "execution_count": 84,
      "outputs": [
        {
          "output_type": "stream",
          "text": [
            "5160/5160 [==============================] - 0s 23us/sample - loss: 0.4795\n"
          ],
          "name": "stdout"
        },
        {
          "output_type": "execute_result",
          "data": {
            "text/plain": [
              "0.4794762220493583"
            ]
          },
          "metadata": {
            "tags": []
          },
          "execution_count": 84
        }
      ]
    },
    {
      "metadata": {
        "id": "4zrY5HK-RPVh",
        "colab_type": "code",
        "colab": {
          "base_uri": "https://localhost:8080/",
          "height": 131
        },
        "outputId": "98c1001c-9e08-40a2-d1ec-5d8617432518"
      },
      "cell_type": "code",
      "source": [
        "model.predict(X_test_scaled)"
      ],
      "execution_count": 85,
      "outputs": [
        {
          "output_type": "execute_result",
          "data": {
            "text/plain": [
              "array([[0.4621063],\n",
              "       [1.393166 ],\n",
              "       [3.097611 ],\n",
              "       ...,\n",
              "       [1.2330668],\n",
              "       [2.6873953],\n",
              "       [3.6915073]], dtype=float32)"
            ]
          },
          "metadata": {
            "tags": []
          },
          "execution_count": 85
        }
      ]
    },
    {
      "metadata": {
        "id": "MNI_cZCiRPVh",
        "colab_type": "text"
      },
      "cell_type": "markdown",
      "source": [
        "### 7.2)\n",
        "After the Sequential API and the Functional API, let's try the Subclassing API:\n",
        "* Create a subclass of the `keras.models.Model` class.\n",
        "* Create all the layers you need in the constructor (e.g., `self.hidden1 = keras.layers.Dense(...)`).\n",
        "* Use the layers to process the `input` in the `call()` method, and return the output.\n",
        "* Note that you do not need to create a `keras.layers.Input` in this case.\n",
        "* Also note that `self.output` is used by Keras, so you should use another name for the output layer (e.g., `self.output_layer`)."
      ]
    },
    {
      "metadata": {
        "id": "6Pw89ns-RPVh",
        "colab_type": "code",
        "colab": {}
      },
      "cell_type": "code",
      "source": [
        "class MyModel(keras.models.Model):\n",
        "    def __init__(self):\n",
        "        super(MyModel, self).__init__()\n",
        "        self.hidden1 = keras.layers.Dense(30, activation=\"relu\")\n",
        "        self.hidden2 = keras.layers.Dense(30, activation=\"relu\")\n",
        "        self.output_ = keras.layers.Dense(1)\n",
        "\n",
        "    def call(self, input):\n",
        "        hidden1 = self.hidden1(input)\n",
        "        hidden2 = self.hidden2(hidden1)\n",
        "        concat = keras.layers.concatenate([input, hidden2])\n",
        "        output = self.output_(concat)\n",
        "        return output\n",
        "\n",
        "model = MyModel()"
      ],
      "execution_count": 0,
      "outputs": []
    },
    {
      "metadata": {
        "id": "lpOkVtb8RPVi",
        "colab_type": "code",
        "colab": {}
      },
      "cell_type": "code",
      "source": [
        "model.compile(loss=\"mse\", optimizer=\"sgd\")"
      ],
      "execution_count": 0,
      "outputs": []
    },
    {
      "metadata": {
        "id": "6TaMebr3RPVi",
        "colab_type": "code",
        "colab": {
          "base_uri": "https://localhost:8080/",
          "height": 358
        },
        "outputId": "4b2f3f8b-570d-4c50-aaa4-4544ffff2aa3"
      },
      "cell_type": "code",
      "source": [
        "history = model.fit(X_train_scaled, y_train, epochs=10,\n",
        "                    validation_data=(X_valid_scaled, y_valid))"
      ],
      "execution_count": 88,
      "outputs": [
        {
          "output_type": "stream",
          "text": [
            "Train on 11610 samples, validate on 3870 samples\n",
            "Epoch 1/10\n",
            "11610/11610 [==============================] - 1s 60us/sample - loss: 1.6204 - val_loss: 0.8130\n",
            "Epoch 2/10\n",
            "11610/11610 [==============================] - 1s 47us/sample - loss: 0.7397 - val_loss: 0.6680\n",
            "Epoch 3/10\n",
            "11610/11610 [==============================] - 1s 48us/sample - loss: 0.6684 - val_loss: 0.6123\n",
            "Epoch 4/10\n",
            "11610/11610 [==============================] - 1s 46us/sample - loss: 0.6236 - val_loss: 0.5814\n",
            "Epoch 5/10\n",
            "11610/11610 [==============================] - 1s 45us/sample - loss: 0.5874 - val_loss: 0.5531\n",
            "Epoch 6/10\n",
            "11610/11610 [==============================] - 1s 45us/sample - loss: 0.5621 - val_loss: 0.5155\n",
            "Epoch 7/10\n",
            "11610/11610 [==============================] - 1s 46us/sample - loss: 0.5392 - val_loss: 0.4974\n",
            "Epoch 8/10\n",
            "11610/11610 [==============================] - 1s 47us/sample - loss: 0.5209 - val_loss: 0.4764\n",
            "Epoch 9/10\n",
            "11610/11610 [==============================] - 1s 47us/sample - loss: 0.5048 - val_loss: 0.4640\n",
            "Epoch 10/10\n",
            "11610/11610 [==============================] - 1s 47us/sample - loss: 0.4908 - val_loss: 0.4648\n"
          ],
          "name": "stdout"
        }
      ]
    },
    {
      "metadata": {
        "id": "djqzC1t8RPVj",
        "colab_type": "code",
        "colab": {
          "base_uri": "https://localhost:8080/",
          "height": 245
        },
        "outputId": "fbf86fed-8f68-4ef2-9a5c-3463e6c8ecef"
      },
      "cell_type": "code",
      "source": [
        "model.summary()"
      ],
      "execution_count": 89,
      "outputs": [
        {
          "output_type": "stream",
          "text": [
            "Model: \"my_model\"\n",
            "_________________________________________________________________\n",
            "Layer (type)                 Output Shape              Param #   \n",
            "=================================================================\n",
            "dense_162 (Dense)            multiple                  270       \n",
            "_________________________________________________________________\n",
            "dense_163 (Dense)            multiple                  930       \n",
            "_________________________________________________________________\n",
            "dense_164 (Dense)            multiple                  39        \n",
            "=================================================================\n",
            "Total params: 1,239\n",
            "Trainable params: 1,239\n",
            "Non-trainable params: 0\n",
            "_________________________________________________________________\n"
          ],
          "name": "stdout"
        }
      ]
    },
    {
      "metadata": {
        "id": "x6CRjtsLRPVj",
        "colab_type": "code",
        "colab": {
          "base_uri": "https://localhost:8080/",
          "height": 50
        },
        "outputId": "5729f568-283e-4522-de61-d5db19f37297"
      },
      "cell_type": "code",
      "source": [
        "model.evaluate(X_test_scaled, y_test)"
      ],
      "execution_count": 90,
      "outputs": [
        {
          "output_type": "stream",
          "text": [
            "5160/5160 [==============================] - 0s 25us/sample - loss: 0.4786\n"
          ],
          "name": "stdout"
        },
        {
          "output_type": "execute_result",
          "data": {
            "text/plain": [
              "0.4785669109618017"
            ]
          },
          "metadata": {
            "tags": []
          },
          "execution_count": 90
        }
      ]
    },
    {
      "metadata": {
        "id": "aW0krivsRPVj",
        "colab_type": "code",
        "colab": {
          "base_uri": "https://localhost:8080/",
          "height": 131
        },
        "outputId": "1657492d-8f8e-47b0-dede-e1f49f7216f6"
      },
      "cell_type": "code",
      "source": [
        "model.predict(X_test_scaled)"
      ],
      "execution_count": 91,
      "outputs": [
        {
          "output_type": "execute_result",
          "data": {
            "text/plain": [
              "array([[0.6162932],\n",
              "       [1.400727 ],\n",
              "       [2.9422164],\n",
              "       ...,\n",
              "       [1.4964975],\n",
              "       [2.4508696],\n",
              "       [3.7177792]], dtype=float32)"
            ]
          },
          "metadata": {
            "tags": []
          },
          "execution_count": 91
        }
      ]
    },
    {
      "metadata": {
        "id": "bG44K4tIRPVk",
        "colab_type": "text"
      },
      "cell_type": "markdown",
      "source": [
        "### 7.3)\n",
        "Now suppose you want to send only features 0 to 4 directly to the output, and only features 2 to 7 through the hidden layers, as shown on the diagram. Use the functional API to build, train and evaluate this model."
      ]
    },
    {
      "metadata": {
        "id": "kDQuTRF4RPVk",
        "colab_type": "code",
        "colab": {}
      },
      "cell_type": "code",
      "source": [
        "input_A = keras.layers.Input(shape=[5])\n",
        "input_B = keras.layers.Input(shape=[6])"
      ],
      "execution_count": 0,
      "outputs": []
    },
    {
      "metadata": {
        "id": "myaasXV9RPVk",
        "colab_type": "code",
        "colab": {}
      },
      "cell_type": "code",
      "source": [
        "hidden1 = keras.layers.Dense(30, activation=\"relu\")(input_B)\n",
        "hidden2 = keras.layers.Dense(30, activation=\"relu\")(hidden1)\n",
        "concat = keras.layers.concatenate([input_A, hidden2])\n",
        "output = keras.layers.Dense(1)(concat)"
      ],
      "execution_count": 0,
      "outputs": []
    },
    {
      "metadata": {
        "id": "LVyxD7c6RPVk",
        "colab_type": "code",
        "colab": {}
      },
      "cell_type": "code",
      "source": [
        "model = keras.models.Model(inputs=[input_A, input_B], outputs=[output])"
      ],
      "execution_count": 0,
      "outputs": []
    },
    {
      "metadata": {
        "id": "MeYx3KvTRPVl",
        "colab_type": "code",
        "colab": {}
      },
      "cell_type": "code",
      "source": [
        "model.compile(loss=\"mean_squared_error\", optimizer=\"sgd\")"
      ],
      "execution_count": 0,
      "outputs": []
    },
    {
      "metadata": {
        "id": "tgCc0CQ2RPVl",
        "colab_type": "code",
        "colab": {
          "base_uri": "https://localhost:8080/",
          "height": 358
        },
        "outputId": "89d654c3-240c-4dad-a431-227328e8623d"
      },
      "cell_type": "code",
      "source": [
        "model.summary()"
      ],
      "execution_count": 96,
      "outputs": [
        {
          "output_type": "stream",
          "text": [
            "Model: \"model_1\"\n",
            "__________________________________________________________________________________________________\n",
            "Layer (type)                    Output Shape         Param #     Connected to                     \n",
            "==================================================================================================\n",
            "input_3 (InputLayer)            [(None, 6)]          0                                            \n",
            "__________________________________________________________________________________________________\n",
            "dense_165 (Dense)               (None, 30)           210         input_3[0][0]                    \n",
            "__________________________________________________________________________________________________\n",
            "input_2 (InputLayer)            [(None, 5)]          0                                            \n",
            "__________________________________________________________________________________________________\n",
            "dense_166 (Dense)               (None, 30)           930         dense_165[0][0]                  \n",
            "__________________________________________________________________________________________________\n",
            "concatenate_1 (Concatenate)     (None, 35)           0           input_2[0][0]                    \n",
            "                                                                 dense_166[0][0]                  \n",
            "__________________________________________________________________________________________________\n",
            "dense_167 (Dense)               (None, 1)            36          concatenate_1[0][0]              \n",
            "==================================================================================================\n",
            "Total params: 1,176\n",
            "Trainable params: 1,176\n",
            "Non-trainable params: 0\n",
            "__________________________________________________________________________________________________\n"
          ],
          "name": "stdout"
        }
      ]
    },
    {
      "metadata": {
        "id": "bj_xVOJ3RPVm",
        "colab_type": "code",
        "colab": {}
      },
      "cell_type": "code",
      "source": [
        "X_train_scaled_A = X_train_scaled[:, :5]\n",
        "X_train_scaled_B = X_train_scaled[:, 2:]\n",
        "X_valid_scaled_A = X_valid_scaled[:, :5]\n",
        "X_valid_scaled_B = X_valid_scaled[:, 2:]\n",
        "X_test_scaled_A = X_test_scaled[:, :5]\n",
        "X_test_scaled_B = X_test_scaled[:, 2:]"
      ],
      "execution_count": 0,
      "outputs": []
    },
    {
      "metadata": {
        "id": "ptp5IsGKRPVo",
        "colab_type": "code",
        "colab": {
          "base_uri": "https://localhost:8080/",
          "height": 358
        },
        "outputId": "5cc817f0-2ce8-4e31-b99b-5e055f3655b3"
      },
      "cell_type": "code",
      "source": [
        "history = model.fit([X_train_scaled_A, X_train_scaled_B], y_train, epochs=10,\n",
        "                    validation_data=([X_valid_scaled_A, X_valid_scaled_B], y_valid))"
      ],
      "execution_count": 98,
      "outputs": [
        {
          "output_type": "stream",
          "text": [
            "Train on 11610 samples, validate on 3870 samples\n",
            "Epoch 1/10\n",
            "11610/11610 [==============================] - 1s 69us/sample - loss: 2.0103 - val_loss: 11.4812\n",
            "Epoch 2/10\n",
            "11610/11610 [==============================] - 1s 52us/sample - loss: 0.8658 - val_loss: 2.4738\n",
            "Epoch 3/10\n",
            "11610/11610 [==============================] - 1s 51us/sample - loss: 0.7285 - val_loss: 0.7231\n",
            "Epoch 4/10\n",
            "11610/11610 [==============================] - 1s 48us/sample - loss: 0.6551 - val_loss: 0.6059\n",
            "Epoch 5/10\n",
            "11610/11610 [==============================] - 1s 49us/sample - loss: 0.6102 - val_loss: 0.6245\n",
            "Epoch 6/10\n",
            "11610/11610 [==============================] - 1s 49us/sample - loss: 0.5770 - val_loss: 0.5621\n",
            "Epoch 7/10\n",
            "11610/11610 [==============================] - 1s 49us/sample - loss: 0.5501 - val_loss: 0.5486\n",
            "Epoch 8/10\n",
            "11610/11610 [==============================] - 1s 51us/sample - loss: 0.5292 - val_loss: 0.4910\n",
            "Epoch 9/10\n",
            "11610/11610 [==============================] - 1s 48us/sample - loss: 0.5117 - val_loss: 0.4889\n",
            "Epoch 10/10\n",
            "11610/11610 [==============================] - 1s 49us/sample - loss: 0.4985 - val_loss: 0.4552\n"
          ],
          "name": "stdout"
        }
      ]
    },
    {
      "metadata": {
        "id": "X226h84dRPVq",
        "colab_type": "code",
        "colab": {
          "base_uri": "https://localhost:8080/",
          "height": 50
        },
        "outputId": "ef517171-ecea-4850-d1d6-4d9fc6803f12"
      },
      "cell_type": "code",
      "source": [
        "model.evaluate([X_test_scaled_A, X_test_scaled_B], y_test)"
      ],
      "execution_count": 99,
      "outputs": [
        {
          "output_type": "stream",
          "text": [
            "5160/5160 [==============================] - 0s 28us/sample - loss: 0.4844\n"
          ],
          "name": "stdout"
        },
        {
          "output_type": "execute_result",
          "data": {
            "text/plain": [
              "0.4844350025635357"
            ]
          },
          "metadata": {
            "tags": []
          },
          "execution_count": 99
        }
      ]
    },
    {
      "metadata": {
        "id": "wFviVXMQRPVq",
        "colab_type": "code",
        "colab": {
          "base_uri": "https://localhost:8080/",
          "height": 131
        },
        "outputId": "95df0b36-2b7c-4412-a61d-4400f6089741"
      },
      "cell_type": "code",
      "source": [
        "model.predict([X_test_scaled_A, X_test_scaled_B])"
      ],
      "execution_count": 100,
      "outputs": [
        {
          "output_type": "execute_result",
          "data": {
            "text/plain": [
              "array([[0.31621903],\n",
              "       [1.6015828 ],\n",
              "       [2.6473088 ],\n",
              "       ...,\n",
              "       [1.531363  ],\n",
              "       [2.5520012 ],\n",
              "       [3.5317016 ]], dtype=float32)"
            ]
          },
          "metadata": {
            "tags": []
          },
          "execution_count": 100
        }
      ]
    },
    {
      "metadata": {
        "id": "a_Ae7zSYRPVr",
        "colab_type": "text"
      },
      "cell_type": "markdown",
      "source": [
        "### 7.4)\n",
        "Build the multi-input and multi-output neural net represented in the diagram."
      ]
    },
    {
      "metadata": {
        "id": "84BBTxF8RPVr",
        "colab_type": "code",
        "colab": {}
      },
      "cell_type": "code",
      "source": [
        "input_A = keras.layers.Input(shape=X_train_scaled_A.shape[1:])\n",
        "input_B = keras.layers.Input(shape=X_train_scaled_B.shape[1:])\n",
        "hidden1 = keras.layers.Dense(30, activation=\"relu\")(input_B)\n",
        "hidden2 = keras.layers.Dense(30, activation=\"relu\")(hidden1)\n",
        "concat = keras.layers.concatenate([input_A, hidden2])\n",
        "output = keras.layers.Dense(1)(concat)\n",
        "aux_output = keras.layers.Dense(1)(hidden2)"
      ],
      "execution_count": 0,
      "outputs": []
    },
    {
      "metadata": {
        "id": "Pm07brixRPVr",
        "colab_type": "code",
        "colab": {}
      },
      "cell_type": "code",
      "source": [
        "model = keras.models.Model(inputs=[input_A, input_B],\n",
        "                           outputs=[output, aux_output])"
      ],
      "execution_count": 0,
      "outputs": []
    },
    {
      "metadata": {
        "id": "Z9CtxpeYRPVr",
        "colab_type": "code",
        "colab": {}
      },
      "cell_type": "code",
      "source": [
        "model.compile(loss=\"mean_squared_error\", loss_weights=[0.9, 0.1],\n",
        "              optimizer=\"sgd\")"
      ],
      "execution_count": 0,
      "outputs": []
    },
    {
      "metadata": {
        "id": "yUYgCgA8RPVs",
        "colab_type": "code",
        "colab": {
          "base_uri": "https://localhost:8080/",
          "height": 391
        },
        "outputId": "cc9aa3e7-98c9-4a5e-fadb-cf4584f5acd3"
      },
      "cell_type": "code",
      "source": [
        "model.summary()"
      ],
      "execution_count": 104,
      "outputs": [
        {
          "output_type": "stream",
          "text": [
            "Model: \"model_2\"\n",
            "__________________________________________________________________________________________________\n",
            "Layer (type)                    Output Shape         Param #     Connected to                     \n",
            "==================================================================================================\n",
            "input_5 (InputLayer)            [(None, 6)]          0                                            \n",
            "__________________________________________________________________________________________________\n",
            "dense_168 (Dense)               (None, 30)           210         input_5[0][0]                    \n",
            "__________________________________________________________________________________________________\n",
            "input_4 (InputLayer)            [(None, 5)]          0                                            \n",
            "__________________________________________________________________________________________________\n",
            "dense_169 (Dense)               (None, 30)           930         dense_168[0][0]                  \n",
            "__________________________________________________________________________________________________\n",
            "concatenate_2 (Concatenate)     (None, 35)           0           input_4[0][0]                    \n",
            "                                                                 dense_169[0][0]                  \n",
            "__________________________________________________________________________________________________\n",
            "dense_170 (Dense)               (None, 1)            36          concatenate_2[0][0]              \n",
            "__________________________________________________________________________________________________\n",
            "dense_171 (Dense)               (None, 1)            31          dense_169[0][0]                  \n",
            "==================================================================================================\n",
            "Total params: 1,207\n",
            "Trainable params: 1,207\n",
            "Non-trainable params: 0\n",
            "__________________________________________________________________________________________________\n"
          ],
          "name": "stdout"
        }
      ]
    },
    {
      "metadata": {
        "id": "1pUh2SpMRPVs",
        "colab_type": "code",
        "colab": {
          "base_uri": "https://localhost:8080/",
          "height": 378
        },
        "outputId": "05466903-386f-4764-8e07-64fe5b9313fb"
      },
      "cell_type": "code",
      "source": [
        "history = model.fit([X_train_scaled_A, X_train_scaled_B], [y_train, y_train], epochs=10,\n",
        "                    validation_data=([X_valid_scaled_A, X_valid_scaled_B], [y_valid, y_valid]))"
      ],
      "execution_count": 105,
      "outputs": [
        {
          "output_type": "stream",
          "text": [
            "Train on 11610 samples, validate on 3870 samples\n",
            "Epoch 1/10\n",
            "11610/11610 [==============================] - 1s 84us/sample - loss: 2.8102 - dense_170_loss: 2.5132 - dense_171_loss: 5.4836 - val_loss: 1.7919 - val_dense_170_loss: 1.4671 - val_dense_171_loss: 4.7142\n",
            "Epoch 2/10\n",
            "11610/11610 [==============================] - 1s 69us/sample - loss: 1.1719 - dense_170_loss: 0.9336 - dense_171_loss: 3.3172 - val_loss: 1.0355 - val_dense_170_loss: 0.8526 - val_dense_171_loss: 2.6813\n",
            "Epoch 3/10\n",
            "11610/11610 [==============================] - 1s 59us/sample - loss: 0.8751 - dense_170_loss: 0.7239 - dense_171_loss: 2.2361 - val_loss: 0.7753 - val_dense_170_loss: 0.6500 - val_dense_171_loss: 1.9032\n",
            "Epoch 4/10\n",
            "11610/11610 [==============================] - 1s 56us/sample - loss: 0.7591 - dense_170_loss: 0.6480 - dense_171_loss: 1.7591 - val_loss: 0.6914 - val_dense_170_loss: 0.5927 - val_dense_171_loss: 1.5801\n",
            "Epoch 5/10\n",
            "11610/11610 [==============================] - 1s 62us/sample - loss: 0.6987 - dense_170_loss: 0.6054 - dense_171_loss: 1.5377 - val_loss: 0.6507 - val_dense_170_loss: 0.5628 - val_dense_171_loss: 1.4418\n",
            "Epoch 6/10\n",
            "11610/11610 [==============================] - 1s 64us/sample - loss: 0.6591 - dense_170_loss: 0.5741 - dense_171_loss: 1.4244 - val_loss: 0.6175 - val_dense_170_loss: 0.5347 - val_dense_171_loss: 1.3626\n",
            "Epoch 7/10\n",
            "11610/11610 [==============================] - 1s 65us/sample - loss: 0.6296 - dense_170_loss: 0.5490 - dense_171_loss: 1.3552 - val_loss: 0.5920 - val_dense_170_loss: 0.5122 - val_dense_171_loss: 1.3105\n",
            "Epoch 8/10\n",
            "11610/11610 [==============================] - 1s 64us/sample - loss: 0.6060 - dense_170_loss: 0.5282 - dense_171_loss: 1.3063 - val_loss: 0.5692 - val_dense_170_loss: 0.4911 - val_dense_171_loss: 1.2721\n",
            "Epoch 9/10\n",
            "11610/11610 [==============================] - 1s 65us/sample - loss: 0.5863 - dense_170_loss: 0.5110 - dense_171_loss: 1.2642 - val_loss: 0.5527 - val_dense_170_loss: 0.4755 - val_dense_171_loss: 1.2480\n",
            "Epoch 10/10\n",
            "11610/11610 [==============================] - 1s 64us/sample - loss: 0.5700 - dense_170_loss: 0.4967 - dense_171_loss: 1.2292 - val_loss: 0.5348 - val_dense_170_loss: 0.4584 - val_dense_171_loss: 1.2232\n"
          ],
          "name": "stdout"
        }
      ]
    },
    {
      "metadata": {
        "id": "QsFiB4p5RPVt",
        "colab_type": "code",
        "colab": {
          "base_uri": "https://localhost:8080/",
          "height": 70
        },
        "outputId": "8025b2c1-d9d5-494a-813f-f8e7d5423459"
      },
      "cell_type": "code",
      "source": [
        "model.evaluate([X_test_scaled_A, X_test_scaled_B], [y_test, y_test])"
      ],
      "execution_count": 106,
      "outputs": [
        {
          "output_type": "stream",
          "text": [
            "5160/5160 [==============================] - 0s 37us/sample - loss: 0.5567 - dense_170_loss: 0.4850 - dense_171_loss: 1.2019\n"
          ],
          "name": "stdout"
        },
        {
          "output_type": "execute_result",
          "data": {
            "text/plain": [
              "[0.5567135950391606, 0.48502448, 1.2019154]"
            ]
          },
          "metadata": {
            "tags": []
          },
          "execution_count": 106
        }
      ]
    },
    {
      "metadata": {
        "id": "NZWk56B9RPVu",
        "colab_type": "code",
        "colab": {}
      },
      "cell_type": "code",
      "source": [
        "y_pred, y_pred_aux = model.predict([X_test_scaled_A, X_test_scaled_B])"
      ],
      "execution_count": 0,
      "outputs": []
    },
    {
      "metadata": {
        "id": "13Bf_A41RPVu",
        "colab_type": "code",
        "colab": {
          "base_uri": "https://localhost:8080/",
          "height": 131
        },
        "outputId": "6caff8dd-450b-49e5-a044-f3d2f742881e"
      },
      "cell_type": "code",
      "source": [
        "y_pred"
      ],
      "execution_count": 108,
      "outputs": [
        {
          "output_type": "execute_result",
          "data": {
            "text/plain": [
              "array([[0.45073482],\n",
              "       [1.5798678 ],\n",
              "       [2.9344106 ],\n",
              "       ...,\n",
              "       [1.223527  ],\n",
              "       [2.6384761 ],\n",
              "       [3.49195   ]], dtype=float32)"
            ]
          },
          "metadata": {
            "tags": []
          },
          "execution_count": 108
        }
      ]
    },
    {
      "metadata": {
        "scrolled": true,
        "id": "YWFo4rJoRPVv",
        "colab_type": "code",
        "colab": {
          "base_uri": "https://localhost:8080/",
          "height": 131
        },
        "outputId": "dc157f42-3821-490a-96d4-cae1b20be0d3"
      },
      "cell_type": "code",
      "source": [
        "y_pred_aux"
      ],
      "execution_count": 109,
      "outputs": [
        {
          "output_type": "execute_result",
          "data": {
            "text/plain": [
              "array([[1.2922733],\n",
              "       [1.845499 ],\n",
              "       [2.4428554],\n",
              "       ...,\n",
              "       [1.6922522],\n",
              "       [1.7551965],\n",
              "       [2.0618   ]], dtype=float32)"
            ]
          },
          "metadata": {
            "tags": []
          },
          "execution_count": 109
        }
      ]
    },
    {
      "metadata": {
        "id": "t-ngJfrrRPVv",
        "colab_type": "text"
      },
      "cell_type": "markdown",
      "source": [
        "![Exercise](https://c1.staticflickr.com/9/8101/8553474140_c50cf08708_b.jpg)"
      ]
    },
    {
      "metadata": {
        "id": "-Mnbyys4RPVw",
        "colab_type": "text"
      },
      "cell_type": "markdown",
      "source": [
        "## Exercise 8 – Deep Nets"
      ]
    },
    {
      "metadata": {
        "id": "rhTEAF2jRPVw",
        "colab_type": "text"
      },
      "cell_type": "markdown",
      "source": [
        "Let's go back to Fashion MNIST and build deep nets to tackle it. We need to load it, split it and scale it."
      ]
    },
    {
      "metadata": {
        "id": "Blo-KYbVRPVw",
        "colab_type": "code",
        "colab": {}
      },
      "cell_type": "code",
      "source": [
        "fashion_mnist = keras.datasets.fashion_mnist\n",
        "(X_train_full, y_train_full), (X_test, y_test) = fashion_mnist.load_data()\n",
        "X_valid, X_train = X_train_full[:5000], X_train_full[5000:]\n",
        "y_valid, y_train = y_train_full[:5000], y_train_full[5000:]"
      ],
      "execution_count": 0,
      "outputs": []
    },
    {
      "metadata": {
        "id": "e69gCSVkRPVx",
        "colab_type": "code",
        "colab": {}
      },
      "cell_type": "code",
      "source": [
        "from sklearn.preprocessing import StandardScaler\n",
        "\n",
        "scaler = StandardScaler()\n",
        "X_train_scaled = scaler.fit_transform(X_train.astype(np.float32).reshape(-1, 1)).reshape(-1, 28, 28)\n",
        "X_valid_scaled = scaler.transform(X_valid.astype(np.float32).reshape(-1, 1)).reshape(-1, 28, 28)\n",
        "X_test_scaled = scaler.transform(X_test.astype(np.float32).reshape(-1, 1)).reshape(-1, 28, 28)"
      ],
      "execution_count": 0,
      "outputs": []
    },
    {
      "metadata": {
        "id": "0qIsJPchRPVz",
        "colab_type": "text"
      },
      "cell_type": "markdown",
      "source": [
        "### 8.1)\n",
        "Build a sequential model with 20 hidden dense layers, with 100 neurons each, using the ReLU activation function, plus the output layer (10 neurons, softmax activation function). Try to train it for 10 epochs on Fashion MNIST and plot the learning curves. Notice that progress is very slow."
      ]
    },
    {
      "metadata": {
        "id": "B_vAhZZ2RPVz",
        "colab_type": "code",
        "colab": {}
      },
      "cell_type": "code",
      "source": [
        ""
      ],
      "execution_count": 0,
      "outputs": []
    },
    {
      "metadata": {
        "id": "J8M8sj_oRPVz",
        "colab_type": "code",
        "colab": {}
      },
      "cell_type": "code",
      "source": [
        ""
      ],
      "execution_count": 0,
      "outputs": []
    },
    {
      "metadata": {
        "id": "GDR8HRl4RPVz",
        "colab_type": "code",
        "colab": {}
      },
      "cell_type": "code",
      "source": [
        ""
      ],
      "execution_count": 0,
      "outputs": []
    },
    {
      "metadata": {
        "id": "RnBYQTinRPV0",
        "colab_type": "text"
      },
      "cell_type": "markdown",
      "source": [
        "### 8.2)\n",
        "Update the model to add a `BatchNormalization` layer after every hidden layer. Notice that performance progresses much faster per epoch, although computations are much more intensive. Display the model summary and notice all the non-trainable parameters (the scale $\\gamma$ and offset $\\beta$ parameters)."
      ]
    },
    {
      "metadata": {
        "id": "dn1yyxJsRPV0",
        "colab_type": "code",
        "colab": {}
      },
      "cell_type": "code",
      "source": [
        ""
      ],
      "execution_count": 0,
      "outputs": []
    },
    {
      "metadata": {
        "id": "zzcekjZbRPV0",
        "colab_type": "code",
        "colab": {}
      },
      "cell_type": "code",
      "source": [
        ""
      ],
      "execution_count": 0,
      "outputs": []
    },
    {
      "metadata": {
        "id": "CwyzlYgCRPV0",
        "colab_type": "code",
        "colab": {}
      },
      "cell_type": "code",
      "source": [
        ""
      ],
      "execution_count": 0,
      "outputs": []
    },
    {
      "metadata": {
        "id": "05BPVXNSRPV1",
        "colab_type": "text"
      },
      "cell_type": "markdown",
      "source": [
        "### 8.3)\n",
        "Try moving the BN layers before the hidden layers' activation functions. Does this affect the model's performance?"
      ]
    },
    {
      "metadata": {
        "id": "P7cbh0FtRPV1",
        "colab_type": "code",
        "colab": {}
      },
      "cell_type": "code",
      "source": [
        ""
      ],
      "execution_count": 0,
      "outputs": []
    },
    {
      "metadata": {
        "id": "vDumW1CvRPV2",
        "colab_type": "code",
        "colab": {}
      },
      "cell_type": "code",
      "source": [
        ""
      ],
      "execution_count": 0,
      "outputs": []
    },
    {
      "metadata": {
        "id": "ypeM9PoMRPV2",
        "colab_type": "code",
        "colab": {}
      },
      "cell_type": "code",
      "source": [
        ""
      ],
      "execution_count": 0,
      "outputs": []
    },
    {
      "metadata": {
        "id": "9aXdqod3RPV3",
        "colab_type": "text"
      },
      "cell_type": "markdown",
      "source": [
        "### 8.4)\n",
        "Remove all the BN layers, and just use the SELU activation function instead (always use SELU with LeCun Normal weight initialization). Notice that you get better performance than with BN but training is much faster. Isn't it marvelous? :-)"
      ]
    },
    {
      "metadata": {
        "id": "aV4hsJyORPV3",
        "colab_type": "code",
        "colab": {}
      },
      "cell_type": "code",
      "source": [
        ""
      ],
      "execution_count": 0,
      "outputs": []
    },
    {
      "metadata": {
        "id": "bwhuUD_pRPV3",
        "colab_type": "code",
        "colab": {}
      },
      "cell_type": "code",
      "source": [
        ""
      ],
      "execution_count": 0,
      "outputs": []
    },
    {
      "metadata": {
        "id": "pJOdKHFORPV3",
        "colab_type": "code",
        "colab": {}
      },
      "cell_type": "code",
      "source": [
        ""
      ],
      "execution_count": 0,
      "outputs": []
    },
    {
      "metadata": {
        "id": "axwsQ3dPRPV4",
        "colab_type": "text"
      },
      "cell_type": "markdown",
      "source": [
        "### 8.5)\n",
        "Try training for 10 additional epochs, and notice that the model starts overfitting. Try adding a Dropout layer (with a 50% dropout rate) just before the output layer. Does it reduce overfitting? What about the final validation accuracy?\n",
        "\n",
        "**Warning**: you should not use regular Dropout, as it breaks the self-normalizing property of the SELU activation function. Instead, use AlphaDropout, which is designed to work with SELU."
      ]
    },
    {
      "metadata": {
        "id": "dy6CDuALRPV4",
        "colab_type": "code",
        "colab": {}
      },
      "cell_type": "code",
      "source": [
        ""
      ],
      "execution_count": 0,
      "outputs": []
    },
    {
      "metadata": {
        "id": "65ICtemsRPV5",
        "colab_type": "code",
        "colab": {}
      },
      "cell_type": "code",
      "source": [
        ""
      ],
      "execution_count": 0,
      "outputs": []
    },
    {
      "metadata": {
        "id": "hkZT5aeYRPV5",
        "colab_type": "code",
        "colab": {}
      },
      "cell_type": "code",
      "source": [
        ""
      ],
      "execution_count": 0,
      "outputs": []
    },
    {
      "metadata": {
        "id": "Vgb5Bzo5RPV6",
        "colab_type": "text"
      },
      "cell_type": "markdown",
      "source": [
        "![Exercise solution](https://camo.githubusercontent.com/250388fde3fac9135ead9471733ee28e049f7a37/68747470733a2f2f75706c6f61642e77696b696d656469612e6f72672f77696b6970656469612f636f6d6d6f6e732f302f30362f46696c6f735f736567756e646f5f6c6f676f5f253238666c69707065642532392e6a7067)"
      ]
    },
    {
      "metadata": {
        "id": "sNU-eAdlRPV6",
        "colab_type": "text"
      },
      "cell_type": "markdown",
      "source": [
        "## Exercise 8 – Solution"
      ]
    },
    {
      "metadata": {
        "id": "tu9qE9Q7RPV6",
        "colab_type": "text"
      },
      "cell_type": "markdown",
      "source": [
        "### 8.1)\n",
        "Build a sequential model with 20 hidden dense layers, with 100 neurons each, using the ReLU activation function, plus the output layer (10 neurons, softmax activation function). Try to train it for 10 epochs on Fashion MNIST and plot the learning curves. Notice that progress is very slow."
      ]
    },
    {
      "metadata": {
        "id": "sxiyq7Y1RPV6",
        "colab_type": "code",
        "colab": {
          "base_uri": "https://localhost:8080/",
          "height": 575
        },
        "outputId": "d5bacae2-9ec8-4028-bff6-b22a3f583de6"
      },
      "cell_type": "code",
      "source": [
        "model = keras.models.Sequential()\n",
        "model.add(keras.layers.Flatten(input_shape=[28, 28]))\n",
        "for _ in range(20):\n",
        "    model.add(keras.layers.Dense(100, activation=\"relu\"))\n",
        "model.add(keras.layers.Dense(10, activation=\"softmax\"))\n",
        "model.compile(loss=\"sparse_categorical_crossentropy\", optimizer=\"sgd\",\n",
        "              metrics=[\"accuracy\"])\n",
        "history = model.fit(X_train_scaled, y_train, epochs=10,\n",
        "                    validation_data=(X_valid_scaled, y_valid))\n",
        "plot_learning_curves(history)"
      ],
      "execution_count": 110,
      "outputs": [
        {
          "output_type": "error",
          "ename": "ValueError",
          "evalue": "ignored",
          "traceback": [
            "\u001b[0;31m---------------------------------------------------------------------------\u001b[0m",
            "\u001b[0;31mValueError\u001b[0m                                Traceback (most recent call last)",
            "\u001b[0;32m<ipython-input-110-a26a9a4847f7>\u001b[0m in \u001b[0;36m<module>\u001b[0;34m()\u001b[0m\n\u001b[1;32m      7\u001b[0m               metrics=[\"accuracy\"])\n\u001b[1;32m      8\u001b[0m history = model.fit(X_train_scaled, y_train, epochs=10,\n\u001b[0;32m----> 9\u001b[0;31m                     validation_data=(X_valid_scaled, y_valid))\n\u001b[0m\u001b[1;32m     10\u001b[0m \u001b[0mplot_learning_curves\u001b[0m\u001b[0;34m(\u001b[0m\u001b[0mhistory\u001b[0m\u001b[0;34m)\u001b[0m\u001b[0;34m\u001b[0m\u001b[0;34m\u001b[0m\u001b[0m\n",
            "\u001b[0;32m/usr/local/lib/python3.6/dist-packages/tensorflow/python/keras/engine/training.py\u001b[0m in \u001b[0;36mfit\u001b[0;34m(self, x, y, batch_size, epochs, verbose, callbacks, validation_split, validation_data, shuffle, class_weight, sample_weight, initial_epoch, steps_per_epoch, validation_steps, validation_freq, max_queue_size, workers, use_multiprocessing, **kwargs)\u001b[0m\n\u001b[1;32m    805\u001b[0m         \u001b[0msteps\u001b[0m\u001b[0;34m=\u001b[0m\u001b[0msteps_per_epoch\u001b[0m\u001b[0;34m,\u001b[0m\u001b[0;34m\u001b[0m\u001b[0;34m\u001b[0m\u001b[0m\n\u001b[1;32m    806\u001b[0m         \u001b[0mvalidation_split\u001b[0m\u001b[0;34m=\u001b[0m\u001b[0mvalidation_split\u001b[0m\u001b[0;34m,\u001b[0m\u001b[0;34m\u001b[0m\u001b[0;34m\u001b[0m\u001b[0m\n\u001b[0;32m--> 807\u001b[0;31m         shuffle=shuffle)\n\u001b[0m\u001b[1;32m    808\u001b[0m \u001b[0;34m\u001b[0m\u001b[0m\n\u001b[1;32m    809\u001b[0m     \u001b[0;31m# Prepare validation data.\u001b[0m\u001b[0;34m\u001b[0m\u001b[0;34m\u001b[0m\u001b[0;34m\u001b[0m\u001b[0m\n",
            "\u001b[0;32m/usr/local/lib/python3.6/dist-packages/tensorflow/python/keras/engine/training.py\u001b[0m in \u001b[0;36m_standardize_user_data\u001b[0;34m(self, x, y, sample_weight, class_weight, batch_size, check_steps, steps_name, steps, validation_split, shuffle, extract_tensors_from_dataset)\u001b[0m\n\u001b[1;32m   2509\u001b[0m           \u001b[0mfeed_input_shapes\u001b[0m\u001b[0;34m,\u001b[0m\u001b[0;34m\u001b[0m\u001b[0;34m\u001b[0m\u001b[0m\n\u001b[1;32m   2510\u001b[0m           \u001b[0mcheck_batch_axis\u001b[0m\u001b[0;34m=\u001b[0m\u001b[0;32mFalse\u001b[0m\u001b[0;34m,\u001b[0m  \u001b[0;31m# Don't enforce the batch size.\u001b[0m\u001b[0;34m\u001b[0m\u001b[0;34m\u001b[0m\u001b[0m\n\u001b[0;32m-> 2511\u001b[0;31m           exception_prefix='input')\n\u001b[0m\u001b[1;32m   2512\u001b[0m \u001b[0;34m\u001b[0m\u001b[0m\n\u001b[1;32m   2513\u001b[0m     \u001b[0;32mif\u001b[0m \u001b[0my\u001b[0m \u001b[0;32mis\u001b[0m \u001b[0;32mnot\u001b[0m \u001b[0;32mNone\u001b[0m\u001b[0;34m:\u001b[0m\u001b[0;34m\u001b[0m\u001b[0;34m\u001b[0m\u001b[0m\n",
            "\u001b[0;32m/usr/local/lib/python3.6/dist-packages/tensorflow/python/keras/engine/training_utils.py\u001b[0m in \u001b[0;36mstandardize_input_data\u001b[0;34m(data, names, shapes, check_batch_axis, exception_prefix)\u001b[0m\n\u001b[1;32m    337\u001b[0m                            \u001b[0;34m': expected '\u001b[0m \u001b[0;34m+\u001b[0m \u001b[0mnames\u001b[0m\u001b[0;34m[\u001b[0m\u001b[0mi\u001b[0m\u001b[0;34m]\u001b[0m \u001b[0;34m+\u001b[0m \u001b[0;34m' to have '\u001b[0m \u001b[0;34m+\u001b[0m\u001b[0;34m\u001b[0m\u001b[0;34m\u001b[0m\u001b[0m\n\u001b[1;32m    338\u001b[0m                            \u001b[0mstr\u001b[0m\u001b[0;34m(\u001b[0m\u001b[0mlen\u001b[0m\u001b[0;34m(\u001b[0m\u001b[0mshape\u001b[0m\u001b[0;34m)\u001b[0m\u001b[0;34m)\u001b[0m \u001b[0;34m+\u001b[0m \u001b[0;34m' dimensions, but got array '\u001b[0m\u001b[0;34m\u001b[0m\u001b[0;34m\u001b[0m\u001b[0m\n\u001b[0;32m--> 339\u001b[0;31m                            'with shape ' + str(data_shape))\n\u001b[0m\u001b[1;32m    340\u001b[0m         \u001b[0;32mif\u001b[0m \u001b[0;32mnot\u001b[0m \u001b[0mcheck_batch_axis\u001b[0m\u001b[0;34m:\u001b[0m\u001b[0;34m\u001b[0m\u001b[0;34m\u001b[0m\u001b[0m\n\u001b[1;32m    341\u001b[0m           \u001b[0mdata_shape\u001b[0m \u001b[0;34m=\u001b[0m \u001b[0mdata_shape\u001b[0m\u001b[0;34m[\u001b[0m\u001b[0;36m1\u001b[0m\u001b[0;34m:\u001b[0m\u001b[0;34m]\u001b[0m\u001b[0;34m\u001b[0m\u001b[0;34m\u001b[0m\u001b[0m\n",
            "\u001b[0;31mValueError\u001b[0m: Error when checking input: expected flatten_4_input to have 3 dimensions, but got array with shape (11610, 8)"
          ]
        }
      ]
    },
    {
      "metadata": {
        "id": "XIyRv0_zRPV6",
        "colab_type": "text"
      },
      "cell_type": "markdown",
      "source": [
        "### 8.2)\n",
        "Update the model to add a `BatchNormalization` layer after every hidden layer. Notice that performance progresses much faster per epoch, although computations are much more intensive. Display the model summary and notice all the non-trainable parameters (the scale $\\gamma$ and offset $\\beta$ parameters)."
      ]
    },
    {
      "metadata": {
        "id": "9wZ7mJgNRPV6",
        "colab_type": "code",
        "colab": {
          "base_uri": "https://localhost:8080/",
          "height": 575
        },
        "outputId": "85c00b48-2af6-434d-d3db-0f6bf90b9cf8"
      },
      "cell_type": "code",
      "source": [
        "model = keras.models.Sequential()\n",
        "model.add(keras.layers.Flatten(input_shape=[28, 28]))\n",
        "for _ in range(20):\n",
        "    model.add(keras.layers.Dense(100, activation=\"relu\"))\n",
        "    model.add(keras.layers.BatchNormalization())\n",
        "model.add(keras.layers.Dense(10, activation=\"softmax\"))\n",
        "model.compile(loss=\"sparse_categorical_crossentropy\", optimizer=\"sgd\",\n",
        "              metrics=[\"accuracy\"])\n",
        "history = model.fit(X_train_scaled, y_train, epochs=10,\n",
        "                    validation_data=(X_valid_scaled, y_valid))\n",
        "plot_learning_curves(history)"
      ],
      "execution_count": 111,
      "outputs": [
        {
          "output_type": "error",
          "ename": "ValueError",
          "evalue": "ignored",
          "traceback": [
            "\u001b[0;31m---------------------------------------------------------------------------\u001b[0m",
            "\u001b[0;31mValueError\u001b[0m                                Traceback (most recent call last)",
            "\u001b[0;32m<ipython-input-111-33ba80a387d4>\u001b[0m in \u001b[0;36m<module>\u001b[0;34m()\u001b[0m\n\u001b[1;32m      8\u001b[0m               metrics=[\"accuracy\"])\n\u001b[1;32m      9\u001b[0m history = model.fit(X_train_scaled, y_train, epochs=10,\n\u001b[0;32m---> 10\u001b[0;31m                     validation_data=(X_valid_scaled, y_valid))\n\u001b[0m\u001b[1;32m     11\u001b[0m \u001b[0mplot_learning_curves\u001b[0m\u001b[0;34m(\u001b[0m\u001b[0mhistory\u001b[0m\u001b[0;34m)\u001b[0m\u001b[0;34m\u001b[0m\u001b[0;34m\u001b[0m\u001b[0m\n",
            "\u001b[0;32m/usr/local/lib/python3.6/dist-packages/tensorflow/python/keras/engine/training.py\u001b[0m in \u001b[0;36mfit\u001b[0;34m(self, x, y, batch_size, epochs, verbose, callbacks, validation_split, validation_data, shuffle, class_weight, sample_weight, initial_epoch, steps_per_epoch, validation_steps, validation_freq, max_queue_size, workers, use_multiprocessing, **kwargs)\u001b[0m\n\u001b[1;32m    805\u001b[0m         \u001b[0msteps\u001b[0m\u001b[0;34m=\u001b[0m\u001b[0msteps_per_epoch\u001b[0m\u001b[0;34m,\u001b[0m\u001b[0;34m\u001b[0m\u001b[0;34m\u001b[0m\u001b[0m\n\u001b[1;32m    806\u001b[0m         \u001b[0mvalidation_split\u001b[0m\u001b[0;34m=\u001b[0m\u001b[0mvalidation_split\u001b[0m\u001b[0;34m,\u001b[0m\u001b[0;34m\u001b[0m\u001b[0;34m\u001b[0m\u001b[0m\n\u001b[0;32m--> 807\u001b[0;31m         shuffle=shuffle)\n\u001b[0m\u001b[1;32m    808\u001b[0m \u001b[0;34m\u001b[0m\u001b[0m\n\u001b[1;32m    809\u001b[0m     \u001b[0;31m# Prepare validation data.\u001b[0m\u001b[0;34m\u001b[0m\u001b[0;34m\u001b[0m\u001b[0;34m\u001b[0m\u001b[0m\n",
            "\u001b[0;32m/usr/local/lib/python3.6/dist-packages/tensorflow/python/keras/engine/training.py\u001b[0m in \u001b[0;36m_standardize_user_data\u001b[0;34m(self, x, y, sample_weight, class_weight, batch_size, check_steps, steps_name, steps, validation_split, shuffle, extract_tensors_from_dataset)\u001b[0m\n\u001b[1;32m   2509\u001b[0m           \u001b[0mfeed_input_shapes\u001b[0m\u001b[0;34m,\u001b[0m\u001b[0;34m\u001b[0m\u001b[0;34m\u001b[0m\u001b[0m\n\u001b[1;32m   2510\u001b[0m           \u001b[0mcheck_batch_axis\u001b[0m\u001b[0;34m=\u001b[0m\u001b[0;32mFalse\u001b[0m\u001b[0;34m,\u001b[0m  \u001b[0;31m# Don't enforce the batch size.\u001b[0m\u001b[0;34m\u001b[0m\u001b[0;34m\u001b[0m\u001b[0m\n\u001b[0;32m-> 2511\u001b[0;31m           exception_prefix='input')\n\u001b[0m\u001b[1;32m   2512\u001b[0m \u001b[0;34m\u001b[0m\u001b[0m\n\u001b[1;32m   2513\u001b[0m     \u001b[0;32mif\u001b[0m \u001b[0my\u001b[0m \u001b[0;32mis\u001b[0m \u001b[0;32mnot\u001b[0m \u001b[0;32mNone\u001b[0m\u001b[0;34m:\u001b[0m\u001b[0;34m\u001b[0m\u001b[0;34m\u001b[0m\u001b[0m\n",
            "\u001b[0;32m/usr/local/lib/python3.6/dist-packages/tensorflow/python/keras/engine/training_utils.py\u001b[0m in \u001b[0;36mstandardize_input_data\u001b[0;34m(data, names, shapes, check_batch_axis, exception_prefix)\u001b[0m\n\u001b[1;32m    337\u001b[0m                            \u001b[0;34m': expected '\u001b[0m \u001b[0;34m+\u001b[0m \u001b[0mnames\u001b[0m\u001b[0;34m[\u001b[0m\u001b[0mi\u001b[0m\u001b[0;34m]\u001b[0m \u001b[0;34m+\u001b[0m \u001b[0;34m' to have '\u001b[0m \u001b[0;34m+\u001b[0m\u001b[0;34m\u001b[0m\u001b[0;34m\u001b[0m\u001b[0m\n\u001b[1;32m    338\u001b[0m                            \u001b[0mstr\u001b[0m\u001b[0;34m(\u001b[0m\u001b[0mlen\u001b[0m\u001b[0;34m(\u001b[0m\u001b[0mshape\u001b[0m\u001b[0;34m)\u001b[0m\u001b[0;34m)\u001b[0m \u001b[0;34m+\u001b[0m \u001b[0;34m' dimensions, but got array '\u001b[0m\u001b[0;34m\u001b[0m\u001b[0;34m\u001b[0m\u001b[0m\n\u001b[0;32m--> 339\u001b[0;31m                            'with shape ' + str(data_shape))\n\u001b[0m\u001b[1;32m    340\u001b[0m         \u001b[0;32mif\u001b[0m \u001b[0;32mnot\u001b[0m \u001b[0mcheck_batch_axis\u001b[0m\u001b[0;34m:\u001b[0m\u001b[0;34m\u001b[0m\u001b[0;34m\u001b[0m\u001b[0m\n\u001b[1;32m    341\u001b[0m           \u001b[0mdata_shape\u001b[0m \u001b[0;34m=\u001b[0m \u001b[0mdata_shape\u001b[0m\u001b[0;34m[\u001b[0m\u001b[0;36m1\u001b[0m\u001b[0;34m:\u001b[0m\u001b[0;34m]\u001b[0m\u001b[0;34m\u001b[0m\u001b[0;34m\u001b[0m\u001b[0m\n",
            "\u001b[0;31mValueError\u001b[0m: Error when checking input: expected flatten_5_input to have 3 dimensions, but got array with shape (11610, 8)"
          ]
        }
      ]
    },
    {
      "metadata": {
        "id": "zGm7KSSeRPV7",
        "colab_type": "code",
        "colab": {
          "base_uri": "https://localhost:8080/",
          "height": 1512
        },
        "outputId": "405e3514-8aa8-41a5-f494-6fb0a03421f0"
      },
      "cell_type": "code",
      "source": [
        "model.summary()"
      ],
      "execution_count": 112,
      "outputs": [
        {
          "output_type": "stream",
          "text": [
            "Model: \"sequential_50\"\n",
            "_________________________________________________________________\n",
            "Layer (type)                 Output Shape              Param #   \n",
            "=================================================================\n",
            "flatten_5 (Flatten)          (None, 784)               0         \n",
            "_________________________________________________________________\n",
            "dense_193 (Dense)            (None, 100)               78500     \n",
            "_________________________________________________________________\n",
            "batch_normalization_v2 (Batc (None, 100)               400       \n",
            "_________________________________________________________________\n",
            "dense_194 (Dense)            (None, 100)               10100     \n",
            "_________________________________________________________________\n",
            "batch_normalization_v2_1 (Ba (None, 100)               400       \n",
            "_________________________________________________________________\n",
            "dense_195 (Dense)            (None, 100)               10100     \n",
            "_________________________________________________________________\n",
            "batch_normalization_v2_2 (Ba (None, 100)               400       \n",
            "_________________________________________________________________\n",
            "dense_196 (Dense)            (None, 100)               10100     \n",
            "_________________________________________________________________\n",
            "batch_normalization_v2_3 (Ba (None, 100)               400       \n",
            "_________________________________________________________________\n",
            "dense_197 (Dense)            (None, 100)               10100     \n",
            "_________________________________________________________________\n",
            "batch_normalization_v2_4 (Ba (None, 100)               400       \n",
            "_________________________________________________________________\n",
            "dense_198 (Dense)            (None, 100)               10100     \n",
            "_________________________________________________________________\n",
            "batch_normalization_v2_5 (Ba (None, 100)               400       \n",
            "_________________________________________________________________\n",
            "dense_199 (Dense)            (None, 100)               10100     \n",
            "_________________________________________________________________\n",
            "batch_normalization_v2_6 (Ba (None, 100)               400       \n",
            "_________________________________________________________________\n",
            "dense_200 (Dense)            (None, 100)               10100     \n",
            "_________________________________________________________________\n",
            "batch_normalization_v2_7 (Ba (None, 100)               400       \n",
            "_________________________________________________________________\n",
            "dense_201 (Dense)            (None, 100)               10100     \n",
            "_________________________________________________________________\n",
            "batch_normalization_v2_8 (Ba (None, 100)               400       \n",
            "_________________________________________________________________\n",
            "dense_202 (Dense)            (None, 100)               10100     \n",
            "_________________________________________________________________\n",
            "batch_normalization_v2_9 (Ba (None, 100)               400       \n",
            "_________________________________________________________________\n",
            "dense_203 (Dense)            (None, 100)               10100     \n",
            "_________________________________________________________________\n",
            "batch_normalization_v2_10 (B (None, 100)               400       \n",
            "_________________________________________________________________\n",
            "dense_204 (Dense)            (None, 100)               10100     \n",
            "_________________________________________________________________\n",
            "batch_normalization_v2_11 (B (None, 100)               400       \n",
            "_________________________________________________________________\n",
            "dense_205 (Dense)            (None, 100)               10100     \n",
            "_________________________________________________________________\n",
            "batch_normalization_v2_12 (B (None, 100)               400       \n",
            "_________________________________________________________________\n",
            "dense_206 (Dense)            (None, 100)               10100     \n",
            "_________________________________________________________________\n",
            "batch_normalization_v2_13 (B (None, 100)               400       \n",
            "_________________________________________________________________\n",
            "dense_207 (Dense)            (None, 100)               10100     \n",
            "_________________________________________________________________\n",
            "batch_normalization_v2_14 (B (None, 100)               400       \n",
            "_________________________________________________________________\n",
            "dense_208 (Dense)            (None, 100)               10100     \n",
            "_________________________________________________________________\n",
            "batch_normalization_v2_15 (B (None, 100)               400       \n",
            "_________________________________________________________________\n",
            "dense_209 (Dense)            (None, 100)               10100     \n",
            "_________________________________________________________________\n",
            "batch_normalization_v2_16 (B (None, 100)               400       \n",
            "_________________________________________________________________\n",
            "dense_210 (Dense)            (None, 100)               10100     \n",
            "_________________________________________________________________\n",
            "batch_normalization_v2_17 (B (None, 100)               400       \n",
            "_________________________________________________________________\n",
            "dense_211 (Dense)            (None, 100)               10100     \n",
            "_________________________________________________________________\n",
            "batch_normalization_v2_18 (B (None, 100)               400       \n",
            "_________________________________________________________________\n",
            "dense_212 (Dense)            (None, 100)               10100     \n",
            "_________________________________________________________________\n",
            "batch_normalization_v2_19 (B (None, 100)               400       \n",
            "_________________________________________________________________\n",
            "dense_213 (Dense)            (None, 10)                1010      \n",
            "=================================================================\n",
            "Total params: 279,410\n",
            "Trainable params: 275,410\n",
            "Non-trainable params: 4,000\n",
            "_________________________________________________________________\n"
          ],
          "name": "stdout"
        }
      ]
    },
    {
      "metadata": {
        "id": "8excpNofRPV7",
        "colab_type": "text"
      },
      "cell_type": "markdown",
      "source": [
        "### 8.3)\n",
        "Try moving the BN layers before the hidden layers' activation functions. Does this affect the model's performance?"
      ]
    },
    {
      "metadata": {
        "id": "RakvXiIaRPV7",
        "colab_type": "code",
        "colab": {
          "base_uri": "https://localhost:8080/",
          "height": 575
        },
        "outputId": "ea4c0e37-0d31-4fa5-8ecf-986af71abbfd"
      },
      "cell_type": "code",
      "source": [
        "model = keras.models.Sequential()\n",
        "model.add(keras.layers.Flatten(input_shape=[28, 28]))\n",
        "for _ in range(20):\n",
        "    model.add(keras.layers.Dense(100))\n",
        "    model.add(keras.layers.BatchNormalization())\n",
        "    model.add(keras.layers.Activation(\"relu\"))\n",
        "model.add(keras.layers.Dense(10, activation=\"softmax\"))\n",
        "model.compile(loss=\"sparse_categorical_crossentropy\", optimizer=\"sgd\",\n",
        "              metrics=[\"accuracy\"])\n",
        "history = model.fit(X_train_scaled, y_train, epochs=10,\n",
        "                    validation_data=(X_valid_scaled, y_valid))\n",
        "plot_learning_curves(history)"
      ],
      "execution_count": 113,
      "outputs": [
        {
          "output_type": "error",
          "ename": "ValueError",
          "evalue": "ignored",
          "traceback": [
            "\u001b[0;31m---------------------------------------------------------------------------\u001b[0m",
            "\u001b[0;31mValueError\u001b[0m                                Traceback (most recent call last)",
            "\u001b[0;32m<ipython-input-113-12d3a4207889>\u001b[0m in \u001b[0;36m<module>\u001b[0;34m()\u001b[0m\n\u001b[1;32m      9\u001b[0m               metrics=[\"accuracy\"])\n\u001b[1;32m     10\u001b[0m history = model.fit(X_train_scaled, y_train, epochs=10,\n\u001b[0;32m---> 11\u001b[0;31m                     validation_data=(X_valid_scaled, y_valid))\n\u001b[0m\u001b[1;32m     12\u001b[0m \u001b[0mplot_learning_curves\u001b[0m\u001b[0;34m(\u001b[0m\u001b[0mhistory\u001b[0m\u001b[0;34m)\u001b[0m\u001b[0;34m\u001b[0m\u001b[0;34m\u001b[0m\u001b[0m\n",
            "\u001b[0;32m/usr/local/lib/python3.6/dist-packages/tensorflow/python/keras/engine/training.py\u001b[0m in \u001b[0;36mfit\u001b[0;34m(self, x, y, batch_size, epochs, verbose, callbacks, validation_split, validation_data, shuffle, class_weight, sample_weight, initial_epoch, steps_per_epoch, validation_steps, validation_freq, max_queue_size, workers, use_multiprocessing, **kwargs)\u001b[0m\n\u001b[1;32m    805\u001b[0m         \u001b[0msteps\u001b[0m\u001b[0;34m=\u001b[0m\u001b[0msteps_per_epoch\u001b[0m\u001b[0;34m,\u001b[0m\u001b[0;34m\u001b[0m\u001b[0;34m\u001b[0m\u001b[0m\n\u001b[1;32m    806\u001b[0m         \u001b[0mvalidation_split\u001b[0m\u001b[0;34m=\u001b[0m\u001b[0mvalidation_split\u001b[0m\u001b[0;34m,\u001b[0m\u001b[0;34m\u001b[0m\u001b[0;34m\u001b[0m\u001b[0m\n\u001b[0;32m--> 807\u001b[0;31m         shuffle=shuffle)\n\u001b[0m\u001b[1;32m    808\u001b[0m \u001b[0;34m\u001b[0m\u001b[0m\n\u001b[1;32m    809\u001b[0m     \u001b[0;31m# Prepare validation data.\u001b[0m\u001b[0;34m\u001b[0m\u001b[0;34m\u001b[0m\u001b[0;34m\u001b[0m\u001b[0m\n",
            "\u001b[0;32m/usr/local/lib/python3.6/dist-packages/tensorflow/python/keras/engine/training.py\u001b[0m in \u001b[0;36m_standardize_user_data\u001b[0;34m(self, x, y, sample_weight, class_weight, batch_size, check_steps, steps_name, steps, validation_split, shuffle, extract_tensors_from_dataset)\u001b[0m\n\u001b[1;32m   2509\u001b[0m           \u001b[0mfeed_input_shapes\u001b[0m\u001b[0;34m,\u001b[0m\u001b[0;34m\u001b[0m\u001b[0;34m\u001b[0m\u001b[0m\n\u001b[1;32m   2510\u001b[0m           \u001b[0mcheck_batch_axis\u001b[0m\u001b[0;34m=\u001b[0m\u001b[0;32mFalse\u001b[0m\u001b[0;34m,\u001b[0m  \u001b[0;31m# Don't enforce the batch size.\u001b[0m\u001b[0;34m\u001b[0m\u001b[0;34m\u001b[0m\u001b[0m\n\u001b[0;32m-> 2511\u001b[0;31m           exception_prefix='input')\n\u001b[0m\u001b[1;32m   2512\u001b[0m \u001b[0;34m\u001b[0m\u001b[0m\n\u001b[1;32m   2513\u001b[0m     \u001b[0;32mif\u001b[0m \u001b[0my\u001b[0m \u001b[0;32mis\u001b[0m \u001b[0;32mnot\u001b[0m \u001b[0;32mNone\u001b[0m\u001b[0;34m:\u001b[0m\u001b[0;34m\u001b[0m\u001b[0;34m\u001b[0m\u001b[0m\n",
            "\u001b[0;32m/usr/local/lib/python3.6/dist-packages/tensorflow/python/keras/engine/training_utils.py\u001b[0m in \u001b[0;36mstandardize_input_data\u001b[0;34m(data, names, shapes, check_batch_axis, exception_prefix)\u001b[0m\n\u001b[1;32m    337\u001b[0m                            \u001b[0;34m': expected '\u001b[0m \u001b[0;34m+\u001b[0m \u001b[0mnames\u001b[0m\u001b[0;34m[\u001b[0m\u001b[0mi\u001b[0m\u001b[0;34m]\u001b[0m \u001b[0;34m+\u001b[0m \u001b[0;34m' to have '\u001b[0m \u001b[0;34m+\u001b[0m\u001b[0;34m\u001b[0m\u001b[0;34m\u001b[0m\u001b[0m\n\u001b[1;32m    338\u001b[0m                            \u001b[0mstr\u001b[0m\u001b[0;34m(\u001b[0m\u001b[0mlen\u001b[0m\u001b[0;34m(\u001b[0m\u001b[0mshape\u001b[0m\u001b[0;34m)\u001b[0m\u001b[0;34m)\u001b[0m \u001b[0;34m+\u001b[0m \u001b[0;34m' dimensions, but got array '\u001b[0m\u001b[0;34m\u001b[0m\u001b[0;34m\u001b[0m\u001b[0m\n\u001b[0;32m--> 339\u001b[0;31m                            'with shape ' + str(data_shape))\n\u001b[0m\u001b[1;32m    340\u001b[0m         \u001b[0;32mif\u001b[0m \u001b[0;32mnot\u001b[0m \u001b[0mcheck_batch_axis\u001b[0m\u001b[0;34m:\u001b[0m\u001b[0;34m\u001b[0m\u001b[0;34m\u001b[0m\u001b[0m\n\u001b[1;32m    341\u001b[0m           \u001b[0mdata_shape\u001b[0m \u001b[0;34m=\u001b[0m \u001b[0mdata_shape\u001b[0m\u001b[0;34m[\u001b[0m\u001b[0;36m1\u001b[0m\u001b[0;34m:\u001b[0m\u001b[0;34m]\u001b[0m\u001b[0;34m\u001b[0m\u001b[0;34m\u001b[0m\u001b[0m\n",
            "\u001b[0;31mValueError\u001b[0m: Error when checking input: expected flatten_6_input to have 3 dimensions, but got array with shape (11610, 8)"
          ]
        }
      ]
    },
    {
      "metadata": {
        "id": "aIVzBXYjRPV8",
        "colab_type": "text"
      },
      "cell_type": "markdown",
      "source": [
        "### 8.4)\n",
        "Remove all the BN layers, and just use the SELU activation function instead (always use SELU with LeCun Normal weight initialization). Notice that you get better performance than with BN but training is much faster. Isn't it marvelous? :-)"
      ]
    },
    {
      "metadata": {
        "id": "5_oeh7gvRPV8",
        "colab_type": "code",
        "colab": {
          "base_uri": "https://localhost:8080/",
          "height": 575
        },
        "outputId": "ea817544-8047-4382-a1aa-c843ce288874"
      },
      "cell_type": "code",
      "source": [
        "model = keras.models.Sequential()\n",
        "model.add(keras.layers.Flatten(input_shape=[28, 28]))\n",
        "for _ in range(20):\n",
        "    model.add(keras.layers.Dense(100, activation=\"selu\",\n",
        "                                 kernel_initializer=\"lecun_normal\"))\n",
        "model.add(keras.layers.Dense(10, activation=\"softmax\"))\n",
        "model.compile(loss=\"sparse_categorical_crossentropy\", optimizer=\"sgd\",\n",
        "              metrics=[\"accuracy\"])\n",
        "history = model.fit(X_train_scaled, y_train, epochs=10,\n",
        "                    validation_data=(X_valid_scaled, y_valid))\n",
        "plot_learning_curves(history)"
      ],
      "execution_count": 114,
      "outputs": [
        {
          "output_type": "error",
          "ename": "ValueError",
          "evalue": "ignored",
          "traceback": [
            "\u001b[0;31m---------------------------------------------------------------------------\u001b[0m",
            "\u001b[0;31mValueError\u001b[0m                                Traceback (most recent call last)",
            "\u001b[0;32m<ipython-input-114-a2181a0a8fc5>\u001b[0m in \u001b[0;36m<module>\u001b[0;34m()\u001b[0m\n\u001b[1;32m      8\u001b[0m               metrics=[\"accuracy\"])\n\u001b[1;32m      9\u001b[0m history = model.fit(X_train_scaled, y_train, epochs=10,\n\u001b[0;32m---> 10\u001b[0;31m                     validation_data=(X_valid_scaled, y_valid))\n\u001b[0m\u001b[1;32m     11\u001b[0m \u001b[0mplot_learning_curves\u001b[0m\u001b[0;34m(\u001b[0m\u001b[0mhistory\u001b[0m\u001b[0;34m)\u001b[0m\u001b[0;34m\u001b[0m\u001b[0;34m\u001b[0m\u001b[0m\n",
            "\u001b[0;32m/usr/local/lib/python3.6/dist-packages/tensorflow/python/keras/engine/training.py\u001b[0m in \u001b[0;36mfit\u001b[0;34m(self, x, y, batch_size, epochs, verbose, callbacks, validation_split, validation_data, shuffle, class_weight, sample_weight, initial_epoch, steps_per_epoch, validation_steps, validation_freq, max_queue_size, workers, use_multiprocessing, **kwargs)\u001b[0m\n\u001b[1;32m    805\u001b[0m         \u001b[0msteps\u001b[0m\u001b[0;34m=\u001b[0m\u001b[0msteps_per_epoch\u001b[0m\u001b[0;34m,\u001b[0m\u001b[0;34m\u001b[0m\u001b[0;34m\u001b[0m\u001b[0m\n\u001b[1;32m    806\u001b[0m         \u001b[0mvalidation_split\u001b[0m\u001b[0;34m=\u001b[0m\u001b[0mvalidation_split\u001b[0m\u001b[0;34m,\u001b[0m\u001b[0;34m\u001b[0m\u001b[0;34m\u001b[0m\u001b[0m\n\u001b[0;32m--> 807\u001b[0;31m         shuffle=shuffle)\n\u001b[0m\u001b[1;32m    808\u001b[0m \u001b[0;34m\u001b[0m\u001b[0m\n\u001b[1;32m    809\u001b[0m     \u001b[0;31m# Prepare validation data.\u001b[0m\u001b[0;34m\u001b[0m\u001b[0;34m\u001b[0m\u001b[0;34m\u001b[0m\u001b[0m\n",
            "\u001b[0;32m/usr/local/lib/python3.6/dist-packages/tensorflow/python/keras/engine/training.py\u001b[0m in \u001b[0;36m_standardize_user_data\u001b[0;34m(self, x, y, sample_weight, class_weight, batch_size, check_steps, steps_name, steps, validation_split, shuffle, extract_tensors_from_dataset)\u001b[0m\n\u001b[1;32m   2509\u001b[0m           \u001b[0mfeed_input_shapes\u001b[0m\u001b[0;34m,\u001b[0m\u001b[0;34m\u001b[0m\u001b[0;34m\u001b[0m\u001b[0m\n\u001b[1;32m   2510\u001b[0m           \u001b[0mcheck_batch_axis\u001b[0m\u001b[0;34m=\u001b[0m\u001b[0;32mFalse\u001b[0m\u001b[0;34m,\u001b[0m  \u001b[0;31m# Don't enforce the batch size.\u001b[0m\u001b[0;34m\u001b[0m\u001b[0;34m\u001b[0m\u001b[0m\n\u001b[0;32m-> 2511\u001b[0;31m           exception_prefix='input')\n\u001b[0m\u001b[1;32m   2512\u001b[0m \u001b[0;34m\u001b[0m\u001b[0m\n\u001b[1;32m   2513\u001b[0m     \u001b[0;32mif\u001b[0m \u001b[0my\u001b[0m \u001b[0;32mis\u001b[0m \u001b[0;32mnot\u001b[0m \u001b[0;32mNone\u001b[0m\u001b[0;34m:\u001b[0m\u001b[0;34m\u001b[0m\u001b[0;34m\u001b[0m\u001b[0m\n",
            "\u001b[0;32m/usr/local/lib/python3.6/dist-packages/tensorflow/python/keras/engine/training_utils.py\u001b[0m in \u001b[0;36mstandardize_input_data\u001b[0;34m(data, names, shapes, check_batch_axis, exception_prefix)\u001b[0m\n\u001b[1;32m    337\u001b[0m                            \u001b[0;34m': expected '\u001b[0m \u001b[0;34m+\u001b[0m \u001b[0mnames\u001b[0m\u001b[0;34m[\u001b[0m\u001b[0mi\u001b[0m\u001b[0;34m]\u001b[0m \u001b[0;34m+\u001b[0m \u001b[0;34m' to have '\u001b[0m \u001b[0;34m+\u001b[0m\u001b[0;34m\u001b[0m\u001b[0;34m\u001b[0m\u001b[0m\n\u001b[1;32m    338\u001b[0m                            \u001b[0mstr\u001b[0m\u001b[0;34m(\u001b[0m\u001b[0mlen\u001b[0m\u001b[0;34m(\u001b[0m\u001b[0mshape\u001b[0m\u001b[0;34m)\u001b[0m\u001b[0;34m)\u001b[0m \u001b[0;34m+\u001b[0m \u001b[0;34m' dimensions, but got array '\u001b[0m\u001b[0;34m\u001b[0m\u001b[0;34m\u001b[0m\u001b[0m\n\u001b[0;32m--> 339\u001b[0;31m                            'with shape ' + str(data_shape))\n\u001b[0m\u001b[1;32m    340\u001b[0m         \u001b[0;32mif\u001b[0m \u001b[0;32mnot\u001b[0m \u001b[0mcheck_batch_axis\u001b[0m\u001b[0;34m:\u001b[0m\u001b[0;34m\u001b[0m\u001b[0;34m\u001b[0m\u001b[0m\n\u001b[1;32m    341\u001b[0m           \u001b[0mdata_shape\u001b[0m \u001b[0;34m=\u001b[0m \u001b[0mdata_shape\u001b[0m\u001b[0;34m[\u001b[0m\u001b[0;36m1\u001b[0m\u001b[0;34m:\u001b[0m\u001b[0;34m]\u001b[0m\u001b[0;34m\u001b[0m\u001b[0;34m\u001b[0m\u001b[0m\n",
            "\u001b[0;31mValueError\u001b[0m: Error when checking input: expected flatten_7_input to have 3 dimensions, but got array with shape (11610, 8)"
          ]
        }
      ]
    },
    {
      "metadata": {
        "id": "5FvV9Un-RPV8",
        "colab_type": "text"
      },
      "cell_type": "markdown",
      "source": [
        "### 8.5)\n",
        "Try training for 10 additional epochs, and notice that the model starts overfitting. Try adding a Dropout layer (with a 50% dropout rate) just before the output layer. Does it reduce overfitting? What about the final validation accuracy?"
      ]
    },
    {
      "metadata": {
        "id": "HIaTJxItRPV9",
        "colab_type": "code",
        "colab": {
          "base_uri": "https://localhost:8080/",
          "height": 558
        },
        "outputId": "cac97d8e-d1d6-4538-b30a-f61b7c88623c"
      },
      "cell_type": "code",
      "source": [
        "history = model.fit(X_train_scaled, y_train, epochs=10,\n",
        "                    validation_data=(X_valid_scaled, y_valid))\n",
        "plot_learning_curves(history)"
      ],
      "execution_count": 115,
      "outputs": [
        {
          "output_type": "error",
          "ename": "ValueError",
          "evalue": "ignored",
          "traceback": [
            "\u001b[0;31m---------------------------------------------------------------------------\u001b[0m",
            "\u001b[0;31mValueError\u001b[0m                                Traceback (most recent call last)",
            "\u001b[0;32m<ipython-input-115-ff6a6cf5f26d>\u001b[0m in \u001b[0;36m<module>\u001b[0;34m()\u001b[0m\n\u001b[1;32m      1\u001b[0m history = model.fit(X_train_scaled, y_train, epochs=10,\n\u001b[0;32m----> 2\u001b[0;31m                     validation_data=(X_valid_scaled, y_valid))\n\u001b[0m\u001b[1;32m      3\u001b[0m \u001b[0mplot_learning_curves\u001b[0m\u001b[0;34m(\u001b[0m\u001b[0mhistory\u001b[0m\u001b[0;34m)\u001b[0m\u001b[0;34m\u001b[0m\u001b[0;34m\u001b[0m\u001b[0m\n",
            "\u001b[0;32m/usr/local/lib/python3.6/dist-packages/tensorflow/python/keras/engine/training.py\u001b[0m in \u001b[0;36mfit\u001b[0;34m(self, x, y, batch_size, epochs, verbose, callbacks, validation_split, validation_data, shuffle, class_weight, sample_weight, initial_epoch, steps_per_epoch, validation_steps, validation_freq, max_queue_size, workers, use_multiprocessing, **kwargs)\u001b[0m\n\u001b[1;32m    805\u001b[0m         \u001b[0msteps\u001b[0m\u001b[0;34m=\u001b[0m\u001b[0msteps_per_epoch\u001b[0m\u001b[0;34m,\u001b[0m\u001b[0;34m\u001b[0m\u001b[0;34m\u001b[0m\u001b[0m\n\u001b[1;32m    806\u001b[0m         \u001b[0mvalidation_split\u001b[0m\u001b[0;34m=\u001b[0m\u001b[0mvalidation_split\u001b[0m\u001b[0;34m,\u001b[0m\u001b[0;34m\u001b[0m\u001b[0;34m\u001b[0m\u001b[0m\n\u001b[0;32m--> 807\u001b[0;31m         shuffle=shuffle)\n\u001b[0m\u001b[1;32m    808\u001b[0m \u001b[0;34m\u001b[0m\u001b[0m\n\u001b[1;32m    809\u001b[0m     \u001b[0;31m# Prepare validation data.\u001b[0m\u001b[0;34m\u001b[0m\u001b[0;34m\u001b[0m\u001b[0;34m\u001b[0m\u001b[0m\n",
            "\u001b[0;32m/usr/local/lib/python3.6/dist-packages/tensorflow/python/keras/engine/training.py\u001b[0m in \u001b[0;36m_standardize_user_data\u001b[0;34m(self, x, y, sample_weight, class_weight, batch_size, check_steps, steps_name, steps, validation_split, shuffle, extract_tensors_from_dataset)\u001b[0m\n\u001b[1;32m   2509\u001b[0m           \u001b[0mfeed_input_shapes\u001b[0m\u001b[0;34m,\u001b[0m\u001b[0;34m\u001b[0m\u001b[0;34m\u001b[0m\u001b[0m\n\u001b[1;32m   2510\u001b[0m           \u001b[0mcheck_batch_axis\u001b[0m\u001b[0;34m=\u001b[0m\u001b[0;32mFalse\u001b[0m\u001b[0;34m,\u001b[0m  \u001b[0;31m# Don't enforce the batch size.\u001b[0m\u001b[0;34m\u001b[0m\u001b[0;34m\u001b[0m\u001b[0m\n\u001b[0;32m-> 2511\u001b[0;31m           exception_prefix='input')\n\u001b[0m\u001b[1;32m   2512\u001b[0m \u001b[0;34m\u001b[0m\u001b[0m\n\u001b[1;32m   2513\u001b[0m     \u001b[0;32mif\u001b[0m \u001b[0my\u001b[0m \u001b[0;32mis\u001b[0m \u001b[0;32mnot\u001b[0m \u001b[0;32mNone\u001b[0m\u001b[0;34m:\u001b[0m\u001b[0;34m\u001b[0m\u001b[0;34m\u001b[0m\u001b[0m\n",
            "\u001b[0;32m/usr/local/lib/python3.6/dist-packages/tensorflow/python/keras/engine/training_utils.py\u001b[0m in \u001b[0;36mstandardize_input_data\u001b[0;34m(data, names, shapes, check_batch_axis, exception_prefix)\u001b[0m\n\u001b[1;32m    337\u001b[0m                            \u001b[0;34m': expected '\u001b[0m \u001b[0;34m+\u001b[0m \u001b[0mnames\u001b[0m\u001b[0;34m[\u001b[0m\u001b[0mi\u001b[0m\u001b[0;34m]\u001b[0m \u001b[0;34m+\u001b[0m \u001b[0;34m' to have '\u001b[0m \u001b[0;34m+\u001b[0m\u001b[0;34m\u001b[0m\u001b[0;34m\u001b[0m\u001b[0m\n\u001b[1;32m    338\u001b[0m                            \u001b[0mstr\u001b[0m\u001b[0;34m(\u001b[0m\u001b[0mlen\u001b[0m\u001b[0;34m(\u001b[0m\u001b[0mshape\u001b[0m\u001b[0;34m)\u001b[0m\u001b[0;34m)\u001b[0m \u001b[0;34m+\u001b[0m \u001b[0;34m' dimensions, but got array '\u001b[0m\u001b[0;34m\u001b[0m\u001b[0;34m\u001b[0m\u001b[0m\n\u001b[0;32m--> 339\u001b[0;31m                            'with shape ' + str(data_shape))\n\u001b[0m\u001b[1;32m    340\u001b[0m         \u001b[0;32mif\u001b[0m \u001b[0;32mnot\u001b[0m \u001b[0mcheck_batch_axis\u001b[0m\u001b[0;34m:\u001b[0m\u001b[0;34m\u001b[0m\u001b[0;34m\u001b[0m\u001b[0m\n\u001b[1;32m    341\u001b[0m           \u001b[0mdata_shape\u001b[0m \u001b[0;34m=\u001b[0m \u001b[0mdata_shape\u001b[0m\u001b[0;34m[\u001b[0m\u001b[0;36m1\u001b[0m\u001b[0;34m:\u001b[0m\u001b[0;34m]\u001b[0m\u001b[0;34m\u001b[0m\u001b[0;34m\u001b[0m\u001b[0m\n",
            "\u001b[0;31mValueError\u001b[0m: Error when checking input: expected flatten_7_input to have 3 dimensions, but got array with shape (11610, 8)"
          ]
        }
      ]
    },
    {
      "metadata": {
        "id": "Ul9SW0pyRPV9",
        "colab_type": "code",
        "colab": {
          "base_uri": "https://localhost:8080/",
          "height": 575
        },
        "outputId": "7701ff2f-f2d1-46d3-ac2c-15186f5ab966"
      },
      "cell_type": "code",
      "source": [
        "model = keras.models.Sequential()\n",
        "model.add(keras.layers.Flatten(input_shape=[28, 28]))\n",
        "for _ in range(20):\n",
        "    model.add(keras.layers.Dense(100, activation=\"selu\",\n",
        "                                 kernel_initializer=\"lecun_normal\"))\n",
        "model.add(keras.layers.AlphaDropout(rate=0.5))\n",
        "model.add(keras.layers.Dense(10, activation=\"softmax\"))\n",
        "model.compile(loss=\"sparse_categorical_crossentropy\", optimizer=\"sgd\",\n",
        "              metrics=[\"accuracy\"])\n",
        "history = model.fit(X_train_scaled, y_train, epochs=20,\n",
        "                    validation_data=(X_valid_scaled, y_valid))\n",
        "plot_learning_curves(history)"
      ],
      "execution_count": 116,
      "outputs": [
        {
          "output_type": "error",
          "ename": "ValueError",
          "evalue": "ignored",
          "traceback": [
            "\u001b[0;31m---------------------------------------------------------------------------\u001b[0m",
            "\u001b[0;31mValueError\u001b[0m                                Traceback (most recent call last)",
            "\u001b[0;32m<ipython-input-116-d2cc78990886>\u001b[0m in \u001b[0;36m<module>\u001b[0;34m()\u001b[0m\n\u001b[1;32m      9\u001b[0m               metrics=[\"accuracy\"])\n\u001b[1;32m     10\u001b[0m history = model.fit(X_train_scaled, y_train, epochs=20,\n\u001b[0;32m---> 11\u001b[0;31m                     validation_data=(X_valid_scaled, y_valid))\n\u001b[0m\u001b[1;32m     12\u001b[0m \u001b[0mplot_learning_curves\u001b[0m\u001b[0;34m(\u001b[0m\u001b[0mhistory\u001b[0m\u001b[0;34m)\u001b[0m\u001b[0;34m\u001b[0m\u001b[0;34m\u001b[0m\u001b[0m\n",
            "\u001b[0;32m/usr/local/lib/python3.6/dist-packages/tensorflow/python/keras/engine/training.py\u001b[0m in \u001b[0;36mfit\u001b[0;34m(self, x, y, batch_size, epochs, verbose, callbacks, validation_split, validation_data, shuffle, class_weight, sample_weight, initial_epoch, steps_per_epoch, validation_steps, validation_freq, max_queue_size, workers, use_multiprocessing, **kwargs)\u001b[0m\n\u001b[1;32m    805\u001b[0m         \u001b[0msteps\u001b[0m\u001b[0;34m=\u001b[0m\u001b[0msteps_per_epoch\u001b[0m\u001b[0;34m,\u001b[0m\u001b[0;34m\u001b[0m\u001b[0;34m\u001b[0m\u001b[0m\n\u001b[1;32m    806\u001b[0m         \u001b[0mvalidation_split\u001b[0m\u001b[0;34m=\u001b[0m\u001b[0mvalidation_split\u001b[0m\u001b[0;34m,\u001b[0m\u001b[0;34m\u001b[0m\u001b[0;34m\u001b[0m\u001b[0m\n\u001b[0;32m--> 807\u001b[0;31m         shuffle=shuffle)\n\u001b[0m\u001b[1;32m    808\u001b[0m \u001b[0;34m\u001b[0m\u001b[0m\n\u001b[1;32m    809\u001b[0m     \u001b[0;31m# Prepare validation data.\u001b[0m\u001b[0;34m\u001b[0m\u001b[0;34m\u001b[0m\u001b[0;34m\u001b[0m\u001b[0m\n",
            "\u001b[0;32m/usr/local/lib/python3.6/dist-packages/tensorflow/python/keras/engine/training.py\u001b[0m in \u001b[0;36m_standardize_user_data\u001b[0;34m(self, x, y, sample_weight, class_weight, batch_size, check_steps, steps_name, steps, validation_split, shuffle, extract_tensors_from_dataset)\u001b[0m\n\u001b[1;32m   2509\u001b[0m           \u001b[0mfeed_input_shapes\u001b[0m\u001b[0;34m,\u001b[0m\u001b[0;34m\u001b[0m\u001b[0;34m\u001b[0m\u001b[0m\n\u001b[1;32m   2510\u001b[0m           \u001b[0mcheck_batch_axis\u001b[0m\u001b[0;34m=\u001b[0m\u001b[0;32mFalse\u001b[0m\u001b[0;34m,\u001b[0m  \u001b[0;31m# Don't enforce the batch size.\u001b[0m\u001b[0;34m\u001b[0m\u001b[0;34m\u001b[0m\u001b[0m\n\u001b[0;32m-> 2511\u001b[0;31m           exception_prefix='input')\n\u001b[0m\u001b[1;32m   2512\u001b[0m \u001b[0;34m\u001b[0m\u001b[0m\n\u001b[1;32m   2513\u001b[0m     \u001b[0;32mif\u001b[0m \u001b[0my\u001b[0m \u001b[0;32mis\u001b[0m \u001b[0;32mnot\u001b[0m \u001b[0;32mNone\u001b[0m\u001b[0;34m:\u001b[0m\u001b[0;34m\u001b[0m\u001b[0;34m\u001b[0m\u001b[0m\n",
            "\u001b[0;32m/usr/local/lib/python3.6/dist-packages/tensorflow/python/keras/engine/training_utils.py\u001b[0m in \u001b[0;36mstandardize_input_data\u001b[0;34m(data, names, shapes, check_batch_axis, exception_prefix)\u001b[0m\n\u001b[1;32m    337\u001b[0m                            \u001b[0;34m': expected '\u001b[0m \u001b[0;34m+\u001b[0m \u001b[0mnames\u001b[0m\u001b[0;34m[\u001b[0m\u001b[0mi\u001b[0m\u001b[0;34m]\u001b[0m \u001b[0;34m+\u001b[0m \u001b[0;34m' to have '\u001b[0m \u001b[0;34m+\u001b[0m\u001b[0;34m\u001b[0m\u001b[0;34m\u001b[0m\u001b[0m\n\u001b[1;32m    338\u001b[0m                            \u001b[0mstr\u001b[0m\u001b[0;34m(\u001b[0m\u001b[0mlen\u001b[0m\u001b[0;34m(\u001b[0m\u001b[0mshape\u001b[0m\u001b[0;34m)\u001b[0m\u001b[0;34m)\u001b[0m \u001b[0;34m+\u001b[0m \u001b[0;34m' dimensions, but got array '\u001b[0m\u001b[0;34m\u001b[0m\u001b[0;34m\u001b[0m\u001b[0m\n\u001b[0;32m--> 339\u001b[0;31m                            'with shape ' + str(data_shape))\n\u001b[0m\u001b[1;32m    340\u001b[0m         \u001b[0;32mif\u001b[0m \u001b[0;32mnot\u001b[0m \u001b[0mcheck_batch_axis\u001b[0m\u001b[0;34m:\u001b[0m\u001b[0;34m\u001b[0m\u001b[0;34m\u001b[0m\u001b[0m\n\u001b[1;32m    341\u001b[0m           \u001b[0mdata_shape\u001b[0m \u001b[0;34m=\u001b[0m \u001b[0mdata_shape\u001b[0m\u001b[0;34m[\u001b[0m\u001b[0;36m1\u001b[0m\u001b[0;34m:\u001b[0m\u001b[0;34m]\u001b[0m\u001b[0;34m\u001b[0m\u001b[0;34m\u001b[0m\u001b[0m\n",
            "\u001b[0;31mValueError\u001b[0m: Error when checking input: expected flatten_8_input to have 3 dimensions, but got array with shape (11610, 8)"
          ]
        }
      ]
    }
  ]
}